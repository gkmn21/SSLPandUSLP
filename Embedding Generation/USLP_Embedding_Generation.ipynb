{
  "cells": [
    {
      "cell_type": "code",
      "execution_count": null,
      "metadata": {
        "colab": {
          "base_uri": "https://localhost:8080/"
        },
        "id": "cBCAbrbROJBe",
        "outputId": "139d4a12-2bf8-4d3f-f0ff-4519ad6d7bfe"
      },
      "outputs": [
        {
          "name": "stdout",
          "output_type": "stream",
          "text": [
            "Looking in indexes: https://pypi.org/simple, https://us-python.pkg.dev/colab-wheels/public/simple/\n",
            "Collecting fasttext\n",
            "  Downloading fasttext-0.9.2.tar.gz (68 kB)\n",
            "\u001b[2K     \u001b[90m━━━━━━━━━━━━━━━━━━━━━━━━━━━━━━━━━━━━━━━━\u001b[0m \u001b[32m68.8/68.8 kB\u001b[0m \u001b[31m2.1 MB/s\u001b[0m eta \u001b[36m0:00:00\u001b[0m\n",
            "\u001b[?25h  Preparing metadata (setup.py) ... \u001b[?25l\u001b[?25hdone\n",
            "Collecting pybind11>=2.2\n",
            "  Using cached pybind11-2.10.4-py3-none-any.whl (222 kB)\n",
            "Requirement already satisfied: setuptools>=0.7.0 in /usr/local/lib/python3.9/dist-packages (from fasttext) (67.6.1)\n",
            "Requirement already satisfied: numpy in /usr/local/lib/python3.9/dist-packages (from fasttext) (1.22.4)\n",
            "Building wheels for collected packages: fasttext\n",
            "  Building wheel for fasttext (setup.py) ... \u001b[?25l\u001b[?25hdone\n",
            "  Created wheel for fasttext: filename=fasttext-0.9.2-cp39-cp39-linux_x86_64.whl size=4395504 sha256=af40d04285e3aef8d2cd6b24e3207dad08d17608faeb0c41bf08ab9a0a094305\n",
            "  Stored in directory: /root/.cache/pip/wheels/64/57/bc/1741406019061d5664914b070bd3e71f6244648732bc96109e\n",
            "Successfully built fasttext\n",
            "Installing collected packages: pybind11, fasttext\n",
            "Successfully installed fasttext-0.9.2 pybind11-2.10.4\n"
          ]
        }
      ],
      "source": [
        "!pip install fasttext"
      ]
    },
    {
      "cell_type": "code",
      "execution_count": null,
      "metadata": {
        "colab": {
          "base_uri": "https://localhost:8080/"
        },
        "id": "XYIW_57EZbtM",
        "outputId": "5b47b001-57c0-4efa-d854-b7ddccdaf5ee"
      },
      "outputs": [
        {
          "name": "stdout",
          "output_type": "stream",
          "text": [
            "Looking in indexes: https://pypi.org/simple, https://us-python.pkg.dev/colab-wheels/public/simple/\n",
            "Collecting haversine\n",
            "  Downloading haversine-2.8.0-py2.py3-none-any.whl (7.7 kB)\n",
            "Installing collected packages: haversine\n",
            "Successfully installed haversine-2.8.0\n"
          ]
        }
      ],
      "source": [
        "!pip install haversine"
      ]
    },
    {
      "cell_type": "code",
      "execution_count": null,
      "metadata": {
        "colab": {
          "base_uri": "https://localhost:8080/"
        },
        "id": "XzFZFCSLZVaO",
        "outputId": "e1a0b852-b7a7-438a-8743-ef0ec387b470"
      },
      "outputs": [
        {
          "name": "stdout",
          "output_type": "stream",
          "text": [
            "Looking in indexes: https://pypi.org/simple, https://us-python.pkg.dev/colab-wheels/public/simple/\n",
            "Collecting pygeohash\n",
            "  Downloading pygeohash-1.2.0.tar.gz (5.0 kB)\n",
            "  Preparing metadata (setup.py) ... \u001b[?25l\u001b[?25hdone\n",
            "Building wheels for collected packages: pygeohash\n",
            "  Building wheel for pygeohash (setup.py) ... \u001b[?25l\u001b[?25hdone\n",
            "  Created wheel for pygeohash: filename=pygeohash-1.2.0-py2.py3-none-any.whl size=6164 sha256=5ff3e745c1eb18b7c484ca401e5a284c08170f90d98214fe62ab0d7302aa0d60\n",
            "  Stored in directory: /root/.cache/pip/wheels/6e/e7/a2/4ea56930e1cc3ece852306b842f9ca71e0cd9482cb8b848e27\n",
            "Successfully built pygeohash\n",
            "Installing collected packages: pygeohash\n",
            "Successfully installed pygeohash-1.2.0\n"
          ]
        }
      ],
      "source": [
        "!pip install pygeohash"
      ]
    },
    {
      "cell_type": "code",
      "execution_count": null,
      "metadata": {
        "colab": {
          "base_uri": "https://localhost:8080/"
        },
        "id": "2l0fDSFqKO0g",
        "outputId": "2a3f45a9-fc1e-4b6b-ff54-078f08f11e6c"
      },
      "outputs": [
        {
          "name": "stdout",
          "output_type": "stream",
          "text": [
            "Looking in indexes: https://pypi.org/simple, https://us-python.pkg.dev/colab-wheels/public/simple/\n",
            "Collecting git+https://github.com/RDFLib/sparqlwrapper\n",
            "  Cloning https://github.com/RDFLib/sparqlwrapper to /tmp/pip-req-build-e7pfhfsh\n",
            "  Running command git clone --filter=blob:none --quiet https://github.com/RDFLib/sparqlwrapper /tmp/pip-req-build-e7pfhfsh\n",
            "  Resolved https://github.com/RDFLib/sparqlwrapper to commit 2a6e2d3ddbc3fe38ca47d6d05f23c9b61ff82366\n",
            "  Installing build dependencies ... \u001b[?25l\u001b[?25hdone\n",
            "  Getting requirements to build wheel ... \u001b[?25l\u001b[?25hdone\n",
            "  Preparing metadata (pyproject.toml) ... \u001b[?25l\u001b[?25hdone\n",
            "Collecting rdflib>=6.1.1\n",
            "  Downloading rdflib-6.3.2-py3-none-any.whl (528 kB)\n",
            "\u001b[2K     \u001b[90m━━━━━━━━━━━━━━━━━━━━━━━━━━━━━━━━━━━━━━━\u001b[0m \u001b[32m528.1/528.1 kB\u001b[0m \u001b[31m5.9 MB/s\u001b[0m eta \u001b[36m0:00:00\u001b[0m\n",
            "\u001b[?25hRequirement already satisfied: pyparsing<4,>=2.1.0 in /usr/local/lib/python3.9/dist-packages (from rdflib>=6.1.1->SPARQLWrapper==2.0.1a0) (3.0.9)\n",
            "Collecting isodate<0.7.0,>=0.6.0\n",
            "  Downloading isodate-0.6.1-py2.py3-none-any.whl (41 kB)\n",
            "\u001b[2K     \u001b[90m━━━━━━━━━━━━━━━━━━━━━━━━━━━━━━━━━━━━━━━━\u001b[0m \u001b[32m41.7/41.7 kB\u001b[0m \u001b[31m3.4 MB/s\u001b[0m eta \u001b[36m0:00:00\u001b[0m\n",
            "\u001b[?25hRequirement already satisfied: six in /usr/local/lib/python3.9/dist-packages (from isodate<0.7.0,>=0.6.0->rdflib>=6.1.1->SPARQLWrapper==2.0.1a0) (1.16.0)\n",
            "Building wheels for collected packages: SPARQLWrapper\n",
            "  Building wheel for SPARQLWrapper (pyproject.toml) ... \u001b[?25l\u001b[?25hdone\n",
            "  Created wheel for SPARQLWrapper: filename=SPARQLWrapper-2.0.1a0-py3-none-any.whl size=28648 sha256=8b3115e1467139cb649ec48b213ac2cc9c0a4942bada0dcb40a2370509010f63\n",
            "  Stored in directory: /tmp/pip-ephem-wheel-cache-vupyq8sh/wheels/64/db/31/75e25543c73b964f8882469c29b935f092182b765b6a0beb9f\n",
            "Successfully built SPARQLWrapper\n",
            "Installing collected packages: isodate, rdflib, SPARQLWrapper\n",
            "Successfully installed SPARQLWrapper-2.0.1a0 isodate-0.6.1 rdflib-6.3.2\n"
          ]
        }
      ],
      "source": [
        "!pip install git+https://github.com/RDFLib/sparqlwrapper"
      ]
    },
    {
      "cell_type": "code",
      "execution_count": null,
      "metadata": {
        "id": "6aRqTarN7jca"
      },
      "outputs": [],
      "source": [
        "import glob\n",
        "import os.path\n",
        "import re\n",
        "import csv\n",
        "\n",
        "\n",
        "import pandas as pd\n",
        "import numpy as np\n",
        "\n",
        "from urllib.error import HTTPError, URLError\n",
        "from SPARQLWrapper import SPARQLWrapper, JSON, POST, GET, POSTDIRECTLY, CSV\n",
        "\n",
        "from io import StringIO\n",
        "import math\n",
        "from tqdm import tqdm\n",
        "import time\n",
        "\n",
        "import sys\n",
        "import pickle\n",
        "\n",
        "import pygeohash as gh\n",
        "from haversine import haversine_vector, Unit\n",
        "import h5py\n",
        "import fasttext \n",
        "import fasttext.util\n",
        "import pdb\n",
        "from sklearn.model_selection import train_test_split"
      ]
    },
    {
      "attachments": {},
      "cell_type": "markdown",
      "metadata": {
        "id": "LRtvOM9HQ44c"
      },
      "source": [
        "## USLP Data Preparation"
      ]
    },
    {
      "cell_type": "code",
      "execution_count": null,
      "metadata": {
        "colab": {
          "base_uri": "https://localhost:8080/",
          "height": 424
        },
        "id": "CwXVN_xO982Y",
        "outputId": "fbc943ff-1437-43b5-cca8-da0a411ef2d0"
      },
      "outputs": [
        {
          "data": {
            "text/html": [
              "\n",
              "  <div id=\"df-dbee9241-c7f6-4388-9dbf-0066043df5d2\">\n",
              "    <div class=\"colab-df-container\">\n",
              "      <div>\n",
              "<style scoped>\n",
              "    .dataframe tbody tr th:only-of-type {\n",
              "        vertical-align: middle;\n",
              "    }\n",
              "\n",
              "    .dataframe tbody tr th {\n",
              "        vertical-align: top;\n",
              "    }\n",
              "\n",
              "    .dataframe thead th {\n",
              "        text-align: right;\n",
              "    }\n",
              "</style>\n",
              "<table border=\"1\" class=\"dataframe\">\n",
              "  <thead>\n",
              "    <tr style=\"text-align: right;\">\n",
              "      <th></th>\n",
              "      <th>subject</th>\n",
              "      <th>predicate</th>\n",
              "      <th>object</th>\n",
              "    </tr>\n",
              "  </thead>\n",
              "  <tbody>\n",
              "    <tr>\n",
              "      <th>0</th>\n",
              "      <td>wkg:4426850370</td>\n",
              "      <td>wkgs:isInCountry</td>\n",
              "      <td>wkg:424298311</td>\n",
              "    </tr>\n",
              "    <tr>\n",
              "      <th>1</th>\n",
              "      <td>wkg:3068656670</td>\n",
              "      <td>wkgs:isInCountry</td>\n",
              "      <td>wkg:424313730</td>\n",
              "    </tr>\n",
              "    <tr>\n",
              "      <th>2</th>\n",
              "      <td>wkg:630639045</td>\n",
              "      <td>wkgs:isInContinent</td>\n",
              "      <td>wkg:36966065</td>\n",
              "    </tr>\n",
              "    <tr>\n",
              "      <th>3</th>\n",
              "      <td>wkg:4426852196</td>\n",
              "      <td>wkgs:isInContinent</td>\n",
              "      <td>wkg:36966065</td>\n",
              "    </tr>\n",
              "    <tr>\n",
              "      <th>4</th>\n",
              "      <td>wkg:2000003612</td>\n",
              "      <td>wkgs:isInCountry</td>\n",
              "      <td>wkg:424298311</td>\n",
              "    </tr>\n",
              "    <tr>\n",
              "      <th>...</th>\n",
              "      <td>...</td>\n",
              "      <td>...</td>\n",
              "      <td>...</td>\n",
              "    </tr>\n",
              "    <tr>\n",
              "      <th>15926</th>\n",
              "      <td>wkg:274372610</td>\n",
              "      <td>wkgs:addrCountry</td>\n",
              "      <td>wkg:1683325355</td>\n",
              "    </tr>\n",
              "    <tr>\n",
              "      <th>15927</th>\n",
              "      <td>wkg:1254881907</td>\n",
              "      <td>wkgs:addrCountry</td>\n",
              "      <td>wkg:424314830</td>\n",
              "    </tr>\n",
              "    <tr>\n",
              "      <th>15928</th>\n",
              "      <td>wkg:1261054393</td>\n",
              "      <td>wkgs:addrCountry</td>\n",
              "      <td>wkg:424314830</td>\n",
              "    </tr>\n",
              "    <tr>\n",
              "      <th>15929</th>\n",
              "      <td>wkg:279000168</td>\n",
              "      <td>wkgs:addrCountry</td>\n",
              "      <td>wkg:6907263340</td>\n",
              "    </tr>\n",
              "    <tr>\n",
              "      <th>15930</th>\n",
              "      <td>wkg:2717412823</td>\n",
              "      <td>wkgs:addrCountry</td>\n",
              "      <td>wkg:6907263340</td>\n",
              "    </tr>\n",
              "  </tbody>\n",
              "</table>\n",
              "<p>15931 rows × 3 columns</p>\n",
              "</div>\n",
              "      <button class=\"colab-df-convert\" onclick=\"convertToInteractive('df-dbee9241-c7f6-4388-9dbf-0066043df5d2')\"\n",
              "              title=\"Convert this dataframe to an interactive table.\"\n",
              "              style=\"display:none;\">\n",
              "        \n",
              "  <svg xmlns=\"http://www.w3.org/2000/svg\" height=\"24px\"viewBox=\"0 0 24 24\"\n",
              "       width=\"24px\">\n",
              "    <path d=\"M0 0h24v24H0V0z\" fill=\"none\"/>\n",
              "    <path d=\"M18.56 5.44l.94 2.06.94-2.06 2.06-.94-2.06-.94-.94-2.06-.94 2.06-2.06.94zm-11 1L8.5 8.5l.94-2.06 2.06-.94-2.06-.94L8.5 2.5l-.94 2.06-2.06.94zm10 10l.94 2.06.94-2.06 2.06-.94-2.06-.94-.94-2.06-.94 2.06-2.06.94z\"/><path d=\"M17.41 7.96l-1.37-1.37c-.4-.4-.92-.59-1.43-.59-.52 0-1.04.2-1.43.59L10.3 9.45l-7.72 7.72c-.78.78-.78 2.05 0 2.83L4 21.41c.39.39.9.59 1.41.59.51 0 1.02-.2 1.41-.59l7.78-7.78 2.81-2.81c.8-.78.8-2.07 0-2.86zM5.41 20L4 18.59l7.72-7.72 1.47 1.35L5.41 20z\"/>\n",
              "  </svg>\n",
              "      </button>\n",
              "      \n",
              "  <style>\n",
              "    .colab-df-container {\n",
              "      display:flex;\n",
              "      flex-wrap:wrap;\n",
              "      gap: 12px;\n",
              "    }\n",
              "\n",
              "    .colab-df-convert {\n",
              "      background-color: #E8F0FE;\n",
              "      border: none;\n",
              "      border-radius: 50%;\n",
              "      cursor: pointer;\n",
              "      display: none;\n",
              "      fill: #1967D2;\n",
              "      height: 32px;\n",
              "      padding: 0 0 0 0;\n",
              "      width: 32px;\n",
              "    }\n",
              "\n",
              "    .colab-df-convert:hover {\n",
              "      background-color: #E2EBFA;\n",
              "      box-shadow: 0px 1px 2px rgba(60, 64, 67, 0.3), 0px 1px 3px 1px rgba(60, 64, 67, 0.15);\n",
              "      fill: #174EA6;\n",
              "    }\n",
              "\n",
              "    [theme=dark] .colab-df-convert {\n",
              "      background-color: #3B4455;\n",
              "      fill: #D2E3FC;\n",
              "    }\n",
              "\n",
              "    [theme=dark] .colab-df-convert:hover {\n",
              "      background-color: #434B5C;\n",
              "      box-shadow: 0px 1px 3px 1px rgba(0, 0, 0, 0.15);\n",
              "      filter: drop-shadow(0px 1px 2px rgba(0, 0, 0, 0.3));\n",
              "      fill: #FFFFFF;\n",
              "    }\n",
              "  </style>\n",
              "\n",
              "      <script>\n",
              "        const buttonEl =\n",
              "          document.querySelector('#df-dbee9241-c7f6-4388-9dbf-0066043df5d2 button.colab-df-convert');\n",
              "        buttonEl.style.display =\n",
              "          google.colab.kernel.accessAllowed ? 'block' : 'none';\n",
              "\n",
              "        async function convertToInteractive(key) {\n",
              "          const element = document.querySelector('#df-dbee9241-c7f6-4388-9dbf-0066043df5d2');\n",
              "          const dataTable =\n",
              "            await google.colab.kernel.invokeFunction('convertToInteractive',\n",
              "                                                     [key], {});\n",
              "          if (!dataTable) return;\n",
              "\n",
              "          const docLinkHtml = 'Like what you see? Visit the ' +\n",
              "            '<a target=\"_blank\" href=https://colab.research.google.com/notebooks/data_table.ipynb>data table notebook</a>'\n",
              "            + ' to learn more about interactive tables.';\n",
              "          element.innerHTML = '';\n",
              "          dataTable['output_type'] = 'display_data';\n",
              "          await google.colab.output.renderOutput(dataTable, element);\n",
              "          const docLink = document.createElement('div');\n",
              "          docLink.innerHTML = docLinkHtml;\n",
              "          element.appendChild(docLink);\n",
              "        }\n",
              "      </script>\n",
              "    </div>\n",
              "  </div>\n",
              "  "
            ],
            "text/plain": [
              "              subject           predicate          object\n",
              "0      wkg:4426850370    wkgs:isInCountry   wkg:424298311\n",
              "1      wkg:3068656670    wkgs:isInCountry   wkg:424313730\n",
              "2       wkg:630639045  wkgs:isInContinent    wkg:36966065\n",
              "3      wkg:4426852196  wkgs:isInContinent    wkg:36966065\n",
              "4      wkg:2000003612    wkgs:isInCountry   wkg:424298311\n",
              "...               ...                 ...             ...\n",
              "15926   wkg:274372610    wkgs:addrCountry  wkg:1683325355\n",
              "15927  wkg:1254881907    wkgs:addrCountry   wkg:424314830\n",
              "15928  wkg:1261054393    wkgs:addrCountry   wkg:424314830\n",
              "15929   wkg:279000168    wkgs:addrCountry  wkg:6907263340\n",
              "15930  wkg:2717412823    wkgs:addrCountry  wkg:6907263340\n",
              "\n",
              "[15931 rows x 3 columns]"
            ]
          },
          "execution_count": 6,
          "metadata": {},
          "output_type": "execute_result"
        }
      ],
      "source": [
        "# test triples\n",
        "test_triples_file_name = 'test.txt'\n",
        "test_triples = pd.read_csv(test_triples_file_name, sep = '\\t', names = ['subject', 'predicate', 'object'])\n",
        "test_triples"
      ]
    },
    {
      "cell_type": "code",
      "execution_count": null,
      "metadata": {
        "colab": {
          "base_uri": "https://localhost:8080/"
        },
        "id": "WGVi-3_c_PA3",
        "outputId": "32a0dd45-1f1a-4c03-e1fd-799571b5c7e9"
      },
      "outputs": [
        {
          "data": {
            "text/plain": [
              "16190"
            ]
          },
          "execution_count": 7,
          "metadata": {},
          "output_type": "execute_result"
        }
      ],
      "source": [
        "# unique entities in inductive test set\n",
        "unique_entities_inductive_testset = np.unique(test_triples[['subject', 'object']].values)\n",
        "len(unique_entities_inductive_testset)"
      ]
    },
    {
      "cell_type": "code",
      "execution_count": null,
      "metadata": {
        "colab": {
          "base_uri": "https://localhost:8080/"
        },
        "id": "ubaXGwsU_wJF",
        "outputId": "fc702f5b-62e6-4b75-bd23-6896470d3f85"
      },
      "outputs": [
        {
          "data": {
            "text/plain": [
              "array(['wkg:1003705119', 'wkg:1011817361', 'wkg:1012761434', ...,\n",
              "       'wkg:997414904', 'wkg:997414940', 'wkg:997415479'], dtype=object)"
            ]
          },
          "execution_count": 8,
          "metadata": {},
          "output_type": "execute_result"
        }
      ],
      "source": [
        "unique_entities_inductive_testset"
      ]
    },
    {
      "attachments": {},
      "cell_type": "markdown",
      "metadata": {
        "id": "OMhdvpuWKB8I"
      },
      "source": [
        "## Fetch inductive split unique entities data using SPARQL"
      ]
    },
    {
      "cell_type": "code",
      "execution_count": null,
      "metadata": {
        "colab": {
          "base_uri": "https://localhost:8080/"
        },
        "id": "Gu5KVy8TJuz5",
        "outputId": "8a85c321-116b-4af5-c3a3-020e110daebc"
      },
      "outputs": [
        {
          "data": {
            "text/plain": [
              "(16190,)"
            ]
          },
          "execution_count": 9,
          "metadata": {},
          "output_type": "execute_result"
        }
      ],
      "source": [
        "unique_entities_inductive_testset.shape"
      ]
    },
    {
      "cell_type": "code",
      "execution_count": null,
      "metadata": {
        "id": "xFS-Joe6LZ5w"
      },
      "outputs": [],
      "source": [
        "# SPARQL Extraction Utilities\n",
        "\n",
        "def create_sparql_client(sparql_endpoint, http_query_method = GET, result_format= JSON):\n",
        "    sparql_client = SPARQLWrapper(sparql_endpoint)\n",
        "\n",
        "    sparql_client.setMethod(http_query_method)\n",
        "    sparql_client.setReturnFormat(result_format)\n",
        "\n",
        "    return sparql_client\n",
        "\n",
        "# Convert SPARQL results into a Pandas data frame\n",
        "def sparql2dataframe(json_sparql_results):\n",
        "    cols = json_sparql_results['head']['vars']\n",
        "    out = []\n",
        "    for row in json_sparql_results['results']['bindings']:\n",
        "        item = []\n",
        "        for c in cols:\n",
        "            item.append(row.get(c, {}).get('value'))\n",
        "        out.append(item)\n",
        "    return pd.DataFrame(out, columns=cols)\n",
        "\n",
        "def query_sparql(query, sparql_client):\n",
        "    sparql_client.setQuery(query)\n",
        "    result_object = sparql_client.query()\n",
        "    if sparql_client.returnFormat == JSON:\n",
        "        return result_object._convertJSON()\n",
        "    return result_object.convert()"
      ]
    },
    {
      "cell_type": "code",
      "execution_count": null,
      "metadata": {
        "id": "rk648YhVLnSH"
      },
      "outputs": [],
      "source": [
        "sparqlview_endpoint = \"https://www.worldkg.org/sparql\"\n",
        "sparqlview_wrapper = create_sparql_client(sparql_endpoint=sparqlview_endpoint)"
      ]
    },
    {
      "cell_type": "code",
      "execution_count": null,
      "metadata": {
        "colab": {
          "base_uri": "https://localhost:8080/",
          "height": 1000
        },
        "id": "rTjJhh9JLqKj",
        "outputId": "d09676f1-bfdf-4024-aa0b-d0a8d26d0944"
      },
      "outputs": [
        {
          "name": "stderr",
          "output_type": "stream",
          "text": [
            "\r  0%|          | 0/162 [00:00<?, ?it/s]"
          ]
        },
        {
          "name": "stdout",
          "output_type": "stream",
          "text": [
            "\n",
            "  PREFIX uom: <http://www.opengis.net/def/uom/OGC/1.0/>\n",
            "  PREFIX wkgs: <http://www.worldkg.org/schema/>\n",
            "  PREFIX wkg: <http://www.worldkg.org/resource/>\n",
            "  PREFIX wd: <http://www.wikidata.org/wiki/>\n",
            "  PREFIX sf: <http://www.opengis.net/ont/sf#>\n",
            "  PREFIX rdfs: <http://www.w3.org/2000/01/rdf-schema#>\n",
            "  PREFIX geo: <http://www.opengis.net/ont/geosparql#>\n",
            "  PREFIX owl: <http://www.w3.org/2002/07/owl#>\n",
            "  PREFIX rdf: <http://www.w3.org/1999/02/22-rdf-syntax-ns#>\n",
            "  SELECT DISTINCT ?entity_uri ?type ?label ?nameEn ?coordinates WHERE {\n",
            "    VALUES ?entity_uri {wkg:1003705119 wkg:1011817361 wkg:1012761434 wkg:1013550821 wkg:101480194 wkg:1029617830 wkg:1042491447 wkg:1042516435 wkg:1042944919 wkg:1043921912 wkg:1047237485 wkg:1048268052 wkg:1048638884 wkg:1049908636 wkg:1060112701 wkg:1066143903 wkg:1068535143 wkg:1068823637 wkg:1068823679 wkg:1070164380 wkg:1070176513 wkg:1070187263 wkg:1070187603 wkg:1070195044 wkg:1072625851 wkg:1074913897 wkg:1077973943 wkg:1089286303 wkg:1094041525 wkg:1094482641 wkg:1094642115 wkg:1097072700 wkg:1097073472 wkg:1097075817 wkg:1097075946 wkg:1097078293 wkg:1097083900 wkg:109860348 wkg:1100574710 wkg:110331573 wkg:1104258889 wkg:110432972 wkg:1105489459 wkg:1106177514 wkg:1106386022 wkg:1106386528 wkg:1106932910 wkg:1106933213 wkg:1107713913 wkg:1108891254 wkg:1111145721 wkg:1111454595 wkg:1111454600 wkg:1111454619 wkg:1111454640 wkg:1111454647 wkg:1111454665 wkg:1112265545 wkg:1112268844 wkg:1115178376 wkg:1117036623 wkg:1118391495 wkg:1118391877 wkg:1120474102 wkg:1126047415 wkg:1126255150 wkg:1126902490 wkg:1126903588 wkg:1126903692 wkg:1132419216 wkg:1135422214 wkg:1140695508 wkg:1140696063 wkg:114320365 wkg:114328005 wkg:114328459 wkg:114349202 wkg:1148185540 wkg:1148226853 wkg:1150415971 wkg:1150497671 wkg:1150697622 wkg:1150697673 wkg:1150697683 wkg:1150697685 wkg:1150697697 wkg:1150697712 wkg:1150697794 wkg:1150697814 wkg:1150697839 wkg:1150698252 wkg:1150698318 wkg:1150698326 wkg:1150880665 wkg:1150880667 wkg:1150880668 wkg:1150880672 wkg:1150880675 wkg:1150880687 wkg:1150880691} .\n",
            "    ?entity_uri wkgs:spatialObject ?geom.\n",
            "    ?geom geo:asWKT ?coordinates.\n",
            "    OPTIONAL { ?entity_uri rdf:type ?type .}\n",
            "    OPTIONAL { ?entity_uri rdfs:label ?label .}\n",
            "    OPTIONAL { ?entity_uri wkgs:nameEn ?nameEn .}\n",
            "  }\n",
            "  \n"
          ]
        },
        {
          "name": "stderr",
          "output_type": "stream",
          "text": [
            "\r  1%|          | 1/162 [00:00<01:38,  1.63it/s]"
          ]
        },
        {
          "name": "stdout",
          "output_type": "stream",
          "text": [
            "(100, 5)\n",
            "\n",
            "  PREFIX uom: <http://www.opengis.net/def/uom/OGC/1.0/>\n",
            "  PREFIX wkgs: <http://www.worldkg.org/schema/>\n",
            "  PREFIX wkg: <http://www.worldkg.org/resource/>\n",
            "  PREFIX wd: <http://www.wikidata.org/wiki/>\n",
            "  PREFIX sf: <http://www.opengis.net/ont/sf#>\n",
            "  PREFIX rdfs: <http://www.w3.org/2000/01/rdf-schema#>\n",
            "  PREFIX geo: <http://www.opengis.net/ont/geosparql#>\n",
            "  PREFIX owl: <http://www.w3.org/2002/07/owl#>\n",
            "  PREFIX rdf: <http://www.w3.org/1999/02/22-rdf-syntax-ns#>\n",
            "  SELECT DISTINCT ?entity_uri ?type ?label ?nameEn ?coordinates WHERE {\n",
            "    VALUES ?entity_uri {wkg:1150880699 wkg:1150880714 wkg:1150880743 wkg:1150880749 wkg:1150880752 wkg:1150880818 wkg:1150880820 wkg:1150880850 wkg:1150880878 wkg:1150880898 wkg:1150880908 wkg:1150880930 wkg:1150880948 wkg:1150880966 wkg:1150880978 wkg:1150880983 wkg:1150880988 wkg:1150880989 wkg:1150880992 wkg:1150880998 wkg:1150881011 wkg:1150881012 wkg:1150881025 wkg:1150881098 wkg:1150881115 wkg:1150881124 wkg:1150881161 wkg:1150881183 wkg:1150881238 wkg:1150881266 wkg:1150881290 wkg:1150881367 wkg:1150881372 wkg:1150881420 wkg:1150881427 wkg:1150881428 wkg:1150881429 wkg:1150881434 wkg:1150881435 wkg:1150881440 wkg:1150881513 wkg:1150881538 wkg:1150881544 wkg:1150881586 wkg:1150881589 wkg:1150881655 wkg:1150881661 wkg:1150881670 wkg:1150881774 wkg:1150881776 wkg:1150881814 wkg:1150881853 wkg:1150882018 wkg:1150882046 wkg:1150882048 wkg:1150882049 wkg:1150882056 wkg:1150882076 wkg:1150882084 wkg:1150882087 wkg:1150882088 wkg:1150882093 wkg:1150882118 wkg:1150882143 wkg:1150882155 wkg:1150882165 wkg:1150882201 wkg:1150882212 wkg:1150882218 wkg:1150882227 wkg:1150882236 wkg:1150882281 wkg:1150882286 wkg:1150882289 wkg:1150882309 wkg:1150882323 wkg:1150882336 wkg:1150882342 wkg:1150882349 wkg:1150882474 wkg:1150882480 wkg:1150882496 wkg:1150882501 wkg:1150882518 wkg:1150882533 wkg:1150882542 wkg:1150882558 wkg:1150882573 wkg:1150882590 wkg:1150882605 wkg:1150882608 wkg:1150882622 wkg:1150882632 wkg:1150882649 wkg:1150882655 wkg:1150882695 wkg:1150882699 wkg:1150882717 wkg:1150882719 wkg:1150882734} .\n",
            "    ?entity_uri wkgs:spatialObject ?geom.\n",
            "    ?geom geo:asWKT ?coordinates.\n",
            "    OPTIONAL { ?entity_uri rdf:type ?type .}\n",
            "    OPTIONAL { ?entity_uri rdfs:label ?label .}\n",
            "    OPTIONAL { ?entity_uri wkgs:nameEn ?nameEn .}\n",
            "  }\n",
            "  \n"
          ]
        },
        {
          "name": "stderr",
          "output_type": "stream",
          "text": [
            "\r  1%|          | 2/162 [00:01<01:23,  1.91it/s]"
          ]
        },
        {
          "name": "stdout",
          "output_type": "stream",
          "text": [
            "(100, 5)\n",
            "\n",
            "  PREFIX uom: <http://www.opengis.net/def/uom/OGC/1.0/>\n",
            "  PREFIX wkgs: <http://www.worldkg.org/schema/>\n",
            "  PREFIX wkg: <http://www.worldkg.org/resource/>\n",
            "  PREFIX wd: <http://www.wikidata.org/wiki/>\n",
            "  PREFIX sf: <http://www.opengis.net/ont/sf#>\n",
            "  PREFIX rdfs: <http://www.w3.org/2000/01/rdf-schema#>\n",
            "  PREFIX geo: <http://www.opengis.net/ont/geosparql#>\n",
            "  PREFIX owl: <http://www.w3.org/2002/07/owl#>\n",
            "  PREFIX rdf: <http://www.w3.org/1999/02/22-rdf-syntax-ns#>\n",
            "  SELECT DISTINCT ?entity_uri ?type ?label ?nameEn ?coordinates WHERE {\n",
            "    VALUES ?entity_uri {wkg:1150882740 wkg:1150882750 wkg:1150882754 wkg:1150882776 wkg:1150882798 wkg:1150882818 wkg:1150882820 wkg:1150882831 wkg:1150882877 wkg:1150882941 wkg:1150882949 wkg:1150882954 wkg:1150882956 wkg:1150882976 wkg:1150882977 wkg:1150882981 wkg:1150882989 wkg:1150883013 wkg:1150883046 wkg:1150883056 wkg:1150883087 wkg:1150883161 wkg:1150883185 wkg:1150883195 wkg:1150883196 wkg:1150883212 wkg:1150883229 wkg:1150883238 wkg:1150883252 wkg:1150883273 wkg:1150883278 wkg:1150883284 wkg:1150883296 wkg:1150883338 wkg:1150883369 wkg:1150883375 wkg:1150883381 wkg:1150883387 wkg:1150883389 wkg:1150883393 wkg:1150883397 wkg:1150883413 wkg:1150883464 wkg:1150883478 wkg:1150883486 wkg:1150883584 wkg:1150883597 wkg:1150883600 wkg:1150883613 wkg:1150883620 wkg:1150883621 wkg:1150883626 wkg:1150883629 wkg:1150883631 wkg:1150883643 wkg:1150883651 wkg:1150883680 wkg:1150883690 wkg:1150883718 wkg:1150883802 wkg:1150883819 wkg:1150883831 wkg:1150883832 wkg:1150883836 wkg:1150883838 wkg:1150883849 wkg:1150883857 wkg:1150883864 wkg:1150883886 wkg:1150883900 wkg:1150884030 wkg:1150884058 wkg:1150884122 wkg:1150884123 wkg:1150884176 wkg:1150884264 wkg:1150884284 wkg:1150884324 wkg:1150884325 wkg:1150884336 wkg:1150884391 wkg:1150884394 wkg:1150884400 wkg:1150884436 wkg:1150884446 wkg:1150884455 wkg:1150884460 wkg:1150884572 wkg:1150884574 wkg:1150884605 wkg:1150884741 wkg:1150884744 wkg:1150884789 wkg:1150884813 wkg:1150884828 wkg:1150884847 wkg:1150884877 wkg:1150884880 wkg:1150884961 wkg:1150884983} .\n",
            "    ?entity_uri wkgs:spatialObject ?geom.\n",
            "    ?geom geo:asWKT ?coordinates.\n",
            "    OPTIONAL { ?entity_uri rdf:type ?type .}\n",
            "    OPTIONAL { ?entity_uri rdfs:label ?label .}\n",
            "    OPTIONAL { ?entity_uri wkgs:nameEn ?nameEn .}\n",
            "  }\n",
            "  \n"
          ]
        },
        {
          "name": "stderr",
          "output_type": "stream",
          "text": [
            "\r  2%|▏         | 3/162 [00:01<01:18,  2.02it/s]"
          ]
        },
        {
          "name": "stdout",
          "output_type": "stream",
          "text": [
            "(100, 5)\n",
            "\n",
            "  PREFIX uom: <http://www.opengis.net/def/uom/OGC/1.0/>\n",
            "  PREFIX wkgs: <http://www.worldkg.org/schema/>\n",
            "  PREFIX wkg: <http://www.worldkg.org/resource/>\n",
            "  PREFIX wd: <http://www.wikidata.org/wiki/>\n",
            "  PREFIX sf: <http://www.opengis.net/ont/sf#>\n",
            "  PREFIX rdfs: <http://www.w3.org/2000/01/rdf-schema#>\n",
            "  PREFIX geo: <http://www.opengis.net/ont/geosparql#>\n",
            "  PREFIX owl: <http://www.w3.org/2002/07/owl#>\n",
            "  PREFIX rdf: <http://www.w3.org/1999/02/22-rdf-syntax-ns#>\n",
            "  SELECT DISTINCT ?entity_uri ?type ?label ?nameEn ?coordinates WHERE {\n",
            "    VALUES ?entity_uri {wkg:1150884992 wkg:1150885001 wkg:1150885072 wkg:1150885153 wkg:1150885368 wkg:1150885383 wkg:1150885413 wkg:1150885446 wkg:1150885464 wkg:1150885465 wkg:1150885472 wkg:1150885475 wkg:1150885482 wkg:1150885529 wkg:1150885534 wkg:1150885613 wkg:1150885614 wkg:1150885624 wkg:1150885628 wkg:1150885631 wkg:1150885642 wkg:1150885645 wkg:1150885655 wkg:1150885668 wkg:1150885671 wkg:1150885677 wkg:1150885680 wkg:1150885692 wkg:1150885694 wkg:1150885696 wkg:1150885697 wkg:1150885700 wkg:1150885707 wkg:1150885710 wkg:1150885714 wkg:1150885721 wkg:1150885726 wkg:1150885750 wkg:1150885785 wkg:1150885796 wkg:1150885819 wkg:1150885853 wkg:1150885871 wkg:1150885897 wkg:1150885912 wkg:1150885915 wkg:1150885951 wkg:1150885960 wkg:1150885968 wkg:1150885970 wkg:1150886005 wkg:1150886012 wkg:1150886023 wkg:1150886034 wkg:1150886045 wkg:1150886095 wkg:1150886128 wkg:1150886131 wkg:1150886151 wkg:1150886173 wkg:1150886299 wkg:1150886312 wkg:1150886319 wkg:1150886321 wkg:1150886323 wkg:1150886367 wkg:1150886377 wkg:1150886413 wkg:1150886415 wkg:1150886422 wkg:1150886445 wkg:1150886448 wkg:1150886450 wkg:1150886460 wkg:1150886467 wkg:1150886506 wkg:1150886517 wkg:1150886527 wkg:1150886565 wkg:1150886566 wkg:1150886577 wkg:1150886581 wkg:1150886605 wkg:1150886647 wkg:1150886648 wkg:1150886658 wkg:1150886659 wkg:1150886670 wkg:1150886671 wkg:1150886679 wkg:1150886682 wkg:1150886683 wkg:1150886684 wkg:1150886690 wkg:1150886692 wkg:1150886732 wkg:1150886738 wkg:1150886757 wkg:1150886775 wkg:1150886792} .\n",
            "    ?entity_uri wkgs:spatialObject ?geom.\n",
            "    ?geom geo:asWKT ?coordinates.\n",
            "    OPTIONAL { ?entity_uri rdf:type ?type .}\n",
            "    OPTIONAL { ?entity_uri rdfs:label ?label .}\n",
            "    OPTIONAL { ?entity_uri wkgs:nameEn ?nameEn .}\n",
            "  }\n",
            "  \n"
          ]
        },
        {
          "name": "stderr",
          "output_type": "stream",
          "text": [
            "\r  2%|▏         | 4/162 [00:02<01:16,  2.07it/s]"
          ]
        },
        {
          "name": "stdout",
          "output_type": "stream",
          "text": [
            "(100, 5)\n",
            "\n",
            "  PREFIX uom: <http://www.opengis.net/def/uom/OGC/1.0/>\n",
            "  PREFIX wkgs: <http://www.worldkg.org/schema/>\n",
            "  PREFIX wkg: <http://www.worldkg.org/resource/>\n",
            "  PREFIX wd: <http://www.wikidata.org/wiki/>\n",
            "  PREFIX sf: <http://www.opengis.net/ont/sf#>\n",
            "  PREFIX rdfs: <http://www.w3.org/2000/01/rdf-schema#>\n",
            "  PREFIX geo: <http://www.opengis.net/ont/geosparql#>\n",
            "  PREFIX owl: <http://www.w3.org/2002/07/owl#>\n",
            "  PREFIX rdf: <http://www.w3.org/1999/02/22-rdf-syntax-ns#>\n",
            "  SELECT DISTINCT ?entity_uri ?type ?label ?nameEn ?coordinates WHERE {\n",
            "    VALUES ?entity_uri {wkg:1150886803 wkg:1150886806 wkg:1150886827 wkg:1150886861 wkg:1150886864 wkg:1150886870 wkg:1150886872 wkg:1150886877 wkg:1150886879 wkg:1150886884 wkg:1150886894 wkg:1150886896 wkg:1150886917 wkg:1150886922 wkg:1150886936 wkg:1150886979 wkg:1150886986 wkg:1150886991 wkg:1150887004 wkg:1150887023 wkg:1150887091 wkg:1150887186 wkg:1150887189 wkg:1150887194 wkg:1150887230 wkg:1150887261 wkg:1150887293 wkg:1150887312 wkg:1150887342 wkg:1150887343 wkg:1150887344 wkg:1150887346 wkg:1150887350 wkg:1150887357 wkg:1150887416 wkg:1150887489 wkg:1150887501 wkg:1150887546 wkg:1150887556 wkg:1150887604 wkg:1150887614 wkg:1150887624 wkg:1150887785 wkg:1150887843 wkg:1150887873 wkg:1150887874 wkg:1150887882 wkg:1150887897 wkg:1150887907 wkg:1150887908 wkg:1150887914 wkg:1150887927 wkg:1150887934 wkg:1150887939 wkg:1150887948 wkg:1150887956 wkg:1150887980 wkg:1150888019 wkg:1150888042 wkg:1150888097 wkg:1150888177 wkg:1150888184 wkg:1150888215 wkg:1150888229 wkg:1150888237 wkg:1150888254 wkg:1150888263 wkg:1150888265 wkg:1150888277 wkg:1150888302 wkg:1150888396 wkg:1150888413 wkg:1150888439 wkg:1150888626 wkg:1150888657 wkg:1150888713 wkg:1150888816 wkg:1150888865 wkg:1150888915 wkg:1150888968 wkg:1150889086 wkg:1150889181 wkg:1150889197 wkg:1150889200 wkg:1150889252 wkg:1150889253 wkg:1150889276 wkg:1150889277 wkg:1150889278 wkg:1150889282 wkg:1150889295 wkg:1150889322 wkg:1150889340 wkg:1150889354 wkg:1150889384 wkg:1150889433 wkg:1150889469 wkg:1150889516 wkg:1150889530 wkg:1150889715} .\n",
            "    ?entity_uri wkgs:spatialObject ?geom.\n",
            "    ?geom geo:asWKT ?coordinates.\n",
            "    OPTIONAL { ?entity_uri rdf:type ?type .}\n",
            "    OPTIONAL { ?entity_uri rdfs:label ?label .}\n",
            "    OPTIONAL { ?entity_uri wkgs:nameEn ?nameEn .}\n",
            "  }\n",
            "  \n"
          ]
        },
        {
          "name": "stderr",
          "output_type": "stream",
          "text": [
            "\r  3%|▎         | 5/162 [00:02<01:14,  2.10it/s]"
          ]
        },
        {
          "name": "stdout",
          "output_type": "stream",
          "text": [
            "(100, 5)\n",
            "\n",
            "  PREFIX uom: <http://www.opengis.net/def/uom/OGC/1.0/>\n",
            "  PREFIX wkgs: <http://www.worldkg.org/schema/>\n",
            "  PREFIX wkg: <http://www.worldkg.org/resource/>\n",
            "  PREFIX wd: <http://www.wikidata.org/wiki/>\n",
            "  PREFIX sf: <http://www.opengis.net/ont/sf#>\n",
            "  PREFIX rdfs: <http://www.w3.org/2000/01/rdf-schema#>\n",
            "  PREFIX geo: <http://www.opengis.net/ont/geosparql#>\n",
            "  PREFIX owl: <http://www.w3.org/2002/07/owl#>\n",
            "  PREFIX rdf: <http://www.w3.org/1999/02/22-rdf-syntax-ns#>\n",
            "  SELECT DISTINCT ?entity_uri ?type ?label ?nameEn ?coordinates WHERE {\n",
            "    VALUES ?entity_uri {wkg:1150889734 wkg:1150889816 wkg:1150889873 wkg:1150889951 wkg:1150890033 wkg:1150890042 wkg:1150890126 wkg:1150890247 wkg:1150890342 wkg:1150890398 wkg:1150890420 wkg:1150890469 wkg:1150890471 wkg:1150890510 wkg:1150890532 wkg:1150890551 wkg:1150890671 wkg:1150890679 wkg:1150890708 wkg:1150890718 wkg:1150890745 wkg:1150890781 wkg:1150890803 wkg:1150890813 wkg:1150890835 wkg:1150890851 wkg:1150890883 wkg:1150890948 wkg:1150890955 wkg:1150891022 wkg:1150891077 wkg:1150891135 wkg:1150891160 wkg:1150891242 wkg:1150891252 wkg:1150891286 wkg:1150891312 wkg:1150891352 wkg:1150891375 wkg:1150891433 wkg:1150891446 wkg:1150891762 wkg:1150891822 wkg:1150891824 wkg:1150891952 wkg:1150891983 wkg:1150891991 wkg:1150892008 wkg:1150892020 wkg:1150892023 wkg:1150892024 wkg:1150892030 wkg:1150892036 wkg:1150892039 wkg:1150892051 wkg:1150892072 wkg:1150892087 wkg:1150892148 wkg:1150892157 wkg:1150892184 wkg:1150892188 wkg:1150892198 wkg:1150892231 wkg:1150892251 wkg:1150892271 wkg:1150892272 wkg:1150892447 wkg:1150892511 wkg:1150892820 wkg:1150892833 wkg:1150892878 wkg:1150892902 wkg:1150892934 wkg:1150892979 wkg:1150892994 wkg:1150893004 wkg:1150893064 wkg:1150893509 wkg:1150893514 wkg:1150893529 wkg:1150893554 wkg:1150893623 wkg:1150893629 wkg:1150893635 wkg:1150893650 wkg:1150893662 wkg:1150893676 wkg:1150893683 wkg:1150893686 wkg:1150893701 wkg:1150893751 wkg:1150893765 wkg:1150893815 wkg:1150893852 wkg:1150893869 wkg:1150893996 wkg:1150894007 wkg:1150894010 wkg:1150894020 wkg:1150894027} .\n",
            "    ?entity_uri wkgs:spatialObject ?geom.\n",
            "    ?geom geo:asWKT ?coordinates.\n",
            "    OPTIONAL { ?entity_uri rdf:type ?type .}\n",
            "    OPTIONAL { ?entity_uri rdfs:label ?label .}\n",
            "    OPTIONAL { ?entity_uri wkgs:nameEn ?nameEn .}\n",
            "  }\n",
            "  \n"
          ]
        },
        {
          "name": "stderr",
          "output_type": "stream",
          "text": [
            "\r  4%|▎         | 6/162 [00:02<01:13,  2.13it/s]"
          ]
        },
        {
          "name": "stdout",
          "output_type": "stream",
          "text": [
            "(101, 5)\n",
            "\n",
            "  PREFIX uom: <http://www.opengis.net/def/uom/OGC/1.0/>\n",
            "  PREFIX wkgs: <http://www.worldkg.org/schema/>\n",
            "  PREFIX wkg: <http://www.worldkg.org/resource/>\n",
            "  PREFIX wd: <http://www.wikidata.org/wiki/>\n",
            "  PREFIX sf: <http://www.opengis.net/ont/sf#>\n",
            "  PREFIX rdfs: <http://www.w3.org/2000/01/rdf-schema#>\n",
            "  PREFIX geo: <http://www.opengis.net/ont/geosparql#>\n",
            "  PREFIX owl: <http://www.w3.org/2002/07/owl#>\n",
            "  PREFIX rdf: <http://www.w3.org/1999/02/22-rdf-syntax-ns#>\n",
            "  SELECT DISTINCT ?entity_uri ?type ?label ?nameEn ?coordinates WHERE {\n",
            "    VALUES ?entity_uri {wkg:1150894028 wkg:1150894041 wkg:1150894149 wkg:1150894187 wkg:1150894198 wkg:1150894211 wkg:1150894214 wkg:1150894221 wkg:1150894321 wkg:1150894331 wkg:1150894337 wkg:1150894352 wkg:1150894368 wkg:1150894520 wkg:1150894549 wkg:1150894562 wkg:1150894568 wkg:1150894573 wkg:1150894584 wkg:1150894609 wkg:1150894633 wkg:1150894653 wkg:1150894680 wkg:1150894682 wkg:1150894698 wkg:1150894704 wkg:1150894910 wkg:1150894965 wkg:1150895014 wkg:1150895025 wkg:1150895116 wkg:1150895131 wkg:1150895146 wkg:1150895240 wkg:1150895283 wkg:1150895462 wkg:1150895485 wkg:1150895690 wkg:1150895806 wkg:1150895840 wkg:1150895928 wkg:1150895985 wkg:1150896200 wkg:1150896221 wkg:1150896327 wkg:1150896362 wkg:1150896653 wkg:1150896780 wkg:1150896822 wkg:1150896834 wkg:1150896884 wkg:1150896902 wkg:1150896912 wkg:1150896956 wkg:1150897136 wkg:1150897194 wkg:1150897229 wkg:1150897243 wkg:1150897265 wkg:1150897298 wkg:1150897315 wkg:1150897317 wkg:1150897587 wkg:1150897615 wkg:1150897711 wkg:1150897796 wkg:1150897871 wkg:1150897878 wkg:1150897890 wkg:1150897916 wkg:1150897925 wkg:1150897939 wkg:1150897954 wkg:1150897975 wkg:1150898006 wkg:1150898018 wkg:1150898073 wkg:1150898093 wkg:1150898096 wkg:1150898115 wkg:1150898152 wkg:1150898164 wkg:1150898177 wkg:1150898282 wkg:1150898291 wkg:1150898299 wkg:1150898302 wkg:1150898305 wkg:1150898314 wkg:1150898319 wkg:1150898322 wkg:1150898340 wkg:1150898345 wkg:1150898351 wkg:1150898362 wkg:1150898381 wkg:1150898388 wkg:1150898397 wkg:1150898414 wkg:1150898437} .\n",
            "    ?entity_uri wkgs:spatialObject ?geom.\n",
            "    ?geom geo:asWKT ?coordinates.\n",
            "    OPTIONAL { ?entity_uri rdf:type ?type .}\n",
            "    OPTIONAL { ?entity_uri rdfs:label ?label .}\n",
            "    OPTIONAL { ?entity_uri wkgs:nameEn ?nameEn .}\n",
            "  }\n",
            "  \n"
          ]
        },
        {
          "name": "stderr",
          "output_type": "stream",
          "text": [
            "\r  4%|▍         | 7/162 [00:03<01:12,  2.15it/s]"
          ]
        },
        {
          "name": "stdout",
          "output_type": "stream",
          "text": [
            "(100, 5)\n",
            "\n",
            "  PREFIX uom: <http://www.opengis.net/def/uom/OGC/1.0/>\n",
            "  PREFIX wkgs: <http://www.worldkg.org/schema/>\n",
            "  PREFIX wkg: <http://www.worldkg.org/resource/>\n",
            "  PREFIX wd: <http://www.wikidata.org/wiki/>\n",
            "  PREFIX sf: <http://www.opengis.net/ont/sf#>\n",
            "  PREFIX rdfs: <http://www.w3.org/2000/01/rdf-schema#>\n",
            "  PREFIX geo: <http://www.opengis.net/ont/geosparql#>\n",
            "  PREFIX owl: <http://www.w3.org/2002/07/owl#>\n",
            "  PREFIX rdf: <http://www.w3.org/1999/02/22-rdf-syntax-ns#>\n",
            "  SELECT DISTINCT ?entity_uri ?type ?label ?nameEn ?coordinates WHERE {\n",
            "    VALUES ?entity_uri {wkg:1150898454 wkg:1150898466 wkg:1150898498 wkg:1150898499 wkg:1150898582 wkg:1150898583 wkg:1150898585 wkg:1150898587 wkg:1150898625 wkg:1150898630 wkg:1150898632 wkg:1150898639 wkg:1150898641 wkg:1150898645 wkg:1150898646 wkg:1150898650 wkg:1150898660 wkg:1150898665 wkg:1150898668 wkg:1150898673 wkg:1150898702 wkg:1150898764 wkg:1150898769 wkg:1150898891 wkg:1150898954 wkg:1150898969 wkg:1150898988 wkg:1150899020 wkg:1150899022 wkg:1150899140 wkg:1150899142 wkg:1150899143 wkg:1150899149 wkg:1150899164 wkg:1150899165 wkg:1150899178 wkg:1150899183 wkg:1150899195 wkg:1150899197 wkg:1150899213 wkg:1150899216 wkg:1150899258 wkg:1150899315 wkg:1150899363 wkg:1150899381 wkg:1150899444 wkg:1150899473 wkg:1150899477 wkg:1150899488 wkg:1150899512 wkg:1150899529 wkg:1150899546 wkg:1150899629 wkg:1150899799 wkg:1150899815 wkg:1150899872 wkg:1150899898 wkg:1150899922 wkg:1150899928 wkg:1150899956 wkg:1150900005 wkg:1150900007 wkg:1150900033 wkg:1150900117 wkg:1150900121 wkg:1150900144 wkg:1150900334 wkg:1150900602 wkg:1150900694 wkg:1150900781 wkg:1150900830 wkg:1150900842 wkg:1150900866 wkg:1150900869 wkg:1150900880 wkg:1150900905 wkg:1150900915 wkg:1150900960 wkg:1150900963 wkg:1150900979 wkg:1150901000 wkg:1150901009 wkg:1150901025 wkg:1150901060 wkg:1150901102 wkg:1150901137 wkg:1150901164 wkg:1150901181 wkg:1150901222 wkg:1150901255 wkg:1150901303 wkg:1150901321 wkg:1150901335 wkg:1150901346 wkg:1150901403 wkg:1150901431 wkg:1150901467 wkg:1150901549 wkg:1150901683 wkg:1150901777} .\n",
            "    ?entity_uri wkgs:spatialObject ?geom.\n",
            "    ?geom geo:asWKT ?coordinates.\n",
            "    OPTIONAL { ?entity_uri rdf:type ?type .}\n",
            "    OPTIONAL { ?entity_uri rdfs:label ?label .}\n",
            "    OPTIONAL { ?entity_uri wkgs:nameEn ?nameEn .}\n",
            "  }\n",
            "  \n"
          ]
        },
        {
          "name": "stderr",
          "output_type": "stream",
          "text": [
            "\r  5%|▍         | 8/162 [00:03<01:11,  2.16it/s]"
          ]
        },
        {
          "name": "stdout",
          "output_type": "stream",
          "text": [
            "(101, 5)\n",
            "\n",
            "  PREFIX uom: <http://www.opengis.net/def/uom/OGC/1.0/>\n",
            "  PREFIX wkgs: <http://www.worldkg.org/schema/>\n",
            "  PREFIX wkg: <http://www.worldkg.org/resource/>\n",
            "  PREFIX wd: <http://www.wikidata.org/wiki/>\n",
            "  PREFIX sf: <http://www.opengis.net/ont/sf#>\n",
            "  PREFIX rdfs: <http://www.w3.org/2000/01/rdf-schema#>\n",
            "  PREFIX geo: <http://www.opengis.net/ont/geosparql#>\n",
            "  PREFIX owl: <http://www.w3.org/2002/07/owl#>\n",
            "  PREFIX rdf: <http://www.w3.org/1999/02/22-rdf-syntax-ns#>\n",
            "  SELECT DISTINCT ?entity_uri ?type ?label ?nameEn ?coordinates WHERE {\n",
            "    VALUES ?entity_uri {wkg:1150901908 wkg:1150901976 wkg:1150901978 wkg:1150902013 wkg:1150902025 wkg:1150902039 wkg:1150902042 wkg:1150902048 wkg:1150902066 wkg:1150902084 wkg:1150902086 wkg:1150902090 wkg:1150902097 wkg:1150902098 wkg:1150902101 wkg:1150902115 wkg:1150902116 wkg:1150902117 wkg:1150902121 wkg:1150902123 wkg:1150902154 wkg:1150902171 wkg:1150902177 wkg:1150902182 wkg:1150902184 wkg:1150902189 wkg:1150902194 wkg:1150902208 wkg:1150902267 wkg:1150902281 wkg:1150902286 wkg:1150902309 wkg:1150902320 wkg:1150902433 wkg:1150902467 wkg:1150902493 wkg:1150902496 wkg:1150902513 wkg:1150902548 wkg:1150902619 wkg:1150902808 wkg:1150902887 wkg:1150902943 wkg:1150903027 wkg:1150903157 wkg:1150903186 wkg:1150903218 wkg:1150903232 wkg:1150903233 wkg:1150903261 wkg:1150903270 wkg:1150903271 wkg:1150903337 wkg:1150903350 wkg:1150903356 wkg:1150903357 wkg:1150903425 wkg:1150903449 wkg:1150903462 wkg:1150903473 wkg:1150903494 wkg:1150903760 wkg:1150903869 wkg:1150903936 wkg:1150903947 wkg:1150903978 wkg:1150904117 wkg:1150904375 wkg:1150904483 wkg:1150904725 wkg:1150904779 wkg:1150905092 wkg:1150905189 wkg:1150905233 wkg:1150905303 wkg:1150905322 wkg:1150905502 wkg:1150906721 wkg:1150906777 wkg:1150906784 wkg:1150906807 wkg:1150906852 wkg:1150906874 wkg:1150906916 wkg:1150906924 wkg:1150906953 wkg:1150907139 wkg:1150907194 wkg:1150907211 wkg:1150907301 wkg:1150907419 wkg:1150907781 wkg:1150907807 wkg:1150907849 wkg:1150907853 wkg:1150907899 wkg:1150907927 wkg:1150908106 wkg:1150908113 wkg:1150908134} .\n",
            "    ?entity_uri wkgs:spatialObject ?geom.\n",
            "    ?geom geo:asWKT ?coordinates.\n",
            "    OPTIONAL { ?entity_uri rdf:type ?type .}\n",
            "    OPTIONAL { ?entity_uri rdfs:label ?label .}\n",
            "    OPTIONAL { ?entity_uri wkgs:nameEn ?nameEn .}\n",
            "  }\n",
            "  \n"
          ]
        },
        {
          "name": "stderr",
          "output_type": "stream",
          "text": [
            "\r  6%|▌         | 9/162 [00:04<01:10,  2.17it/s]"
          ]
        },
        {
          "name": "stdout",
          "output_type": "stream",
          "text": [
            "(100, 5)\n",
            "\n",
            "  PREFIX uom: <http://www.opengis.net/def/uom/OGC/1.0/>\n",
            "  PREFIX wkgs: <http://www.worldkg.org/schema/>\n",
            "  PREFIX wkg: <http://www.worldkg.org/resource/>\n",
            "  PREFIX wd: <http://www.wikidata.org/wiki/>\n",
            "  PREFIX sf: <http://www.opengis.net/ont/sf#>\n",
            "  PREFIX rdfs: <http://www.w3.org/2000/01/rdf-schema#>\n",
            "  PREFIX geo: <http://www.opengis.net/ont/geosparql#>\n",
            "  PREFIX owl: <http://www.w3.org/2002/07/owl#>\n",
            "  PREFIX rdf: <http://www.w3.org/1999/02/22-rdf-syntax-ns#>\n",
            "  SELECT DISTINCT ?entity_uri ?type ?label ?nameEn ?coordinates WHERE {\n",
            "    VALUES ?entity_uri {wkg:1150908146 wkg:1150908240 wkg:1150908358 wkg:1150908370 wkg:1150908530 wkg:1150908551 wkg:1150908575 wkg:1150908583 wkg:1150908619 wkg:1150908623 wkg:1150908634 wkg:1150908682 wkg:1150908725 wkg:1150908795 wkg:1150908813 wkg:1150908823 wkg:1150908836 wkg:1150908856 wkg:1150908881 wkg:1150908895 wkg:1150908992 wkg:1150909068 wkg:1150909085 wkg:1150909102 wkg:1150909252 wkg:1150909271 wkg:1150909317 wkg:1150909331 wkg:1150909384 wkg:1150909386 wkg:1150909412 wkg:1150909414 wkg:1150909433 wkg:1150909442 wkg:1150909522 wkg:1150909581 wkg:1150909606 wkg:1150909668 wkg:1150909679 wkg:1150909720 wkg:1150909832 wkg:1150909865 wkg:1150909906 wkg:1150909923 wkg:1150909985 wkg:1150910017 wkg:1150910084 wkg:1150910088 wkg:1150910099 wkg:1150910101 wkg:1150910109 wkg:1150910111 wkg:1150910131 wkg:1150910138 wkg:1150910163 wkg:1150910242 wkg:1150910317 wkg:1150910336 wkg:1150910346 wkg:1150910370 wkg:1150910388 wkg:1150910391 wkg:1150910501 wkg:1150910503 wkg:1150910531 wkg:1150910581 wkg:1150910608 wkg:1150910664 wkg:1150910701 wkg:1150910719 wkg:1150910758 wkg:1150910792 wkg:1150910819 wkg:1150910824 wkg:1150910857 wkg:1150910915 wkg:1150910924 wkg:1150910939 wkg:1150911021 wkg:1150911095 wkg:1150911105 wkg:1150911131 wkg:1150911140 wkg:1150911143 wkg:1150911144 wkg:1150911184 wkg:1150911202 wkg:1150911386 wkg:1150911411 wkg:1150911420 wkg:1150911438 wkg:1150911479 wkg:1150911546 wkg:1150911591 wkg:1150911645 wkg:1150911752 wkg:1150911879 wkg:1150911941 wkg:1150911948 wkg:1150912102} .\n",
            "    ?entity_uri wkgs:spatialObject ?geom.\n",
            "    ?geom geo:asWKT ?coordinates.\n",
            "    OPTIONAL { ?entity_uri rdf:type ?type .}\n",
            "    OPTIONAL { ?entity_uri rdfs:label ?label .}\n",
            "    OPTIONAL { ?entity_uri wkgs:nameEn ?nameEn .}\n",
            "  }\n",
            "  \n"
          ]
        },
        {
          "name": "stderr",
          "output_type": "stream",
          "text": [
            "\r  6%|▌         | 10/162 [00:04<01:11,  2.12it/s]"
          ]
        },
        {
          "name": "stdout",
          "output_type": "stream",
          "text": [
            "(101, 5)\n",
            "\n",
            "  PREFIX uom: <http://www.opengis.net/def/uom/OGC/1.0/>\n",
            "  PREFIX wkgs: <http://www.worldkg.org/schema/>\n",
            "  PREFIX wkg: <http://www.worldkg.org/resource/>\n",
            "  PREFIX wd: <http://www.wikidata.org/wiki/>\n",
            "  PREFIX sf: <http://www.opengis.net/ont/sf#>\n",
            "  PREFIX rdfs: <http://www.w3.org/2000/01/rdf-schema#>\n",
            "  PREFIX geo: <http://www.opengis.net/ont/geosparql#>\n",
            "  PREFIX owl: <http://www.w3.org/2002/07/owl#>\n",
            "  PREFIX rdf: <http://www.w3.org/1999/02/22-rdf-syntax-ns#>\n",
            "  SELECT DISTINCT ?entity_uri ?type ?label ?nameEn ?coordinates WHERE {\n",
            "    VALUES ?entity_uri {wkg:1150912126 wkg:1150912160 wkg:1150912169 wkg:1150912176 wkg:1150912187 wkg:1150912190 wkg:1150912195 wkg:1150912197 wkg:1150912234 wkg:1150912244 wkg:1150912267 wkg:1150912294 wkg:1150912304 wkg:1150912338 wkg:1150912355 wkg:1150912377 wkg:1150912436 wkg:1150912449 wkg:1150912459 wkg:1150912639 wkg:1150912677 wkg:1150912717 wkg:1150912771 wkg:1150912792 wkg:1150912874 wkg:1150912885 wkg:1150912926 wkg:1150912939 wkg:1150912957 wkg:1150912983 wkg:1150912995 wkg:1150913020 wkg:1150913026 wkg:1150913061 wkg:1150913064 wkg:1150913108 wkg:1150913348 wkg:1150913365 wkg:1150913531 wkg:1150913545 wkg:1150913569 wkg:1150913570 wkg:1150913610 wkg:1150913660 wkg:1150913712 wkg:1150914115 wkg:1150914169 wkg:1150914285 wkg:1150914453 wkg:1150914460 wkg:1150914567 wkg:1150914823 wkg:1150914953 wkg:1150914988 wkg:1150915048 wkg:1150915064 wkg:1150915074 wkg:1150915093 wkg:1150915148 wkg:1150915511 wkg:1150915517 wkg:1150915534 wkg:1150915545 wkg:1150915632 wkg:1150915727 wkg:1150915754 wkg:1150916405 wkg:1150916467 wkg:1150916545 wkg:1150916601 wkg:1150916635 wkg:1150916723 wkg:1150916763 wkg:1150916777 wkg:1150916947 wkg:1150917051 wkg:1150917106 wkg:1150917119 wkg:1150917173 wkg:1150917176 wkg:1150917339 wkg:1150917374 wkg:1150917576 wkg:1150917609 wkg:1150917708 wkg:1150917728 wkg:1150917770 wkg:1150917842 wkg:1150917873 wkg:1150917955 wkg:1150918001 wkg:1150918022 wkg:1150918046 wkg:1150918052 wkg:1150918190 wkg:1150918298 wkg:1150918481 wkg:1150918516 wkg:1150918522 wkg:1150918546} .\n",
            "    ?entity_uri wkgs:spatialObject ?geom.\n",
            "    ?geom geo:asWKT ?coordinates.\n",
            "    OPTIONAL { ?entity_uri rdf:type ?type .}\n",
            "    OPTIONAL { ?entity_uri rdfs:label ?label .}\n",
            "    OPTIONAL { ?entity_uri wkgs:nameEn ?nameEn .}\n",
            "  }\n",
            "  \n"
          ]
        },
        {
          "name": "stderr",
          "output_type": "stream",
          "text": [
            "\r  7%|▋         | 11/162 [00:05<01:10,  2.14it/s]"
          ]
        },
        {
          "name": "stdout",
          "output_type": "stream",
          "text": [
            "(100, 5)\n",
            "\n",
            "  PREFIX uom: <http://www.opengis.net/def/uom/OGC/1.0/>\n",
            "  PREFIX wkgs: <http://www.worldkg.org/schema/>\n",
            "  PREFIX wkg: <http://www.worldkg.org/resource/>\n",
            "  PREFIX wd: <http://www.wikidata.org/wiki/>\n",
            "  PREFIX sf: <http://www.opengis.net/ont/sf#>\n",
            "  PREFIX rdfs: <http://www.w3.org/2000/01/rdf-schema#>\n",
            "  PREFIX geo: <http://www.opengis.net/ont/geosparql#>\n",
            "  PREFIX owl: <http://www.w3.org/2002/07/owl#>\n",
            "  PREFIX rdf: <http://www.w3.org/1999/02/22-rdf-syntax-ns#>\n",
            "  SELECT DISTINCT ?entity_uri ?type ?label ?nameEn ?coordinates WHERE {\n",
            "    VALUES ?entity_uri {wkg:1150918589 wkg:1150918616 wkg:1150918642 wkg:1150918693 wkg:1150918758 wkg:1150918779 wkg:1150918821 wkg:1150918868 wkg:1150918879 wkg:1150918914 wkg:1150918929 wkg:1150918946 wkg:1150918988 wkg:1150919008 wkg:1150919056 wkg:1150919104 wkg:1150919150 wkg:1150919329 wkg:1150919336 wkg:1150919400 wkg:1150919465 wkg:1150919650 wkg:1150919670 wkg:1150919715 wkg:1150919788 wkg:1150919850 wkg:1150919970 wkg:1150919992 wkg:1150919999 wkg:1150920045 wkg:1150920134 wkg:1150920170 wkg:1150920312 wkg:1150920382 wkg:1150920401 wkg:1150920415 wkg:1150920430 wkg:1150920455 wkg:1150920481 wkg:1150920493 wkg:1150920494 wkg:1150920685 wkg:1150920746 wkg:1150920767 wkg:1150920802 wkg:1150920814 wkg:1150920977 wkg:1150921013 wkg:1150921016 wkg:1150921151 wkg:1150921176 wkg:1150921215 wkg:1150921235 wkg:1150921346 wkg:1150921391 wkg:1150921485 wkg:1150921516 wkg:1150921557 wkg:1150921585 wkg:1150921598 wkg:1150921606 wkg:1150921654 wkg:1150921674 wkg:1150921697 wkg:1150921709 wkg:1150921792 wkg:1150921795 wkg:1150921839 wkg:1150921842 wkg:1150921864 wkg:1150921888 wkg:1150921929 wkg:1150921956 wkg:1150921985 wkg:1150921991 wkg:1150922031 wkg:1150922042 wkg:1150922154 wkg:1150922171 wkg:1150922172 wkg:1150922258 wkg:1150922316 wkg:1150922327 wkg:1150922383 wkg:1150922433 wkg:1150922650 wkg:1150922712 wkg:1150922774 wkg:1150922808 wkg:1150922838 wkg:1150922856 wkg:1150922941 wkg:1150922956 wkg:1150922961 wkg:1150923046 wkg:1150923149 wkg:1150923203 wkg:1150923212 wkg:1150923331 wkg:1150923352} .\n",
            "    ?entity_uri wkgs:spatialObject ?geom.\n",
            "    ?geom geo:asWKT ?coordinates.\n",
            "    OPTIONAL { ?entity_uri rdf:type ?type .}\n",
            "    OPTIONAL { ?entity_uri rdfs:label ?label .}\n",
            "    OPTIONAL { ?entity_uri wkgs:nameEn ?nameEn .}\n",
            "  }\n",
            "  \n"
          ]
        },
        {
          "name": "stderr",
          "output_type": "stream",
          "text": [
            "\r  7%|▋         | 12/162 [00:05<01:10,  2.14it/s]"
          ]
        },
        {
          "name": "stdout",
          "output_type": "stream",
          "text": [
            "(100, 5)\n",
            "\n",
            "  PREFIX uom: <http://www.opengis.net/def/uom/OGC/1.0/>\n",
            "  PREFIX wkgs: <http://www.worldkg.org/schema/>\n",
            "  PREFIX wkg: <http://www.worldkg.org/resource/>\n",
            "  PREFIX wd: <http://www.wikidata.org/wiki/>\n",
            "  PREFIX sf: <http://www.opengis.net/ont/sf#>\n",
            "  PREFIX rdfs: <http://www.w3.org/2000/01/rdf-schema#>\n",
            "  PREFIX geo: <http://www.opengis.net/ont/geosparql#>\n",
            "  PREFIX owl: <http://www.w3.org/2002/07/owl#>\n",
            "  PREFIX rdf: <http://www.w3.org/1999/02/22-rdf-syntax-ns#>\n",
            "  SELECT DISTINCT ?entity_uri ?type ?label ?nameEn ?coordinates WHERE {\n",
            "    VALUES ?entity_uri {wkg:1150923541 wkg:1150923592 wkg:1150923727 wkg:1150923766 wkg:1150923768 wkg:1150923805 wkg:1150923853 wkg:1150924025 wkg:1150924057 wkg:1150924082 wkg:1150924127 wkg:1150924164 wkg:1150924215 wkg:1150924237 wkg:1150924317 wkg:1150924366 wkg:1150924394 wkg:1150924443 wkg:1150924457 wkg:1150924547 wkg:1150924558 wkg:1150924575 wkg:1150924595 wkg:1150924596 wkg:1150924605 wkg:1150924624 wkg:1150924720 wkg:1150924751 wkg:1150924786 wkg:1150924834 wkg:1150924881 wkg:1150924936 wkg:1150925009 wkg:1150925039 wkg:1150925062 wkg:1150925068 wkg:1150925127 wkg:1150925138 wkg:1150925221 wkg:1150925232 wkg:1150925243 wkg:1150925285 wkg:1150925360 wkg:1150925384 wkg:1150925395 wkg:1150925444 wkg:1150925470 wkg:1150925488 wkg:1150925496 wkg:1150925607 wkg:1150925637 wkg:1150925651 wkg:1150925656 wkg:1150925699 wkg:1150925792 wkg:1150925815 wkg:1150925885 wkg:1150925936 wkg:1150926045 wkg:1150926049 wkg:1150926056 wkg:1150926096 wkg:1150926172 wkg:1150926196 wkg:1150926228 wkg:1150926307 wkg:1150926324 wkg:1150926332 wkg:1150926409 wkg:1150926454 wkg:1150926541 wkg:1150926614 wkg:1150926632 wkg:1150926649 wkg:1150926667 wkg:1150926719 wkg:1150926732 wkg:1150926751 wkg:1150926792 wkg:1150926848 wkg:1150926868 wkg:1150927023 wkg:1150927166 wkg:1150927171 wkg:1150927181 wkg:1150927253 wkg:1150927275 wkg:1150927357 wkg:1150927410 wkg:1150927494 wkg:1150927745 wkg:1150927823 wkg:1150927847 wkg:1150927861 wkg:1150927864 wkg:1150927906 wkg:1150927942 wkg:1150927997 wkg:1150928030 wkg:1150928155} .\n",
            "    ?entity_uri wkgs:spatialObject ?geom.\n",
            "    ?geom geo:asWKT ?coordinates.\n",
            "    OPTIONAL { ?entity_uri rdf:type ?type .}\n",
            "    OPTIONAL { ?entity_uri rdfs:label ?label .}\n",
            "    OPTIONAL { ?entity_uri wkgs:nameEn ?nameEn .}\n",
            "  }\n",
            "  \n"
          ]
        },
        {
          "name": "stderr",
          "output_type": "stream",
          "text": [
            "\r  8%|▊         | 13/162 [00:06<01:09,  2.15it/s]"
          ]
        },
        {
          "name": "stdout",
          "output_type": "stream",
          "text": [
            "(100, 5)\n",
            "\n",
            "  PREFIX uom: <http://www.opengis.net/def/uom/OGC/1.0/>\n",
            "  PREFIX wkgs: <http://www.worldkg.org/schema/>\n",
            "  PREFIX wkg: <http://www.worldkg.org/resource/>\n",
            "  PREFIX wd: <http://www.wikidata.org/wiki/>\n",
            "  PREFIX sf: <http://www.opengis.net/ont/sf#>\n",
            "  PREFIX rdfs: <http://www.w3.org/2000/01/rdf-schema#>\n",
            "  PREFIX geo: <http://www.opengis.net/ont/geosparql#>\n",
            "  PREFIX owl: <http://www.w3.org/2002/07/owl#>\n",
            "  PREFIX rdf: <http://www.w3.org/1999/02/22-rdf-syntax-ns#>\n",
            "  SELECT DISTINCT ?entity_uri ?type ?label ?nameEn ?coordinates WHERE {\n",
            "    VALUES ?entity_uri {wkg:1150928165 wkg:1150928244 wkg:1150928332 wkg:1150928338 wkg:1150928372 wkg:1150928442 wkg:1150928464 wkg:1150928513 wkg:1150928627 wkg:1150928746 wkg:1150928841 wkg:1150928864 wkg:1150928896 wkg:1150928991 wkg:1150929031 wkg:1150929080 wkg:1150929101 wkg:1150929144 wkg:1150929274 wkg:1150929323 wkg:1150929331 wkg:1150929429 wkg:1150929552 wkg:1150929572 wkg:1150929591 wkg:1150929606 wkg:1150929928 wkg:1150930004 wkg:1150930244 wkg:1150930272 wkg:1150930555 wkg:1150930778 wkg:1150930792 wkg:1150930819 wkg:1150930857 wkg:1150930897 wkg:1150930917 wkg:1150931289 wkg:1150931891 wkg:1150932113 wkg:1150932229 wkg:1150932263 wkg:1150932671 wkg:1150932708 wkg:1150932925 wkg:1150932991 wkg:1150932998 wkg:1150933017 wkg:1150933350 wkg:1150933593 wkg:1150933602 wkg:1150933805 wkg:1150933874 wkg:1150933878 wkg:1150933959 wkg:1150933982 wkg:1150934044 wkg:1150934092 wkg:1150934151 wkg:1150934338 wkg:1150934526 wkg:1150934620 wkg:1150934639 wkg:1150934690 wkg:1150934710 wkg:1150934764 wkg:1150934812 wkg:1150934905 wkg:1150934942 wkg:1150934951 wkg:1150934956 wkg:1150934966 wkg:1150934991 wkg:1150935040 wkg:1150935056 wkg:1150935132 wkg:1150935197 wkg:1150935231 wkg:1150935278 wkg:1150935407 wkg:1150935555 wkg:1150935560 wkg:1150935702 wkg:1150935723 wkg:1150935783 wkg:1150935809 wkg:1150935824 wkg:1150935969 wkg:1150935999 wkg:1150936014 wkg:1150936053 wkg:1150936129 wkg:1150936314 wkg:1150936318 wkg:1150936331 wkg:1150936355 wkg:1150936394 wkg:1150936508 wkg:1150936512 wkg:1150936525} .\n",
            "    ?entity_uri wkgs:spatialObject ?geom.\n",
            "    ?geom geo:asWKT ?coordinates.\n",
            "    OPTIONAL { ?entity_uri rdf:type ?type .}\n",
            "    OPTIONAL { ?entity_uri rdfs:label ?label .}\n",
            "    OPTIONAL { ?entity_uri wkgs:nameEn ?nameEn .}\n",
            "  }\n",
            "  \n"
          ]
        },
        {
          "name": "stderr",
          "output_type": "stream",
          "text": [
            "\r  9%|▊         | 14/162 [00:06<01:08,  2.15it/s]"
          ]
        },
        {
          "name": "stdout",
          "output_type": "stream",
          "text": [
            "(100, 5)\n",
            "\n",
            "  PREFIX uom: <http://www.opengis.net/def/uom/OGC/1.0/>\n",
            "  PREFIX wkgs: <http://www.worldkg.org/schema/>\n",
            "  PREFIX wkg: <http://www.worldkg.org/resource/>\n",
            "  PREFIX wd: <http://www.wikidata.org/wiki/>\n",
            "  PREFIX sf: <http://www.opengis.net/ont/sf#>\n",
            "  PREFIX rdfs: <http://www.w3.org/2000/01/rdf-schema#>\n",
            "  PREFIX geo: <http://www.opengis.net/ont/geosparql#>\n",
            "  PREFIX owl: <http://www.w3.org/2002/07/owl#>\n",
            "  PREFIX rdf: <http://www.w3.org/1999/02/22-rdf-syntax-ns#>\n",
            "  SELECT DISTINCT ?entity_uri ?type ?label ?nameEn ?coordinates WHERE {\n",
            "    VALUES ?entity_uri {wkg:1150936555 wkg:1150936558 wkg:1150936573 wkg:1150936597 wkg:1150936629 wkg:1150936645 wkg:1150936703 wkg:1150936784 wkg:1150936804 wkg:1150937042 wkg:1150937263 wkg:1150937264 wkg:1150937287 wkg:1150937312 wkg:1150937325 wkg:1150937460 wkg:1150937501 wkg:1150937516 wkg:1150937525 wkg:1150937535 wkg:1150937568 wkg:1150937583 wkg:1150937596 wkg:1150937816 wkg:1150937826 wkg:1150937881 wkg:1150937888 wkg:1150937890 wkg:1150938009 wkg:1150938037 wkg:1150938073 wkg:1150938327 wkg:1150938508 wkg:1150938514 wkg:1150938574 wkg:1150938652 wkg:1150938675 wkg:1150938688 wkg:1150938719 wkg:1150938771 wkg:1150938776 wkg:1150938800 wkg:1150938818 wkg:1150938821 wkg:1150938824 wkg:1150938846 wkg:1150938850 wkg:1150938856 wkg:1150938858 wkg:1150938879 wkg:1150938926 wkg:1150938978 wkg:1150939601 wkg:1150939631 wkg:1150939648 wkg:1150939680 wkg:1150939850 wkg:1150939929 wkg:1150940072 wkg:1150940085 wkg:1150940290 wkg:1150940683 wkg:1150940779 wkg:1150940833 wkg:1150941149 wkg:1150941247 wkg:1150941304 wkg:1150941362 wkg:1150941395 wkg:1150941572 wkg:1150941614 wkg:1150941703 wkg:1150941734 wkg:1150941743 wkg:1150942077 wkg:1150942287 wkg:1150942481 wkg:1150942508 wkg:1150942514 wkg:1150942549 wkg:1150942768 wkg:1150942819 wkg:1150943274 wkg:1150943292 wkg:1150943358 wkg:1150943471 wkg:1150943493 wkg:1150943533 wkg:1150943561 wkg:1150943665 wkg:1150943857 wkg:1150943896 wkg:1150943971 wkg:1150944013 wkg:1150944084 wkg:1150944105 wkg:1150944192 wkg:1150944285 wkg:1150944344 wkg:1150944458} .\n",
            "    ?entity_uri wkgs:spatialObject ?geom.\n",
            "    ?geom geo:asWKT ?coordinates.\n",
            "    OPTIONAL { ?entity_uri rdf:type ?type .}\n",
            "    OPTIONAL { ?entity_uri rdfs:label ?label .}\n",
            "    OPTIONAL { ?entity_uri wkgs:nameEn ?nameEn .}\n",
            "  }\n",
            "  \n"
          ]
        },
        {
          "name": "stderr",
          "output_type": "stream",
          "text": [
            "\r  9%|▉         | 15/162 [00:07<01:08,  2.16it/s]"
          ]
        },
        {
          "name": "stdout",
          "output_type": "stream",
          "text": [
            "(100, 5)\n",
            "\n",
            "  PREFIX uom: <http://www.opengis.net/def/uom/OGC/1.0/>\n",
            "  PREFIX wkgs: <http://www.worldkg.org/schema/>\n",
            "  PREFIX wkg: <http://www.worldkg.org/resource/>\n",
            "  PREFIX wd: <http://www.wikidata.org/wiki/>\n",
            "  PREFIX sf: <http://www.opengis.net/ont/sf#>\n",
            "  PREFIX rdfs: <http://www.w3.org/2000/01/rdf-schema#>\n",
            "  PREFIX geo: <http://www.opengis.net/ont/geosparql#>\n",
            "  PREFIX owl: <http://www.w3.org/2002/07/owl#>\n",
            "  PREFIX rdf: <http://www.w3.org/1999/02/22-rdf-syntax-ns#>\n",
            "  SELECT DISTINCT ?entity_uri ?type ?label ?nameEn ?coordinates WHERE {\n",
            "    VALUES ?entity_uri {wkg:1150944493 wkg:1150944805 wkg:1150944809 wkg:1150944867 wkg:1150944913 wkg:1150945001 wkg:1150945117 wkg:1150945217 wkg:1150945344 wkg:1150945363 wkg:1150945373 wkg:1150945394 wkg:1150945420 wkg:1150945561 wkg:1150945617 wkg:1150945627 wkg:1150945665 wkg:1150945669 wkg:1150945733 wkg:1150945753 wkg:1150945771 wkg:1150945773 wkg:1150945948 wkg:1150945986 wkg:1150946036 wkg:1150946176 wkg:1150946178 wkg:1150946213 wkg:1150946441 wkg:1150946497 wkg:1150946501 wkg:1150946569 wkg:1150946803 wkg:1150946918 wkg:1150946951 wkg:1150947221 wkg:1150947407 wkg:1150947641 wkg:1150947710 wkg:1150947736 wkg:1150947745 wkg:1150947749 wkg:1150948090 wkg:1150948108 wkg:1150948142 wkg:1150948448 wkg:1150948461 wkg:1150948602 wkg:1150948609 wkg:1150948645 wkg:1150948691 wkg:1150948784 wkg:1150948815 wkg:1150948820 wkg:1150948895 wkg:1150949016 wkg:1150949041 wkg:1150949157 wkg:1150949239 wkg:1150949263 wkg:1150949358 wkg:1150949366 wkg:1150949387 wkg:1150949392 wkg:1150949413 wkg:1150949455 wkg:1150949457 wkg:1150949468 wkg:1150949531 wkg:1150949587 wkg:1150949604 wkg:1150949707 wkg:1150949914 wkg:1150949999 wkg:1150950009 wkg:1150950150 wkg:1150950164 wkg:1150950198 wkg:1150950223 wkg:1150950227 wkg:1150950237 wkg:1150950268 wkg:1150950471 wkg:1150950476 wkg:1150950987 wkg:1150950996 wkg:1150951024 wkg:1150951182 wkg:1150951376 wkg:1150951461 wkg:1150951597 wkg:1150951633 wkg:1150951738 wkg:1150951742 wkg:1150951759 wkg:1150951801 wkg:1150951821 wkg:1150951848 wkg:1150951911 wkg:1150952074} .\n",
            "    ?entity_uri wkgs:spatialObject ?geom.\n",
            "    ?geom geo:asWKT ?coordinates.\n",
            "    OPTIONAL { ?entity_uri rdf:type ?type .}\n",
            "    OPTIONAL { ?entity_uri rdfs:label ?label .}\n",
            "    OPTIONAL { ?entity_uri wkgs:nameEn ?nameEn .}\n",
            "  }\n",
            "  \n"
          ]
        },
        {
          "name": "stderr",
          "output_type": "stream",
          "text": [
            "\r 10%|▉         | 16/162 [00:07<01:07,  2.17it/s]"
          ]
        },
        {
          "name": "stdout",
          "output_type": "stream",
          "text": [
            "(100, 5)\n",
            "\n",
            "  PREFIX uom: <http://www.opengis.net/def/uom/OGC/1.0/>\n",
            "  PREFIX wkgs: <http://www.worldkg.org/schema/>\n",
            "  PREFIX wkg: <http://www.worldkg.org/resource/>\n",
            "  PREFIX wd: <http://www.wikidata.org/wiki/>\n",
            "  PREFIX sf: <http://www.opengis.net/ont/sf#>\n",
            "  PREFIX rdfs: <http://www.w3.org/2000/01/rdf-schema#>\n",
            "  PREFIX geo: <http://www.opengis.net/ont/geosparql#>\n",
            "  PREFIX owl: <http://www.w3.org/2002/07/owl#>\n",
            "  PREFIX rdf: <http://www.w3.org/1999/02/22-rdf-syntax-ns#>\n",
            "  SELECT DISTINCT ?entity_uri ?type ?label ?nameEn ?coordinates WHERE {\n",
            "    VALUES ?entity_uri {wkg:1150952078 wkg:1150952136 wkg:1150952420 wkg:1150952513 wkg:1150952538 wkg:1150952542 wkg:1150952854 wkg:1150952894 wkg:1150952919 wkg:1150953083 wkg:1150953421 wkg:1150953614 wkg:1150953646 wkg:1150953859 wkg:1150953967 wkg:1150953973 wkg:1150953989 wkg:1150954236 wkg:1150954242 wkg:1150954354 wkg:1150954454 wkg:1150954484 wkg:1150954611 wkg:1150954683 wkg:1150954689 wkg:1150954730 wkg:1150954745 wkg:1150954750 wkg:1150954870 wkg:1150954973 wkg:1150955097 wkg:1150955206 wkg:1150955635 wkg:1150955639 wkg:1150955838 wkg:1150955904 wkg:1150955922 wkg:1150955949 wkg:1150955960 wkg:1150956019 wkg:1150956100 wkg:1150956121 wkg:1150956142 wkg:1150956197 wkg:1150956225 wkg:1150956349 wkg:1150956416 wkg:1150956421 wkg:1150956461 wkg:1150956488 wkg:1150956501 wkg:1150956548 wkg:1150956569 wkg:1150956605 wkg:1150956699 wkg:1150956706 wkg:1150956749 wkg:1150956875 wkg:1150957040 wkg:1150957066 wkg:1150957229 wkg:1150957242 wkg:1150957303 wkg:1150957426 wkg:1150957434 wkg:1150957539 wkg:1150957597 wkg:1150957607 wkg:1150957611 wkg:1150957632 wkg:1150957689 wkg:1150957693 wkg:1150957729 wkg:1150957748 wkg:1150957758 wkg:1150957806 wkg:1150957815 wkg:1150957825 wkg:1150957852 wkg:1150957933 wkg:1150957957 wkg:1150957979 wkg:1150957992 wkg:1150958062 wkg:1150958084 wkg:1150958090 wkg:1150958111 wkg:1150958135 wkg:1150958259 wkg:1150958264 wkg:1150958297 wkg:1150958336 wkg:1150958366 wkg:1150958421 wkg:1150958424 wkg:1150958461 wkg:1150958501 wkg:1150958828 wkg:1150958954 wkg:1150958986} .\n",
            "    ?entity_uri wkgs:spatialObject ?geom.\n",
            "    ?geom geo:asWKT ?coordinates.\n",
            "    OPTIONAL { ?entity_uri rdf:type ?type .}\n",
            "    OPTIONAL { ?entity_uri rdfs:label ?label .}\n",
            "    OPTIONAL { ?entity_uri wkgs:nameEn ?nameEn .}\n",
            "  }\n",
            "  \n"
          ]
        },
        {
          "name": "stderr",
          "output_type": "stream",
          "text": [
            "\r 10%|█         | 17/162 [00:08<01:07,  2.16it/s]"
          ]
        },
        {
          "name": "stdout",
          "output_type": "stream",
          "text": [
            "(100, 5)\n",
            "\n",
            "  PREFIX uom: <http://www.opengis.net/def/uom/OGC/1.0/>\n",
            "  PREFIX wkgs: <http://www.worldkg.org/schema/>\n",
            "  PREFIX wkg: <http://www.worldkg.org/resource/>\n",
            "  PREFIX wd: <http://www.wikidata.org/wiki/>\n",
            "  PREFIX sf: <http://www.opengis.net/ont/sf#>\n",
            "  PREFIX rdfs: <http://www.w3.org/2000/01/rdf-schema#>\n",
            "  PREFIX geo: <http://www.opengis.net/ont/geosparql#>\n",
            "  PREFIX owl: <http://www.w3.org/2002/07/owl#>\n",
            "  PREFIX rdf: <http://www.w3.org/1999/02/22-rdf-syntax-ns#>\n",
            "  SELECT DISTINCT ?entity_uri ?type ?label ?nameEn ?coordinates WHERE {\n",
            "    VALUES ?entity_uri {wkg:1150959002 wkg:1150959016 wkg:1150959051 wkg:1150959117 wkg:1150959132 wkg:1150959222 wkg:1150959260 wkg:1150959273 wkg:1150959277 wkg:1150959333 wkg:1150959359 wkg:1150959374 wkg:1150959395 wkg:1150959400 wkg:1150959418 wkg:1150959437 wkg:1150959489 wkg:1150959699 wkg:1150959823 wkg:1150959954 wkg:1150959971 wkg:1150960006 wkg:1150960042 wkg:1150960084 wkg:1150960109 wkg:1150960242 wkg:1150960330 wkg:1150960373 wkg:1150960524 wkg:1150960604 wkg:1150960643 wkg:1150960677 wkg:1150960707 wkg:1150960760 wkg:1150960839 wkg:1150960857 wkg:1150960916 wkg:1150961161 wkg:1150961271 wkg:1150961330 wkg:1150961418 wkg:1150961451 wkg:1150961489 wkg:1150961513 wkg:1150961532 wkg:1150961554 wkg:1150961585 wkg:1150961645 wkg:1150961692 wkg:1150961705 wkg:1150961732 wkg:1150961754 wkg:1150961807 wkg:1150962079 wkg:1150962162 wkg:1150962219 wkg:1150962281 wkg:1150962292 wkg:1150962306 wkg:1150962330 wkg:1150962344 wkg:1150962353 wkg:1150962377 wkg:1150962390 wkg:1150962426 wkg:1150962636 wkg:1150962649 wkg:1150962674 wkg:1150962721 wkg:1150962767 wkg:1150962770 wkg:1150962799 wkg:1150962802 wkg:1150962893 wkg:1150962907 wkg:1150962923 wkg:1150962936 wkg:1150962963 wkg:1150963106 wkg:1150963123 wkg:1150963165 wkg:1150963232 wkg:1150963255 wkg:1150963320 wkg:1150963406 wkg:1150963498 wkg:1150963506 wkg:1150963582 wkg:1150963591 wkg:1150963621 wkg:1150963768 wkg:1150963771 wkg:1150963824 wkg:1150963925 wkg:1150963972 wkg:1150964066 wkg:1150965682 wkg:1150965765 wkg:1150965821 wkg:1150965856} .\n",
            "    ?entity_uri wkgs:spatialObject ?geom.\n",
            "    ?geom geo:asWKT ?coordinates.\n",
            "    OPTIONAL { ?entity_uri rdf:type ?type .}\n",
            "    OPTIONAL { ?entity_uri rdfs:label ?label .}\n",
            "    OPTIONAL { ?entity_uri wkgs:nameEn ?nameEn .}\n",
            "  }\n",
            "  \n"
          ]
        },
        {
          "name": "stderr",
          "output_type": "stream",
          "text": [
            "\r 11%|█         | 18/162 [00:08<01:06,  2.17it/s]"
          ]
        },
        {
          "name": "stdout",
          "output_type": "stream",
          "text": [
            "(100, 5)\n",
            "\n",
            "  PREFIX uom: <http://www.opengis.net/def/uom/OGC/1.0/>\n",
            "  PREFIX wkgs: <http://www.worldkg.org/schema/>\n",
            "  PREFIX wkg: <http://www.worldkg.org/resource/>\n",
            "  PREFIX wd: <http://www.wikidata.org/wiki/>\n",
            "  PREFIX sf: <http://www.opengis.net/ont/sf#>\n",
            "  PREFIX rdfs: <http://www.w3.org/2000/01/rdf-schema#>\n",
            "  PREFIX geo: <http://www.opengis.net/ont/geosparql#>\n",
            "  PREFIX owl: <http://www.w3.org/2002/07/owl#>\n",
            "  PREFIX rdf: <http://www.w3.org/1999/02/22-rdf-syntax-ns#>\n",
            "  SELECT DISTINCT ?entity_uri ?type ?label ?nameEn ?coordinates WHERE {\n",
            "    VALUES ?entity_uri {wkg:1150965864 wkg:1150966089 wkg:1150966133 wkg:1150966159 wkg:1150966332 wkg:1150966641 wkg:1150966710 wkg:1150966915 wkg:1150966933 wkg:1150966949 wkg:1150966966 wkg:1150966986 wkg:1150967042 wkg:1150967071 wkg:1150967092 wkg:1150967115 wkg:1150967123 wkg:1150967127 wkg:1150967178 wkg:1150967239 wkg:1150967283 wkg:1150967377 wkg:1150967514 wkg:1150967735 wkg:1150967809 wkg:1150967871 wkg:1150967958 wkg:1150968190 wkg:1150968256 wkg:1150968281 wkg:1150968327 wkg:1150968387 wkg:1150968593 wkg:1150968654 wkg:1150968702 wkg:1150968713 wkg:1150968729 wkg:1150968790 wkg:1150968796 wkg:1150968916 wkg:1150968922 wkg:1150969093 wkg:1150969095 wkg:1150969147 wkg:1150969158 wkg:1150969197 wkg:1150969228 wkg:1150969289 wkg:1150969313 wkg:1150969339 wkg:1150969368 wkg:1150969528 wkg:1150969607 wkg:1150969611 wkg:1150969657 wkg:1150969660 wkg:1150969708 wkg:1150969791 wkg:1150969877 wkg:1150969907 wkg:1150969999 wkg:1150970095 wkg:1150970193 wkg:1150970326 wkg:1150970335 wkg:1150970385 wkg:1150970392 wkg:1150970438 wkg:1150970443 wkg:1150970472 wkg:1150970519 wkg:1150970537 wkg:1150970563 wkg:1150970567 wkg:1150970578 wkg:1150970589 wkg:1150970592 wkg:1150970603 wkg:1150970606 wkg:1150970657 wkg:1150970719 wkg:1150970756 wkg:1150970936 wkg:1150970994 wkg:1150971165 wkg:1150971232 wkg:1150971381 wkg:1150971418 wkg:1150971502 wkg:1150971507 wkg:1150971591 wkg:1150971725 wkg:1150971765 wkg:1150971792 wkg:1150971830 wkg:1150971908 wkg:1150971985 wkg:1150972025 wkg:1150972159 wkg:1150972174} .\n",
            "    ?entity_uri wkgs:spatialObject ?geom.\n",
            "    ?geom geo:asWKT ?coordinates.\n",
            "    OPTIONAL { ?entity_uri rdf:type ?type .}\n",
            "    OPTIONAL { ?entity_uri rdfs:label ?label .}\n",
            "    OPTIONAL { ?entity_uri wkgs:nameEn ?nameEn .}\n",
            "  }\n",
            "  \n"
          ]
        },
        {
          "name": "stderr",
          "output_type": "stream",
          "text": [
            "\r 12%|█▏        | 19/162 [00:08<01:06,  2.16it/s]"
          ]
        },
        {
          "name": "stdout",
          "output_type": "stream",
          "text": [
            "(100, 5)\n",
            "\n",
            "  PREFIX uom: <http://www.opengis.net/def/uom/OGC/1.0/>\n",
            "  PREFIX wkgs: <http://www.worldkg.org/schema/>\n",
            "  PREFIX wkg: <http://www.worldkg.org/resource/>\n",
            "  PREFIX wd: <http://www.wikidata.org/wiki/>\n",
            "  PREFIX sf: <http://www.opengis.net/ont/sf#>\n",
            "  PREFIX rdfs: <http://www.w3.org/2000/01/rdf-schema#>\n",
            "  PREFIX geo: <http://www.opengis.net/ont/geosparql#>\n",
            "  PREFIX owl: <http://www.w3.org/2002/07/owl#>\n",
            "  PREFIX rdf: <http://www.w3.org/1999/02/22-rdf-syntax-ns#>\n",
            "  SELECT DISTINCT ?entity_uri ?type ?label ?nameEn ?coordinates WHERE {\n",
            "    VALUES ?entity_uri {wkg:1150972187 wkg:1150972226 wkg:1150972287 wkg:1150972325 wkg:1150972348 wkg:1150972349 wkg:1150972388 wkg:1150972413 wkg:1150972428 wkg:1150972505 wkg:1150972552 wkg:1150972565 wkg:1150972570 wkg:1150972681 wkg:1150972690 wkg:1150972718 wkg:1150972728 wkg:1150972738 wkg:1150972750 wkg:1150972975 wkg:1150973089 wkg:1150973117 wkg:1150973153 wkg:1150973157 wkg:1150973195 wkg:1150973199 wkg:1150973326 wkg:1150973408 wkg:1150973415 wkg:1150973429 wkg:1150973458 wkg:1150973463 wkg:1150973511 wkg:1150973526 wkg:1150973527 wkg:1150973529 wkg:1150973532 wkg:1150973543 wkg:1150973558 wkg:1150973559 wkg:1150973562 wkg:1150973573 wkg:1150973659 wkg:1150973678 wkg:1150973769 wkg:1150973791 wkg:1150973795 wkg:1150973803 wkg:1150973856 wkg:1150973909 wkg:1150974003 wkg:1150974006 wkg:1150974181 wkg:1150974244 wkg:1150974427 wkg:1150974493 wkg:1150974520 wkg:1150974536 wkg:1150974797 wkg:1150974817 wkg:1150974918 wkg:1150975039 wkg:1150975129 wkg:1150975139 wkg:1150975199 wkg:1150975304 wkg:1150975613 wkg:1150975741 wkg:1150975857 wkg:1150975892 wkg:1150975981 wkg:1150976025 wkg:1150976144 wkg:1150976355 wkg:1150976424 wkg:1150976450 wkg:1150976523 wkg:1150976548 wkg:1150976691 wkg:1150976748 wkg:1150976839 wkg:1150976883 wkg:1150977230 wkg:1150977238 wkg:1150977449 wkg:1150977457 wkg:1150977506 wkg:1150977544 wkg:1150977703 wkg:1150977780 wkg:1150977926 wkg:1150978108 wkg:1150978189 wkg:1150978295 wkg:1150978326 wkg:1150978377 wkg:1150978569 wkg:1150978597 wkg:1150978638 wkg:1150978811} .\n",
            "    ?entity_uri wkgs:spatialObject ?geom.\n",
            "    ?geom geo:asWKT ?coordinates.\n",
            "    OPTIONAL { ?entity_uri rdf:type ?type .}\n",
            "    OPTIONAL { ?entity_uri rdfs:label ?label .}\n",
            "    OPTIONAL { ?entity_uri wkgs:nameEn ?nameEn .}\n",
            "  }\n",
            "  \n"
          ]
        },
        {
          "name": "stderr",
          "output_type": "stream",
          "text": [
            "\r 12%|█▏        | 20/162 [00:09<01:05,  2.15it/s]"
          ]
        },
        {
          "name": "stdout",
          "output_type": "stream",
          "text": [
            "(100, 5)\n",
            "\n",
            "  PREFIX uom: <http://www.opengis.net/def/uom/OGC/1.0/>\n",
            "  PREFIX wkgs: <http://www.worldkg.org/schema/>\n",
            "  PREFIX wkg: <http://www.worldkg.org/resource/>\n",
            "  PREFIX wd: <http://www.wikidata.org/wiki/>\n",
            "  PREFIX sf: <http://www.opengis.net/ont/sf#>\n",
            "  PREFIX rdfs: <http://www.w3.org/2000/01/rdf-schema#>\n",
            "  PREFIX geo: <http://www.opengis.net/ont/geosparql#>\n",
            "  PREFIX owl: <http://www.w3.org/2002/07/owl#>\n",
            "  PREFIX rdf: <http://www.w3.org/1999/02/22-rdf-syntax-ns#>\n",
            "  SELECT DISTINCT ?entity_uri ?type ?label ?nameEn ?coordinates WHERE {\n",
            "    VALUES ?entity_uri {wkg:1150978842 wkg:1150978967 wkg:1150979075 wkg:1150979297 wkg:1150979321 wkg:1150979356 wkg:1150979558 wkg:1150979586 wkg:1150979592 wkg:1150979599 wkg:1150979617 wkg:1150979619 wkg:1150979640 wkg:1150979644 wkg:1150979698 wkg:1150979723 wkg:1150979730 wkg:1150979733 wkg:1150979749 wkg:1150979764 wkg:1150979765 wkg:1150979793 wkg:1150979849 wkg:1150979875 wkg:1150979879 wkg:1150979900 wkg:1150979954 wkg:1150979984 wkg:1150980123 wkg:1150980131 wkg:1150980143 wkg:1150980156 wkg:1150980197 wkg:1150980263 wkg:1150980265 wkg:1150980267 wkg:1150980300 wkg:1150980309 wkg:1150980374 wkg:1150980388 wkg:1150980548 wkg:1150980604 wkg:1150980618 wkg:1150980657 wkg:1150980774 wkg:1150980792 wkg:1150980824 wkg:1150980832 wkg:1150980863 wkg:1150980869 wkg:1150981067 wkg:1150981070 wkg:1150981077 wkg:1150981139 wkg:1150981272 wkg:1150981321 wkg:1150981374 wkg:1150981403 wkg:1150981458 wkg:1150981508 wkg:1150981520 wkg:1150981602 wkg:1150981628 wkg:1150981889 wkg:1150982011 wkg:1150982044 wkg:1150982116 wkg:1150982297 wkg:1150982330 wkg:1150982393 wkg:1150982787 wkg:1150995205 wkg:1150997782 wkg:1151001703 wkg:1151001990 wkg:1151002432 wkg:1151002458 wkg:1151002626 wkg:1151002673 wkg:1151003070 wkg:1151003086 wkg:1151003088 wkg:1151003179 wkg:1151003364 wkg:1151003467 wkg:1151003491 wkg:1151003549 wkg:1151003573 wkg:1151003605 wkg:1151003647 wkg:1151003655 wkg:1151003658 wkg:1151003713 wkg:1151003717 wkg:1151003737 wkg:1151003770 wkg:1151003813 wkg:1151003842 wkg:1151003865 wkg:1151003983} .\n",
            "    ?entity_uri wkgs:spatialObject ?geom.\n",
            "    ?geom geo:asWKT ?coordinates.\n",
            "    OPTIONAL { ?entity_uri rdf:type ?type .}\n",
            "    OPTIONAL { ?entity_uri rdfs:label ?label .}\n",
            "    OPTIONAL { ?entity_uri wkgs:nameEn ?nameEn .}\n",
            "  }\n",
            "  \n"
          ]
        },
        {
          "name": "stderr",
          "output_type": "stream",
          "text": [
            "\r 13%|█▎        | 21/162 [00:09<01:05,  2.16it/s]"
          ]
        },
        {
          "name": "stdout",
          "output_type": "stream",
          "text": [
            "(100, 5)\n",
            "\n",
            "  PREFIX uom: <http://www.opengis.net/def/uom/OGC/1.0/>\n",
            "  PREFIX wkgs: <http://www.worldkg.org/schema/>\n",
            "  PREFIX wkg: <http://www.worldkg.org/resource/>\n",
            "  PREFIX wd: <http://www.wikidata.org/wiki/>\n",
            "  PREFIX sf: <http://www.opengis.net/ont/sf#>\n",
            "  PREFIX rdfs: <http://www.w3.org/2000/01/rdf-schema#>\n",
            "  PREFIX geo: <http://www.opengis.net/ont/geosparql#>\n",
            "  PREFIX owl: <http://www.w3.org/2002/07/owl#>\n",
            "  PREFIX rdf: <http://www.w3.org/1999/02/22-rdf-syntax-ns#>\n",
            "  SELECT DISTINCT ?entity_uri ?type ?label ?nameEn ?coordinates WHERE {\n",
            "    VALUES ?entity_uri {wkg:1151004091 wkg:1151004351 wkg:1151004379 wkg:1151004422 wkg:1151004452 wkg:1151004462 wkg:1151004467 wkg:1151004471 wkg:1151004500 wkg:1151004552 wkg:1151004592 wkg:1151004605 wkg:1151004617 wkg:1151004716 wkg:1151004784 wkg:1151004791 wkg:1151004885 wkg:1151004925 wkg:1151004990 wkg:1151473541 wkg:115181418 wkg:116117145 wkg:1161687150 wkg:1161692449 wkg:1166069633 wkg:1168216188 wkg:1168216192 wkg:1168216200 wkg:1168216205 wkg:1168216212 wkg:1168216217 wkg:1168216219 wkg:1168216233 wkg:1168216246 wkg:1168216252 wkg:1168216254 wkg:1168216274 wkg:1168216277 wkg:1168216294 wkg:1168216310 wkg:1168298948 wkg:1168298951 wkg:1168298952 wkg:1168843315 wkg:1170011033 wkg:1170088518 wkg:1170088572 wkg:1170315979 wkg:1170512380 wkg:1175773362 wkg:117645197 wkg:1177983986 wkg:1177985146 wkg:1177988062 wkg:1177989710 wkg:1179173397 wkg:1179175689 wkg:1179232497 wkg:1179232499 wkg:1179232501 wkg:1179232515 wkg:1179232517 wkg:1179232536 wkg:1179232538 wkg:1179232539 wkg:1179232543 wkg:1179232558 wkg:1179232560 wkg:1179232585 wkg:1179232587 wkg:1179232590 wkg:118115828 wkg:118169756 wkg:118236134 wkg:1182925152 wkg:1182940922 wkg:1183112746 wkg:1184453350 wkg:1185615221 wkg:1187083371 wkg:1188386773 wkg:1188386835 wkg:1188464209 wkg:1188464471 wkg:1190931237 wkg:1192363436 wkg:1192363444 wkg:1192363449 wkg:1192363453 wkg:1192363456 wkg:1192363457 wkg:1192363460 wkg:1192363464 wkg:1192363466 wkg:1192363469 wkg:1192363471 wkg:1192363475 wkg:1192363478 wkg:119306895 wkg:119310785} .\n",
            "    ?entity_uri wkgs:spatialObject ?geom.\n",
            "    ?geom geo:asWKT ?coordinates.\n",
            "    OPTIONAL { ?entity_uri rdf:type ?type .}\n",
            "    OPTIONAL { ?entity_uri rdfs:label ?label .}\n",
            "    OPTIONAL { ?entity_uri wkgs:nameEn ?nameEn .}\n",
            "  }\n",
            "  \n"
          ]
        },
        {
          "name": "stderr",
          "output_type": "stream",
          "text": [
            "\r 14%|█▎        | 22/162 [00:10<01:07,  2.08it/s]"
          ]
        },
        {
          "name": "stdout",
          "output_type": "stream",
          "text": [
            "(100, 5)\n",
            "\n",
            "  PREFIX uom: <http://www.opengis.net/def/uom/OGC/1.0/>\n",
            "  PREFIX wkgs: <http://www.worldkg.org/schema/>\n",
            "  PREFIX wkg: <http://www.worldkg.org/resource/>\n",
            "  PREFIX wd: <http://www.wikidata.org/wiki/>\n",
            "  PREFIX sf: <http://www.opengis.net/ont/sf#>\n",
            "  PREFIX rdfs: <http://www.w3.org/2000/01/rdf-schema#>\n",
            "  PREFIX geo: <http://www.opengis.net/ont/geosparql#>\n",
            "  PREFIX owl: <http://www.w3.org/2002/07/owl#>\n",
            "  PREFIX rdf: <http://www.w3.org/1999/02/22-rdf-syntax-ns#>\n",
            "  SELECT DISTINCT ?entity_uri ?type ?label ?nameEn ?coordinates WHERE {\n",
            "    VALUES ?entity_uri {wkg:1197888675 wkg:1197888807 wkg:1197903137 wkg:1197903139 wkg:1197903152 wkg:1197903161 wkg:1197903169 wkg:1197903171 wkg:1199416571 wkg:1199417309 wkg:1199928868 wkg:1202809624 wkg:1202809654 wkg:1202809796 wkg:1202843508 wkg:1203016965 wkg:1203017521 wkg:1203018650 wkg:1204538477 wkg:1205702225 wkg:1206460253 wkg:1207052856 wkg:1207383138 wkg:1208627732 wkg:1209723599 wkg:1213762403 wkg:122136160 wkg:122304857 wkg:122332134 wkg:1235090410 wkg:1236759605 wkg:1239319766 wkg:1239442633 wkg:1239515291 wkg:1239515634 wkg:1239690493 wkg:123969081 wkg:1241525013 wkg:1241649111 wkg:1241846479 wkg:1241847577 wkg:1241848077 wkg:1241848919 wkg:1241978675 wkg:1242023861 wkg:1242694029 wkg:1243132879 wkg:1243133789 wkg:1243134058 wkg:1243134834 wkg:1243308603 wkg:1243308606 wkg:1243308607 wkg:1243308610 wkg:1243308611 wkg:1243308615 wkg:1243308618 wkg:1243330035 wkg:1243330039 wkg:1243330041 wkg:1243330046 wkg:1243930760 wkg:1243930871 wkg:1243930954 wkg:1244285086 wkg:1244417377 wkg:1245013268 wkg:1245022182 wkg:1245043224 wkg:1245416773 wkg:1245425464 wkg:1246585538 wkg:1246586581 wkg:1246586727 wkg:1246634524 wkg:1246634525 wkg:1246657368 wkg:1246657394 wkg:1246657402 wkg:1246657428 wkg:1246657443 wkg:1246657465 wkg:1246657472 wkg:1246657474 wkg:1246809146 wkg:1246809716 wkg:1246810503 wkg:1246810637 wkg:1247708689 wkg:1248213921 wkg:1248218697 wkg:1248223770 wkg:1248226894 wkg:1248451904 wkg:1248540965 wkg:1248540968 wkg:1248540970 wkg:1248540971 wkg:1248540975 wkg:1248540976} .\n",
            "    ?entity_uri wkgs:spatialObject ?geom.\n",
            "    ?geom geo:asWKT ?coordinates.\n",
            "    OPTIONAL { ?entity_uri rdf:type ?type .}\n",
            "    OPTIONAL { ?entity_uri rdfs:label ?label .}\n",
            "    OPTIONAL { ?entity_uri wkgs:nameEn ?nameEn .}\n",
            "  }\n",
            "  \n"
          ]
        },
        {
          "name": "stderr",
          "output_type": "stream",
          "text": [
            "\r 14%|█▍        | 23/162 [00:10<01:08,  2.04it/s]"
          ]
        },
        {
          "name": "stdout",
          "output_type": "stream",
          "text": [
            "(101, 5)\n",
            "\n",
            "  PREFIX uom: <http://www.opengis.net/def/uom/OGC/1.0/>\n",
            "  PREFIX wkgs: <http://www.worldkg.org/schema/>\n",
            "  PREFIX wkg: <http://www.worldkg.org/resource/>\n",
            "  PREFIX wd: <http://www.wikidata.org/wiki/>\n",
            "  PREFIX sf: <http://www.opengis.net/ont/sf#>\n",
            "  PREFIX rdfs: <http://www.w3.org/2000/01/rdf-schema#>\n",
            "  PREFIX geo: <http://www.opengis.net/ont/geosparql#>\n",
            "  PREFIX owl: <http://www.w3.org/2002/07/owl#>\n",
            "  PREFIX rdf: <http://www.w3.org/1999/02/22-rdf-syntax-ns#>\n",
            "  SELECT DISTINCT ?entity_uri ?type ?label ?nameEn ?coordinates WHERE {\n",
            "    VALUES ?entity_uri {wkg:1248540977 wkg:1248540979 wkg:1248540980 wkg:1248540982 wkg:1248540983 wkg:1249861067 wkg:1249862509 wkg:1249865370 wkg:1249867829 wkg:1251171504 wkg:1252138789 wkg:1252523233 wkg:1253840553 wkg:1253840555 wkg:1253840556 wkg:1253840557 wkg:1253840559 wkg:1253840560 wkg:1253840561 wkg:1253840562 wkg:1253840564 wkg:1253840565 wkg:1253840566 wkg:1253840568 wkg:1253840569 wkg:1253840572 wkg:1253840573 wkg:1253840574 wkg:1253840575 wkg:1253840576 wkg:1253840577 wkg:1253840578 wkg:1253840579 wkg:1253840581 wkg:1253840583 wkg:1253840584 wkg:1253840585 wkg:1253840586 wkg:1253840591 wkg:1253840592 wkg:1253840593 wkg:1253840594 wkg:1253840595 wkg:1253840596 wkg:1253840599 wkg:1253840600 wkg:1253840602 wkg:1253840603 wkg:1253840606 wkg:1253840607 wkg:1253842447 wkg:1253842483 wkg:1254880018 wkg:1254880020 wkg:1254880027 wkg:1254880028 wkg:1254880030 wkg:1254880032 wkg:1254880033 wkg:1254880039 wkg:1254880040 wkg:1254880044 wkg:1254880046 wkg:1254880050 wkg:1254880055 wkg:1254880056 wkg:1254880059 wkg:1254880061 wkg:1254880389 wkg:1254881907 wkg:1254923259 wkg:1254923260 wkg:1254923262 wkg:1254923270 wkg:1254998650 wkg:1254998672 wkg:1254998676 wkg:1254998682 wkg:1254998702 wkg:1254998709 wkg:1254998737 wkg:1254998761 wkg:1254998765 wkg:1254998818 wkg:1254998824 wkg:1254998848 wkg:1254998852 wkg:1254998855 wkg:1254998884 wkg:1254998885 wkg:1254998900 wkg:1254998911 wkg:1254998914 wkg:1254998968 wkg:1254998991 wkg:1254998994 wkg:1255067611 wkg:1256308912 wkg:1256308913 wkg:1256308920} .\n",
            "    ?entity_uri wkgs:spatialObject ?geom.\n",
            "    ?geom geo:asWKT ?coordinates.\n",
            "    OPTIONAL { ?entity_uri rdf:type ?type .}\n",
            "    OPTIONAL { ?entity_uri rdfs:label ?label .}\n",
            "    OPTIONAL { ?entity_uri wkgs:nameEn ?nameEn .}\n",
            "  }\n",
            "  \n"
          ]
        },
        {
          "name": "stderr",
          "output_type": "stream",
          "text": [
            "\r 15%|█▍        | 24/162 [00:11<01:08,  2.00it/s]"
          ]
        },
        {
          "name": "stdout",
          "output_type": "stream",
          "text": [
            "(100, 5)\n",
            "\n",
            "  PREFIX uom: <http://www.opengis.net/def/uom/OGC/1.0/>\n",
            "  PREFIX wkgs: <http://www.worldkg.org/schema/>\n",
            "  PREFIX wkg: <http://www.worldkg.org/resource/>\n",
            "  PREFIX wd: <http://www.wikidata.org/wiki/>\n",
            "  PREFIX sf: <http://www.opengis.net/ont/sf#>\n",
            "  PREFIX rdfs: <http://www.w3.org/2000/01/rdf-schema#>\n",
            "  PREFIX geo: <http://www.opengis.net/ont/geosparql#>\n",
            "  PREFIX owl: <http://www.w3.org/2002/07/owl#>\n",
            "  PREFIX rdf: <http://www.w3.org/1999/02/22-rdf-syntax-ns#>\n",
            "  SELECT DISTINCT ?entity_uri ?type ?label ?nameEn ?coordinates WHERE {\n",
            "    VALUES ?entity_uri {wkg:1256308924 wkg:1256308926 wkg:1256308929 wkg:1256308941 wkg:1256315328 wkg:1256315329 wkg:1256315350 wkg:1256315363 wkg:1256315367 wkg:1256315373 wkg:1256315378 wkg:1256315391 wkg:1256315398 wkg:1256315405 wkg:1256319096 wkg:1256319102 wkg:1256319108 wkg:1256319110 wkg:1256319115 wkg:1256319118 wkg:1256319128 wkg:1256324079 wkg:1256559018 wkg:1256563473 wkg:1257527989 wkg:1257709942 wkg:1257785417 wkg:1257785764 wkg:1258040757 wkg:1258040762 wkg:1258040764 wkg:1258040766 wkg:1258040799 wkg:1258040802 wkg:1258040808 wkg:1258040827 wkg:1258040835 wkg:1258040841 wkg:1258073353 wkg:1258073355 wkg:1258073358 wkg:1258102215 wkg:1258102219 wkg:1258102240 wkg:1258102265 wkg:1258163479 wkg:1258163490 wkg:1258163509 wkg:1258163513 wkg:1258163533 wkg:1258163543 wkg:1258163562 wkg:1258163569 wkg:1258163590 wkg:1258163597 wkg:1258163600 wkg:1258557388 wkg:1258557408 wkg:1258557410 wkg:1258557432 wkg:1258557451 wkg:1258557459 wkg:1258557472 wkg:1258557474 wkg:1258557477 wkg:1258557499 wkg:1258557510 wkg:1258557514 wkg:1259333815 wkg:1259333830 wkg:1259333831 wkg:1259333833 wkg:1259333844 wkg:1259333846 wkg:1259333856 wkg:1259333869 wkg:1259354547 wkg:1259354548 wkg:1259354549 wkg:1259354550 wkg:1259354551 wkg:1259356808 wkg:1259356811 wkg:1259356813 wkg:1259356815 wkg:1259356817 wkg:1259356818 wkg:1259356819 wkg:1259356820 wkg:1259356821 wkg:1259361876 wkg:1259361889 wkg:1259361893 wkg:1259482458 wkg:1259487873 wkg:1260368503 wkg:1260508599 wkg:1260508633 wkg:1260727895 wkg:1260903780} .\n",
            "    ?entity_uri wkgs:spatialObject ?geom.\n",
            "    ?geom geo:asWKT ?coordinates.\n",
            "    OPTIONAL { ?entity_uri rdf:type ?type .}\n",
            "    OPTIONAL { ?entity_uri rdfs:label ?label .}\n",
            "    OPTIONAL { ?entity_uri wkgs:nameEn ?nameEn .}\n",
            "  }\n",
            "  \n"
          ]
        },
        {
          "name": "stderr",
          "output_type": "stream",
          "text": [
            "\r 15%|█▌        | 25/162 [00:11<01:09,  1.98it/s]"
          ]
        },
        {
          "name": "stdout",
          "output_type": "stream",
          "text": [
            "(100, 5)\n",
            "\n",
            "  PREFIX uom: <http://www.opengis.net/def/uom/OGC/1.0/>\n",
            "  PREFIX wkgs: <http://www.worldkg.org/schema/>\n",
            "  PREFIX wkg: <http://www.worldkg.org/resource/>\n",
            "  PREFIX wd: <http://www.wikidata.org/wiki/>\n",
            "  PREFIX sf: <http://www.opengis.net/ont/sf#>\n",
            "  PREFIX rdfs: <http://www.w3.org/2000/01/rdf-schema#>\n",
            "  PREFIX geo: <http://www.opengis.net/ont/geosparql#>\n",
            "  PREFIX owl: <http://www.w3.org/2002/07/owl#>\n",
            "  PREFIX rdf: <http://www.w3.org/1999/02/22-rdf-syntax-ns#>\n",
            "  SELECT DISTINCT ?entity_uri ?type ?label ?nameEn ?coordinates WHERE {\n",
            "    VALUES ?entity_uri {wkg:1261031263 wkg:1261031264 wkg:1261031269 wkg:1261031270 wkg:1261031273 wkg:1261031275 wkg:1261031276 wkg:1261043302 wkg:1261043306 wkg:1261054351 wkg:1261054354 wkg:1261054356 wkg:1261054360 wkg:1261054365 wkg:1261054369 wkg:1261054375 wkg:1261054380 wkg:1261054385 wkg:1261054391 wkg:1261054393 wkg:1261061431 wkg:1261061434 wkg:1261061436 wkg:1261061452 wkg:1261061458 wkg:1261061462 wkg:1261061466 wkg:126278515 wkg:1264870523 wkg:1268898295 wkg:1268963413 wkg:1269988029 wkg:1270165422 wkg:1270167477 wkg:1270718334 wkg:1270803589 wkg:1270969104 wkg:1271109116 wkg:1271667554 wkg:1271668030 wkg:1271840380 wkg:1272886210 wkg:1272886418 wkg:1276684794 wkg:1276686302 wkg:1276686375 wkg:1276689280 wkg:1276689441 wkg:1276691489 wkg:1278095689 wkg:1279230730 wkg:1279916409 wkg:1279917767 wkg:1280969123 wkg:1280973480 wkg:1282067090 wkg:1282786998 wkg:1282787130 wkg:1283626948 wkg:1283776934 wkg:1285049545 wkg:128510650 wkg:1285552411 wkg:128561166 wkg:1285739738 wkg:128655037 wkg:1287155569 wkg:1287155573 wkg:1287220217 wkg:1287231209 wkg:1287571673 wkg:1287571676 wkg:1288636633 wkg:1290012122 wkg:1290215365 wkg:1291280483 wkg:1291280484 wkg:1291414025 wkg:1291747472 wkg:1292892090 wkg:1293271521 wkg:1293272455 wkg:1293272725 wkg:1293274469 wkg:1293276042 wkg:1293276984 wkg:1295675282 wkg:1295676211 wkg:1295676384 wkg:1295886058 wkg:1295923274 wkg:1295924188 wkg:1295925750 wkg:1295926294 wkg:1296113700 wkg:129639790 wkg:129642766 wkg:1296940603 wkg:1296941697 wkg:1298144352} .\n",
            "    ?entity_uri wkgs:spatialObject ?geom.\n",
            "    ?geom geo:asWKT ?coordinates.\n",
            "    OPTIONAL { ?entity_uri rdf:type ?type .}\n",
            "    OPTIONAL { ?entity_uri rdfs:label ?label .}\n",
            "    OPTIONAL { ?entity_uri wkgs:nameEn ?nameEn .}\n",
            "  }\n",
            "  \n"
          ]
        },
        {
          "name": "stderr",
          "output_type": "stream",
          "text": [
            "\r 16%|█▌        | 26/162 [00:12<01:09,  1.96it/s]"
          ]
        },
        {
          "name": "stdout",
          "output_type": "stream",
          "text": [
            "(100, 5)\n",
            "\n",
            "  PREFIX uom: <http://www.opengis.net/def/uom/OGC/1.0/>\n",
            "  PREFIX wkgs: <http://www.worldkg.org/schema/>\n",
            "  PREFIX wkg: <http://www.worldkg.org/resource/>\n",
            "  PREFIX wd: <http://www.wikidata.org/wiki/>\n",
            "  PREFIX sf: <http://www.opengis.net/ont/sf#>\n",
            "  PREFIX rdfs: <http://www.w3.org/2000/01/rdf-schema#>\n",
            "  PREFIX geo: <http://www.opengis.net/ont/geosparql#>\n",
            "  PREFIX owl: <http://www.w3.org/2002/07/owl#>\n",
            "  PREFIX rdf: <http://www.w3.org/1999/02/22-rdf-syntax-ns#>\n",
            "  SELECT DISTINCT ?entity_uri ?type ?label ?nameEn ?coordinates WHERE {\n",
            "    VALUES ?entity_uri {wkg:1298144686 wkg:1298144737 wkg:1298144800 wkg:1298145213 wkg:1298145596 wkg:1298146316 wkg:1298146720 wkg:1298146818 wkg:1298147957 wkg:1299334273 wkg:1299334275 wkg:1299334276 wkg:1299334277 wkg:129993092 wkg:129993253 wkg:130039585 wkg:130040361 wkg:1300850057 wkg:1301788399 wkg:1301788516 wkg:1301788686 wkg:1301788750 wkg:1301788912 wkg:1301789451 wkg:1301789561 wkg:1301789725 wkg:130180711 wkg:1301968609 wkg:130308534 wkg:130400178 wkg:130406730 wkg:1304580537 wkg:130460965 wkg:130482679 wkg:130484930 wkg:130503003 wkg:1305460246 wkg:130609433 wkg:1306439253 wkg:1306439749 wkg:1306560780 wkg:1306858550 wkg:1307516250 wkg:1307923512 wkg:1309056683 wkg:1309306635 wkg:1309636680 wkg:1309677433 wkg:1309789118 wkg:1311417782 wkg:1312538680 wkg:1312538685 wkg:1312735551 wkg:1312735553 wkg:1312887026 wkg:1313338377 wkg:1313714604 wkg:1313784508 wkg:1313784510 wkg:1314018167 wkg:1314129248 wkg:1314129253 wkg:1314129260 wkg:1316063043 wkg:1316071456 wkg:1316071462 wkg:1316071469 wkg:1316071471 wkg:1316252891 wkg:1316862685 wkg:1316868951 wkg:1316920996 wkg:1316921019 wkg:1317123882 wkg:1319731225 wkg:1319742858 wkg:1319906936 wkg:1319906938 wkg:1321532958 wkg:1321532982 wkg:1321533017 wkg:1322085995 wkg:1322086003 wkg:1322086025 wkg:1323497124 wkg:1323866382 wkg:1323866384 wkg:1323866385 wkg:1325130195 wkg:1325130239 wkg:1325130240 wkg:1325571071 wkg:1326030958 wkg:1326031000 wkg:1326285276 wkg:1326285279 wkg:1326285286 wkg:1326285290 wkg:1326472975 wkg:1326472984} .\n",
            "    ?entity_uri wkgs:spatialObject ?geom.\n",
            "    ?geom geo:asWKT ?coordinates.\n",
            "    OPTIONAL { ?entity_uri rdf:type ?type .}\n",
            "    OPTIONAL { ?entity_uri rdfs:label ?label .}\n",
            "    OPTIONAL { ?entity_uri wkgs:nameEn ?nameEn .}\n",
            "  }\n",
            "  \n"
          ]
        },
        {
          "name": "stderr",
          "output_type": "stream",
          "text": [
            "\r 17%|█▋        | 27/162 [00:12<01:09,  1.95it/s]"
          ]
        },
        {
          "name": "stdout",
          "output_type": "stream",
          "text": [
            "(101, 5)\n",
            "\n",
            "  PREFIX uom: <http://www.opengis.net/def/uom/OGC/1.0/>\n",
            "  PREFIX wkgs: <http://www.worldkg.org/schema/>\n",
            "  PREFIX wkg: <http://www.worldkg.org/resource/>\n",
            "  PREFIX wd: <http://www.wikidata.org/wiki/>\n",
            "  PREFIX sf: <http://www.opengis.net/ont/sf#>\n",
            "  PREFIX rdfs: <http://www.w3.org/2000/01/rdf-schema#>\n",
            "  PREFIX geo: <http://www.opengis.net/ont/geosparql#>\n",
            "  PREFIX owl: <http://www.w3.org/2002/07/owl#>\n",
            "  PREFIX rdf: <http://www.w3.org/1999/02/22-rdf-syntax-ns#>\n",
            "  SELECT DISTINCT ?entity_uri ?type ?label ?nameEn ?coordinates WHERE {\n",
            "    VALUES ?entity_uri {wkg:1327020012 wkg:1327020014 wkg:1327122787 wkg:132751317 wkg:132757014 wkg:1327793686 wkg:132786596 wkg:132815892 wkg:132815918 wkg:132815928 wkg:1329464947 wkg:1329465053 wkg:1329479331 wkg:1329479443 wkg:1329619119 wkg:1330291626 wkg:133060081 wkg:1338587114 wkg:1342964320 wkg:1344465408 wkg:1344465441 wkg:1347623690 wkg:1347635515 wkg:1347635546 wkg:1347774766 wkg:1348899814 wkg:1350159760 wkg:135043291 wkg:1350940506 wkg:1350940512 wkg:1350940532 wkg:1351239019 wkg:1352483345 wkg:1354778051 wkg:1355416588 wkg:1355416618 wkg:1355417176 wkg:1355421101 wkg:1355422892 wkg:1355435135 wkg:1355526257 wkg:1355531181 wkg:1355556614 wkg:1356146298 wkg:1356160085 wkg:1356160933 wkg:1356260631 wkg:135631881 wkg:135631910 wkg:1357574030 wkg:1357577446 wkg:1357577643 wkg:1357578966 wkg:1357615394 wkg:1357620293 wkg:1357693676 wkg:1360268976 wkg:1360268988 wkg:1360603238 wkg:1363187117 wkg:1363187124 wkg:1363479169 wkg:1363479172 wkg:1363479173 wkg:1363479174 wkg:1363479176 wkg:1363479177 wkg:1363947712 wkg:1364240988 wkg:1364240989 wkg:1364240996 wkg:1364240997 wkg:1365268213 wkg:1365292908 wkg:1367502436 wkg:1367502488 wkg:1367502491 wkg:1367863409 wkg:1368897697 wkg:1368897701 wkg:1368897702 wkg:1368897704 wkg:1368897706 wkg:1368897713 wkg:1368897714 wkg:1368897717 wkg:1368897718 wkg:1368908924 wkg:1369812791 wkg:13707878 wkg:1370878516 wkg:1373054731 wkg:1373446371 wkg:1373625938 wkg:1373625977 wkg:1373626034 wkg:1373906706 wkg:1375701510 wkg:137582774 wkg:137759851} .\n",
            "    ?entity_uri wkgs:spatialObject ?geom.\n",
            "    ?geom geo:asWKT ?coordinates.\n",
            "    OPTIONAL { ?entity_uri rdf:type ?type .}\n",
            "    OPTIONAL { ?entity_uri rdfs:label ?label .}\n",
            "    OPTIONAL { ?entity_uri wkgs:nameEn ?nameEn .}\n",
            "  }\n",
            "  \n"
          ]
        },
        {
          "name": "stderr",
          "output_type": "stream",
          "text": [
            "\r 17%|█▋        | 28/162 [00:13<01:09,  1.94it/s]"
          ]
        },
        {
          "name": "stdout",
          "output_type": "stream",
          "text": [
            "(100, 5)\n",
            "\n",
            "  PREFIX uom: <http://www.opengis.net/def/uom/OGC/1.0/>\n",
            "  PREFIX wkgs: <http://www.worldkg.org/schema/>\n",
            "  PREFIX wkg: <http://www.worldkg.org/resource/>\n",
            "  PREFIX wd: <http://www.wikidata.org/wiki/>\n",
            "  PREFIX sf: <http://www.opengis.net/ont/sf#>\n",
            "  PREFIX rdfs: <http://www.w3.org/2000/01/rdf-schema#>\n",
            "  PREFIX geo: <http://www.opengis.net/ont/geosparql#>\n",
            "  PREFIX owl: <http://www.w3.org/2002/07/owl#>\n",
            "  PREFIX rdf: <http://www.w3.org/1999/02/22-rdf-syntax-ns#>\n",
            "  SELECT DISTINCT ?entity_uri ?type ?label ?nameEn ?coordinates WHERE {\n",
            "    VALUES ?entity_uri {wkg:1377889548 wkg:1378040915 wkg:137940520 wkg:137950332 wkg:137955900 wkg:137971248 wkg:137973708 wkg:137977575 wkg:137987316 wkg:137993162 wkg:138002255 wkg:138003888 wkg:138009623 wkg:138011262 wkg:138015332 wkg:138027552 wkg:1382716065 wkg:1382716118 wkg:1384933658 wkg:1386065794 wkg:1389143950 wkg:1390645445 wkg:1394739798 wkg:139894877 wkg:139899742 wkg:139929892 wkg:139936902 wkg:139999532 wkg:140040410 wkg:140072808 wkg:140097206 wkg:140121290 wkg:140123277 wkg:140142216 wkg:140162461 wkg:140176331 wkg:140189328 wkg:140191614 wkg:1402180193 wkg:140274173 wkg:1404758428 wkg:1409146173 wkg:1409406046 wkg:1409406047 wkg:1409406048 wkg:141030472 wkg:1412296998 wkg:1414742078 wkg:1415542666 wkg:1419982894 wkg:1419982901 wkg:1419982936 wkg:142015170 wkg:1420871007 wkg:1421314600 wkg:142172498 wkg:142239253 wkg:142276465 wkg:1422961187 wkg:1423936881 wkg:1423950541 wkg:1426861961 wkg:1427749520 wkg:1429684401 wkg:1429808512 wkg:1429808532 wkg:1430639987 wkg:1433855703 wkg:1437434083 wkg:1438867377 wkg:1440077405 wkg:144024975 wkg:144100015 wkg:144310287 wkg:1444704293 wkg:1445221277 wkg:1446297619 wkg:1446297754 wkg:1447041285 wkg:1448236166 wkg:144970241 wkg:1451811579 wkg:1457528595 wkg:1460042749 wkg:146779059 wkg:1470852116 wkg:147096741 wkg:1472921185 wkg:1472931109 wkg:1482233666 wkg:1482233671 wkg:148332300 wkg:148874198 wkg:1490128807 wkg:1490128985 wkg:1490267040 wkg:1491974656 wkg:1493147312 wkg:1493540257 wkg:1494019659} .\n",
            "    ?entity_uri wkgs:spatialObject ?geom.\n",
            "    ?geom geo:asWKT ?coordinates.\n",
            "    OPTIONAL { ?entity_uri rdf:type ?type .}\n",
            "    OPTIONAL { ?entity_uri rdfs:label ?label .}\n",
            "    OPTIONAL { ?entity_uri wkgs:nameEn ?nameEn .}\n",
            "  }\n",
            "  \n"
          ]
        },
        {
          "name": "stderr",
          "output_type": "stream",
          "text": [
            "\r 18%|█▊        | 29/162 [00:14<01:08,  1.94it/s]"
          ]
        },
        {
          "name": "stdout",
          "output_type": "stream",
          "text": [
            "(100, 5)\n",
            "\n",
            "  PREFIX uom: <http://www.opengis.net/def/uom/OGC/1.0/>\n",
            "  PREFIX wkgs: <http://www.worldkg.org/schema/>\n",
            "  PREFIX wkg: <http://www.worldkg.org/resource/>\n",
            "  PREFIX wd: <http://www.wikidata.org/wiki/>\n",
            "  PREFIX sf: <http://www.opengis.net/ont/sf#>\n",
            "  PREFIX rdfs: <http://www.w3.org/2000/01/rdf-schema#>\n",
            "  PREFIX geo: <http://www.opengis.net/ont/geosparql#>\n",
            "  PREFIX owl: <http://www.w3.org/2002/07/owl#>\n",
            "  PREFIX rdf: <http://www.w3.org/1999/02/22-rdf-syntax-ns#>\n",
            "  SELECT DISTINCT ?entity_uri ?type ?label ?nameEn ?coordinates WHERE {\n",
            "    VALUES ?entity_uri {wkg:1494022611 wkg:1494136256 wkg:1495401886 wkg:149607221 wkg:1496192023 wkg:1496192562 wkg:1496192938 wkg:1500919698 wkg:1501815140 wkg:1502754230 wkg:1505124993 wkg:1505125020 wkg:1505125032 wkg:1505125039 wkg:1505125064 wkg:1505783342 wkg:1507294967 wkg:1507294998 wkg:1507295016 wkg:1507295114 wkg:1508865867 wkg:150916737 wkg:150918186 wkg:150918612 wkg:150919100 wkg:150920077 wkg:150921144 wkg:150932473 wkg:150933017 wkg:150933308 wkg:150933964 wkg:150934671 wkg:150936096 wkg:150936237 wkg:150936836 wkg:150937076 wkg:150937189 wkg:150937839 wkg:150938363 wkg:150938860 wkg:150938879 wkg:150939691 wkg:150940343 wkg:150941175 wkg:150941320 wkg:150942402 wkg:150942498 wkg:150942519 wkg:150942990 wkg:150944101 wkg:150945879 wkg:150945973 wkg:150946156 wkg:150947038 wkg:150948365 wkg:150948655 wkg:150949877 wkg:150950337 wkg:150950536 wkg:150950614 wkg:150950988 wkg:150952525 wkg:150953476 wkg:150953511 wkg:150954551 wkg:150954673 wkg:150955222 wkg:150955910 wkg:150956020 wkg:150956022 wkg:150958492 wkg:150959215 wkg:150959388 wkg:150959561 wkg:150960160 wkg:150960217 wkg:150960557 wkg:150962490 wkg:150963603 wkg:150964420 wkg:150964530 wkg:150964724 wkg:150965119 wkg:150965247 wkg:150965956 wkg:150966252 wkg:150966654 wkg:150966735 wkg:150966917 wkg:150967193 wkg:150967440 wkg:150967832 wkg:150968535 wkg:150968654 wkg:150969163 wkg:150969349 wkg:150969672 wkg:150970048 wkg:150970085 wkg:150970927} .\n",
            "    ?entity_uri wkgs:spatialObject ?geom.\n",
            "    ?geom geo:asWKT ?coordinates.\n",
            "    OPTIONAL { ?entity_uri rdf:type ?type .}\n",
            "    OPTIONAL { ?entity_uri rdfs:label ?label .}\n",
            "    OPTIONAL { ?entity_uri wkgs:nameEn ?nameEn .}\n",
            "  }\n",
            "  \n"
          ]
        },
        {
          "name": "stderr",
          "output_type": "stream",
          "text": [
            "\r 19%|█▊        | 30/162 [00:14<01:08,  1.94it/s]"
          ]
        },
        {
          "name": "stdout",
          "output_type": "stream",
          "text": [
            "(100, 5)\n",
            "\n",
            "  PREFIX uom: <http://www.opengis.net/def/uom/OGC/1.0/>\n",
            "  PREFIX wkgs: <http://www.worldkg.org/schema/>\n",
            "  PREFIX wkg: <http://www.worldkg.org/resource/>\n",
            "  PREFIX wd: <http://www.wikidata.org/wiki/>\n",
            "  PREFIX sf: <http://www.opengis.net/ont/sf#>\n",
            "  PREFIX rdfs: <http://www.w3.org/2000/01/rdf-schema#>\n",
            "  PREFIX geo: <http://www.opengis.net/ont/geosparql#>\n",
            "  PREFIX owl: <http://www.w3.org/2002/07/owl#>\n",
            "  PREFIX rdf: <http://www.w3.org/1999/02/22-rdf-syntax-ns#>\n",
            "  SELECT DISTINCT ?entity_uri ?type ?label ?nameEn ?coordinates WHERE {\n",
            "    VALUES ?entity_uri {wkg:150971839 wkg:150972387 wkg:150972619 wkg:150973181 wkg:150973333 wkg:150974379 wkg:150975194 wkg:150975580 wkg:150975789 wkg:150976879 wkg:150977434 wkg:150979201 wkg:150979544 wkg:150979727 wkg:150981515 wkg:150981672 wkg:150981958 wkg:151333963 wkg:151340686 wkg:151340779 wkg:151342434 wkg:151343405 wkg:151344323 wkg:151349812 wkg:151350104 wkg:151355265 wkg:151356982 wkg:151361927 wkg:151364252 wkg:151364626 wkg:151370861 wkg:151372631 wkg:151388167 wkg:151396256 wkg:151399928 wkg:151400493 wkg:151407399 wkg:151408794 wkg:151412404 wkg:151414283 wkg:151417132 wkg:151422010 wkg:151429351 wkg:151433556 wkg:151445195 wkg:151445767 wkg:151465967 wkg:151466218 wkg:151491779 wkg:151495456 wkg:151504338 wkg:151505812 wkg:151506417 wkg:151525373 wkg:151533835 wkg:151551965 wkg:151553461 wkg:151559857 wkg:151560449 wkg:151565423 wkg:151580622 wkg:151580721 wkg:151609791 wkg:151629400 wkg:151682065 wkg:151699644 wkg:151703616 wkg:151703774 wkg:151725073 wkg:151726734 wkg:151728334 wkg:151730023 wkg:1517420096 wkg:1517420104 wkg:151750729 wkg:151757071 wkg:151766533 wkg:151778281 wkg:151781673 wkg:151783653 wkg:151784070 wkg:151794534 wkg:151802985 wkg:151828664 wkg:151842315 wkg:151845359 wkg:151845930 wkg:151858043 wkg:151875878 wkg:151886778 wkg:151922393 wkg:1519228999 wkg:151930906 wkg:151938450 wkg:151948466 wkg:151948625 wkg:151954093 wkg:1520063597 wkg:1520759133 wkg:1520759220} .\n",
            "    ?entity_uri wkgs:spatialObject ?geom.\n",
            "    ?geom geo:asWKT ?coordinates.\n",
            "    OPTIONAL { ?entity_uri rdf:type ?type .}\n",
            "    OPTIONAL { ?entity_uri rdfs:label ?label .}\n",
            "    OPTIONAL { ?entity_uri wkgs:nameEn ?nameEn .}\n",
            "  }\n",
            "  \n"
          ]
        },
        {
          "name": "stderr",
          "output_type": "stream",
          "text": [
            "\r 19%|█▉        | 31/162 [00:15<01:06,  1.98it/s]"
          ]
        },
        {
          "name": "stdout",
          "output_type": "stream",
          "text": [
            "(101, 5)\n",
            "\n",
            "  PREFIX uom: <http://www.opengis.net/def/uom/OGC/1.0/>\n",
            "  PREFIX wkgs: <http://www.worldkg.org/schema/>\n",
            "  PREFIX wkg: <http://www.worldkg.org/resource/>\n",
            "  PREFIX wd: <http://www.wikidata.org/wiki/>\n",
            "  PREFIX sf: <http://www.opengis.net/ont/sf#>\n",
            "  PREFIX rdfs: <http://www.w3.org/2000/01/rdf-schema#>\n",
            "  PREFIX geo: <http://www.opengis.net/ont/geosparql#>\n",
            "  PREFIX owl: <http://www.w3.org/2002/07/owl#>\n",
            "  PREFIX rdf: <http://www.w3.org/1999/02/22-rdf-syntax-ns#>\n",
            "  SELECT DISTINCT ?entity_uri ?type ?label ?nameEn ?coordinates WHERE {\n",
            "    VALUES ?entity_uri {wkg:1523320317 wkg:1524239215 wkg:1524239278 wkg:1524352903 wkg:1524439078 wkg:1525360148 wkg:1529230884 wkg:1529321763 wkg:1529321797 wkg:1529321811 wkg:1529321822 wkg:1529321852 wkg:1529570372 wkg:1531023695 wkg:1531023702 wkg:1531023704 wkg:1531582972 wkg:153238275 wkg:1532756165 wkg:1532756185 wkg:153347860 wkg:153349122 wkg:153353016 wkg:153353040 wkg:153353759 wkg:153356201 wkg:153357258 wkg:153357366 wkg:153364698 wkg:153378452 wkg:153387433 wkg:153387852 wkg:153389406 wkg:153390212 wkg:1533923903 wkg:153395819 wkg:153400337 wkg:153403118 wkg:153405877 wkg:153409470 wkg:153411701 wkg:1534160807 wkg:153417705 wkg:153432006 wkg:153440561 wkg:153441269 wkg:153458630 wkg:153465949 wkg:153469818 wkg:153474883 wkg:153480383 wkg:153481632 wkg:153482054 wkg:153485938 wkg:153488066 wkg:1534928870 wkg:153493539 wkg:153494477 wkg:153502167 wkg:153502556 wkg:153503225 wkg:153512005 wkg:153515845 wkg:153517947 wkg:153519643 wkg:153519965 wkg:153520598 wkg:153525739 wkg:153525934 wkg:153527640 wkg:153527968 wkg:153530824 wkg:153534180 wkg:153539930 wkg:153540192 wkg:1535403961 wkg:153540430 wkg:153541311 wkg:1535431768 wkg:153546413 wkg:153547208 wkg:153556505 wkg:153557956 wkg:153565233 wkg:153569761 wkg:153570508 wkg:153571897 wkg:153573167 wkg:153575803 wkg:153581047 wkg:153581277 wkg:153582683 wkg:153589794 wkg:153593900 wkg:153594795 wkg:153595737 wkg:153595791 wkg:153597700 wkg:153599677 wkg:153600999} .\n",
            "    ?entity_uri wkgs:spatialObject ?geom.\n",
            "    ?geom geo:asWKT ?coordinates.\n",
            "    OPTIONAL { ?entity_uri rdf:type ?type .}\n",
            "    OPTIONAL { ?entity_uri rdfs:label ?label .}\n",
            "    OPTIONAL { ?entity_uri wkgs:nameEn ?nameEn .}\n",
            "  }\n",
            "  \n"
          ]
        },
        {
          "name": "stderr",
          "output_type": "stream",
          "text": [
            "\r 20%|█▉        | 32/162 [00:15<01:04,  2.02it/s]"
          ]
        },
        {
          "name": "stdout",
          "output_type": "stream",
          "text": [
            "(100, 5)\n",
            "\n",
            "  PREFIX uom: <http://www.opengis.net/def/uom/OGC/1.0/>\n",
            "  PREFIX wkgs: <http://www.worldkg.org/schema/>\n",
            "  PREFIX wkg: <http://www.worldkg.org/resource/>\n",
            "  PREFIX wd: <http://www.wikidata.org/wiki/>\n",
            "  PREFIX sf: <http://www.opengis.net/ont/sf#>\n",
            "  PREFIX rdfs: <http://www.w3.org/2000/01/rdf-schema#>\n",
            "  PREFIX geo: <http://www.opengis.net/ont/geosparql#>\n",
            "  PREFIX owl: <http://www.w3.org/2002/07/owl#>\n",
            "  PREFIX rdf: <http://www.w3.org/1999/02/22-rdf-syntax-ns#>\n",
            "  SELECT DISTINCT ?entity_uri ?type ?label ?nameEn ?coordinates WHERE {\n",
            "    VALUES ?entity_uri {wkg:153604390 wkg:153606909 wkg:153621619 wkg:153623545 wkg:153645142 wkg:153650867 wkg:153651189 wkg:153653747 wkg:153661904 wkg:1536641432 wkg:1536648881 wkg:153665743 wkg:153666182 wkg:153666523 wkg:1536665906 wkg:1536677008 wkg:153669331 wkg:1536695366 wkg:153670779 wkg:153674213 wkg:153678778 wkg:153679785 wkg:153680049 wkg:153681532 wkg:153688986 wkg:153692077 wkg:153694813 wkg:153695665 wkg:153696423 wkg:153699501 wkg:153700701 wkg:153708580 wkg:153716619 wkg:153716842 wkg:153719147 wkg:153719350 wkg:153720871 wkg:153721719 wkg:153721931 wkg:153726775 wkg:153730937 wkg:153743896 wkg:153744573 wkg:153745868 wkg:153746834 wkg:153748224 wkg:153748826 wkg:153750448 wkg:153750489 wkg:153756999 wkg:153757214 wkg:153758459 wkg:153763131 wkg:153769894 wkg:153774688 wkg:153776204 wkg:153780493 wkg:153791031 wkg:153791836 wkg:153793790 wkg:153794818 wkg:153799932 wkg:153801968 wkg:153802298 wkg:153803143 wkg:153806880 wkg:153808822 wkg:153811586 wkg:153812116 wkg:153812913 wkg:153829380 wkg:153829615 wkg:153841891 wkg:153847849 wkg:153848818 wkg:153863359 wkg:153868578 wkg:153873588 wkg:153888892 wkg:153900847 wkg:153914528 wkg:153917090 wkg:153917698 wkg:153923614 wkg:153927461 wkg:153930252 wkg:153931401 wkg:153934873 wkg:153942912 wkg:153942953 wkg:153947497 wkg:153963611 wkg:153966746 wkg:153970120 wkg:153982392 wkg:154001771 wkg:154020883 wkg:154024586 wkg:154031598 wkg:154032844} .\n",
            "    ?entity_uri wkgs:spatialObject ?geom.\n",
            "    ?geom geo:asWKT ?coordinates.\n",
            "    OPTIONAL { ?entity_uri rdf:type ?type .}\n",
            "    OPTIONAL { ?entity_uri rdfs:label ?label .}\n",
            "    OPTIONAL { ?entity_uri wkgs:nameEn ?nameEn .}\n",
            "  }\n",
            "  \n"
          ]
        },
        {
          "name": "stderr",
          "output_type": "stream",
          "text": [
            "\r 20%|██        | 33/162 [00:15<01:02,  2.05it/s]"
          ]
        },
        {
          "name": "stdout",
          "output_type": "stream",
          "text": [
            "(100, 5)\n",
            "\n",
            "  PREFIX uom: <http://www.opengis.net/def/uom/OGC/1.0/>\n",
            "  PREFIX wkgs: <http://www.worldkg.org/schema/>\n",
            "  PREFIX wkg: <http://www.worldkg.org/resource/>\n",
            "  PREFIX wd: <http://www.wikidata.org/wiki/>\n",
            "  PREFIX sf: <http://www.opengis.net/ont/sf#>\n",
            "  PREFIX rdfs: <http://www.w3.org/2000/01/rdf-schema#>\n",
            "  PREFIX geo: <http://www.opengis.net/ont/geosparql#>\n",
            "  PREFIX owl: <http://www.w3.org/2002/07/owl#>\n",
            "  PREFIX rdf: <http://www.w3.org/1999/02/22-rdf-syntax-ns#>\n",
            "  SELECT DISTINCT ?entity_uri ?type ?label ?nameEn ?coordinates WHERE {\n",
            "    VALUES ?entity_uri {wkg:154038324 wkg:154039253 wkg:154042600 wkg:154051097 wkg:154058427 wkg:154072822 wkg:154075797 wkg:154078192 wkg:154085008 wkg:154091161 wkg:154102235 wkg:154103633 wkg:154110560 wkg:154114507 wkg:154143132 wkg:154146857 wkg:154156140 wkg:154161694 wkg:154161909 wkg:154167310 wkg:154169045 wkg:154169478 wkg:154183282 wkg:1541921585 wkg:1541921625 wkg:1541921654 wkg:154196681 wkg:154199546 wkg:154208158 wkg:154211429 wkg:154212359 wkg:154295675 wkg:154303491 wkg:154304666 wkg:154318003 wkg:154318081 wkg:154318110 wkg:154323237 wkg:154327021 wkg:154330737 wkg:154335770 wkg:154342791 wkg:154346995 wkg:154349299 wkg:1543602618 wkg:1543614348 wkg:154361623 wkg:154380810 wkg:154381880 wkg:154389589 wkg:154392747 wkg:1545648928 wkg:1545648938 wkg:1545648953 wkg:1549267984 wkg:1551511175 wkg:1554992727 wkg:1555134676 wkg:1555939444 wkg:1560610032 wkg:1564828755 wkg:1564828792 wkg:1565168675 wkg:1568581209 wkg:1570194595 wkg:1571095498 wkg:1572572540 wkg:1572572542 wkg:1572572547 wkg:1572572549 wkg:157544809 wkg:157553966 wkg:157611703 wkg:157643585 wkg:1577235176 wkg:1578188918 wkg:1581056835 wkg:158227301 wkg:158229421 wkg:158271132 wkg:158375783 wkg:158420392 wkg:1584219741 wkg:158442568 wkg:158484571 wkg:158509107 wkg:158530515 wkg:158564158 wkg:158579574 wkg:158637133 wkg:158643541 wkg:158650818 wkg:158657784 wkg:1587667087 wkg:158805168 wkg:158807334 wkg:158810780 wkg:158817210 wkg:158818039 wkg:158818371} .\n",
            "    ?entity_uri wkgs:spatialObject ?geom.\n",
            "    ?geom geo:asWKT ?coordinates.\n",
            "    OPTIONAL { ?entity_uri rdf:type ?type .}\n",
            "    OPTIONAL { ?entity_uri rdfs:label ?label .}\n",
            "    OPTIONAL { ?entity_uri wkgs:nameEn ?nameEn .}\n",
            "  }\n",
            "  \n"
          ]
        },
        {
          "name": "stderr",
          "output_type": "stream",
          "text": [
            "\r 21%|██        | 34/162 [00:16<01:03,  2.01it/s]"
          ]
        },
        {
          "name": "stdout",
          "output_type": "stream",
          "text": [
            "(100, 5)\n",
            "\n",
            "  PREFIX uom: <http://www.opengis.net/def/uom/OGC/1.0/>\n",
            "  PREFIX wkgs: <http://www.worldkg.org/schema/>\n",
            "  PREFIX wkg: <http://www.worldkg.org/resource/>\n",
            "  PREFIX wd: <http://www.wikidata.org/wiki/>\n",
            "  PREFIX sf: <http://www.opengis.net/ont/sf#>\n",
            "  PREFIX rdfs: <http://www.w3.org/2000/01/rdf-schema#>\n",
            "  PREFIX geo: <http://www.opengis.net/ont/geosparql#>\n",
            "  PREFIX owl: <http://www.w3.org/2002/07/owl#>\n",
            "  PREFIX rdf: <http://www.w3.org/1999/02/22-rdf-syntax-ns#>\n",
            "  SELECT DISTINCT ?entity_uri ?type ?label ?nameEn ?coordinates WHERE {\n",
            "    VALUES ?entity_uri {wkg:158824328 wkg:158827289 wkg:158841749 wkg:158842501 wkg:158846316 wkg:158854434 wkg:158854551 wkg:158856557 wkg:158859763 wkg:158863987 wkg:158874505 wkg:158917216 wkg:1589790664 wkg:1591138377 wkg:1595553991 wkg:1596474121 wkg:1596485304 wkg:1597730240 wkg:1598836214 wkg:1600517467 wkg:1600517496 wkg:1600517558 wkg:1600517581 wkg:1600517589 wkg:1600517591 wkg:1600517593 wkg:1600794898 wkg:1602414390 wkg:1602414621 wkg:1602415202 wkg:1603358083 wkg:1604559341 wkg:1604559362 wkg:1604559927 wkg:160475656 wkg:1606175319 wkg:1606286648 wkg:1607460413 wkg:1608062767 wkg:1608311127 wkg:1610184403 wkg:1610184439 wkg:1610184572 wkg:1610575753 wkg:1611581711 wkg:1612903511 wkg:1612905953 wkg:1612906073 wkg:1613082990 wkg:1619811558 wkg:1622495948 wkg:1622631844 wkg:1622635468 wkg:1622647800 wkg:1622910597 wkg:1622917994 wkg:1622985429 wkg:1622985679 wkg:1623012370 wkg:1623012656 wkg:1623065309 wkg:1623065997 wkg:1623066309 wkg:1623107146 wkg:1623129820 wkg:1624084779 wkg:1624272209 wkg:1625266623 wkg:1625266633 wkg:1625266724 wkg:1625266787 wkg:1625266792 wkg:1625266797 wkg:162748517 wkg:1630849324 wkg:1633104005 wkg:1633104038 wkg:1644764586 wkg:1645119404 wkg:1648342273 wkg:1648976707 wkg:1650277092 wkg:1653823266 wkg:1653908610 wkg:1653908613 wkg:1653908627 wkg:1653908628 wkg:1657141716 wkg:1658452186 wkg:165906468 wkg:166025538 wkg:1661820796 wkg:1664241747 wkg:1665855857 wkg:1667177611 wkg:1667177644 wkg:1669842684 wkg:1670151129 wkg:1671047201 wkg:1671047260} .\n",
            "    ?entity_uri wkgs:spatialObject ?geom.\n",
            "    ?geom geo:asWKT ?coordinates.\n",
            "    OPTIONAL { ?entity_uri rdf:type ?type .}\n",
            "    OPTIONAL { ?entity_uri rdfs:label ?label .}\n",
            "    OPTIONAL { ?entity_uri wkgs:nameEn ?nameEn .}\n",
            "  }\n",
            "  \n"
          ]
        },
        {
          "name": "stderr",
          "output_type": "stream",
          "text": [
            "\r 22%|██▏       | 35/162 [00:17<01:03,  1.99it/s]"
          ]
        },
        {
          "name": "stdout",
          "output_type": "stream",
          "text": [
            "(100, 5)\n",
            "\n",
            "  PREFIX uom: <http://www.opengis.net/def/uom/OGC/1.0/>\n",
            "  PREFIX wkgs: <http://www.worldkg.org/schema/>\n",
            "  PREFIX wkg: <http://www.worldkg.org/resource/>\n",
            "  PREFIX wd: <http://www.wikidata.org/wiki/>\n",
            "  PREFIX sf: <http://www.opengis.net/ont/sf#>\n",
            "  PREFIX rdfs: <http://www.w3.org/2000/01/rdf-schema#>\n",
            "  PREFIX geo: <http://www.opengis.net/ont/geosparql#>\n",
            "  PREFIX owl: <http://www.w3.org/2002/07/owl#>\n",
            "  PREFIX rdf: <http://www.w3.org/1999/02/22-rdf-syntax-ns#>\n",
            "  SELECT DISTINCT ?entity_uri ?type ?label ?nameEn ?coordinates WHERE {\n",
            "    VALUES ?entity_uri {wkg:1671047715 wkg:1671047844 wkg:1673864615 wkg:1673864717 wkg:1673864745 wkg:1674635801 wkg:1675073575 wkg:1675742548 wkg:1675742581 wkg:1676326399 wkg:1676617244 wkg:1678295781 wkg:1678295820 wkg:168038709 wkg:1680780568 wkg:1681892788 wkg:168202392 wkg:1683325355 wkg:1684343791 wkg:1684343802 wkg:1684343807 wkg:1684727104 wkg:1684727113 wkg:1684727122 wkg:1684727151 wkg:1684793666 wkg:1685855379 wkg:1685855392 wkg:1685855402 wkg:1685855447 wkg:1685855518 wkg:1685855548 wkg:168586664 wkg:1687186836 wkg:1687186914 wkg:1688170947 wkg:168868840 wkg:1690220718 wkg:1691722969 wkg:1694010854 wkg:1695198257 wkg:1696137942 wkg:1696137965 wkg:1696138078 wkg:1696850886 wkg:1697489083 wkg:1698390473 wkg:1699083598 wkg:1699106577 wkg:1699106579 wkg:1699106580 wkg:1699106582 wkg:1699106587 wkg:1699287561 wkg:1699351539 wkg:1699351543 wkg:1700620159 wkg:1700620199 wkg:1700777271 wkg:1702982919 wkg:1704243093 wkg:170990013 wkg:1711057804 wkg:171315656 wkg:171317999 wkg:171351349 wkg:1716406577 wkg:1721429187 wkg:1721835021 wkg:1721835084 wkg:1721835085 wkg:1726478005 wkg:1727571380 wkg:1727645733 wkg:1727724462 wkg:1727724481 wkg:1727724528 wkg:1727724568 wkg:1727724609 wkg:1727724614 wkg:1728212270 wkg:1728490214 wkg:1728490215 wkg:1733768477 wkg:1733791548 wkg:1734113434 wkg:1735964547 wkg:1736768244 wkg:1736973766 wkg:1737910679 wkg:1738260263 wkg:1738800006 wkg:1742286139 wkg:1744189787 wkg:1745481386 wkg:1745481398 wkg:1745540314 wkg:1745666621 wkg:1746431676 wkg:1747422066} .\n",
            "    ?entity_uri wkgs:spatialObject ?geom.\n",
            "    ?geom geo:asWKT ?coordinates.\n",
            "    OPTIONAL { ?entity_uri rdf:type ?type .}\n",
            "    OPTIONAL { ?entity_uri rdfs:label ?label .}\n",
            "    OPTIONAL { ?entity_uri wkgs:nameEn ?nameEn .}\n",
            "  }\n",
            "  \n"
          ]
        },
        {
          "name": "stderr",
          "output_type": "stream",
          "text": [
            "\r 22%|██▏       | 36/162 [00:17<01:03,  1.97it/s]"
          ]
        },
        {
          "name": "stdout",
          "output_type": "stream",
          "text": [
            "(101, 5)\n",
            "\n",
            "  PREFIX uom: <http://www.opengis.net/def/uom/OGC/1.0/>\n",
            "  PREFIX wkgs: <http://www.worldkg.org/schema/>\n",
            "  PREFIX wkg: <http://www.worldkg.org/resource/>\n",
            "  PREFIX wd: <http://www.wikidata.org/wiki/>\n",
            "  PREFIX sf: <http://www.opengis.net/ont/sf#>\n",
            "  PREFIX rdfs: <http://www.w3.org/2000/01/rdf-schema#>\n",
            "  PREFIX geo: <http://www.opengis.net/ont/geosparql#>\n",
            "  PREFIX owl: <http://www.w3.org/2002/07/owl#>\n",
            "  PREFIX rdf: <http://www.w3.org/1999/02/22-rdf-syntax-ns#>\n",
            "  SELECT DISTINCT ?entity_uri ?type ?label ?nameEn ?coordinates WHERE {\n",
            "    VALUES ?entity_uri {wkg:1747422100 wkg:1747497258 wkg:1750963577 wkg:1752400805 wkg:1752934105 wkg:1753691584 wkg:1754514218 wkg:1754514223 wkg:1755796619 wkg:1755796621 wkg:1756720436 wkg:1756796257 wkg:1756796320 wkg:1757020474 wkg:1757020505 wkg:1758660003 wkg:1760753056 wkg:1761154967 wkg:1769372347 wkg:1769372395 wkg:1769372530 wkg:1771390869 wkg:1771390883 wkg:1771390902 wkg:1771390953 wkg:1771390961 wkg:1772535214 wkg:1772535216 wkg:1773381559 wkg:1773381604 wkg:1773381693 wkg:1780084511 wkg:1785940075 wkg:17861291 wkg:1786235920 wkg:1787142347 wkg:1787142348 wkg:1787142349 wkg:1787649456 wkg:1788443771 wkg:1788450007 wkg:1788520138 wkg:1788568131 wkg:1789585967 wkg:1789771466 wkg:1789771484 wkg:1790048269 wkg:1791527712 wkg:1791553385 wkg:1792783630 wkg:1792870189 wkg:1792917047 wkg:1796155187 wkg:1796683512 wkg:1796819714 wkg:1800434750 wkg:1802406231 wkg:1802406237 wkg:1803121318 wkg:1805017538 wkg:1805017544 wkg:1805017546 wkg:1805745304 wkg:1805809524 wkg:1808706458 wkg:1809223776 wkg:1809578921 wkg:1809984035 wkg:1809984063 wkg:1809984068 wkg:1811301966 wkg:1811474467 wkg:1811650017 wkg:1812461338 wkg:1812461349 wkg:181308123 wkg:181356942 wkg:1813714586 wkg:1813714685 wkg:1813714792 wkg:1813714860 wkg:1813714881 wkg:1813714987 wkg:1813715021 wkg:1813877089 wkg:181414801 wkg:1815476345 wkg:1816928488 wkg:1818848292 wkg:1820038174 wkg:1822976184 wkg:1825443197 wkg:1826020694 wkg:1826588166 wkg:1829368359 wkg:1830490058 wkg:1830695012 wkg:1831601799 wkg:1831975811 wkg:1831975831} .\n",
            "    ?entity_uri wkgs:spatialObject ?geom.\n",
            "    ?geom geo:asWKT ?coordinates.\n",
            "    OPTIONAL { ?entity_uri rdf:type ?type .}\n",
            "    OPTIONAL { ?entity_uri rdfs:label ?label .}\n",
            "    OPTIONAL { ?entity_uri wkgs:nameEn ?nameEn .}\n",
            "  }\n",
            "  \n"
          ]
        },
        {
          "name": "stderr",
          "output_type": "stream",
          "text": [
            "\r 23%|██▎       | 37/162 [00:18<01:03,  1.96it/s]"
          ]
        },
        {
          "name": "stdout",
          "output_type": "stream",
          "text": [
            "(100, 5)\n",
            "\n",
            "  PREFIX uom: <http://www.opengis.net/def/uom/OGC/1.0/>\n",
            "  PREFIX wkgs: <http://www.worldkg.org/schema/>\n",
            "  PREFIX wkg: <http://www.worldkg.org/resource/>\n",
            "  PREFIX wd: <http://www.wikidata.org/wiki/>\n",
            "  PREFIX sf: <http://www.opengis.net/ont/sf#>\n",
            "  PREFIX rdfs: <http://www.w3.org/2000/01/rdf-schema#>\n",
            "  PREFIX geo: <http://www.opengis.net/ont/geosparql#>\n",
            "  PREFIX owl: <http://www.w3.org/2002/07/owl#>\n",
            "  PREFIX rdf: <http://www.w3.org/1999/02/22-rdf-syntax-ns#>\n",
            "  SELECT DISTINCT ?entity_uri ?type ?label ?nameEn ?coordinates WHERE {\n",
            "    VALUES ?entity_uri {wkg:1831975832 wkg:1833082782 wkg:1833082803 wkg:1833082818 wkg:1833082916 wkg:1833082931 wkg:1833082965 wkg:1833082987 wkg:1833083010 wkg:1833083062 wkg:183345861 wkg:1834947923 wkg:1834957969 wkg:1834981287 wkg:1837184843 wkg:1837184844 wkg:1837478924 wkg:1838142419 wkg:1838475801 wkg:1838499906 wkg:1839506739 wkg:1840877326 wkg:1840965425 wkg:1841053417 wkg:1843497037 wkg:1843686364 wkg:1846711011 wkg:1846711035 wkg:1846711036 wkg:184688705 wkg:1847947662 wkg:1848081790 wkg:1848133144 wkg:1854630224 wkg:1854630229 wkg:1855239360 wkg:1855523418 wkg:1855523443 wkg:1855523452 wkg:1856813219 wkg:1856840428 wkg:1857038922 wkg:1857038956 wkg:1857038972 wkg:1857038975 wkg:1857038980 wkg:1857038982 wkg:1857038983 wkg:1857038985 wkg:1857038986 wkg:1858475487 wkg:1858475673 wkg:1858475723 wkg:1858475798 wkg:1859786101 wkg:1861485102 wkg:1861485107 wkg:1861485110 wkg:1862651669 wkg:1862662251 wkg:1862668168 wkg:1863139329 wkg:1863432188 wkg:1863432189 wkg:1863432212 wkg:1863557988 wkg:1863723025 wkg:1864024172 wkg:1864148854 wkg:1864149230 wkg:1864175878 wkg:1864176041 wkg:1864291212 wkg:1864531755 wkg:1864531759 wkg:1864531760 wkg:1864531772 wkg:1864531776 wkg:1865204203 wkg:1865604784 wkg:1865684076 wkg:1865787546 wkg:1865787599 wkg:1865787637 wkg:1865787663 wkg:1865787704 wkg:1865904620 wkg:1867502877 wkg:1868482039 wkg:1868482040 wkg:1868482041 wkg:1868482043 wkg:1868637203 wkg:1868637214 wkg:1868888519 wkg:1870736182 wkg:1871118598 wkg:1871118622 wkg:1871118624 wkg:1871995867} .\n",
            "    ?entity_uri wkgs:spatialObject ?geom.\n",
            "    ?geom geo:asWKT ?coordinates.\n",
            "    OPTIONAL { ?entity_uri rdf:type ?type .}\n",
            "    OPTIONAL { ?entity_uri rdfs:label ?label .}\n",
            "    OPTIONAL { ?entity_uri wkgs:nameEn ?nameEn .}\n",
            "  }\n",
            "  \n"
          ]
        },
        {
          "name": "stderr",
          "output_type": "stream",
          "text": [
            "\r 23%|██▎       | 38/162 [00:18<01:03,  1.95it/s]"
          ]
        },
        {
          "name": "stdout",
          "output_type": "stream",
          "text": [
            "(100, 5)\n",
            "\n",
            "  PREFIX uom: <http://www.opengis.net/def/uom/OGC/1.0/>\n",
            "  PREFIX wkgs: <http://www.worldkg.org/schema/>\n",
            "  PREFIX wkg: <http://www.worldkg.org/resource/>\n",
            "  PREFIX wd: <http://www.wikidata.org/wiki/>\n",
            "  PREFIX sf: <http://www.opengis.net/ont/sf#>\n",
            "  PREFIX rdfs: <http://www.w3.org/2000/01/rdf-schema#>\n",
            "  PREFIX geo: <http://www.opengis.net/ont/geosparql#>\n",
            "  PREFIX owl: <http://www.w3.org/2002/07/owl#>\n",
            "  PREFIX rdf: <http://www.w3.org/1999/02/22-rdf-syntax-ns#>\n",
            "  SELECT DISTINCT ?entity_uri ?type ?label ?nameEn ?coordinates WHERE {\n",
            "    VALUES ?entity_uri {wkg:1872436074 wkg:1873746319 wkg:1874239095 wkg:1878611269 wkg:1878611296 wkg:1879247578 wkg:1879247584 wkg:1880212966 wkg:1880354694 wkg:1880739650 wkg:1880739719 wkg:1882177395 wkg:1884053539 wkg:1885248833 wkg:1886574306 wkg:1886574426 wkg:1887813898 wkg:1889371215 wkg:1889371217 wkg:1891221662 wkg:1894200360 wkg:1894693257 wkg:18954801 wkg:1895516910 wkg:1896024292 wkg:1896088817 wkg:1896088838 wkg:1897668955 wkg:1897668957 wkg:1897668982 wkg:1897669017 wkg:189820294 wkg:1898258216 wkg:1898283435 wkg:1898283470 wkg:1898293062 wkg:1898293069 wkg:1898306501 wkg:1898306518 wkg:1898352062 wkg:1898382693 wkg:1898382698 wkg:1899743431 wkg:1899743475 wkg:1901916996 wkg:1902201379 wkg:1902201380 wkg:1902201382 wkg:1902201383 wkg:1902201385 wkg:1903363582 wkg:1904221316 wkg:1905444588 wkg:1907009709 wkg:1908445562 wkg:1908831723 wkg:1909499836 wkg:1909499920 wkg:1911305572 wkg:1911305595 wkg:1912231907 wkg:1912231919 wkg:1912231922 wkg:1912231925 wkg:1912487623 wkg:1913931478 wkg:1913931492 wkg:1913931502 wkg:1913931529 wkg:191752285 wkg:191855308 wkg:191863710 wkg:191969052 wkg:1921776472 wkg:1921776491 wkg:1923474142 wkg:1923474153 wkg:1923575875 wkg:1925220756 wkg:1925220759 wkg:1926959021 wkg:1926959126 wkg:1926959259 wkg:1927492269 wkg:1928869143 wkg:1930360906 wkg:1930360910 wkg:1930360912 wkg:1930360917 wkg:1930360918 wkg:1930952766 wkg:1932338735 wkg:1932731234 wkg:1933641783 wkg:1933981790 wkg:1936666154 wkg:1936666160 wkg:1936666198 wkg:1937187924 wkg:1937187966} .\n",
            "    ?entity_uri wkgs:spatialObject ?geom.\n",
            "    ?geom geo:asWKT ?coordinates.\n",
            "    OPTIONAL { ?entity_uri rdf:type ?type .}\n",
            "    OPTIONAL { ?entity_uri rdfs:label ?label .}\n",
            "    OPTIONAL { ?entity_uri wkgs:nameEn ?nameEn .}\n",
            "  }\n",
            "  \n"
          ]
        },
        {
          "name": "stderr",
          "output_type": "stream",
          "text": [
            "\r 24%|██▍       | 39/162 [00:19<01:03,  1.94it/s]"
          ]
        },
        {
          "name": "stdout",
          "output_type": "stream",
          "text": [
            "(100, 5)\n",
            "\n",
            "  PREFIX uom: <http://www.opengis.net/def/uom/OGC/1.0/>\n",
            "  PREFIX wkgs: <http://www.worldkg.org/schema/>\n",
            "  PREFIX wkg: <http://www.worldkg.org/resource/>\n",
            "  PREFIX wd: <http://www.wikidata.org/wiki/>\n",
            "  PREFIX sf: <http://www.opengis.net/ont/sf#>\n",
            "  PREFIX rdfs: <http://www.w3.org/2000/01/rdf-schema#>\n",
            "  PREFIX geo: <http://www.opengis.net/ont/geosparql#>\n",
            "  PREFIX owl: <http://www.w3.org/2002/07/owl#>\n",
            "  PREFIX rdf: <http://www.w3.org/1999/02/22-rdf-syntax-ns#>\n",
            "  SELECT DISTINCT ?entity_uri ?type ?label ?nameEn ?coordinates WHERE {\n",
            "    VALUES ?entity_uri {wkg:193823659 wkg:193824312 wkg:1941836055 wkg:1944069935 wkg:1944214155 wkg:194490879 wkg:1945644436 wkg:1945907943 wkg:1947278728 wkg:1947278734 wkg:1947343028 wkg:1948690600 wkg:1952444797 wkg:1952444807 wkg:1954716813 wkg:1954738162 wkg:1954738176 wkg:195518243 wkg:195582043 wkg:1956546776 wkg:1957080920 wkg:1958242686 wkg:1960400998 wkg:1960845876 wkg:1964693725 wkg:1964693758 wkg:1966325464 wkg:1969461916 wkg:1969461936 wkg:1969575236 wkg:196974648 wkg:197017594 wkg:1972157785 wkg:1974499447 wkg:1974709637 wkg:1974755458 wkg:1976141592 wkg:1976172945 wkg:1979375865 wkg:19794768 wkg:1981249135 wkg:1981468991 wkg:1982491517 wkg:1983711862 wkg:1985540962 wkg:1985676702 wkg:1989473262 wkg:1990347787 wkg:1990934341 wkg:1991880841 wkg:1994858010 wkg:1994926599 wkg:1996703114 wkg:1997016710 wkg:199753741 wkg:1997788027 wkg:1997788989 wkg:1997788990 wkg:1997935493 wkg:1998482876 wkg:1998505954 wkg:1998722294 wkg:1999067395 wkg:1999067408 wkg:1999068346 wkg:1999068522 wkg:1999421745 wkg:1999421761 wkg:1999421770 wkg:1999421773 wkg:1999421821 wkg:1999421842 wkg:2000003612 wkg:2000003692 wkg:2000003750 wkg:2000003784 wkg:2000003853 wkg:2000005582 wkg:2000005737 wkg:2000555584 wkg:2001999522 wkg:2002177662 wkg:2002187462 wkg:2005363564 wkg:2005363848 wkg:2008343988 wkg:2008369959 wkg:2010284063 wkg:2011987735 wkg:201298571 wkg:201299775 wkg:201299827 wkg:201350955 wkg:2015265416 wkg:2015279495 wkg:2016695243 wkg:2016708619 wkg:201678338 wkg:2016793167 wkg:2016860246} .\n",
            "    ?entity_uri wkgs:spatialObject ?geom.\n",
            "    ?geom geo:asWKT ?coordinates.\n",
            "    OPTIONAL { ?entity_uri rdf:type ?type .}\n",
            "    OPTIONAL { ?entity_uri rdfs:label ?label .}\n",
            "    OPTIONAL { ?entity_uri wkgs:nameEn ?nameEn .}\n",
            "  }\n",
            "  \n"
          ]
        },
        {
          "name": "stderr",
          "output_type": "stream",
          "text": [
            "\r 25%|██▍       | 40/162 [00:19<01:02,  1.94it/s]"
          ]
        },
        {
          "name": "stdout",
          "output_type": "stream",
          "text": [
            "(100, 5)\n",
            "\n",
            "  PREFIX uom: <http://www.opengis.net/def/uom/OGC/1.0/>\n",
            "  PREFIX wkgs: <http://www.worldkg.org/schema/>\n",
            "  PREFIX wkg: <http://www.worldkg.org/resource/>\n",
            "  PREFIX wd: <http://www.wikidata.org/wiki/>\n",
            "  PREFIX sf: <http://www.opengis.net/ont/sf#>\n",
            "  PREFIX rdfs: <http://www.w3.org/2000/01/rdf-schema#>\n",
            "  PREFIX geo: <http://www.opengis.net/ont/geosparql#>\n",
            "  PREFIX owl: <http://www.w3.org/2002/07/owl#>\n",
            "  PREFIX rdf: <http://www.w3.org/1999/02/22-rdf-syntax-ns#>\n",
            "  SELECT DISTINCT ?entity_uri ?type ?label ?nameEn ?coordinates WHERE {\n",
            "    VALUES ?entity_uri {wkg:2017659616 wkg:2018046850 wkg:2018172131 wkg:2018172133 wkg:2018173093 wkg:2018451148 wkg:2018451417 wkg:2018655358 wkg:2018655543 wkg:2019809342 wkg:2021573963 wkg:203258008 wkg:203443343 wkg:203770944 wkg:2038027953 wkg:2039121337 wkg:2040941631 wkg:2043991244 wkg:2043991344 wkg:2043991438 wkg:2048982952 wkg:2050342925 wkg:2051354272 wkg:2051873791 wkg:2051964004 wkg:2052081462 wkg:2052081529 wkg:2052120918 wkg:2052120925 wkg:2052120982 wkg:2053470959 wkg:2053471004 wkg:2053471741 wkg:2053472501 wkg:2054762558 wkg:2055565043 wkg:2055570486 wkg:2058639564 wkg:2059190860 wkg:2064203704 wkg:207386458 wkg:207388436 wkg:207433505 wkg:2075124305 wkg:207689592 wkg:2078581275 wkg:2079102836 wkg:2080645143 wkg:2080752178 wkg:2082583477 wkg:2082962341 wkg:2082962344 wkg:208522695 wkg:208592566 wkg:2088311118 wkg:2091294355 wkg:2091753195 wkg:2093508469 wkg:2094195659 wkg:2095716299 wkg:2097955818 wkg:2098146321 wkg:2098146343 wkg:2098146368 wkg:2098146404 wkg:2098183362 wkg:2098183459 wkg:2098215364 wkg:2099747940 wkg:2101805815 wkg:210421241 wkg:2105632761 wkg:21063119 wkg:21068150 wkg:21068719 wkg:2115184125 wkg:2115186706 wkg:2115840208 wkg:2118176604 wkg:2120893625 wkg:2121675849 wkg:2123937944 wkg:2125801475 wkg:2126281330 wkg:2127412021 wkg:213013259 wkg:2133268413 wkg:2133450076 wkg:2133824531 wkg:2136208236 wkg:2138564794 wkg:214180533 wkg:214180766 wkg:214181962 wkg:214182155 wkg:214182572 wkg:214183082 wkg:214183095 wkg:214183644 wkg:214183782} .\n",
            "    ?entity_uri wkgs:spatialObject ?geom.\n",
            "    ?geom geo:asWKT ?coordinates.\n",
            "    OPTIONAL { ?entity_uri rdf:type ?type .}\n",
            "    OPTIONAL { ?entity_uri rdfs:label ?label .}\n",
            "    OPTIONAL { ?entity_uri wkgs:nameEn ?nameEn .}\n",
            "  }\n",
            "  \n"
          ]
        },
        {
          "name": "stderr",
          "output_type": "stream",
          "text": [
            "\r 25%|██▌       | 41/162 [00:20<01:02,  1.94it/s]"
          ]
        },
        {
          "name": "stdout",
          "output_type": "stream",
          "text": [
            "(102, 5)\n",
            "\n",
            "  PREFIX uom: <http://www.opengis.net/def/uom/OGC/1.0/>\n",
            "  PREFIX wkgs: <http://www.worldkg.org/schema/>\n",
            "  PREFIX wkg: <http://www.worldkg.org/resource/>\n",
            "  PREFIX wd: <http://www.wikidata.org/wiki/>\n",
            "  PREFIX sf: <http://www.opengis.net/ont/sf#>\n",
            "  PREFIX rdfs: <http://www.w3.org/2000/01/rdf-schema#>\n",
            "  PREFIX geo: <http://www.opengis.net/ont/geosparql#>\n",
            "  PREFIX owl: <http://www.w3.org/2002/07/owl#>\n",
            "  PREFIX rdf: <http://www.w3.org/1999/02/22-rdf-syntax-ns#>\n",
            "  SELECT DISTINCT ?entity_uri ?type ?label ?nameEn ?coordinates WHERE {\n",
            "    VALUES ?entity_uri {wkg:214185581 wkg:214186449 wkg:214186579 wkg:214186781 wkg:214187405 wkg:214187686 wkg:214188126 wkg:214190657 wkg:214192227 wkg:214192277 wkg:214192420 wkg:214192858 wkg:214192890 wkg:214194032 wkg:214194420 wkg:214194479 wkg:214194542 wkg:214195068 wkg:214196237 wkg:214196463 wkg:214196918 wkg:214197863 wkg:214200052 wkg:214200624 wkg:214201225 wkg:214202501 wkg:214202690 wkg:214202771 wkg:214204032 wkg:214205570 wkg:214206113 wkg:214206267 wkg:214206902 wkg:214207696 wkg:214209501 wkg:214210231 wkg:214212060 wkg:214212984 wkg:214213169 wkg:214213513 wkg:214213615 wkg:214213838 wkg:214214093 wkg:214214270 wkg:214215430 wkg:214216271 wkg:214218116 wkg:214219575 wkg:214219627 wkg:214219706 wkg:214220001 wkg:214220660 wkg:214221275 wkg:214221493 wkg:214221577 wkg:214222771 wkg:2142229454 wkg:214223506 wkg:214224185 wkg:214224356 wkg:214224722 wkg:214225120 wkg:214226093 wkg:214226846 wkg:214226931 wkg:214227782 wkg:214228144 wkg:214228489 wkg:214228784 wkg:214228816 wkg:214228899 wkg:214229240 wkg:214229440 wkg:214229544 wkg:214229792 wkg:214229931 wkg:214230155 wkg:214230532 wkg:214231079 wkg:214231325 wkg:214231579 wkg:214232945 wkg:214235276 wkg:2142451821 wkg:2145356057 wkg:2146192419 wkg:2148444968 wkg:2149942829 wkg:2151595039 wkg:2152832446 wkg:2152922316 wkg:2152922356 wkg:2152922389 wkg:2152922787 wkg:2153352914 wkg:2154276105 wkg:2155827282 wkg:2157162589 wkg:2160053458 wkg:2163914205} .\n",
            "    ?entity_uri wkgs:spatialObject ?geom.\n",
            "    ?geom geo:asWKT ?coordinates.\n",
            "    OPTIONAL { ?entity_uri rdf:type ?type .}\n",
            "    OPTIONAL { ?entity_uri rdfs:label ?label .}\n",
            "    OPTIONAL { ?entity_uri wkgs:nameEn ?nameEn .}\n",
            "  }\n",
            "  \n"
          ]
        },
        {
          "name": "stderr",
          "output_type": "stream",
          "text": [
            "\r 26%|██▌       | 42/162 [00:20<01:00,  1.99it/s]"
          ]
        },
        {
          "name": "stdout",
          "output_type": "stream",
          "text": [
            "(100, 5)\n",
            "\n",
            "  PREFIX uom: <http://www.opengis.net/def/uom/OGC/1.0/>\n",
            "  PREFIX wkgs: <http://www.worldkg.org/schema/>\n",
            "  PREFIX wkg: <http://www.worldkg.org/resource/>\n",
            "  PREFIX wd: <http://www.wikidata.org/wiki/>\n",
            "  PREFIX sf: <http://www.opengis.net/ont/sf#>\n",
            "  PREFIX rdfs: <http://www.w3.org/2000/01/rdf-schema#>\n",
            "  PREFIX geo: <http://www.opengis.net/ont/geosparql#>\n",
            "  PREFIX owl: <http://www.w3.org/2002/07/owl#>\n",
            "  PREFIX rdf: <http://www.w3.org/1999/02/22-rdf-syntax-ns#>\n",
            "  SELECT DISTINCT ?entity_uri ?type ?label ?nameEn ?coordinates WHERE {\n",
            "    VALUES ?entity_uri {wkg:2163996722 wkg:2164030082 wkg:2165128744 wkg:2168932898 wkg:2170360248 wkg:2174730645 wkg:2177249603 wkg:2178357510 wkg:2178525392 wkg:2179406766 wkg:2179872890 wkg:2180077237 wkg:2183375707 wkg:2185002852 wkg:2185271561 wkg:2185440782 wkg:2185833198 wkg:2185858218 wkg:2185873740 wkg:2185882682 wkg:2186401980 wkg:2186851247 wkg:218752469 wkg:2187682263 wkg:2187738981 wkg:2189546665 wkg:2189565995 wkg:2189565996 wkg:2189578036 wkg:2189584287 wkg:2189611645 wkg:2189611647 wkg:2193173346 wkg:2195327175 wkg:2195348439 wkg:2195359663 wkg:2195373087 wkg:2195375852 wkg:2195395680 wkg:2195427752 wkg:2195434626 wkg:2195492270 wkg:2195840944 wkg:2196107053 wkg:2196159987 wkg:2196650540 wkg:2199264386 wkg:2199264388 wkg:2199397621 wkg:2199825162 wkg:2199882182 wkg:2199964840 wkg:2199964853 wkg:2201258945 wkg:2201258947 wkg:2201258951 wkg:2201258964 wkg:2201259103 wkg:2201325742 wkg:2202937185 wkg:2202953108 wkg:2203656829 wkg:2206025840 wkg:2210938557 wkg:2210953169 wkg:2210961421 wkg:2211160989 wkg:2213842283 wkg:2213842466 wkg:2215848823 wkg:2216479797 wkg:2216991195 wkg:2218335289 wkg:2218522433 wkg:2218590206 wkg:2219667213 wkg:2222805840 wkg:2229214099 wkg:2229406663 wkg:2229406673 wkg:2229406709 wkg:2237699954 wkg:2240851562 wkg:2240851570 wkg:2240945375 wkg:2240991961 wkg:2246459252 wkg:2246459434 wkg:2246922114 wkg:2246993590 wkg:2246993757 wkg:2246993778 wkg:2246994540 wkg:2246994622 wkg:2247002789 wkg:2247002830 wkg:2247002862 wkg:2247003057 wkg:2247003275 wkg:2247003345} .\n",
            "    ?entity_uri wkgs:spatialObject ?geom.\n",
            "    ?geom geo:asWKT ?coordinates.\n",
            "    OPTIONAL { ?entity_uri rdf:type ?type .}\n",
            "    OPTIONAL { ?entity_uri rdfs:label ?label .}\n",
            "    OPTIONAL { ?entity_uri wkgs:nameEn ?nameEn .}\n",
            "  }\n",
            "  \n"
          ]
        },
        {
          "name": "stderr",
          "output_type": "stream",
          "text": [
            "\r 27%|██▋       | 43/162 [00:21<00:59,  2.00it/s]"
          ]
        },
        {
          "name": "stdout",
          "output_type": "stream",
          "text": [
            "(100, 5)\n",
            "\n",
            "  PREFIX uom: <http://www.opengis.net/def/uom/OGC/1.0/>\n",
            "  PREFIX wkgs: <http://www.worldkg.org/schema/>\n",
            "  PREFIX wkg: <http://www.worldkg.org/resource/>\n",
            "  PREFIX wd: <http://www.wikidata.org/wiki/>\n",
            "  PREFIX sf: <http://www.opengis.net/ont/sf#>\n",
            "  PREFIX rdfs: <http://www.w3.org/2000/01/rdf-schema#>\n",
            "  PREFIX geo: <http://www.opengis.net/ont/geosparql#>\n",
            "  PREFIX owl: <http://www.w3.org/2002/07/owl#>\n",
            "  PREFIX rdf: <http://www.w3.org/1999/02/22-rdf-syntax-ns#>\n",
            "  SELECT DISTINCT ?entity_uri ?type ?label ?nameEn ?coordinates WHERE {\n",
            "    VALUES ?entity_uri {wkg:2247004388 wkg:2247004398 wkg:2247004468 wkg:2247018426 wkg:2247098988 wkg:2247099370 wkg:2247100463 wkg:2247102212 wkg:2247142856 wkg:2247142861 wkg:2247151464 wkg:2247159384 wkg:2247159423 wkg:2247234694 wkg:2247234722 wkg:2247234867 wkg:2247235023 wkg:2247252648 wkg:2247269107 wkg:2248034512 wkg:2248552649 wkg:2255031294 wkg:2259901394 wkg:2260289596 wkg:2260363932 wkg:2262022047 wkg:2266159309 wkg:2267760331 wkg:2268131028 wkg:2269435447 wkg:2269442794 wkg:2269479538 wkg:2269489156 wkg:2269501096 wkg:2269529579 wkg:2269529586 wkg:2269561411 wkg:2269607514 wkg:2269607521 wkg:2269613489 wkg:2269631324 wkg:2269631326 wkg:2269659112 wkg:2269659115 wkg:2269659119 wkg:2269800633 wkg:2269800636 wkg:2271161114 wkg:2271209704 wkg:2271542378 wkg:2271542961 wkg:2272136066 wkg:2272544113 wkg:2277869997 wkg:2277876873 wkg:2277926396 wkg:2278210758 wkg:2278702076 wkg:2279757010 wkg:2280970350 wkg:2283525921 wkg:2283538528 wkg:2283538532 wkg:2284106702 wkg:2284106704 wkg:2290870494 wkg:2290870812 wkg:2290871013 wkg:2291251540 wkg:2291251552 wkg:2291255095 wkg:2292243210 wkg:2295498988 wkg:2296515337 wkg:2296554572 wkg:2296554575 wkg:2297147876 wkg:2297631804 wkg:2297632679 wkg:2299286806 wkg:2299592303 wkg:2302450762 wkg:2304485476 wkg:230628786 wkg:2307293091 wkg:2309876224 wkg:2311667487 wkg:2312556060 wkg:2314438809 wkg:2314787664 wkg:2317809231 wkg:2317809232 wkg:2317809233 wkg:2318279766 wkg:2322220737 wkg:2322906432 wkg:2323713945 wkg:2326243335 wkg:2326243403 wkg:2326243528} .\n",
            "    ?entity_uri wkgs:spatialObject ?geom.\n",
            "    ?geom geo:asWKT ?coordinates.\n",
            "    OPTIONAL { ?entity_uri rdf:type ?type .}\n",
            "    OPTIONAL { ?entity_uri rdfs:label ?label .}\n",
            "    OPTIONAL { ?entity_uri wkgs:nameEn ?nameEn .}\n",
            "  }\n",
            "  \n"
          ]
        },
        {
          "name": "stderr",
          "output_type": "stream",
          "text": [
            "\r 27%|██▋       | 44/162 [00:21<00:59,  1.98it/s]"
          ]
        },
        {
          "name": "stdout",
          "output_type": "stream",
          "text": [
            "(100, 5)\n",
            "\n",
            "  PREFIX uom: <http://www.opengis.net/def/uom/OGC/1.0/>\n",
            "  PREFIX wkgs: <http://www.worldkg.org/schema/>\n",
            "  PREFIX wkg: <http://www.worldkg.org/resource/>\n",
            "  PREFIX wd: <http://www.wikidata.org/wiki/>\n",
            "  PREFIX sf: <http://www.opengis.net/ont/sf#>\n",
            "  PREFIX rdfs: <http://www.w3.org/2000/01/rdf-schema#>\n",
            "  PREFIX geo: <http://www.opengis.net/ont/geosparql#>\n",
            "  PREFIX owl: <http://www.w3.org/2002/07/owl#>\n",
            "  PREFIX rdf: <http://www.w3.org/1999/02/22-rdf-syntax-ns#>\n",
            "  SELECT DISTINCT ?entity_uri ?type ?label ?nameEn ?coordinates WHERE {\n",
            "    VALUES ?entity_uri {wkg:2326244269 wkg:2326244334 wkg:2326244565 wkg:2326244752 wkg:2326244818 wkg:2326245077 wkg:2326245535 wkg:2326245835 wkg:2326378068 wkg:2326794015 wkg:2329395765 wkg:2329902695 wkg:2335072273 wkg:2337681130 wkg:2337681224 wkg:2337681377 wkg:2337681385 wkg:2337682342 wkg:2337682626 wkg:2337683118 wkg:2337684218 wkg:2340296657 wkg:2341556237 wkg:2342986413 wkg:2343202762 wkg:2344022046 wkg:2344022062 wkg:2344023822 wkg:2344266203 wkg:2344266235 wkg:2344266245 wkg:2346557331 wkg:2346557334 wkg:2346557336 wkg:2346557337 wkg:2346557341 wkg:2346557344 wkg:2346557345 wkg:2346557346 wkg:2346557355 wkg:2346557356 wkg:2346557357 wkg:2346557358 wkg:2346557361 wkg:2346557362 wkg:2346557363 wkg:2346557364 wkg:2346557365 wkg:2346557366 wkg:2346557368 wkg:2346557372 wkg:2347272772 wkg:2351672802 wkg:2352359739 wkg:2352359740 wkg:2352658398 wkg:2357660925 wkg:2359840558 wkg:2364069334 wkg:2368383166 wkg:2371698084 wkg:2375047140 wkg:2377028247 wkg:2379887148 wkg:2380207427 wkg:2382235429 wkg:2383121121 wkg:2384244379 wkg:2384987093 wkg:2386335832 wkg:238717535 wkg:2388128082 wkg:2388128087 wkg:2388284596 wkg:2388636599 wkg:2388686624 wkg:2389015584 wkg:2389018053 wkg:2389025055 wkg:2389037213 wkg:2389041504 wkg:2389061853 wkg:2389822741 wkg:2393590067 wkg:2397719213 wkg:2397719217 wkg:2397719218 wkg:2397719219 wkg:2397719225 wkg:2397719227 wkg:2397719228 wkg:2398091617 wkg:2399097103 wkg:240025033 wkg:240026328 wkg:240028257 wkg:240028486 wkg:240039980 wkg:2400421392 wkg:240045589} .\n",
            "    ?entity_uri wkgs:spatialObject ?geom.\n",
            "    ?geom geo:asWKT ?coordinates.\n",
            "    OPTIONAL { ?entity_uri rdf:type ?type .}\n",
            "    OPTIONAL { ?entity_uri rdfs:label ?label .}\n",
            "    OPTIONAL { ?entity_uri wkgs:nameEn ?nameEn .}\n",
            "  }\n",
            "  \n"
          ]
        },
        {
          "name": "stderr",
          "output_type": "stream",
          "text": [
            "\r 28%|██▊       | 45/162 [00:22<00:59,  1.96it/s]"
          ]
        },
        {
          "name": "stdout",
          "output_type": "stream",
          "text": [
            "(100, 5)\n",
            "\n",
            "  PREFIX uom: <http://www.opengis.net/def/uom/OGC/1.0/>\n",
            "  PREFIX wkgs: <http://www.worldkg.org/schema/>\n",
            "  PREFIX wkg: <http://www.worldkg.org/resource/>\n",
            "  PREFIX wd: <http://www.wikidata.org/wiki/>\n",
            "  PREFIX sf: <http://www.opengis.net/ont/sf#>\n",
            "  PREFIX rdfs: <http://www.w3.org/2000/01/rdf-schema#>\n",
            "  PREFIX geo: <http://www.opengis.net/ont/geosparql#>\n",
            "  PREFIX owl: <http://www.w3.org/2002/07/owl#>\n",
            "  PREFIX rdf: <http://www.w3.org/1999/02/22-rdf-syntax-ns#>\n",
            "  SELECT DISTINCT ?entity_uri ?type ?label ?nameEn ?coordinates WHERE {\n",
            "    VALUES ?entity_uri {wkg:240047160 wkg:240059135 wkg:240082401 wkg:240087066 wkg:240090160 wkg:2400974296 wkg:2400974304 wkg:2400974316 wkg:2400974324 wkg:2400974340 wkg:2400974344 wkg:2400974348 wkg:2400974366 wkg:2400974390 wkg:2400974414 wkg:240101424 wkg:2401985109 wkg:2401985235 wkg:2402411373 wkg:2402673949 wkg:2403573087 wkg:2407221012 wkg:2408760452 wkg:2408760504 wkg:240933952 wkg:240937392 wkg:240937658 wkg:2410069934 wkg:2410078879 wkg:2411105439 wkg:2411392658 wkg:241533622 wkg:2417861670 wkg:2420252000 wkg:2420370482 wkg:2421648462 wkg:2422403824 wkg:2424738953 wkg:2424761655 wkg:2425633280 wkg:2425748351 wkg:2426217387 wkg:2429561692 wkg:242978911 wkg:242978912 wkg:242979047 wkg:242991967 wkg:243021643 wkg:243034513 wkg:2431191386 wkg:2431199581 wkg:243191014 wkg:2433245828 wkg:243425912 wkg:243453823 wkg:243891732 wkg:243993095 wkg:243993201 wkg:2440575327 wkg:244078755 wkg:244078845 wkg:244081442 wkg:2442325108 wkg:244321313 wkg:244521650 wkg:2445454963 wkg:2449858699 wkg:2451636801 wkg:245233136 wkg:245385393 wkg:245542318 wkg:245544300 wkg:245550581 wkg:245554685 wkg:245554769 wkg:245557356 wkg:2455697925 wkg:245660119 wkg:245709027 wkg:245728426 wkg:245735780 wkg:245741387 wkg:245749122 wkg:245756095 wkg:2458377507 wkg:245888165 wkg:245888957 wkg:245889876 wkg:246040641 wkg:2460428648 wkg:2460695346 wkg:246085758 wkg:2461015859 wkg:2461016368 wkg:2461016949 wkg:2461017245 wkg:2461069249 wkg:2461448610 wkg:2462073138 wkg:246212257} .\n",
            "    ?entity_uri wkgs:spatialObject ?geom.\n",
            "    ?geom geo:asWKT ?coordinates.\n",
            "    OPTIONAL { ?entity_uri rdf:type ?type .}\n",
            "    OPTIONAL { ?entity_uri rdfs:label ?label .}\n",
            "    OPTIONAL { ?entity_uri wkgs:nameEn ?nameEn .}\n",
            "  }\n",
            "  \n"
          ]
        },
        {
          "name": "stderr",
          "output_type": "stream",
          "text": [
            "\r 28%|██▊       | 46/162 [00:22<00:59,  1.95it/s]"
          ]
        },
        {
          "name": "stdout",
          "output_type": "stream",
          "text": [
            "(102, 5)\n",
            "\n",
            "  PREFIX uom: <http://www.opengis.net/def/uom/OGC/1.0/>\n",
            "  PREFIX wkgs: <http://www.worldkg.org/schema/>\n",
            "  PREFIX wkg: <http://www.worldkg.org/resource/>\n",
            "  PREFIX wd: <http://www.wikidata.org/wiki/>\n",
            "  PREFIX sf: <http://www.opengis.net/ont/sf#>\n",
            "  PREFIX rdfs: <http://www.w3.org/2000/01/rdf-schema#>\n",
            "  PREFIX geo: <http://www.opengis.net/ont/geosparql#>\n",
            "  PREFIX owl: <http://www.w3.org/2002/07/owl#>\n",
            "  PREFIX rdf: <http://www.w3.org/1999/02/22-rdf-syntax-ns#>\n",
            "  SELECT DISTINCT ?entity_uri ?type ?label ?nameEn ?coordinates WHERE {\n",
            "    VALUES ?entity_uri {wkg:246490714 wkg:246514396 wkg:2465434433 wkg:246831012 wkg:246843698 wkg:246881805 wkg:246965597 wkg:246984661 wkg:2470537059 wkg:2471136159 wkg:247146326 wkg:247206090 wkg:247962196 wkg:2479646758 wkg:2480261764 wkg:248049206 wkg:248096516 wkg:2482254484 wkg:2482294053 wkg:2482527385 wkg:2483249268 wkg:2483574061 wkg:248421092 wkg:2485242294 wkg:2485415829 wkg:2486637322 wkg:248689519 wkg:248700950 wkg:248716521 wkg:248777720 wkg:2488025503 wkg:249179552 wkg:249276899 wkg:249307870 wkg:249308233 wkg:249399277 wkg:249399280 wkg:249399288 wkg:249399300 wkg:249399361 wkg:249399362 wkg:249399394 wkg:249399406 wkg:249399419 wkg:249399440 wkg:249399444 wkg:249399679 wkg:2494934629 wkg:249536837 wkg:249658081 wkg:249666046 wkg:249692721 wkg:2497234679 wkg:249841082 wkg:249863453 wkg:250132087 wkg:2502423417 wkg:250346326 wkg:2503692570 wkg:2503865006 wkg:2504142377 wkg:2504876017 wkg:2505095701 wkg:2505386486 wkg:2505386489 wkg:2505386491 wkg:2507680460 wkg:250980183 wkg:250989208 wkg:2510364204 wkg:251188191 wkg:2513415552 wkg:2513415561 wkg:2513942889 wkg:251436812 wkg:251472583 wkg:251480857 wkg:251696527 wkg:251697783 wkg:25181326 wkg:251844762 wkg:251856694 wkg:2518613930 wkg:2518618771 wkg:2519448051 wkg:2519993782 wkg:2520001221 wkg:2520116450 wkg:2520234716 wkg:252131614 wkg:252131617 wkg:2521471660 wkg:2524703061 wkg:252542243 wkg:252542985 wkg:252550890 wkg:2525782599 wkg:2525782601 wkg:2525782604 wkg:2525782614} .\n",
            "    ?entity_uri wkgs:spatialObject ?geom.\n",
            "    ?geom geo:asWKT ?coordinates.\n",
            "    OPTIONAL { ?entity_uri rdf:type ?type .}\n",
            "    OPTIONAL { ?entity_uri rdfs:label ?label .}\n",
            "    OPTIONAL { ?entity_uri wkgs:nameEn ?nameEn .}\n",
            "  }\n",
            "  \n"
          ]
        },
        {
          "name": "stderr",
          "output_type": "stream",
          "text": [
            "\r 29%|██▉       | 47/162 [00:23<00:59,  1.95it/s]"
          ]
        },
        {
          "name": "stdout",
          "output_type": "stream",
          "text": [
            "(100, 5)\n",
            "\n",
            "  PREFIX uom: <http://www.opengis.net/def/uom/OGC/1.0/>\n",
            "  PREFIX wkgs: <http://www.worldkg.org/schema/>\n",
            "  PREFIX wkg: <http://www.worldkg.org/resource/>\n",
            "  PREFIX wd: <http://www.wikidata.org/wiki/>\n",
            "  PREFIX sf: <http://www.opengis.net/ont/sf#>\n",
            "  PREFIX rdfs: <http://www.w3.org/2000/01/rdf-schema#>\n",
            "  PREFIX geo: <http://www.opengis.net/ont/geosparql#>\n",
            "  PREFIX owl: <http://www.w3.org/2002/07/owl#>\n",
            "  PREFIX rdf: <http://www.w3.org/1999/02/22-rdf-syntax-ns#>\n",
            "  SELECT DISTINCT ?entity_uri ?type ?label ?nameEn ?coordinates WHERE {\n",
            "    VALUES ?entity_uri {wkg:2525782615 wkg:2525782617 wkg:2525850481 wkg:252729745 wkg:252925633 wkg:252925930 wkg:2529272627 wkg:2531761037 wkg:2532809774 wkg:2532889891 wkg:2532889906 wkg:2532889922 wkg:2532889935 wkg:2532889961 wkg:2532889969 wkg:2532889976 wkg:2532889985 wkg:2532889993 wkg:2532889998 wkg:253331408 wkg:25374726 wkg:253759192 wkg:253761146 wkg:253941728 wkg:254073469 wkg:254342155 wkg:254372964 wkg:2543983442 wkg:2544025796 wkg:2544040341 wkg:2544040342 wkg:2544170626 wkg:2544170635 wkg:2544170640 wkg:2545958068 wkg:2547563908 wkg:254816526 wkg:2550478733 wkg:255095550 wkg:25522857 wkg:2552334551 wkg:255536583 wkg:255537074 wkg:255538212 wkg:255540894 wkg:255578334 wkg:255590043 wkg:2556025385 wkg:256195264 wkg:256209241 wkg:2562999491 wkg:256630703 wkg:256824209 wkg:256909632 wkg:2569114304 wkg:256922190 wkg:257143331 wkg:2571458559 wkg:2573030004 wkg:2573031699 wkg:2573031708 wkg:2573534759 wkg:2575730065 wkg:257678767 wkg:2578592297 wkg:257904894 wkg:2579650250 wkg:2579650256 wkg:2579745518 wkg:2581144951 wkg:258342080 wkg:258385004 wkg:258414230 wkg:2584927642 wkg:258523517 wkg:25869820 wkg:2587530867 wkg:259017618 wkg:259060254 wkg:259221037 wkg:2593136750 wkg:2593136802 wkg:259551533 wkg:259653889 wkg:2600983673 wkg:260126120 wkg:260126122 wkg:260126605 wkg:260127022 wkg:260137735 wkg:260138648 wkg:26038568 wkg:260569891 wkg:260572773 wkg:260572982 wkg:2606837994 wkg:2606837998 wkg:2607215823 wkg:2607240877 wkg:2607240880} .\n",
            "    ?entity_uri wkgs:spatialObject ?geom.\n",
            "    ?geom geo:asWKT ?coordinates.\n",
            "    OPTIONAL { ?entity_uri rdf:type ?type .}\n",
            "    OPTIONAL { ?entity_uri rdfs:label ?label .}\n",
            "    OPTIONAL { ?entity_uri wkgs:nameEn ?nameEn .}\n",
            "  }\n",
            "  \n"
          ]
        },
        {
          "name": "stderr",
          "output_type": "stream",
          "text": [
            "\r 30%|██▉       | 48/162 [00:23<00:58,  1.94it/s]"
          ]
        },
        {
          "name": "stdout",
          "output_type": "stream",
          "text": [
            "(104, 5)\n",
            "\n",
            "  PREFIX uom: <http://www.opengis.net/def/uom/OGC/1.0/>\n",
            "  PREFIX wkgs: <http://www.worldkg.org/schema/>\n",
            "  PREFIX wkg: <http://www.worldkg.org/resource/>\n",
            "  PREFIX wd: <http://www.wikidata.org/wiki/>\n",
            "  PREFIX sf: <http://www.opengis.net/ont/sf#>\n",
            "  PREFIX rdfs: <http://www.w3.org/2000/01/rdf-schema#>\n",
            "  PREFIX geo: <http://www.opengis.net/ont/geosparql#>\n",
            "  PREFIX owl: <http://www.w3.org/2002/07/owl#>\n",
            "  PREFIX rdf: <http://www.w3.org/1999/02/22-rdf-syntax-ns#>\n",
            "  SELECT DISTINCT ?entity_uri ?type ?label ?nameEn ?coordinates WHERE {\n",
            "    VALUES ?entity_uri {wkg:2607240881 wkg:2607584915 wkg:2608358420 wkg:26084263 wkg:2608582330 wkg:2608593115 wkg:2609772122 wkg:2614506676 wkg:2614506681 wkg:2614512858 wkg:2614512927 wkg:26162465 wkg:2621251980 wkg:262313876 wkg:262313879 wkg:262322095 wkg:2623405208 wkg:2623423722 wkg:2623427960 wkg:2623435573 wkg:2623447725 wkg:2623453008 wkg:2623878919 wkg:2623898019 wkg:262440817 wkg:262448841 wkg:262448848 wkg:2625297450 wkg:262601847 wkg:262601956 wkg:262601981 wkg:262621148 wkg:262707758 wkg:262710131 wkg:262784185 wkg:2631791388 wkg:2633642068 wkg:26347360 wkg:2635358480 wkg:2635577815 wkg:2636759681 wkg:264158895 wkg:2642029307 wkg:264212702 wkg:264241758 wkg:264245723 wkg:264364154 wkg:264364510 wkg:2643837429 wkg:2643865320 wkg:264531190 wkg:26453407 wkg:26455060 wkg:26458742 wkg:265018692 wkg:2652361664 wkg:2652361712 wkg:2652522472 wkg:2653605577 wkg:265530905 wkg:265634184 wkg:26576230 wkg:26576233 wkg:265821886 wkg:265875005 wkg:2661775298 wkg:2661775303 wkg:2663504120 wkg:266540876 wkg:2667644700 wkg:266941902 wkg:2671311400 wkg:267304789 wkg:267304862 wkg:2673618238 wkg:2673618385 wkg:267440200 wkg:267719383 wkg:267842595 wkg:268150150 wkg:2682233140 wkg:268380974 wkg:268417180 wkg:26847706 wkg:26847709 wkg:2685125666 wkg:268517675 wkg:2685183299 wkg:268532106 wkg:268550073 wkg:268550089 wkg:268671238 wkg:26867377 wkg:268696042 wkg:268696057 wkg:268696066 wkg:268847217 wkg:269005310 wkg:26903504 wkg:269447504} .\n",
            "    ?entity_uri wkgs:spatialObject ?geom.\n",
            "    ?geom geo:asWKT ?coordinates.\n",
            "    OPTIONAL { ?entity_uri rdf:type ?type .}\n",
            "    OPTIONAL { ?entity_uri rdfs:label ?label .}\n",
            "    OPTIONAL { ?entity_uri wkgs:nameEn ?nameEn .}\n",
            "  }\n",
            "  \n"
          ]
        },
        {
          "name": "stderr",
          "output_type": "stream",
          "text": [
            "\r 30%|███       | 49/162 [00:24<00:58,  1.94it/s]"
          ]
        },
        {
          "name": "stdout",
          "output_type": "stream",
          "text": [
            "(102, 5)\n",
            "\n",
            "  PREFIX uom: <http://www.opengis.net/def/uom/OGC/1.0/>\n",
            "  PREFIX wkgs: <http://www.worldkg.org/schema/>\n",
            "  PREFIX wkg: <http://www.worldkg.org/resource/>\n",
            "  PREFIX wd: <http://www.wikidata.org/wiki/>\n",
            "  PREFIX sf: <http://www.opengis.net/ont/sf#>\n",
            "  PREFIX rdfs: <http://www.w3.org/2000/01/rdf-schema#>\n",
            "  PREFIX geo: <http://www.opengis.net/ont/geosparql#>\n",
            "  PREFIX owl: <http://www.w3.org/2002/07/owl#>\n",
            "  PREFIX rdf: <http://www.w3.org/1999/02/22-rdf-syntax-ns#>\n",
            "  SELECT DISTINCT ?entity_uri ?type ?label ?nameEn ?coordinates WHERE {\n",
            "    VALUES ?entity_uri {wkg:269447767 wkg:26951315 wkg:26951330 wkg:2695392961 wkg:2696246604 wkg:2697149060 wkg:269786785 wkg:26980624 wkg:269905839 wkg:27010660 wkg:270111451 wkg:27013438 wkg:270488531 wkg:2706851374 wkg:27072633 wkg:27073428 wkg:2708689244 wkg:2712296528 wkg:271299975 wkg:271315342 wkg:271376809 wkg:27171628 wkg:271741224 wkg:2717412823 wkg:2718091147 wkg:271909244 wkg:271971145 wkg:2722774285 wkg:2724832169 wkg:27253144 wkg:2730251801 wkg:273316 wkg:2733594555 wkg:2733859500 wkg:2734762178 wkg:273601416 wkg:273814581 wkg:273814928 wkg:273815462 wkg:273816503 wkg:273872870 wkg:273873999 wkg:273874609 wkg:273877182 wkg:273877508 wkg:273879029 wkg:273880428 wkg:274031998 wkg:274036962 wkg:274057533 wkg:274068742 wkg:274070618 wkg:274239435 wkg:274372610 wkg:27437351 wkg:27437358 wkg:27442136 wkg:274489595 wkg:274494871 wkg:274749354 wkg:2747666523 wkg:27503886 wkg:27503945 wkg:27505266 wkg:27505335 wkg:27505509 wkg:27511708 wkg:2752329432 wkg:2752329491 wkg:2752329636 wkg:2752329745 wkg:2752329908 wkg:2752384846 wkg:27524177 wkg:2752426709 wkg:27524773 wkg:275397576 wkg:275397783 wkg:27547977 wkg:27564954 wkg:27564973 wkg:27564996 wkg:27565008 wkg:2757709599 wkg:275893532 wkg:2761632630 wkg:2761641213 wkg:2761655296 wkg:276465063 wkg:2765611313 wkg:2766755137 wkg:276869182 wkg:2772719507 wkg:277281469 wkg:277348443 wkg:277424574 wkg:2774593302 wkg:278005959 wkg:2780934317 wkg:278184247} .\n",
            "    ?entity_uri wkgs:spatialObject ?geom.\n",
            "    ?geom geo:asWKT ?coordinates.\n",
            "    OPTIONAL { ?entity_uri rdf:type ?type .}\n",
            "    OPTIONAL { ?entity_uri rdfs:label ?label .}\n",
            "    OPTIONAL { ?entity_uri wkgs:nameEn ?nameEn .}\n",
            "  }\n",
            "  \n"
          ]
        },
        {
          "name": "stderr",
          "output_type": "stream",
          "text": [
            "\r 31%|███       | 50/162 [00:24<01:01,  1.81it/s]"
          ]
        },
        {
          "name": "stdout",
          "output_type": "stream",
          "text": [
            "(103, 5)\n",
            "\n",
            "  PREFIX uom: <http://www.opengis.net/def/uom/OGC/1.0/>\n",
            "  PREFIX wkgs: <http://www.worldkg.org/schema/>\n",
            "  PREFIX wkg: <http://www.worldkg.org/resource/>\n",
            "  PREFIX wd: <http://www.wikidata.org/wiki/>\n",
            "  PREFIX sf: <http://www.opengis.net/ont/sf#>\n",
            "  PREFIX rdfs: <http://www.w3.org/2000/01/rdf-schema#>\n",
            "  PREFIX geo: <http://www.opengis.net/ont/geosparql#>\n",
            "  PREFIX owl: <http://www.w3.org/2002/07/owl#>\n",
            "  PREFIX rdf: <http://www.w3.org/1999/02/22-rdf-syntax-ns#>\n",
            "  SELECT DISTINCT ?entity_uri ?type ?label ?nameEn ?coordinates WHERE {\n",
            "    VALUES ?entity_uri {wkg:278354174 wkg:278446098 wkg:278446175 wkg:278478620 wkg:279000168 wkg:279063570 wkg:279063583 wkg:279066809 wkg:279107385 wkg:279359916 wkg:279406669 wkg:2794087160 wkg:2794684189 wkg:2794691257 wkg:2797283271 wkg:2798567969 wkg:279948657 wkg:280028528 wkg:2801482853 wkg:280528735 wkg:2805422438 wkg:2805422439 wkg:2806803519 wkg:280683308 wkg:280726778 wkg:280727945 wkg:280741902 wkg:280741905 wkg:2808666091 wkg:28095099 wkg:280964050 wkg:281011731 wkg:2814198239 wkg:281428091 wkg:2814365314 wkg:2817515795 wkg:281868041 wkg:2820161896 wkg:2822294981 wkg:282472097 wkg:2824802104 wkg:2824809402 wkg:282661908 wkg:2829952496 wkg:283016901 wkg:2830868465 wkg:2831586567 wkg:283162898 wkg:2831937015 wkg:2832778143 wkg:2832778154 wkg:2832778163 wkg:283287126 wkg:283287579 wkg:2833603808 wkg:2833960574 wkg:2834994101 wkg:2837376557 wkg:2837476201 wkg:2843199997 wkg:2851764142 wkg:2851764154 wkg:2853533969 wkg:2856957459 wkg:2856957462 wkg:2860257651 wkg:2863973471 wkg:286885030 wkg:2871832578 wkg:2874047956 wkg:2876974933 wkg:2877892105 wkg:2886414986 wkg:2889077802 wkg:2889081595 wkg:2889841241 wkg:289413369 wkg:2896014398 wkg:289604255 wkg:289664333 wkg:289885929 wkg:2900447873 wkg:290151945 wkg:290161365 wkg:2902171945 wkg:290314379 wkg:290485693 wkg:2905105162 wkg:290697238 wkg:2907017040 wkg:29071221 wkg:2908518388 wkg:2908772560 wkg:2908772588 wkg:2908772596 wkg:2908772597 wkg:2908773110 wkg:2908773113 wkg:2908773116 wkg:2908833857} .\n",
            "    ?entity_uri wkgs:spatialObject ?geom.\n",
            "    ?geom geo:asWKT ?coordinates.\n",
            "    OPTIONAL { ?entity_uri rdf:type ?type .}\n",
            "    OPTIONAL { ?entity_uri rdfs:label ?label .}\n",
            "    OPTIONAL { ?entity_uri wkgs:nameEn ?nameEn .}\n",
            "  }\n",
            "  \n"
          ]
        },
        {
          "name": "stderr",
          "output_type": "stream",
          "text": [
            "\r 31%|███▏      | 51/162 [00:25<01:00,  1.84it/s]"
          ]
        },
        {
          "name": "stdout",
          "output_type": "stream",
          "text": [
            "(102, 5)\n",
            "\n",
            "  PREFIX uom: <http://www.opengis.net/def/uom/OGC/1.0/>\n",
            "  PREFIX wkgs: <http://www.worldkg.org/schema/>\n",
            "  PREFIX wkg: <http://www.worldkg.org/resource/>\n",
            "  PREFIX wd: <http://www.wikidata.org/wiki/>\n",
            "  PREFIX sf: <http://www.opengis.net/ont/sf#>\n",
            "  PREFIX rdfs: <http://www.w3.org/2000/01/rdf-schema#>\n",
            "  PREFIX geo: <http://www.opengis.net/ont/geosparql#>\n",
            "  PREFIX owl: <http://www.w3.org/2002/07/owl#>\n",
            "  PREFIX rdf: <http://www.w3.org/1999/02/22-rdf-syntax-ns#>\n",
            "  SELECT DISTINCT ?entity_uri ?type ?label ?nameEn ?coordinates WHERE {\n",
            "    VALUES ?entity_uri {wkg:29105059 wkg:2911109169 wkg:291410246 wkg:291424250 wkg:291470798 wkg:2915585895 wkg:291618055 wkg:291618503 wkg:291676622 wkg:29170432 wkg:29170443 wkg:29170534 wkg:29170535 wkg:29170999 wkg:2917112209 wkg:29171737 wkg:29171763 wkg:29171774 wkg:29174377 wkg:29175349 wkg:2918221093 wkg:2918379647 wkg:291898735 wkg:292162029 wkg:292162224 wkg:292162416 wkg:29218281 wkg:29218341 wkg:29218497 wkg:29226342 wkg:29227180 wkg:29227217 wkg:29227408 wkg:29227421 wkg:29230824 wkg:29232106 wkg:292806332 wkg:29282062 wkg:29282164 wkg:29282504 wkg:29282745 wkg:29285012 wkg:29285160 wkg:29285195 wkg:29285348 wkg:29285357 wkg:29285389 wkg:29285437 wkg:29285798 wkg:29285913 wkg:29285915 wkg:29286672 wkg:29288662 wkg:29288665 wkg:29288668 wkg:29288679 wkg:29288751 wkg:29289240 wkg:29289299 wkg:29289377 wkg:29289429 wkg:29289513 wkg:29289620 wkg:29289665 wkg:2930976241 wkg:2933226163 wkg:29345003 wkg:29348659 wkg:29348671 wkg:29348689 wkg:29350130 wkg:2935878076 wkg:2935878480 wkg:2935879373 wkg:2935879791 wkg:293607451 wkg:293644383 wkg:2938487791 wkg:293932417 wkg:29400191 wkg:2941343422 wkg:2941373373 wkg:29520684 wkg:295213072 wkg:29529249 wkg:295446196 wkg:295926933 wkg:2959427659 wkg:296105663 wkg:2961475876 wkg:2961475899 wkg:296163986 wkg:2961878251 wkg:2961881707 wkg:2962017951 wkg:29624526 wkg:2962968261 wkg:2962968263 wkg:2962979715 wkg:2963021228} .\n",
            "    ?entity_uri wkgs:spatialObject ?geom.\n",
            "    ?geom geo:asWKT ?coordinates.\n",
            "    OPTIONAL { ?entity_uri rdf:type ?type .}\n",
            "    OPTIONAL { ?entity_uri rdfs:label ?label .}\n",
            "    OPTIONAL { ?entity_uri wkgs:nameEn ?nameEn .}\n",
            "  }\n",
            "  \n"
          ]
        },
        {
          "name": "stderr",
          "output_type": "stream",
          "text": [
            "\r 32%|███▏      | 52/162 [00:25<00:58,  1.89it/s]"
          ]
        },
        {
          "name": "stdout",
          "output_type": "stream",
          "text": [
            "(100, 5)\n",
            "\n",
            "  PREFIX uom: <http://www.opengis.net/def/uom/OGC/1.0/>\n",
            "  PREFIX wkgs: <http://www.worldkg.org/schema/>\n",
            "  PREFIX wkg: <http://www.worldkg.org/resource/>\n",
            "  PREFIX wd: <http://www.wikidata.org/wiki/>\n",
            "  PREFIX sf: <http://www.opengis.net/ont/sf#>\n",
            "  PREFIX rdfs: <http://www.w3.org/2000/01/rdf-schema#>\n",
            "  PREFIX geo: <http://www.opengis.net/ont/geosparql#>\n",
            "  PREFIX owl: <http://www.w3.org/2002/07/owl#>\n",
            "  PREFIX rdf: <http://www.w3.org/1999/02/22-rdf-syntax-ns#>\n",
            "  SELECT DISTINCT ?entity_uri ?type ?label ?nameEn ?coordinates WHERE {\n",
            "    VALUES ?entity_uri {wkg:2966545928 wkg:2966547052 wkg:2967920042 wkg:2967930389 wkg:2967953085 wkg:2967953831 wkg:2967953873 wkg:2967995624 wkg:2968017269 wkg:2968523401 wkg:2969318285 wkg:2969321356 wkg:2969321804 wkg:2969321882 wkg:2969322035 wkg:2969322195 wkg:2969322220 wkg:2970907194 wkg:2970907199 wkg:2970907201 wkg:2971264141 wkg:2971387933 wkg:2971652999 wkg:297201904 wkg:297202635 wkg:297203309 wkg:297328621 wkg:297453585 wkg:297580153 wkg:297704753 wkg:297762003 wkg:2978689326 wkg:2980131588 wkg:29804794 wkg:29806457 wkg:2980764398 wkg:2980766735 wkg:2980769115 wkg:2980769160 wkg:2980769176 wkg:29808923 wkg:29808924 wkg:2980990282 wkg:2980991633 wkg:2981322615 wkg:2981696446 wkg:2981696502 wkg:2981697482 wkg:2981698879 wkg:2982303518 wkg:2982303827 wkg:2982343568 wkg:2982351066 wkg:2982556694 wkg:2982557886 wkg:2983191206 wkg:2983227445 wkg:2983227447 wkg:2986531987 wkg:2986533569 wkg:298817185 wkg:2988345341 wkg:2990612114 wkg:2990660032 wkg:2990660533 wkg:2990698540 wkg:2990929416 wkg:2991013195 wkg:2991013196 wkg:299137343 wkg:2991599143 wkg:2991828902 wkg:2991828903 wkg:2991828909 wkg:2991828910 wkg:2991828912 wkg:2991828914 wkg:2991828915 wkg:2991828918 wkg:2991836930 wkg:2991865935 wkg:2991865936 wkg:2991865941 wkg:2991877867 wkg:2991877872 wkg:2991966461 wkg:2992037172 wkg:2992093187 wkg:2992094129 wkg:2992094971 wkg:2992094978 wkg:2992102924 wkg:2992102925 wkg:2992102927 wkg:2992102928 wkg:2992298634 wkg:2992300621 wkg:2992300763 wkg:2992301147 wkg:29926754} .\n",
            "    ?entity_uri wkgs:spatialObject ?geom.\n",
            "    ?geom geo:asWKT ?coordinates.\n",
            "    OPTIONAL { ?entity_uri rdf:type ?type .}\n",
            "    OPTIONAL { ?entity_uri rdfs:label ?label .}\n",
            "    OPTIONAL { ?entity_uri wkgs:nameEn ?nameEn .}\n",
            "  }\n",
            "  \n"
          ]
        },
        {
          "name": "stderr",
          "output_type": "stream",
          "text": [
            "\r 33%|███▎      | 53/162 [00:26<00:57,  1.90it/s]"
          ]
        },
        {
          "name": "stdout",
          "output_type": "stream",
          "text": [
            "(101, 5)\n",
            "\n",
            "  PREFIX uom: <http://www.opengis.net/def/uom/OGC/1.0/>\n",
            "  PREFIX wkgs: <http://www.worldkg.org/schema/>\n",
            "  PREFIX wkg: <http://www.worldkg.org/resource/>\n",
            "  PREFIX wd: <http://www.wikidata.org/wiki/>\n",
            "  PREFIX sf: <http://www.opengis.net/ont/sf#>\n",
            "  PREFIX rdfs: <http://www.w3.org/2000/01/rdf-schema#>\n",
            "  PREFIX geo: <http://www.opengis.net/ont/geosparql#>\n",
            "  PREFIX owl: <http://www.w3.org/2002/07/owl#>\n",
            "  PREFIX rdf: <http://www.w3.org/1999/02/22-rdf-syntax-ns#>\n",
            "  SELECT DISTINCT ?entity_uri ?type ?label ?nameEn ?coordinates WHERE {\n",
            "    VALUES ?entity_uri {wkg:2992825811 wkg:2992828883 wkg:2992830213 wkg:2992830707 wkg:2992830863 wkg:2992831072 wkg:2992832139 wkg:2993664656 wkg:2993749604 wkg:2993749619 wkg:2993750868 wkg:2993751425 wkg:2994331916 wkg:2994333001 wkg:2994571020 wkg:2994571640 wkg:2994630385 wkg:2994630470 wkg:2994630479 wkg:29950894 wkg:2995970997 wkg:2995971306 wkg:2995971400 wkg:299651718 wkg:2998134933 wkg:2998159778 wkg:299834532 wkg:2999078876 wkg:2999329302 wkg:299982133 wkg:3000167464 wkg:3002430331 wkg:3002472347 wkg:3002628518 wkg:3002685870 wkg:3002757388 wkg:30060421 wkg:300854460 wkg:3008744439 wkg:3008788651 wkg:3008862699 wkg:3008863010 wkg:3008863103 wkg:3008863104 wkg:3008863105 wkg:3008887124 wkg:3008921496 wkg:3008949751 wkg:3009008288 wkg:300988996 wkg:301012602 wkg:3010876721 wkg:3010876725 wkg:3010876726 wkg:3011201783 wkg:3011201787 wkg:3011201793 wkg:3011201797 wkg:3011201801 wkg:3011201802 wkg:3011201803 wkg:3011237111 wkg:3011237115 wkg:301131843 wkg:3011858462 wkg:301220790 wkg:3012349812 wkg:3012349813 wkg:3012353747 wkg:3012419236 wkg:301380175 wkg:3014041771 wkg:301516444 wkg:3015539927 wkg:301555895 wkg:301576906 wkg:301587170 wkg:301643378 wkg:3017132662 wkg:3017691164 wkg:3017771665 wkg:3018966123 wkg:3019054550 wkg:3019054934 wkg:3019055033 wkg:3019179388 wkg:30211383 wkg:30211883 wkg:302303140 wkg:302323566 wkg:302323692 wkg:302323776 wkg:302323949 wkg:302334139 wkg:3023838798 wkg:3023854476 wkg:302412444 wkg:30243030 wkg:3029264331 wkg:30301819} .\n",
            "    ?entity_uri wkgs:spatialObject ?geom.\n",
            "    ?geom geo:asWKT ?coordinates.\n",
            "    OPTIONAL { ?entity_uri rdf:type ?type .}\n",
            "    OPTIONAL { ?entity_uri rdfs:label ?label .}\n",
            "    OPTIONAL { ?entity_uri wkgs:nameEn ?nameEn .}\n",
            "  }\n",
            "  \n"
          ]
        },
        {
          "name": "stderr",
          "output_type": "stream",
          "text": [
            "\r 33%|███▎      | 54/162 [00:26<00:56,  1.91it/s]"
          ]
        },
        {
          "name": "stdout",
          "output_type": "stream",
          "text": [
            "(100, 5)\n",
            "\n",
            "  PREFIX uom: <http://www.opengis.net/def/uom/OGC/1.0/>\n",
            "  PREFIX wkgs: <http://www.worldkg.org/schema/>\n",
            "  PREFIX wkg: <http://www.worldkg.org/resource/>\n",
            "  PREFIX wd: <http://www.wikidata.org/wiki/>\n",
            "  PREFIX sf: <http://www.opengis.net/ont/sf#>\n",
            "  PREFIX rdfs: <http://www.w3.org/2000/01/rdf-schema#>\n",
            "  PREFIX geo: <http://www.opengis.net/ont/geosparql#>\n",
            "  PREFIX owl: <http://www.w3.org/2002/07/owl#>\n",
            "  PREFIX rdf: <http://www.w3.org/1999/02/22-rdf-syntax-ns#>\n",
            "  SELECT DISTINCT ?entity_uri ?type ?label ?nameEn ?coordinates WHERE {\n",
            "    VALUES ?entity_uri {wkg:303037044 wkg:303188097 wkg:3033924983 wkg:3033963510 wkg:3033971480 wkg:3035276026 wkg:3035690035 wkg:3035690165 wkg:3035690717 wkg:3035690887 wkg:3035691852 wkg:3035692040 wkg:3036497549 wkg:3036596244 wkg:303698653 wkg:303771886 wkg:3037795882 wkg:3037825932 wkg:3037843875 wkg:3037843896 wkg:3037851968 wkg:3037851974 wkg:3037851975 wkg:303913177 wkg:30391852 wkg:30393259 wkg:3040291043 wkg:3040691738 wkg:3040691740 wkg:304184266 wkg:3042002355 wkg:3042002358 wkg:3042219710 wkg:304256149 wkg:304359311 wkg:304491931 wkg:3046117014 wkg:3046291854 wkg:304660144 wkg:304667794 wkg:304669513 wkg:304744683 wkg:304842173 wkg:3048675994 wkg:304917010 wkg:304951009 wkg:305005216 wkg:3053007006 wkg:3054872344 wkg:305626605 wkg:305626639 wkg:305626645 wkg:305626893 wkg:305626894 wkg:305626897 wkg:305626904 wkg:305700699 wkg:305700705 wkg:3058665130 wkg:3058863839 wkg:306262997 wkg:3063083720 wkg:3063083721 wkg:3063083724 wkg:3063084440 wkg:3063084444 wkg:306394572 wkg:306394574 wkg:3064437149 wkg:3065498016 wkg:3066421722 wkg:3067314199 wkg:3067314204 wkg:3067314205 wkg:3067314208 wkg:3067314219 wkg:3067314220 wkg:3067314222 wkg:3067317036 wkg:3067317045 wkg:3067317052 wkg:3067317053 wkg:3067317056 wkg:3067317061 wkg:3067317068 wkg:3067317093 wkg:3067317108 wkg:3067317115 wkg:3067317116 wkg:3067317118 wkg:3067317123 wkg:30674098 wkg:3067882488 wkg:3067888654 wkg:3068071902 wkg:3068071925 wkg:3068071928 wkg:3068072935 wkg:3068072939 wkg:3068072943} .\n",
            "    ?entity_uri wkgs:spatialObject ?geom.\n",
            "    ?geom geo:asWKT ?coordinates.\n",
            "    OPTIONAL { ?entity_uri rdf:type ?type .}\n",
            "    OPTIONAL { ?entity_uri rdfs:label ?label .}\n",
            "    OPTIONAL { ?entity_uri wkgs:nameEn ?nameEn .}\n",
            "  }\n",
            "  \n"
          ]
        },
        {
          "name": "stderr",
          "output_type": "stream",
          "text": [
            "\r 34%|███▍      | 55/162 [00:27<00:55,  1.92it/s]"
          ]
        },
        {
          "name": "stdout",
          "output_type": "stream",
          "text": [
            "(102, 5)\n",
            "\n",
            "  PREFIX uom: <http://www.opengis.net/def/uom/OGC/1.0/>\n",
            "  PREFIX wkgs: <http://www.worldkg.org/schema/>\n",
            "  PREFIX wkg: <http://www.worldkg.org/resource/>\n",
            "  PREFIX wd: <http://www.wikidata.org/wiki/>\n",
            "  PREFIX sf: <http://www.opengis.net/ont/sf#>\n",
            "  PREFIX rdfs: <http://www.w3.org/2000/01/rdf-schema#>\n",
            "  PREFIX geo: <http://www.opengis.net/ont/geosparql#>\n",
            "  PREFIX owl: <http://www.w3.org/2002/07/owl#>\n",
            "  PREFIX rdf: <http://www.w3.org/1999/02/22-rdf-syntax-ns#>\n",
            "  SELECT DISTINCT ?entity_uri ?type ?label ?nameEn ?coordinates WHERE {\n",
            "    VALUES ?entity_uri {wkg:3068072948 wkg:3068072950 wkg:3068072953 wkg:3068072954 wkg:3068072959 wkg:3068072969 wkg:3068072970 wkg:3068072971 wkg:3068072975 wkg:3068072976 wkg:3068072989 wkg:3068072990 wkg:3068072991 wkg:3068072999 wkg:3068073001 wkg:3068651102 wkg:3068651104 wkg:3068651105 wkg:3068651114 wkg:3068651115 wkg:3068651117 wkg:3068651124 wkg:3068651125 wkg:3068651130 wkg:3068651132 wkg:3068656637 wkg:3068656639 wkg:3068656670 wkg:3068656677 wkg:3068656678 wkg:3068656682 wkg:3068656685 wkg:3068656693 wkg:3068656698 wkg:3068656702 wkg:3068656703 wkg:3068656716 wkg:3068656719 wkg:3068656723 wkg:3068656733 wkg:3068656734 wkg:3068656736 wkg:3068656738 wkg:3068656752 wkg:3068656753 wkg:3068673347 wkg:30687457 wkg:3068943758 wkg:3068943759 wkg:3068943764 wkg:3068943776 wkg:3068943779 wkg:3068943786 wkg:3068943791 wkg:3068943792 wkg:3068943801 wkg:3068943807 wkg:3068943808 wkg:3068943811 wkg:3068943819 wkg:3068943822 wkg:3068943826 wkg:3068943830 wkg:3068943934 wkg:3068943935 wkg:3068943939 wkg:3068943941 wkg:3068943950 wkg:3068943960 wkg:3068943969 wkg:3068943970 wkg:3068943971 wkg:3068943972 wkg:3068943973 wkg:3068943980 wkg:3068943983 wkg:3068943988 wkg:3068943990 wkg:3068943992 wkg:3068943999 wkg:3069109742 wkg:3069109747 wkg:3069109755 wkg:3069109762 wkg:3069109770 wkg:3069109787 wkg:3069109793 wkg:3069109794 wkg:3069109801 wkg:3069109812 wkg:3069109816 wkg:3069109933 wkg:3069109949 wkg:3069109952 wkg:3069109957 wkg:3070594589 wkg:307081793 wkg:307098830 wkg:3071508549 wkg:3071674181} .\n",
            "    ?entity_uri wkgs:spatialObject ?geom.\n",
            "    ?geom geo:asWKT ?coordinates.\n",
            "    OPTIONAL { ?entity_uri rdf:type ?type .}\n",
            "    OPTIONAL { ?entity_uri rdfs:label ?label .}\n",
            "    OPTIONAL { ?entity_uri wkgs:nameEn ?nameEn .}\n",
            "  }\n",
            "  \n"
          ]
        },
        {
          "name": "stderr",
          "output_type": "stream",
          "text": [
            "\r 35%|███▍      | 56/162 [00:27<00:53,  1.98it/s]"
          ]
        },
        {
          "name": "stdout",
          "output_type": "stream",
          "text": [
            "(100, 5)\n",
            "\n",
            "  PREFIX uom: <http://www.opengis.net/def/uom/OGC/1.0/>\n",
            "  PREFIX wkgs: <http://www.worldkg.org/schema/>\n",
            "  PREFIX wkg: <http://www.worldkg.org/resource/>\n",
            "  PREFIX wd: <http://www.wikidata.org/wiki/>\n",
            "  PREFIX sf: <http://www.opengis.net/ont/sf#>\n",
            "  PREFIX rdfs: <http://www.w3.org/2000/01/rdf-schema#>\n",
            "  PREFIX geo: <http://www.opengis.net/ont/geosparql#>\n",
            "  PREFIX owl: <http://www.w3.org/2002/07/owl#>\n",
            "  PREFIX rdf: <http://www.w3.org/1999/02/22-rdf-syntax-ns#>\n",
            "  SELECT DISTINCT ?entity_uri ?type ?label ?nameEn ?coordinates WHERE {\n",
            "    VALUES ?entity_uri {wkg:3071674183 wkg:3071674184 wkg:3071674188 wkg:3071674189 wkg:3071674201 wkg:3071674202 wkg:3071674203 wkg:3071674207 wkg:3071674218 wkg:3071674220 wkg:3071674223 wkg:3071674228 wkg:3071674232 wkg:3071674535 wkg:3071674539 wkg:3071674556 wkg:3071674557 wkg:3071674561 wkg:3071674562 wkg:3071771162 wkg:3071771181 wkg:3071771182 wkg:3071771184 wkg:3071771209 wkg:3071771222 wkg:3071771340 wkg:3071771359 wkg:3071771363 wkg:3071771372 wkg:3071771377 wkg:3071771386 wkg:3071771388 wkg:3071771391 wkg:3071771406 wkg:3071771407 wkg:3071771411 wkg:3071771416 wkg:3071771419 wkg:3071771420 wkg:3071771427 wkg:3071771535 wkg:3071771541 wkg:3071771545 wkg:3072659926 wkg:3072902668 wkg:307431238 wkg:307438008 wkg:3074531911 wkg:3076116477 wkg:3076949636 wkg:3076949637 wkg:3077006875 wkg:3077006877 wkg:3077006879 wkg:3077006884 wkg:3077006885 wkg:3077006891 wkg:3077190105 wkg:3077190120 wkg:3077266540 wkg:307729970 wkg:3077534704 wkg:3077760736 wkg:3078300673 wkg:3078545734 wkg:3078545736 wkg:3079043116 wkg:3079675180 wkg:308011053 wkg:3080235494 wkg:308064197 wkg:308187675 wkg:3082575211 wkg:3082660284 wkg:308603606 wkg:30863907 wkg:3086631913 wkg:30877330 wkg:3088269192 wkg:308838169 wkg:308856879 wkg:308887880 wkg:308888232 wkg:3089184435 wkg:309065171 wkg:3090775497 wkg:3091128788 wkg:3092138301 wkg:3092196766 wkg:3092196767 wkg:3092196780 wkg:3092196783 wkg:3092196784 wkg:3092484789 wkg:309293365 wkg:309346346 wkg:309346350 wkg:309346354 wkg:3093478831 wkg:309372753} .\n",
            "    ?entity_uri wkgs:spatialObject ?geom.\n",
            "    ?geom geo:asWKT ?coordinates.\n",
            "    OPTIONAL { ?entity_uri rdf:type ?type .}\n",
            "    OPTIONAL { ?entity_uri rdfs:label ?label .}\n",
            "    OPTIONAL { ?entity_uri wkgs:nameEn ?nameEn .}\n",
            "  }\n",
            "  \n"
          ]
        },
        {
          "name": "stderr",
          "output_type": "stream",
          "text": [
            "\r 35%|███▌      | 57/162 [00:28<00:53,  1.97it/s]"
          ]
        },
        {
          "name": "stdout",
          "output_type": "stream",
          "text": [
            "(101, 5)\n",
            "\n",
            "  PREFIX uom: <http://www.opengis.net/def/uom/OGC/1.0/>\n",
            "  PREFIX wkgs: <http://www.worldkg.org/schema/>\n",
            "  PREFIX wkg: <http://www.worldkg.org/resource/>\n",
            "  PREFIX wd: <http://www.wikidata.org/wiki/>\n",
            "  PREFIX sf: <http://www.opengis.net/ont/sf#>\n",
            "  PREFIX rdfs: <http://www.w3.org/2000/01/rdf-schema#>\n",
            "  PREFIX geo: <http://www.opengis.net/ont/geosparql#>\n",
            "  PREFIX owl: <http://www.w3.org/2002/07/owl#>\n",
            "  PREFIX rdf: <http://www.w3.org/1999/02/22-rdf-syntax-ns#>\n",
            "  SELECT DISTINCT ?entity_uri ?type ?label ?nameEn ?coordinates WHERE {\n",
            "    VALUES ?entity_uri {wkg:309372761 wkg:309372898 wkg:309372901 wkg:3094367682 wkg:3096229958 wkg:3096240712 wkg:3096270820 wkg:3096296269 wkg:30969562 wkg:3099232783 wkg:309991432 wkg:310166135 wkg:3101964230 wkg:310199987 wkg:3104885435 wkg:3104886079 wkg:3104887329 wkg:3105300511 wkg:3105337561 wkg:3105391741 wkg:3105406652 wkg:3105428819 wkg:310635670 wkg:3107887919 wkg:311426132 wkg:3115241421 wkg:3115289044 wkg:311747096 wkg:311747244 wkg:312013819 wkg:3121199864 wkg:3121264946 wkg:3124526281 wkg:312462304 wkg:312470035 wkg:312470036 wkg:312470041 wkg:312470042 wkg:312470046 wkg:312470061 wkg:312618622 wkg:3126703690 wkg:3126750387 wkg:312781018 wkg:312781020 wkg:31279205 wkg:312826583 wkg:3128705410 wkg:312969030 wkg:313048598 wkg:313188656 wkg:3132347947 wkg:313407388 wkg:3136577576 wkg:313715779 wkg:3137300827 wkg:3137346843 wkg:3137380055 wkg:313760962 wkg:313785551 wkg:313809891 wkg:313810388 wkg:313822158 wkg:313884331 wkg:313903710 wkg:313915969 wkg:313917571 wkg:313921866 wkg:313928963 wkg:313928977 wkg:313928978 wkg:313928980 wkg:313928981 wkg:313929869 wkg:314007819 wkg:3140154697 wkg:314133528 wkg:3143594562 wkg:3143841689 wkg:314461102 wkg:314631600 wkg:3146540937 wkg:3148004534 wkg:3148242366 wkg:3148829691 wkg:3148829697 wkg:3148829702 wkg:3148829704 wkg:3148829705 wkg:3148829716 wkg:3148829721 wkg:3148829723 wkg:3148829727 wkg:3148842821 wkg:3149015093 wkg:3149456211 wkg:3149628194 wkg:3149628197 wkg:3149628199 wkg:3150911287} .\n",
            "    ?entity_uri wkgs:spatialObject ?geom.\n",
            "    ?geom geo:asWKT ?coordinates.\n",
            "    OPTIONAL { ?entity_uri rdf:type ?type .}\n",
            "    OPTIONAL { ?entity_uri rdfs:label ?label .}\n",
            "    OPTIONAL { ?entity_uri wkgs:nameEn ?nameEn .}\n",
            "  }\n",
            "  \n"
          ]
        },
        {
          "name": "stderr",
          "output_type": "stream",
          "text": [
            "\r 36%|███▌      | 58/162 [00:28<00:53,  1.96it/s]"
          ]
        },
        {
          "name": "stdout",
          "output_type": "stream",
          "text": [
            "(101, 5)\n",
            "\n",
            "  PREFIX uom: <http://www.opengis.net/def/uom/OGC/1.0/>\n",
            "  PREFIX wkgs: <http://www.worldkg.org/schema/>\n",
            "  PREFIX wkg: <http://www.worldkg.org/resource/>\n",
            "  PREFIX wd: <http://www.wikidata.org/wiki/>\n",
            "  PREFIX sf: <http://www.opengis.net/ont/sf#>\n",
            "  PREFIX rdfs: <http://www.w3.org/2000/01/rdf-schema#>\n",
            "  PREFIX geo: <http://www.opengis.net/ont/geosparql#>\n",
            "  PREFIX owl: <http://www.w3.org/2002/07/owl#>\n",
            "  PREFIX rdf: <http://www.w3.org/1999/02/22-rdf-syntax-ns#>\n",
            "  SELECT DISTINCT ?entity_uri ?type ?label ?nameEn ?coordinates WHERE {\n",
            "    VALUES ?entity_uri {wkg:3151564188 wkg:3151815202 wkg:3152383650 wkg:3152714111 wkg:3152714115 wkg:3152714116 wkg:3152714117 wkg:3152714141 wkg:3152714145 wkg:3152714146 wkg:3152714262 wkg:3152714263 wkg:3152714264 wkg:3152714279 wkg:3152714299 wkg:3152714300 wkg:3152959201 wkg:3152959212 wkg:3153137405 wkg:3153137413 wkg:3153137414 wkg:3154440980 wkg:3154440981 wkg:3154440983 wkg:3154441007 wkg:3154946278 wkg:3154946283 wkg:3154946288 wkg:31551114 wkg:3155755372 wkg:3155755385 wkg:3155755387 wkg:3155755390 wkg:3156453858 wkg:3156459207 wkg:3156513469 wkg:31570038 wkg:3157824209 wkg:3157917188 wkg:3157929236 wkg:3157952071 wkg:31582541 wkg:3158789433 wkg:3158791570 wkg:3158795910 wkg:3161361932 wkg:3162560268 wkg:3162565323 wkg:3162846097 wkg:3162846100 wkg:3162846102 wkg:3163429968 wkg:316416994 wkg:316417213 wkg:316440945 wkg:316441014 wkg:3165215920 wkg:316647532 wkg:3167061092 wkg:3167203267 wkg:3167203271 wkg:3167203285 wkg:3167203292 wkg:3167203298 wkg:3167268033 wkg:3167996170 wkg:3167996183 wkg:3167996193 wkg:3167996194 wkg:3167996195 wkg:3167996196 wkg:3167996201 wkg:3168666965 wkg:3168773455 wkg:316940520 wkg:316954434 wkg:316961033 wkg:316965734 wkg:316967611 wkg:316979718 wkg:316982774 wkg:317007239 wkg:3171523908 wkg:3171847885 wkg:3171847886 wkg:3171847889 wkg:3171847897 wkg:3171847901 wkg:3171847903 wkg:3171967105 wkg:3171967106 wkg:3171967107 wkg:3171967115 wkg:3171967117 wkg:3172020702 wkg:3172020706 wkg:3172020710 wkg:3172025376 wkg:3172081484 wkg:3172081485} .\n",
            "    ?entity_uri wkgs:spatialObject ?geom.\n",
            "    ?geom geo:asWKT ?coordinates.\n",
            "    OPTIONAL { ?entity_uri rdf:type ?type .}\n",
            "    OPTIONAL { ?entity_uri rdfs:label ?label .}\n",
            "    OPTIONAL { ?entity_uri wkgs:nameEn ?nameEn .}\n",
            "  }\n",
            "  \n"
          ]
        },
        {
          "name": "stderr",
          "output_type": "stream",
          "text": [
            "\r 36%|███▋      | 59/162 [00:29<00:51,  2.00it/s]"
          ]
        },
        {
          "name": "stdout",
          "output_type": "stream",
          "text": [
            "(100, 5)\n",
            "\n",
            "  PREFIX uom: <http://www.opengis.net/def/uom/OGC/1.0/>\n",
            "  PREFIX wkgs: <http://www.worldkg.org/schema/>\n",
            "  PREFIX wkg: <http://www.worldkg.org/resource/>\n",
            "  PREFIX wd: <http://www.wikidata.org/wiki/>\n",
            "  PREFIX sf: <http://www.opengis.net/ont/sf#>\n",
            "  PREFIX rdfs: <http://www.w3.org/2000/01/rdf-schema#>\n",
            "  PREFIX geo: <http://www.opengis.net/ont/geosparql#>\n",
            "  PREFIX owl: <http://www.w3.org/2002/07/owl#>\n",
            "  PREFIX rdf: <http://www.w3.org/1999/02/22-rdf-syntax-ns#>\n",
            "  SELECT DISTINCT ?entity_uri ?type ?label ?nameEn ?coordinates WHERE {\n",
            "    VALUES ?entity_uri {wkg:3172081498 wkg:3172186543 wkg:3172186662 wkg:3172186664 wkg:3172186674 wkg:3172186686 wkg:3172375694 wkg:3172375703 wkg:3172375705 wkg:3172375709 wkg:3172375711 wkg:3172375713 wkg:3172375714 wkg:3172375728 wkg:31726127 wkg:317293297 wkg:317294146 wkg:3174165643 wkg:3174165652 wkg:3174165653 wkg:3174165961 wkg:3174165962 wkg:3174193203 wkg:3174193205 wkg:3174193209 wkg:3174193214 wkg:3174354780 wkg:3174373150 wkg:3174373157 wkg:3174373158 wkg:3174397361 wkg:3174397365 wkg:3174397370 wkg:3174472980 wkg:3174472987 wkg:3174472988 wkg:3174472994 wkg:3174472997 wkg:3174473003 wkg:3174473004 wkg:3174473015 wkg:3174473016 wkg:3174473017 wkg:3174473020 wkg:3174583610 wkg:3174583615 wkg:3174583621 wkg:3174583629 wkg:3174583632 wkg:3174583644 wkg:3174583646 wkg:3174583659 wkg:3174621400 wkg:3175405955 wkg:3175408964 wkg:3175408968 wkg:3175408976 wkg:3175408978 wkg:317574158 wkg:3176111269 wkg:3176128262 wkg:3176146864 wkg:3176204418 wkg:3176204420 wkg:3176204422 wkg:3176204426 wkg:3176245702 wkg:3176245708 wkg:3176245709 wkg:3176316715 wkg:3176316718 wkg:3176316729 wkg:3176963180 wkg:3176963186 wkg:3176963187 wkg:3176963192 wkg:317729139 wkg:3177354381 wkg:317815743 wkg:3178299775 wkg:3178299777 wkg:3178299778 wkg:3178299779 wkg:3178299786 wkg:3178299789 wkg:3178299791 wkg:3178299793 wkg:3178299794 wkg:3178299800 wkg:3178299803 wkg:3178328504 wkg:3178328511 wkg:3178328512 wkg:3178328513 wkg:3178328515 wkg:3178328533 wkg:3178342179 wkg:3178342180 wkg:3178342183 wkg:3178342187} .\n",
            "    ?entity_uri wkgs:spatialObject ?geom.\n",
            "    ?geom geo:asWKT ?coordinates.\n",
            "    OPTIONAL { ?entity_uri rdf:type ?type .}\n",
            "    OPTIONAL { ?entity_uri rdfs:label ?label .}\n",
            "    OPTIONAL { ?entity_uri wkgs:nameEn ?nameEn .}\n",
            "  }\n",
            "  \n"
          ]
        },
        {
          "name": "stderr",
          "output_type": "stream",
          "text": [
            "\r 37%|███▋      | 60/162 [00:29<00:51,  1.97it/s]"
          ]
        },
        {
          "name": "stdout",
          "output_type": "stream",
          "text": [
            "(100, 5)\n",
            "\n",
            "  PREFIX uom: <http://www.opengis.net/def/uom/OGC/1.0/>\n",
            "  PREFIX wkgs: <http://www.worldkg.org/schema/>\n",
            "  PREFIX wkg: <http://www.worldkg.org/resource/>\n",
            "  PREFIX wd: <http://www.wikidata.org/wiki/>\n",
            "  PREFIX sf: <http://www.opengis.net/ont/sf#>\n",
            "  PREFIX rdfs: <http://www.w3.org/2000/01/rdf-schema#>\n",
            "  PREFIX geo: <http://www.opengis.net/ont/geosparql#>\n",
            "  PREFIX owl: <http://www.w3.org/2002/07/owl#>\n",
            "  PREFIX rdf: <http://www.w3.org/1999/02/22-rdf-syntax-ns#>\n",
            "  SELECT DISTINCT ?entity_uri ?type ?label ?nameEn ?coordinates WHERE {\n",
            "    VALUES ?entity_uri {wkg:3178342197 wkg:3178342199 wkg:3178342200 wkg:3178342201 wkg:3178342204 wkg:3178342206 wkg:3178376252 wkg:3178602610 wkg:3178602615 wkg:3178602617 wkg:317935536 wkg:3179387949 wkg:318097349 wkg:3181042093 wkg:3181092830 wkg:3181100720 wkg:3181103598 wkg:3181167687 wkg:318219422 wkg:31822059 wkg:3182971786 wkg:3182987480 wkg:3183009105 wkg:3183097707 wkg:3183205154 wkg:3183207518 wkg:3183282919 wkg:3183292761 wkg:3183297515 wkg:3184307860 wkg:3186280842 wkg:3186450958 wkg:3187965476 wkg:318852113 wkg:3188666407 wkg:3188853155 wkg:3188887572 wkg:3188965012 wkg:3188984090 wkg:3189511810 wkg:3189511814 wkg:3189560271 wkg:3189581257 wkg:3190746372 wkg:3192108856 wkg:3192108857 wkg:3193678325 wkg:3193678329 wkg:3193808762 wkg:319481761 wkg:3195383677 wkg:3195680412 wkg:3196125779 wkg:3196576467 wkg:3196576475 wkg:3196576476 wkg:3196576480 wkg:3196576488 wkg:3196576489 wkg:3196583526 wkg:3196584300 wkg:3196584303 wkg:3196584314 wkg:3196620303 wkg:3196620307 wkg:3196620312 wkg:3196620316 wkg:3196620332 wkg:3196635447 wkg:3196635562 wkg:3196635567 wkg:3196677391 wkg:3196677392 wkg:3196677394 wkg:3196743426 wkg:3196743430 wkg:3196743431 wkg:3196776076 wkg:3196776078 wkg:3196776080 wkg:3196776082 wkg:3196776083 wkg:3196776087 wkg:3196952039 wkg:3197168880 wkg:3197168886 wkg:3197168890 wkg:3197204974 wkg:3197225768 wkg:3197225770 wkg:3197225773 wkg:3197547616 wkg:3197709607 wkg:3197709624 wkg:3198641644 wkg:3198646014 wkg:3199124222 wkg:3199212980 wkg:3199212991 wkg:3199633119} .\n",
            "    ?entity_uri wkgs:spatialObject ?geom.\n",
            "    ?geom geo:asWKT ?coordinates.\n",
            "    OPTIONAL { ?entity_uri rdf:type ?type .}\n",
            "    OPTIONAL { ?entity_uri rdfs:label ?label .}\n",
            "    OPTIONAL { ?entity_uri wkgs:nameEn ?nameEn .}\n",
            "  }\n",
            "  \n"
          ]
        },
        {
          "name": "stderr",
          "output_type": "stream",
          "text": [
            "\r 38%|███▊      | 61/162 [00:30<00:51,  1.96it/s]"
          ]
        },
        {
          "name": "stdout",
          "output_type": "stream",
          "text": [
            "(100, 5)\n",
            "\n",
            "  PREFIX uom: <http://www.opengis.net/def/uom/OGC/1.0/>\n",
            "  PREFIX wkgs: <http://www.worldkg.org/schema/>\n",
            "  PREFIX wkg: <http://www.worldkg.org/resource/>\n",
            "  PREFIX wd: <http://www.wikidata.org/wiki/>\n",
            "  PREFIX sf: <http://www.opengis.net/ont/sf#>\n",
            "  PREFIX rdfs: <http://www.w3.org/2000/01/rdf-schema#>\n",
            "  PREFIX geo: <http://www.opengis.net/ont/geosparql#>\n",
            "  PREFIX owl: <http://www.w3.org/2002/07/owl#>\n",
            "  PREFIX rdf: <http://www.w3.org/1999/02/22-rdf-syntax-ns#>\n",
            "  SELECT DISTINCT ?entity_uri ?type ?label ?nameEn ?coordinates WHERE {\n",
            "    VALUES ?entity_uri {wkg:3200427550 wkg:3200433370 wkg:3200765603 wkg:32013127 wkg:3201918367 wkg:3201918371 wkg:3201918376 wkg:3201918379 wkg:3201918380 wkg:3202049975 wkg:3202049977 wkg:3202049987 wkg:3202049992 wkg:3202064532 wkg:3202139800 wkg:3202201335 wkg:3202301071 wkg:3202905924 wkg:3203314584 wkg:3203314588 wkg:3203314589 wkg:3203345484 wkg:3203380109 wkg:3203402345 wkg:3203434495 wkg:3203434503 wkg:3203435738 wkg:3203435739 wkg:3203755228 wkg:3204331969 wkg:3204331970 wkg:3204589110 wkg:3205037738 wkg:3205037740 wkg:3205037753 wkg:3205037755 wkg:3205039767 wkg:3205039770 wkg:3205039863 wkg:3205156621 wkg:3205212223 wkg:3205779334 wkg:3205936273 wkg:3206075832 wkg:3206609628 wkg:32070452 wkg:3207199692 wkg:3207395832 wkg:3208082644 wkg:3208082645 wkg:3208082649 wkg:3208082654 wkg:3208237616 wkg:3208237617 wkg:3208237623 wkg:3208237630 wkg:3208243031 wkg:3208328018 wkg:3208328020 wkg:3208559848 wkg:3208935468 wkg:3209741167 wkg:3209741168 wkg:3210177324 wkg:3210177326 wkg:3210177328 wkg:3210249862 wkg:3210303157 wkg:3210318891 wkg:3210391868 wkg:3210459326 wkg:3210639783 wkg:3210650311 wkg:3211481750 wkg:3212303844 wkg:3212572533 wkg:3212964354 wkg:321330275 wkg:3213768616 wkg:3213933155 wkg:3214380936 wkg:3214721640 wkg:3214787479 wkg:3214942943 wkg:321520936 wkg:3215303549 wkg:3215303550 wkg:3215303555 wkg:3215303559 wkg:3215304265 wkg:3215689265 wkg:321625819 wkg:321625820 wkg:321637907 wkg:3216529915 wkg:3216531089 wkg:321710258 wkg:321732063 wkg:3218061580 wkg:3218133987} .\n",
            "    ?entity_uri wkgs:spatialObject ?geom.\n",
            "    ?geom geo:asWKT ?coordinates.\n",
            "    OPTIONAL { ?entity_uri rdf:type ?type .}\n",
            "    OPTIONAL { ?entity_uri rdfs:label ?label .}\n",
            "    OPTIONAL { ?entity_uri wkgs:nameEn ?nameEn .}\n",
            "  }\n",
            "  \n"
          ]
        },
        {
          "name": "stderr",
          "output_type": "stream",
          "text": [
            "\r 38%|███▊      | 62/162 [00:30<00:51,  1.95it/s]"
          ]
        },
        {
          "name": "stdout",
          "output_type": "stream",
          "text": [
            "(100, 5)\n",
            "\n",
            "  PREFIX uom: <http://www.opengis.net/def/uom/OGC/1.0/>\n",
            "  PREFIX wkgs: <http://www.worldkg.org/schema/>\n",
            "  PREFIX wkg: <http://www.worldkg.org/resource/>\n",
            "  PREFIX wd: <http://www.wikidata.org/wiki/>\n",
            "  PREFIX sf: <http://www.opengis.net/ont/sf#>\n",
            "  PREFIX rdfs: <http://www.w3.org/2000/01/rdf-schema#>\n",
            "  PREFIX geo: <http://www.opengis.net/ont/geosparql#>\n",
            "  PREFIX owl: <http://www.w3.org/2002/07/owl#>\n",
            "  PREFIX rdf: <http://www.w3.org/1999/02/22-rdf-syntax-ns#>\n",
            "  SELECT DISTINCT ?entity_uri ?type ?label ?nameEn ?coordinates WHERE {\n",
            "    VALUES ?entity_uri {wkg:3218133997 wkg:3218133999 wkg:3218134001 wkg:3218387605 wkg:3218409187 wkg:3218409192 wkg:3218409204 wkg:3218409208 wkg:3218409214 wkg:3218409229 wkg:3218409233 wkg:3218592234 wkg:3218599096 wkg:3218698479 wkg:3219256176 wkg:3219437128 wkg:3219503853 wkg:3219511719 wkg:3220136250 wkg:3220144687 wkg:3220167040 wkg:3220172146 wkg:3220172147 wkg:3220172149 wkg:3220172156 wkg:3220172158 wkg:3220172160 wkg:3220204371 wkg:3220204958 wkg:3220223612 wkg:3220259864 wkg:3220273847 wkg:3220273849 wkg:3220273856 wkg:3220273857 wkg:3220273858 wkg:3220273963 wkg:3220273967 wkg:3220273968 wkg:3220273971 wkg:3220273972 wkg:3220273987 wkg:3220273995 wkg:3220274003 wkg:3220350390 wkg:3220350401 wkg:3220350415 wkg:3220350424 wkg:3220350434 wkg:3220350435 wkg:3220350442 wkg:3220350447 wkg:3220350448 wkg:3220350450 wkg:3220350453 wkg:3220350765 wkg:3220350772 wkg:3220350786 wkg:3220350787 wkg:3220350790 wkg:3220593599 wkg:3220593600 wkg:3220593601 wkg:3220593604 wkg:3220593621 wkg:3220611425 wkg:322128497 wkg:3221297847 wkg:3221298562 wkg:3221298563 wkg:3221298573 wkg:3221298583 wkg:3221298593 wkg:3221301426 wkg:3221519020 wkg:3221519022 wkg:3221519023 wkg:3221519035 wkg:3223471201 wkg:3223471205 wkg:3223471206 wkg:3223471210 wkg:3223471223 wkg:3223471224 wkg:3223471232 wkg:3223471236 wkg:3223471243 wkg:3223471861 wkg:3223471868 wkg:3223471869 wkg:3223471872 wkg:3224615256 wkg:3225321736 wkg:3225321740 wkg:3225445671 wkg:322558650 wkg:3228432753 wkg:3228432757 wkg:3228433565 wkg:3228433573} .\n",
            "    ?entity_uri wkgs:spatialObject ?geom.\n",
            "    ?geom geo:asWKT ?coordinates.\n",
            "    OPTIONAL { ?entity_uri rdf:type ?type .}\n",
            "    OPTIONAL { ?entity_uri rdfs:label ?label .}\n",
            "    OPTIONAL { ?entity_uri wkgs:nameEn ?nameEn .}\n",
            "  }\n",
            "  \n"
          ]
        },
        {
          "name": "stderr",
          "output_type": "stream",
          "text": [
            "\r 39%|███▉      | 63/162 [00:31<00:50,  1.96it/s]"
          ]
        },
        {
          "name": "stdout",
          "output_type": "stream",
          "text": [
            "(101, 5)\n",
            "\n",
            "  PREFIX uom: <http://www.opengis.net/def/uom/OGC/1.0/>\n",
            "  PREFIX wkgs: <http://www.worldkg.org/schema/>\n",
            "  PREFIX wkg: <http://www.worldkg.org/resource/>\n",
            "  PREFIX wd: <http://www.wikidata.org/wiki/>\n",
            "  PREFIX sf: <http://www.opengis.net/ont/sf#>\n",
            "  PREFIX rdfs: <http://www.w3.org/2000/01/rdf-schema#>\n",
            "  PREFIX geo: <http://www.opengis.net/ont/geosparql#>\n",
            "  PREFIX owl: <http://www.w3.org/2002/07/owl#>\n",
            "  PREFIX rdf: <http://www.w3.org/1999/02/22-rdf-syntax-ns#>\n",
            "  SELECT DISTINCT ?entity_uri ?type ?label ?nameEn ?coordinates WHERE {\n",
            "    VALUES ?entity_uri {wkg:3228687161 wkg:3228687165 wkg:3228687170 wkg:3228741181 wkg:3228741182 wkg:3228741185 wkg:3228741192 wkg:3228741197 wkg:3228741205 wkg:3228741206 wkg:3228915524 wkg:3229380610 wkg:3229381944 wkg:3229383113 wkg:3229393372 wkg:3229393374 wkg:3229394015 wkg:3229396819 wkg:3229399312 wkg:3229405782 wkg:3229419774 wkg:3229710195 wkg:3229710204 wkg:3229710207 wkg:3229710214 wkg:3229710215 wkg:3229710224 wkg:3229710230 wkg:3229853809 wkg:3229853810 wkg:3229863416 wkg:323101529 wkg:3231771059 wkg:3231783381 wkg:3231783382 wkg:3231841835 wkg:3232036969 wkg:3232764590 wkg:3232793269 wkg:3232870744 wkg:3232982465 wkg:323318642 wkg:3233850988 wkg:3233850991 wkg:3233850998 wkg:3233851018 wkg:3233851019 wkg:3233851025 wkg:3233851029 wkg:3233851035 wkg:3233851037 wkg:3233851039 wkg:3233916390 wkg:3233916404 wkg:3233916410 wkg:3233916419 wkg:3233916425 wkg:3233916427 wkg:3233916429 wkg:3233916431 wkg:3233998056 wkg:3233998058 wkg:3233998059 wkg:3233998263 wkg:3234213234 wkg:3234213248 wkg:3234213252 wkg:3234213254 wkg:3234213258 wkg:3234214061 wkg:3234214062 wkg:3234214068 wkg:3234214069 wkg:3234214076 wkg:3234214077 wkg:3234780305 wkg:3235138528 wkg:3235138530 wkg:3235138544 wkg:3235138552 wkg:3235138557 wkg:3235139262 wkg:3235139268 wkg:3235139272 wkg:3235139273 wkg:3235139284 wkg:3235139294 wkg:3235139309 wkg:3235139313 wkg:3235139322 wkg:3235139334 wkg:3235139338 wkg:3235139339 wkg:3235139349 wkg:3235139350 wkg:3235139356 wkg:3235139357 wkg:3235139363 wkg:3235139365 wkg:3235139372} .\n",
            "    ?entity_uri wkgs:spatialObject ?geom.\n",
            "    ?geom geo:asWKT ?coordinates.\n",
            "    OPTIONAL { ?entity_uri rdf:type ?type .}\n",
            "    OPTIONAL { ?entity_uri rdfs:label ?label .}\n",
            "    OPTIONAL { ?entity_uri wkgs:nameEn ?nameEn .}\n",
            "  }\n",
            "  \n"
          ]
        },
        {
          "name": "stderr",
          "output_type": "stream",
          "text": [
            "\r 40%|███▉      | 64/162 [00:31<00:48,  2.01it/s]"
          ]
        },
        {
          "name": "stdout",
          "output_type": "stream",
          "text": [
            "(100, 5)\n",
            "\n",
            "  PREFIX uom: <http://www.opengis.net/def/uom/OGC/1.0/>\n",
            "  PREFIX wkgs: <http://www.worldkg.org/schema/>\n",
            "  PREFIX wkg: <http://www.worldkg.org/resource/>\n",
            "  PREFIX wd: <http://www.wikidata.org/wiki/>\n",
            "  PREFIX sf: <http://www.opengis.net/ont/sf#>\n",
            "  PREFIX rdfs: <http://www.w3.org/2000/01/rdf-schema#>\n",
            "  PREFIX geo: <http://www.opengis.net/ont/geosparql#>\n",
            "  PREFIX owl: <http://www.w3.org/2002/07/owl#>\n",
            "  PREFIX rdf: <http://www.w3.org/1999/02/22-rdf-syntax-ns#>\n",
            "  SELECT DISTINCT ?entity_uri ?type ?label ?nameEn ?coordinates WHERE {\n",
            "    VALUES ?entity_uri {wkg:3235139375 wkg:3235139382 wkg:3235139387 wkg:3235139389 wkg:3235139410 wkg:3235835878 wkg:3235835879 wkg:3235835881 wkg:3235835942 wkg:3235859514 wkg:3236462618 wkg:3236608801 wkg:3236608810 wkg:3236608811 wkg:3236608813 wkg:3236608816 wkg:3236608819 wkg:3236608826 wkg:3236608830 wkg:3236608837 wkg:3236608838 wkg:3236608841 wkg:3236608853 wkg:3236608857 wkg:3236610167 wkg:3236610170 wkg:3236610172 wkg:3236610176 wkg:3236610182 wkg:3236610186 wkg:3236610187 wkg:3236610190 wkg:3236610197 wkg:3236610207 wkg:3236968973 wkg:3237007485 wkg:3237007490 wkg:3237007494 wkg:3237462865 wkg:3237627273 wkg:3237660176 wkg:3237687319 wkg:3237697224 wkg:3237697226 wkg:3237702398 wkg:3237877500 wkg:3237916010 wkg:3237916022 wkg:3237916024 wkg:3237958880 wkg:3237981608 wkg:3237995506 wkg:3237995542 wkg:3238041746 wkg:3238049112 wkg:3238049114 wkg:3238133015 wkg:323981048 wkg:3240218450 wkg:3240220063 wkg:3240833543 wkg:3240980167 wkg:3240980168 wkg:3240980174 wkg:3240980182 wkg:3240980183 wkg:3240980184 wkg:3240980186 wkg:3240980188 wkg:3240980192 wkg:3240980195 wkg:3240980202 wkg:3240980203 wkg:3240980210 wkg:3240980223 wkg:3240980230 wkg:3240980240 wkg:3240980241 wkg:3240980243 wkg:3240980246 wkg:3240980248 wkg:3240980255 wkg:3240980257 wkg:3240983964 wkg:3240983967 wkg:3241719014 wkg:3241719015 wkg:3242260545 wkg:3242276461 wkg:3242286033 wkg:3242302467 wkg:3243008119 wkg:324416721 wkg:3245806429 wkg:3246244146 wkg:3246620565 wkg:3246620572 wkg:324707446 wkg:3247321861 wkg:3247614163} .\n",
            "    ?entity_uri wkgs:spatialObject ?geom.\n",
            "    ?geom geo:asWKT ?coordinates.\n",
            "    OPTIONAL { ?entity_uri rdf:type ?type .}\n",
            "    OPTIONAL { ?entity_uri rdfs:label ?label .}\n",
            "    OPTIONAL { ?entity_uri wkgs:nameEn ?nameEn .}\n",
            "  }\n",
            "  \n"
          ]
        },
        {
          "name": "stderr",
          "output_type": "stream",
          "text": [
            "\r 40%|████      | 65/162 [00:32<00:49,  1.98it/s]"
          ]
        },
        {
          "name": "stdout",
          "output_type": "stream",
          "text": [
            "(100, 5)\n",
            "\n",
            "  PREFIX uom: <http://www.opengis.net/def/uom/OGC/1.0/>\n",
            "  PREFIX wkgs: <http://www.worldkg.org/schema/>\n",
            "  PREFIX wkg: <http://www.worldkg.org/resource/>\n",
            "  PREFIX wd: <http://www.wikidata.org/wiki/>\n",
            "  PREFIX sf: <http://www.opengis.net/ont/sf#>\n",
            "  PREFIX rdfs: <http://www.w3.org/2000/01/rdf-schema#>\n",
            "  PREFIX geo: <http://www.opengis.net/ont/geosparql#>\n",
            "  PREFIX owl: <http://www.w3.org/2002/07/owl#>\n",
            "  PREFIX rdf: <http://www.w3.org/1999/02/22-rdf-syntax-ns#>\n",
            "  SELECT DISTINCT ?entity_uri ?type ?label ?nameEn ?coordinates WHERE {\n",
            "    VALUES ?entity_uri {wkg:3247820932 wkg:324857864 wkg:3248835391 wkg:3248946847 wkg:3248971788 wkg:3249154734 wkg:3249192572 wkg:3249998688 wkg:3250017569 wkg:3250017570 wkg:3250649093 wkg:3250649094 wkg:3250649098 wkg:3250666879 wkg:3250875740 wkg:3251201825 wkg:3251201829 wkg:3251201834 wkg:325140051 wkg:3251818587 wkg:3252714173 wkg:3253869768 wkg:3254708111 wkg:32552967 wkg:325535795 wkg:3259105660 wkg:3260805461 wkg:3260808466 wkg:3260839453 wkg:3260846924 wkg:3260848318 wkg:3260848533 wkg:3260867924 wkg:3260868593 wkg:3260877768 wkg:3260879835 wkg:3260879838 wkg:3260879839 wkg:3260879841 wkg:3260892393 wkg:3260892396 wkg:3260893871 wkg:3260903366 wkg:3260904649 wkg:3260910356 wkg:3260910360 wkg:3260929691 wkg:3261650289 wkg:3261650293 wkg:3261678132 wkg:3261725390 wkg:3261725392 wkg:3261725398 wkg:3261729142 wkg:3262044202 wkg:3262099797 wkg:3262099798 wkg:3262134877 wkg:3262141339 wkg:3262141340 wkg:3262159600 wkg:3262159607 wkg:3262159608 wkg:3262166917 wkg:3262222715 wkg:3262222717 wkg:3262222721 wkg:3262222722 wkg:3262252849 wkg:3262274653 wkg:3262464866 wkg:3262464872 wkg:3262469001 wkg:3262469002 wkg:3262469003 wkg:3262469005 wkg:3262474233 wkg:3262474236 wkg:3262531144 wkg:3262531148 wkg:3262583136 wkg:326340066 wkg:32675806 wkg:3269573258 wkg:3275077094 wkg:3276289361 wkg:3276993669 wkg:3277028648 wkg:3277073648 wkg:3277073649 wkg:3277073652 wkg:3277073655 wkg:3277075468 wkg:3277075470 wkg:3277379053 wkg:3278330255 wkg:3278341483 wkg:3278543870 wkg:3278719034 wkg:3278935804} .\n",
            "    ?entity_uri wkgs:spatialObject ?geom.\n",
            "    ?geom geo:asWKT ?coordinates.\n",
            "    OPTIONAL { ?entity_uri rdf:type ?type .}\n",
            "    OPTIONAL { ?entity_uri rdfs:label ?label .}\n",
            "    OPTIONAL { ?entity_uri wkgs:nameEn ?nameEn .}\n",
            "  }\n",
            "  \n"
          ]
        },
        {
          "name": "stderr",
          "output_type": "stream",
          "text": [
            "\r 41%|████      | 66/162 [00:32<00:48,  1.96it/s]"
          ]
        },
        {
          "name": "stdout",
          "output_type": "stream",
          "text": [
            "(100, 5)\n",
            "\n",
            "  PREFIX uom: <http://www.opengis.net/def/uom/OGC/1.0/>\n",
            "  PREFIX wkgs: <http://www.worldkg.org/schema/>\n",
            "  PREFIX wkg: <http://www.worldkg.org/resource/>\n",
            "  PREFIX wd: <http://www.wikidata.org/wiki/>\n",
            "  PREFIX sf: <http://www.opengis.net/ont/sf#>\n",
            "  PREFIX rdfs: <http://www.w3.org/2000/01/rdf-schema#>\n",
            "  PREFIX geo: <http://www.opengis.net/ont/geosparql#>\n",
            "  PREFIX owl: <http://www.w3.org/2002/07/owl#>\n",
            "  PREFIX rdf: <http://www.w3.org/1999/02/22-rdf-syntax-ns#>\n",
            "  SELECT DISTINCT ?entity_uri ?type ?label ?nameEn ?coordinates WHERE {\n",
            "    VALUES ?entity_uri {wkg:3282182497 wkg:32826331 wkg:3282676974 wkg:3282989319 wkg:3283007829 wkg:3283007830 wkg:3283007832 wkg:3285824261 wkg:3286629243 wkg:3287608198 wkg:3288089092 wkg:3288089093 wkg:3288155967 wkg:3288155968 wkg:3288155970 wkg:3288155976 wkg:3288155980 wkg:3288210434 wkg:3288210437 wkg:3288210441 wkg:3288238583 wkg:3288302804 wkg:3288302810 wkg:3288302821 wkg:3288302823 wkg:3288302825 wkg:3288313649 wkg:3288313654 wkg:3288342564 wkg:3288342571 wkg:3288342572 wkg:3288342576 wkg:3288378184 wkg:3288378185 wkg:3288495176 wkg:3288495178 wkg:3288495199 wkg:3288495202 wkg:3288901787 wkg:3288901792 wkg:3288901794 wkg:3288901796 wkg:3288901803 wkg:3289017074 wkg:3289075571 wkg:3289075572 wkg:3289075579 wkg:3289075584 wkg:3289075591 wkg:3289075593 wkg:3289091365 wkg:3289091366 wkg:3289091369 wkg:3289091372 wkg:3289097673 wkg:3289097675 wkg:3289097678 wkg:3289116238 wkg:3289116251 wkg:3289116254 wkg:3289116258 wkg:3289116260 wkg:3289874288 wkg:3289951205 wkg:3289951209 wkg:3289951210 wkg:3289951212 wkg:3289951220 wkg:3289962270 wkg:3289992224 wkg:3289992225 wkg:3289992228 wkg:3289992235 wkg:3289992236 wkg:3290008002 wkg:3290062631 wkg:3290062633 wkg:3290131384 wkg:3290131386 wkg:3290131396 wkg:3290207465 wkg:3290207468 wkg:3290207470 wkg:3290207473 wkg:3290207482 wkg:3290281273 wkg:3290281280 wkg:3290281282 wkg:3290301656 wkg:3290302776 wkg:3290304361 wkg:3290304362 wkg:3290351231 wkg:3290351234 wkg:3290351235 wkg:3290351240 wkg:3290364335 wkg:3290364341 wkg:3290474802 wkg:3290474805} .\n",
            "    ?entity_uri wkgs:spatialObject ?geom.\n",
            "    ?geom geo:asWKT ?coordinates.\n",
            "    OPTIONAL { ?entity_uri rdf:type ?type .}\n",
            "    OPTIONAL { ?entity_uri rdfs:label ?label .}\n",
            "    OPTIONAL { ?entity_uri wkgs:nameEn ?nameEn .}\n",
            "  }\n",
            "  \n"
          ]
        },
        {
          "name": "stderr",
          "output_type": "stream",
          "text": [
            "\r 41%|████▏     | 67/162 [00:33<00:48,  1.95it/s]"
          ]
        },
        {
          "name": "stdout",
          "output_type": "stream",
          "text": [
            "(100, 5)\n",
            "\n",
            "  PREFIX uom: <http://www.opengis.net/def/uom/OGC/1.0/>\n",
            "  PREFIX wkgs: <http://www.worldkg.org/schema/>\n",
            "  PREFIX wkg: <http://www.worldkg.org/resource/>\n",
            "  PREFIX wd: <http://www.wikidata.org/wiki/>\n",
            "  PREFIX sf: <http://www.opengis.net/ont/sf#>\n",
            "  PREFIX rdfs: <http://www.w3.org/2000/01/rdf-schema#>\n",
            "  PREFIX geo: <http://www.opengis.net/ont/geosparql#>\n",
            "  PREFIX owl: <http://www.w3.org/2002/07/owl#>\n",
            "  PREFIX rdf: <http://www.w3.org/1999/02/22-rdf-syntax-ns#>\n",
            "  SELECT DISTINCT ?entity_uri ?type ?label ?nameEn ?coordinates WHERE {\n",
            "    VALUES ?entity_uri {wkg:3290474809 wkg:3290551964 wkg:3290552024 wkg:3290552025 wkg:3290679070 wkg:3290679180 wkg:3290679218 wkg:3290679345 wkg:3290690342 wkg:3290710576 wkg:3290710815 wkg:3290716877 wkg:3290716879 wkg:3290736731 wkg:3290736734 wkg:3290772960 wkg:3290890772 wkg:3290890778 wkg:3290905388 wkg:3290905390 wkg:3290916467 wkg:3290986353 wkg:3290986358 wkg:3290989962 wkg:3290989965 wkg:3290996878 wkg:3291018973 wkg:3291018974 wkg:3291434150 wkg:3291437297 wkg:3291457207 wkg:3291457217 wkg:3291457223 wkg:3291475762 wkg:3291475763 wkg:3291475775 wkg:3291475786 wkg:3291479449 wkg:3291479450 wkg:3291479455 wkg:3291479457 wkg:3291970798 wkg:3291970803 wkg:3291970808 wkg:3291970812 wkg:3291970816 wkg:3291982971 wkg:3292033540 wkg:3292154880 wkg:3292154884 wkg:3292291073 wkg:3292291135 wkg:3292291137 wkg:3292306118 wkg:3292306119 wkg:3292306122 wkg:3292316832 wkg:3292316834 wkg:3292322490 wkg:3292322492 wkg:3292322494 wkg:3292346775 wkg:3292346776 wkg:3292346787 wkg:3292346789 wkg:3292362276 wkg:3292362285 wkg:3292362286 wkg:3292362293 wkg:3292362297 wkg:3292362298 wkg:3292362304 wkg:3292362307 wkg:3292382768 wkg:3292382774 wkg:3292382778 wkg:3292382783 wkg:3292382789 wkg:3292382791 wkg:3292467998 wkg:3292468001 wkg:3292483323 wkg:3292483326 wkg:3292483329 wkg:3292492803 wkg:3292492806 wkg:3292492807 wkg:3292492810 wkg:3293012340 wkg:3293012345 wkg:3293012346 wkg:3293012354 wkg:3293012356 wkg:3293012357 wkg:3293019063 wkg:3293056832 wkg:3293056843 wkg:3293095829 wkg:3293095835 wkg:3293095843} .\n",
            "    ?entity_uri wkgs:spatialObject ?geom.\n",
            "    ?geom geo:asWKT ?coordinates.\n",
            "    OPTIONAL { ?entity_uri rdf:type ?type .}\n",
            "    OPTIONAL { ?entity_uri rdfs:label ?label .}\n",
            "    OPTIONAL { ?entity_uri wkgs:nameEn ?nameEn .}\n",
            "  }\n",
            "  \n"
          ]
        },
        {
          "name": "stderr",
          "output_type": "stream",
          "text": [
            "\r 42%|████▏     | 68/162 [00:33<00:48,  1.94it/s]"
          ]
        },
        {
          "name": "stdout",
          "output_type": "stream",
          "text": [
            "(100, 5)\n",
            "\n",
            "  PREFIX uom: <http://www.opengis.net/def/uom/OGC/1.0/>\n",
            "  PREFIX wkgs: <http://www.worldkg.org/schema/>\n",
            "  PREFIX wkg: <http://www.worldkg.org/resource/>\n",
            "  PREFIX wd: <http://www.wikidata.org/wiki/>\n",
            "  PREFIX sf: <http://www.opengis.net/ont/sf#>\n",
            "  PREFIX rdfs: <http://www.w3.org/2000/01/rdf-schema#>\n",
            "  PREFIX geo: <http://www.opengis.net/ont/geosparql#>\n",
            "  PREFIX owl: <http://www.w3.org/2002/07/owl#>\n",
            "  PREFIX rdf: <http://www.w3.org/1999/02/22-rdf-syntax-ns#>\n",
            "  SELECT DISTINCT ?entity_uri ?type ?label ?nameEn ?coordinates WHERE {\n",
            "    VALUES ?entity_uri {wkg:3293095846 wkg:3293135361 wkg:3293135364 wkg:3293160641 wkg:3293314961 wkg:3293314966 wkg:3293314972 wkg:3293315448 wkg:3293351058 wkg:3293351269 wkg:3293351275 wkg:3293351280 wkg:3293351282 wkg:3293351307 wkg:3293380429 wkg:3293380454 wkg:3294191820 wkg:3294198177 wkg:3294242222 wkg:3294273147 wkg:3294274126 wkg:3294274127 wkg:3294291441 wkg:3294526468 wkg:3294540540 wkg:3294767186 wkg:3294959101 wkg:3294959105 wkg:3294959106 wkg:3294959107 wkg:3294959108 wkg:3295035407 wkg:3295035410 wkg:3295035420 wkg:3295035422 wkg:3295035427 wkg:3295035428 wkg:3295035429 wkg:3295035435 wkg:3295047378 wkg:3295188527 wkg:3295228379 wkg:3295228385 wkg:3295228388 wkg:3296143332 wkg:3296251061 wkg:3296285903 wkg:3296285904 wkg:3296304795 wkg:3296304799 wkg:3296316764 wkg:3296329893 wkg:3296329894 wkg:3296413447 wkg:3296426484 wkg:3296426486 wkg:3296433335 wkg:3296433337 wkg:3296450118 wkg:3296507746 wkg:32965173 wkg:3296852714 wkg:3296852716 wkg:3296852717 wkg:3296852718 wkg:3296872441 wkg:3296872445 wkg:3296872447 wkg:3296872448 wkg:3296872453 wkg:3296872457 wkg:3296876565 wkg:3296876566 wkg:3296952619 wkg:3296952629 wkg:3296968217 wkg:3296968218 wkg:3296968222 wkg:3296968226 wkg:3297059190 wkg:3297175236 wkg:3297758762 wkg:3298156041 wkg:3298232978 wkg:3298244263 wkg:3298302040 wkg:3298432014 wkg:3298432015 wkg:3298432023 wkg:3298432030 wkg:3298439464 wkg:3298439472 wkg:3298439474 wkg:3298439476 wkg:3298486808 wkg:3298486818 wkg:3298504951 wkg:3298504959 wkg:3298505562 wkg:3298505567} .\n",
            "    ?entity_uri wkgs:spatialObject ?geom.\n",
            "    ?geom geo:asWKT ?coordinates.\n",
            "    OPTIONAL { ?entity_uri rdf:type ?type .}\n",
            "    OPTIONAL { ?entity_uri rdfs:label ?label .}\n",
            "    OPTIONAL { ?entity_uri wkgs:nameEn ?nameEn .}\n",
            "  }\n",
            "  \n"
          ]
        },
        {
          "name": "stderr",
          "output_type": "stream",
          "text": [
            "\r 43%|████▎     | 69/162 [00:34<00:48,  1.94it/s]"
          ]
        },
        {
          "name": "stdout",
          "output_type": "stream",
          "text": [
            "(100, 5)\n",
            "\n",
            "  PREFIX uom: <http://www.opengis.net/def/uom/OGC/1.0/>\n",
            "  PREFIX wkgs: <http://www.worldkg.org/schema/>\n",
            "  PREFIX wkg: <http://www.worldkg.org/resource/>\n",
            "  PREFIX wd: <http://www.wikidata.org/wiki/>\n",
            "  PREFIX sf: <http://www.opengis.net/ont/sf#>\n",
            "  PREFIX rdfs: <http://www.w3.org/2000/01/rdf-schema#>\n",
            "  PREFIX geo: <http://www.opengis.net/ont/geosparql#>\n",
            "  PREFIX owl: <http://www.w3.org/2002/07/owl#>\n",
            "  PREFIX rdf: <http://www.w3.org/1999/02/22-rdf-syntax-ns#>\n",
            "  SELECT DISTINCT ?entity_uri ?type ?label ?nameEn ?coordinates WHERE {\n",
            "    VALUES ?entity_uri {wkg:3298505568 wkg:3298505571 wkg:3298505573 wkg:3298505575 wkg:3298547673 wkg:3298547676 wkg:3298547682 wkg:3298547687 wkg:3298547697 wkg:3298547701 wkg:3298547703 wkg:3298547706 wkg:3298559367 wkg:3298559369 wkg:3298559370 wkg:3298559374 wkg:3298559380 wkg:3298559381 wkg:3298578419 wkg:3298578431 wkg:3298578433 wkg:3298578434 wkg:3299076466 wkg:3299076468 wkg:3299076471 wkg:3299076480 wkg:3299076481 wkg:3299076482 wkg:3299076490 wkg:3299244322 wkg:3299244323 wkg:3299244337 wkg:3299244340 wkg:3299244343 wkg:3299244348 wkg:3299244351 wkg:3299303875 wkg:3299303877 wkg:3299303879 wkg:3299303891 wkg:3299569471 wkg:3299921083 wkg:3300331565 wkg:3300532901 wkg:3300554651 wkg:3300557261 wkg:3300568640 wkg:3300570984 wkg:3300570990 wkg:3300571001 wkg:3300620209 wkg:3300632014 wkg:3300648533 wkg:3300662197 wkg:3300826132 wkg:3302720883 wkg:3303965261 wkg:3303978065 wkg:3303981288 wkg:3303983669 wkg:3303995431 wkg:3303995432 wkg:3303995442 wkg:3303997731 wkg:3305195688 wkg:3305196298 wkg:3305197360 wkg:33057057 wkg:3306561001 wkg:3307720083 wkg:3307729879 wkg:3307729881 wkg:3307747905 wkg:3307747908 wkg:3308257483 wkg:3308974553 wkg:3308974558 wkg:3309758851 wkg:3310626424 wkg:331131269 wkg:331133522 wkg:331134393 wkg:3311602138 wkg:3311728274 wkg:331201896 wkg:3312187588 wkg:3312477823 wkg:3312596629 wkg:3312596630 wkg:3312647365 wkg:3312648061 wkg:3312692692 wkg:3312728488 wkg:3312728490 wkg:3312728491 wkg:3313826461 wkg:3314419620 wkg:3315244570 wkg:3315257877 wkg:3315257878} .\n",
            "    ?entity_uri wkgs:spatialObject ?geom.\n",
            "    ?geom geo:asWKT ?coordinates.\n",
            "    OPTIONAL { ?entity_uri rdf:type ?type .}\n",
            "    OPTIONAL { ?entity_uri rdfs:label ?label .}\n",
            "    OPTIONAL { ?entity_uri wkgs:nameEn ?nameEn .}\n",
            "  }\n",
            "  \n"
          ]
        },
        {
          "name": "stderr",
          "output_type": "stream",
          "text": [
            "\r 43%|████▎     | 70/162 [00:35<00:47,  1.93it/s]"
          ]
        },
        {
          "name": "stdout",
          "output_type": "stream",
          "text": [
            "(100, 5)\n",
            "\n",
            "  PREFIX uom: <http://www.opengis.net/def/uom/OGC/1.0/>\n",
            "  PREFIX wkgs: <http://www.worldkg.org/schema/>\n",
            "  PREFIX wkg: <http://www.worldkg.org/resource/>\n",
            "  PREFIX wd: <http://www.wikidata.org/wiki/>\n",
            "  PREFIX sf: <http://www.opengis.net/ont/sf#>\n",
            "  PREFIX rdfs: <http://www.w3.org/2000/01/rdf-schema#>\n",
            "  PREFIX geo: <http://www.opengis.net/ont/geosparql#>\n",
            "  PREFIX owl: <http://www.w3.org/2002/07/owl#>\n",
            "  PREFIX rdf: <http://www.w3.org/1999/02/22-rdf-syntax-ns#>\n",
            "  SELECT DISTINCT ?entity_uri ?type ?label ?nameEn ?coordinates WHERE {\n",
            "    VALUES ?entity_uri {wkg:3315278565 wkg:3315322419 wkg:3315885473 wkg:3315885474 wkg:3315885475 wkg:3315885477 wkg:3315885478 wkg:3315885479 wkg:3315949142 wkg:3315951063 wkg:3315951074 wkg:3315951129 wkg:3316156503 wkg:3316589968 wkg:3317361003 wkg:3317375273 wkg:3317375274 wkg:3317376580 wkg:3317376581 wkg:3317589469 wkg:3318180364 wkg:3318410235 wkg:3318457602 wkg:3319165958 wkg:3320386209 wkg:3320590985 wkg:332175590 wkg:332175807 wkg:3323717127 wkg:3324474926 wkg:3326363149 wkg:3326367512 wkg:3327685152 wkg:3327700555 wkg:3327732870 wkg:3327735844 wkg:3327743117 wkg:3327757345 wkg:3327759037 wkg:3327765802 wkg:3327771368 wkg:3327779576 wkg:3327780481 wkg:3327780487 wkg:3327780489 wkg:3327788609 wkg:3327791238 wkg:3328130446 wkg:3328145886 wkg:3328294603 wkg:3328362189 wkg:3328365325 wkg:3328365326 wkg:3328375046 wkg:3328415744 wkg:3329146134 wkg:3329188917 wkg:3329260978 wkg:3329261750 wkg:3329263848 wkg:3329268527 wkg:332957215 wkg:3329790425 wkg:3329792817 wkg:3329806784 wkg:3329828522 wkg:3331301991 wkg:3331307535 wkg:333132897 wkg:3331333122 wkg:3331334710 wkg:3331334715 wkg:3331344928 wkg:3331344931 wkg:3331349641 wkg:3331472490 wkg:3331474054 wkg:3332483977 wkg:3332528157 wkg:3332991286 wkg:33364833 wkg:33364951 wkg:333790810 wkg:3338543293 wkg:3338557278 wkg:3338569123 wkg:3338579773 wkg:3338579774 wkg:3338586097 wkg:3339506503 wkg:3339590105 wkg:3342792865 wkg:3342978631 wkg:3342987139 wkg:3343528437 wkg:3343618299 wkg:334472083 wkg:3344803850 wkg:3344949662 wkg:3346764607} .\n",
            "    ?entity_uri wkgs:spatialObject ?geom.\n",
            "    ?geom geo:asWKT ?coordinates.\n",
            "    OPTIONAL { ?entity_uri rdf:type ?type .}\n",
            "    OPTIONAL { ?entity_uri rdfs:label ?label .}\n",
            "    OPTIONAL { ?entity_uri wkgs:nameEn ?nameEn .}\n",
            "  }\n",
            "  \n"
          ]
        },
        {
          "name": "stderr",
          "output_type": "stream",
          "text": [
            "\r 44%|████▍     | 71/162 [00:35<00:47,  1.93it/s]"
          ]
        },
        {
          "name": "stdout",
          "output_type": "stream",
          "text": [
            "(102, 5)\n",
            "\n",
            "  PREFIX uom: <http://www.opengis.net/def/uom/OGC/1.0/>\n",
            "  PREFIX wkgs: <http://www.worldkg.org/schema/>\n",
            "  PREFIX wkg: <http://www.worldkg.org/resource/>\n",
            "  PREFIX wd: <http://www.wikidata.org/wiki/>\n",
            "  PREFIX sf: <http://www.opengis.net/ont/sf#>\n",
            "  PREFIX rdfs: <http://www.w3.org/2000/01/rdf-schema#>\n",
            "  PREFIX geo: <http://www.opengis.net/ont/geosparql#>\n",
            "  PREFIX owl: <http://www.w3.org/2002/07/owl#>\n",
            "  PREFIX rdf: <http://www.w3.org/1999/02/22-rdf-syntax-ns#>\n",
            "  SELECT DISTINCT ?entity_uri ?type ?label ?nameEn ?coordinates WHERE {\n",
            "    VALUES ?entity_uri {wkg:3347006272 wkg:3347007336 wkg:3347007541 wkg:3347020264 wkg:3347024906 wkg:3347024992 wkg:3347024994 wkg:3347034120 wkg:3347041739 wkg:3347042103 wkg:3347042105 wkg:3348710723 wkg:3350839810 wkg:33533898 wkg:3353612496 wkg:3355098981 wkg:3355102125 wkg:3355108609 wkg:3355109475 wkg:3355110456 wkg:3355115057 wkg:335612010 wkg:335729783 wkg:3359430190 wkg:3359519908 wkg:336052138 wkg:3370701500 wkg:3372424111 wkg:3372812204 wkg:3373272608 wkg:3373272609 wkg:3373272615 wkg:3373272619 wkg:3373272623 wkg:3373290726 wkg:3373290727 wkg:3373290730 wkg:337699037 wkg:3378439101 wkg:3379296155 wkg:3379614905 wkg:3379614909 wkg:3379614911 wkg:3379614913 wkg:3379614914 wkg:3379614917 wkg:3379614921 wkg:3379642610 wkg:3379642611 wkg:3379642612 wkg:3379642613 wkg:3379642617 wkg:3379658622 wkg:3379658625 wkg:3379658629 wkg:3380953979 wkg:3380953983 wkg:3380970400 wkg:3380970405 wkg:3380976563 wkg:3380976564 wkg:3380976574 wkg:3380976575 wkg:3380976577 wkg:3380976579 wkg:3380976587 wkg:3380994053 wkg:3380994059 wkg:3380994065 wkg:3380994066 wkg:338175108 wkg:3383308520 wkg:3385798233 wkg:3385798238 wkg:3385798239 wkg:3385798248 wkg:3385798251 wkg:3385839557 wkg:3385839559 wkg:3385839564 wkg:3385839565 wkg:3385839567 wkg:3385839571 wkg:3386051264 wkg:3386051279 wkg:3386051280 wkg:3386065059 wkg:3386065062 wkg:3386065072 wkg:3386065074 wkg:3386065075 wkg:3386270496 wkg:3386270499 wkg:3386270501 wkg:3386270504 wkg:3386331985 wkg:3387232852 wkg:3388004832 wkg:3388377962 wkg:3388377980} .\n",
            "    ?entity_uri wkgs:spatialObject ?geom.\n",
            "    ?geom geo:asWKT ?coordinates.\n",
            "    OPTIONAL { ?entity_uri rdf:type ?type .}\n",
            "    OPTIONAL { ?entity_uri rdfs:label ?label .}\n",
            "    OPTIONAL { ?entity_uri wkgs:nameEn ?nameEn .}\n",
            "  }\n",
            "  \n"
          ]
        },
        {
          "name": "stderr",
          "output_type": "stream",
          "text": [
            "\r 44%|████▍     | 72/162 [00:36<00:46,  1.93it/s]"
          ]
        },
        {
          "name": "stdout",
          "output_type": "stream",
          "text": [
            "(100, 5)\n",
            "\n",
            "  PREFIX uom: <http://www.opengis.net/def/uom/OGC/1.0/>\n",
            "  PREFIX wkgs: <http://www.worldkg.org/schema/>\n",
            "  PREFIX wkg: <http://www.worldkg.org/resource/>\n",
            "  PREFIX wd: <http://www.wikidata.org/wiki/>\n",
            "  PREFIX sf: <http://www.opengis.net/ont/sf#>\n",
            "  PREFIX rdfs: <http://www.w3.org/2000/01/rdf-schema#>\n",
            "  PREFIX geo: <http://www.opengis.net/ont/geosparql#>\n",
            "  PREFIX owl: <http://www.w3.org/2002/07/owl#>\n",
            "  PREFIX rdf: <http://www.w3.org/1999/02/22-rdf-syntax-ns#>\n",
            "  SELECT DISTINCT ?entity_uri ?type ?label ?nameEn ?coordinates WHERE {\n",
            "    VALUES ?entity_uri {wkg:3388377982 wkg:3388377990 wkg:3388383294 wkg:3388383296 wkg:3388383306 wkg:3388383307 wkg:3388383315 wkg:3388383320 wkg:3390028482 wkg:3390028484 wkg:3390028486 wkg:3390028600 wkg:3390028609 wkg:3390028618 wkg:3390028624 wkg:3390028625 wkg:3390783148 wkg:339120476 wkg:3392605828 wkg:3392612130 wkg:3392639097 wkg:3392807094 wkg:3392807140 wkg:3392877811 wkg:3392952254 wkg:3392952256 wkg:3392952260 wkg:3392975066 wkg:3393024123 wkg:3393027470 wkg:3393027475 wkg:3393027476 wkg:3393027477 wkg:3394231754 wkg:3394231755 wkg:3394231757 wkg:3394231758 wkg:3394231768 wkg:3394231775 wkg:3394231790 wkg:3394232799 wkg:3395708561 wkg:3395708569 wkg:3395708573 wkg:3395708574 wkg:3395708591 wkg:3395714596 wkg:3396039255 wkg:3396354274 wkg:3396354282 wkg:3396354289 wkg:3396372824 wkg:339662523 wkg:3396951269 wkg:3396951270 wkg:3396951284 wkg:3397112113 wkg:3397189524 wkg:3397189526 wkg:3397189530 wkg:3397189537 wkg:3397189543 wkg:3397189550 wkg:3397189553 wkg:3397189555 wkg:339722615 wkg:339722651 wkg:3397233636 wkg:3397335747 wkg:3397335749 wkg:3397335752 wkg:3397335754 wkg:3397335757 wkg:3397335771 wkg:3397335777 wkg:3397335780 wkg:3397335788 wkg:3397335791 wkg:3397335896 wkg:3397335901 wkg:3397335904 wkg:3397335908 wkg:3397335915 wkg:3397335923 wkg:3397335929 wkg:3397374388 wkg:3397374389 wkg:3397378494 wkg:3397378501 wkg:3397378502 wkg:3397378504 wkg:3397402795 wkg:3397402801 wkg:3397752903 wkg:3397752904 wkg:3397752905 wkg:3397752915 wkg:3397752919 wkg:33979881 wkg:3398925207} .\n",
            "    ?entity_uri wkgs:spatialObject ?geom.\n",
            "    ?geom geo:asWKT ?coordinates.\n",
            "    OPTIONAL { ?entity_uri rdf:type ?type .}\n",
            "    OPTIONAL { ?entity_uri rdfs:label ?label .}\n",
            "    OPTIONAL { ?entity_uri wkgs:nameEn ?nameEn .}\n",
            "  }\n",
            "  \n"
          ]
        },
        {
          "name": "stderr",
          "output_type": "stream",
          "text": [
            "\r 45%|████▌     | 73/162 [00:36<00:44,  1.99it/s]"
          ]
        },
        {
          "name": "stdout",
          "output_type": "stream",
          "text": [
            "(100, 5)\n",
            "\n",
            "  PREFIX uom: <http://www.opengis.net/def/uom/OGC/1.0/>\n",
            "  PREFIX wkgs: <http://www.worldkg.org/schema/>\n",
            "  PREFIX wkg: <http://www.worldkg.org/resource/>\n",
            "  PREFIX wd: <http://www.wikidata.org/wiki/>\n",
            "  PREFIX sf: <http://www.opengis.net/ont/sf#>\n",
            "  PREFIX rdfs: <http://www.w3.org/2000/01/rdf-schema#>\n",
            "  PREFIX geo: <http://www.opengis.net/ont/geosparql#>\n",
            "  PREFIX owl: <http://www.w3.org/2002/07/owl#>\n",
            "  PREFIX rdf: <http://www.w3.org/1999/02/22-rdf-syntax-ns#>\n",
            "  SELECT DISTINCT ?entity_uri ?type ?label ?nameEn ?coordinates WHERE {\n",
            "    VALUES ?entity_uri {wkg:3398925210 wkg:3398925213 wkg:340000603 wkg:340001017 wkg:340001153 wkg:340073487 wkg:340178360 wkg:340254957 wkg:3404650730 wkg:3404650852 wkg:3404651026 wkg:3404651470 wkg:3404821420 wkg:34050784 wkg:3405416441 wkg:3405417436 wkg:340551279 wkg:3405936787 wkg:3407492465 wkg:3407492476 wkg:3407492487 wkg:3407492489 wkg:3407493693 wkg:3407493694 wkg:3407493695 wkg:3407493720 wkg:3407493723 wkg:3407493728 wkg:3407493730 wkg:3407493733 wkg:34088249 wkg:34088251 wkg:34088253 wkg:34088254 wkg:34088255 wkg:34088261 wkg:34088262 wkg:34088263 wkg:34088269 wkg:34088310 wkg:3410002313 wkg:341178571 wkg:3415330768 wkg:3415330770 wkg:3415331247 wkg:3417951265 wkg:34184938 wkg:341925171 wkg:341926062 wkg:3420322687 wkg:3420323793 wkg:3420323794 wkg:3420323798 wkg:3420323799 wkg:3420323804 wkg:3420392993 wkg:3420392994 wkg:3420392996 wkg:3420393000 wkg:3420393002 wkg:3421666568 wkg:3421796455 wkg:3421796464 wkg:3421796467 wkg:3421796470 wkg:3421796471 wkg:3421796473 wkg:3421796478 wkg:3421862073 wkg:3421871319 wkg:3421871323 wkg:3421871334 wkg:3421871336 wkg:3421871339 wkg:3421871341 wkg:3421931825 wkg:3421931829 wkg:3421931830 wkg:3421931845 wkg:3421999569 wkg:3423112756 wkg:3426969027 wkg:3426969043 wkg:3427007753 wkg:3429367291 wkg:3432177922 wkg:3432190041 wkg:3442474911 wkg:344518835 wkg:344523747 wkg:344548866 wkg:344557712 wkg:344559674 wkg:3445677913 wkg:3446336356 wkg:3446499366 wkg:3446578627 wkg:3446581545 wkg:344799743 wkg:3450882093} .\n",
            "    ?entity_uri wkgs:spatialObject ?geom.\n",
            "    ?geom geo:asWKT ?coordinates.\n",
            "    OPTIONAL { ?entity_uri rdf:type ?type .}\n",
            "    OPTIONAL { ?entity_uri rdfs:label ?label .}\n",
            "    OPTIONAL { ?entity_uri wkgs:nameEn ?nameEn .}\n",
            "  }\n",
            "  \n"
          ]
        },
        {
          "name": "stderr",
          "output_type": "stream",
          "text": [
            "\r 46%|████▌     | 74/162 [00:37<00:44,  1.96it/s]"
          ]
        },
        {
          "name": "stdout",
          "output_type": "stream",
          "text": [
            "(100, 5)\n",
            "\n",
            "  PREFIX uom: <http://www.opengis.net/def/uom/OGC/1.0/>\n",
            "  PREFIX wkgs: <http://www.worldkg.org/schema/>\n",
            "  PREFIX wkg: <http://www.worldkg.org/resource/>\n",
            "  PREFIX wd: <http://www.wikidata.org/wiki/>\n",
            "  PREFIX sf: <http://www.opengis.net/ont/sf#>\n",
            "  PREFIX rdfs: <http://www.w3.org/2000/01/rdf-schema#>\n",
            "  PREFIX geo: <http://www.opengis.net/ont/geosparql#>\n",
            "  PREFIX owl: <http://www.w3.org/2002/07/owl#>\n",
            "  PREFIX rdf: <http://www.w3.org/1999/02/22-rdf-syntax-ns#>\n",
            "  SELECT DISTINCT ?entity_uri ?type ?label ?nameEn ?coordinates WHERE {\n",
            "    VALUES ?entity_uri {wkg:3450943004 wkg:3450984236 wkg:3451142753 wkg:3451867264 wkg:3452177587 wkg:3454676631 wkg:3454778208 wkg:3455284892 wkg:3455284895 wkg:3455284958 wkg:3457456023 wkg:3457465185 wkg:3457466893 wkg:3457466914 wkg:345806623 wkg:3458949074 wkg:3458960476 wkg:3460971784 wkg:3461276987 wkg:3461338859 wkg:3463194939 wkg:3463380372 wkg:3463380381 wkg:3465313804 wkg:3468347103 wkg:347026180 wkg:3470536692 wkg:34724864 wkg:3473474851 wkg:347351070 wkg:3474683322 wkg:3475067490 wkg:3475090010 wkg:3477997946 wkg:3478511244 wkg:348089814 wkg:348157236 wkg:3483711795 wkg:3483785941 wkg:3484277201 wkg:3484427040 wkg:3485704949 wkg:348612086 wkg:348772736 wkg:348997323 wkg:348999534 wkg:348999585 wkg:349018654 wkg:3491121173 wkg:3491121176 wkg:3491167316 wkg:3491198194 wkg:3491220068 wkg:3491220799 wkg:3491232475 wkg:3491256632 wkg:3493245199 wkg:3493259418 wkg:3493259422 wkg:3493281453 wkg:3501907987 wkg:3502456758 wkg:350249056 wkg:3507220406 wkg:3507220407 wkg:3508036651 wkg:3508041558 wkg:3508044260 wkg:3508139701 wkg:3510256494 wkg:3510259422 wkg:3511891514 wkg:3511973634 wkg:3511981623 wkg:3512010310 wkg:3512700519 wkg:3512700522 wkg:3512700526 wkg:3512700539 wkg:3514369264 wkg:3514502964 wkg:3514689940 wkg:3514689946 wkg:3514689951 wkg:3514689952 wkg:3514689953 wkg:3514689961 wkg:3514689970 wkg:3514689971 wkg:3514759229 wkg:3514759232 wkg:3514759242 wkg:3514816351 wkg:3514816352 wkg:3514891570 wkg:3514891574 wkg:3514891579 wkg:3514891580 wkg:3515028362 wkg:3515028364} .\n",
            "    ?entity_uri wkgs:spatialObject ?geom.\n",
            "    ?geom geo:asWKT ?coordinates.\n",
            "    OPTIONAL { ?entity_uri rdf:type ?type .}\n",
            "    OPTIONAL { ?entity_uri rdfs:label ?label .}\n",
            "    OPTIONAL { ?entity_uri wkgs:nameEn ?nameEn .}\n",
            "  }\n",
            "  \n"
          ]
        },
        {
          "name": "stderr",
          "output_type": "stream",
          "text": [
            "\r 46%|████▋     | 75/162 [00:37<00:44,  1.94it/s]"
          ]
        },
        {
          "name": "stdout",
          "output_type": "stream",
          "text": [
            "(101, 5)\n",
            "\n",
            "  PREFIX uom: <http://www.opengis.net/def/uom/OGC/1.0/>\n",
            "  PREFIX wkgs: <http://www.worldkg.org/schema/>\n",
            "  PREFIX wkg: <http://www.worldkg.org/resource/>\n",
            "  PREFIX wd: <http://www.wikidata.org/wiki/>\n",
            "  PREFIX sf: <http://www.opengis.net/ont/sf#>\n",
            "  PREFIX rdfs: <http://www.w3.org/2000/01/rdf-schema#>\n",
            "  PREFIX geo: <http://www.opengis.net/ont/geosparql#>\n",
            "  PREFIX owl: <http://www.w3.org/2002/07/owl#>\n",
            "  PREFIX rdf: <http://www.w3.org/1999/02/22-rdf-syntax-ns#>\n",
            "  SELECT DISTINCT ?entity_uri ?type ?label ?nameEn ?coordinates WHERE {\n",
            "    VALUES ?entity_uri {wkg:3515028367 wkg:3515028369 wkg:3515028370 wkg:3515028374 wkg:3515028386 wkg:3515028388 wkg:3515028390 wkg:3515030816 wkg:3515030818 wkg:3515338889 wkg:3515349493 wkg:3515349495 wkg:3515349496 wkg:3515349497 wkg:3515349504 wkg:3515349509 wkg:3515349515 wkg:3515349521 wkg:3515349523 wkg:3515349526 wkg:3515349529 wkg:3515349539 wkg:3515652596 wkg:3516463479 wkg:3516572614 wkg:3516572617 wkg:3516572622 wkg:3516572624 wkg:3516572627 wkg:3516572628 wkg:3516572632 wkg:3516572635 wkg:3516572638 wkg:3516572658 wkg:3516572662 wkg:3516572673 wkg:3516572680 wkg:3516572685 wkg:3516572692 wkg:3516572792 wkg:3516581494 wkg:3516581496 wkg:3516581498 wkg:3516581501 wkg:3516581509 wkg:3516581517 wkg:3516581521 wkg:3516581523 wkg:3516581527 wkg:3516581529 wkg:3516581531 wkg:3516581539 wkg:3516581540 wkg:3516581559 wkg:3516581567 wkg:3516581575 wkg:3516581577 wkg:3516581578 wkg:3516581582 wkg:3516581586 wkg:3516581590 wkg:3516581592 wkg:3516582295 wkg:3516582296 wkg:3516582303 wkg:3516582304 wkg:3516582307 wkg:3516582323 wkg:3516582324 wkg:3516582339 wkg:3516582353 wkg:3516582357 wkg:3516582360 wkg:3516582370 wkg:3516582378 wkg:3516582379 wkg:3516582384 wkg:3516582390 wkg:3516582698 wkg:3516582699 wkg:3516582711 wkg:3516582714 wkg:3516582720 wkg:3516582725 wkg:3516582726 wkg:3516582737 wkg:3516582747 wkg:3516582749 wkg:3516582760 wkg:3516582764 wkg:3516582792 wkg:3516582894 wkg:3516582904 wkg:3516582994 wkg:3516583007 wkg:3516583009 wkg:3516583015 wkg:3516583016 wkg:3516583028 wkg:3516583035} .\n",
            "    ?entity_uri wkgs:spatialObject ?geom.\n",
            "    ?geom geo:asWKT ?coordinates.\n",
            "    OPTIONAL { ?entity_uri rdf:type ?type .}\n",
            "    OPTIONAL { ?entity_uri rdfs:label ?label .}\n",
            "    OPTIONAL { ?entity_uri wkgs:nameEn ?nameEn .}\n",
            "  }\n",
            "  \n"
          ]
        },
        {
          "name": "stderr",
          "output_type": "stream",
          "text": [
            "\r 47%|████▋     | 76/162 [00:38<00:45,  1.91it/s]"
          ]
        },
        {
          "name": "stdout",
          "output_type": "stream",
          "text": [
            "(100, 5)\n",
            "\n",
            "  PREFIX uom: <http://www.opengis.net/def/uom/OGC/1.0/>\n",
            "  PREFIX wkgs: <http://www.worldkg.org/schema/>\n",
            "  PREFIX wkg: <http://www.worldkg.org/resource/>\n",
            "  PREFIX wd: <http://www.wikidata.org/wiki/>\n",
            "  PREFIX sf: <http://www.opengis.net/ont/sf#>\n",
            "  PREFIX rdfs: <http://www.w3.org/2000/01/rdf-schema#>\n",
            "  PREFIX geo: <http://www.opengis.net/ont/geosparql#>\n",
            "  PREFIX owl: <http://www.w3.org/2002/07/owl#>\n",
            "  PREFIX rdf: <http://www.w3.org/1999/02/22-rdf-syntax-ns#>\n",
            "  SELECT DISTINCT ?entity_uri ?type ?label ?nameEn ?coordinates WHERE {\n",
            "    VALUES ?entity_uri {wkg:3516583044 wkg:3516583053 wkg:3516583054 wkg:3516583057 wkg:3516583058 wkg:3516583066 wkg:3516583067 wkg:3516583071 wkg:3516583073 wkg:3516583075 wkg:3516583076 wkg:3516583081 wkg:3516583400 wkg:3516583412 wkg:3516583421 wkg:3516583425 wkg:3516583426 wkg:3516583427 wkg:3516583430 wkg:3516583435 wkg:3516583437 wkg:3516583440 wkg:3516583444 wkg:3516583445 wkg:3516583462 wkg:3516583464 wkg:3516700386 wkg:3516767577 wkg:3516802437 wkg:3517168055 wkg:3517168064 wkg:3517168080 wkg:3517168082 wkg:3517168086 wkg:3517168088 wkg:3517171193 wkg:3517171202 wkg:3517171212 wkg:3517707098 wkg:3517714951 wkg:3517714956 wkg:3517714958 wkg:3517714966 wkg:3517714970 wkg:3517714977 wkg:3517714985 wkg:3517714988 wkg:3517714992 wkg:3517715698 wkg:3517770208 wkg:3517770227 wkg:3517770230 wkg:3517770231 wkg:3517770237 wkg:3517770238 wkg:3517770246 wkg:3517770251 wkg:3517770275 wkg:3517770280 wkg:3517770286 wkg:3517770288 wkg:3517775872 wkg:3517775874 wkg:3517775885 wkg:3517775889 wkg:3517778394 wkg:3517778397 wkg:3517778400 wkg:3517778406 wkg:3517778409 wkg:3517778414 wkg:3517778416 wkg:3517778418 wkg:3517778420 wkg:3517778425 wkg:3517778426 wkg:3517778428 wkg:3517778429 wkg:3517778439 wkg:3517778441 wkg:3517778444 wkg:3517778455 wkg:3517778458 wkg:3517778463 wkg:3517862946 wkg:3517862951 wkg:3517862952 wkg:3517862961 wkg:3517862962 wkg:3517862967 wkg:3517862976 wkg:3517862979 wkg:3517862980 wkg:3517862988 wkg:3517862992 wkg:3517865594 wkg:3518146770 wkg:3518380074 wkg:3518621294 wkg:3518621298} .\n",
            "    ?entity_uri wkgs:spatialObject ?geom.\n",
            "    ?geom geo:asWKT ?coordinates.\n",
            "    OPTIONAL { ?entity_uri rdf:type ?type .}\n",
            "    OPTIONAL { ?entity_uri rdfs:label ?label .}\n",
            "    OPTIONAL { ?entity_uri wkgs:nameEn ?nameEn .}\n",
            "  }\n",
            "  \n"
          ]
        },
        {
          "name": "stderr",
          "output_type": "stream",
          "text": [
            "\r 48%|████▊     | 77/162 [00:38<00:44,  1.91it/s]"
          ]
        },
        {
          "name": "stdout",
          "output_type": "stream",
          "text": [
            "(100, 5)\n",
            "\n",
            "  PREFIX uom: <http://www.opengis.net/def/uom/OGC/1.0/>\n",
            "  PREFIX wkgs: <http://www.worldkg.org/schema/>\n",
            "  PREFIX wkg: <http://www.worldkg.org/resource/>\n",
            "  PREFIX wd: <http://www.wikidata.org/wiki/>\n",
            "  PREFIX sf: <http://www.opengis.net/ont/sf#>\n",
            "  PREFIX rdfs: <http://www.w3.org/2000/01/rdf-schema#>\n",
            "  PREFIX geo: <http://www.opengis.net/ont/geosparql#>\n",
            "  PREFIX owl: <http://www.w3.org/2002/07/owl#>\n",
            "  PREFIX rdf: <http://www.w3.org/1999/02/22-rdf-syntax-ns#>\n",
            "  SELECT DISTINCT ?entity_uri ?type ?label ?nameEn ?coordinates WHERE {\n",
            "    VALUES ?entity_uri {wkg:3518621300 wkg:3518621301 wkg:3518621317 wkg:3518621318 wkg:3518621321 wkg:3518621323 wkg:3518621327 wkg:3518621331 wkg:3518621338 wkg:3518621342 wkg:3518621345 wkg:3518621349 wkg:3518621354 wkg:3518621379 wkg:3518621381 wkg:3518621392 wkg:3518621700 wkg:3518621718 wkg:3518621722 wkg:3518621725 wkg:3518621726 wkg:3518621729 wkg:3518621733 wkg:3518621738 wkg:3518640702 wkg:3518972926 wkg:3519102864 wkg:3519102869 wkg:3519102870 wkg:3519102872 wkg:3519102873 wkg:3519102877 wkg:3519102885 wkg:3519102887 wkg:3519102889 wkg:3519103395 wkg:3519103406 wkg:3519103408 wkg:3519103416 wkg:3519103418 wkg:3519103427 wkg:3519103432 wkg:3519103440 wkg:3519103450 wkg:3519103458 wkg:3519103464 wkg:3519103466 wkg:3519103474 wkg:3519103478 wkg:3519103484 wkg:3519103490 wkg:3519103699 wkg:3519103704 wkg:3519103707 wkg:3519103726 wkg:3519103729 wkg:3519259994 wkg:3519259995 wkg:3519260008 wkg:3519260016 wkg:3519260019 wkg:3519260031 wkg:3519260036 wkg:3519260037 wkg:3519260039 wkg:3519260041 wkg:3519260044 wkg:3519260045 wkg:3519260048 wkg:3519260053 wkg:3519260057 wkg:3519260059 wkg:3519260066 wkg:3519260071 wkg:3519260073 wkg:3519260075 wkg:3519260082 wkg:3519426101 wkg:3520076914 wkg:3520076921 wkg:3520076939 wkg:3520076940 wkg:3520076941 wkg:3520076948 wkg:3520076950 wkg:3520076958 wkg:3520076966 wkg:3520076973 wkg:3520076979 wkg:3520076988 wkg:3520078099 wkg:3520078103 wkg:3520078107 wkg:3520078108 wkg:3520078116 wkg:3520078128 wkg:3520078130 wkg:3520078131 wkg:3520078133 wkg:3520078136} .\n",
            "    ?entity_uri wkgs:spatialObject ?geom.\n",
            "    ?geom geo:asWKT ?coordinates.\n",
            "    OPTIONAL { ?entity_uri rdf:type ?type .}\n",
            "    OPTIONAL { ?entity_uri rdfs:label ?label .}\n",
            "    OPTIONAL { ?entity_uri wkgs:nameEn ?nameEn .}\n",
            "  }\n",
            "  \n"
          ]
        },
        {
          "name": "stderr",
          "output_type": "stream",
          "text": [
            "\r 48%|████▊     | 78/162 [00:39<00:44,  1.91it/s]"
          ]
        },
        {
          "name": "stdout",
          "output_type": "stream",
          "text": [
            "(100, 5)\n",
            "\n",
            "  PREFIX uom: <http://www.opengis.net/def/uom/OGC/1.0/>\n",
            "  PREFIX wkgs: <http://www.worldkg.org/schema/>\n",
            "  PREFIX wkg: <http://www.worldkg.org/resource/>\n",
            "  PREFIX wd: <http://www.wikidata.org/wiki/>\n",
            "  PREFIX sf: <http://www.opengis.net/ont/sf#>\n",
            "  PREFIX rdfs: <http://www.w3.org/2000/01/rdf-schema#>\n",
            "  PREFIX geo: <http://www.opengis.net/ont/geosparql#>\n",
            "  PREFIX owl: <http://www.w3.org/2002/07/owl#>\n",
            "  PREFIX rdf: <http://www.w3.org/1999/02/22-rdf-syntax-ns#>\n",
            "  SELECT DISTINCT ?entity_uri ?type ?label ?nameEn ?coordinates WHERE {\n",
            "    VALUES ?entity_uri {wkg:3520078137 wkg:3520078141 wkg:3520078142 wkg:3520078158 wkg:3520078160 wkg:3520078162 wkg:3520078164 wkg:3520078177 wkg:3520078186 wkg:3520078263 wkg:3520078265 wkg:3520078268 wkg:3520078269 wkg:3520078276 wkg:3520078308 wkg:3520078311 wkg:3520078318 wkg:3520078325 wkg:3520078331 wkg:3520078335 wkg:3520078350 wkg:3520078499 wkg:3520078506 wkg:3520078511 wkg:3520078524 wkg:3520078525 wkg:3520078539 wkg:3520078541 wkg:3520078545 wkg:3520078546 wkg:3520078553 wkg:3520078555 wkg:3520229344 wkg:3520229355 wkg:3520229356 wkg:3520229359 wkg:3520229360 wkg:3520229362 wkg:3520229368 wkg:3520229371 wkg:3520229385 wkg:3520229386 wkg:3520229391 wkg:3520229392 wkg:3520229904 wkg:3520229906 wkg:3520229908 wkg:3520229909 wkg:3520229911 wkg:3520229914 wkg:3520229921 wkg:3520229926 wkg:3520229948 wkg:3520229956 wkg:3520229957 wkg:3520229962 wkg:3520229963 wkg:3520229965 wkg:3520229966 wkg:3520229970 wkg:3520229977 wkg:3520229981 wkg:3520229984 wkg:3520229986 wkg:3520229991 wkg:3520229992 wkg:3520230395 wkg:3520230403 wkg:3520230409 wkg:3520230411 wkg:3520230415 wkg:3520230423 wkg:3520230428 wkg:3520230430 wkg:3520290748 wkg:3520295971 wkg:3520295984 wkg:3520297302 wkg:3520297309 wkg:3520297310 wkg:3520297326 wkg:3520297333 wkg:3520297339 wkg:3520297342 wkg:3520297343 wkg:3520297351 wkg:3520297356 wkg:3520297360 wkg:3520297366 wkg:3520297633 wkg:3520297639 wkg:3520297640 wkg:3520297653 wkg:3520297676 wkg:3520297683 wkg:3520297688 wkg:3520297692 wkg:3520298795 wkg:3520298797 wkg:3520298805} .\n",
            "    ?entity_uri wkgs:spatialObject ?geom.\n",
            "    ?geom geo:asWKT ?coordinates.\n",
            "    OPTIONAL { ?entity_uri rdf:type ?type .}\n",
            "    OPTIONAL { ?entity_uri rdfs:label ?label .}\n",
            "    OPTIONAL { ?entity_uri wkgs:nameEn ?nameEn .}\n",
            "  }\n",
            "  \n"
          ]
        },
        {
          "name": "stderr",
          "output_type": "stream",
          "text": [
            "\r 49%|████▉     | 79/162 [00:39<00:43,  1.89it/s]"
          ]
        },
        {
          "name": "stdout",
          "output_type": "stream",
          "text": [
            "(100, 5)\n",
            "\n",
            "  PREFIX uom: <http://www.opengis.net/def/uom/OGC/1.0/>\n",
            "  PREFIX wkgs: <http://www.worldkg.org/schema/>\n",
            "  PREFIX wkg: <http://www.worldkg.org/resource/>\n",
            "  PREFIX wd: <http://www.wikidata.org/wiki/>\n",
            "  PREFIX sf: <http://www.opengis.net/ont/sf#>\n",
            "  PREFIX rdfs: <http://www.w3.org/2000/01/rdf-schema#>\n",
            "  PREFIX geo: <http://www.opengis.net/ont/geosparql#>\n",
            "  PREFIX owl: <http://www.w3.org/2002/07/owl#>\n",
            "  PREFIX rdf: <http://www.w3.org/1999/02/22-rdf-syntax-ns#>\n",
            "  SELECT DISTINCT ?entity_uri ?type ?label ?nameEn ?coordinates WHERE {\n",
            "    VALUES ?entity_uri {wkg:3520298809 wkg:3520298811 wkg:3520298812 wkg:3520298816 wkg:3520298824 wkg:3520637573 wkg:3520715388 wkg:3521162000 wkg:3521162009 wkg:3521162020 wkg:3521162022 wkg:3521162030 wkg:3521162037 wkg:3521162051 wkg:3521162064 wkg:3521162065 wkg:3521295499 wkg:3521295501 wkg:3521297364 wkg:3521297367 wkg:3521297375 wkg:3521297376 wkg:3521297511 wkg:3521297519 wkg:3521297522 wkg:3521297526 wkg:3521370238 wkg:3521370239 wkg:3521370241 wkg:3521370246 wkg:3521370261 wkg:3521370270 wkg:3521370272 wkg:3521370273 wkg:3521487703 wkg:3521487709 wkg:3521487710 wkg:3521617602 wkg:3521651751 wkg:3522175068 wkg:3522262956 wkg:3522340564 wkg:3522340565 wkg:3522340569 wkg:3522340574 wkg:3522340576 wkg:3522340589 wkg:3522340590 wkg:3522340591 wkg:3522343213 wkg:3522343218 wkg:3522343235 wkg:3522343237 wkg:3522343239 wkg:3522343261 wkg:3522343262 wkg:3522343270 wkg:3522343275 wkg:3522343277 wkg:3522343287 wkg:3522343288 wkg:3522399744 wkg:3522399753 wkg:3522399762 wkg:3522399766 wkg:3522399775 wkg:3523333407 wkg:3523333416 wkg:3523333426 wkg:3523333430 wkg:3523333437 wkg:3523333440 wkg:3523333441 wkg:3523333446 wkg:3523333452 wkg:3523333454 wkg:3523333462 wkg:3523333472 wkg:3523333485 wkg:3523333605 wkg:3523333607 wkg:3523333609 wkg:3523333616 wkg:3523333618 wkg:3523333636 wkg:3523333637 wkg:3523333641 wkg:3523333648 wkg:3523333655 wkg:3523333656 wkg:3523333657 wkg:3523333659 wkg:3523688647 wkg:3523688648 wkg:3523688655 wkg:3523688656 wkg:3523688657 wkg:3523688659 wkg:3523688664 wkg:3523688667} .\n",
            "    ?entity_uri wkgs:spatialObject ?geom.\n",
            "    ?geom geo:asWKT ?coordinates.\n",
            "    OPTIONAL { ?entity_uri rdf:type ?type .}\n",
            "    OPTIONAL { ?entity_uri rdfs:label ?label .}\n",
            "    OPTIONAL { ?entity_uri wkgs:nameEn ?nameEn .}\n",
            "  }\n",
            "  \n"
          ]
        },
        {
          "name": "stderr",
          "output_type": "stream",
          "text": [
            "\r 49%|████▉     | 80/162 [00:40<00:43,  1.88it/s]"
          ]
        },
        {
          "name": "stdout",
          "output_type": "stream",
          "text": [
            "(100, 5)\n",
            "\n",
            "  PREFIX uom: <http://www.opengis.net/def/uom/OGC/1.0/>\n",
            "  PREFIX wkgs: <http://www.worldkg.org/schema/>\n",
            "  PREFIX wkg: <http://www.worldkg.org/resource/>\n",
            "  PREFIX wd: <http://www.wikidata.org/wiki/>\n",
            "  PREFIX sf: <http://www.opengis.net/ont/sf#>\n",
            "  PREFIX rdfs: <http://www.w3.org/2000/01/rdf-schema#>\n",
            "  PREFIX geo: <http://www.opengis.net/ont/geosparql#>\n",
            "  PREFIX owl: <http://www.w3.org/2002/07/owl#>\n",
            "  PREFIX rdf: <http://www.w3.org/1999/02/22-rdf-syntax-ns#>\n",
            "  SELECT DISTINCT ?entity_uri ?type ?label ?nameEn ?coordinates WHERE {\n",
            "    VALUES ?entity_uri {wkg:3523688670 wkg:3523688680 wkg:3523688690 wkg:3523688691 wkg:3523690295 wkg:3523690296 wkg:3523690307 wkg:3523690310 wkg:3523690311 wkg:3523690324 wkg:3523690331 wkg:3523690335 wkg:3523690496 wkg:3523690500 wkg:3523690508 wkg:3523690509 wkg:3523690512 wkg:3523690515 wkg:3523690518 wkg:3523690527 wkg:3523690539 wkg:3523690542 wkg:3523690554 wkg:3523690557 wkg:3523690562 wkg:3523690563 wkg:3523690568 wkg:3523690572 wkg:3523690580 wkg:3523690582 wkg:3523690585 wkg:3523800849 wkg:3523800855 wkg:3523944855 wkg:3523944857 wkg:3523944858 wkg:3523944861 wkg:3523944863 wkg:3523944872 wkg:3523944875 wkg:3523944879 wkg:3523944885 wkg:3523944888 wkg:3523944890 wkg:3523951895 wkg:3524058088 wkg:3524058089 wkg:3524058396 wkg:3524058397 wkg:3524058402 wkg:3524058408 wkg:3524058409 wkg:3524058410 wkg:3524058416 wkg:3524058417 wkg:3524058419 wkg:3524058420 wkg:3524058421 wkg:3524058422 wkg:3524058426 wkg:3524058429 wkg:3524058431 wkg:3524058432 wkg:3524058433 wkg:3524058434 wkg:3524058440 wkg:3524058442 wkg:3524058453 wkg:3524058459 wkg:3524058481 wkg:3524058487 wkg:3524058491 wkg:3524059898 wkg:3524059904 wkg:3524059905 wkg:3524059906 wkg:3524059914 wkg:3524059919 wkg:3524059926 wkg:3524059929 wkg:3524059939 wkg:3524059942 wkg:3524059956 wkg:3524059960 wkg:3524059964 wkg:3524059966 wkg:3524059974 wkg:3524059979 wkg:3524059981 wkg:3524060695 wkg:3524060696 wkg:3524060697 wkg:3524060710 wkg:3524060714 wkg:3524060724 wkg:3524060728 wkg:3524060729 wkg:3524060740 wkg:3524060747 wkg:3524060759} .\n",
            "    ?entity_uri wkgs:spatialObject ?geom.\n",
            "    ?geom geo:asWKT ?coordinates.\n",
            "    OPTIONAL { ?entity_uri rdf:type ?type .}\n",
            "    OPTIONAL { ?entity_uri rdfs:label ?label .}\n",
            "    OPTIONAL { ?entity_uri wkgs:nameEn ?nameEn .}\n",
            "  }\n",
            "  \n"
          ]
        },
        {
          "name": "stderr",
          "output_type": "stream",
          "text": [
            "\r 50%|█████     | 81/162 [00:40<00:43,  1.88it/s]"
          ]
        },
        {
          "name": "stdout",
          "output_type": "stream",
          "text": [
            "(100, 5)\n",
            "\n",
            "  PREFIX uom: <http://www.opengis.net/def/uom/OGC/1.0/>\n",
            "  PREFIX wkgs: <http://www.worldkg.org/schema/>\n",
            "  PREFIX wkg: <http://www.worldkg.org/resource/>\n",
            "  PREFIX wd: <http://www.wikidata.org/wiki/>\n",
            "  PREFIX sf: <http://www.opengis.net/ont/sf#>\n",
            "  PREFIX rdfs: <http://www.w3.org/2000/01/rdf-schema#>\n",
            "  PREFIX geo: <http://www.opengis.net/ont/geosparql#>\n",
            "  PREFIX owl: <http://www.w3.org/2002/07/owl#>\n",
            "  PREFIX rdf: <http://www.w3.org/1999/02/22-rdf-syntax-ns#>\n",
            "  SELECT DISTINCT ?entity_uri ?type ?label ?nameEn ?coordinates WHERE {\n",
            "    VALUES ?entity_uri {wkg:3524060760 wkg:3524060765 wkg:3524060766 wkg:3524060770 wkg:3524060772 wkg:3524060774 wkg:3524759430 wkg:3524794279 wkg:3524794747 wkg:3524794753 wkg:3524794754 wkg:3524794759 wkg:3524794768 wkg:3524794769 wkg:3524794776 wkg:3524794777 wkg:3524794783 wkg:3524794791 wkg:3524794963 wkg:3524794964 wkg:3524794965 wkg:3524794970 wkg:3524794973 wkg:3524794987 wkg:3524794988 wkg:3524794989 wkg:3524794994 wkg:3524794996 wkg:3524795004 wkg:3524795006 wkg:3524795007 wkg:3524795015 wkg:3524795022 wkg:3524795023 wkg:3524795033 wkg:3524795047 wkg:3524795050 wkg:3524795099 wkg:3524795108 wkg:3524795111 wkg:3524795122 wkg:3524795124 wkg:3524795128 wkg:3524795129 wkg:3524795131 wkg:3524795135 wkg:3524795136 wkg:3525485286 wkg:3525485996 wkg:3525486004 wkg:3525486006 wkg:3525486009 wkg:3525486010 wkg:3525486013 wkg:3525486014 wkg:3525486021 wkg:3525486024 wkg:3525486033 wkg:3525486035 wkg:3525486055 wkg:3525486061 wkg:3525486068 wkg:3525486070 wkg:3525486080 wkg:3525486086 wkg:3525486092 wkg:3525486193 wkg:3525486194 wkg:3525486196 wkg:3525486200 wkg:3525486201 wkg:3525486205 wkg:3525486208 wkg:3525486220 wkg:3525486230 wkg:3525486233 wkg:3525486239 wkg:3525486241 wkg:3525486244 wkg:3525486245 wkg:3525486247 wkg:3525486250 wkg:3525486253 wkg:3525486269 wkg:3525486271 wkg:3525486273 wkg:3525486274 wkg:3525486280 wkg:3525486289 wkg:3525486293 wkg:3525486305 wkg:3525486308 wkg:3525486323 wkg:3525486328 wkg:3525504034 wkg:3525504047 wkg:3525504058 wkg:3525504065 wkg:3525504080 wkg:3525504082} .\n",
            "    ?entity_uri wkgs:spatialObject ?geom.\n",
            "    ?geom geo:asWKT ?coordinates.\n",
            "    OPTIONAL { ?entity_uri rdf:type ?type .}\n",
            "    OPTIONAL { ?entity_uri rdfs:label ?label .}\n",
            "    OPTIONAL { ?entity_uri wkgs:nameEn ?nameEn .}\n",
            "  }\n",
            "  \n"
          ]
        },
        {
          "name": "stderr",
          "output_type": "stream",
          "text": [
            "\r 51%|█████     | 82/162 [00:41<00:42,  1.89it/s]"
          ]
        },
        {
          "name": "stdout",
          "output_type": "stream",
          "text": [
            "(100, 5)\n",
            "\n",
            "  PREFIX uom: <http://www.opengis.net/def/uom/OGC/1.0/>\n",
            "  PREFIX wkgs: <http://www.worldkg.org/schema/>\n",
            "  PREFIX wkg: <http://www.worldkg.org/resource/>\n",
            "  PREFIX wd: <http://www.wikidata.org/wiki/>\n",
            "  PREFIX sf: <http://www.opengis.net/ont/sf#>\n",
            "  PREFIX rdfs: <http://www.w3.org/2000/01/rdf-schema#>\n",
            "  PREFIX geo: <http://www.opengis.net/ont/geosparql#>\n",
            "  PREFIX owl: <http://www.w3.org/2002/07/owl#>\n",
            "  PREFIX rdf: <http://www.w3.org/1999/02/22-rdf-syntax-ns#>\n",
            "  SELECT DISTINCT ?entity_uri ?type ?label ?nameEn ?coordinates WHERE {\n",
            "    VALUES ?entity_uri {wkg:3525504085 wkg:3525642208 wkg:3525642209 wkg:3525642214 wkg:3525642215 wkg:3525642220 wkg:3525642223 wkg:3525642227 wkg:3525642230 wkg:3525642239 wkg:3525642240 wkg:3525642249 wkg:3525642254 wkg:3525642272 wkg:3525642275 wkg:3525644429 wkg:3525644436 wkg:3525644440 wkg:3525644441 wkg:3525644447 wkg:3525644455 wkg:3525644461 wkg:3525644469 wkg:3525644475 wkg:3525644477 wkg:3525644481 wkg:3525644485 wkg:3525649373 wkg:3525649376 wkg:3525649384 wkg:3525649388 wkg:3525649398 wkg:3525649399 wkg:3525649402 wkg:3525649404 wkg:3525649407 wkg:3525649420 wkg:3525649423 wkg:3525649428 wkg:3525649433 wkg:3525649434 wkg:3525649439 wkg:3525649441 wkg:3525649455 wkg:3525649460 wkg:3525649462 wkg:3525649474 wkg:3525649475 wkg:3525649478 wkg:3525649493 wkg:3525649501 wkg:3525649503 wkg:3525649514 wkg:3525649515 wkg:3525649520 wkg:3525649523 wkg:3525649699 wkg:3525649701 wkg:3525649702 wkg:3525649704 wkg:3525649705 wkg:3525649712 wkg:3525649716 wkg:3525649718 wkg:3525649720 wkg:3525649725 wkg:3525649736 wkg:3525649737 wkg:3525649739 wkg:3525649742 wkg:3525649744 wkg:3525649746 wkg:3525649747 wkg:3525649749 wkg:3525649750 wkg:3525649753 wkg:3525649756 wkg:3525649761 wkg:3525649767 wkg:3525649769 wkg:3526055475 wkg:3526055477 wkg:3526055478 wkg:3526055485 wkg:3526055486 wkg:3526055494 wkg:3526055524 wkg:3526055530 wkg:3526214257 wkg:3526214265 wkg:3526214267 wkg:3526214268 wkg:3526214269 wkg:3526214270 wkg:3526214278 wkg:3526214286 wkg:3526214288 wkg:3526214291 wkg:352648366 wkg:3529994443} .\n",
            "    ?entity_uri wkgs:spatialObject ?geom.\n",
            "    ?geom geo:asWKT ?coordinates.\n",
            "    OPTIONAL { ?entity_uri rdf:type ?type .}\n",
            "    OPTIONAL { ?entity_uri rdfs:label ?label .}\n",
            "    OPTIONAL { ?entity_uri wkgs:nameEn ?nameEn .}\n",
            "  }\n",
            "  \n"
          ]
        },
        {
          "name": "stderr",
          "output_type": "stream",
          "text": [
            "\r 51%|█████     | 83/162 [00:41<00:41,  1.90it/s]"
          ]
        },
        {
          "name": "stdout",
          "output_type": "stream",
          "text": [
            "(100, 5)\n",
            "\n",
            "  PREFIX uom: <http://www.opengis.net/def/uom/OGC/1.0/>\n",
            "  PREFIX wkgs: <http://www.worldkg.org/schema/>\n",
            "  PREFIX wkg: <http://www.worldkg.org/resource/>\n",
            "  PREFIX wd: <http://www.wikidata.org/wiki/>\n",
            "  PREFIX sf: <http://www.opengis.net/ont/sf#>\n",
            "  PREFIX rdfs: <http://www.w3.org/2000/01/rdf-schema#>\n",
            "  PREFIX geo: <http://www.opengis.net/ont/geosparql#>\n",
            "  PREFIX owl: <http://www.w3.org/2002/07/owl#>\n",
            "  PREFIX rdf: <http://www.w3.org/1999/02/22-rdf-syntax-ns#>\n",
            "  SELECT DISTINCT ?entity_uri ?type ?label ?nameEn ?coordinates WHERE {\n",
            "    VALUES ?entity_uri {wkg:3529994451 wkg:353046743 wkg:3530560902 wkg:3530560911 wkg:3530560912 wkg:3530560913 wkg:3530560916 wkg:3530560920 wkg:3530560926 wkg:3530560928 wkg:3530747435 wkg:3530747446 wkg:3530747451 wkg:3530999236 wkg:3530999243 wkg:3530999246 wkg:3530999247 wkg:3530999250 wkg:3530999252 wkg:3530999261 wkg:3530999265 wkg:3530999279 wkg:3530999280 wkg:3530999287 wkg:3530999288 wkg:3530999289 wkg:3531006595 wkg:3531166339 wkg:3531166349 wkg:3531166350 wkg:3531166363 wkg:3531166367 wkg:3531166372 wkg:3531166374 wkg:3531166377 wkg:3531166379 wkg:3531166380 wkg:3531166389 wkg:3531168094 wkg:3531168095 wkg:3533478901 wkg:3537202800 wkg:3537202803 wkg:3544155905 wkg:3544155907 wkg:3544155912 wkg:3544155914 wkg:3544155917 wkg:3544155923 wkg:3544155938 wkg:3544155943 wkg:3544155944 wkg:3544155946 wkg:3544155950 wkg:3544155963 wkg:3544155965 wkg:3544155969 wkg:3544155972 wkg:3544155974 wkg:3544155977 wkg:3544155978 wkg:3544155980 wkg:3544155987 wkg:3544167496 wkg:3544167497 wkg:3544167500 wkg:3544167502 wkg:3544167512 wkg:3544167519 wkg:3544167520 wkg:3544167528 wkg:3544167532 wkg:3544167533 wkg:3544167534 wkg:3544167541 wkg:3544167542 wkg:3544188329 wkg:3544188330 wkg:3544188336 wkg:3544188344 wkg:3544188348 wkg:3544188363 wkg:3544188378 wkg:3544188381 wkg:3544188383 wkg:3544188392 wkg:3544190499 wkg:3544190510 wkg:3544190522 wkg:3544190523 wkg:3544190534 wkg:3544190536 wkg:3544190548 wkg:3544190549 wkg:3544190555 wkg:3544190556 wkg:3544190561 wkg:3544190564 wkg:3544190566 wkg:3544190584} .\n",
            "    ?entity_uri wkgs:spatialObject ?geom.\n",
            "    ?geom geo:asWKT ?coordinates.\n",
            "    OPTIONAL { ?entity_uri rdf:type ?type .}\n",
            "    OPTIONAL { ?entity_uri rdfs:label ?label .}\n",
            "    OPTIONAL { ?entity_uri wkgs:nameEn ?nameEn .}\n",
            "  }\n",
            "  \n"
          ]
        },
        {
          "name": "stderr",
          "output_type": "stream",
          "text": [
            "\r 52%|█████▏    | 84/162 [00:42<00:40,  1.91it/s]"
          ]
        },
        {
          "name": "stdout",
          "output_type": "stream",
          "text": [
            "(100, 5)\n",
            "\n",
            "  PREFIX uom: <http://www.opengis.net/def/uom/OGC/1.0/>\n",
            "  PREFIX wkgs: <http://www.worldkg.org/schema/>\n",
            "  PREFIX wkg: <http://www.worldkg.org/resource/>\n",
            "  PREFIX wd: <http://www.wikidata.org/wiki/>\n",
            "  PREFIX sf: <http://www.opengis.net/ont/sf#>\n",
            "  PREFIX rdfs: <http://www.w3.org/2000/01/rdf-schema#>\n",
            "  PREFIX geo: <http://www.opengis.net/ont/geosparql#>\n",
            "  PREFIX owl: <http://www.w3.org/2002/07/owl#>\n",
            "  PREFIX rdf: <http://www.w3.org/1999/02/22-rdf-syntax-ns#>\n",
            "  SELECT DISTINCT ?entity_uri ?type ?label ?nameEn ?coordinates WHERE {\n",
            "    VALUES ?entity_uri {wkg:3544266346 wkg:3544266350 wkg:3544266351 wkg:3544266352 wkg:3544266354 wkg:3544266367 wkg:3544266379 wkg:3544493021 wkg:3544493023 wkg:3544493035 wkg:3544493054 wkg:3544493057 wkg:3544493061 wkg:3544493062 wkg:3544493073 wkg:3544493092 wkg:3544494593 wkg:3544494604 wkg:3544494608 wkg:3544572205 wkg:3544572208 wkg:3544572209 wkg:3544572210 wkg:3544572213 wkg:3544572228 wkg:3544572230 wkg:3544572232 wkg:3544572242 wkg:3544572256 wkg:3544572265 wkg:3544572273 wkg:3544572275 wkg:3544572276 wkg:3544572283 wkg:3544572290 wkg:3544574793 wkg:3544574798 wkg:3544615987 wkg:3544615988 wkg:3544615994 wkg:3544615997 wkg:3544615998 wkg:3544616003 wkg:3544616009 wkg:3544616011 wkg:3544616024 wkg:3544616029 wkg:3544616034 wkg:3544616039 wkg:3544616041 wkg:3544616043 wkg:3544616045 wkg:3544616047 wkg:3544743422 wkg:3544743423 wkg:3544743437 wkg:3544743454 wkg:3544743461 wkg:3544743462 wkg:3544743478 wkg:3544743483 wkg:3544744698 wkg:3545225345 wkg:3545225352 wkg:3545225354 wkg:3545225360 wkg:3545225364 wkg:3545225366 wkg:3545225373 wkg:3545225376 wkg:3545225378 wkg:3545225382 wkg:3545225383 wkg:3545225389 wkg:3545264645 wkg:3545264650 wkg:3545264660 wkg:3545264675 wkg:3545486607 wkg:354634829 wkg:354744153 wkg:354744174 wkg:354744183 wkg:3551570267 wkg:3551570273 wkg:3551570283 wkg:3551640137 wkg:3551640139 wkg:3551640150 wkg:3551640160 wkg:3551669628 wkg:3551669630 wkg:3551669634 wkg:3551669635 wkg:3551669640 wkg:3551669643 wkg:3551694365 wkg:3551694367 wkg:3551694368 wkg:3551694378} .\n",
            "    ?entity_uri wkgs:spatialObject ?geom.\n",
            "    ?geom geo:asWKT ?coordinates.\n",
            "    OPTIONAL { ?entity_uri rdf:type ?type .}\n",
            "    OPTIONAL { ?entity_uri rdfs:label ?label .}\n",
            "    OPTIONAL { ?entity_uri wkgs:nameEn ?nameEn .}\n",
            "  }\n",
            "  \n"
          ]
        },
        {
          "name": "stderr",
          "output_type": "stream",
          "text": [
            "\r 52%|█████▏    | 85/162 [00:42<00:38,  1.98it/s]"
          ]
        },
        {
          "name": "stdout",
          "output_type": "stream",
          "text": [
            "(100, 5)\n",
            "\n",
            "  PREFIX uom: <http://www.opengis.net/def/uom/OGC/1.0/>\n",
            "  PREFIX wkgs: <http://www.worldkg.org/schema/>\n",
            "  PREFIX wkg: <http://www.worldkg.org/resource/>\n",
            "  PREFIX wd: <http://www.wikidata.org/wiki/>\n",
            "  PREFIX sf: <http://www.opengis.net/ont/sf#>\n",
            "  PREFIX rdfs: <http://www.w3.org/2000/01/rdf-schema#>\n",
            "  PREFIX geo: <http://www.opengis.net/ont/geosparql#>\n",
            "  PREFIX owl: <http://www.w3.org/2002/07/owl#>\n",
            "  PREFIX rdf: <http://www.w3.org/1999/02/22-rdf-syntax-ns#>\n",
            "  SELECT DISTINCT ?entity_uri ?type ?label ?nameEn ?coordinates WHERE {\n",
            "    VALUES ?entity_uri {wkg:3551728903 wkg:3551800994 wkg:3551800996 wkg:3551801005 wkg:3551801024 wkg:3551801025 wkg:3551801032 wkg:3551801033 wkg:3551801049 wkg:3551801053 wkg:3551801054 wkg:3551801061 wkg:3551801062 wkg:3551801077 wkg:3551801079 wkg:3551801083 wkg:3551801092 wkg:3551853636 wkg:3551853639 wkg:3551853646 wkg:3551853648 wkg:3551853652 wkg:3551853658 wkg:3551853659 wkg:3551885793 wkg:3551885795 wkg:3551898417 wkg:3551921455 wkg:3551960827 wkg:3551960829 wkg:3551960835 wkg:3551960839 wkg:3551960840 wkg:3551960845 wkg:3551960846 wkg:3551960847 wkg:3551960852 wkg:355352471 wkg:3554525269 wkg:3554525274 wkg:3554525285 wkg:3554525396 wkg:3554525399 wkg:3554525400 wkg:3554525408 wkg:3554567442 wkg:3554567445 wkg:3554567446 wkg:3554567448 wkg:3554567464 wkg:3554567471 wkg:3554567482 wkg:3554567484 wkg:3554606934 wkg:3554606949 wkg:3554606956 wkg:3554606957 wkg:3554606961 wkg:3554606963 wkg:3554606965 wkg:3554606966 wkg:3554606971 wkg:3554606974 wkg:3554606983 wkg:3554606987 wkg:3554606989 wkg:3554606991 wkg:3554607495 wkg:3554607497 wkg:3554607498 wkg:3554607506 wkg:3554607516 wkg:3554683517 wkg:3554683525 wkg:3554683526 wkg:3554683531 wkg:3554683540 wkg:3554683546 wkg:3554683551 wkg:3554683557 wkg:3554683559 wkg:3554683563 wkg:3554683567 wkg:3554683568 wkg:3554683575 wkg:3554683579 wkg:3554683583 wkg:3554683587 wkg:3554683589 wkg:3554683994 wkg:3554683998 wkg:3554684009 wkg:3554684012 wkg:3554684019 wkg:3554684036 wkg:3554684037 wkg:3554684040 wkg:3554684043 wkg:3554684044 wkg:3554684053} .\n",
            "    ?entity_uri wkgs:spatialObject ?geom.\n",
            "    ?geom geo:asWKT ?coordinates.\n",
            "    OPTIONAL { ?entity_uri rdf:type ?type .}\n",
            "    OPTIONAL { ?entity_uri rdfs:label ?label .}\n",
            "    OPTIONAL { ?entity_uri wkgs:nameEn ?nameEn .}\n",
            "  }\n",
            "  \n"
          ]
        },
        {
          "name": "stderr",
          "output_type": "stream",
          "text": [
            "\r 53%|█████▎    | 86/162 [00:43<00:37,  2.03it/s]"
          ]
        },
        {
          "name": "stdout",
          "output_type": "stream",
          "text": [
            "(100, 5)\n",
            "\n",
            "  PREFIX uom: <http://www.opengis.net/def/uom/OGC/1.0/>\n",
            "  PREFIX wkgs: <http://www.worldkg.org/schema/>\n",
            "  PREFIX wkg: <http://www.worldkg.org/resource/>\n",
            "  PREFIX wd: <http://www.wikidata.org/wiki/>\n",
            "  PREFIX sf: <http://www.opengis.net/ont/sf#>\n",
            "  PREFIX rdfs: <http://www.w3.org/2000/01/rdf-schema#>\n",
            "  PREFIX geo: <http://www.opengis.net/ont/geosparql#>\n",
            "  PREFIX owl: <http://www.w3.org/2002/07/owl#>\n",
            "  PREFIX rdf: <http://www.w3.org/1999/02/22-rdf-syntax-ns#>\n",
            "  SELECT DISTINCT ?entity_uri ?type ?label ?nameEn ?coordinates WHERE {\n",
            "    VALUES ?entity_uri {wkg:3554684056 wkg:3554684057 wkg:3554684058 wkg:3554684060 wkg:3554684063 wkg:3554684066 wkg:3554684071 wkg:3554684074 wkg:3554684078 wkg:3554684083 wkg:3554684086 wkg:3554684088 wkg:3554777499 wkg:3554777504 wkg:3554777507 wkg:3554777508 wkg:3554777512 wkg:3554777523 wkg:3554777525 wkg:3554777541 wkg:3554777545 wkg:3554777546 wkg:3554777556 wkg:3554777558 wkg:3554777559 wkg:3554777580 wkg:3554777585 wkg:3554777589 wkg:3554779995 wkg:3554779996 wkg:3554780000 wkg:3554780004 wkg:3554780022 wkg:3554780027 wkg:3554780029 wkg:3554780036 wkg:3554780043 wkg:3554780044 wkg:3554780045 wkg:3554780049 wkg:3554780058 wkg:3554780059 wkg:3554873477 wkg:3554873489 wkg:3554873491 wkg:3554874495 wkg:3554874498 wkg:3554874499 wkg:3554874509 wkg:3554874526 wkg:3554874530 wkg:3554874534 wkg:3554874550 wkg:3555548828 wkg:3556177256 wkg:3556177258 wkg:3556177260 wkg:3556177273 wkg:3556177276 wkg:3556177277 wkg:3556177289 wkg:3556178393 wkg:3556178399 wkg:3556178402 wkg:3556178403 wkg:3556178406 wkg:3556178411 wkg:3556178414 wkg:3556178415 wkg:3556178418 wkg:3556178419 wkg:3556238588 wkg:3556238590 wkg:3556238591 wkg:3556245393 wkg:3556245396 wkg:3556245407 wkg:3556245414 wkg:3556245425 wkg:3556245426 wkg:3556245427 wkg:3556245428 wkg:3556245429 wkg:3556245430 wkg:3556245432 wkg:3556245436 wkg:3556245440 wkg:3556245441 wkg:3556245445 wkg:3556245447 wkg:3556245450 wkg:355984518 wkg:356013610 wkg:3561109617 wkg:3561115955 wkg:3561116217 wkg:3561117402 wkg:3561117831 wkg:3561118861 wkg:3561128049} .\n",
            "    ?entity_uri wkgs:spatialObject ?geom.\n",
            "    ?geom geo:asWKT ?coordinates.\n",
            "    OPTIONAL { ?entity_uri rdf:type ?type .}\n",
            "    OPTIONAL { ?entity_uri rdfs:label ?label .}\n",
            "    OPTIONAL { ?entity_uri wkgs:nameEn ?nameEn .}\n",
            "  }\n",
            "  \n"
          ]
        },
        {
          "name": "stderr",
          "output_type": "stream",
          "text": [
            "\r 54%|█████▎    | 87/162 [00:43<00:36,  2.03it/s]"
          ]
        },
        {
          "name": "stdout",
          "output_type": "stream",
          "text": [
            "(100, 5)\n",
            "\n",
            "  PREFIX uom: <http://www.opengis.net/def/uom/OGC/1.0/>\n",
            "  PREFIX wkgs: <http://www.worldkg.org/schema/>\n",
            "  PREFIX wkg: <http://www.worldkg.org/resource/>\n",
            "  PREFIX wd: <http://www.wikidata.org/wiki/>\n",
            "  PREFIX sf: <http://www.opengis.net/ont/sf#>\n",
            "  PREFIX rdfs: <http://www.w3.org/2000/01/rdf-schema#>\n",
            "  PREFIX geo: <http://www.opengis.net/ont/geosparql#>\n",
            "  PREFIX owl: <http://www.w3.org/2002/07/owl#>\n",
            "  PREFIX rdf: <http://www.w3.org/1999/02/22-rdf-syntax-ns#>\n",
            "  SELECT DISTINCT ?entity_uri ?type ?label ?nameEn ?coordinates WHERE {\n",
            "    VALUES ?entity_uri {wkg:3561133183 wkg:356280066 wkg:3562952193 wkg:3564332139 wkg:356544710 wkg:356545500 wkg:356545641 wkg:356546365 wkg:356547066 wkg:3565830546 wkg:3565833487 wkg:3567489807 wkg:3570039894 wkg:3570998402 wkg:357444883 wkg:3578349082 wkg:3578376047 wkg:3579071093 wkg:3579158761 wkg:3579214441 wkg:3579522298 wkg:3585836038 wkg:3588043678 wkg:3590215201 wkg:3591821301 wkg:3594220802 wkg:3594223693 wkg:3594330284 wkg:359511128 wkg:359517195 wkg:3595223881 wkg:359539732 wkg:3597653920 wkg:3597653921 wkg:3598127579 wkg:3598136422 wkg:3598147374 wkg:3598540756 wkg:3599570363 wkg:3602725701 wkg:3603561823 wkg:3608967121 wkg:361141635 wkg:3612238437 wkg:361237922 wkg:361391020 wkg:361488016 wkg:361518117 wkg:3618218332 wkg:3618237628 wkg:3621414792 wkg:3621492597 wkg:3621496395 wkg:3621539017 wkg:3621544498 wkg:3621544499 wkg:3621688356 wkg:3622696744 wkg:3623091453 wkg:3625599833 wkg:3625599837 wkg:3625599844 wkg:3625599852 wkg:3625629865 wkg:3625629868 wkg:3625629869 wkg:3625629871 wkg:3625629888 wkg:3625629892 wkg:3625659972 wkg:3625659977 wkg:3625659981 wkg:3625659984 wkg:3627112164 wkg:3627502024 wkg:3627502026 wkg:3627502031 wkg:3627502039 wkg:3627502047 wkg:3627502048 wkg:3627545515 wkg:3627545524 wkg:3627545530 wkg:3628065632 wkg:3628338493 wkg:3631642907 wkg:3632098318 wkg:3632098395 wkg:3632098424 wkg:3633719658 wkg:3634198296 wkg:3634198297 wkg:3634198300 wkg:3634198301 wkg:3634198302 wkg:3634251625 wkg:3634278008 wkg:3634797201 wkg:3634823666 wkg:3635197511} .\n",
            "    ?entity_uri wkgs:spatialObject ?geom.\n",
            "    ?geom geo:asWKT ?coordinates.\n",
            "    OPTIONAL { ?entity_uri rdf:type ?type .}\n",
            "    OPTIONAL { ?entity_uri rdfs:label ?label .}\n",
            "    OPTIONAL { ?entity_uri wkgs:nameEn ?nameEn .}\n",
            "  }\n",
            "  \n"
          ]
        },
        {
          "name": "stderr",
          "output_type": "stream",
          "text": [
            "\r 54%|█████▍    | 88/162 [00:44<00:37,  1.97it/s]"
          ]
        },
        {
          "name": "stdout",
          "output_type": "stream",
          "text": [
            "(102, 5)\n",
            "\n",
            "  PREFIX uom: <http://www.opengis.net/def/uom/OGC/1.0/>\n",
            "  PREFIX wkgs: <http://www.worldkg.org/schema/>\n",
            "  PREFIX wkg: <http://www.worldkg.org/resource/>\n",
            "  PREFIX wd: <http://www.wikidata.org/wiki/>\n",
            "  PREFIX sf: <http://www.opengis.net/ont/sf#>\n",
            "  PREFIX rdfs: <http://www.w3.org/2000/01/rdf-schema#>\n",
            "  PREFIX geo: <http://www.opengis.net/ont/geosparql#>\n",
            "  PREFIX owl: <http://www.w3.org/2002/07/owl#>\n",
            "  PREFIX rdf: <http://www.w3.org/1999/02/22-rdf-syntax-ns#>\n",
            "  SELECT DISTINCT ?entity_uri ?type ?label ?nameEn ?coordinates WHERE {\n",
            "    VALUES ?entity_uri {wkg:3639033439 wkg:3639034993 wkg:3639369781 wkg:3639380390 wkg:3639392942 wkg:3639392943 wkg:364088660 wkg:3641016604 wkg:3641103657 wkg:3641150285 wkg:3642070028 wkg:3644334590 wkg:3645342852 wkg:3647000192 wkg:3647834941 wkg:3647945286 wkg:3647945298 wkg:3648159377 wkg:3649436724 wkg:3649443429 wkg:3651177618 wkg:3651177624 wkg:3651212550 wkg:3651228873 wkg:3651228874 wkg:3651241364 wkg:3651244030 wkg:3652643275 wkg:3653251085 wkg:36540470 wkg:3654787532 wkg:3654870833 wkg:3655225591 wkg:3655283444 wkg:3655900121 wkg:365860607 wkg:3660114003 wkg:3660247949 wkg:3660248002 wkg:3660248004 wkg:3660290489 wkg:3660290491 wkg:3660290496 wkg:3660290500 wkg:3661285344 wkg:3661752088 wkg:3661878619 wkg:3661902770 wkg:3661906561 wkg:3662268734 wkg:3664367076 wkg:3664511772 wkg:3664530934 wkg:3664936440 wkg:3665107550 wkg:366513007 wkg:366513195 wkg:366514518 wkg:3665161727 wkg:3665161733 wkg:3665161740 wkg:3665161801 wkg:3665516546 wkg:3665677529 wkg:3666779281 wkg:3666779283 wkg:3666831439 wkg:3666851319 wkg:3666851323 wkg:3667615664 wkg:3668219418 wkg:3668236131 wkg:3668273231 wkg:3668275347 wkg:3668312298 wkg:366910826 wkg:3669218777 wkg:3669639796 wkg:3669734161 wkg:3669827280 wkg:3669930643 wkg:3669930647 wkg:36714827 wkg:3671752866 wkg:3673655223 wkg:3675563199 wkg:3675848658 wkg:3675973918 wkg:3677466591 wkg:3678355710 wkg:367915244 wkg:3679733176 wkg:3679877598 wkg:3680033592 wkg:3681105048 wkg:368264682 wkg:368387243 wkg:3685989187 wkg:3685992027 wkg:3686497126} .\n",
            "    ?entity_uri wkgs:spatialObject ?geom.\n",
            "    ?geom geo:asWKT ?coordinates.\n",
            "    OPTIONAL { ?entity_uri rdf:type ?type .}\n",
            "    OPTIONAL { ?entity_uri rdfs:label ?label .}\n",
            "    OPTIONAL { ?entity_uri wkgs:nameEn ?nameEn .}\n",
            "  }\n",
            "  \n"
          ]
        },
        {
          "name": "stderr",
          "output_type": "stream",
          "text": [
            "\r 55%|█████▍    | 89/162 [00:44<00:37,  1.95it/s]"
          ]
        },
        {
          "name": "stdout",
          "output_type": "stream",
          "text": [
            "(100, 5)\n",
            "\n",
            "  PREFIX uom: <http://www.opengis.net/def/uom/OGC/1.0/>\n",
            "  PREFIX wkgs: <http://www.worldkg.org/schema/>\n",
            "  PREFIX wkg: <http://www.worldkg.org/resource/>\n",
            "  PREFIX wd: <http://www.wikidata.org/wiki/>\n",
            "  PREFIX sf: <http://www.opengis.net/ont/sf#>\n",
            "  PREFIX rdfs: <http://www.w3.org/2000/01/rdf-schema#>\n",
            "  PREFIX geo: <http://www.opengis.net/ont/geosparql#>\n",
            "  PREFIX owl: <http://www.w3.org/2002/07/owl#>\n",
            "  PREFIX rdf: <http://www.w3.org/1999/02/22-rdf-syntax-ns#>\n",
            "  SELECT DISTINCT ?entity_uri ?type ?label ?nameEn ?coordinates WHERE {\n",
            "    VALUES ?entity_uri {wkg:3688877585 wkg:3688975308 wkg:3691118089 wkg:3692819555 wkg:3692975148 wkg:369488313 wkg:369490026 wkg:369497486 wkg:369498023 wkg:369498050 wkg:369499297 wkg:369504841 wkg:369505228 wkg:3695929853 wkg:36966057 wkg:36966063 wkg:36966065 wkg:36966069 wkg:3698480350 wkg:3700642263 wkg:370371730 wkg:3704071804 wkg:3704071806 wkg:3704630627 wkg:3704630628 wkg:3705956595 wkg:370890543 wkg:3710301574 wkg:3710399342 wkg:3711820630 wkg:3711840089 wkg:3712620871 wkg:3712620872 wkg:3712988249 wkg:3713011854 wkg:3713023204 wkg:3713052125 wkg:3713874128 wkg:3713900727 wkg:3713986897 wkg:3713986926 wkg:3713986993 wkg:3713987065 wkg:3714011317 wkg:3714037774 wkg:3717454632 wkg:3718335100 wkg:3721056328 wkg:3721056466 wkg:3721064527 wkg:3721157264 wkg:3721186497 wkg:3721219714 wkg:3721251262 wkg:3721985037 wkg:3722011403 wkg:3722011404 wkg:3722011634 wkg:3722011637 wkg:3722011638 wkg:3722013810 wkg:3722013815 wkg:3722014241 wkg:3722014242 wkg:3722043142 wkg:3722043218 wkg:3722043295 wkg:3722642903 wkg:3722656755 wkg:3722656763 wkg:3722680591 wkg:3722774501 wkg:3723046443 wkg:3723089043 wkg:3723089080 wkg:3723089363 wkg:3723089383 wkg:3724203653 wkg:3724205187 wkg:3724262488 wkg:3724262496 wkg:3724262515 wkg:3724382158 wkg:372484121 wkg:3726208426 wkg:3726495281 wkg:3726495282 wkg:3726495288 wkg:3726499566 wkg:3726508654 wkg:3726519171 wkg:3726588839 wkg:3727977019 wkg:3728225514 wkg:3729247682 wkg:3729358095 wkg:3730105114 wkg:3730105129 wkg:3730105142 wkg:3730105163} .\n",
            "    ?entity_uri wkgs:spatialObject ?geom.\n",
            "    ?geom geo:asWKT ?coordinates.\n",
            "    OPTIONAL { ?entity_uri rdf:type ?type .}\n",
            "    OPTIONAL { ?entity_uri rdfs:label ?label .}\n",
            "    OPTIONAL { ?entity_uri wkgs:nameEn ?nameEn .}\n",
            "  }\n",
            "  \n"
          ]
        },
        {
          "name": "stderr",
          "output_type": "stream",
          "text": [
            "\r 56%|█████▌    | 90/162 [00:45<00:37,  1.93it/s]"
          ]
        },
        {
          "name": "stdout",
          "output_type": "stream",
          "text": [
            "(100, 5)\n",
            "\n",
            "  PREFIX uom: <http://www.opengis.net/def/uom/OGC/1.0/>\n",
            "  PREFIX wkgs: <http://www.worldkg.org/schema/>\n",
            "  PREFIX wkg: <http://www.worldkg.org/resource/>\n",
            "  PREFIX wd: <http://www.wikidata.org/wiki/>\n",
            "  PREFIX sf: <http://www.opengis.net/ont/sf#>\n",
            "  PREFIX rdfs: <http://www.w3.org/2000/01/rdf-schema#>\n",
            "  PREFIX geo: <http://www.opengis.net/ont/geosparql#>\n",
            "  PREFIX owl: <http://www.w3.org/2002/07/owl#>\n",
            "  PREFIX rdf: <http://www.w3.org/1999/02/22-rdf-syntax-ns#>\n",
            "  SELECT DISTINCT ?entity_uri ?type ?label ?nameEn ?coordinates WHERE {\n",
            "    VALUES ?entity_uri {wkg:3730305894 wkg:3730406138 wkg:3730415655 wkg:3730484154 wkg:3730484155 wkg:3730484158 wkg:3730484161 wkg:3730484260 wkg:3730484264 wkg:3730484352 wkg:3731288071 wkg:3731357219 wkg:3731414498 wkg:3731414656 wkg:3731421226 wkg:3731421242 wkg:3731421244 wkg:3731421255 wkg:3731421265 wkg:3731421266 wkg:3731421276 wkg:3731421279 wkg:3731421289 wkg:3731421290 wkg:3731421294 wkg:3731421303 wkg:373155591 wkg:373192734 wkg:3735484879 wkg:373813038 wkg:373839023 wkg:373866303 wkg:373881099 wkg:373881105 wkg:3739894237 wkg:3739951822 wkg:3740054943 wkg:3740062632 wkg:3740069909 wkg:374077618 wkg:3740998276 wkg:3741013525 wkg:3741073858 wkg:3741708037 wkg:3742421951 wkg:3743676377 wkg:3743736514 wkg:3744017598 wkg:3744286472 wkg:3744286475 wkg:3744390960 wkg:3744390962 wkg:3745060036 wkg:3745101645 wkg:3745264677 wkg:3746085868 wkg:3746208884 wkg:3746208888 wkg:3748291161 wkg:3748319347 wkg:3748319351 wkg:3748320437 wkg:3751126829 wkg:3754249417 wkg:3754730534 wkg:375683387 wkg:3758610606 wkg:3761289699 wkg:3768477406 wkg:3768486819 wkg:3768872465 wkg:3769032458 wkg:3769069275 wkg:3769275725 wkg:3769921347 wkg:3769921348 wkg:3770163783 wkg:3770239340 wkg:3770256047 wkg:3771631473 wkg:3771670957 wkg:3772309281 wkg:3772373027 wkg:3773034902 wkg:3773124038 wkg:3774857939 wkg:3774857947 wkg:3775269511 wkg:3775274638 wkg:3776277812 wkg:377699035 wkg:377701121 wkg:3777397301 wkg:3777710166 wkg:3781159974 wkg:3783462051 wkg:3784859942 wkg:3784983384 wkg:3785620361 wkg:378692030} .\n",
            "    ?entity_uri wkgs:spatialObject ?geom.\n",
            "    ?geom geo:asWKT ?coordinates.\n",
            "    OPTIONAL { ?entity_uri rdf:type ?type .}\n",
            "    OPTIONAL { ?entity_uri rdfs:label ?label .}\n",
            "    OPTIONAL { ?entity_uri wkgs:nameEn ?nameEn .}\n",
            "  }\n",
            "  \n"
          ]
        },
        {
          "name": "stderr",
          "output_type": "stream",
          "text": [
            "\r 56%|█████▌    | 91/162 [00:45<00:37,  1.91it/s]"
          ]
        },
        {
          "name": "stdout",
          "output_type": "stream",
          "text": [
            "(101, 5)\n",
            "\n",
            "  PREFIX uom: <http://www.opengis.net/def/uom/OGC/1.0/>\n",
            "  PREFIX wkgs: <http://www.worldkg.org/schema/>\n",
            "  PREFIX wkg: <http://www.worldkg.org/resource/>\n",
            "  PREFIX wd: <http://www.wikidata.org/wiki/>\n",
            "  PREFIX sf: <http://www.opengis.net/ont/sf#>\n",
            "  PREFIX rdfs: <http://www.w3.org/2000/01/rdf-schema#>\n",
            "  PREFIX geo: <http://www.opengis.net/ont/geosparql#>\n",
            "  PREFIX owl: <http://www.w3.org/2002/07/owl#>\n",
            "  PREFIX rdf: <http://www.w3.org/1999/02/22-rdf-syntax-ns#>\n",
            "  SELECT DISTINCT ?entity_uri ?type ?label ?nameEn ?coordinates WHERE {\n",
            "    VALUES ?entity_uri {wkg:378724573 wkg:3790541288 wkg:3790546049 wkg:3791489331 wkg:3791489336 wkg:3791489341 wkg:3791489342 wkg:3791489346 wkg:3793669181 wkg:3793990362 wkg:3795726328 wkg:3796781468 wkg:3797156694 wkg:3797405931 wkg:3800616970 wkg:3803000546 wkg:380447820 wkg:380454311 wkg:3804742293 wkg:3804901374 wkg:3805428942 wkg:3807227814 wkg:3807464897 wkg:3807493632 wkg:3807681862 wkg:3808229364 wkg:3809846360 wkg:3810768597 wkg:3811681759 wkg:3813283242 wkg:3813910102 wkg:3813910104 wkg:3814415418 wkg:3815543814 wkg:3817172234 wkg:381911277 wkg:381911282 wkg:381911285 wkg:381922473 wkg:3825984538 wkg:3825986167 wkg:3829184398 wkg:383041800 wkg:383041811 wkg:383041816 wkg:383073179 wkg:383122718 wkg:3831357886 wkg:3832522915 wkg:3832647122 wkg:383272369 wkg:3835952803 wkg:3837226903 wkg:3837226906 wkg:3837226911 wkg:3837226919 wkg:3837226923 wkg:3837325166 wkg:3837325168 wkg:3837325172 wkg:3837325175 wkg:3837325186 wkg:3837325188 wkg:3837325190 wkg:3837325192 wkg:3837325202 wkg:3837325203 wkg:3837325206 wkg:3837325207 wkg:3837325208 wkg:3837325211 wkg:3837325213 wkg:3837325215 wkg:3837325216 wkg:3837325221 wkg:3837325226 wkg:3837478259 wkg:3837478272 wkg:3837478283 wkg:3837478292 wkg:3837478294 wkg:3837478297 wkg:3837478303 wkg:3837478306 wkg:3837478310 wkg:3837478326 wkg:3837478327 wkg:3837478337 wkg:3837478343 wkg:3837478344 wkg:3837478350 wkg:3837478463 wkg:384022159 wkg:384022169 wkg:3840689433 wkg:3840703403 wkg:3841153265 wkg:3841229048 wkg:3841239478 wkg:3841367486} .\n",
            "    ?entity_uri wkgs:spatialObject ?geom.\n",
            "    ?geom geo:asWKT ?coordinates.\n",
            "    OPTIONAL { ?entity_uri rdf:type ?type .}\n",
            "    OPTIONAL { ?entity_uri rdfs:label ?label .}\n",
            "    OPTIONAL { ?entity_uri wkgs:nameEn ?nameEn .}\n",
            "  }\n",
            "  \n"
          ]
        },
        {
          "name": "stderr",
          "output_type": "stream",
          "text": [
            "\r 57%|█████▋    | 92/162 [00:46<00:36,  1.91it/s]"
          ]
        },
        {
          "name": "stdout",
          "output_type": "stream",
          "text": [
            "(102, 5)\n",
            "\n",
            "  PREFIX uom: <http://www.opengis.net/def/uom/OGC/1.0/>\n",
            "  PREFIX wkgs: <http://www.worldkg.org/schema/>\n",
            "  PREFIX wkg: <http://www.worldkg.org/resource/>\n",
            "  PREFIX wd: <http://www.wikidata.org/wiki/>\n",
            "  PREFIX sf: <http://www.opengis.net/ont/sf#>\n",
            "  PREFIX rdfs: <http://www.w3.org/2000/01/rdf-schema#>\n",
            "  PREFIX geo: <http://www.opengis.net/ont/geosparql#>\n",
            "  PREFIX owl: <http://www.w3.org/2002/07/owl#>\n",
            "  PREFIX rdf: <http://www.w3.org/1999/02/22-rdf-syntax-ns#>\n",
            "  SELECT DISTINCT ?entity_uri ?type ?label ?nameEn ?coordinates WHERE {\n",
            "    VALUES ?entity_uri {wkg:3841367488 wkg:3841367490 wkg:3841367491 wkg:3841367494 wkg:3841367504 wkg:3841984898 wkg:3843233360 wkg:3843233362 wkg:3843233364 wkg:3843233369 wkg:3843233370 wkg:3843233371 wkg:3843233385 wkg:3843233387 wkg:3843233394 wkg:3843233410 wkg:3843233425 wkg:3843233438 wkg:3843233441 wkg:3843233448 wkg:3843233660 wkg:3843233661 wkg:3843233666 wkg:3843233667 wkg:3843233676 wkg:3843233677 wkg:3843233680 wkg:3843233686 wkg:3843233687 wkg:3843233688 wkg:3843233698 wkg:3843233700 wkg:3843233701 wkg:3843233710 wkg:3843233712 wkg:3843233714 wkg:3843233721 wkg:3843233724 wkg:3843233725 wkg:3843233729 wkg:3843233731 wkg:3843233735 wkg:3843233738 wkg:3843233746 wkg:3843233758 wkg:3843233764 wkg:3843233777 wkg:3843233780 wkg:3843233781 wkg:3843233783 wkg:3843233784 wkg:3843233789 wkg:3843233806 wkg:3843233811 wkg:3843233814 wkg:3843233820 wkg:3843233829 wkg:38438384 wkg:3843994126 wkg:3844579986 wkg:3844579987 wkg:3844917671 wkg:3844917679 wkg:3844917685 wkg:3844917690 wkg:3844917709 wkg:3844917713 wkg:3844917728 wkg:3844917732 wkg:3844917733 wkg:3844917734 wkg:3844917737 wkg:3844917738 wkg:3844917752 wkg:3844917857 wkg:3844917860 wkg:3844917871 wkg:3844917882 wkg:3844917886 wkg:3844917890 wkg:3844917895 wkg:3844917898 wkg:3844917900 wkg:3844917902 wkg:3844917903 wkg:3844917905 wkg:3844917912 wkg:3844917921 wkg:3844917924 wkg:3844917927 wkg:3844917930 wkg:3844917940 wkg:3844917942 wkg:3844917948 wkg:3844917951 wkg:3844917952 wkg:3844918158 wkg:3844918161 wkg:3844918162 wkg:3844918164} .\n",
            "    ?entity_uri wkgs:spatialObject ?geom.\n",
            "    ?geom geo:asWKT ?coordinates.\n",
            "    OPTIONAL { ?entity_uri rdf:type ?type .}\n",
            "    OPTIONAL { ?entity_uri rdfs:label ?label .}\n",
            "    OPTIONAL { ?entity_uri wkgs:nameEn ?nameEn .}\n",
            "  }\n",
            "  \n"
          ]
        },
        {
          "name": "stderr",
          "output_type": "stream",
          "text": [
            "\r 57%|█████▋    | 93/162 [00:46<00:35,  1.97it/s]"
          ]
        },
        {
          "name": "stdout",
          "output_type": "stream",
          "text": [
            "(100, 5)\n",
            "\n",
            "  PREFIX uom: <http://www.opengis.net/def/uom/OGC/1.0/>\n",
            "  PREFIX wkgs: <http://www.worldkg.org/schema/>\n",
            "  PREFIX wkg: <http://www.worldkg.org/resource/>\n",
            "  PREFIX wd: <http://www.wikidata.org/wiki/>\n",
            "  PREFIX sf: <http://www.opengis.net/ont/sf#>\n",
            "  PREFIX rdfs: <http://www.w3.org/2000/01/rdf-schema#>\n",
            "  PREFIX geo: <http://www.opengis.net/ont/geosparql#>\n",
            "  PREFIX owl: <http://www.w3.org/2002/07/owl#>\n",
            "  PREFIX rdf: <http://www.w3.org/1999/02/22-rdf-syntax-ns#>\n",
            "  SELECT DISTINCT ?entity_uri ?type ?label ?nameEn ?coordinates WHERE {\n",
            "    VALUES ?entity_uri {wkg:384695085 wkg:384729583 wkg:385062372 wkg:385070809 wkg:385076897 wkg:3851440980 wkg:3851714952 wkg:3851856532 wkg:3851856552 wkg:3851856797 wkg:3853815045 wkg:3853815177 wkg:3853815331 wkg:3853815332 wkg:3854441864 wkg:3855209761 wkg:3855209768 wkg:3855209769 wkg:3855209774 wkg:3855209781 wkg:3856781590 wkg:3860987244 wkg:3866462929 wkg:3866462930 wkg:3866720663 wkg:3866720665 wkg:3866720666 wkg:3866798387 wkg:3869304772 wkg:3869304776 wkg:3869304783 wkg:3869304787 wkg:3869603980 wkg:3869603983 wkg:3869604016 wkg:3869604017 wkg:3869609357 wkg:3869609370 wkg:3869609373 wkg:3869648669 wkg:3869965739 wkg:3869966490 wkg:3870058040 wkg:3870411005 wkg:387199866 wkg:387492485 wkg:3875125386 wkg:387705524 wkg:3877692724 wkg:3878729665 wkg:387941939 wkg:3880451159 wkg:388245026 wkg:3885225201 wkg:3885225206 wkg:3885225208 wkg:3887899730 wkg:3887950334 wkg:3888715607 wkg:3888715619 wkg:3888715626 wkg:3888724086 wkg:3888743045 wkg:3888777784 wkg:3889089166 wkg:3889089169 wkg:3889137607 wkg:3889219687 wkg:3889963659 wkg:3889963661 wkg:3889963663 wkg:3889978733 wkg:3890228786 wkg:3890228787 wkg:3890228793 wkg:3890228796 wkg:3890228798 wkg:3890228802 wkg:3890228803 wkg:3890228805 wkg:3890228806 wkg:3892620365 wkg:389337975 wkg:389408420 wkg:3897749796 wkg:389786192 wkg:3898435254 wkg:3898486223 wkg:3898631875 wkg:3898634126 wkg:3898653373 wkg:3898653400 wkg:3899950361 wkg:3899950362 wkg:3899950383 wkg:3900276967 wkg:3900276968 wkg:3900276969 wkg:3900276981 wkg:3900276982} .\n",
            "    ?entity_uri wkgs:spatialObject ?geom.\n",
            "    ?geom geo:asWKT ?coordinates.\n",
            "    OPTIONAL { ?entity_uri rdf:type ?type .}\n",
            "    OPTIONAL { ?entity_uri rdfs:label ?label .}\n",
            "    OPTIONAL { ?entity_uri wkgs:nameEn ?nameEn .}\n",
            "  }\n",
            "  \n"
          ]
        },
        {
          "name": "stderr",
          "output_type": "stream",
          "text": [
            "\r 58%|█████▊    | 94/162 [00:47<00:34,  1.96it/s]"
          ]
        },
        {
          "name": "stdout",
          "output_type": "stream",
          "text": [
            "(101, 5)\n",
            "\n",
            "  PREFIX uom: <http://www.opengis.net/def/uom/OGC/1.0/>\n",
            "  PREFIX wkgs: <http://www.worldkg.org/schema/>\n",
            "  PREFIX wkg: <http://www.worldkg.org/resource/>\n",
            "  PREFIX wd: <http://www.wikidata.org/wiki/>\n",
            "  PREFIX sf: <http://www.opengis.net/ont/sf#>\n",
            "  PREFIX rdfs: <http://www.w3.org/2000/01/rdf-schema#>\n",
            "  PREFIX geo: <http://www.opengis.net/ont/geosparql#>\n",
            "  PREFIX owl: <http://www.w3.org/2002/07/owl#>\n",
            "  PREFIX rdf: <http://www.w3.org/1999/02/22-rdf-syntax-ns#>\n",
            "  SELECT DISTINCT ?entity_uri ?type ?label ?nameEn ?coordinates WHERE {\n",
            "    VALUES ?entity_uri {wkg:3901000003 wkg:3901213051 wkg:3901213052 wkg:390313602 wkg:3903462634 wkg:390384649 wkg:3905256236 wkg:3905256241 wkg:3905256245 wkg:3905256250 wkg:3905256251 wkg:3905548881 wkg:3905548884 wkg:3907231103 wkg:3908295714 wkg:3909844769 wkg:3909865635 wkg:391033349 wkg:391076162 wkg:3911280720 wkg:3911280721 wkg:3911280723 wkg:3911346257 wkg:3911567822 wkg:3911567823 wkg:3912187009 wkg:3912187218 wkg:3912187231 wkg:3912187232 wkg:3912187236 wkg:3912334309 wkg:3912513124 wkg:3912523504 wkg:3912592943 wkg:3912592945 wkg:3912592966 wkg:3912592968 wkg:3914096745 wkg:3914096750 wkg:3914096751 wkg:3914278430 wkg:391455287 wkg:3914944282 wkg:3916130185 wkg:3916572957 wkg:3916573468 wkg:3916649321 wkg:3916778206 wkg:3916778212 wkg:3916878297 wkg:3918842953 wkg:3918842954 wkg:3919347285 wkg:3922914841 wkg:392362588 wkg:3924077876 wkg:3924078026 wkg:3924078047 wkg:3925971266 wkg:3929951582 wkg:3935401516 wkg:3935401614 wkg:3935401615 wkg:3935401708 wkg:3935402100 wkg:3935402103 wkg:3936979092 wkg:394034462 wkg:394035456 wkg:39483034 wkg:3948745292 wkg:3951811271 wkg:3953145261 wkg:3953179720 wkg:3953179724 wkg:3953249194 wkg:3953249201 wkg:3953249213 wkg:3953249220 wkg:3954259648 wkg:3956513106 wkg:3956552193 wkg:3958604607 wkg:3960760680 wkg:3960769276 wkg:3960769277 wkg:3962428775 wkg:3962428777 wkg:3962428778 wkg:3962428784 wkg:3962472471 wkg:3964556836 wkg:3964556839 wkg:3965536637 wkg:3966412953 wkg:3966687175 wkg:3966687176 wkg:3966687184 wkg:3966687187 wkg:3966687190} .\n",
            "    ?entity_uri wkgs:spatialObject ?geom.\n",
            "    ?geom geo:asWKT ?coordinates.\n",
            "    OPTIONAL { ?entity_uri rdf:type ?type .}\n",
            "    OPTIONAL { ?entity_uri rdfs:label ?label .}\n",
            "    OPTIONAL { ?entity_uri wkgs:nameEn ?nameEn .}\n",
            "  }\n",
            "  \n"
          ]
        },
        {
          "name": "stderr",
          "output_type": "stream",
          "text": [
            "\r 59%|█████▊    | 95/162 [00:47<00:34,  1.95it/s]"
          ]
        },
        {
          "name": "stdout",
          "output_type": "stream",
          "text": [
            "(102, 5)\n",
            "\n",
            "  PREFIX uom: <http://www.opengis.net/def/uom/OGC/1.0/>\n",
            "  PREFIX wkgs: <http://www.worldkg.org/schema/>\n",
            "  PREFIX wkg: <http://www.worldkg.org/resource/>\n",
            "  PREFIX wd: <http://www.wikidata.org/wiki/>\n",
            "  PREFIX sf: <http://www.opengis.net/ont/sf#>\n",
            "  PREFIX rdfs: <http://www.w3.org/2000/01/rdf-schema#>\n",
            "  PREFIX geo: <http://www.opengis.net/ont/geosparql#>\n",
            "  PREFIX owl: <http://www.w3.org/2002/07/owl#>\n",
            "  PREFIX rdf: <http://www.w3.org/1999/02/22-rdf-syntax-ns#>\n",
            "  SELECT DISTINCT ?entity_uri ?type ?label ?nameEn ?coordinates WHERE {\n",
            "    VALUES ?entity_uri {wkg:3967631621 wkg:3967804456 wkg:3969150745 wkg:3969150746 wkg:3969150751 wkg:3969150752 wkg:3969160007 wkg:3969160016 wkg:3969160020 wkg:3969160025 wkg:3969160026 wkg:3969160028 wkg:3969163358 wkg:3969163360 wkg:3969163361 wkg:3969164163 wkg:3969164169 wkg:3969164173 wkg:3969164179 wkg:3969164184 wkg:3969164186 wkg:3969164187 wkg:3973294839 wkg:3973337473 wkg:3973359702 wkg:3974973704 wkg:3977621993 wkg:3978164779 wkg:3978195368 wkg:3978195414 wkg:3981181058 wkg:3981181059 wkg:3981186459 wkg:3981186460 wkg:3981261557 wkg:3981305721 wkg:3981877358 wkg:3981877460 wkg:3985691880 wkg:3985691882 wkg:3986756266 wkg:3986830258 wkg:3987511331 wkg:3987514327 wkg:3987534347 wkg:3987697769 wkg:3987697827 wkg:398843634 wkg:3990255783 wkg:3990341899 wkg:3990358842 wkg:3990451988 wkg:3990452087 wkg:3991001793 wkg:3991041305 wkg:3991065752 wkg:3993202727 wkg:3994167592 wkg:3996652258 wkg:3996885444 wkg:3997666943 wkg:3998731265 wkg:3999372592 wkg:4000750265 wkg:4000820394 wkg:4000820412 wkg:4000821501 wkg:4000841519 wkg:4000841521 wkg:4000992701 wkg:4000992737 wkg:4000992738 wkg:4000992740 wkg:4001034930 wkg:4002428191 wkg:4002842420 wkg:4007584165 wkg:4007591109 wkg:4007769290 wkg:4007769291 wkg:4009159960 wkg:4010859708 wkg:4011577309 wkg:4012788264 wkg:4017058865 wkg:4017176532 wkg:4017176533 wkg:401751968 wkg:4018161706 wkg:4018339835 wkg:4019399554 wkg:4019922654 wkg:402167963 wkg:4025369611 wkg:4026793103 wkg:4028504903 wkg:4028504905 wkg:4028550896 wkg:4033006910 wkg:4033612861} .\n",
            "    ?entity_uri wkgs:spatialObject ?geom.\n",
            "    ?geom geo:asWKT ?coordinates.\n",
            "    OPTIONAL { ?entity_uri rdf:type ?type .}\n",
            "    OPTIONAL { ?entity_uri rdfs:label ?label .}\n",
            "    OPTIONAL { ?entity_uri wkgs:nameEn ?nameEn .}\n",
            "  }\n",
            "  \n"
          ]
        },
        {
          "name": "stderr",
          "output_type": "stream",
          "text": [
            "\r 59%|█████▉    | 96/162 [00:48<00:33,  1.95it/s]"
          ]
        },
        {
          "name": "stdout",
          "output_type": "stream",
          "text": [
            "(100, 5)\n",
            "\n",
            "  PREFIX uom: <http://www.opengis.net/def/uom/OGC/1.0/>\n",
            "  PREFIX wkgs: <http://www.worldkg.org/schema/>\n",
            "  PREFIX wkg: <http://www.worldkg.org/resource/>\n",
            "  PREFIX wd: <http://www.wikidata.org/wiki/>\n",
            "  PREFIX sf: <http://www.opengis.net/ont/sf#>\n",
            "  PREFIX rdfs: <http://www.w3.org/2000/01/rdf-schema#>\n",
            "  PREFIX geo: <http://www.opengis.net/ont/geosparql#>\n",
            "  PREFIX owl: <http://www.w3.org/2002/07/owl#>\n",
            "  PREFIX rdf: <http://www.w3.org/1999/02/22-rdf-syntax-ns#>\n",
            "  SELECT DISTINCT ?entity_uri ?type ?label ?nameEn ?coordinates WHERE {\n",
            "    VALUES ?entity_uri {wkg:4035164932 wkg:4036026675 wkg:4036074475 wkg:4036077017 wkg:4036113149 wkg:4036128018 wkg:4036148728 wkg:4036148785 wkg:4036150901 wkg:4036150939 wkg:4036182113 wkg:4036211060 wkg:4036211190 wkg:4036272240 wkg:4036272245 wkg:4036347119 wkg:4036393741 wkg:4036393749 wkg:4036393758 wkg:4036393807 wkg:4036393822 wkg:4036393861 wkg:4036400237 wkg:4036400265 wkg:4036452741 wkg:4036453154 wkg:4036482605 wkg:4036525704 wkg:4036525749 wkg:4036530910 wkg:4036598742 wkg:4036668037 wkg:4036668042 wkg:4036668043 wkg:4036765140 wkg:4036765171 wkg:4036765181 wkg:4036789358 wkg:4036938370 wkg:4037143957 wkg:4037144160 wkg:4037144164 wkg:4038723559 wkg:4038723560 wkg:4039893211 wkg:4040295098 wkg:4041022355 wkg:4041022359 wkg:4041022360 wkg:4041038084 wkg:4041057118 wkg:4041057120 wkg:4041852480 wkg:4041854377 wkg:4041854445 wkg:4041854628 wkg:4041863530 wkg:4042436650 wkg:4042753083 wkg:4045309848 wkg:4045490176 wkg:4045491436 wkg:4045798108 wkg:4045798615 wkg:4045956430 wkg:4045956440 wkg:4046013444 wkg:4046013531 wkg:4047436874 wkg:4047436915 wkg:4047466613 wkg:4047530110 wkg:4047530395 wkg:4047553859 wkg:4047579763 wkg:4048380740 wkg:4050088812 wkg:4051682657 wkg:405184736 wkg:4052754127 wkg:4052754128 wkg:4052755863 wkg:4052893049 wkg:4053067340 wkg:4053201098 wkg:4053270847 wkg:4053305437 wkg:4053305723 wkg:4053305764 wkg:4053313489 wkg:4053313587 wkg:4053337911 wkg:4053645943 wkg:4054017079 wkg:4054765257 wkg:4054786379 wkg:4054879730 wkg:4055996424 wkg:4055996469 wkg:4055996766} .\n",
            "    ?entity_uri wkgs:spatialObject ?geom.\n",
            "    ?geom geo:asWKT ?coordinates.\n",
            "    OPTIONAL { ?entity_uri rdf:type ?type .}\n",
            "    OPTIONAL { ?entity_uri rdfs:label ?label .}\n",
            "    OPTIONAL { ?entity_uri wkgs:nameEn ?nameEn .}\n",
            "  }\n",
            "  \n"
          ]
        },
        {
          "name": "stderr",
          "output_type": "stream",
          "text": [
            "\r 60%|█████▉    | 97/162 [00:48<00:33,  1.94it/s]"
          ]
        },
        {
          "name": "stdout",
          "output_type": "stream",
          "text": [
            "(100, 5)\n",
            "\n",
            "  PREFIX uom: <http://www.opengis.net/def/uom/OGC/1.0/>\n",
            "  PREFIX wkgs: <http://www.worldkg.org/schema/>\n",
            "  PREFIX wkg: <http://www.worldkg.org/resource/>\n",
            "  PREFIX wd: <http://www.wikidata.org/wiki/>\n",
            "  PREFIX sf: <http://www.opengis.net/ont/sf#>\n",
            "  PREFIX rdfs: <http://www.w3.org/2000/01/rdf-schema#>\n",
            "  PREFIX geo: <http://www.opengis.net/ont/geosparql#>\n",
            "  PREFIX owl: <http://www.w3.org/2002/07/owl#>\n",
            "  PREFIX rdf: <http://www.w3.org/1999/02/22-rdf-syntax-ns#>\n",
            "  SELECT DISTINCT ?entity_uri ?type ?label ?nameEn ?coordinates WHERE {\n",
            "    VALUES ?entity_uri {wkg:4056015699 wkg:4056015745 wkg:4056290143 wkg:4056311235 wkg:4056355291 wkg:4056355330 wkg:4056355369 wkg:4056355768 wkg:4056379952 wkg:4056395918 wkg:4057049164 wkg:4059526985 wkg:4059561588 wkg:4059569516 wkg:4059579122 wkg:4059711689 wkg:4059711694 wkg:4059711706 wkg:4059711990 wkg:4059716257 wkg:4059716372 wkg:4059716604 wkg:4059735405 wkg:4059812150 wkg:4059887131 wkg:4059909697 wkg:4059909723 wkg:4059927621 wkg:4059957747 wkg:4060232071 wkg:4060275456 wkg:4060436890 wkg:4060582625 wkg:4060612754 wkg:4060693177 wkg:4060693814 wkg:4061879590 wkg:4061916793 wkg:4063924089 wkg:4065598101 wkg:4070744431 wkg:4070781789 wkg:4072704043 wkg:4073309751 wkg:407835770 wkg:408089150 wkg:4081015518 wkg:4081015519 wkg:4084530574 wkg:4087697178 wkg:409075566 wkg:409193566 wkg:4092065488 wkg:4092065598 wkg:4096610678 wkg:4099437496 wkg:4099659126 wkg:409978675 wkg:4100327061 wkg:4100767777 wkg:4104478960 wkg:4104495421 wkg:4108056831 wkg:4108056834 wkg:4112897737 wkg:4113577237 wkg:4114700410 wkg:4114741218 wkg:4114767596 wkg:4114767598 wkg:4114767599 wkg:4114793577 wkg:4114794151 wkg:4114794167 wkg:4116520113 wkg:4118135378 wkg:4118135379 wkg:4118146408 wkg:4118151008 wkg:4123047640 wkg:4123048142 wkg:4123081368 wkg:4123268849 wkg:4124687377 wkg:4124733819 wkg:4124910214 wkg:4126462931 wkg:4126463995 wkg:4126496876 wkg:4126497376 wkg:4126572619 wkg:4126572776 wkg:4126572959 wkg:4126636911 wkg:4126671671 wkg:4126671908 wkg:4127261823 wkg:4127261920 wkg:4127262175 wkg:4127284311} .\n",
            "    ?entity_uri wkgs:spatialObject ?geom.\n",
            "    ?geom geo:asWKT ?coordinates.\n",
            "    OPTIONAL { ?entity_uri rdf:type ?type .}\n",
            "    OPTIONAL { ?entity_uri rdfs:label ?label .}\n",
            "    OPTIONAL { ?entity_uri wkgs:nameEn ?nameEn .}\n",
            "  }\n",
            "  \n"
          ]
        },
        {
          "name": "stderr",
          "output_type": "stream",
          "text": [
            "\r 60%|██████    | 98/162 [00:49<00:33,  1.94it/s]"
          ]
        },
        {
          "name": "stdout",
          "output_type": "stream",
          "text": [
            "(100, 5)\n",
            "\n",
            "  PREFIX uom: <http://www.opengis.net/def/uom/OGC/1.0/>\n",
            "  PREFIX wkgs: <http://www.worldkg.org/schema/>\n",
            "  PREFIX wkg: <http://www.worldkg.org/resource/>\n",
            "  PREFIX wd: <http://www.wikidata.org/wiki/>\n",
            "  PREFIX sf: <http://www.opengis.net/ont/sf#>\n",
            "  PREFIX rdfs: <http://www.w3.org/2000/01/rdf-schema#>\n",
            "  PREFIX geo: <http://www.opengis.net/ont/geosparql#>\n",
            "  PREFIX owl: <http://www.w3.org/2002/07/owl#>\n",
            "  PREFIX rdf: <http://www.w3.org/1999/02/22-rdf-syntax-ns#>\n",
            "  SELECT DISTINCT ?entity_uri ?type ?label ?nameEn ?coordinates WHERE {\n",
            "    VALUES ?entity_uri {wkg:4127284839 wkg:4127320130 wkg:4127359975 wkg:4128177212 wkg:4128757339 wkg:412959277 wkg:4131121362 wkg:4131225572 wkg:4131305328 wkg:4131305627 wkg:4131330607 wkg:4131353158 wkg:4131433447 wkg:4131665826 wkg:4131666210 wkg:4131702408 wkg:4131702534 wkg:4133681952 wkg:4133803324 wkg:4133816451 wkg:413405161 wkg:4134397648 wkg:4134397837 wkg:4134398404 wkg:4135137158 wkg:4135936511 wkg:4140710681 wkg:4140972658 wkg:4149692648 wkg:4149693542 wkg:4149721554 wkg:4149774527 wkg:4149775419 wkg:4149846422 wkg:4149846628 wkg:4149906819 wkg:4149951522 wkg:4150123356 wkg:4150123988 wkg:4150124079 wkg:4150173092 wkg:4150173177 wkg:4150201448 wkg:4150201463 wkg:4150201487 wkg:4150201541 wkg:4150201583 wkg:4150201648 wkg:4150201724 wkg:4152164730 wkg:4152165040 wkg:4152165202 wkg:4152165283 wkg:4152165406 wkg:4152165471 wkg:4152201687 wkg:4152202145 wkg:4152202354 wkg:4152202597 wkg:4152287750 wkg:4152287786 wkg:4152287949 wkg:4152288517 wkg:4152288532 wkg:4152288537 wkg:415521328 wkg:415521333 wkg:415521428 wkg:415522211 wkg:415522232 wkg:415522242 wkg:415522267 wkg:415522269 wkg:415522271 wkg:415522273 wkg:415522277 wkg:415522290 wkg:415522292 wkg:415522299 wkg:415522306 wkg:415522343 wkg:415522668 wkg:415522674 wkg:415522677 wkg:415522681 wkg:415522683 wkg:415522685 wkg:415522695 wkg:415522700 wkg:415522706 wkg:415522707 wkg:415522708 wkg:415522716 wkg:415522722 wkg:415522735 wkg:415522739 wkg:415522744 wkg:415522753 wkg:415522757 wkg:415522759} .\n",
            "    ?entity_uri wkgs:spatialObject ?geom.\n",
            "    ?geom geo:asWKT ?coordinates.\n",
            "    OPTIONAL { ?entity_uri rdf:type ?type .}\n",
            "    OPTIONAL { ?entity_uri rdfs:label ?label .}\n",
            "    OPTIONAL { ?entity_uri wkgs:nameEn ?nameEn .}\n",
            "  }\n",
            "  \n"
          ]
        },
        {
          "name": "stderr",
          "output_type": "stream",
          "text": [
            "\r 61%|██████    | 99/162 [00:49<00:32,  1.94it/s]"
          ]
        },
        {
          "name": "stdout",
          "output_type": "stream",
          "text": [
            "(100, 5)\n",
            "\n",
            "  PREFIX uom: <http://www.opengis.net/def/uom/OGC/1.0/>\n",
            "  PREFIX wkgs: <http://www.worldkg.org/schema/>\n",
            "  PREFIX wkg: <http://www.worldkg.org/resource/>\n",
            "  PREFIX wd: <http://www.wikidata.org/wiki/>\n",
            "  PREFIX sf: <http://www.opengis.net/ont/sf#>\n",
            "  PREFIX rdfs: <http://www.w3.org/2000/01/rdf-schema#>\n",
            "  PREFIX geo: <http://www.opengis.net/ont/geosparql#>\n",
            "  PREFIX owl: <http://www.w3.org/2002/07/owl#>\n",
            "  PREFIX rdf: <http://www.w3.org/1999/02/22-rdf-syntax-ns#>\n",
            "  SELECT DISTINCT ?entity_uri ?type ?label ?nameEn ?coordinates WHERE {\n",
            "    VALUES ?entity_uri {wkg:415522765 wkg:415522777 wkg:415522779 wkg:415523220 wkg:415523247 wkg:415523334 wkg:415524033 wkg:415524037 wkg:415524084 wkg:415524094 wkg:415891660 wkg:415891662 wkg:416270965 wkg:416270971 wkg:416270972 wkg:416499278 wkg:416631684 wkg:416647271 wkg:416647277 wkg:416647278 wkg:416647279 wkg:416690537 wkg:416757267 wkg:416757270 wkg:416757275 wkg:416757279 wkg:416757283 wkg:416757285 wkg:416757289 wkg:416757291 wkg:416757301 wkg:416757304 wkg:416757458 wkg:416757461 wkg:416767153 wkg:416767156 wkg:416767162 wkg:416767163 wkg:416767169 wkg:416767170 wkg:416767173 wkg:416767180 wkg:416767183 wkg:416767185 wkg:416767204 wkg:416767205 wkg:416767208 wkg:416767214 wkg:416767224 wkg:416767232 wkg:416767234 wkg:416767237 wkg:416767246 wkg:416767250 wkg:416767251 wkg:416767271 wkg:416767301 wkg:416767306 wkg:416767309 wkg:416767321 wkg:416767322 wkg:416767324 wkg:416767338 wkg:416767339 wkg:416767341 wkg:416767345 wkg:416767347 wkg:416767358 wkg:416767360 wkg:416767378 wkg:416767379 wkg:416961076 wkg:4172940619 wkg:4173224721 wkg:4176236170 wkg:417670211 wkg:4176996360 wkg:417751932 wkg:418005215 wkg:418134093 wkg:4184621094 wkg:4185638075 wkg:4185689205 wkg:4185690964 wkg:418570960 wkg:418735742 wkg:4191950299 wkg:4198278616 wkg:4198291805 wkg:420049613 wkg:4202042889 wkg:42042357 wkg:420476189 wkg:4209665131 wkg:4211853090 wkg:4215882248 wkg:4218566074 wkg:4218620067 wkg:4218720799 wkg:4226253197} .\n",
            "    ?entity_uri wkgs:spatialObject ?geom.\n",
            "    ?geom geo:asWKT ?coordinates.\n",
            "    OPTIONAL { ?entity_uri rdf:type ?type .}\n",
            "    OPTIONAL { ?entity_uri rdfs:label ?label .}\n",
            "    OPTIONAL { ?entity_uri wkgs:nameEn ?nameEn .}\n",
            "  }\n",
            "  \n"
          ]
        },
        {
          "name": "stderr",
          "output_type": "stream",
          "text": [
            "\r 62%|██████▏   | 100/162 [00:50<00:31,  1.97it/s]"
          ]
        },
        {
          "name": "stdout",
          "output_type": "stream",
          "text": [
            "(100, 5)\n",
            "\n",
            "  PREFIX uom: <http://www.opengis.net/def/uom/OGC/1.0/>\n",
            "  PREFIX wkgs: <http://www.worldkg.org/schema/>\n",
            "  PREFIX wkg: <http://www.worldkg.org/resource/>\n",
            "  PREFIX wd: <http://www.wikidata.org/wiki/>\n",
            "  PREFIX sf: <http://www.opengis.net/ont/sf#>\n",
            "  PREFIX rdfs: <http://www.w3.org/2000/01/rdf-schema#>\n",
            "  PREFIX geo: <http://www.opengis.net/ont/geosparql#>\n",
            "  PREFIX owl: <http://www.w3.org/2002/07/owl#>\n",
            "  PREFIX rdf: <http://www.w3.org/1999/02/22-rdf-syntax-ns#>\n",
            "  SELECT DISTINCT ?entity_uri ?type ?label ?nameEn ?coordinates WHERE {\n",
            "    VALUES ?entity_uri {wkg:4226731194 wkg:4226731197 wkg:4226900752 wkg:4227018015 wkg:4227018017 wkg:4227911739 wkg:4228621044 wkg:422868197 wkg:422868198 wkg:422868199 wkg:422868200 wkg:422868221 wkg:422868224 wkg:422868227 wkg:422868230 wkg:422868232 wkg:422868233 wkg:422868234 wkg:422868236 wkg:422868240 wkg:422868243 wkg:422868247 wkg:422868252 wkg:422868260 wkg:422868266 wkg:422868273 wkg:422868279 wkg:422868286 wkg:422868300 wkg:422868307 wkg:422868338 wkg:422868344 wkg:422868348 wkg:422868352 wkg:422868356 wkg:422868359 wkg:422868364 wkg:422868389 wkg:422869223 wkg:422870112 wkg:422877594 wkg:422877607 wkg:422877610 wkg:422877611 wkg:422877615 wkg:422877620 wkg:422877630 wkg:422877776 wkg:422877779 wkg:422877780 wkg:422877788 wkg:422878009 wkg:422878023 wkg:422878089 wkg:422878094 wkg:422878158 wkg:422878166 wkg:422878174 wkg:422878380 wkg:422879656 wkg:422879658 wkg:422879661 wkg:422879663 wkg:422879666 wkg:422879667 wkg:422879669 wkg:422879670 wkg:422879676 wkg:422879680 wkg:422879698 wkg:422879718 wkg:422879734 wkg:422879752 wkg:4229978906 wkg:4230154696 wkg:4231652136 wkg:4231652137 wkg:4232353430 wkg:4234077037 wkg:4234078501 wkg:4234087541 wkg:4234483059 wkg:4237211436 wkg:4242514503 wkg:4242527527 wkg:424297217 wkg:424297281 wkg:424297384 wkg:424297586 wkg:424297647 wkg:424297742 wkg:424297816 wkg:424297931 wkg:424298019 wkg:424298150 wkg:424298167 wkg:424298227 wkg:424298311 wkg:424298326 wkg:424311104} .\n",
            "    ?entity_uri wkgs:spatialObject ?geom.\n",
            "    ?geom geo:asWKT ?coordinates.\n",
            "    OPTIONAL { ?entity_uri rdf:type ?type .}\n",
            "    OPTIONAL { ?entity_uri rdfs:label ?label .}\n",
            "    OPTIONAL { ?entity_uri wkgs:nameEn ?nameEn .}\n",
            "  }\n",
            "  \n"
          ]
        },
        {
          "name": "stderr",
          "output_type": "stream",
          "text": [
            "\r 62%|██████▏   | 101/162 [00:50<00:31,  1.96it/s]"
          ]
        },
        {
          "name": "stdout",
          "output_type": "stream",
          "text": [
            "(100, 5)\n",
            "\n",
            "  PREFIX uom: <http://www.opengis.net/def/uom/OGC/1.0/>\n",
            "  PREFIX wkgs: <http://www.worldkg.org/schema/>\n",
            "  PREFIX wkg: <http://www.worldkg.org/resource/>\n",
            "  PREFIX wd: <http://www.wikidata.org/wiki/>\n",
            "  PREFIX sf: <http://www.opengis.net/ont/sf#>\n",
            "  PREFIX rdfs: <http://www.w3.org/2000/01/rdf-schema#>\n",
            "  PREFIX geo: <http://www.opengis.net/ont/geosparql#>\n",
            "  PREFIX owl: <http://www.w3.org/2002/07/owl#>\n",
            "  PREFIX rdf: <http://www.w3.org/1999/02/22-rdf-syntax-ns#>\n",
            "  SELECT DISTINCT ?entity_uri ?type ?label ?nameEn ?coordinates WHERE {\n",
            "    VALUES ?entity_uri {wkg:424311151 wkg:424311237 wkg:424311244 wkg:424311328 wkg:424311353 wkg:424311521 wkg:424311573 wkg:424311662 wkg:424311738 wkg:424311806 wkg:424311827 wkg:424311890 wkg:424313406 wkg:424313428 wkg:424313451 wkg:424313582 wkg:424313675 wkg:424313730 wkg:424313734 wkg:424313760 wkg:424313803 wkg:424313836 wkg:424313853 wkg:424313891 wkg:424313903 wkg:424314088 wkg:424314123 wkg:424314145 wkg:424314276 wkg:424314335 wkg:424314631 wkg:424314691 wkg:424314830 wkg:424315291 wkg:424315709 wkg:424315932 wkg:424316074 wkg:424316205 wkg:424316307 wkg:424316417 wkg:424316478 wkg:424317315 wkg:424317406 wkg:424317428 wkg:424317935 wkg:4248738452 wkg:4249890312 wkg:4249927199 wkg:4253271283 wkg:4259797066 wkg:4261579962 wkg:4264869917 wkg:4272863305 wkg:4272863548 wkg:4282091625 wkg:428339511 wkg:4283694816 wkg:428655323 wkg:4287864073 wkg:429739550 wkg:4300115988 wkg:4300866073 wkg:4301224957 wkg:4302112263 wkg:4302523614 wkg:4302523615 wkg:4302529006 wkg:4302529056 wkg:4302529079 wkg:4302906082 wkg:4302906126 wkg:4306904528 wkg:4307584225 wkg:4307991461 wkg:430824796 wkg:431038826 wkg:4311965376 wkg:431220382 wkg:431220390 wkg:4312289364 wkg:4312316277 wkg:4312331881 wkg:4312333110 wkg:4312333738 wkg:4312341193 wkg:4312385173 wkg:4313932784 wkg:4313932991 wkg:4313932998 wkg:4313933018 wkg:4313933026 wkg:4313933028 wkg:4313933034 wkg:4313933036 wkg:4313933037 wkg:4313933038 wkg:4313933052 wkg:4313933059 wkg:4313933060 wkg:4313933063} .\n",
            "    ?entity_uri wkgs:spatialObject ?geom.\n",
            "    ?geom geo:asWKT ?coordinates.\n",
            "    OPTIONAL { ?entity_uri rdf:type ?type .}\n",
            "    OPTIONAL { ?entity_uri rdfs:label ?label .}\n",
            "    OPTIONAL { ?entity_uri wkgs:nameEn ?nameEn .}\n",
            "  }\n",
            "  \n"
          ]
        },
        {
          "name": "stderr",
          "output_type": "stream",
          "text": [
            "\r 63%|██████▎   | 102/162 [00:51<00:32,  1.82it/s]"
          ]
        },
        {
          "name": "stdout",
          "output_type": "stream",
          "text": [
            "(102, 5)\n",
            "\n",
            "  PREFIX uom: <http://www.opengis.net/def/uom/OGC/1.0/>\n",
            "  PREFIX wkgs: <http://www.worldkg.org/schema/>\n",
            "  PREFIX wkg: <http://www.worldkg.org/resource/>\n",
            "  PREFIX wd: <http://www.wikidata.org/wiki/>\n",
            "  PREFIX sf: <http://www.opengis.net/ont/sf#>\n",
            "  PREFIX rdfs: <http://www.w3.org/2000/01/rdf-schema#>\n",
            "  PREFIX geo: <http://www.opengis.net/ont/geosparql#>\n",
            "  PREFIX owl: <http://www.w3.org/2002/07/owl#>\n",
            "  PREFIX rdf: <http://www.w3.org/1999/02/22-rdf-syntax-ns#>\n",
            "  SELECT DISTINCT ?entity_uri ?type ?label ?nameEn ?coordinates WHERE {\n",
            "    VALUES ?entity_uri {wkg:4313933068 wkg:4313933072 wkg:4313933192 wkg:4313933194 wkg:4314113907 wkg:4314743652 wkg:4314994332 wkg:4314994334 wkg:4314994338 wkg:4317437466 wkg:4317768489 wkg:4319019174 wkg:4320493042 wkg:4320740641 wkg:4321582045 wkg:4321582671 wkg:4321830183 wkg:4323512657 wkg:432424926 wkg:432424937 wkg:432424968 wkg:432424972 wkg:432424981 wkg:432424985 wkg:432424989 wkg:432425028 wkg:432425036 wkg:432425040 wkg:432425060 wkg:432425063 wkg:432425064 wkg:432425099 wkg:4326697949 wkg:4326879118 wkg:4327857935 wkg:4327973291 wkg:4328129878 wkg:4328202326 wkg:4330386741 wkg:4330911884 wkg:4331347154 wkg:4331929244 wkg:4332215365 wkg:4332405823 wkg:4332500130 wkg:4332654082 wkg:4332693753 wkg:4333179901 wkg:4333224194 wkg:4333431252 wkg:4335520726 wkg:4336250672 wkg:4336425319 wkg:4338071321 wkg:4339047410 wkg:4339447457 wkg:4339741707 wkg:4341468970 wkg:434312379 wkg:434460562 wkg:434482690 wkg:4345340047 wkg:434547663 wkg:434547727 wkg:4349051116 wkg:4349246016 wkg:4349260572 wkg:4349313456 wkg:4349991489 wkg:4349991491 wkg:4350593075 wkg:4350633906 wkg:4351222603 wkg:4351637552 wkg:4351916576 wkg:4351937630 wkg:435259164 wkg:4352850574 wkg:435301238 wkg:435375999 wkg:435402271 wkg:435514019 wkg:4355979791 wkg:4356294158 wkg:435668339 wkg:435708712 wkg:4357226652 wkg:435755862 wkg:4357590801 wkg:4357590802 wkg:435790531 wkg:4358176707 wkg:4358176708 wkg:4358176710 wkg:435903633 wkg:4359470853 wkg:435981993 wkg:4361209091 wkg:4361211083 wkg:4361404397} .\n",
            "    ?entity_uri wkgs:spatialObject ?geom.\n",
            "    ?geom geo:asWKT ?coordinates.\n",
            "    OPTIONAL { ?entity_uri rdf:type ?type .}\n",
            "    OPTIONAL { ?entity_uri rdfs:label ?label .}\n",
            "    OPTIONAL { ?entity_uri wkgs:nameEn ?nameEn .}\n",
            "  }\n",
            "  \n"
          ]
        },
        {
          "name": "stderr",
          "output_type": "stream",
          "text": [
            "\r 64%|██████▎   | 103/162 [00:52<00:31,  1.85it/s]"
          ]
        },
        {
          "name": "stdout",
          "output_type": "stream",
          "text": [
            "(100, 5)\n",
            "\n",
            "  PREFIX uom: <http://www.opengis.net/def/uom/OGC/1.0/>\n",
            "  PREFIX wkgs: <http://www.worldkg.org/schema/>\n",
            "  PREFIX wkg: <http://www.worldkg.org/resource/>\n",
            "  PREFIX wd: <http://www.wikidata.org/wiki/>\n",
            "  PREFIX sf: <http://www.opengis.net/ont/sf#>\n",
            "  PREFIX rdfs: <http://www.w3.org/2000/01/rdf-schema#>\n",
            "  PREFIX geo: <http://www.opengis.net/ont/geosparql#>\n",
            "  PREFIX owl: <http://www.w3.org/2002/07/owl#>\n",
            "  PREFIX rdf: <http://www.w3.org/1999/02/22-rdf-syntax-ns#>\n",
            "  SELECT DISTINCT ?entity_uri ?type ?label ?nameEn ?coordinates WHERE {\n",
            "    VALUES ?entity_uri {wkg:4361414913 wkg:4362629266 wkg:4362735087 wkg:4362813543 wkg:4370143467 wkg:437146363 wkg:437974368 wkg:4381055892 wkg:4381303438 wkg:4381310799 wkg:4381342396 wkg:4382320397 wkg:438239490 wkg:4383241601 wkg:4383300544 wkg:4383673665 wkg:4385119021 wkg:4386503965 wkg:4386881335 wkg:4386881339 wkg:4386881347 wkg:4386982365 wkg:4389130303 wkg:439254427 wkg:4392706944 wkg:4393193411 wkg:4394085117 wkg:4394134963 wkg:4394164591 wkg:4394164597 wkg:4394164601 wkg:4394164619 wkg:4394164623 wkg:4394164625 wkg:4394164626 wkg:4394180072 wkg:4394186770 wkg:4394992996 wkg:4394993001 wkg:4395660734 wkg:4395751384 wkg:4395757981 wkg:4395808597 wkg:4395808604 wkg:4395808608 wkg:4395808611 wkg:4395808612 wkg:4395808615 wkg:4395808617 wkg:4398734323 wkg:4399499775 wkg:4400174269 wkg:4402548218 wkg:440419242 wkg:4405611777 wkg:4406253171 wkg:4407131969 wkg:4407131970 wkg:4407131979 wkg:4407131982 wkg:4407131987 wkg:4407133267 wkg:4407133268 wkg:4407133270 wkg:4407133280 wkg:4407133287 wkg:4407133288 wkg:4407133395 wkg:4407133399 wkg:4407133405 wkg:4407133431 wkg:4407133433 wkg:4407133447 wkg:4407133460 wkg:4407133462 wkg:4407133464 wkg:4407133466 wkg:4407133491 wkg:4407133500 wkg:4407424545 wkg:4407424549 wkg:4407424551 wkg:4408013079 wkg:4408013083 wkg:4408013084 wkg:4408013390 wkg:4408013392 wkg:4408013401 wkg:4408013406 wkg:4408013407 wkg:4408559091 wkg:4408559097 wkg:4408644993 wkg:4408644996 wkg:4408645289 wkg:4408645291 wkg:4408645389 wkg:4408646189 wkg:4408647990 wkg:4408649590} .\n",
            "    ?entity_uri wkgs:spatialObject ?geom.\n",
            "    ?geom geo:asWKT ?coordinates.\n",
            "    OPTIONAL { ?entity_uri rdf:type ?type .}\n",
            "    OPTIONAL { ?entity_uri rdfs:label ?label .}\n",
            "    OPTIONAL { ?entity_uri wkgs:nameEn ?nameEn .}\n",
            "  }\n",
            "  \n"
          ]
        },
        {
          "name": "stderr",
          "output_type": "stream",
          "text": [
            "\r 64%|██████▍   | 104/162 [00:52<00:30,  1.87it/s]"
          ]
        },
        {
          "name": "stdout",
          "output_type": "stream",
          "text": [
            "(101, 5)\n",
            "\n",
            "  PREFIX uom: <http://www.opengis.net/def/uom/OGC/1.0/>\n",
            "  PREFIX wkgs: <http://www.worldkg.org/schema/>\n",
            "  PREFIX wkg: <http://www.worldkg.org/resource/>\n",
            "  PREFIX wd: <http://www.wikidata.org/wiki/>\n",
            "  PREFIX sf: <http://www.opengis.net/ont/sf#>\n",
            "  PREFIX rdfs: <http://www.w3.org/2000/01/rdf-schema#>\n",
            "  PREFIX geo: <http://www.opengis.net/ont/geosparql#>\n",
            "  PREFIX owl: <http://www.w3.org/2002/07/owl#>\n",
            "  PREFIX rdf: <http://www.w3.org/1999/02/22-rdf-syntax-ns#>\n",
            "  SELECT DISTINCT ?entity_uri ?type ?label ?nameEn ?coordinates WHERE {\n",
            "    VALUES ?entity_uri {wkg:4410111712 wkg:4410244123 wkg:4410244134 wkg:4410244137 wkg:4410244140 wkg:4410244146 wkg:4410244147 wkg:4410244152 wkg:4410244158 wkg:4410244159 wkg:4410244161 wkg:4410563543 wkg:4410563548 wkg:4410563549 wkg:4410563553 wkg:4410563554 wkg:4410563560 wkg:4410563561 wkg:4410563563 wkg:4410563564 wkg:4410563569 wkg:4410563582 wkg:4410564690 wkg:4410564692 wkg:4410564694 wkg:4410564700 wkg:4410564702 wkg:4410564706 wkg:4410564714 wkg:4412065304 wkg:4412065309 wkg:4412068671 wkg:4413450190 wkg:4413716441 wkg:4413716453 wkg:4413716458 wkg:4413716460 wkg:4413716466 wkg:4413716472 wkg:4413716473 wkg:4413716475 wkg:4413716477 wkg:4413716479 wkg:4413716487 wkg:4413853323 wkg:441390680 wkg:4413911250 wkg:4413911252 wkg:4413911258 wkg:4413911259 wkg:4413911261 wkg:4413911279 wkg:4413928266 wkg:4413928276 wkg:4413928277 wkg:4413928281 wkg:4413928286 wkg:4413928590 wkg:4413928591 wkg:4413928597 wkg:4413928599 wkg:4413928609 wkg:4413928610 wkg:4413928614 wkg:4413928627 wkg:4413928630 wkg:4413928633 wkg:4413928637 wkg:4413928638 wkg:4413928639 wkg:4413928645 wkg:4413928647 wkg:4413928672 wkg:4413928674 wkg:4413928678 wkg:4413928685 wkg:4413928689 wkg:4413928691 wkg:4413928698 wkg:4413928710 wkg:4413928717 wkg:4413928723 wkg:4413928729 wkg:4413928737 wkg:4413928738 wkg:4413928742 wkg:4413928754 wkg:4413928755 wkg:4413928757 wkg:4413928760 wkg:4413928771 wkg:4413928775 wkg:4413928782 wkg:4413928784 wkg:4413928792 wkg:4413928795 wkg:4413928800 wkg:4413928801 wkg:4413928806 wkg:4413928811} .\n",
            "    ?entity_uri wkgs:spatialObject ?geom.\n",
            "    ?geom geo:asWKT ?coordinates.\n",
            "    OPTIONAL { ?entity_uri rdf:type ?type .}\n",
            "    OPTIONAL { ?entity_uri rdfs:label ?label .}\n",
            "    OPTIONAL { ?entity_uri wkgs:nameEn ?nameEn .}\n",
            "  }\n",
            "  \n"
          ]
        },
        {
          "name": "stderr",
          "output_type": "stream",
          "text": [
            "\r 65%|██████▍   | 105/162 [00:53<00:30,  1.89it/s]"
          ]
        },
        {
          "name": "stdout",
          "output_type": "stream",
          "text": [
            "(100, 5)\n",
            "\n",
            "  PREFIX uom: <http://www.opengis.net/def/uom/OGC/1.0/>\n",
            "  PREFIX wkgs: <http://www.worldkg.org/schema/>\n",
            "  PREFIX wkg: <http://www.worldkg.org/resource/>\n",
            "  PREFIX wd: <http://www.wikidata.org/wiki/>\n",
            "  PREFIX sf: <http://www.opengis.net/ont/sf#>\n",
            "  PREFIX rdfs: <http://www.w3.org/2000/01/rdf-schema#>\n",
            "  PREFIX geo: <http://www.opengis.net/ont/geosparql#>\n",
            "  PREFIX owl: <http://www.w3.org/2002/07/owl#>\n",
            "  PREFIX rdf: <http://www.w3.org/1999/02/22-rdf-syntax-ns#>\n",
            "  SELECT DISTINCT ?entity_uri ?type ?label ?nameEn ?coordinates WHERE {\n",
            "    VALUES ?entity_uri {wkg:4413928822 wkg:4413928830 wkg:4413928831 wkg:4413928835 wkg:4413928856 wkg:4413928857 wkg:4413928863 wkg:4413928865 wkg:4413928868 wkg:4413928871 wkg:4413928879 wkg:4413928881 wkg:4413928884 wkg:4413928894 wkg:4413928895 wkg:4413928911 wkg:4413928912 wkg:4413928913 wkg:4413928919 wkg:4413928935 wkg:4413928936 wkg:4413928940 wkg:4413928948 wkg:4413928950 wkg:4413928961 wkg:4413928962 wkg:4413928974 wkg:4413928976 wkg:4413928979 wkg:4413928983 wkg:4413928988 wkg:4413928989 wkg:4413929014 wkg:4413929015 wkg:4413929016 wkg:4413929021 wkg:4413929029 wkg:4413929031 wkg:4413929034 wkg:4413929040 wkg:4413929043 wkg:4413929053 wkg:4413929059 wkg:4413929061 wkg:4413929066 wkg:4413929071 wkg:4413929076 wkg:4413929081 wkg:4413929092 wkg:4413929096 wkg:4413929098 wkg:4413929109 wkg:4413929110 wkg:4413929112 wkg:4413929126 wkg:4413929133 wkg:4413929135 wkg:4413929139 wkg:4413929152 wkg:4413929153 wkg:4413973581 wkg:4413973584 wkg:4413975595 wkg:4413975600 wkg:4413975604 wkg:4413975610 wkg:4413975612 wkg:4413975627 wkg:4413975632 wkg:4413975635 wkg:4413975636 wkg:4413975645 wkg:4413975650 wkg:4413975654 wkg:4413975655 wkg:4413975661 wkg:4413975663 wkg:4413975666 wkg:4413975667 wkg:4413975684 wkg:4413975789 wkg:4413975794 wkg:4413975798 wkg:4413975814 wkg:4413975825 wkg:4413975833 wkg:4413975839 wkg:4413975842 wkg:4413975846 wkg:4413975852 wkg:4413975868 wkg:4413975874 wkg:4413975886 wkg:4413975989 wkg:4413975990 wkg:4413975999 wkg:4413976010 wkg:4413976019 wkg:4413976023 wkg:4413976026} .\n",
            "    ?entity_uri wkgs:spatialObject ?geom.\n",
            "    ?geom geo:asWKT ?coordinates.\n",
            "    OPTIONAL { ?entity_uri rdf:type ?type .}\n",
            "    OPTIONAL { ?entity_uri rdfs:label ?label .}\n",
            "    OPTIONAL { ?entity_uri wkgs:nameEn ?nameEn .}\n",
            "  }\n",
            "  \n"
          ]
        },
        {
          "name": "stderr",
          "output_type": "stream",
          "text": [
            "\r 65%|██████▌   | 106/162 [00:53<00:29,  1.90it/s]"
          ]
        },
        {
          "name": "stdout",
          "output_type": "stream",
          "text": [
            "(100, 5)\n",
            "\n",
            "  PREFIX uom: <http://www.opengis.net/def/uom/OGC/1.0/>\n",
            "  PREFIX wkgs: <http://www.worldkg.org/schema/>\n",
            "  PREFIX wkg: <http://www.worldkg.org/resource/>\n",
            "  PREFIX wd: <http://www.wikidata.org/wiki/>\n",
            "  PREFIX sf: <http://www.opengis.net/ont/sf#>\n",
            "  PREFIX rdfs: <http://www.w3.org/2000/01/rdf-schema#>\n",
            "  PREFIX geo: <http://www.opengis.net/ont/geosparql#>\n",
            "  PREFIX owl: <http://www.w3.org/2002/07/owl#>\n",
            "  PREFIX rdf: <http://www.w3.org/1999/02/22-rdf-syntax-ns#>\n",
            "  SELECT DISTINCT ?entity_uri ?type ?label ?nameEn ?coordinates WHERE {\n",
            "    VALUES ?entity_uri {wkg:4413976047 wkg:4413976048 wkg:4413976055 wkg:4413976058 wkg:4413976064 wkg:4413976074 wkg:4413976095 wkg:4413976109 wkg:4413976112 wkg:4413976133 wkg:4413976139 wkg:4413976145 wkg:4413976149 wkg:4413976169 wkg:4413976170 wkg:4413976180 wkg:4413976181 wkg:4413976186 wkg:4413976194 wkg:4413976196 wkg:4413976204 wkg:4413976205 wkg:4413976214 wkg:4413976220 wkg:4413976225 wkg:4413976234 wkg:4413976237 wkg:4413976242 wkg:4414536000 wkg:4414536003 wkg:4414536011 wkg:4414536026 wkg:4414536036 wkg:4414536041 wkg:4414536057 wkg:4414536062 wkg:4414536074 wkg:4414536081 wkg:4414536086 wkg:4414536290 wkg:4414536294 wkg:4414536303 wkg:4414536306 wkg:4414536307 wkg:4414536316 wkg:4414536318 wkg:4414536332 wkg:4414536335 wkg:4414536337 wkg:4414536339 wkg:4414536341 wkg:4414536342 wkg:4414536343 wkg:4414536347 wkg:4414536352 wkg:4414536354 wkg:4414536360 wkg:4414536370 wkg:4414536373 wkg:4414536374 wkg:4414536375 wkg:4414536379 wkg:4414536383 wkg:4414536386 wkg:4414536387 wkg:4414536390 wkg:4414536394 wkg:4414536401 wkg:4414536413 wkg:4414536414 wkg:4414536417 wkg:4414536425 wkg:4414536439 wkg:4414536444 wkg:4414536451 wkg:4414536453 wkg:4414536461 wkg:4414536476 wkg:4414536479 wkg:4414536484 wkg:4414536793 wkg:4414536795 wkg:4414536796 wkg:4414536800 wkg:4414536802 wkg:4414536807 wkg:4414536808 wkg:4414536810 wkg:4414536815 wkg:4414536820 wkg:4414536821 wkg:4414536827 wkg:4414536836 wkg:4414536838 wkg:4414536839 wkg:4414536850 wkg:4414536851 wkg:4414536854 wkg:4414536865 wkg:4414536869} .\n",
            "    ?entity_uri wkgs:spatialObject ?geom.\n",
            "    ?geom geo:asWKT ?coordinates.\n",
            "    OPTIONAL { ?entity_uri rdf:type ?type .}\n",
            "    OPTIONAL { ?entity_uri rdfs:label ?label .}\n",
            "    OPTIONAL { ?entity_uri wkgs:nameEn ?nameEn .}\n",
            "  }\n",
            "  \n"
          ]
        },
        {
          "name": "stderr",
          "output_type": "stream",
          "text": [
            "\r 66%|██████▌   | 107/162 [00:54<00:28,  1.91it/s]"
          ]
        },
        {
          "name": "stdout",
          "output_type": "stream",
          "text": [
            "(100, 5)\n",
            "\n",
            "  PREFIX uom: <http://www.opengis.net/def/uom/OGC/1.0/>\n",
            "  PREFIX wkgs: <http://www.worldkg.org/schema/>\n",
            "  PREFIX wkg: <http://www.worldkg.org/resource/>\n",
            "  PREFIX wd: <http://www.wikidata.org/wiki/>\n",
            "  PREFIX sf: <http://www.opengis.net/ont/sf#>\n",
            "  PREFIX rdfs: <http://www.w3.org/2000/01/rdf-schema#>\n",
            "  PREFIX geo: <http://www.opengis.net/ont/geosparql#>\n",
            "  PREFIX owl: <http://www.w3.org/2002/07/owl#>\n",
            "  PREFIX rdf: <http://www.w3.org/1999/02/22-rdf-syntax-ns#>\n",
            "  SELECT DISTINCT ?entity_uri ?type ?label ?nameEn ?coordinates WHERE {\n",
            "    VALUES ?entity_uri {wkg:4414536874 wkg:4414536879 wkg:4414536883 wkg:4414536892 wkg:4414536894 wkg:4414536902 wkg:4414536914 wkg:4414536916 wkg:4414536918 wkg:4414536924 wkg:4414536937 wkg:4414536938 wkg:4414536954 wkg:4414536957 wkg:4414536970 wkg:4414536973 wkg:4414536974 wkg:4414536977 wkg:4414536979 wkg:4414536980 wkg:4414536983 wkg:4414536987 wkg:4414536988 wkg:4415127543 wkg:4415127548 wkg:4415127549 wkg:4415127550 wkg:4415127552 wkg:4415127556 wkg:4415127558 wkg:4415127563 wkg:4415127564 wkg:4415127567 wkg:4415127572 wkg:4415127576 wkg:4415127577 wkg:4415127581 wkg:4415127584 wkg:4415618628 wkg:4415618634 wkg:4415618639 wkg:4415618644 wkg:4415618645 wkg:4415618646 wkg:4415618660 wkg:4415618661 wkg:4415618682 wkg:4415618684 wkg:4415618686 wkg:4415618688 wkg:4415618689 wkg:4415618690 wkg:4415618692 wkg:4415618700 wkg:4415686635 wkg:4415686656 wkg:4415686657 wkg:4415696159 wkg:4415915759 wkg:4416197079 wkg:4417210579 wkg:4417745152 wkg:4417745156 wkg:4417745159 wkg:4417745173 wkg:4417745182 wkg:4417745185 wkg:4417745502 wkg:4417745504 wkg:4417745505 wkg:4417745522 wkg:4417745529 wkg:4417745530 wkg:4417745532 wkg:4417745533 wkg:4417745538 wkg:4417745548 wkg:4417745561 wkg:4417745563 wkg:4417745566 wkg:4417745569 wkg:4417745575 wkg:4418015235 wkg:4418015238 wkg:4418015246 wkg:4418015247 wkg:4418015252 wkg:4418015253 wkg:4418015254 wkg:4418015260 wkg:4418015271 wkg:4418015277 wkg:4418015285 wkg:4418016291 wkg:4418016307 wkg:4418016310 wkg:4418016314 wkg:4418016321 wkg:4418016327 wkg:4418016331} .\n",
            "    ?entity_uri wkgs:spatialObject ?geom.\n",
            "    ?geom geo:asWKT ?coordinates.\n",
            "    OPTIONAL { ?entity_uri rdf:type ?type .}\n",
            "    OPTIONAL { ?entity_uri rdfs:label ?label .}\n",
            "    OPTIONAL { ?entity_uri wkgs:nameEn ?nameEn .}\n",
            "  }\n",
            "  \n"
          ]
        },
        {
          "name": "stderr",
          "output_type": "stream",
          "text": [
            "\r 67%|██████▋   | 108/162 [00:54<00:28,  1.92it/s]"
          ]
        },
        {
          "name": "stdout",
          "output_type": "stream",
          "text": [
            "(101, 5)\n",
            "\n",
            "  PREFIX uom: <http://www.opengis.net/def/uom/OGC/1.0/>\n",
            "  PREFIX wkgs: <http://www.worldkg.org/schema/>\n",
            "  PREFIX wkg: <http://www.worldkg.org/resource/>\n",
            "  PREFIX wd: <http://www.wikidata.org/wiki/>\n",
            "  PREFIX sf: <http://www.opengis.net/ont/sf#>\n",
            "  PREFIX rdfs: <http://www.w3.org/2000/01/rdf-schema#>\n",
            "  PREFIX geo: <http://www.opengis.net/ont/geosparql#>\n",
            "  PREFIX owl: <http://www.w3.org/2002/07/owl#>\n",
            "  PREFIX rdf: <http://www.w3.org/1999/02/22-rdf-syntax-ns#>\n",
            "  SELECT DISTINCT ?entity_uri ?type ?label ?nameEn ?coordinates WHERE {\n",
            "    VALUES ?entity_uri {wkg:4418016340 wkg:4418016354 wkg:4418016357 wkg:4418016368 wkg:4418016369 wkg:4418016373 wkg:4418016374 wkg:4418016376 wkg:4418016385 wkg:4418016386 wkg:4418016889 wkg:4418016902 wkg:4418016909 wkg:4418016911 wkg:4418016912 wkg:4418016921 wkg:4418016928 wkg:4418016941 wkg:4418016947 wkg:4418016955 wkg:4418016969 wkg:4418016976 wkg:4418016980 wkg:4418016984 wkg:4418016985 wkg:4418016987 wkg:4418017101 wkg:4418017104 wkg:4418017106 wkg:4418017113 wkg:4418017119 wkg:4418017123 wkg:4418017152 wkg:4418017153 wkg:4418017160 wkg:4418017169 wkg:4418017178 wkg:4418017179 wkg:4418017181 wkg:4418017182 wkg:4418017205 wkg:4418017206 wkg:4418017208 wkg:4418017209 wkg:4418017214 wkg:4418017220 wkg:4418017221 wkg:4418017225 wkg:4418017229 wkg:4418017235 wkg:4418017241 wkg:4418017242 wkg:4418017246 wkg:4418017253 wkg:4418017259 wkg:4418017262 wkg:4418017263 wkg:4418017272 wkg:4418017274 wkg:4418017288 wkg:4418017496 wkg:4418017499 wkg:4418017503 wkg:4418017505 wkg:4418017506 wkg:4418017510 wkg:4418017512 wkg:4418017514 wkg:4418017517 wkg:4418017531 wkg:4418017536 wkg:4418017540 wkg:4418017541 wkg:4418017545 wkg:4418017551 wkg:4418017556 wkg:4418017559 wkg:4418017562 wkg:4418017573 wkg:4418017575 wkg:4418017582 wkg:4418017583 wkg:4418017596 wkg:4418017599 wkg:4418017604 wkg:4418017609 wkg:4418017610 wkg:4418017618 wkg:4418017622 wkg:4418017629 wkg:4418017630 wkg:4418017631 wkg:4418017641 wkg:4418017644 wkg:4418017648 wkg:4418017656 wkg:4418017657 wkg:4418017663 wkg:4418017668 wkg:4418017670} .\n",
            "    ?entity_uri wkgs:spatialObject ?geom.\n",
            "    ?geom geo:asWKT ?coordinates.\n",
            "    OPTIONAL { ?entity_uri rdf:type ?type .}\n",
            "    OPTIONAL { ?entity_uri rdfs:label ?label .}\n",
            "    OPTIONAL { ?entity_uri wkgs:nameEn ?nameEn .}\n",
            "  }\n",
            "  \n"
          ]
        },
        {
          "name": "stderr",
          "output_type": "stream",
          "text": [
            "\r 67%|██████▋   | 109/162 [00:55<00:27,  1.92it/s]"
          ]
        },
        {
          "name": "stdout",
          "output_type": "stream",
          "text": [
            "(100, 5)\n",
            "\n",
            "  PREFIX uom: <http://www.opengis.net/def/uom/OGC/1.0/>\n",
            "  PREFIX wkgs: <http://www.worldkg.org/schema/>\n",
            "  PREFIX wkg: <http://www.worldkg.org/resource/>\n",
            "  PREFIX wd: <http://www.wikidata.org/wiki/>\n",
            "  PREFIX sf: <http://www.opengis.net/ont/sf#>\n",
            "  PREFIX rdfs: <http://www.w3.org/2000/01/rdf-schema#>\n",
            "  PREFIX geo: <http://www.opengis.net/ont/geosparql#>\n",
            "  PREFIX owl: <http://www.w3.org/2002/07/owl#>\n",
            "  PREFIX rdf: <http://www.w3.org/1999/02/22-rdf-syntax-ns#>\n",
            "  SELECT DISTINCT ?entity_uri ?type ?label ?nameEn ?coordinates WHERE {\n",
            "    VALUES ?entity_uri {wkg:4418017683 wkg:4418017694 wkg:4418017698 wkg:4418017704 wkg:4418017705 wkg:4418017722 wkg:4418017724 wkg:4418017734 wkg:4418017745 wkg:4418017748 wkg:4418017750 wkg:4418017751 wkg:4418017753 wkg:4418017764 wkg:4418017773 wkg:4418017774 wkg:4418017776 wkg:4418017778 wkg:4418017784 wkg:4418017791 wkg:4418300334 wkg:441897378 wkg:4419478821 wkg:4419610929 wkg:4419610940 wkg:4419610947 wkg:4419610950 wkg:4419610954 wkg:4419610955 wkg:4419610970 wkg:4419610979 wkg:4419610980 wkg:4419610981 wkg:4419610988 wkg:4419612096 wkg:4419612105 wkg:4419612108 wkg:4419612109 wkg:4419612127 wkg:4419612139 wkg:4419612141 wkg:4419612153 wkg:4419612160 wkg:4419612163 wkg:4419612176 wkg:4419612183 wkg:4419612390 wkg:4419612392 wkg:4419612393 wkg:4419612397 wkg:4419612398 wkg:4419612405 wkg:4419612407 wkg:4419612410 wkg:4419612425 wkg:4419612430 wkg:4419612434 wkg:4419612438 wkg:4419612442 wkg:4419612447 wkg:4419612448 wkg:4419612451 wkg:4419612452 wkg:4419612453 wkg:4419612454 wkg:4419612463 wkg:4419612468 wkg:4419612470 wkg:4419612481 wkg:4419612483 wkg:4419612592 wkg:4419612593 wkg:4419612613 wkg:4419612626 wkg:4419612633 wkg:4419612665 wkg:4419612671 wkg:4419612675 wkg:4419612678 wkg:4419612679 wkg:4419612681 wkg:4419612684 wkg:4419612687 wkg:4419612699 wkg:4419612700 wkg:4419612701 wkg:4419612709 wkg:4419612713 wkg:4419612716 wkg:4419612722 wkg:4419612724 wkg:4419612740 wkg:4419612747 wkg:4419612751 wkg:4419612757 wkg:4419612759 wkg:4419612763 wkg:4419612771 wkg:4419612773 wkg:4419612775} .\n",
            "    ?entity_uri wkgs:spatialObject ?geom.\n",
            "    ?geom geo:asWKT ?coordinates.\n",
            "    OPTIONAL { ?entity_uri rdf:type ?type .}\n",
            "    OPTIONAL { ?entity_uri rdfs:label ?label .}\n",
            "    OPTIONAL { ?entity_uri wkgs:nameEn ?nameEn .}\n",
            "  }\n",
            "  \n"
          ]
        },
        {
          "name": "stderr",
          "output_type": "stream",
          "text": [
            "\r 68%|██████▊   | 110/162 [00:55<00:27,  1.92it/s]"
          ]
        },
        {
          "name": "stdout",
          "output_type": "stream",
          "text": [
            "(100, 5)\n",
            "\n",
            "  PREFIX uom: <http://www.opengis.net/def/uom/OGC/1.0/>\n",
            "  PREFIX wkgs: <http://www.worldkg.org/schema/>\n",
            "  PREFIX wkg: <http://www.worldkg.org/resource/>\n",
            "  PREFIX wd: <http://www.wikidata.org/wiki/>\n",
            "  PREFIX sf: <http://www.opengis.net/ont/sf#>\n",
            "  PREFIX rdfs: <http://www.w3.org/2000/01/rdf-schema#>\n",
            "  PREFIX geo: <http://www.opengis.net/ont/geosparql#>\n",
            "  PREFIX owl: <http://www.w3.org/2002/07/owl#>\n",
            "  PREFIX rdf: <http://www.w3.org/1999/02/22-rdf-syntax-ns#>\n",
            "  SELECT DISTINCT ?entity_uri ?type ?label ?nameEn ?coordinates WHERE {\n",
            "    VALUES ?entity_uri {wkg:4419612776 wkg:4419612784 wkg:4419612793 wkg:4419612795 wkg:4419612813 wkg:4419612814 wkg:4419612820 wkg:4419612821 wkg:4419612827 wkg:4419612838 wkg:4419612840 wkg:4419612843 wkg:4419612851 wkg:4419612852 wkg:4419612856 wkg:4419612858 wkg:4419612860 wkg:4419612868 wkg:4419612881 wkg:4419612885 wkg:4419612999 wkg:4419613000 wkg:4419613013 wkg:4419613014 wkg:4419613016 wkg:4419613017 wkg:4419613018 wkg:4419632084 wkg:4419976536 wkg:4419976539 wkg:4419976544 wkg:4419976551 wkg:4419976558 wkg:4419976570 wkg:4419976575 wkg:4419976581 wkg:4419976583 wkg:4419976585 wkg:4419977089 wkg:4419977100 wkg:4419977114 wkg:4419977117 wkg:4419977127 wkg:4419977128 wkg:4419977132 wkg:4419977149 wkg:4419977151 wkg:4420219810 wkg:4420219814 wkg:4420219825 wkg:4420219830 wkg:4420219834 wkg:4420219841 wkg:4420219843 wkg:4420219856 wkg:4420219867 wkg:4420219868 wkg:4420219871 wkg:4420219878 wkg:4420219882 wkg:4420220097 wkg:4420220098 wkg:4420220099 wkg:4420220102 wkg:4420220108 wkg:4420220132 wkg:4420220134 wkg:4420220137 wkg:4420220141 wkg:4420220146 wkg:4420220147 wkg:4420220154 wkg:4420220155 wkg:4420220157 wkg:4420220170 wkg:4420220171 wkg:4420220175 wkg:4420220177 wkg:4420220180 wkg:4420220184 wkg:4420280890 wkg:4420280906 wkg:4420280911 wkg:4420280914 wkg:4420280917 wkg:4420280928 wkg:4420280935 wkg:4420280939 wkg:4420280942 wkg:4420280944 wkg:4420280949 wkg:4420280960 wkg:4420280962 wkg:4420280964 wkg:4420280967 wkg:4420280972 wkg:4420280974 wkg:4420280976 wkg:4420280980 wkg:4420280990} .\n",
            "    ?entity_uri wkgs:spatialObject ?geom.\n",
            "    ?geom geo:asWKT ?coordinates.\n",
            "    OPTIONAL { ?entity_uri rdf:type ?type .}\n",
            "    OPTIONAL { ?entity_uri rdfs:label ?label .}\n",
            "    OPTIONAL { ?entity_uri wkgs:nameEn ?nameEn .}\n",
            "  }\n",
            "  \n"
          ]
        },
        {
          "name": "stderr",
          "output_type": "stream",
          "text": [
            "\r 69%|██████▊   | 111/162 [00:56<00:26,  1.92it/s]"
          ]
        },
        {
          "name": "stdout",
          "output_type": "stream",
          "text": [
            "(100, 5)\n",
            "\n",
            "  PREFIX uom: <http://www.opengis.net/def/uom/OGC/1.0/>\n",
            "  PREFIX wkgs: <http://www.worldkg.org/schema/>\n",
            "  PREFIX wkg: <http://www.worldkg.org/resource/>\n",
            "  PREFIX wd: <http://www.wikidata.org/wiki/>\n",
            "  PREFIX sf: <http://www.opengis.net/ont/sf#>\n",
            "  PREFIX rdfs: <http://www.w3.org/2000/01/rdf-schema#>\n",
            "  PREFIX geo: <http://www.opengis.net/ont/geosparql#>\n",
            "  PREFIX owl: <http://www.w3.org/2002/07/owl#>\n",
            "  PREFIX rdf: <http://www.w3.org/1999/02/22-rdf-syntax-ns#>\n",
            "  SELECT DISTINCT ?entity_uri ?type ?label ?nameEn ?coordinates WHERE {\n",
            "    VALUES ?entity_uri {wkg:4420280995 wkg:4420281016 wkg:4420281018 wkg:4420281028 wkg:4420808066 wkg:4420808068 wkg:4420808074 wkg:4420808077 wkg:4420808087 wkg:4420808201 wkg:4420808208 wkg:4420808231 wkg:4420808240 wkg:4420808244 wkg:4420808245 wkg:4420808247 wkg:4420808257 wkg:4420808258 wkg:4420808264 wkg:4420808280 wkg:4420808282 wkg:4420808287 wkg:4420808296 wkg:4420808298 wkg:4420808304 wkg:4420808323 wkg:4420808330 wkg:4420808337 wkg:4420808349 wkg:4420808368 wkg:4420808369 wkg:4420808375 wkg:4420808384 wkg:4420808389 wkg:4420808391 wkg:4420808392 wkg:4420808408 wkg:4420808426 wkg:4420808439 wkg:4420808441 wkg:4420808455 wkg:4420808461 wkg:4420808462 wkg:4420808467 wkg:4420808471 wkg:4420808473 wkg:4420808487 wkg:4420808509 wkg:4420808510 wkg:4420808521 wkg:4420808528 wkg:4420808530 wkg:4420808534 wkg:4420808536 wkg:4420808538 wkg:4420808541 wkg:4420808544 wkg:4420808547 wkg:4420808548 wkg:4420808549 wkg:4420808558 wkg:4420808560 wkg:4420808561 wkg:4420808562 wkg:4420808567 wkg:4420808572 wkg:4420808574 wkg:4420808578 wkg:4420808580 wkg:4420808581 wkg:4420808589 wkg:4420808594 wkg:4420808598 wkg:4420808600 wkg:4420808612 wkg:4420808617 wkg:4420808620 wkg:4420808624 wkg:442136278 wkg:4422259563 wkg:4422273086 wkg:4422273394 wkg:4422273395 wkg:4422273398 wkg:4422273402 wkg:4422273403 wkg:4422273420 wkg:4422273426 wkg:4422273430 wkg:4422273437 wkg:4422273438 wkg:4422273440 wkg:4422273447 wkg:4422273454 wkg:4422273456 wkg:4422273467 wkg:4422273471 wkg:4422273480 wkg:4422273486 wkg:4422273491} .\n",
            "    ?entity_uri wkgs:spatialObject ?geom.\n",
            "    ?geom geo:asWKT ?coordinates.\n",
            "    OPTIONAL { ?entity_uri rdf:type ?type .}\n",
            "    OPTIONAL { ?entity_uri rdfs:label ?label .}\n",
            "    OPTIONAL { ?entity_uri wkgs:nameEn ?nameEn .}\n",
            "  }\n",
            "  \n"
          ]
        },
        {
          "name": "stderr",
          "output_type": "stream",
          "text": [
            "\r 69%|██████▉   | 112/162 [00:56<00:26,  1.92it/s]"
          ]
        },
        {
          "name": "stdout",
          "output_type": "stream",
          "text": [
            "(100, 5)\n",
            "\n",
            "  PREFIX uom: <http://www.opengis.net/def/uom/OGC/1.0/>\n",
            "  PREFIX wkgs: <http://www.worldkg.org/schema/>\n",
            "  PREFIX wkg: <http://www.worldkg.org/resource/>\n",
            "  PREFIX wd: <http://www.wikidata.org/wiki/>\n",
            "  PREFIX sf: <http://www.opengis.net/ont/sf#>\n",
            "  PREFIX rdfs: <http://www.w3.org/2000/01/rdf-schema#>\n",
            "  PREFIX geo: <http://www.opengis.net/ont/geosparql#>\n",
            "  PREFIX owl: <http://www.w3.org/2002/07/owl#>\n",
            "  PREFIX rdf: <http://www.w3.org/1999/02/22-rdf-syntax-ns#>\n",
            "  SELECT DISTINCT ?entity_uri ?type ?label ?nameEn ?coordinates WHERE {\n",
            "    VALUES ?entity_uri {wkg:4422273496 wkg:4422273502 wkg:4422273505 wkg:4422273507 wkg:4422273512 wkg:4422273513 wkg:4422273521 wkg:4422273527 wkg:4422323269 wkg:4422343686 wkg:4422347112 wkg:4422365354 wkg:4422632976 wkg:4422637476 wkg:4422680389 wkg:4422680394 wkg:4422680407 wkg:4422680411 wkg:4422680416 wkg:4422680428 wkg:4422680438 wkg:4422680452 wkg:4422680454 wkg:4422680455 wkg:4422680462 wkg:4422680470 wkg:4422680478 wkg:4422680480 wkg:4422680484 wkg:4422680487 wkg:4422680493 wkg:4422680497 wkg:4422680504 wkg:4422680510 wkg:4422680512 wkg:4422680513 wkg:4422680523 wkg:4422680524 wkg:4422680529 wkg:4422680538 wkg:4422680541 wkg:4422680542 wkg:4422680547 wkg:4422680548 wkg:4422680550 wkg:4422680565 wkg:4422680566 wkg:4422680570 wkg:4422680579 wkg:4422680581 wkg:4422680585 wkg:4422680587 wkg:4422680588 wkg:4422680790 wkg:4422680794 wkg:4422680800 wkg:4422680801 wkg:4422680811 wkg:4422680812 wkg:4422680813 wkg:4422680822 wkg:4422680824 wkg:4422680836 wkg:4422680837 wkg:4422680846 wkg:4422680857 wkg:4422680867 wkg:4422680873 wkg:4422681097 wkg:4422681108 wkg:4422681123 wkg:4422681126 wkg:4422681128 wkg:4422681140 wkg:4422681142 wkg:4422681148 wkg:4422681163 wkg:4422681179 wkg:4422681184 wkg:4422681186 wkg:4422681187 wkg:4422681188 wkg:4422682300 wkg:4422682311 wkg:4422682321 wkg:4422682331 wkg:4422682335 wkg:4422682343 wkg:4422682368 wkg:4422682372 wkg:4422682388 wkg:4422683000 wkg:4422683001 wkg:4422683002 wkg:4422683005 wkg:4422683006 wkg:4422683007 wkg:4422683010 wkg:4422683011 wkg:4422683012} .\n",
            "    ?entity_uri wkgs:spatialObject ?geom.\n",
            "    ?geom geo:asWKT ?coordinates.\n",
            "    OPTIONAL { ?entity_uri rdf:type ?type .}\n",
            "    OPTIONAL { ?entity_uri rdfs:label ?label .}\n",
            "    OPTIONAL { ?entity_uri wkgs:nameEn ?nameEn .}\n",
            "  }\n",
            "  \n"
          ]
        },
        {
          "name": "stderr",
          "output_type": "stream",
          "text": [
            "\r 70%|██████▉   | 113/162 [00:57<00:25,  1.92it/s]"
          ]
        },
        {
          "name": "stdout",
          "output_type": "stream",
          "text": [
            "(100, 5)\n",
            "\n",
            "  PREFIX uom: <http://www.opengis.net/def/uom/OGC/1.0/>\n",
            "  PREFIX wkgs: <http://www.worldkg.org/schema/>\n",
            "  PREFIX wkg: <http://www.worldkg.org/resource/>\n",
            "  PREFIX wd: <http://www.wikidata.org/wiki/>\n",
            "  PREFIX sf: <http://www.opengis.net/ont/sf#>\n",
            "  PREFIX rdfs: <http://www.w3.org/2000/01/rdf-schema#>\n",
            "  PREFIX geo: <http://www.opengis.net/ont/geosparql#>\n",
            "  PREFIX owl: <http://www.w3.org/2002/07/owl#>\n",
            "  PREFIX rdf: <http://www.w3.org/1999/02/22-rdf-syntax-ns#>\n",
            "  SELECT DISTINCT ?entity_uri ?type ?label ?nameEn ?coordinates WHERE {\n",
            "    VALUES ?entity_uri {wkg:4422683013 wkg:4422683014 wkg:4422683015 wkg:4422683017 wkg:4422683019 wkg:4422683029 wkg:4422683035 wkg:4422683059 wkg:4422683070 wkg:4422683076 wkg:4422683087 wkg:4422683890 wkg:4422683892 wkg:4422683896 wkg:4422683898 wkg:4422683903 wkg:4422683914 wkg:4422683915 wkg:4422683920 wkg:4422683921 wkg:4422683930 wkg:4422683934 wkg:4422683940 wkg:4422683943 wkg:4422683958 wkg:4422683960 wkg:4422683962 wkg:4422683963 wkg:4422683970 wkg:4422683971 wkg:4422683974 wkg:4422683979 wkg:4422684489 wkg:4422684492 wkg:4422684497 wkg:4422684498 wkg:4422684503 wkg:4422684505 wkg:4422684511 wkg:4422684514 wkg:4422684516 wkg:4422684520 wkg:4422684530 wkg:4422684535 wkg:4422684540 wkg:4422684541 wkg:4422684552 wkg:4422684554 wkg:4422684561 wkg:4422684564 wkg:4422684571 wkg:4422684572 wkg:4422684574 wkg:4422684586 wkg:4422685594 wkg:4423697739 wkg:4424251455 wkg:4424251467 wkg:4424251468 wkg:4424251479 wkg:4424251481 wkg:4424251713 wkg:4424251732 wkg:4424251739 wkg:4424251745 wkg:4424251748 wkg:4424251750 wkg:4424251751 wkg:4424251756 wkg:4424251770 wkg:4424251774 wkg:4424251787 wkg:4424251897 wkg:4424251901 wkg:4424251902 wkg:4424251908 wkg:4424251912 wkg:4424251926 wkg:4424251930 wkg:4424251936 wkg:4424251948 wkg:4424251949 wkg:4424251957 wkg:4424251965 wkg:4424251978 wkg:4424251980 wkg:4424251985 wkg:4424252009 wkg:4424252011 wkg:4424252021 wkg:4424252028 wkg:4424252029 wkg:4424252034 wkg:4424252036 wkg:4424252041 wkg:4424252049 wkg:4424252051 wkg:4424252053 wkg:4424252056 wkg:4424252057} .\n",
            "    ?entity_uri wkgs:spatialObject ?geom.\n",
            "    ?geom geo:asWKT ?coordinates.\n",
            "    OPTIONAL { ?entity_uri rdf:type ?type .}\n",
            "    OPTIONAL { ?entity_uri rdfs:label ?label .}\n",
            "    OPTIONAL { ?entity_uri wkgs:nameEn ?nameEn .}\n",
            "  }\n",
            "  \n"
          ]
        },
        {
          "name": "stderr",
          "output_type": "stream",
          "text": [
            "\r 70%|███████   | 114/162 [00:57<00:25,  1.92it/s]"
          ]
        },
        {
          "name": "stdout",
          "output_type": "stream",
          "text": [
            "(100, 5)\n",
            "\n",
            "  PREFIX uom: <http://www.opengis.net/def/uom/OGC/1.0/>\n",
            "  PREFIX wkgs: <http://www.worldkg.org/schema/>\n",
            "  PREFIX wkg: <http://www.worldkg.org/resource/>\n",
            "  PREFIX wd: <http://www.wikidata.org/wiki/>\n",
            "  PREFIX sf: <http://www.opengis.net/ont/sf#>\n",
            "  PREFIX rdfs: <http://www.w3.org/2000/01/rdf-schema#>\n",
            "  PREFIX geo: <http://www.opengis.net/ont/geosparql#>\n",
            "  PREFIX owl: <http://www.w3.org/2002/07/owl#>\n",
            "  PREFIX rdf: <http://www.w3.org/1999/02/22-rdf-syntax-ns#>\n",
            "  SELECT DISTINCT ?entity_uri ?type ?label ?nameEn ?coordinates WHERE {\n",
            "    VALUES ?entity_uri {wkg:4424252060 wkg:4424252063 wkg:4424252069 wkg:4424252075 wkg:4424252079 wkg:4424252086 wkg:4424252087 wkg:4424252098 wkg:4424252104 wkg:4424252105 wkg:4424252109 wkg:4424252115 wkg:4424252119 wkg:4424252126 wkg:4424252129 wkg:4424252149 wkg:4424252152 wkg:4424252156 wkg:4424252164 wkg:4424252165 wkg:4424252166 wkg:4424252182 wkg:4424252188 wkg:4424253091 wkg:4424253096 wkg:4424253098 wkg:4424253108 wkg:4424253111 wkg:4424253125 wkg:4424253143 wkg:4424253148 wkg:4424253150 wkg:4424253155 wkg:4424253157 wkg:4424253159 wkg:4424611059 wkg:4424617330 wkg:4424634802 wkg:4424639902 wkg:4424639906 wkg:4424639909 wkg:4424639910 wkg:4424639915 wkg:4424639919 wkg:4424639932 wkg:4424905342 wkg:4424905343 wkg:4424905354 wkg:4424905355 wkg:4424905357 wkg:4424905371 wkg:4424905377 wkg:4424905385 wkg:4424905387 wkg:4424905697 wkg:4424905698 wkg:4424905701 wkg:4424905703 wkg:4424905710 wkg:4424905711 wkg:4424905713 wkg:4424905721 wkg:4424905722 wkg:4424905723 wkg:4424905724 wkg:4424905727 wkg:4424905728 wkg:4424905731 wkg:4424905734 wkg:4424905746 wkg:4424905756 wkg:4424905757 wkg:4424905769 wkg:4424905779 wkg:4424905787 wkg:4424905792 wkg:4424905802 wkg:4424905803 wkg:4424905810 wkg:4424905825 wkg:4424905830 wkg:4424905831 wkg:4424905842 wkg:4424905851 wkg:4424905854 wkg:4424905856 wkg:4424905862 wkg:4424905868 wkg:4424905872 wkg:4424905883 wkg:4424905884 wkg:4424905890 wkg:4424905891 wkg:4424905900 wkg:4424905901 wkg:4424905912 wkg:4424905919 wkg:4424905930 wkg:4424905944 wkg:4424905945} .\n",
            "    ?entity_uri wkgs:spatialObject ?geom.\n",
            "    ?geom geo:asWKT ?coordinates.\n",
            "    OPTIONAL { ?entity_uri rdf:type ?type .}\n",
            "    OPTIONAL { ?entity_uri rdfs:label ?label .}\n",
            "    OPTIONAL { ?entity_uri wkgs:nameEn ?nameEn .}\n",
            "  }\n",
            "  \n"
          ]
        },
        {
          "name": "stderr",
          "output_type": "stream",
          "text": [
            "\r 71%|███████   | 115/162 [00:58<00:24,  1.92it/s]"
          ]
        },
        {
          "name": "stdout",
          "output_type": "stream",
          "text": [
            "(100, 5)\n",
            "\n",
            "  PREFIX uom: <http://www.opengis.net/def/uom/OGC/1.0/>\n",
            "  PREFIX wkgs: <http://www.worldkg.org/schema/>\n",
            "  PREFIX wkg: <http://www.worldkg.org/resource/>\n",
            "  PREFIX wd: <http://www.wikidata.org/wiki/>\n",
            "  PREFIX sf: <http://www.opengis.net/ont/sf#>\n",
            "  PREFIX rdfs: <http://www.w3.org/2000/01/rdf-schema#>\n",
            "  PREFIX geo: <http://www.opengis.net/ont/geosparql#>\n",
            "  PREFIX owl: <http://www.w3.org/2002/07/owl#>\n",
            "  PREFIX rdf: <http://www.w3.org/1999/02/22-rdf-syntax-ns#>\n",
            "  SELECT DISTINCT ?entity_uri ?type ?label ?nameEn ?coordinates WHERE {\n",
            "    VALUES ?entity_uri {wkg:4424905952 wkg:4424905954 wkg:4424905955 wkg:4424905956 wkg:4424905958 wkg:4424905961 wkg:4424905970 wkg:4424905972 wkg:4424905973 wkg:4424905980 wkg:4424905982 wkg:4424905983 wkg:4424905986 wkg:4424905994 wkg:4424905995 wkg:4424905997 wkg:4424906001 wkg:4424906002 wkg:4424906003 wkg:4424906004 wkg:4424906005 wkg:4424906007 wkg:4424906012 wkg:4424906027 wkg:4424906028 wkg:4424906042 wkg:4424906046 wkg:4424906054 wkg:4424906055 wkg:4424906058 wkg:4424906065 wkg:4424906066 wkg:4424906073 wkg:4424906079 wkg:4424906082 wkg:4424906084 wkg:4424906088 wkg:4424906091 wkg:4424906092 wkg:4424906098 wkg:4424906105 wkg:4424906106 wkg:4424906107 wkg:4424906112 wkg:4424906114 wkg:4424906115 wkg:4424906121 wkg:4424906124 wkg:4424906126 wkg:4424906129 wkg:4424906131 wkg:4424906134 wkg:4424906135 wkg:4424906138 wkg:4424906139 wkg:4424906145 wkg:4424906149 wkg:4424906155 wkg:4424906156 wkg:4424906161 wkg:4424906162 wkg:4424906166 wkg:4424906170 wkg:442533918 wkg:4425346352 wkg:4425499485 wkg:4425564635 wkg:4425564645 wkg:4426473734 wkg:4426573845 wkg:4426847464 wkg:4426847487 wkg:4426848889 wkg:4426848896 wkg:4426848897 wkg:4426848911 wkg:4426848912 wkg:4426848922 wkg:4426848925 wkg:4426848931 wkg:4426848933 wkg:4426848937 wkg:4426848942 wkg:4426848952 wkg:4426848954 wkg:4426848955 wkg:4426848960 wkg:4426848961 wkg:4426848962 wkg:4426848963 wkg:4426848977 wkg:4426848980 wkg:4426848982 wkg:4426848983 wkg:4426848986 wkg:4426849696 wkg:4426849711 wkg:4426849712 wkg:4426849714 wkg:4426849720} .\n",
            "    ?entity_uri wkgs:spatialObject ?geom.\n",
            "    ?geom geo:asWKT ?coordinates.\n",
            "    OPTIONAL { ?entity_uri rdf:type ?type .}\n",
            "    OPTIONAL { ?entity_uri rdfs:label ?label .}\n",
            "    OPTIONAL { ?entity_uri wkgs:nameEn ?nameEn .}\n",
            "  }\n",
            "  \n"
          ]
        },
        {
          "name": "stderr",
          "output_type": "stream",
          "text": [
            "\r 72%|███████▏  | 116/162 [00:58<00:23,  1.92it/s]"
          ]
        },
        {
          "name": "stdout",
          "output_type": "stream",
          "text": [
            "(100, 5)\n",
            "\n",
            "  PREFIX uom: <http://www.opengis.net/def/uom/OGC/1.0/>\n",
            "  PREFIX wkgs: <http://www.worldkg.org/schema/>\n",
            "  PREFIX wkg: <http://www.worldkg.org/resource/>\n",
            "  PREFIX wd: <http://www.wikidata.org/wiki/>\n",
            "  PREFIX sf: <http://www.opengis.net/ont/sf#>\n",
            "  PREFIX rdfs: <http://www.w3.org/2000/01/rdf-schema#>\n",
            "  PREFIX geo: <http://www.opengis.net/ont/geosparql#>\n",
            "  PREFIX owl: <http://www.w3.org/2002/07/owl#>\n",
            "  PREFIX rdf: <http://www.w3.org/1999/02/22-rdf-syntax-ns#>\n",
            "  SELECT DISTINCT ?entity_uri ?type ?label ?nameEn ?coordinates WHERE {\n",
            "    VALUES ?entity_uri {wkg:4426849732 wkg:4426849735 wkg:4426849753 wkg:4426849759 wkg:4426849760 wkg:4426849766 wkg:4426849774 wkg:4426849781 wkg:4426850291 wkg:4426850293 wkg:4426850299 wkg:4426850306 wkg:4426850308 wkg:4426850317 wkg:4426850321 wkg:4426850326 wkg:4426850333 wkg:4426850334 wkg:4426850336 wkg:4426850340 wkg:4426850347 wkg:4426850350 wkg:4426850356 wkg:4426850357 wkg:4426850363 wkg:4426850364 wkg:4426850366 wkg:4426850370 wkg:4426850376 wkg:4426850377 wkg:4426850381 wkg:4426850384 wkg:4426850387 wkg:4426850794 wkg:4426850796 wkg:4426850800 wkg:4426850804 wkg:4426850808 wkg:4426850813 wkg:4426850815 wkg:4426850819 wkg:4426850836 wkg:4426850841 wkg:4426850848 wkg:4426850849 wkg:4426850855 wkg:4426850857 wkg:4426850862 wkg:4426850864 wkg:4426850874 wkg:4426850888 wkg:4426851589 wkg:4426851591 wkg:4426851594 wkg:4426851599 wkg:4426851604 wkg:4426851609 wkg:4426851618 wkg:4426851620 wkg:4426851622 wkg:4426851626 wkg:4426851630 wkg:4426851634 wkg:4426851637 wkg:4426851639 wkg:4426851642 wkg:4426851646 wkg:4426851649 wkg:4426851650 wkg:4426851655 wkg:4426851667 wkg:4426851672 wkg:4426851674 wkg:4426851680 wkg:4426851684 wkg:4426851687 wkg:4426851799 wkg:4426851803 wkg:4426851806 wkg:4426851808 wkg:4426851809 wkg:4426851829 wkg:4426851839 wkg:4426851842 wkg:4426851843 wkg:4426851851 wkg:4426851852 wkg:4426851853 wkg:4426851854 wkg:4426851857 wkg:4426851859 wkg:4426851862 wkg:4426851864 wkg:4426851869 wkg:4426851873 wkg:4426851876 wkg:4426851885 wkg:4426851888 wkg:4426851897 wkg:4426851906} .\n",
            "    ?entity_uri wkgs:spatialObject ?geom.\n",
            "    ?geom geo:asWKT ?coordinates.\n",
            "    OPTIONAL { ?entity_uri rdf:type ?type .}\n",
            "    OPTIONAL { ?entity_uri rdfs:label ?label .}\n",
            "    OPTIONAL { ?entity_uri wkgs:nameEn ?nameEn .}\n",
            "  }\n",
            "  \n"
          ]
        },
        {
          "name": "stderr",
          "output_type": "stream",
          "text": [
            "\r 72%|███████▏  | 117/162 [00:59<00:23,  1.92it/s]"
          ]
        },
        {
          "name": "stdout",
          "output_type": "stream",
          "text": [
            "(100, 5)\n",
            "\n",
            "  PREFIX uom: <http://www.opengis.net/def/uom/OGC/1.0/>\n",
            "  PREFIX wkgs: <http://www.worldkg.org/schema/>\n",
            "  PREFIX wkg: <http://www.worldkg.org/resource/>\n",
            "  PREFIX wd: <http://www.wikidata.org/wiki/>\n",
            "  PREFIX sf: <http://www.opengis.net/ont/sf#>\n",
            "  PREFIX rdfs: <http://www.w3.org/2000/01/rdf-schema#>\n",
            "  PREFIX geo: <http://www.opengis.net/ont/geosparql#>\n",
            "  PREFIX owl: <http://www.w3.org/2002/07/owl#>\n",
            "  PREFIX rdf: <http://www.w3.org/1999/02/22-rdf-syntax-ns#>\n",
            "  SELECT DISTINCT ?entity_uri ?type ?label ?nameEn ?coordinates WHERE {\n",
            "    VALUES ?entity_uri {wkg:4426851913 wkg:4426851919 wkg:4426851920 wkg:4426851926 wkg:4426851934 wkg:4426851937 wkg:4426851939 wkg:4426851945 wkg:4426851949 wkg:4426851960 wkg:4426851961 wkg:4426851972 wkg:4426851982 wkg:4426851988 wkg:4426851993 wkg:4426851996 wkg:4426852002 wkg:4426852007 wkg:4426852010 wkg:4426852011 wkg:4426852018 wkg:4426852025 wkg:4426852047 wkg:4426852059 wkg:4426852064 wkg:4426852065 wkg:4426852078 wkg:4426852083 wkg:4426852088 wkg:4426852191 wkg:4426852196 wkg:4426852200 wkg:4426852209 wkg:4426852210 wkg:4426852211 wkg:4426852218 wkg:4426852222 wkg:4426852229 wkg:4426852239 wkg:4426852249 wkg:4426852252 wkg:4426852256 wkg:4426852268 wkg:4426852273 wkg:4427845352 wkg:4428029509 wkg:4429159172 wkg:4429159183 wkg:4429159185 wkg:4429160290 wkg:4429160311 wkg:4429160315 wkg:4429160325 wkg:4429160331 wkg:4429160333 wkg:4429160349 wkg:4429160353 wkg:4429160356 wkg:4429160359 wkg:4429160360 wkg:4429160365 wkg:4429160370 wkg:4429160372 wkg:4429160376 wkg:4429160378 wkg:4429160379 wkg:4429160382 wkg:4429160386 wkg:4429160590 wkg:4429160597 wkg:4429160602 wkg:4429160619 wkg:4429160629 wkg:4429160635 wkg:4429160636 wkg:4429160641 wkg:4429160642 wkg:4429160644 wkg:4429160649 wkg:4429160654 wkg:4429160656 wkg:4429160661 wkg:4429160664 wkg:4429160674 wkg:4429160678 wkg:4429160683 wkg:4429160685 wkg:4429160699 wkg:4429160704 wkg:4429160710 wkg:4429160712 wkg:4429160719 wkg:4429160721 wkg:4429160727 wkg:4429160729 wkg:4429160730 wkg:4429160737 wkg:4429160755 wkg:4429160756 wkg:4429160763} .\n",
            "    ?entity_uri wkgs:spatialObject ?geom.\n",
            "    ?geom geo:asWKT ?coordinates.\n",
            "    OPTIONAL { ?entity_uri rdf:type ?type .}\n",
            "    OPTIONAL { ?entity_uri rdfs:label ?label .}\n",
            "    OPTIONAL { ?entity_uri wkgs:nameEn ?nameEn .}\n",
            "  }\n",
            "  \n"
          ]
        },
        {
          "name": "stderr",
          "output_type": "stream",
          "text": [
            "\r 73%|███████▎  | 118/162 [01:00<00:23,  1.84it/s]"
          ]
        },
        {
          "name": "stdout",
          "output_type": "stream",
          "text": [
            "(100, 5)\n",
            "\n",
            "  PREFIX uom: <http://www.opengis.net/def/uom/OGC/1.0/>\n",
            "  PREFIX wkgs: <http://www.worldkg.org/schema/>\n",
            "  PREFIX wkg: <http://www.worldkg.org/resource/>\n",
            "  PREFIX wd: <http://www.wikidata.org/wiki/>\n",
            "  PREFIX sf: <http://www.opengis.net/ont/sf#>\n",
            "  PREFIX rdfs: <http://www.w3.org/2000/01/rdf-schema#>\n",
            "  PREFIX geo: <http://www.opengis.net/ont/geosparql#>\n",
            "  PREFIX owl: <http://www.w3.org/2002/07/owl#>\n",
            "  PREFIX rdf: <http://www.w3.org/1999/02/22-rdf-syntax-ns#>\n",
            "  SELECT DISTINCT ?entity_uri ?type ?label ?nameEn ?coordinates WHERE {\n",
            "    VALUES ?entity_uri {wkg:4429160764 wkg:4429160774 wkg:4429160775 wkg:4429160780 wkg:4429160781 wkg:4429160782 wkg:4429160783 wkg:4429160787 wkg:4429160796 wkg:4429160799 wkg:4429160804 wkg:4429160810 wkg:4429160813 wkg:4429160815 wkg:4429160818 wkg:4429160822 wkg:4429160830 wkg:4429160831 wkg:4429160832 wkg:4429160835 wkg:4429160837 wkg:4429160842 wkg:4429160851 wkg:4429160857 wkg:4429160862 wkg:4429160867 wkg:4429160871 wkg:4429347035 wkg:4429347039 wkg:4429347040 wkg:4429347043 wkg:4429347045 wkg:4429347061 wkg:4429347065 wkg:4429347068 wkg:4429347083 wkg:4430399892 wkg:4431085833 wkg:443214707 wkg:443214903 wkg:443215238 wkg:443216190 wkg:443216727 wkg:443230426 wkg:4432872130 wkg:443289127 wkg:443306584 wkg:443314979 wkg:443315178 wkg:4433304798 wkg:4433304799 wkg:4433304805 wkg:4433304807 wkg:4433304815 wkg:4433304824 wkg:4433304826 wkg:4433304830 wkg:4433304835 wkg:4433304841 wkg:4433304847 wkg:4433304848 wkg:4433304849 wkg:4433304850 wkg:4433304857 wkg:4433304867 wkg:4433304873 wkg:4433306389 wkg:4433306395 wkg:4433306403 wkg:4433306413 wkg:4433306421 wkg:4433306425 wkg:4433306432 wkg:4433306435 wkg:4433306437 wkg:4433306443 wkg:4433306450 wkg:4433306452 wkg:4433306458 wkg:4433306467 wkg:4433306480 wkg:4433306483 wkg:4433306486 wkg:4433306487 wkg:4433306596 wkg:4433306604 wkg:4433306605 wkg:4433306606 wkg:4433306608 wkg:4433306622 wkg:4433306623 wkg:4433306624 wkg:4433306643 wkg:4433306655 wkg:4433306657 wkg:4433306662 wkg:4433306665 wkg:4433306669 wkg:4433306671 wkg:4433306673} .\n",
            "    ?entity_uri wkgs:spatialObject ?geom.\n",
            "    ?geom geo:asWKT ?coordinates.\n",
            "    OPTIONAL { ?entity_uri rdf:type ?type .}\n",
            "    OPTIONAL { ?entity_uri rdfs:label ?label .}\n",
            "    OPTIONAL { ?entity_uri wkgs:nameEn ?nameEn .}\n",
            "  }\n",
            "  \n"
          ]
        },
        {
          "name": "stderr",
          "output_type": "stream",
          "text": [
            "\r 73%|███████▎  | 119/162 [01:00<00:23,  1.86it/s]"
          ]
        },
        {
          "name": "stdout",
          "output_type": "stream",
          "text": [
            "(100, 5)\n",
            "\n",
            "  PREFIX uom: <http://www.opengis.net/def/uom/OGC/1.0/>\n",
            "  PREFIX wkgs: <http://www.worldkg.org/schema/>\n",
            "  PREFIX wkg: <http://www.worldkg.org/resource/>\n",
            "  PREFIX wd: <http://www.wikidata.org/wiki/>\n",
            "  PREFIX sf: <http://www.opengis.net/ont/sf#>\n",
            "  PREFIX rdfs: <http://www.w3.org/2000/01/rdf-schema#>\n",
            "  PREFIX geo: <http://www.opengis.net/ont/geosparql#>\n",
            "  PREFIX owl: <http://www.w3.org/2002/07/owl#>\n",
            "  PREFIX rdf: <http://www.w3.org/1999/02/22-rdf-syntax-ns#>\n",
            "  SELECT DISTINCT ?entity_uri ?type ?label ?nameEn ?coordinates WHERE {\n",
            "    VALUES ?entity_uri {wkg:4433306677 wkg:4433306678 wkg:4433306679 wkg:4433306688 wkg:4433306789 wkg:4433306790 wkg:4433306794 wkg:4433306798 wkg:4433306801 wkg:4433306802 wkg:4433306805 wkg:4433306807 wkg:4433306809 wkg:4433306819 wkg:4433306820 wkg:4433306824 wkg:4433306842 wkg:4433306843 wkg:4433306844 wkg:4433306845 wkg:4433306847 wkg:4433306856 wkg:4433306857 wkg:4433306875 wkg:4433306876 wkg:4433306879 wkg:4433306881 wkg:4433306889 wkg:4433306892 wkg:4433306902 wkg:4433306905 wkg:4433306907 wkg:4433306910 wkg:4433306919 wkg:4433306922 wkg:4433306926 wkg:4433306927 wkg:4433306938 wkg:4433306967 wkg:4433306969 wkg:4433306973 wkg:4433306974 wkg:4433306975 wkg:4433306982 wkg:4433306994 wkg:4433307007 wkg:4433307009 wkg:4433307010 wkg:4433307014 wkg:4433307019 wkg:4433307021 wkg:4433307022 wkg:4433307025 wkg:4433307026 wkg:4433307028 wkg:4433307031 wkg:4433307032 wkg:4433307036 wkg:4433307042 wkg:4433307044 wkg:4433307052 wkg:4433307056 wkg:4433307061 wkg:4433307066 wkg:4433307072 wkg:4433307081 wkg:4433307083 wkg:4433307084 wkg:4433307088 wkg:4433307291 wkg:4433307296 wkg:4433307314 wkg:4433307321 wkg:4433307335 wkg:4433307336 wkg:4433307344 wkg:4433307347 wkg:4433307348 wkg:4433307355 wkg:4433307356 wkg:4433307370 wkg:4433307496 wkg:4433307498 wkg:4433307503 wkg:4433307507 wkg:4433307508 wkg:4433307509 wkg:4433307511 wkg:4433307514 wkg:4433307515 wkg:4433307520 wkg:4433307529 wkg:4433307534 wkg:4433307544 wkg:4433307547 wkg:4433307552 wkg:4433307563 wkg:4433307572 wkg:4433307575 wkg:4433307576} .\n",
            "    ?entity_uri wkgs:spatialObject ?geom.\n",
            "    ?geom geo:asWKT ?coordinates.\n",
            "    OPTIONAL { ?entity_uri rdf:type ?type .}\n",
            "    OPTIONAL { ?entity_uri rdfs:label ?label .}\n",
            "    OPTIONAL { ?entity_uri wkgs:nameEn ?nameEn .}\n",
            "  }\n",
            "  \n"
          ]
        },
        {
          "name": "stderr",
          "output_type": "stream",
          "text": [
            "\r 74%|███████▍  | 120/162 [01:01<00:22,  1.88it/s]"
          ]
        },
        {
          "name": "stdout",
          "output_type": "stream",
          "text": [
            "(100, 5)\n",
            "\n",
            "  PREFIX uom: <http://www.opengis.net/def/uom/OGC/1.0/>\n",
            "  PREFIX wkgs: <http://www.worldkg.org/schema/>\n",
            "  PREFIX wkg: <http://www.worldkg.org/resource/>\n",
            "  PREFIX wd: <http://www.wikidata.org/wiki/>\n",
            "  PREFIX sf: <http://www.opengis.net/ont/sf#>\n",
            "  PREFIX rdfs: <http://www.w3.org/2000/01/rdf-schema#>\n",
            "  PREFIX geo: <http://www.opengis.net/ont/geosparql#>\n",
            "  PREFIX owl: <http://www.w3.org/2002/07/owl#>\n",
            "  PREFIX rdf: <http://www.w3.org/1999/02/22-rdf-syntax-ns#>\n",
            "  SELECT DISTINCT ?entity_uri ?type ?label ?nameEn ?coordinates WHERE {\n",
            "    VALUES ?entity_uri {wkg:4433307578 wkg:4433307588 wkg:4433307600 wkg:4433307610 wkg:4433307620 wkg:4433307624 wkg:4433307630 wkg:4433307638 wkg:4433307654 wkg:4433307662 wkg:4433307663 wkg:4433307676 wkg:4433307680 wkg:4433307687 wkg:4433308190 wkg:4433308193 wkg:4433308195 wkg:4433308199 wkg:4433308200 wkg:4433308206 wkg:4433308211 wkg:4433308219 wkg:4433308222 wkg:4433308226 wkg:4433308229 wkg:4433308243 wkg:4433308244 wkg:4433308253 wkg:4433308260 wkg:4433308270 wkg:4433308273 wkg:4433308275 wkg:4433308287 wkg:4433308288 wkg:4433308490 wkg:4433308497 wkg:4433308505 wkg:4433308510 wkg:4433308523 wkg:4433308526 wkg:4433308527 wkg:4433308529 wkg:4433308539 wkg:4433308540 wkg:4433308544 wkg:4433308548 wkg:4433308549 wkg:4433308559 wkg:4433308561 wkg:4433308566 wkg:4433308568 wkg:4433308573 wkg:4433308581 wkg:4433308582 wkg:4433308588 wkg:4433308793 wkg:4433308796 wkg:4433308804 wkg:4433308809 wkg:4433308812 wkg:4433308814 wkg:4433308815 wkg:4433308816 wkg:4433308818 wkg:4433308820 wkg:4433308823 wkg:4433308831 wkg:4433308838 wkg:4433308842 wkg:4433308844 wkg:4433308846 wkg:4433308848 wkg:4433308851 wkg:4433308860 wkg:4433308862 wkg:4433308873 wkg:4433308877 wkg:4433308880 wkg:4433308882 wkg:4433308885 wkg:4433308887 wkg:4433309094 wkg:4433309096 wkg:4433309098 wkg:4433309109 wkg:4433309114 wkg:4433309121 wkg:4433309129 wkg:4433309130 wkg:4433309140 wkg:4433309143 wkg:4433309145 wkg:4433309154 wkg:4433309156 wkg:4433309161 wkg:4433309164 wkg:4433309167 wkg:4433309178 wkg:4433309182 wkg:4433309189} .\n",
            "    ?entity_uri wkgs:spatialObject ?geom.\n",
            "    ?geom geo:asWKT ?coordinates.\n",
            "    OPTIONAL { ?entity_uri rdf:type ?type .}\n",
            "    OPTIONAL { ?entity_uri rdfs:label ?label .}\n",
            "    OPTIONAL { ?entity_uri wkgs:nameEn ?nameEn .}\n",
            "  }\n",
            "  \n"
          ]
        },
        {
          "name": "stderr",
          "output_type": "stream",
          "text": [
            "\r 75%|███████▍  | 121/162 [01:01<00:21,  1.90it/s]"
          ]
        },
        {
          "name": "stdout",
          "output_type": "stream",
          "text": [
            "(100, 5)\n",
            "\n",
            "  PREFIX uom: <http://www.opengis.net/def/uom/OGC/1.0/>\n",
            "  PREFIX wkgs: <http://www.worldkg.org/schema/>\n",
            "  PREFIX wkg: <http://www.worldkg.org/resource/>\n",
            "  PREFIX wd: <http://www.wikidata.org/wiki/>\n",
            "  PREFIX sf: <http://www.opengis.net/ont/sf#>\n",
            "  PREFIX rdfs: <http://www.w3.org/2000/01/rdf-schema#>\n",
            "  PREFIX geo: <http://www.opengis.net/ont/geosparql#>\n",
            "  PREFIX owl: <http://www.w3.org/2002/07/owl#>\n",
            "  PREFIX rdf: <http://www.w3.org/1999/02/22-rdf-syntax-ns#>\n",
            "  SELECT DISTINCT ?entity_uri ?type ?label ?nameEn ?coordinates WHERE {\n",
            "    VALUES ?entity_uri {wkg:4433309190 wkg:4433309191 wkg:4433309197 wkg:4433309200 wkg:4433309202 wkg:4433309212 wkg:4433309231 wkg:4433309232 wkg:4433309236 wkg:4433309244 wkg:4433309246 wkg:4433309248 wkg:4433309249 wkg:4433309255 wkg:4433309261 wkg:4433309265 wkg:4433309272 wkg:4433309284 wkg:4433309286 wkg:4433309396 wkg:4433309402 wkg:4433309413 wkg:4433309416 wkg:4433309418 wkg:4433309425 wkg:4433309427 wkg:4433309444 wkg:4433309445 wkg:4433309450 wkg:4433309457 wkg:4433309466 wkg:4433309467 wkg:4433309470 wkg:4433309479 wkg:4433309480 wkg:4433309482 wkg:4433309890 wkg:4433309891 wkg:4433309895 wkg:4433309897 wkg:4433309901 wkg:4433309906 wkg:4433309907 wkg:4433309909 wkg:4433309912 wkg:4433309913 wkg:4433309922 wkg:4433309923 wkg:4433309930 wkg:4433309942 wkg:4433309946 wkg:4433309947 wkg:4433309954 wkg:4433309955 wkg:4433309959 wkg:4433309970 wkg:4433309973 wkg:4433310189 wkg:4433310213 wkg:4433310214 wkg:4433310216 wkg:4433310228 wkg:4433310230 wkg:4433310233 wkg:4433310246 wkg:4433310247 wkg:4433310270 wkg:4433310275 wkg:4433310281 wkg:4433310291 wkg:4433310294 wkg:4433310298 wkg:4433310331 wkg:4433310337 wkg:4433310339 wkg:4433310346 wkg:4433310353 wkg:4433310357 wkg:4433310358 wkg:4433310362 wkg:4433310377 wkg:4433310379 wkg:4433310383 wkg:4433310690 wkg:4433310693 wkg:4433310696 wkg:4433456507 wkg:4433473940 wkg:443366863 wkg:443367593 wkg:443370485 wkg:443373725 wkg:443373866 wkg:443373924 wkg:443376633 wkg:443383973 wkg:4433871916 wkg:4433871954 wkg:4433884620 wkg:4434107723} .\n",
            "    ?entity_uri wkgs:spatialObject ?geom.\n",
            "    ?geom geo:asWKT ?coordinates.\n",
            "    OPTIONAL { ?entity_uri rdf:type ?type .}\n",
            "    OPTIONAL { ?entity_uri rdfs:label ?label .}\n",
            "    OPTIONAL { ?entity_uri wkgs:nameEn ?nameEn .}\n",
            "  }\n",
            "  \n"
          ]
        },
        {
          "name": "stderr",
          "output_type": "stream",
          "text": [
            "\r 75%|███████▌  | 122/162 [01:02<00:21,  1.90it/s]"
          ]
        },
        {
          "name": "stdout",
          "output_type": "stream",
          "text": [
            "(100, 5)\n",
            "\n",
            "  PREFIX uom: <http://www.opengis.net/def/uom/OGC/1.0/>\n",
            "  PREFIX wkgs: <http://www.worldkg.org/schema/>\n",
            "  PREFIX wkg: <http://www.worldkg.org/resource/>\n",
            "  PREFIX wd: <http://www.wikidata.org/wiki/>\n",
            "  PREFIX sf: <http://www.opengis.net/ont/sf#>\n",
            "  PREFIX rdfs: <http://www.w3.org/2000/01/rdf-schema#>\n",
            "  PREFIX geo: <http://www.opengis.net/ont/geosparql#>\n",
            "  PREFIX owl: <http://www.w3.org/2002/07/owl#>\n",
            "  PREFIX rdf: <http://www.w3.org/1999/02/22-rdf-syntax-ns#>\n",
            "  SELECT DISTINCT ?entity_uri ?type ?label ?nameEn ?coordinates WHERE {\n",
            "    VALUES ?entity_uri {wkg:4434466614 wkg:4434502749 wkg:4434598343 wkg:4434620655 wkg:4434626706 wkg:4435224804 wkg:4436393908 wkg:4436555636 wkg:4436717592 wkg:4437039618 wkg:4437371365 wkg:4437483703 wkg:4437959902 wkg:4438753868 wkg:4439115082 wkg:4439584999 wkg:4439585000 wkg:4439617379 wkg:4439617380 wkg:4440505643 wkg:4440745077 wkg:4440801156 wkg:444111731 wkg:4441602024 wkg:4442185794 wkg:4442215635 wkg:4442745856 wkg:4442948245 wkg:4443480401 wkg:4443495306 wkg:4443599286 wkg:4443599287 wkg:4443835098 wkg:4444427331 wkg:4444427335 wkg:4444427341 wkg:4444428279 wkg:4444428281 wkg:4444428282 wkg:4444428283 wkg:4444428284 wkg:4444428286 wkg:4444428287 wkg:4444428590 wkg:4444428611 wkg:4444428622 wkg:4444428624 wkg:4444428633 wkg:4444428637 wkg:444644608 wkg:444644609 wkg:4446816548 wkg:4446818867 wkg:4446818876 wkg:4446818901 wkg:4446819121 wkg:4446819125 wkg:4447987581 wkg:4447991335 wkg:4448127103 wkg:4448127104 wkg:4448301773 wkg:4448476331 wkg:4448892492 wkg:4448892495 wkg:4448892496 wkg:4448892498 wkg:4448892501 wkg:4448892504 wkg:4448892505 wkg:4448892506 wkg:4448892516 wkg:4448892518 wkg:4448892525 wkg:4448892532 wkg:4448954299 wkg:4448972774 wkg:4448973673 wkg:4448979939 wkg:4448979948 wkg:4448979949 wkg:4448980127 wkg:4448980139 wkg:4449251004 wkg:4449320083 wkg:4449325190 wkg:4449325200 wkg:4449325218 wkg:4449325228 wkg:4449325232 wkg:4449325248 wkg:4449325249 wkg:4449325250 wkg:4449325251 wkg:4449325261 wkg:4449325262 wkg:4449325280 wkg:4449325285 wkg:4449326097 wkg:4449326102} .\n",
            "    ?entity_uri wkgs:spatialObject ?geom.\n",
            "    ?geom geo:asWKT ?coordinates.\n",
            "    OPTIONAL { ?entity_uri rdf:type ?type .}\n",
            "    OPTIONAL { ?entity_uri rdfs:label ?label .}\n",
            "    OPTIONAL { ?entity_uri wkgs:nameEn ?nameEn .}\n",
            "  }\n",
            "  \n"
          ]
        },
        {
          "name": "stderr",
          "output_type": "stream",
          "text": [
            "\r 76%|███████▌  | 123/162 [01:02<00:20,  1.91it/s]"
          ]
        },
        {
          "name": "stdout",
          "output_type": "stream",
          "text": [
            "(100, 5)\n",
            "\n",
            "  PREFIX uom: <http://www.opengis.net/def/uom/OGC/1.0/>\n",
            "  PREFIX wkgs: <http://www.worldkg.org/schema/>\n",
            "  PREFIX wkg: <http://www.worldkg.org/resource/>\n",
            "  PREFIX wd: <http://www.wikidata.org/wiki/>\n",
            "  PREFIX sf: <http://www.opengis.net/ont/sf#>\n",
            "  PREFIX rdfs: <http://www.w3.org/2000/01/rdf-schema#>\n",
            "  PREFIX geo: <http://www.opengis.net/ont/geosparql#>\n",
            "  PREFIX owl: <http://www.w3.org/2002/07/owl#>\n",
            "  PREFIX rdf: <http://www.w3.org/1999/02/22-rdf-syntax-ns#>\n",
            "  SELECT DISTINCT ?entity_uri ?type ?label ?nameEn ?coordinates WHERE {\n",
            "    VALUES ?entity_uri {wkg:4449326103 wkg:4449326104 wkg:4449326115 wkg:4449326116 wkg:4449326129 wkg:4449326134 wkg:4449326135 wkg:4449326138 wkg:4449326140 wkg:4449326142 wkg:4449326145 wkg:4449326150 wkg:4449326162 wkg:4449326165 wkg:4449326170 wkg:4449326176 wkg:4449326177 wkg:4449326900 wkg:4449326902 wkg:4449326905 wkg:4449326913 wkg:4449326915 wkg:4449326917 wkg:4449326919 wkg:4449326921 wkg:4449326923 wkg:4449326934 wkg:4449326943 wkg:4449326944 wkg:4449326953 wkg:4449326960 wkg:4449326961 wkg:4449326962 wkg:4449326965 wkg:4449326970 wkg:4449326971 wkg:4449326972 wkg:4449326974 wkg:4449326986 wkg:4449327790 wkg:4449327792 wkg:4449327794 wkg:4449327795 wkg:4449327796 wkg:4449327800 wkg:4449327803 wkg:4449327812 wkg:4449327814 wkg:4449327820 wkg:4449327822 wkg:4449327823 wkg:4449327827 wkg:4449327843 wkg:4449327844 wkg:4449327857 wkg:4449327873 wkg:4449327880 wkg:4449327883 wkg:4449327884 wkg:4449328404 wkg:4449328405 wkg:4449328407 wkg:4449328412 wkg:4449328415 wkg:4449328420 wkg:4449328421 wkg:4449328425 wkg:4449328427 wkg:4449328429 wkg:4449328431 wkg:4449328433 wkg:4449328435 wkg:4449328440 wkg:4449328447 wkg:4449328448 wkg:4449328454 wkg:4449328455 wkg:4449328457 wkg:4449328459 wkg:4449328460 wkg:4449328475 wkg:4449328483 wkg:4449328691 wkg:4449328697 wkg:4449328698 wkg:4449328701 wkg:4449328709 wkg:4449328713 wkg:4449328714 wkg:4449328715 wkg:4449328731 wkg:4449328733 wkg:4449328741 wkg:4449328756 wkg:4449328763 wkg:4449328769 wkg:4449328771 wkg:4449328773 wkg:4449328784 wkg:4449328787} .\n",
            "    ?entity_uri wkgs:spatialObject ?geom.\n",
            "    ?geom geo:asWKT ?coordinates.\n",
            "    OPTIONAL { ?entity_uri rdf:type ?type .}\n",
            "    OPTIONAL { ?entity_uri rdfs:label ?label .}\n",
            "    OPTIONAL { ?entity_uri wkgs:nameEn ?nameEn .}\n",
            "  }\n",
            "  \n"
          ]
        },
        {
          "name": "stderr",
          "output_type": "stream",
          "text": [
            "\r 77%|███████▋  | 124/162 [01:03<00:19,  1.92it/s]"
          ]
        },
        {
          "name": "stdout",
          "output_type": "stream",
          "text": [
            "(100, 5)\n",
            "\n",
            "  PREFIX uom: <http://www.opengis.net/def/uom/OGC/1.0/>\n",
            "  PREFIX wkgs: <http://www.worldkg.org/schema/>\n",
            "  PREFIX wkg: <http://www.worldkg.org/resource/>\n",
            "  PREFIX wd: <http://www.wikidata.org/wiki/>\n",
            "  PREFIX sf: <http://www.opengis.net/ont/sf#>\n",
            "  PREFIX rdfs: <http://www.w3.org/2000/01/rdf-schema#>\n",
            "  PREFIX geo: <http://www.opengis.net/ont/geosparql#>\n",
            "  PREFIX owl: <http://www.w3.org/2002/07/owl#>\n",
            "  PREFIX rdf: <http://www.w3.org/1999/02/22-rdf-syntax-ns#>\n",
            "  SELECT DISTINCT ?entity_uri ?type ?label ?nameEn ?coordinates WHERE {\n",
            "    VALUES ?entity_uri {wkg:4449328796 wkg:4449328798 wkg:4449328803 wkg:4449328816 wkg:4449328821 wkg:4449328822 wkg:4449328824 wkg:4449328826 wkg:4449328831 wkg:4449328859 wkg:4449328864 wkg:4449328865 wkg:4449328867 wkg:4449328868 wkg:4449328869 wkg:4449328883 wkg:4449328896 wkg:4449328906 wkg:4449328912 wkg:4449328916 wkg:4449328918 wkg:4449328920 wkg:4449328928 wkg:4449328932 wkg:4449328941 wkg:4449328945 wkg:4449328952 wkg:4449328964 wkg:4449328966 wkg:4449328977 wkg:4449328997 wkg:4449329010 wkg:4449329016 wkg:4449329019 wkg:4449329030 wkg:4449329031 wkg:4449329033 wkg:4449329036 wkg:4449329048 wkg:4449329058 wkg:4449329061 wkg:4449329069 wkg:4449329071 wkg:4449329074 wkg:4449329294 wkg:4449329310 wkg:4449329311 wkg:4449329314 wkg:4449329327 wkg:4449329328 wkg:4449329330 wkg:4449329332 wkg:4449329333 wkg:4449329336 wkg:4449329337 wkg:4449329340 wkg:4449329343 wkg:4449329359 wkg:4449329373 wkg:4449329374 wkg:4449329379 wkg:4449329381 wkg:4449329383 wkg:4449329385 wkg:4449329591 wkg:4449329599 wkg:4449329606 wkg:4449329610 wkg:4449329611 wkg:4449329627 wkg:4449329628 wkg:4449329631 wkg:4449329637 wkg:4449329647 wkg:4449329660 wkg:4449329662 wkg:4449329665 wkg:4449329669 wkg:4449329671 wkg:4449329674 wkg:4449329681 wkg:4449329689 wkg:4449329692 wkg:4449329703 wkg:4449329705 wkg:4449329713 wkg:4449329716 wkg:4449329728 wkg:4449329735 wkg:4449329754 wkg:4449329759 wkg:4449329764 wkg:4449329768 wkg:4449329769 wkg:4449329772 wkg:4449329777 wkg:4449329778 wkg:4449519223 wkg:4449519229 wkg:4449519231} .\n",
            "    ?entity_uri wkgs:spatialObject ?geom.\n",
            "    ?geom geo:asWKT ?coordinates.\n",
            "    OPTIONAL { ?entity_uri rdf:type ?type .}\n",
            "    OPTIONAL { ?entity_uri rdfs:label ?label .}\n",
            "    OPTIONAL { ?entity_uri wkgs:nameEn ?nameEn .}\n",
            "  }\n",
            "  \n"
          ]
        },
        {
          "name": "stderr",
          "output_type": "stream",
          "text": [
            "\r 77%|███████▋  | 125/162 [01:03<00:19,  1.92it/s]"
          ]
        },
        {
          "name": "stdout",
          "output_type": "stream",
          "text": [
            "(100, 5)\n",
            "\n",
            "  PREFIX uom: <http://www.opengis.net/def/uom/OGC/1.0/>\n",
            "  PREFIX wkgs: <http://www.worldkg.org/schema/>\n",
            "  PREFIX wkg: <http://www.worldkg.org/resource/>\n",
            "  PREFIX wd: <http://www.wikidata.org/wiki/>\n",
            "  PREFIX sf: <http://www.opengis.net/ont/sf#>\n",
            "  PREFIX rdfs: <http://www.w3.org/2000/01/rdf-schema#>\n",
            "  PREFIX geo: <http://www.opengis.net/ont/geosparql#>\n",
            "  PREFIX owl: <http://www.w3.org/2002/07/owl#>\n",
            "  PREFIX rdf: <http://www.w3.org/1999/02/22-rdf-syntax-ns#>\n",
            "  SELECT DISTINCT ?entity_uri ?type ?label ?nameEn ?coordinates WHERE {\n",
            "    VALUES ?entity_uri {wkg:4449519239 wkg:4449519240 wkg:4449519247 wkg:4449519253 wkg:4449519255 wkg:4449519259 wkg:4449519283 wkg:4449519284 wkg:4449524720 wkg:4449525155 wkg:4449525156 wkg:4449525158 wkg:4449525163 wkg:4449525166 wkg:4449525167 wkg:4449525168 wkg:4449525171 wkg:4450759049 wkg:4451547850 wkg:4452696023 wkg:4452710310 wkg:4453169130 wkg:4453223377 wkg:4453585584 wkg:4453895669 wkg:4453895684 wkg:4453896091 wkg:4453896102 wkg:4453896105 wkg:4453896113 wkg:4453896142 wkg:4453896143 wkg:4453896157 wkg:4453896158 wkg:4453896162 wkg:4453896167 wkg:4453896172 wkg:4453896175 wkg:4453896182 wkg:4453896589 wkg:4453896591 wkg:4453896592 wkg:4453896602 wkg:4453896605 wkg:4453896606 wkg:4453896610 wkg:4453896612 wkg:4453896613 wkg:4453896626 wkg:4453896629 wkg:4453896634 wkg:4453896635 wkg:4453896638 wkg:4453896642 wkg:4453896650 wkg:4453896651 wkg:4453896652 wkg:4454234776 wkg:4454282788 wkg:4455582429 wkg:4455582438 wkg:4455582439 wkg:4455582447 wkg:4455582455 wkg:4455582456 wkg:4455582459 wkg:4455582461 wkg:4455582465 wkg:4455582467 wkg:4455582473 wkg:4458128892 wkg:4458129032 wkg:4458140461 wkg:4458140478 wkg:4458280502 wkg:4458280506 wkg:4458280507 wkg:4458280513 wkg:4458280514 wkg:4458280538 wkg:4458280539 wkg:4458280540 wkg:4458280544 wkg:4458280546 wkg:4458280556 wkg:4458280562 wkg:4458280565 wkg:4458280578 wkg:4458280585 wkg:4458281495 wkg:4458281503 wkg:4458281508 wkg:4458281510 wkg:4458281520 wkg:4458281521 wkg:4458281523 wkg:4458281530 wkg:4458281537 wkg:4458281542 wkg:4458281545} .\n",
            "    ?entity_uri wkgs:spatialObject ?geom.\n",
            "    ?geom geo:asWKT ?coordinates.\n",
            "    OPTIONAL { ?entity_uri rdf:type ?type .}\n",
            "    OPTIONAL { ?entity_uri rdfs:label ?label .}\n",
            "    OPTIONAL { ?entity_uri wkgs:nameEn ?nameEn .}\n",
            "  }\n",
            "  \n"
          ]
        },
        {
          "name": "stderr",
          "output_type": "stream",
          "text": [
            "\r 78%|███████▊  | 126/162 [01:04<00:19,  1.89it/s]"
          ]
        },
        {
          "name": "stdout",
          "output_type": "stream",
          "text": [
            "(100, 5)\n",
            "\n",
            "  PREFIX uom: <http://www.opengis.net/def/uom/OGC/1.0/>\n",
            "  PREFIX wkgs: <http://www.worldkg.org/schema/>\n",
            "  PREFIX wkg: <http://www.worldkg.org/resource/>\n",
            "  PREFIX wd: <http://www.wikidata.org/wiki/>\n",
            "  PREFIX sf: <http://www.opengis.net/ont/sf#>\n",
            "  PREFIX rdfs: <http://www.w3.org/2000/01/rdf-schema#>\n",
            "  PREFIX geo: <http://www.opengis.net/ont/geosparql#>\n",
            "  PREFIX owl: <http://www.w3.org/2002/07/owl#>\n",
            "  PREFIX rdf: <http://www.w3.org/1999/02/22-rdf-syntax-ns#>\n",
            "  SELECT DISTINCT ?entity_uri ?type ?label ?nameEn ?coordinates WHERE {\n",
            "    VALUES ?entity_uri {wkg:4458281551 wkg:4458281566 wkg:4458281567 wkg:4458281584 wkg:4458281587 wkg:4458282496 wkg:4458282499 wkg:4458282502 wkg:4458282514 wkg:4458282515 wkg:4458282516 wkg:4458282520 wkg:4458282522 wkg:4458282528 wkg:4458282540 wkg:4458282551 wkg:4458282553 wkg:4458282554 wkg:4458282563 wkg:4458282568 wkg:4458282574 wkg:4458282577 wkg:4458282585 wkg:4458283093 wkg:4458283097 wkg:4458283114 wkg:4458283117 wkg:4458283138 wkg:4458283147 wkg:4458283167 wkg:4458283170 wkg:4458283172 wkg:4458283174 wkg:4458283183 wkg:4458283186 wkg:4458283187 wkg:4458283794 wkg:4458283808 wkg:4458283818 wkg:4458283822 wkg:4458283829 wkg:4458283842 wkg:4458283857 wkg:4458283861 wkg:4458283862 wkg:4458283863 wkg:4458283865 wkg:4458283871 wkg:4458283876 wkg:4458283877 wkg:4458283880 wkg:4458283882 wkg:4458283883 wkg:4458283888 wkg:4458284299 wkg:4458284304 wkg:4458284307 wkg:4458284309 wkg:4458284312 wkg:4458284313 wkg:4458284317 wkg:4458284318 wkg:4458284336 wkg:4458284348 wkg:4458284350 wkg:4458284351 wkg:4458284353 wkg:4458284360 wkg:4458284361 wkg:4458284371 wkg:4458284381 wkg:4458284385 wkg:4458284496 wkg:4458284497 wkg:4458284499 wkg:4458284510 wkg:4458284519 wkg:4458284522 wkg:4458284523 wkg:4458284527 wkg:4458284529 wkg:4458284558 wkg:4458284565 wkg:4458284570 wkg:4458284580 wkg:4458284583 wkg:4458284790 wkg:4458284796 wkg:4458284797 wkg:4458284798 wkg:4458284799 wkg:4458284801 wkg:4458284806 wkg:4458284809 wkg:4458284812 wkg:4458284821 wkg:4458284822 wkg:4458284825 wkg:4458284826 wkg:4458284830} .\n",
            "    ?entity_uri wkgs:spatialObject ?geom.\n",
            "    ?geom geo:asWKT ?coordinates.\n",
            "    OPTIONAL { ?entity_uri rdf:type ?type .}\n",
            "    OPTIONAL { ?entity_uri rdfs:label ?label .}\n",
            "    OPTIONAL { ?entity_uri wkgs:nameEn ?nameEn .}\n",
            "  }\n",
            "  \n"
          ]
        },
        {
          "name": "stderr",
          "output_type": "stream",
          "text": [
            "\r 78%|███████▊  | 127/162 [01:04<00:18,  1.90it/s]"
          ]
        },
        {
          "name": "stdout",
          "output_type": "stream",
          "text": [
            "(100, 5)\n",
            "\n",
            "  PREFIX uom: <http://www.opengis.net/def/uom/OGC/1.0/>\n",
            "  PREFIX wkgs: <http://www.worldkg.org/schema/>\n",
            "  PREFIX wkg: <http://www.worldkg.org/resource/>\n",
            "  PREFIX wd: <http://www.wikidata.org/wiki/>\n",
            "  PREFIX sf: <http://www.opengis.net/ont/sf#>\n",
            "  PREFIX rdfs: <http://www.w3.org/2000/01/rdf-schema#>\n",
            "  PREFIX geo: <http://www.opengis.net/ont/geosparql#>\n",
            "  PREFIX owl: <http://www.w3.org/2002/07/owl#>\n",
            "  PREFIX rdf: <http://www.w3.org/1999/02/22-rdf-syntax-ns#>\n",
            "  SELECT DISTINCT ?entity_uri ?type ?label ?nameEn ?coordinates WHERE {\n",
            "    VALUES ?entity_uri {wkg:4458284839 wkg:4458284849 wkg:4458284866 wkg:4458284868 wkg:4458284871 wkg:4458284881 wkg:4458284888 wkg:4458285190 wkg:4458285205 wkg:4458285206 wkg:4458285211 wkg:4458285216 wkg:4458472103 wkg:4458700149 wkg:4458703690 wkg:4459508623 wkg:4459582518 wkg:4459582580 wkg:4459617196 wkg:4459617197 wkg:4459617202 wkg:4459617207 wkg:4459617213 wkg:4459617216 wkg:4459617238 wkg:4459617242 wkg:4459617248 wkg:4459617250 wkg:4459617254 wkg:4459617257 wkg:4459617258 wkg:4459617259 wkg:4459617265 wkg:4459617267 wkg:4459617273 wkg:4459617277 wkg:4459617279 wkg:4459617282 wkg:4459617286 wkg:4459617287 wkg:4459617288 wkg:4459618194 wkg:4459618198 wkg:4459618200 wkg:4459618216 wkg:4459618225 wkg:4459618227 wkg:4459618237 wkg:4459618239 wkg:4459618240 wkg:4459618251 wkg:4459618265 wkg:4459618271 wkg:4459618274 wkg:4459618278 wkg:4459618282 wkg:4459618284 wkg:4459618391 wkg:4459618416 wkg:4459618434 wkg:4459618437 wkg:4459618439 wkg:4459618442 wkg:4459618453 wkg:4459618461 wkg:4459618468 wkg:4459618470 wkg:4459618476 wkg:4459618499 wkg:4459618500 wkg:4459618501 wkg:4459618506 wkg:4459618515 wkg:4459618516 wkg:4459618525 wkg:4459618528 wkg:4459618534 wkg:4459618541 wkg:4459618554 wkg:4459618560 wkg:4459618561 wkg:4459618564 wkg:4459618566 wkg:4459618567 wkg:4459618575 wkg:4459618583 wkg:4459618588 wkg:4459618598 wkg:4459618600 wkg:4459618605 wkg:4459618612 wkg:4459618613 wkg:4459618616 wkg:4459618619 wkg:4459618635 wkg:4459618636 wkg:4459618644 wkg:4459618646 wkg:4459618656 wkg:4459618661} .\n",
            "    ?entity_uri wkgs:spatialObject ?geom.\n",
            "    ?geom geo:asWKT ?coordinates.\n",
            "    OPTIONAL { ?entity_uri rdf:type ?type .}\n",
            "    OPTIONAL { ?entity_uri rdfs:label ?label .}\n",
            "    OPTIONAL { ?entity_uri wkgs:nameEn ?nameEn .}\n",
            "  }\n",
            "  \n"
          ]
        },
        {
          "name": "stderr",
          "output_type": "stream",
          "text": [
            "\r 79%|███████▉  | 128/162 [01:05<00:17,  1.91it/s]"
          ]
        },
        {
          "name": "stdout",
          "output_type": "stream",
          "text": [
            "(100, 5)\n",
            "\n",
            "  PREFIX uom: <http://www.opengis.net/def/uom/OGC/1.0/>\n",
            "  PREFIX wkgs: <http://www.worldkg.org/schema/>\n",
            "  PREFIX wkg: <http://www.worldkg.org/resource/>\n",
            "  PREFIX wd: <http://www.wikidata.org/wiki/>\n",
            "  PREFIX sf: <http://www.opengis.net/ont/sf#>\n",
            "  PREFIX rdfs: <http://www.w3.org/2000/01/rdf-schema#>\n",
            "  PREFIX geo: <http://www.opengis.net/ont/geosparql#>\n",
            "  PREFIX owl: <http://www.w3.org/2002/07/owl#>\n",
            "  PREFIX rdf: <http://www.w3.org/1999/02/22-rdf-syntax-ns#>\n",
            "  SELECT DISTINCT ?entity_uri ?type ?label ?nameEn ?coordinates WHERE {\n",
            "    VALUES ?entity_uri {wkg:4459618664 wkg:4459618671 wkg:4459618690 wkg:4459618696 wkg:4459618697 wkg:4459618703 wkg:4459618704 wkg:4459618705 wkg:4459618707 wkg:4459618718 wkg:4459618727 wkg:4459618732 wkg:4459618748 wkg:4459618751 wkg:4459618753 wkg:4459618768 wkg:4459618774 wkg:4459618783 wkg:4459618784 wkg:4459618786 wkg:4459618787 wkg:4459618894 wkg:4459618895 wkg:4459618916 wkg:4459618917 wkg:4459618919 wkg:4459618920 wkg:4459618924 wkg:4459618928 wkg:4459618929 wkg:4459618946 wkg:4459618950 wkg:4459618953 wkg:4459618959 wkg:4459618972 wkg:4459618978 wkg:4459618979 wkg:4459618982 wkg:4459618995 wkg:4459618997 wkg:4459619002 wkg:4459619004 wkg:4459619005 wkg:4459619007 wkg:4459619011 wkg:4459619012 wkg:4459619019 wkg:4459619032 wkg:4459619035 wkg:4459619036 wkg:4459619037 wkg:4459619043 wkg:4459619049 wkg:4459619053 wkg:4459619054 wkg:4459619055 wkg:4459619058 wkg:4459619059 wkg:4459619063 wkg:4459619069 wkg:4459619072 wkg:4459619073 wkg:4459619076 wkg:4459619078 wkg:4459619092 wkg:4459619096 wkg:4459619108 wkg:4459619110 wkg:4459619115 wkg:4459619119 wkg:4459619124 wkg:4459619125 wkg:4459619126 wkg:4459619127 wkg:4459619135 wkg:4459619137 wkg:4459619141 wkg:4459619143 wkg:4459619154 wkg:4459619164 wkg:4459619167 wkg:4459619172 wkg:4459619179 wkg:4459619181 wkg:4459619187 wkg:4459619292 wkg:4459619302 wkg:4459619303 wkg:4459619311 wkg:4459619314 wkg:4459619315 wkg:4459619318 wkg:4459619322 wkg:4459619326 wkg:4459619333 wkg:4459619342 wkg:4459619352 wkg:4459619361 wkg:4459619363 wkg:4459619368} .\n",
            "    ?entity_uri wkgs:spatialObject ?geom.\n",
            "    ?geom geo:asWKT ?coordinates.\n",
            "    OPTIONAL { ?entity_uri rdf:type ?type .}\n",
            "    OPTIONAL { ?entity_uri rdfs:label ?label .}\n",
            "    OPTIONAL { ?entity_uri wkgs:nameEn ?nameEn .}\n",
            "  }\n",
            "  \n"
          ]
        },
        {
          "name": "stderr",
          "output_type": "stream",
          "text": [
            "\r 80%|███████▉  | 129/162 [01:05<00:17,  1.92it/s]"
          ]
        },
        {
          "name": "stdout",
          "output_type": "stream",
          "text": [
            "(100, 5)\n",
            "\n",
            "  PREFIX uom: <http://www.opengis.net/def/uom/OGC/1.0/>\n",
            "  PREFIX wkgs: <http://www.worldkg.org/schema/>\n",
            "  PREFIX wkg: <http://www.worldkg.org/resource/>\n",
            "  PREFIX wd: <http://www.wikidata.org/wiki/>\n",
            "  PREFIX sf: <http://www.opengis.net/ont/sf#>\n",
            "  PREFIX rdfs: <http://www.w3.org/2000/01/rdf-schema#>\n",
            "  PREFIX geo: <http://www.opengis.net/ont/geosparql#>\n",
            "  PREFIX owl: <http://www.w3.org/2002/07/owl#>\n",
            "  PREFIX rdf: <http://www.w3.org/1999/02/22-rdf-syntax-ns#>\n",
            "  SELECT DISTINCT ?entity_uri ?type ?label ?nameEn ?coordinates WHERE {\n",
            "    VALUES ?entity_uri {wkg:4459619371 wkg:4459619376 wkg:4459619379 wkg:4459619380 wkg:4459619381 wkg:4459619384 wkg:4459619387 wkg:4459619394 wkg:4459619397 wkg:4459619402 wkg:4459619408 wkg:4459619412 wkg:4459619419 wkg:4459619423 wkg:4459619433 wkg:4459619434 wkg:4459619435 wkg:4459619443 wkg:4459619444 wkg:4459619451 wkg:4459619460 wkg:4459619468 wkg:4459619472 wkg:4459619480 wkg:4459619482 wkg:4459619485 wkg:4459619603 wkg:4459619610 wkg:4459619615 wkg:4459619626 wkg:4459619630 wkg:4459619632 wkg:4459619634 wkg:4459619635 wkg:4459619637 wkg:4459619640 wkg:4459619641 wkg:4459619644 wkg:4459619646 wkg:4459619654 wkg:4459619655 wkg:4459619656 wkg:4459619662 wkg:4459619665 wkg:4459619667 wkg:4459619673 wkg:4459619680 wkg:4459619684 wkg:4459619685 wkg:4459619686 wkg:4459619690 wkg:4459619695 wkg:4459619698 wkg:4459619704 wkg:4459619706 wkg:4459619707 wkg:4459619712 wkg:4459619718 wkg:4459619730 wkg:4459619737 wkg:4459619756 wkg:4459619761 wkg:4459619763 wkg:4459619764 wkg:4459619766 wkg:4459619769 wkg:4459619773 wkg:4459619783 wkg:4459619786 wkg:4459619788 wkg:4459619789 wkg:4459619807 wkg:4459619814 wkg:4459619815 wkg:4459619816 wkg:4459619818 wkg:4459619819 wkg:4459619824 wkg:4459619829 wkg:4459619833 wkg:4459619834 wkg:4459619837 wkg:4459619840 wkg:4459619844 wkg:4459619845 wkg:4459619850 wkg:4459619854 wkg:4459619857 wkg:4459619860 wkg:4459619872 wkg:4459619875 wkg:4459619990 wkg:4459619993 wkg:4459620001 wkg:4459620002 wkg:4459620006 wkg:4459620007 wkg:4459620008 wkg:4459620017 wkg:4459620021} .\n",
            "    ?entity_uri wkgs:spatialObject ?geom.\n",
            "    ?geom geo:asWKT ?coordinates.\n",
            "    OPTIONAL { ?entity_uri rdf:type ?type .}\n",
            "    OPTIONAL { ?entity_uri rdfs:label ?label .}\n",
            "    OPTIONAL { ?entity_uri wkgs:nameEn ?nameEn .}\n",
            "  }\n",
            "  \n"
          ]
        },
        {
          "name": "stderr",
          "output_type": "stream",
          "text": [
            "\r 80%|████████  | 130/162 [01:06<00:16,  1.92it/s]"
          ]
        },
        {
          "name": "stdout",
          "output_type": "stream",
          "text": [
            "(100, 5)\n",
            "\n",
            "  PREFIX uom: <http://www.opengis.net/def/uom/OGC/1.0/>\n",
            "  PREFIX wkgs: <http://www.worldkg.org/schema/>\n",
            "  PREFIX wkg: <http://www.worldkg.org/resource/>\n",
            "  PREFIX wd: <http://www.wikidata.org/wiki/>\n",
            "  PREFIX sf: <http://www.opengis.net/ont/sf#>\n",
            "  PREFIX rdfs: <http://www.w3.org/2000/01/rdf-schema#>\n",
            "  PREFIX geo: <http://www.opengis.net/ont/geosparql#>\n",
            "  PREFIX owl: <http://www.w3.org/2002/07/owl#>\n",
            "  PREFIX rdf: <http://www.w3.org/1999/02/22-rdf-syntax-ns#>\n",
            "  SELECT DISTINCT ?entity_uri ?type ?label ?nameEn ?coordinates WHERE {\n",
            "    VALUES ?entity_uri {wkg:4459620025 wkg:4459620029 wkg:4459620030 wkg:4459620034 wkg:4459620037 wkg:4459620039 wkg:4459620041 wkg:4459620051 wkg:4459620052 wkg:4459620053 wkg:4459620056 wkg:4459620061 wkg:4459620062 wkg:4459620064 wkg:4459620066 wkg:4459620069 wkg:4459620072 wkg:4459620074 wkg:4459620084 wkg:4459620689 wkg:4459620690 wkg:4459620691 wkg:4459620695 wkg:4459620699 wkg:4459864389 wkg:446084515 wkg:446084537 wkg:446084621 wkg:446084668 wkg:446084723 wkg:446085008 wkg:446089022 wkg:446089056 wkg:446089154 wkg:446089203 wkg:446089234 wkg:446092559 wkg:4461215853 wkg:4461240410 wkg:4461245330 wkg:4461339546 wkg:4461339551 wkg:4461339552 wkg:4461339555 wkg:4461339556 wkg:4461339558 wkg:4461339561 wkg:4461339563 wkg:4461339565 wkg:4461339572 wkg:4461339578 wkg:4461339998 wkg:4461340000 wkg:4461340022 wkg:4461340023 wkg:4461340024 wkg:4461340026 wkg:4461340027 wkg:4461340028 wkg:4461340035 wkg:4461340040 wkg:4461340041 wkg:4461340050 wkg:4461340056 wkg:4461340058 wkg:4461340059 wkg:4461340064 wkg:4461340074 wkg:4461340075 wkg:4461340078 wkg:4461340089 wkg:4461340092 wkg:4461340098 wkg:4461340121 wkg:4461340140 wkg:4461340141 wkg:4461340149 wkg:4461340152 wkg:4461340153 wkg:4461340173 wkg:4461340176 wkg:4461340177 wkg:4461340183 wkg:4461340291 wkg:4461340293 wkg:4461340308 wkg:4461340313 wkg:4461340316 wkg:4461340327 wkg:4461340330 wkg:4461340331 wkg:4461340344 wkg:4461340345 wkg:4461340351 wkg:4461340359 wkg:4461340362 wkg:4461340371 wkg:4461340384 wkg:4461340498 wkg:4461340503} .\n",
            "    ?entity_uri wkgs:spatialObject ?geom.\n",
            "    ?geom geo:asWKT ?coordinates.\n",
            "    OPTIONAL { ?entity_uri rdf:type ?type .}\n",
            "    OPTIONAL { ?entity_uri rdfs:label ?label .}\n",
            "    OPTIONAL { ?entity_uri wkgs:nameEn ?nameEn .}\n",
            "  }\n",
            "  \n"
          ]
        },
        {
          "name": "stderr",
          "output_type": "stream",
          "text": [
            "\r 81%|████████  | 131/162 [01:06<00:16,  1.92it/s]"
          ]
        },
        {
          "name": "stdout",
          "output_type": "stream",
          "text": [
            "(101, 5)\n",
            "\n",
            "  PREFIX uom: <http://www.opengis.net/def/uom/OGC/1.0/>\n",
            "  PREFIX wkgs: <http://www.worldkg.org/schema/>\n",
            "  PREFIX wkg: <http://www.worldkg.org/resource/>\n",
            "  PREFIX wd: <http://www.wikidata.org/wiki/>\n",
            "  PREFIX sf: <http://www.opengis.net/ont/sf#>\n",
            "  PREFIX rdfs: <http://www.w3.org/2000/01/rdf-schema#>\n",
            "  PREFIX geo: <http://www.opengis.net/ont/geosparql#>\n",
            "  PREFIX owl: <http://www.w3.org/2002/07/owl#>\n",
            "  PREFIX rdf: <http://www.w3.org/1999/02/22-rdf-syntax-ns#>\n",
            "  SELECT DISTINCT ?entity_uri ?type ?label ?nameEn ?coordinates WHERE {\n",
            "    VALUES ?entity_uri {wkg:4461340511 wkg:4461340515 wkg:4461340521 wkg:4461340523 wkg:4461340526 wkg:4461340529 wkg:4461340535 wkg:4462074217 wkg:4463337546 wkg:4463338781 wkg:4464122977 wkg:4464924101 wkg:4464944770 wkg:4466022824 wkg:4466315170 wkg:4466315173 wkg:4466315175 wkg:4466315178 wkg:4466315180 wkg:4466315492 wkg:4466315493 wkg:4466315494 wkg:4466315502 wkg:4466315506 wkg:4466315507 wkg:4466315509 wkg:4466315515 wkg:4466315517 wkg:4466315519 wkg:4466315525 wkg:4466315526 wkg:4466315538 wkg:4466315542 wkg:4466315546 wkg:4466315548 wkg:4466315556 wkg:4466315566 wkg:4466315575 wkg:4466315579 wkg:4466315581 wkg:4466315589 wkg:4466315596 wkg:4466315604 wkg:4466315606 wkg:4466315607 wkg:4466315610 wkg:4466315621 wkg:4466315625 wkg:4466315626 wkg:4466315636 wkg:4466315638 wkg:4466315640 wkg:4466315642 wkg:4466315648 wkg:4466315651 wkg:4466315652 wkg:4466315659 wkg:4466315671 wkg:4466315676 wkg:4466315685 wkg:4466315793 wkg:4466315794 wkg:4466315796 wkg:4466315801 wkg:4466315802 wkg:4466315804 wkg:4466315811 wkg:4466315812 wkg:4466315822 wkg:4466315823 wkg:4466315836 wkg:4466315837 wkg:4466315839 wkg:4466315850 wkg:4466315865 wkg:4466315868 wkg:4466315888 wkg:4466316090 wkg:4466316097 wkg:4466316102 wkg:4466316104 wkg:4466316105 wkg:4466316112 wkg:4466316113 wkg:4466316120 wkg:4466316123 wkg:4466316125 wkg:4466316136 wkg:4466316146 wkg:4466316155 wkg:4466316157 wkg:4466316164 wkg:4466316167 wkg:4466316170 wkg:4466316173 wkg:4466316181 wkg:4466316185 wkg:4466316389 wkg:4466316393 wkg:4466316395} .\n",
            "    ?entity_uri wkgs:spatialObject ?geom.\n",
            "    ?geom geo:asWKT ?coordinates.\n",
            "    OPTIONAL { ?entity_uri rdf:type ?type .}\n",
            "    OPTIONAL { ?entity_uri rdfs:label ?label .}\n",
            "    OPTIONAL { ?entity_uri wkgs:nameEn ?nameEn .}\n",
            "  }\n",
            "  \n"
          ]
        },
        {
          "name": "stderr",
          "output_type": "stream",
          "text": [
            "\r 81%|████████▏ | 132/162 [01:07<00:15,  1.92it/s]"
          ]
        },
        {
          "name": "stdout",
          "output_type": "stream",
          "text": [
            "(100, 5)\n",
            "\n",
            "  PREFIX uom: <http://www.opengis.net/def/uom/OGC/1.0/>\n",
            "  PREFIX wkgs: <http://www.worldkg.org/schema/>\n",
            "  PREFIX wkg: <http://www.worldkg.org/resource/>\n",
            "  PREFIX wd: <http://www.wikidata.org/wiki/>\n",
            "  PREFIX sf: <http://www.opengis.net/ont/sf#>\n",
            "  PREFIX rdfs: <http://www.w3.org/2000/01/rdf-schema#>\n",
            "  PREFIX geo: <http://www.opengis.net/ont/geosparql#>\n",
            "  PREFIX owl: <http://www.w3.org/2002/07/owl#>\n",
            "  PREFIX rdf: <http://www.w3.org/1999/02/22-rdf-syntax-ns#>\n",
            "  SELECT DISTINCT ?entity_uri ?type ?label ?nameEn ?coordinates WHERE {\n",
            "    VALUES ?entity_uri {wkg:4466316404 wkg:4466316408 wkg:4466316419 wkg:4466316421 wkg:4466316422 wkg:4466316435 wkg:4466316439 wkg:4466316443 wkg:4466316448 wkg:4466316452 wkg:4466316458 wkg:4466316464 wkg:4466316471 wkg:4466316476 wkg:4466316477 wkg:4466316590 wkg:4466316595 wkg:4466316597 wkg:4466316599 wkg:4466316605 wkg:4466316607 wkg:4466316611 wkg:4466316612 wkg:4466316622 wkg:4466316624 wkg:4466316627 wkg:4466316630 wkg:4466316633 wkg:4466316637 wkg:4466316643 wkg:4466316646 wkg:4466316648 wkg:4466316649 wkg:4466316651 wkg:4466316655 wkg:4466316663 wkg:4466316670 wkg:4466316676 wkg:4466316678 wkg:4466316679 wkg:4466316684 wkg:4466316790 wkg:4466316797 wkg:4466316799 wkg:4466316802 wkg:4466316804 wkg:4466316808 wkg:4466316823 wkg:4466316830 wkg:4466316832 wkg:4466316835 wkg:4466316842 wkg:4466316843 wkg:4466316848 wkg:4466316850 wkg:4466316854 wkg:4466316857 wkg:4466316858 wkg:4466316859 wkg:4466316873 wkg:4466316876 wkg:4466316883 wkg:4466316885 wkg:4466316886 wkg:4466317189 wkg:4466317199 wkg:4466317204 wkg:4466317215 wkg:4466317216 wkg:4466317217 wkg:4466317220 wkg:4466317222 wkg:4466488960 wkg:4466488962 wkg:4466488966 wkg:4466488967 wkg:4466488970 wkg:4466488979 wkg:4466488980 wkg:4466488981 wkg:4466488983 wkg:4466489493 wkg:4466489497 wkg:4466489505 wkg:4466489508 wkg:4466489510 wkg:4466489519 wkg:4466489527 wkg:4466489530 wkg:4466489537 wkg:4466489539 wkg:4466489541 wkg:4466489542 wkg:4466489543 wkg:4466489548 wkg:4466489564 wkg:4466489566 wkg:4466489569 wkg:4466489574 wkg:4466489579} .\n",
            "    ?entity_uri wkgs:spatialObject ?geom.\n",
            "    ?geom geo:asWKT ?coordinates.\n",
            "    OPTIONAL { ?entity_uri rdf:type ?type .}\n",
            "    OPTIONAL { ?entity_uri rdfs:label ?label .}\n",
            "    OPTIONAL { ?entity_uri wkgs:nameEn ?nameEn .}\n",
            "  }\n",
            "  \n"
          ]
        },
        {
          "name": "stderr",
          "output_type": "stream",
          "text": [
            "\r 82%|████████▏ | 133/162 [01:07<00:15,  1.93it/s]"
          ]
        },
        {
          "name": "stdout",
          "output_type": "stream",
          "text": [
            "(100, 5)\n",
            "\n",
            "  PREFIX uom: <http://www.opengis.net/def/uom/OGC/1.0/>\n",
            "  PREFIX wkgs: <http://www.worldkg.org/schema/>\n",
            "  PREFIX wkg: <http://www.worldkg.org/resource/>\n",
            "  PREFIX wd: <http://www.wikidata.org/wiki/>\n",
            "  PREFIX sf: <http://www.opengis.net/ont/sf#>\n",
            "  PREFIX rdfs: <http://www.w3.org/2000/01/rdf-schema#>\n",
            "  PREFIX geo: <http://www.opengis.net/ont/geosparql#>\n",
            "  PREFIX owl: <http://www.w3.org/2002/07/owl#>\n",
            "  PREFIX rdf: <http://www.w3.org/1999/02/22-rdf-syntax-ns#>\n",
            "  SELECT DISTINCT ?entity_uri ?type ?label ?nameEn ?coordinates WHERE {\n",
            "    VALUES ?entity_uri {wkg:4466489580 wkg:4466489586 wkg:4466489996 wkg:4466489999 wkg:4466490005 wkg:4466490010 wkg:4466490016 wkg:4466490019 wkg:4466490020 wkg:4466490021 wkg:4466490037 wkg:4466490039 wkg:4466490049 wkg:4466490050 wkg:4466490062 wkg:4466490065 wkg:4466490072 wkg:4467896687 wkg:4468125246 wkg:4468203606 wkg:4468297841 wkg:4468423634 wkg:4468447600 wkg:4468987853 wkg:4469883793 wkg:4470195750 wkg:4471103423 wkg:4471103432 wkg:4471103433 wkg:4471103434 wkg:4471103439 wkg:4471103448 wkg:4471103452 wkg:4471103453 wkg:4471103459 wkg:4471103471 wkg:4471103479 wkg:4471105191 wkg:4471105193 wkg:4471105194 wkg:4471105213 wkg:4471105214 wkg:4471105216 wkg:4471105219 wkg:4471105221 wkg:4471105225 wkg:4471105235 wkg:4471105242 wkg:4471105247 wkg:4471105248 wkg:4471105250 wkg:4471105258 wkg:4471105263 wkg:4471105277 wkg:4471105283 wkg:4471105789 wkg:4471105791 wkg:4471105795 wkg:4471105797 wkg:4471105801 wkg:4471105802 wkg:4471105806 wkg:4471105825 wkg:4471105827 wkg:4471105830 wkg:4471105839 wkg:4471105843 wkg:4471105851 wkg:4471105853 wkg:4471105857 wkg:4471105861 wkg:4471105863 wkg:4471105885 wkg:4471105886 wkg:4471105887 wkg:4471105888 wkg:4471106089 wkg:4471106096 wkg:4471106098 wkg:4471106104 wkg:4471106107 wkg:4471106110 wkg:4471106113 wkg:4471106114 wkg:4471106138 wkg:4471106141 wkg:4471106145 wkg:4471106152 wkg:4471106163 wkg:4471106166 wkg:4471106173 wkg:4471106180 wkg:4471106892 wkg:4471106894 wkg:4471106905 wkg:4471106906 wkg:4471106910 wkg:4471106913 wkg:4471106914 wkg:4471106917} .\n",
            "    ?entity_uri wkgs:spatialObject ?geom.\n",
            "    ?geom geo:asWKT ?coordinates.\n",
            "    OPTIONAL { ?entity_uri rdf:type ?type .}\n",
            "    OPTIONAL { ?entity_uri rdfs:label ?label .}\n",
            "    OPTIONAL { ?entity_uri wkgs:nameEn ?nameEn .}\n",
            "  }\n",
            "  \n"
          ]
        },
        {
          "name": "stderr",
          "output_type": "stream",
          "text": [
            "\r 83%|████████▎ | 134/162 [01:08<00:14,  1.92it/s]"
          ]
        },
        {
          "name": "stdout",
          "output_type": "stream",
          "text": [
            "(100, 5)\n",
            "\n",
            "  PREFIX uom: <http://www.opengis.net/def/uom/OGC/1.0/>\n",
            "  PREFIX wkgs: <http://www.worldkg.org/schema/>\n",
            "  PREFIX wkg: <http://www.worldkg.org/resource/>\n",
            "  PREFIX wd: <http://www.wikidata.org/wiki/>\n",
            "  PREFIX sf: <http://www.opengis.net/ont/sf#>\n",
            "  PREFIX rdfs: <http://www.w3.org/2000/01/rdf-schema#>\n",
            "  PREFIX geo: <http://www.opengis.net/ont/geosparql#>\n",
            "  PREFIX owl: <http://www.w3.org/2002/07/owl#>\n",
            "  PREFIX rdf: <http://www.w3.org/1999/02/22-rdf-syntax-ns#>\n",
            "  SELECT DISTINCT ?entity_uri ?type ?label ?nameEn ?coordinates WHERE {\n",
            "    VALUES ?entity_uri {wkg:4471106928 wkg:4471106932 wkg:4471106944 wkg:4471106949 wkg:4471106958 wkg:4471106965 wkg:4471106974 wkg:4471106978 wkg:4471106983 wkg:4471106984 wkg:4471106986 wkg:4471107892 wkg:4471107895 wkg:4471107897 wkg:4471107909 wkg:4471107911 wkg:4471107915 wkg:4471107916 wkg:4471107920 wkg:4471107928 wkg:4471107932 wkg:4471107937 wkg:4471107940 wkg:4471107948 wkg:4471107954 wkg:4471107963 wkg:4471107964 wkg:4471107969 wkg:4471107973 wkg:4471107977 wkg:4471107981 wkg:4471108090 wkg:4471108093 wkg:4471108103 wkg:4471108105 wkg:4471108107 wkg:4471108114 wkg:4471108120 wkg:4471108121 wkg:4471108132 wkg:4471108135 wkg:4471108136 wkg:4471108142 wkg:4471108144 wkg:4471108151 wkg:4471108158 wkg:4471108168 wkg:4471108171 wkg:4471108180 wkg:4471108181 wkg:4471108293 wkg:4471108294 wkg:4471108295 wkg:4471108297 wkg:4471108316 wkg:4471108319 wkg:4471108327 wkg:4471108330 wkg:4471108335 wkg:4471108343 wkg:4471108351 wkg:4471108352 wkg:4471108353 wkg:4471108355 wkg:4471108358 wkg:4471108364 wkg:4471108373 wkg:4471108375 wkg:4471108379 wkg:4471108381 wkg:4471108701 wkg:4471108705 wkg:4471108735 wkg:4471108741 wkg:4471108743 wkg:4471108747 wkg:4471108762 wkg:4471108771 wkg:4471108777 wkg:4471108792 wkg:4471108794 wkg:4471108798 wkg:4471108806 wkg:4471108812 wkg:4471108820 wkg:4471108821 wkg:4471108834 wkg:4471108856 wkg:4471108860 wkg:4471108861 wkg:4471108864 wkg:4471108871 wkg:4471108873 wkg:4471108877 wkg:4471108880 wkg:4471108885 wkg:4471109089 wkg:4471109099 wkg:4471109106 wkg:4471109108} .\n",
            "    ?entity_uri wkgs:spatialObject ?geom.\n",
            "    ?geom geo:asWKT ?coordinates.\n",
            "    OPTIONAL { ?entity_uri rdf:type ?type .}\n",
            "    OPTIONAL { ?entity_uri rdfs:label ?label .}\n",
            "    OPTIONAL { ?entity_uri wkgs:nameEn ?nameEn .}\n",
            "  }\n",
            "  \n"
          ]
        },
        {
          "name": "stderr",
          "output_type": "stream",
          "text": [
            "\r 83%|████████▎ | 135/162 [01:08<00:14,  1.91it/s]"
          ]
        },
        {
          "name": "stdout",
          "output_type": "stream",
          "text": [
            "(100, 5)\n",
            "\n",
            "  PREFIX uom: <http://www.opengis.net/def/uom/OGC/1.0/>\n",
            "  PREFIX wkgs: <http://www.worldkg.org/schema/>\n",
            "  PREFIX wkg: <http://www.worldkg.org/resource/>\n",
            "  PREFIX wd: <http://www.wikidata.org/wiki/>\n",
            "  PREFIX sf: <http://www.opengis.net/ont/sf#>\n",
            "  PREFIX rdfs: <http://www.w3.org/2000/01/rdf-schema#>\n",
            "  PREFIX geo: <http://www.opengis.net/ont/geosparql#>\n",
            "  PREFIX owl: <http://www.w3.org/2002/07/owl#>\n",
            "  PREFIX rdf: <http://www.w3.org/1999/02/22-rdf-syntax-ns#>\n",
            "  SELECT DISTINCT ?entity_uri ?type ?label ?nameEn ?coordinates WHERE {\n",
            "    VALUES ?entity_uri {wkg:4471109109 wkg:4471109115 wkg:4471109122 wkg:4471109126 wkg:4471109139 wkg:4471109161 wkg:4471109166 wkg:4471109168 wkg:4471109169 wkg:4471109173 wkg:4471109174 wkg:4471109181 wkg:4471109185 wkg:4471109589 wkg:4471109590 wkg:4471109599 wkg:4471109601 wkg:4471109607 wkg:4471109613 wkg:4471109615 wkg:4471109621 wkg:4471109622 wkg:4471109632 wkg:4471109634 wkg:4471109638 wkg:4471109645 wkg:4471109647 wkg:4471109654 wkg:4471109657 wkg:4471109663 wkg:4471109664 wkg:4471109673 wkg:4471109674 wkg:4471109676 wkg:4471109677 wkg:4471109681 wkg:4471109993 wkg:4471109995 wkg:4471109999 wkg:4471110000 wkg:4471110003 wkg:4471110013 wkg:4471110016 wkg:4471110018 wkg:4471110027 wkg:4471110028 wkg:4471110037 wkg:4471110042 wkg:4471110044 wkg:4471110055 wkg:4471110067 wkg:4471110068 wkg:4471110070 wkg:4471110072 wkg:4471110080 wkg:4471110083 wkg:4471110085 wkg:4471110087 wkg:4471110489 wkg:4471110492 wkg:4471110494 wkg:4471110515 wkg:4471110526 wkg:4471110528 wkg:4471110532 wkg:4471110534 wkg:4471110536 wkg:4471110539 wkg:4471110540 wkg:4471110541 wkg:4471110549 wkg:4471110564 wkg:4471110570 wkg:4471110576 wkg:4471110581 wkg:4471110583 wkg:4471110584 wkg:4471110588 wkg:4471110589 wkg:4471110594 wkg:4471110599 wkg:4471110600 wkg:4471110603 wkg:4471110606 wkg:4471110614 wkg:4471110617 wkg:4471110625 wkg:4471110628 wkg:4471110632 wkg:4471110638 wkg:4471110647 wkg:4471110651 wkg:4471110661 wkg:4471110673 wkg:4471110676 wkg:4471110679 wkg:4471110680 wkg:4471110689 wkg:4471110699 wkg:4471110704} .\n",
            "    ?entity_uri wkgs:spatialObject ?geom.\n",
            "    ?geom geo:asWKT ?coordinates.\n",
            "    OPTIONAL { ?entity_uri rdf:type ?type .}\n",
            "    OPTIONAL { ?entity_uri rdfs:label ?label .}\n",
            "    OPTIONAL { ?entity_uri wkgs:nameEn ?nameEn .}\n",
            "  }\n",
            "  \n"
          ]
        },
        {
          "name": "stderr",
          "output_type": "stream",
          "text": [
            "\r 84%|████████▍ | 136/162 [01:09<00:13,  1.91it/s]"
          ]
        },
        {
          "name": "stdout",
          "output_type": "stream",
          "text": [
            "(100, 5)\n",
            "\n",
            "  PREFIX uom: <http://www.opengis.net/def/uom/OGC/1.0/>\n",
            "  PREFIX wkgs: <http://www.worldkg.org/schema/>\n",
            "  PREFIX wkg: <http://www.worldkg.org/resource/>\n",
            "  PREFIX wd: <http://www.wikidata.org/wiki/>\n",
            "  PREFIX sf: <http://www.opengis.net/ont/sf#>\n",
            "  PREFIX rdfs: <http://www.w3.org/2000/01/rdf-schema#>\n",
            "  PREFIX geo: <http://www.opengis.net/ont/geosparql#>\n",
            "  PREFIX owl: <http://www.w3.org/2002/07/owl#>\n",
            "  PREFIX rdf: <http://www.w3.org/1999/02/22-rdf-syntax-ns#>\n",
            "  SELECT DISTINCT ?entity_uri ?type ?label ?nameEn ?coordinates WHERE {\n",
            "    VALUES ?entity_uri {wkg:4471110707 wkg:4471110709 wkg:4471110710 wkg:4471110713 wkg:4471110715 wkg:4471110716 wkg:4471110717 wkg:4471110718 wkg:4471110720 wkg:4471110725 wkg:4471110729 wkg:4473158393 wkg:4475776055 wkg:4476784340 wkg:4476784342 wkg:4476784343 wkg:4476784344 wkg:4476784352 wkg:4476784354 wkg:4476784357 wkg:4476784358 wkg:4476784363 wkg:4476784365 wkg:4476784368 wkg:4476784369 wkg:4477358380 wkg:4477382792 wkg:4477628495 wkg:4477876598 wkg:447827603 wkg:447916628 wkg:447916857 wkg:447916911 wkg:447917202 wkg:447917258 wkg:447917264 wkg:447918406 wkg:447918433 wkg:4479196221 wkg:447923154 wkg:447923190 wkg:447923221 wkg:447923227 wkg:447923237 wkg:447923624 wkg:447924708 wkg:447924723 wkg:447926822 wkg:447934086 wkg:447934185 wkg:447934227 wkg:447934244 wkg:447934283 wkg:447934382 wkg:447934434 wkg:447934497 wkg:447934967 wkg:447935376 wkg:447935395 wkg:447935404 wkg:447935427 wkg:447935473 wkg:447935494 wkg:447935524 wkg:447935612 wkg:447935627 wkg:447936215 wkg:448081504 wkg:448081506 wkg:448081517 wkg:448081776 wkg:448203606 wkg:448203624 wkg:448208826 wkg:448208963 wkg:448211594 wkg:448214800 wkg:448214817 wkg:448214878 wkg:448222831 wkg:448222842 wkg:448222941 wkg:448222984 wkg:448224291 wkg:4484337540 wkg:4484422221 wkg:4484422222 wkg:4485823479 wkg:4486521689 wkg:4491450171 wkg:4491450174 wkg:4491450175 wkg:4491450182 wkg:4491450188 wkg:4491452297 wkg:4491452302 wkg:4491452308 wkg:4491452310 wkg:4491452318 wkg:4491452320} .\n",
            "    ?entity_uri wkgs:spatialObject ?geom.\n",
            "    ?geom geo:asWKT ?coordinates.\n",
            "    OPTIONAL { ?entity_uri rdf:type ?type .}\n",
            "    OPTIONAL { ?entity_uri rdfs:label ?label .}\n",
            "    OPTIONAL { ?entity_uri wkgs:nameEn ?nameEn .}\n",
            "  }\n",
            "  \n"
          ]
        },
        {
          "name": "stderr",
          "output_type": "stream",
          "text": [
            "\r 85%|████████▍ | 137/162 [01:09<00:13,  1.91it/s]"
          ]
        },
        {
          "name": "stdout",
          "output_type": "stream",
          "text": [
            "(100, 5)\n",
            "\n",
            "  PREFIX uom: <http://www.opengis.net/def/uom/OGC/1.0/>\n",
            "  PREFIX wkgs: <http://www.worldkg.org/schema/>\n",
            "  PREFIX wkg: <http://www.worldkg.org/resource/>\n",
            "  PREFIX wd: <http://www.wikidata.org/wiki/>\n",
            "  PREFIX sf: <http://www.opengis.net/ont/sf#>\n",
            "  PREFIX rdfs: <http://www.w3.org/2000/01/rdf-schema#>\n",
            "  PREFIX geo: <http://www.opengis.net/ont/geosparql#>\n",
            "  PREFIX owl: <http://www.w3.org/2002/07/owl#>\n",
            "  PREFIX rdf: <http://www.w3.org/1999/02/22-rdf-syntax-ns#>\n",
            "  SELECT DISTINCT ?entity_uri ?type ?label ?nameEn ?coordinates WHERE {\n",
            "    VALUES ?entity_uri {wkg:4491452331 wkg:4491452342 wkg:4491452344 wkg:4491452346 wkg:4491452349 wkg:4491452358 wkg:4491452364 wkg:4491452365 wkg:4491452366 wkg:4491452374 wkg:4491452382 wkg:4491452384 wkg:4491452607 wkg:4491452615 wkg:4491452619 wkg:4491452632 wkg:4491452636 wkg:4491452642 wkg:4491452643 wkg:4491452650 wkg:4491452653 wkg:4491452660 wkg:4491452675 wkg:4491452680 wkg:4491452682 wkg:4491452683 wkg:4491452686 wkg:4491452693 wkg:4491452696 wkg:4491452705 wkg:4491452713 wkg:4491452715 wkg:4491452717 wkg:4491452731 wkg:4491452736 wkg:4491452745 wkg:4491452749 wkg:4491452770 wkg:4491452774 wkg:4491453005 wkg:4491453008 wkg:4491453009 wkg:4491453012 wkg:4491453023 wkg:4491453026 wkg:4491453027 wkg:4491453033 wkg:4491453040 wkg:4491453042 wkg:4491453044 wkg:4491453047 wkg:4491453050 wkg:4491453051 wkg:4491453053 wkg:4491453071 wkg:4491453082 wkg:4491453690 wkg:4491453693 wkg:4491453695 wkg:4491453701 wkg:4491453705 wkg:4491453706 wkg:4491453717 wkg:4491453719 wkg:4491453733 wkg:4491453746 wkg:4491453749 wkg:4491453750 wkg:4491453755 wkg:4491453780 wkg:4491453783 wkg:4491453784 wkg:4491453786 wkg:4491454290 wkg:4491454295 wkg:4491454299 wkg:4491454303 wkg:4491454306 wkg:4491454311 wkg:4491454319 wkg:4491454321 wkg:4491454323 wkg:4491454335 wkg:4491454338 wkg:4491454356 wkg:4491454357 wkg:4491454359 wkg:4491454362 wkg:4491454363 wkg:4491454365 wkg:4491454368 wkg:4491454498 wkg:4491454502 wkg:4491454503 wkg:4491454504 wkg:4491454505 wkg:4491454510 wkg:4491454518 wkg:4491454524 wkg:4491454526} .\n",
            "    ?entity_uri wkgs:spatialObject ?geom.\n",
            "    ?geom geo:asWKT ?coordinates.\n",
            "    OPTIONAL { ?entity_uri rdf:type ?type .}\n",
            "    OPTIONAL { ?entity_uri rdfs:label ?label .}\n",
            "    OPTIONAL { ?entity_uri wkgs:nameEn ?nameEn .}\n",
            "  }\n",
            "  \n"
          ]
        },
        {
          "name": "stderr",
          "output_type": "stream",
          "text": [
            "\r 85%|████████▌ | 138/162 [01:10<00:12,  1.92it/s]"
          ]
        },
        {
          "name": "stdout",
          "output_type": "stream",
          "text": [
            "(101, 5)\n",
            "\n",
            "  PREFIX uom: <http://www.opengis.net/def/uom/OGC/1.0/>\n",
            "  PREFIX wkgs: <http://www.worldkg.org/schema/>\n",
            "  PREFIX wkg: <http://www.worldkg.org/resource/>\n",
            "  PREFIX wd: <http://www.wikidata.org/wiki/>\n",
            "  PREFIX sf: <http://www.opengis.net/ont/sf#>\n",
            "  PREFIX rdfs: <http://www.w3.org/2000/01/rdf-schema#>\n",
            "  PREFIX geo: <http://www.opengis.net/ont/geosparql#>\n",
            "  PREFIX owl: <http://www.w3.org/2002/07/owl#>\n",
            "  PREFIX rdf: <http://www.w3.org/1999/02/22-rdf-syntax-ns#>\n",
            "  SELECT DISTINCT ?entity_uri ?type ?label ?nameEn ?coordinates WHERE {\n",
            "    VALUES ?entity_uri {wkg:4491454528 wkg:4491454531 wkg:4491454534 wkg:4491454542 wkg:4491454545 wkg:4491454546 wkg:4491454547 wkg:4491454548 wkg:4491454550 wkg:4491454555 wkg:4491454558 wkg:4491454562 wkg:4491454565 wkg:4491454569 wkg:4491454574 wkg:4491454575 wkg:4491454576 wkg:4491454582 wkg:4491454599 wkg:4491454613 wkg:4491454614 wkg:4491454623 wkg:4491454624 wkg:4491454634 wkg:4491454635 wkg:4491454657 wkg:4491454658 wkg:4491454660 wkg:4491454664 wkg:4491454681 wkg:4491454689 wkg:4491454694 wkg:4491454697 wkg:4491454702 wkg:4491454705 wkg:4491454710 wkg:4491454731 wkg:4491454735 wkg:4491454747 wkg:4491454749 wkg:4491454752 wkg:4491454754 wkg:4491454756 wkg:4491454757 wkg:4491454769 wkg:4491454773 wkg:4491454776 wkg:4491454778 wkg:4491454782 wkg:4491454889 wkg:4491454890 wkg:4491454891 wkg:4491454893 wkg:4491454894 wkg:4491454895 wkg:4491454897 wkg:4491454902 wkg:4491454905 wkg:44926987 wkg:44927060 wkg:4493135041 wkg:4493135060 wkg:4493135061 wkg:4493135071 wkg:4493135075 wkg:4493135078 wkg:4493135080 wkg:4493135087 wkg:4493135089 wkg:4493135090 wkg:4493135108 wkg:4493135114 wkg:4493135121 wkg:4493135122 wkg:4493135125 wkg:4493135137 wkg:4493135150 wkg:4493135155 wkg:4493135161 wkg:4493135162 wkg:4493293281 wkg:4493293288 wkg:4493293993 wkg:4493293995 wkg:4493293997 wkg:4493293998 wkg:4493294003 wkg:4493294008 wkg:4493294012 wkg:4493294015 wkg:4493294024 wkg:4493294025 wkg:4496581996 wkg:4496581997 wkg:4496582010 wkg:4496582012 wkg:4496582020 wkg:4496582027 wkg:4496582032 wkg:4496582033} .\n",
            "    ?entity_uri wkgs:spatialObject ?geom.\n",
            "    ?geom geo:asWKT ?coordinates.\n",
            "    OPTIONAL { ?entity_uri rdf:type ?type .}\n",
            "    OPTIONAL { ?entity_uri rdfs:label ?label .}\n",
            "    OPTIONAL { ?entity_uri wkgs:nameEn ?nameEn .}\n",
            "  }\n",
            "  \n"
          ]
        },
        {
          "name": "stderr",
          "output_type": "stream",
          "text": [
            "\r 86%|████████▌ | 139/162 [01:10<00:11,  1.92it/s]"
          ]
        },
        {
          "name": "stdout",
          "output_type": "stream",
          "text": [
            "(102, 5)\n",
            "\n",
            "  PREFIX uom: <http://www.opengis.net/def/uom/OGC/1.0/>\n",
            "  PREFIX wkgs: <http://www.worldkg.org/schema/>\n",
            "  PREFIX wkg: <http://www.worldkg.org/resource/>\n",
            "  PREFIX wd: <http://www.wikidata.org/wiki/>\n",
            "  PREFIX sf: <http://www.opengis.net/ont/sf#>\n",
            "  PREFIX rdfs: <http://www.w3.org/2000/01/rdf-schema#>\n",
            "  PREFIX geo: <http://www.opengis.net/ont/geosparql#>\n",
            "  PREFIX owl: <http://www.w3.org/2002/07/owl#>\n",
            "  PREFIX rdf: <http://www.w3.org/1999/02/22-rdf-syntax-ns#>\n",
            "  SELECT DISTINCT ?entity_uri ?type ?label ?nameEn ?coordinates WHERE {\n",
            "    VALUES ?entity_uri {wkg:4496582035 wkg:4496582040 wkg:4496582042 wkg:4496582043 wkg:4496582044 wkg:4496582050 wkg:4496582051 wkg:4496582052 wkg:4496582054 wkg:4496582055 wkg:4496582083 wkg:4496582094 wkg:4496582107 wkg:4496582108 wkg:4496582109 wkg:4496582111 wkg:4496582118 wkg:4496582119 wkg:4496582129 wkg:4496582131 wkg:4496582138 wkg:4496582141 wkg:4496582146 wkg:4496582153 wkg:4496582154 wkg:4496582162 wkg:4496582164 wkg:4496582167 wkg:4496582176 wkg:4496582177 wkg:4496582180 wkg:4496582182 wkg:4496582183 wkg:4496582184 wkg:4497368238 wkg:4497368254 wkg:4497368256 wkg:4497368259 wkg:4497368261 wkg:4497368263 wkg:4497368271 wkg:4497368274 wkg:4497368278 wkg:4497368284 wkg:4497368401 wkg:4497368406 wkg:4497368419 wkg:4497368423 wkg:4497368438 wkg:4497368439 wkg:4497368440 wkg:4497368443 wkg:4497368444 wkg:4497368448 wkg:4497368450 wkg:4497368454 wkg:4497368457 wkg:4497368461 wkg:4497368475 wkg:4497368476 wkg:4497368478 wkg:4497368482 wkg:4497368590 wkg:4497368592 wkg:4497368594 wkg:4497368603 wkg:4497368606 wkg:4497368607 wkg:4497368612 wkg:4497368617 wkg:4497368630 wkg:4497368631 wkg:4497368637 wkg:4497368640 wkg:4497368642 wkg:4497368643 wkg:4497368644 wkg:4497368654 wkg:4497368655 wkg:4497368659 wkg:4497368664 wkg:4497368669 wkg:4497368672 wkg:4497368673 wkg:4497368676 wkg:4497368682 wkg:4497368686 wkg:4497368693 wkg:4497368702 wkg:4497368706 wkg:4497368707 wkg:4497368708 wkg:4497368710 wkg:4497368713 wkg:4497368723 wkg:4497368724 wkg:4497368733 wkg:4497368737 wkg:4497368742 wkg:4497368744} .\n",
            "    ?entity_uri wkgs:spatialObject ?geom.\n",
            "    ?geom geo:asWKT ?coordinates.\n",
            "    OPTIONAL { ?entity_uri rdf:type ?type .}\n",
            "    OPTIONAL { ?entity_uri rdfs:label ?label .}\n",
            "    OPTIONAL { ?entity_uri wkgs:nameEn ?nameEn .}\n",
            "  }\n",
            "  \n"
          ]
        },
        {
          "name": "stderr",
          "output_type": "stream",
          "text": [
            "\r 86%|████████▋ | 140/162 [01:11<00:11,  1.92it/s]"
          ]
        },
        {
          "name": "stdout",
          "output_type": "stream",
          "text": [
            "(100, 5)\n",
            "\n",
            "  PREFIX uom: <http://www.opengis.net/def/uom/OGC/1.0/>\n",
            "  PREFIX wkgs: <http://www.worldkg.org/schema/>\n",
            "  PREFIX wkg: <http://www.worldkg.org/resource/>\n",
            "  PREFIX wd: <http://www.wikidata.org/wiki/>\n",
            "  PREFIX sf: <http://www.opengis.net/ont/sf#>\n",
            "  PREFIX rdfs: <http://www.w3.org/2000/01/rdf-schema#>\n",
            "  PREFIX geo: <http://www.opengis.net/ont/geosparql#>\n",
            "  PREFIX owl: <http://www.w3.org/2002/07/owl#>\n",
            "  PREFIX rdf: <http://www.w3.org/1999/02/22-rdf-syntax-ns#>\n",
            "  SELECT DISTINCT ?entity_uri ?type ?label ?nameEn ?coordinates WHERE {\n",
            "    VALUES ?entity_uri {wkg:4497368772 wkg:4497368776 wkg:4497368782 wkg:4497368783 wkg:4497368793 wkg:4497368795 wkg:4497368804 wkg:4497368806 wkg:4497368810 wkg:4497368817 wkg:4497368833 wkg:4497368841 wkg:4497368842 wkg:4497368844 wkg:4497368851 wkg:4497368854 wkg:4497368855 wkg:4497368858 wkg:4497368864 wkg:4497368865 wkg:4497368872 wkg:4497368877 wkg:4497368881 wkg:4497368883 wkg:4497368884 wkg:4497368905 wkg:4497368909 wkg:4497368915 wkg:4497368928 wkg:4497368932 wkg:4497368945 wkg:4497368958 wkg:4497368960 wkg:4497368967 wkg:4497368970 wkg:4497368983 wkg:4497368986 wkg:4497369001 wkg:4497369002 wkg:4497369003 wkg:4497369006 wkg:4497369008 wkg:4497369033 wkg:4497369037 wkg:4497369046 wkg:4497369047 wkg:4497369048 wkg:4497369068 wkg:4497369072 wkg:4497369076 wkg:4497369081 wkg:4498851950 wkg:4500743608 wkg:4500743614 wkg:4500743615 wkg:4500743619 wkg:4500743627 wkg:4500743629 wkg:4500743631 wkg:4500743633 wkg:4500743634 wkg:4500743637 wkg:4500743646 wkg:4500743649 wkg:4500743653 wkg:4500743665 wkg:4500743675 wkg:4500743677 wkg:4500743680 wkg:4500743682 wkg:4500743683 wkg:4500743685 wkg:4500743686 wkg:4500747695 wkg:4500747705 wkg:4500747711 wkg:4500747724 wkg:4500747731 wkg:4500747738 wkg:4500747743 wkg:4500747746 wkg:4500747748 wkg:4500747758 wkg:4500747761 wkg:4500747766 wkg:4500747774 wkg:4500747776 wkg:4500747780 wkg:4500747788 wkg:4500747899 wkg:4500747901 wkg:4500747908 wkg:4500747914 wkg:4500747920 wkg:4500747921 wkg:4500747926 wkg:4500747934 wkg:4500747936 wkg:4500747939 wkg:4500747942} .\n",
            "    ?entity_uri wkgs:spatialObject ?geom.\n",
            "    ?geom geo:asWKT ?coordinates.\n",
            "    OPTIONAL { ?entity_uri rdf:type ?type .}\n",
            "    OPTIONAL { ?entity_uri rdfs:label ?label .}\n",
            "    OPTIONAL { ?entity_uri wkgs:nameEn ?nameEn .}\n",
            "  }\n",
            "  \n"
          ]
        },
        {
          "name": "stderr",
          "output_type": "stream",
          "text": [
            "\r 87%|████████▋ | 141/162 [01:12<00:10,  1.91it/s]"
          ]
        },
        {
          "name": "stdout",
          "output_type": "stream",
          "text": [
            "(100, 5)\n",
            "\n",
            "  PREFIX uom: <http://www.opengis.net/def/uom/OGC/1.0/>\n",
            "  PREFIX wkgs: <http://www.worldkg.org/schema/>\n",
            "  PREFIX wkg: <http://www.worldkg.org/resource/>\n",
            "  PREFIX wd: <http://www.wikidata.org/wiki/>\n",
            "  PREFIX sf: <http://www.opengis.net/ont/sf#>\n",
            "  PREFIX rdfs: <http://www.w3.org/2000/01/rdf-schema#>\n",
            "  PREFIX geo: <http://www.opengis.net/ont/geosparql#>\n",
            "  PREFIX owl: <http://www.w3.org/2002/07/owl#>\n",
            "  PREFIX rdf: <http://www.w3.org/1999/02/22-rdf-syntax-ns#>\n",
            "  SELECT DISTINCT ?entity_uri ?type ?label ?nameEn ?coordinates WHERE {\n",
            "    VALUES ?entity_uri {wkg:4500747943 wkg:4500747945 wkg:4500747947 wkg:4500747950 wkg:4500747951 wkg:4500747975 wkg:4500747976 wkg:4500747980 wkg:4500747988 wkg:4500747994 wkg:4500747998 wkg:4500748000 wkg:4500748002 wkg:4500748006 wkg:4500748010 wkg:4500748011 wkg:4500748014 wkg:4500748023 wkg:4500748036 wkg:4500748037 wkg:4500748038 wkg:4500748054 wkg:4500748057 wkg:4500748064 wkg:4500748067 wkg:4500748074 wkg:4500748081 wkg:4500748088 wkg:4500748396 wkg:4500748399 wkg:4500748408 wkg:4500748409 wkg:4500748413 wkg:4500748414 wkg:4500748419 wkg:4500748444 wkg:4500748449 wkg:4500748459 wkg:4500748475 wkg:4500748486 wkg:4500748905 wkg:4500748906 wkg:4500748907 wkg:4500748912 wkg:4500748915 wkg:4500748924 wkg:4500748929 wkg:4500748938 wkg:4500748939 wkg:4500748948 wkg:4500748950 wkg:4500748951 wkg:4500748954 wkg:4500748969 wkg:4500748970 wkg:4500748971 wkg:4500748972 wkg:4500748987 wkg:4500749291 wkg:4500749298 wkg:4500749299 wkg:4500749306 wkg:4500749310 wkg:4500749313 wkg:4500749322 wkg:4500749323 wkg:4500749328 wkg:4500749330 wkg:4500749337 wkg:4500749348 wkg:4500749358 wkg:4500749363 wkg:4500749366 wkg:4500749368 wkg:4500749369 wkg:4500749371 wkg:4500749374 wkg:4500749377 wkg:4500749491 wkg:4500749492 wkg:4500749496 wkg:4500749511 wkg:4500749513 wkg:4500749515 wkg:4500749517 wkg:4500749523 wkg:4500749525 wkg:4500749526 wkg:4500749529 wkg:4500749547 wkg:4500749549 wkg:4500749552 wkg:4500749553 wkg:4500749559 wkg:4500749560 wkg:4500749563 wkg:4500749566 wkg:4500749587 wkg:4500749697 wkg:4500749707} .\n",
            "    ?entity_uri wkgs:spatialObject ?geom.\n",
            "    ?geom geo:asWKT ?coordinates.\n",
            "    OPTIONAL { ?entity_uri rdf:type ?type .}\n",
            "    OPTIONAL { ?entity_uri rdfs:label ?label .}\n",
            "    OPTIONAL { ?entity_uri wkgs:nameEn ?nameEn .}\n",
            "  }\n",
            "  \n"
          ]
        },
        {
          "name": "stderr",
          "output_type": "stream",
          "text": [
            "\r 88%|████████▊ | 142/162 [01:12<00:10,  1.90it/s]"
          ]
        },
        {
          "name": "stdout",
          "output_type": "stream",
          "text": [
            "(100, 5)\n",
            "\n",
            "  PREFIX uom: <http://www.opengis.net/def/uom/OGC/1.0/>\n",
            "  PREFIX wkgs: <http://www.worldkg.org/schema/>\n",
            "  PREFIX wkg: <http://www.worldkg.org/resource/>\n",
            "  PREFIX wd: <http://www.wikidata.org/wiki/>\n",
            "  PREFIX sf: <http://www.opengis.net/ont/sf#>\n",
            "  PREFIX rdfs: <http://www.w3.org/2000/01/rdf-schema#>\n",
            "  PREFIX geo: <http://www.opengis.net/ont/geosparql#>\n",
            "  PREFIX owl: <http://www.w3.org/2002/07/owl#>\n",
            "  PREFIX rdf: <http://www.w3.org/1999/02/22-rdf-syntax-ns#>\n",
            "  SELECT DISTINCT ?entity_uri ?type ?label ?nameEn ?coordinates WHERE {\n",
            "    VALUES ?entity_uri {wkg:4500749711 wkg:4500749718 wkg:4500749731 wkg:4500749732 wkg:4500749733 wkg:4500749734 wkg:4500749737 wkg:4500749738 wkg:4500749740 wkg:4500749750 wkg:4500749760 wkg:4500749761 wkg:4500749765 wkg:4500749890 wkg:4500749897 wkg:4500749901 wkg:4500749908 wkg:4500749910 wkg:4500749928 wkg:4500749929 wkg:4500749931 wkg:4501251788 wkg:4502934005 wkg:4504696595 wkg:4504696596 wkg:4504696610 wkg:4504696614 wkg:4504696621 wkg:4504696623 wkg:4504696631 wkg:4504696632 wkg:4504696635 wkg:4504696640 wkg:4504696642 wkg:4504696645 wkg:4504696647 wkg:4504696650 wkg:4504696661 wkg:4504696665 wkg:4504696670 wkg:4504696679 wkg:4504696680 wkg:4504696894 wkg:4504696901 wkg:4504696904 wkg:4504696913 wkg:4504696916 wkg:4504696919 wkg:4504696927 wkg:4504696933 wkg:4504696938 wkg:4504696942 wkg:4504696943 wkg:4504696947 wkg:4504696948 wkg:4504696953 wkg:4504696956 wkg:4504696964 wkg:4504696971 wkg:4504696973 wkg:4504696981 wkg:4504697090 wkg:4504697095 wkg:4504697099 wkg:4504697102 wkg:4504697104 wkg:4504697107 wkg:4504697110 wkg:4504697113 wkg:4504697125 wkg:4504697131 wkg:4504697132 wkg:4504697135 wkg:4504697138 wkg:4504697146 wkg:4504697149 wkg:4504778422 wkg:4505201757 wkg:4505218729 wkg:4505238415 wkg:4505242717 wkg:4506261248 wkg:4510704355 wkg:4510704356 wkg:4511167160 wkg:4512604648 wkg:4513591505 wkg:4514974318 wkg:451787248 wkg:4518836456 wkg:452387588 wkg:4524967122 wkg:4525034596 wkg:4528890948 wkg:4528890957 wkg:4528890971 wkg:4528890980 wkg:4528890988 wkg:4528890993 wkg:4528891000} .\n",
            "    ?entity_uri wkgs:spatialObject ?geom.\n",
            "    ?geom geo:asWKT ?coordinates.\n",
            "    OPTIONAL { ?entity_uri rdf:type ?type .}\n",
            "    OPTIONAL { ?entity_uri rdfs:label ?label .}\n",
            "    OPTIONAL { ?entity_uri wkgs:nameEn ?nameEn .}\n",
            "  }\n",
            "  \n"
          ]
        },
        {
          "name": "stderr",
          "output_type": "stream",
          "text": [
            "\r 88%|████████▊ | 143/162 [01:13<00:09,  1.90it/s]"
          ]
        },
        {
          "name": "stdout",
          "output_type": "stream",
          "text": [
            "(100, 5)\n",
            "\n",
            "  PREFIX uom: <http://www.opengis.net/def/uom/OGC/1.0/>\n",
            "  PREFIX wkgs: <http://www.worldkg.org/schema/>\n",
            "  PREFIX wkg: <http://www.worldkg.org/resource/>\n",
            "  PREFIX wd: <http://www.wikidata.org/wiki/>\n",
            "  PREFIX sf: <http://www.opengis.net/ont/sf#>\n",
            "  PREFIX rdfs: <http://www.w3.org/2000/01/rdf-schema#>\n",
            "  PREFIX geo: <http://www.opengis.net/ont/geosparql#>\n",
            "  PREFIX owl: <http://www.w3.org/2002/07/owl#>\n",
            "  PREFIX rdf: <http://www.w3.org/1999/02/22-rdf-syntax-ns#>\n",
            "  SELECT DISTINCT ?entity_uri ?type ?label ?nameEn ?coordinates WHERE {\n",
            "    VALUES ?entity_uri {wkg:4528891005 wkg:4528891011 wkg:4528891012 wkg:4528891019 wkg:4528891020 wkg:4528891021 wkg:4528891022 wkg:4528891023 wkg:4528891025 wkg:4528891036 wkg:4528891037 wkg:4528891043 wkg:4528891054 wkg:4528891061 wkg:4528891068 wkg:4528891069 wkg:4528891075 wkg:4528891083 wkg:4528891087 wkg:4528891296 wkg:4528891297 wkg:4528891305 wkg:4528891321 wkg:4528891329 wkg:4528891334 wkg:4528891340 wkg:4528891343 wkg:4528891345 wkg:4528891346 wkg:4528891348 wkg:4528891349 wkg:4528891365 wkg:4528891366 wkg:4528891369 wkg:4528891372 wkg:4528891375 wkg:4528891382 wkg:4528891386 wkg:4528891494 wkg:4528891496 wkg:4528891499 wkg:4528891500 wkg:4528891505 wkg:4528891508 wkg:4528891509 wkg:4528891512 wkg:4528891515 wkg:4528891525 wkg:4528891531 wkg:4528891533 wkg:4528891544 wkg:4528891556 wkg:4528891558 wkg:4528891569 wkg:4528891573 wkg:4528891577 wkg:4528891578 wkg:4528891584 wkg:4528891585 wkg:4528891586 wkg:4528891588 wkg:4528891589 wkg:4528891596 wkg:4528891600 wkg:4528891608 wkg:4528891616 wkg:4528891626 wkg:4528891627 wkg:4528891637 wkg:4528891648 wkg:4528891651 wkg:4528891652 wkg:4528891660 wkg:4528891671 wkg:4528891674 wkg:4528891687 wkg:4528891688 wkg:4528891990 wkg:4528891996 wkg:4528892000 wkg:4528892014 wkg:4528892023 wkg:4528892027 wkg:4528892046 wkg:4528892048 wkg:4528892050 wkg:4528892052 wkg:4528892053 wkg:4528892054 wkg:4528892056 wkg:4528892060 wkg:4528892061 wkg:4528892065 wkg:4528892066 wkg:4528892077 wkg:4530915832 wkg:4530916217 wkg:4540942989 wkg:4540942992 wkg:4540942995} .\n",
            "    ?entity_uri wkgs:spatialObject ?geom.\n",
            "    ?geom geo:asWKT ?coordinates.\n",
            "    OPTIONAL { ?entity_uri rdf:type ?type .}\n",
            "    OPTIONAL { ?entity_uri rdfs:label ?label .}\n",
            "    OPTIONAL { ?entity_uri wkgs:nameEn ?nameEn .}\n",
            "  }\n",
            "  \n"
          ]
        },
        {
          "name": "stderr",
          "output_type": "stream",
          "text": [
            "\r 89%|████████▉ | 144/162 [01:13<00:09,  1.91it/s]"
          ]
        },
        {
          "name": "stdout",
          "output_type": "stream",
          "text": [
            "(100, 5)\n",
            "\n",
            "  PREFIX uom: <http://www.opengis.net/def/uom/OGC/1.0/>\n",
            "  PREFIX wkgs: <http://www.worldkg.org/schema/>\n",
            "  PREFIX wkg: <http://www.worldkg.org/resource/>\n",
            "  PREFIX wd: <http://www.wikidata.org/wiki/>\n",
            "  PREFIX sf: <http://www.opengis.net/ont/sf#>\n",
            "  PREFIX rdfs: <http://www.w3.org/2000/01/rdf-schema#>\n",
            "  PREFIX geo: <http://www.opengis.net/ont/geosparql#>\n",
            "  PREFIX owl: <http://www.w3.org/2002/07/owl#>\n",
            "  PREFIX rdf: <http://www.w3.org/1999/02/22-rdf-syntax-ns#>\n",
            "  SELECT DISTINCT ?entity_uri ?type ?label ?nameEn ?coordinates WHERE {\n",
            "    VALUES ?entity_uri {wkg:4540943001 wkg:4540943003 wkg:4540943008 wkg:4540943016 wkg:4540943018 wkg:4540943028 wkg:4540943044 wkg:4540943053 wkg:4540943055 wkg:4540943059 wkg:4540943061 wkg:4540943064 wkg:4540943076 wkg:4540943080 wkg:4540943081 wkg:4540943290 wkg:4540943294 wkg:4540943305 wkg:4540943309 wkg:4540943311 wkg:4540943320 wkg:4540943327 wkg:4540943333 wkg:4540943343 wkg:4540943346 wkg:4540943362 wkg:4540943364 wkg:4540943376 wkg:4540943383 wkg:4540943385 wkg:4540943395 wkg:4540943401 wkg:4540966282 wkg:4540966286 wkg:4540967290 wkg:4540967292 wkg:4540967294 wkg:4540967296 wkg:4540967306 wkg:4540967308 wkg:4540967313 wkg:4540967314 wkg:4540967316 wkg:4540967319 wkg:4540967322 wkg:4541036259 wkg:4541036262 wkg:4541036268 wkg:4541036270 wkg:4541036989 wkg:4541036990 wkg:4541037021 wkg:4541037027 wkg:4541037032 wkg:4541037035 wkg:4541037050 wkg:4541037059 wkg:4541037065 wkg:4541037070 wkg:4541037073 wkg:4541037077 wkg:4541037080 wkg:4541037191 wkg:4541037192 wkg:4541037219 wkg:4541037226 wkg:4541037229 wkg:4541037248 wkg:4541037251 wkg:4541037257 wkg:4541037258 wkg:4541037265 wkg:4541037269 wkg:4541037270 wkg:4541037275 wkg:4541037284 wkg:4541037285 wkg:4541037490 wkg:4541037514 wkg:4541037516 wkg:4541037519 wkg:4541037529 wkg:4541037530 wkg:4541037533 wkg:4541037537 wkg:4541037541 wkg:4541037544 wkg:4541037545 wkg:4541037554 wkg:4541037559 wkg:4541037578 wkg:4541037583 wkg:4541037892 wkg:4541037894 wkg:4541037897 wkg:4541037899 wkg:4541037907 wkg:4541037912 wkg:4541037913 wkg:4541037917} .\n",
            "    ?entity_uri wkgs:spatialObject ?geom.\n",
            "    ?geom geo:asWKT ?coordinates.\n",
            "    OPTIONAL { ?entity_uri rdf:type ?type .}\n",
            "    OPTIONAL { ?entity_uri rdfs:label ?label .}\n",
            "    OPTIONAL { ?entity_uri wkgs:nameEn ?nameEn .}\n",
            "  }\n",
            "  \n"
          ]
        },
        {
          "name": "stderr",
          "output_type": "stream",
          "text": [
            "\r 90%|████████▉ | 145/162 [01:14<00:08,  1.92it/s]"
          ]
        },
        {
          "name": "stdout",
          "output_type": "stream",
          "text": [
            "(101, 5)\n",
            "\n",
            "  PREFIX uom: <http://www.opengis.net/def/uom/OGC/1.0/>\n",
            "  PREFIX wkgs: <http://www.worldkg.org/schema/>\n",
            "  PREFIX wkg: <http://www.worldkg.org/resource/>\n",
            "  PREFIX wd: <http://www.wikidata.org/wiki/>\n",
            "  PREFIX sf: <http://www.opengis.net/ont/sf#>\n",
            "  PREFIX rdfs: <http://www.w3.org/2000/01/rdf-schema#>\n",
            "  PREFIX geo: <http://www.opengis.net/ont/geosparql#>\n",
            "  PREFIX owl: <http://www.w3.org/2002/07/owl#>\n",
            "  PREFIX rdf: <http://www.w3.org/1999/02/22-rdf-syntax-ns#>\n",
            "  SELECT DISTINCT ?entity_uri ?type ?label ?nameEn ?coordinates WHERE {\n",
            "    VALUES ?entity_uri {wkg:4541037919 wkg:4541037922 wkg:4541037923 wkg:4541037925 wkg:4541037933 wkg:4541037936 wkg:4541037954 wkg:4541037965 wkg:4541037968 wkg:4541037974 wkg:4541037975 wkg:4541037979 wkg:4541038491 wkg:4541038494 wkg:4541038500 wkg:4541038502 wkg:4541038506 wkg:4541038510 wkg:4541038515 wkg:4541038516 wkg:4541038519 wkg:4541038520 wkg:4541038524 wkg:4541038534 wkg:4541038542 wkg:4541038557 wkg:4541038561 wkg:4541038570 wkg:4541038572 wkg:4541038583 wkg:4541038584 wkg:4541038692 wkg:4541038695 wkg:4541038697 wkg:4541038704 wkg:4541038706 wkg:4541038708 wkg:4541038723 wkg:4541038728 wkg:4541038730 wkg:4541038732 wkg:4541038736 wkg:4541085753 wkg:4541085759 wkg:4541085770 wkg:4541085777 wkg:4541085780 wkg:4541085787 wkg:4541085791 wkg:4541085792 wkg:4541085797 wkg:4541085800 wkg:4541085812 wkg:4541085817 wkg:4541085822 wkg:4541085825 wkg:4541085836 wkg:4541085840 wkg:4541085841 wkg:4541085842 wkg:4541085844 wkg:4541085847 wkg:4541085859 wkg:4541085861 wkg:4541085864 wkg:4541085865 wkg:4541085877 wkg:4541085880 wkg:4541085893 wkg:4541085896 wkg:4541085900 wkg:4541085902 wkg:4541085916 wkg:4541085925 wkg:4541085929 wkg:4541085933 wkg:454120524 wkg:454125510 wkg:454125641 wkg:454126081 wkg:454126798 wkg:454126848 wkg:454145631 wkg:454145789 wkg:454145790 wkg:454145791 wkg:454145793 wkg:454151924 wkg:454155951 wkg:4547527878 wkg:4550587834 wkg:4555803044 wkg:4560997468 wkg:457090255 wkg:4590188404 wkg:459275278 wkg:459824631 wkg:459824632 wkg:459832426 wkg:459963576} .\n",
            "    ?entity_uri wkgs:spatialObject ?geom.\n",
            "    ?geom geo:asWKT ?coordinates.\n",
            "    OPTIONAL { ?entity_uri rdf:type ?type .}\n",
            "    OPTIONAL { ?entity_uri rdfs:label ?label .}\n",
            "    OPTIONAL { ?entity_uri wkgs:nameEn ?nameEn .}\n",
            "  }\n",
            "  \n"
          ]
        },
        {
          "name": "stderr",
          "output_type": "stream",
          "text": [
            "\r 90%|█████████ | 146/162 [01:14<00:08,  1.92it/s]"
          ]
        },
        {
          "name": "stdout",
          "output_type": "stream",
          "text": [
            "(100, 5)\n",
            "\n",
            "  PREFIX uom: <http://www.opengis.net/def/uom/OGC/1.0/>\n",
            "  PREFIX wkgs: <http://www.worldkg.org/schema/>\n",
            "  PREFIX wkg: <http://www.worldkg.org/resource/>\n",
            "  PREFIX wd: <http://www.wikidata.org/wiki/>\n",
            "  PREFIX sf: <http://www.opengis.net/ont/sf#>\n",
            "  PREFIX rdfs: <http://www.w3.org/2000/01/rdf-schema#>\n",
            "  PREFIX geo: <http://www.opengis.net/ont/geosparql#>\n",
            "  PREFIX owl: <http://www.w3.org/2002/07/owl#>\n",
            "  PREFIX rdf: <http://www.w3.org/1999/02/22-rdf-syntax-ns#>\n",
            "  SELECT DISTINCT ?entity_uri ?type ?label ?nameEn ?coordinates WHERE {\n",
            "    VALUES ?entity_uri {wkg:459989986 wkg:460061314 wkg:460061348 wkg:460161633 wkg:460194298 wkg:460194520 wkg:460194739 wkg:460194794 wkg:460194830 wkg:460194934 wkg:460195294 wkg:460195363 wkg:460195408 wkg:460195461 wkg:460195493 wkg:460195501 wkg:460195522 wkg:460195534 wkg:460195558 wkg:460195661 wkg:460195705 wkg:460197970 wkg:460198033 wkg:460201316 wkg:460201318 wkg:460201320 wkg:460201565 wkg:460201568 wkg:460202929 wkg:460202932 wkg:460202934 wkg:460202961 wkg:460202999 wkg:460203129 wkg:460203130 wkg:460203166 wkg:460204048 wkg:460204049 wkg:460204640 wkg:460204641 wkg:460204642 wkg:460204643 wkg:460204723 wkg:460204724 wkg:460204747 wkg:460204748 wkg:460204749 wkg:460204750 wkg:460204753 wkg:460204754 wkg:460204755 wkg:460204756 wkg:460204792 wkg:460204934 wkg:460205248 wkg:460205459 wkg:460205460 wkg:460205462 wkg:460205463 wkg:460206398 wkg:460207889 wkg:460207943 wkg:460207944 wkg:460207961 wkg:460352129 wkg:460352130 wkg:460352141 wkg:460352143 wkg:460352148 wkg:460352185 wkg:460362088 wkg:460362143 wkg:460362165 wkg:460362184 wkg:460362190 wkg:460363548 wkg:460363599 wkg:460363619 wkg:460363629 wkg:460376856 wkg:460376911 wkg:460376917 wkg:460376932 wkg:460376934 wkg:460376936 wkg:460376938 wkg:460376942 wkg:460376943 wkg:461137806 wkg:4611714289 wkg:461604343 wkg:461604406 wkg:461604408 wkg:461604538 wkg:461604551 wkg:461611009 wkg:461611607 wkg:461611613 wkg:461611614 wkg:461611615} .\n",
            "    ?entity_uri wkgs:spatialObject ?geom.\n",
            "    ?geom geo:asWKT ?coordinates.\n",
            "    OPTIONAL { ?entity_uri rdf:type ?type .}\n",
            "    OPTIONAL { ?entity_uri rdfs:label ?label .}\n",
            "    OPTIONAL { ?entity_uri wkgs:nameEn ?nameEn .}\n",
            "  }\n",
            "  \n"
          ]
        },
        {
          "name": "stderr",
          "output_type": "stream",
          "text": [
            "\r 91%|█████████ | 147/162 [01:15<00:07,  1.97it/s]"
          ]
        },
        {
          "name": "stdout",
          "output_type": "stream",
          "text": [
            "(100, 5)\n",
            "\n",
            "  PREFIX uom: <http://www.opengis.net/def/uom/OGC/1.0/>\n",
            "  PREFIX wkgs: <http://www.worldkg.org/schema/>\n",
            "  PREFIX wkg: <http://www.worldkg.org/resource/>\n",
            "  PREFIX wd: <http://www.wikidata.org/wiki/>\n",
            "  PREFIX sf: <http://www.opengis.net/ont/sf#>\n",
            "  PREFIX rdfs: <http://www.w3.org/2000/01/rdf-schema#>\n",
            "  PREFIX geo: <http://www.opengis.net/ont/geosparql#>\n",
            "  PREFIX owl: <http://www.w3.org/2002/07/owl#>\n",
            "  PREFIX rdf: <http://www.w3.org/1999/02/22-rdf-syntax-ns#>\n",
            "  SELECT DISTINCT ?entity_uri ?type ?label ?nameEn ?coordinates WHERE {\n",
            "    VALUES ?entity_uri {wkg:461613095 wkg:461623906 wkg:461625506 wkg:461625512 wkg:461625513 wkg:461625514 wkg:461625983 wkg:461625984 wkg:461625986 wkg:461626376 wkg:461626438 wkg:461626466 wkg:461626480 wkg:461626554 wkg:461626566 wkg:461626624 wkg:461626629 wkg:461626751 wkg:461626779 wkg:461626791 wkg:461629998 wkg:462138633 wkg:462219330 wkg:462219587 wkg:462237968 wkg:462237988 wkg:462237990 wkg:462243373 wkg:462243518 wkg:462243542 wkg:462243597 wkg:462243625 wkg:462243643 wkg:462243990 wkg:462244000 wkg:462247352 wkg:462247372 wkg:462247379 wkg:462247394 wkg:462247491 wkg:462247560 wkg:462247563 wkg:462248098 wkg:462248122 wkg:462252947 wkg:462258588 wkg:462258593 wkg:462258674 wkg:462258740 wkg:462259433 wkg:462259442 wkg:462259511 wkg:462259527 wkg:462259536 wkg:462259550 wkg:462259581 wkg:462259590 wkg:462259718 wkg:462259725 wkg:462259726 wkg:462259727 wkg:4622694416 wkg:462623056 wkg:4628807310 wkg:463184028 wkg:463184051 wkg:463184102 wkg:463184202 wkg:463184606 wkg:463184640 wkg:463184680 wkg:463185647 wkg:463189243 wkg:463190156 wkg:463190235 wkg:463190249 wkg:463190570 wkg:463190644 wkg:463190710 wkg:463190775 wkg:463254903 wkg:463255456 wkg:463255498 wkg:463255505 wkg:463256214 wkg:463256216 wkg:463257975 wkg:463257976 wkg:463257979 wkg:463258377 wkg:463258519 wkg:463258702 wkg:463258891 wkg:463259830 wkg:463260013 wkg:463260102 wkg:463260158 wkg:463260213 wkg:463260263 wkg:463260406} .\n",
            "    ?entity_uri wkgs:spatialObject ?geom.\n",
            "    ?geom geo:asWKT ?coordinates.\n",
            "    OPTIONAL { ?entity_uri rdf:type ?type .}\n",
            "    OPTIONAL { ?entity_uri rdfs:label ?label .}\n",
            "    OPTIONAL { ?entity_uri wkgs:nameEn ?nameEn .}\n",
            "  }\n",
            "  \n"
          ]
        },
        {
          "name": "stderr",
          "output_type": "stream",
          "text": [
            "\r 91%|█████████▏| 148/162 [01:15<00:06,  2.01it/s]"
          ]
        },
        {
          "name": "stdout",
          "output_type": "stream",
          "text": [
            "(100, 5)\n",
            "\n",
            "  PREFIX uom: <http://www.opengis.net/def/uom/OGC/1.0/>\n",
            "  PREFIX wkgs: <http://www.worldkg.org/schema/>\n",
            "  PREFIX wkg: <http://www.worldkg.org/resource/>\n",
            "  PREFIX wd: <http://www.wikidata.org/wiki/>\n",
            "  PREFIX sf: <http://www.opengis.net/ont/sf#>\n",
            "  PREFIX rdfs: <http://www.w3.org/2000/01/rdf-schema#>\n",
            "  PREFIX geo: <http://www.opengis.net/ont/geosparql#>\n",
            "  PREFIX owl: <http://www.w3.org/2002/07/owl#>\n",
            "  PREFIX rdf: <http://www.w3.org/1999/02/22-rdf-syntax-ns#>\n",
            "  SELECT DISTINCT ?entity_uri ?type ?label ?nameEn ?coordinates WHERE {\n",
            "    VALUES ?entity_uri {wkg:463260444 wkg:463260482 wkg:463261348 wkg:463261467 wkg:463261523 wkg:463261547 wkg:463261590 wkg:463261650 wkg:463261708 wkg:463298869 wkg:463298888 wkg:463298891 wkg:463298893 wkg:463298898 wkg:463298910 wkg:463299977 wkg:4636573439 wkg:464343417 wkg:464343544 wkg:464344560 wkg:464431681 wkg:464485709 wkg:464485895 wkg:464486092 wkg:464488248 wkg:4660802806 wkg:466220873 wkg:4664330450 wkg:4674597067 wkg:4676702427 wkg:4693683904 wkg:4694972819 wkg:469703370 wkg:4701906467 wkg:4703444609 wkg:470920220 wkg:471046685 wkg:4713662311 wkg:4716127861 wkg:4718118989 wkg:472351379 wkg:472717903 wkg:473076803 wkg:473076810 wkg:4730976063 wkg:473849775 wkg:474801032 wkg:474842895 wkg:474842900 wkg:474842944 wkg:475543929 wkg:4755723433 wkg:476068440 wkg:476485073 wkg:476565242 wkg:476660195 wkg:476746505 wkg:4770833049 wkg:4776845586 wkg:479092054 wkg:479109269 wkg:4791369250 wkg:4796201547 wkg:479989609 wkg:4805829477 wkg:480764966 wkg:4813249454 wkg:482038512 wkg:4823642575 wkg:4828423125 wkg:4834272899 wkg:4842671905 wkg:4851295876 wkg:4853946100 wkg:4861479042 wkg:487812219 wkg:4881260062 wkg:4882355592 wkg:4883447321 wkg:4883502322 wkg:4887599021 wkg:48912418 wkg:489592016 wkg:489987464 wkg:4902735582 wkg:492020204 wkg:4923711187 wkg:4932126383 wkg:493290195 wkg:4933368821 wkg:4938743490 wkg:493891722 wkg:493891726 wkg:493900197 wkg:4946896939 wkg:496814085 wkg:497155578 wkg:4973929475 wkg:4974583271 wkg:4992097076} .\n",
            "    ?entity_uri wkgs:spatialObject ?geom.\n",
            "    ?geom geo:asWKT ?coordinates.\n",
            "    OPTIONAL { ?entity_uri rdf:type ?type .}\n",
            "    OPTIONAL { ?entity_uri rdfs:label ?label .}\n",
            "    OPTIONAL { ?entity_uri wkgs:nameEn ?nameEn .}\n",
            "  }\n",
            "  \n"
          ]
        },
        {
          "name": "stderr",
          "output_type": "stream",
          "text": [
            "\r 92%|█████████▏| 149/162 [01:16<00:06,  1.97it/s]"
          ]
        },
        {
          "name": "stdout",
          "output_type": "stream",
          "text": [
            "(101, 5)\n",
            "\n",
            "  PREFIX uom: <http://www.opengis.net/def/uom/OGC/1.0/>\n",
            "  PREFIX wkgs: <http://www.worldkg.org/schema/>\n",
            "  PREFIX wkg: <http://www.worldkg.org/resource/>\n",
            "  PREFIX wd: <http://www.wikidata.org/wiki/>\n",
            "  PREFIX sf: <http://www.opengis.net/ont/sf#>\n",
            "  PREFIX rdfs: <http://www.w3.org/2000/01/rdf-schema#>\n",
            "  PREFIX geo: <http://www.opengis.net/ont/geosparql#>\n",
            "  PREFIX owl: <http://www.w3.org/2002/07/owl#>\n",
            "  PREFIX rdf: <http://www.w3.org/1999/02/22-rdf-syntax-ns#>\n",
            "  SELECT DISTINCT ?entity_uri ?type ?label ?nameEn ?coordinates WHERE {\n",
            "    VALUES ?entity_uri {wkg:50016356 wkg:5009083515 wkg:5009084232 wkg:5009084233 wkg:5009679125 wkg:5022014691 wkg:5022014702 wkg:5023568921 wkg:503559837 wkg:50392728 wkg:50416277 wkg:50416399 wkg:504578741 wkg:504578812 wkg:504798993 wkg:5051337227 wkg:506576083 wkg:507632464 wkg:50794342 wkg:5080645282 wkg:5081330579 wkg:509907130 wkg:510285590 wkg:5118805095 wkg:512057164 wkg:51226428 wkg:51226446 wkg:51232384 wkg:5134370404 wkg:513816460 wkg:5141420221 wkg:5153680424 wkg:5155973962 wkg:5156462221 wkg:5156487021 wkg:517237466 wkg:51745922 wkg:5182931945 wkg:519436857 wkg:5199635593 wkg:5207991622 wkg:5208230721 wkg:5208526421 wkg:5216323623 wkg:522266215 wkg:5223413218 wkg:52242191 wkg:52253911 wkg:5250896645 wkg:52553641 wkg:52622556 wkg:529095394 wkg:530574445 wkg:531668011 wkg:53190047 wkg:5329462130 wkg:5329520225 wkg:5329720522 wkg:5332639323 wkg:533622269 wkg:533680741 wkg:533680847 wkg:533680874 wkg:533680903 wkg:533680908 wkg:533680913 wkg:533680916 wkg:533680960 wkg:533680970 wkg:533681033 wkg:533681097 wkg:533681109 wkg:533681122 wkg:533681125 wkg:533681130 wkg:533681134 wkg:533681139 wkg:533681147 wkg:533681156 wkg:533681163 wkg:533681186 wkg:533681202 wkg:533681214 wkg:533681218 wkg:533681233 wkg:533681330 wkg:533681400 wkg:533681457 wkg:5352361723 wkg:5352865268 wkg:5358612795 wkg:535870221 wkg:538692583 wkg:5400985562 wkg:5404235053 wkg:541402930 wkg:541402945 wkg:541402957 wkg:541402973 wkg:541402985} .\n",
            "    ?entity_uri wkgs:spatialObject ?geom.\n",
            "    ?geom geo:asWKT ?coordinates.\n",
            "    OPTIONAL { ?entity_uri rdf:type ?type .}\n",
            "    OPTIONAL { ?entity_uri rdfs:label ?label .}\n",
            "    OPTIONAL { ?entity_uri wkgs:nameEn ?nameEn .}\n",
            "  }\n",
            "  \n"
          ]
        },
        {
          "name": "stderr",
          "output_type": "stream",
          "text": [
            "\r 93%|█████████▎| 150/162 [01:16<00:06,  1.92it/s]"
          ]
        },
        {
          "name": "stdout",
          "output_type": "stream",
          "text": [
            "(103, 5)\n",
            "\n",
            "  PREFIX uom: <http://www.opengis.net/def/uom/OGC/1.0/>\n",
            "  PREFIX wkgs: <http://www.worldkg.org/schema/>\n",
            "  PREFIX wkg: <http://www.worldkg.org/resource/>\n",
            "  PREFIX wd: <http://www.wikidata.org/wiki/>\n",
            "  PREFIX sf: <http://www.opengis.net/ont/sf#>\n",
            "  PREFIX rdfs: <http://www.w3.org/2000/01/rdf-schema#>\n",
            "  PREFIX geo: <http://www.opengis.net/ont/geosparql#>\n",
            "  PREFIX owl: <http://www.w3.org/2002/07/owl#>\n",
            "  PREFIX rdf: <http://www.w3.org/1999/02/22-rdf-syntax-ns#>\n",
            "  SELECT DISTINCT ?entity_uri ?type ?label ?nameEn ?coordinates WHERE {\n",
            "    VALUES ?entity_uri {wkg:541402993 wkg:541402996 wkg:541403008 wkg:541403016 wkg:541403056 wkg:5424418659 wkg:5428079471 wkg:542886857 wkg:5431053321 wkg:543374892 wkg:5443236270 wkg:544517373 wkg:5456908137 wkg:545827077 wkg:546630465 wkg:5468662274 wkg:546894244 wkg:5472124913 wkg:5478137762 wkg:5489741507 wkg:549357085 wkg:5496693116 wkg:5510801505 wkg:5510801507 wkg:551363189 wkg:551363475 wkg:551364486 wkg:551364717 wkg:551364798 wkg:551364931 wkg:551365624 wkg:551365676 wkg:551366631 wkg:551367260 wkg:551367401 wkg:551367945 wkg:551368101 wkg:5514664878 wkg:5518033962 wkg:5524924738 wkg:553037933 wkg:5531917208 wkg:553784069 wkg:5555957323 wkg:5556587954 wkg:5567184809 wkg:556745252 wkg:5580717141 wkg:5580794298 wkg:558816267 wkg:558931492 wkg:559288456 wkg:560066032 wkg:560066057 wkg:560066073 wkg:560066101 wkg:560066104 wkg:560066211 wkg:560066319 wkg:560066328 wkg:560066455 wkg:560066486 wkg:560839888 wkg:56107228 wkg:562726328 wkg:5640601587 wkg:565666206 wkg:5662836400 wkg:5662854060 wkg:566687097 wkg:566997612 wkg:567050740 wkg:567063457 wkg:567084252 wkg:567097883 wkg:5673397802 wkg:5674148976 wkg:568023583 wkg:568135047 wkg:568353977 wkg:568412253 wkg:569005331 wkg:569005334 wkg:569005341 wkg:569005393 wkg:569005505 wkg:569005539 wkg:569005542 wkg:569005547 wkg:569005557 wkg:569005558 wkg:569339448 wkg:569378465 wkg:5694736132 wkg:5702212725 wkg:5708005522 wkg:5713678016 wkg:572012816 wkg:5723590478 wkg:572549095} .\n",
            "    ?entity_uri wkgs:spatialObject ?geom.\n",
            "    ?geom geo:asWKT ?coordinates.\n",
            "    OPTIONAL { ?entity_uri rdf:type ?type .}\n",
            "    OPTIONAL { ?entity_uri rdfs:label ?label .}\n",
            "    OPTIONAL { ?entity_uri wkgs:nameEn ?nameEn .}\n",
            "  }\n",
            "  \n"
          ]
        },
        {
          "name": "stderr",
          "output_type": "stream",
          "text": [
            "\r 93%|█████████▎| 151/162 [01:17<00:06,  1.79it/s]"
          ]
        },
        {
          "name": "stdout",
          "output_type": "stream",
          "text": [
            "(102, 5)\n",
            "\n",
            "  PREFIX uom: <http://www.opengis.net/def/uom/OGC/1.0/>\n",
            "  PREFIX wkgs: <http://www.worldkg.org/schema/>\n",
            "  PREFIX wkg: <http://www.worldkg.org/resource/>\n",
            "  PREFIX wd: <http://www.wikidata.org/wiki/>\n",
            "  PREFIX sf: <http://www.opengis.net/ont/sf#>\n",
            "  PREFIX rdfs: <http://www.w3.org/2000/01/rdf-schema#>\n",
            "  PREFIX geo: <http://www.opengis.net/ont/geosparql#>\n",
            "  PREFIX owl: <http://www.w3.org/2002/07/owl#>\n",
            "  PREFIX rdf: <http://www.w3.org/1999/02/22-rdf-syntax-ns#>\n",
            "  SELECT DISTINCT ?entity_uri ?type ?label ?nameEn ?coordinates WHERE {\n",
            "    VALUES ?entity_uri {wkg:573516235 wkg:57542483 wkg:57563779 wkg:577244083 wkg:57793512 wkg:583516704 wkg:5836526885 wkg:5836546885 wkg:5836570485 wkg:5836580385 wkg:5837154428 wkg:584011706 wkg:5849666900 wkg:58591230 wkg:5862766581 wkg:5867718413 wkg:5872807831 wkg:5872958321 wkg:5873302992 wkg:5890512317 wkg:58957648 wkg:5901282249 wkg:5901282250 wkg:5901282256 wkg:5901282260 wkg:5901282261 wkg:5901282279 wkg:5911604337 wkg:5918611050 wkg:5924962328 wkg:59314132 wkg:593880769 wkg:594022132 wkg:594897437 wkg:5950413482 wkg:597128162 wkg:59722301 wkg:5980117507 wkg:599186233 wkg:59974652 wkg:60011979 wkg:60012726 wkg:60012776 wkg:60014291 wkg:6023052071 wkg:60235905 wkg:602446906 wkg:602527728 wkg:6027624199 wkg:602787011 wkg:60303319 wkg:6034280324 wkg:604352117 wkg:60570255 wkg:60655622 wkg:60655638 wkg:60655644 wkg:60655648 wkg:60655663 wkg:60655671 wkg:60655691 wkg:60655733 wkg:60655743 wkg:60655752 wkg:60655764 wkg:60655771 wkg:60655801 wkg:60655805 wkg:60655808 wkg:60655841 wkg:60655845 wkg:60655912 wkg:60655937 wkg:60655942 wkg:60655954 wkg:60655973 wkg:60655997 wkg:60656014 wkg:6065901186 wkg:6070415454 wkg:6073204200 wkg:60796473 wkg:6106216765 wkg:6107126387 wkg:610940245 wkg:6110915984 wkg:611111 wkg:611576948 wkg:611587177 wkg:611597343 wkg:611597368 wkg:611671223 wkg:61195458 wkg:6121455250 wkg:6126128982 wkg:6128611771 wkg:612977471 wkg:613656389 wkg:614136054 wkg:614932150} .\n",
            "    ?entity_uri wkgs:spatialObject ?geom.\n",
            "    ?geom geo:asWKT ?coordinates.\n",
            "    OPTIONAL { ?entity_uri rdf:type ?type .}\n",
            "    OPTIONAL { ?entity_uri rdfs:label ?label .}\n",
            "    OPTIONAL { ?entity_uri wkgs:nameEn ?nameEn .}\n",
            "  }\n",
            "  \n"
          ]
        },
        {
          "name": "stderr",
          "output_type": "stream",
          "text": [
            "\r 94%|█████████▍| 152/162 [01:17<00:05,  1.70it/s]"
          ]
        },
        {
          "name": "stdout",
          "output_type": "stream",
          "text": [
            "(101, 5)\n",
            "\n",
            "  PREFIX uom: <http://www.opengis.net/def/uom/OGC/1.0/>\n",
            "  PREFIX wkgs: <http://www.worldkg.org/schema/>\n",
            "  PREFIX wkg: <http://www.worldkg.org/resource/>\n",
            "  PREFIX wd: <http://www.wikidata.org/wiki/>\n",
            "  PREFIX sf: <http://www.opengis.net/ont/sf#>\n",
            "  PREFIX rdfs: <http://www.w3.org/2000/01/rdf-schema#>\n",
            "  PREFIX geo: <http://www.opengis.net/ont/geosparql#>\n",
            "  PREFIX owl: <http://www.w3.org/2002/07/owl#>\n",
            "  PREFIX rdf: <http://www.w3.org/1999/02/22-rdf-syntax-ns#>\n",
            "  SELECT DISTINCT ?entity_uri ?type ?label ?nameEn ?coordinates WHERE {\n",
            "    VALUES ?entity_uri {wkg:615104452 wkg:615104481 wkg:615104500 wkg:61522016 wkg:6153433399 wkg:61557398 wkg:616139829 wkg:616675257 wkg:617248530 wkg:617646138 wkg:617679338 wkg:617762273 wkg:618003425 wkg:618028174 wkg:618755470 wkg:618757391 wkg:618759492 wkg:618760787 wkg:618761050 wkg:618762860 wkg:618769994 wkg:619133452 wkg:619133455 wkg:619207753 wkg:619713263 wkg:619880001 wkg:619883043 wkg:619905117 wkg:620051802 wkg:6205496139 wkg:6211156768 wkg:621286703 wkg:622378522 wkg:622423997 wkg:6227310786 wkg:62273235 wkg:622757176 wkg:622757178 wkg:622757192 wkg:622866764 wkg:623151602 wkg:623797057 wkg:623801472 wkg:623889213 wkg:6241470888 wkg:62505595 wkg:62508761 wkg:625182378 wkg:625182445 wkg:626244393 wkg:626244410 wkg:626244411 wkg:626244538 wkg:626244556 wkg:6265764105 wkg:627276901 wkg:627276907 wkg:6283464692 wkg:6284707272 wkg:6305484705 wkg:630639045 wkg:630639046 wkg:6310482655 wkg:6312495435 wkg:631390403 wkg:6323121486 wkg:632644701 wkg:6333043654 wkg:6334923567 wkg:6336345336 wkg:633777955 wkg:634093210 wkg:634093300 wkg:634093368 wkg:634093376 wkg:634093442 wkg:634093459 wkg:634093469 wkg:634093674 wkg:634174328 wkg:634174641 wkg:634179060 wkg:634182147 wkg:634201943 wkg:634470650 wkg:6349628738 wkg:635763687 wkg:635846308 wkg:635846378 wkg:635913196 wkg:6366984287 wkg:636866398 wkg:636920538 wkg:636923903 wkg:636923904 wkg:636931698 wkg:637330801 wkg:637647143 wkg:638775065 wkg:638957839} .\n",
            "    ?entity_uri wkgs:spatialObject ?geom.\n",
            "    ?geom geo:asWKT ?coordinates.\n",
            "    OPTIONAL { ?entity_uri rdf:type ?type .}\n",
            "    OPTIONAL { ?entity_uri rdfs:label ?label .}\n",
            "    OPTIONAL { ?entity_uri wkgs:nameEn ?nameEn .}\n",
            "  }\n",
            "  \n"
          ]
        },
        {
          "name": "stderr",
          "output_type": "stream",
          "text": [
            "\r 94%|█████████▍| 153/162 [01:18<00:05,  1.76it/s]"
          ]
        },
        {
          "name": "stdout",
          "output_type": "stream",
          "text": [
            "(103, 5)\n",
            "\n",
            "  PREFIX uom: <http://www.opengis.net/def/uom/OGC/1.0/>\n",
            "  PREFIX wkgs: <http://www.worldkg.org/schema/>\n",
            "  PREFIX wkg: <http://www.worldkg.org/resource/>\n",
            "  PREFIX wd: <http://www.wikidata.org/wiki/>\n",
            "  PREFIX sf: <http://www.opengis.net/ont/sf#>\n",
            "  PREFIX rdfs: <http://www.w3.org/2000/01/rdf-schema#>\n",
            "  PREFIX geo: <http://www.opengis.net/ont/geosparql#>\n",
            "  PREFIX owl: <http://www.w3.org/2002/07/owl#>\n",
            "  PREFIX rdf: <http://www.w3.org/1999/02/22-rdf-syntax-ns#>\n",
            "  SELECT DISTINCT ?entity_uri ?type ?label ?nameEn ?coordinates WHERE {\n",
            "    VALUES ?entity_uri {wkg:639162004 wkg:639252024 wkg:639263038 wkg:639304543 wkg:641026420 wkg:641026515 wkg:641026565 wkg:6410849134 wkg:6413829592 wkg:6418244737 wkg:642939564 wkg:642939983 wkg:642940073 wkg:6443869454 wkg:6452367722 wkg:6469187580 wkg:6488025735 wkg:652607583 wkg:652744710 wkg:652847592 wkg:654104082 wkg:6548214840 wkg:656246516 wkg:656253064 wkg:656291804 wkg:6563579491 wkg:656479398 wkg:65649235 wkg:6577703956 wkg:657815208 wkg:659039799 wkg:659306320 wkg:659502171 wkg:659502172 wkg:659997281 wkg:660574614 wkg:660855094 wkg:6618323406 wkg:662026831 wkg:662579108 wkg:662933462 wkg:663607022 wkg:663661576 wkg:664479961 wkg:664528399 wkg:665080314 wkg:6654439740 wkg:6654554404 wkg:665686382 wkg:665751442 wkg:665751457 wkg:665781430 wkg:666021113 wkg:6661424956 wkg:666152927 wkg:666210218 wkg:666526764 wkg:666558047 wkg:666558051 wkg:666558056 wkg:666590313 wkg:666590340 wkg:666677391 wkg:666677408 wkg:666750600 wkg:666911358 wkg:6677037562 wkg:6677533435 wkg:6677550642 wkg:6677696212 wkg:667827742 wkg:6684051501 wkg:668695977 wkg:668711965 wkg:66917115 wkg:6695107241 wkg:670298239 wkg:6704029967 wkg:671158602 wkg:671359928 wkg:671949930 wkg:671958713 wkg:67216084 wkg:672191419 wkg:672844673 wkg:6730895551 wkg:673095657 wkg:67340420 wkg:6734812764 wkg:674837661 wkg:674922239 wkg:676672956 wkg:676811271 wkg:677155949 wkg:678879747 wkg:679131095 wkg:679220401 wkg:6810092744 wkg:681308991 wkg:6815901330} .\n",
            "    ?entity_uri wkgs:spatialObject ?geom.\n",
            "    ?geom geo:asWKT ?coordinates.\n",
            "    OPTIONAL { ?entity_uri rdf:type ?type .}\n",
            "    OPTIONAL { ?entity_uri rdfs:label ?label .}\n",
            "    OPTIONAL { ?entity_uri wkgs:nameEn ?nameEn .}\n",
            "  }\n",
            "  \n"
          ]
        },
        {
          "name": "stderr",
          "output_type": "stream",
          "text": [
            "\r 95%|█████████▌| 154/162 [01:19<00:04,  1.71it/s]"
          ]
        },
        {
          "name": "stdout",
          "output_type": "stream",
          "text": [
            "(101, 5)\n",
            "\n",
            "  PREFIX uom: <http://www.opengis.net/def/uom/OGC/1.0/>\n",
            "  PREFIX wkgs: <http://www.worldkg.org/schema/>\n",
            "  PREFIX wkg: <http://www.worldkg.org/resource/>\n",
            "  PREFIX wd: <http://www.wikidata.org/wiki/>\n",
            "  PREFIX sf: <http://www.opengis.net/ont/sf#>\n",
            "  PREFIX rdfs: <http://www.w3.org/2000/01/rdf-schema#>\n",
            "  PREFIX geo: <http://www.opengis.net/ont/geosparql#>\n",
            "  PREFIX owl: <http://www.w3.org/2002/07/owl#>\n",
            "  PREFIX rdf: <http://www.w3.org/1999/02/22-rdf-syntax-ns#>\n",
            "  SELECT DISTINCT ?entity_uri ?type ?label ?nameEn ?coordinates WHERE {\n",
            "    VALUES ?entity_uri {wkg:6828580665 wkg:683493322 wkg:6853061640 wkg:6858523218 wkg:6860929818 wkg:6865960209 wkg:6875852824 wkg:687648502 wkg:6877194990 wkg:6877546148 wkg:6877609303 wkg:6893147658 wkg:689454657 wkg:6907263340 wkg:691562994 wkg:691562998 wkg:691563007 wkg:691595771 wkg:692604718 wkg:694145591 wkg:6949617199 wkg:697537844 wkg:697538044 wkg:6982659587 wkg:699179128 wkg:700942414 wkg:701889407 wkg:701950535 wkg:702033052 wkg:702033056 wkg:702035901 wkg:7023996427 wkg:702487470 wkg:702487472 wkg:702487484 wkg:702602043 wkg:702987319 wkg:702987327 wkg:702987331 wkg:702987332 wkg:702987348 wkg:702987350 wkg:702987351 wkg:702987356 wkg:702987365 wkg:702987391 wkg:702987403 wkg:703168249 wkg:703168565 wkg:703170081 wkg:703176567 wkg:703197512 wkg:703215835 wkg:703227297 wkg:703507266 wkg:703740734 wkg:705048454 wkg:705086436 wkg:705633239 wkg:707199129 wkg:707199196 wkg:7076170638 wkg:7076170641 wkg:7076170643 wkg:707929405 wkg:708035256 wkg:70996420 wkg:7101330962 wkg:7113022863 wkg:7133640258 wkg:714895390 wkg:715398002 wkg:7159916070 wkg:7174257403 wkg:717496100 wkg:717496106 wkg:717496108 wkg:717496190 wkg:7176892912 wkg:7180710735 wkg:718383251 wkg:7201845461 wkg:720897184 wkg:7212110893 wkg:7217619781 wkg:7217689295 wkg:721772119 wkg:7217802747 wkg:721783580 wkg:721783585 wkg:721818058 wkg:721818064 wkg:721818089 wkg:721818095 wkg:721818104 wkg:721818109 wkg:721818115 wkg:721818138 wkg:721818284 wkg:721818312} .\n",
            "    ?entity_uri wkgs:spatialObject ?geom.\n",
            "    ?geom geo:asWKT ?coordinates.\n",
            "    OPTIONAL { ?entity_uri rdf:type ?type .}\n",
            "    OPTIONAL { ?entity_uri rdfs:label ?label .}\n",
            "    OPTIONAL { ?entity_uri wkgs:nameEn ?nameEn .}\n",
            "  }\n",
            "  \n"
          ]
        },
        {
          "name": "stderr",
          "output_type": "stream",
          "text": [
            "\r 96%|█████████▌| 155/162 [01:19<00:03,  1.77it/s]"
          ]
        },
        {
          "name": "stdout",
          "output_type": "stream",
          "text": [
            "(103, 5)\n",
            "\n",
            "  PREFIX uom: <http://www.opengis.net/def/uom/OGC/1.0/>\n",
            "  PREFIX wkgs: <http://www.worldkg.org/schema/>\n",
            "  PREFIX wkg: <http://www.worldkg.org/resource/>\n",
            "  PREFIX wd: <http://www.wikidata.org/wiki/>\n",
            "  PREFIX sf: <http://www.opengis.net/ont/sf#>\n",
            "  PREFIX rdfs: <http://www.w3.org/2000/01/rdf-schema#>\n",
            "  PREFIX geo: <http://www.opengis.net/ont/geosparql#>\n",
            "  PREFIX owl: <http://www.w3.org/2002/07/owl#>\n",
            "  PREFIX rdf: <http://www.w3.org/1999/02/22-rdf-syntax-ns#>\n",
            "  SELECT DISTINCT ?entity_uri ?type ?label ?nameEn ?coordinates WHERE {\n",
            "    VALUES ?entity_uri {wkg:721818319 wkg:721818324 wkg:721818330 wkg:721818337 wkg:721818344 wkg:721818401 wkg:721818430 wkg:721818436 wkg:721818442 wkg:721818456 wkg:721818484 wkg:721818502 wkg:721818509 wkg:721818518 wkg:721818524 wkg:721818531 wkg:721818544 wkg:721818607 wkg:721818614 wkg:721818619 wkg:721818626 wkg:721818632 wkg:721818673 wkg:721818679 wkg:721818685 wkg:721818717 wkg:721818726 wkg:721818731 wkg:721818736 wkg:721916368 wkg:722053207 wkg:7233589918 wkg:724197171 wkg:724197178 wkg:724941446 wkg:725098578 wkg:725412713 wkg:7254805040 wkg:726539244 wkg:728933725 wkg:729167836 wkg:729168184 wkg:729168407 wkg:72990716 wkg:7316511261 wkg:733863104 wkg:734859252 wkg:734866054 wkg:734866056 wkg:734866062 wkg:734866065 wkg:734866072 wkg:734866073 wkg:734866076 wkg:734866087 wkg:734866093 wkg:734866096 wkg:734866104 wkg:734866107 wkg:734866113 wkg:734876454 wkg:734876465 wkg:734876468 wkg:734876473 wkg:734876479 wkg:734876505 wkg:734876512 wkg:734876521 wkg:7365971436 wkg:7366013143 wkg:738650161 wkg:739203609 wkg:739203622 wkg:739203623 wkg:739203626 wkg:739203629 wkg:739203636 wkg:739203675 wkg:739203690 wkg:739203691 wkg:739243913 wkg:740829737 wkg:741093327 wkg:7427950218 wkg:744817149 wkg:746288701 wkg:746731552 wkg:748035436 wkg:748035449 wkg:7504571159 wkg:7509239164 wkg:752184841 wkg:752184845 wkg:752184849 wkg:752184862 wkg:752184864 wkg:752184872 wkg:752184876 wkg:752184879 wkg:752184881} .\n",
            "    ?entity_uri wkgs:spatialObject ?geom.\n",
            "    ?geom geo:asWKT ?coordinates.\n",
            "    OPTIONAL { ?entity_uri rdf:type ?type .}\n",
            "    OPTIONAL { ?entity_uri rdfs:label ?label .}\n",
            "    OPTIONAL { ?entity_uri wkgs:nameEn ?nameEn .}\n",
            "  }\n",
            "  \n"
          ]
        },
        {
          "name": "stderr",
          "output_type": "stream",
          "text": [
            "\r 96%|█████████▋| 156/162 [01:20<00:03,  1.81it/s]"
          ]
        },
        {
          "name": "stdout",
          "output_type": "stream",
          "text": [
            "(102, 5)\n",
            "\n",
            "  PREFIX uom: <http://www.opengis.net/def/uom/OGC/1.0/>\n",
            "  PREFIX wkgs: <http://www.worldkg.org/schema/>\n",
            "  PREFIX wkg: <http://www.worldkg.org/resource/>\n",
            "  PREFIX wd: <http://www.wikidata.org/wiki/>\n",
            "  PREFIX sf: <http://www.opengis.net/ont/sf#>\n",
            "  PREFIX rdfs: <http://www.w3.org/2000/01/rdf-schema#>\n",
            "  PREFIX geo: <http://www.opengis.net/ont/geosparql#>\n",
            "  PREFIX owl: <http://www.w3.org/2002/07/owl#>\n",
            "  PREFIX rdf: <http://www.w3.org/1999/02/22-rdf-syntax-ns#>\n",
            "  SELECT DISTINCT ?entity_uri ?type ?label ?nameEn ?coordinates WHERE {\n",
            "    VALUES ?entity_uri {wkg:752184887 wkg:752184893 wkg:752195550 wkg:752195576 wkg:752195588 wkg:752195610 wkg:752195621 wkg:752195628 wkg:752195631 wkg:752195636 wkg:752195640 wkg:752195644 wkg:752398418 wkg:752398433 wkg:752398446 wkg:752398458 wkg:752398513 wkg:752398522 wkg:752398529 wkg:752398545 wkg:752398565 wkg:752398591 wkg:752398618 wkg:752398625 wkg:752398636 wkg:752398684 wkg:752398696 wkg:752398712 wkg:752398736 wkg:752398739 wkg:752398751 wkg:752562200 wkg:7525828404 wkg:7559250700 wkg:7570761075 wkg:7600230763 wkg:7603411437 wkg:7603538836 wkg:762305939 wkg:762306892 wkg:762539005 wkg:763118309 wkg:7633764724 wkg:76515393 wkg:765974222 wkg:766875174 wkg:767247193 wkg:767329184 wkg:767407724 wkg:767436902 wkg:768603672 wkg:768603673 wkg:768603678 wkg:768603698 wkg:768603699 wkg:768603703 wkg:768603704 wkg:768603706 wkg:768603712 wkg:768603719 wkg:768603720 wkg:768603723 wkg:768658549 wkg:768658566 wkg:768658733 wkg:768658737 wkg:769719122 wkg:769719287 wkg:770164229 wkg:771225710 wkg:771323155 wkg:771483928 wkg:772353524 wkg:772591533 wkg:7744656282 wkg:7746382594 wkg:775805749 wkg:7780524640 wkg:778151336 wkg:778674453 wkg:779046679 wkg:779127005 wkg:7807333398 wkg:7817936614 wkg:781832176 wkg:781832210 wkg:781848411 wkg:781848412 wkg:781848416 wkg:781848417 wkg:781848418 wkg:781848419 wkg:781848422 wkg:781859588 wkg:781875556 wkg:7844841591 wkg:784568819 wkg:784568822 wkg:784568841 wkg:784568879} .\n",
            "    ?entity_uri wkgs:spatialObject ?geom.\n",
            "    ?geom geo:asWKT ?coordinates.\n",
            "    OPTIONAL { ?entity_uri rdf:type ?type .}\n",
            "    OPTIONAL { ?entity_uri rdfs:label ?label .}\n",
            "    OPTIONAL { ?entity_uri wkgs:nameEn ?nameEn .}\n",
            "  }\n",
            "  \n"
          ]
        },
        {
          "name": "stderr",
          "output_type": "stream",
          "text": [
            "\r 97%|█████████▋| 157/162 [01:20<00:02,  1.85it/s]"
          ]
        },
        {
          "name": "stdout",
          "output_type": "stream",
          "text": [
            "(101, 5)\n",
            "\n",
            "  PREFIX uom: <http://www.opengis.net/def/uom/OGC/1.0/>\n",
            "  PREFIX wkgs: <http://www.worldkg.org/schema/>\n",
            "  PREFIX wkg: <http://www.worldkg.org/resource/>\n",
            "  PREFIX wd: <http://www.wikidata.org/wiki/>\n",
            "  PREFIX sf: <http://www.opengis.net/ont/sf#>\n",
            "  PREFIX rdfs: <http://www.w3.org/2000/01/rdf-schema#>\n",
            "  PREFIX geo: <http://www.opengis.net/ont/geosparql#>\n",
            "  PREFIX owl: <http://www.w3.org/2002/07/owl#>\n",
            "  PREFIX rdf: <http://www.w3.org/1999/02/22-rdf-syntax-ns#>\n",
            "  SELECT DISTINCT ?entity_uri ?type ?label ?nameEn ?coordinates WHERE {\n",
            "    VALUES ?entity_uri {wkg:784568885 wkg:787474432 wkg:787474499 wkg:790126920 wkg:792201717 wkg:792641747 wkg:794158462 wkg:795056587 wkg:795072309 wkg:796757269 wkg:796757272 wkg:799565148 wkg:801928971 wkg:802018597 wkg:802739484 wkg:8039169738 wkg:8039881721 wkg:805654388 wkg:8065187317 wkg:806633638 wkg:806925541 wkg:8074253882 wkg:8078742472 wkg:8079302905 wkg:8096788366 wkg:8097588859 wkg:8100536923 wkg:813532535 wkg:813533904 wkg:813594684 wkg:813594764 wkg:8143613010 wkg:814872212 wkg:814909332 wkg:815707681 wkg:8177556544 wkg:818601686 wkg:8187660728 wkg:819610833 wkg:819610852 wkg:819610872 wkg:819610883 wkg:819610933 wkg:819610948 wkg:8200085126 wkg:820185494 wkg:820252454 wkg:820252478 wkg:820252512 wkg:820309178 wkg:820309193 wkg:820309260 wkg:820345120 wkg:820374319 wkg:820417183 wkg:820856421 wkg:820873580 wkg:820873584 wkg:820885083 wkg:820885097 wkg:820885106 wkg:820885126 wkg:820983148 wkg:8210280882 wkg:821045212 wkg:821045216 wkg:821045220 wkg:821045223 wkg:821096717 wkg:821096728 wkg:821825752 wkg:823479998 wkg:823779119 wkg:824194947 wkg:825811247 wkg:826106795 wkg:8262355913 wkg:828421586 wkg:8288944134 wkg:8288944313 wkg:831219739 wkg:831421366 wkg:831794646 wkg:832423725 wkg:833702794 wkg:835139184 wkg:835139189 wkg:835139229 wkg:835139239 wkg:835139257 wkg:835451797 wkg:835482236 wkg:835482253 wkg:835537508 wkg:835537510 wkg:8359800762 wkg:836095712 wkg:836253656 wkg:836392116 wkg:836539833} .\n",
            "    ?entity_uri wkgs:spatialObject ?geom.\n",
            "    ?geom geo:asWKT ?coordinates.\n",
            "    OPTIONAL { ?entity_uri rdf:type ?type .}\n",
            "    OPTIONAL { ?entity_uri rdfs:label ?label .}\n",
            "    OPTIONAL { ?entity_uri wkgs:nameEn ?nameEn .}\n",
            "  }\n",
            "  \n"
          ]
        },
        {
          "name": "stderr",
          "output_type": "stream",
          "text": [
            "\r 98%|█████████▊| 158/162 [01:21<00:02,  1.87it/s]"
          ]
        },
        {
          "name": "stdout",
          "output_type": "stream",
          "text": [
            "(100, 5)\n",
            "\n",
            "  PREFIX uom: <http://www.opengis.net/def/uom/OGC/1.0/>\n",
            "  PREFIX wkgs: <http://www.worldkg.org/schema/>\n",
            "  PREFIX wkg: <http://www.worldkg.org/resource/>\n",
            "  PREFIX wd: <http://www.wikidata.org/wiki/>\n",
            "  PREFIX sf: <http://www.opengis.net/ont/sf#>\n",
            "  PREFIX rdfs: <http://www.w3.org/2000/01/rdf-schema#>\n",
            "  PREFIX geo: <http://www.opengis.net/ont/geosparql#>\n",
            "  PREFIX owl: <http://www.w3.org/2002/07/owl#>\n",
            "  PREFIX rdf: <http://www.w3.org/1999/02/22-rdf-syntax-ns#>\n",
            "  SELECT DISTINCT ?entity_uri ?type ?label ?nameEn ?coordinates WHERE {\n",
            "    VALUES ?entity_uri {wkg:836539842 wkg:836673303 wkg:836764089 wkg:836764122 wkg:8379987168 wkg:8379991392 wkg:838090640 wkg:8382257141 wkg:8387412848 wkg:840769631 wkg:840769672 wkg:840769678 wkg:841335886 wkg:841376597 wkg:841376614 wkg:841376623 wkg:841376647 wkg:842043542 wkg:842111462 wkg:842111537 wkg:842111552 wkg:842111680 wkg:842111720 wkg:842111727 wkg:842111839 wkg:842164163 wkg:842164195 wkg:842164199 wkg:842389792 wkg:8431056316 wkg:8435917976 wkg:844626801 wkg:8454021857 wkg:8459664845 wkg:8463690279 wkg:8463690280 wkg:848262434 wkg:848262443 wkg:8482869729 wkg:850694924 wkg:853813886 wkg:8541366252 wkg:8556845855 wkg:856066938 wkg:8563974766 wkg:8568605300 wkg:8588180967 wkg:859598672 wkg:8603453650 wkg:8603453651 wkg:8605358864 wkg:8605358866 wkg:8605358867 wkg:8605712654 wkg:8630644446 wkg:8630644450 wkg:863622554 wkg:863647764 wkg:8639604950 wkg:864242320 wkg:864248673 wkg:864255938 wkg:864255939 wkg:864262458 wkg:866396097 wkg:8688595917 wkg:8691001879 wkg:869939415 wkg:8745193865 wkg:874521429 wkg:874521451 wkg:874521488 wkg:874521545 wkg:874521565 wkg:876627764 wkg:8769358686 wkg:87832528 wkg:87834097 wkg:878884478 wkg:878884697 wkg:879415622 wkg:879415625 wkg:879974495 wkg:881714453 wkg:884921764 wkg:89025949 wkg:892568035 wkg:894755913 wkg:894792512 wkg:895193084 wkg:895520933 wkg:898876090 wkg:898933440 wkg:902865249 wkg:902865431 wkg:902865566 wkg:902865654 wkg:902865739 wkg:902866563 wkg:902866819} .\n",
            "    ?entity_uri wkgs:spatialObject ?geom.\n",
            "    ?geom geo:asWKT ?coordinates.\n",
            "    OPTIONAL { ?entity_uri rdf:type ?type .}\n",
            "    OPTIONAL { ?entity_uri rdfs:label ?label .}\n",
            "    OPTIONAL { ?entity_uri wkgs:nameEn ?nameEn .}\n",
            "  }\n",
            "  \n"
          ]
        },
        {
          "name": "stderr",
          "output_type": "stream",
          "text": [
            "\r 98%|█████████▊| 159/162 [01:21<00:01,  1.74it/s]"
          ]
        },
        {
          "name": "stdout",
          "output_type": "stream",
          "text": [
            "(100, 5)\n",
            "\n",
            "  PREFIX uom: <http://www.opengis.net/def/uom/OGC/1.0/>\n",
            "  PREFIX wkgs: <http://www.worldkg.org/schema/>\n",
            "  PREFIX wkg: <http://www.worldkg.org/resource/>\n",
            "  PREFIX wd: <http://www.wikidata.org/wiki/>\n",
            "  PREFIX sf: <http://www.opengis.net/ont/sf#>\n",
            "  PREFIX rdfs: <http://www.w3.org/2000/01/rdf-schema#>\n",
            "  PREFIX geo: <http://www.opengis.net/ont/geosparql#>\n",
            "  PREFIX owl: <http://www.w3.org/2002/07/owl#>\n",
            "  PREFIX rdf: <http://www.w3.org/1999/02/22-rdf-syntax-ns#>\n",
            "  SELECT DISTINCT ?entity_uri ?type ?label ?nameEn ?coordinates WHERE {\n",
            "    VALUES ?entity_uri {wkg:902905107 wkg:902906165 wkg:902927516 wkg:902927569 wkg:902928412 wkg:902928469 wkg:902929215 wkg:902929696 wkg:902929756 wkg:902929965 wkg:902930173 wkg:902930340 wkg:902930506 wkg:902930894 wkg:902930905 wkg:902930946 wkg:902931022 wkg:902931058 wkg:902931125 wkg:902931145 wkg:902931165 wkg:902931238 wkg:902931283 wkg:902942012 wkg:902942140 wkg:902948954 wkg:902949155 wkg:902949210 wkg:902949235 wkg:902949266 wkg:902949316 wkg:902949356 wkg:902949582 wkg:902949657 wkg:902949782 wkg:902949846 wkg:902949932 wkg:902949960 wkg:902950004 wkg:902950044 wkg:902950081 wkg:902950127 wkg:902950171 wkg:902950221 wkg:902950271 wkg:902950368 wkg:902950603 wkg:902950770 wkg:902950829 wkg:902950873 wkg:902951114 wkg:902951301 wkg:902952017 wkg:902952159 wkg:902952206 wkg:902952421 wkg:902952672 wkg:902954328 wkg:902954469 wkg:902954569 wkg:902954684 wkg:902954777 wkg:902954817 wkg:902954876 wkg:902955062 wkg:902955133 wkg:902955239 wkg:902955272 wkg:902955719 wkg:902955768 wkg:902955979 wkg:902956649 wkg:902957342 wkg:902957699 wkg:902957818 wkg:902958019 wkg:902958047 wkg:902958125 wkg:902958320 wkg:902958408 wkg:902958433 wkg:902958649 wkg:902959887 wkg:902959962 wkg:902960000 wkg:902960038 wkg:902960327 wkg:902960568 wkg:902961382 wkg:902961678 wkg:902962141 wkg:902962299 wkg:902962465 wkg:902969171 wkg:902970554 wkg:902970786 wkg:902971042 wkg:902971173 wkg:902971494 wkg:902972222} .\n",
            "    ?entity_uri wkgs:spatialObject ?geom.\n",
            "    ?geom geo:asWKT ?coordinates.\n",
            "    OPTIONAL { ?entity_uri rdf:type ?type .}\n",
            "    OPTIONAL { ?entity_uri rdfs:label ?label .}\n",
            "    OPTIONAL { ?entity_uri wkgs:nameEn ?nameEn .}\n",
            "  }\n",
            "  \n"
          ]
        },
        {
          "name": "stderr",
          "output_type": "stream",
          "text": [
            "\r 99%|█████████▉| 160/162 [01:22<00:01,  1.85it/s]"
          ]
        },
        {
          "name": "stdout",
          "output_type": "stream",
          "text": [
            "(100, 5)\n",
            "\n",
            "  PREFIX uom: <http://www.opengis.net/def/uom/OGC/1.0/>\n",
            "  PREFIX wkgs: <http://www.worldkg.org/schema/>\n",
            "  PREFIX wkg: <http://www.worldkg.org/resource/>\n",
            "  PREFIX wd: <http://www.wikidata.org/wiki/>\n",
            "  PREFIX sf: <http://www.opengis.net/ont/sf#>\n",
            "  PREFIX rdfs: <http://www.w3.org/2000/01/rdf-schema#>\n",
            "  PREFIX geo: <http://www.opengis.net/ont/geosparql#>\n",
            "  PREFIX owl: <http://www.w3.org/2002/07/owl#>\n",
            "  PREFIX rdf: <http://www.w3.org/1999/02/22-rdf-syntax-ns#>\n",
            "  SELECT DISTINCT ?entity_uri ?type ?label ?nameEn ?coordinates WHERE {\n",
            "    VALUES ?entity_uri {wkg:902972491 wkg:902973035 wkg:902973072 wkg:902973153 wkg:902973628 wkg:902973727 wkg:902973968 wkg:902974141 wkg:902975625 wkg:902975701 wkg:902975790 wkg:902975863 wkg:902975901 wkg:902976400 wkg:902976486 wkg:902976538 wkg:902976873 wkg:902977551 wkg:902977595 wkg:902978101 wkg:902978211 wkg:902978615 wkg:902979476 wkg:902979631 wkg:902979676 wkg:902980173 wkg:902980222 wkg:902980236 wkg:902980283 wkg:902980439 wkg:902980826 wkg:902981042 wkg:902981166 wkg:902981330 wkg:902981603 wkg:902981871 wkg:902981960 wkg:902982384 wkg:902982881 wkg:902983072 wkg:902983124 wkg:902983517 wkg:902984007 wkg:902984080 wkg:902984343 wkg:902984801 wkg:902984899 wkg:902985458 wkg:902985491 wkg:902985728 wkg:902986248 wkg:902986899 wkg:902987093 wkg:902987204 wkg:902989848 wkg:902989898 wkg:902990302 wkg:902990343 wkg:902990601 wkg:902991945 wkg:902992213 wkg:902992702 wkg:902992875 wkg:902993128 wkg:902993216 wkg:902993855 wkg:902993982 wkg:903003276 wkg:903003314 wkg:903003359 wkg:903003446 wkg:903003545 wkg:903003874 wkg:903004396 wkg:903004617 wkg:903004695 wkg:903004952 wkg:903005067 wkg:903005247 wkg:903005621 wkg:903009432 wkg:903009562 wkg:903009727 wkg:903010188 wkg:903010280 wkg:903010351 wkg:903010759 wkg:903011146 wkg:903011384 wkg:903011570 wkg:903011654 wkg:903011761 wkg:903011776 wkg:903011803 wkg:903013012 wkg:903013040 wkg:903014593 wkg:903014960 wkg:903015394 wkg:903015810} .\n",
            "    ?entity_uri wkgs:spatialObject ?geom.\n",
            "    ?geom geo:asWKT ?coordinates.\n",
            "    OPTIONAL { ?entity_uri rdf:type ?type .}\n",
            "    OPTIONAL { ?entity_uri rdfs:label ?label .}\n",
            "    OPTIONAL { ?entity_uri wkgs:nameEn ?nameEn .}\n",
            "  }\n",
            "  \n"
          ]
        },
        {
          "name": "stderr",
          "output_type": "stream",
          "text": [
            "\r 99%|█████████▉| 161/162 [01:22<00:00,  1.94it/s]"
          ]
        },
        {
          "name": "stdout",
          "output_type": "stream",
          "text": [
            "(100, 5)\n",
            "\n",
            "  PREFIX uom: <http://www.opengis.net/def/uom/OGC/1.0/>\n",
            "  PREFIX wkgs: <http://www.worldkg.org/schema/>\n",
            "  PREFIX wkg: <http://www.worldkg.org/resource/>\n",
            "  PREFIX wd: <http://www.wikidata.org/wiki/>\n",
            "  PREFIX sf: <http://www.opengis.net/ont/sf#>\n",
            "  PREFIX rdfs: <http://www.w3.org/2000/01/rdf-schema#>\n",
            "  PREFIX geo: <http://www.opengis.net/ont/geosparql#>\n",
            "  PREFIX owl: <http://www.w3.org/2002/07/owl#>\n",
            "  PREFIX rdf: <http://www.w3.org/1999/02/22-rdf-syntax-ns#>\n",
            "  SELECT DISTINCT ?entity_uri ?type ?label ?nameEn ?coordinates WHERE {\n",
            "    VALUES ?entity_uri {wkg:903016065 wkg:903016390 wkg:903018492 wkg:903018734 wkg:903018868 wkg:903018934 wkg:903019066 wkg:903020520 wkg:903021312 wkg:903021346 wkg:903021625 wkg:903021750 wkg:903021807 wkg:903022517 wkg:903023109 wkg:903023303 wkg:903023539 wkg:903023791 wkg:903023963 wkg:903024075 wkg:904394988 wkg:905640075 wkg:907983288 wkg:912644242 wkg:914675868 wkg:915301419 wkg:919530900 wkg:919531013 wkg:919531167 wkg:919755439 wkg:921136374 wkg:925029751 wkg:925620309 wkg:928412475 wkg:929128330 wkg:929329945 wkg:931545691 wkg:936971035 wkg:937645521 wkg:940637814 wkg:943248746 wkg:945097267 wkg:946826952 wkg:946851506 wkg:947721439 wkg:947726036 wkg:947737244 wkg:948974076 wkg:955604358 wkg:955838675 wkg:956379454 wkg:957460651 wkg:957531675 wkg:959344243 wkg:962290922 wkg:964912382 wkg:964921223 wkg:965710326 wkg:966583366 wkg:970564374 wkg:97160788 wkg:97635852 wkg:976568512 wkg:978016756 wkg:98072410 wkg:984059199 wkg:984076398 wkg:986363159 wkg:990488586 wkg:991650348 wkg:992837680 wkg:994959028 wkg:995638715 wkg:995638758 wkg:995638788 wkg:995651864 wkg:995651931 wkg:995660111 wkg:995739571 wkg:995958512 wkg:995958592 wkg:995958614 wkg:995958628 wkg:995958851 wkg:997413480 wkg:997413482 wkg:997413868 wkg:997414904 wkg:997414940 wkg:997415479} .\n",
            "    ?entity_uri wkgs:spatialObject ?geom.\n",
            "    ?geom geo:asWKT ?coordinates.\n",
            "    OPTIONAL { ?entity_uri rdf:type ?type .}\n",
            "    OPTIONAL { ?entity_uri rdfs:label ?label .}\n",
            "    OPTIONAL { ?entity_uri wkgs:nameEn ?nameEn .}\n",
            "  }\n",
            "  \n"
          ]
        },
        {
          "name": "stderr",
          "output_type": "stream",
          "text": [
            "100%|██████████| 162/162 [01:23<00:00,  1.95it/s]"
          ]
        },
        {
          "name": "stdout",
          "output_type": "stream",
          "text": [
            "(90, 5)\n"
          ]
        },
        {
          "name": "stderr",
          "output_type": "stream",
          "text": [
            "\n"
          ]
        },
        {
          "data": {
            "text/html": [
              "\n",
              "  <div id=\"df-ddca3993-5c57-4633-b951-4bde0c2e877a\">\n",
              "    <div class=\"colab-df-container\">\n",
              "      <div>\n",
              "<style scoped>\n",
              "    .dataframe tbody tr th:only-of-type {\n",
              "        vertical-align: middle;\n",
              "    }\n",
              "\n",
              "    .dataframe tbody tr th {\n",
              "        vertical-align: top;\n",
              "    }\n",
              "\n",
              "    .dataframe thead th {\n",
              "        text-align: right;\n",
              "    }\n",
              "</style>\n",
              "<table border=\"1\" class=\"dataframe\">\n",
              "  <thead>\n",
              "    <tr style=\"text-align: right;\">\n",
              "      <th></th>\n",
              "      <th>entity_uri</th>\n",
              "      <th>type</th>\n",
              "      <th>label</th>\n",
              "      <th>nameEn</th>\n",
              "      <th>coordinates</th>\n",
              "    </tr>\n",
              "  </thead>\n",
              "  <tbody>\n",
              "    <tr>\n",
              "      <th>0</th>\n",
              "      <td>http://www.worldkg.org/resource/1048268052</td>\n",
              "      <td>http://www.worldkg.org/schema/Village</td>\n",
              "      <td>ບ້ານ ສົມສະໄໝ</td>\n",
              "      <td>Ban Somsamay</td>\n",
              "      <td>POINT(102.8220741 18.1366351)</td>\n",
              "    </tr>\n",
              "    <tr>\n",
              "      <th>1</th>\n",
              "      <td>http://www.worldkg.org/resource/1048638884</td>\n",
              "      <td>http://www.worldkg.org/schema/Village</td>\n",
              "      <td>Veunthan</td>\n",
              "      <td>Veunthan</td>\n",
              "      <td>POINT(102.8087386 18.1418518)</td>\n",
              "    </tr>\n",
              "    <tr>\n",
              "      <th>2</th>\n",
              "      <td>http://www.worldkg.org/resource/1049908636</td>\n",
              "      <td>http://www.worldkg.org/schema/Village</td>\n",
              "      <td>Na Phieng</td>\n",
              "      <td>Na Phieng</td>\n",
              "      <td>POINT(103.5042558 20.0638525)</td>\n",
              "    </tr>\n",
              "    <tr>\n",
              "      <th>3</th>\n",
              "      <td>http://www.worldkg.org/resource/1148185540</td>\n",
              "      <td>http://www.worldkg.org/schema/Village</td>\n",
              "      <td>کسرینه</td>\n",
              "      <td>Kasrineh</td>\n",
              "      <td>POINT(58.3997166 35.2567892)</td>\n",
              "    </tr>\n",
              "    <tr>\n",
              "      <th>4</th>\n",
              "      <td>http://www.worldkg.org/resource/1013550821</td>\n",
              "      <td>http://www.worldkg.org/schema/Village</td>\n",
              "      <td>سرهنگ</td>\n",
              "      <td>Sarhang</td>\n",
              "      <td>POINT(59.2641824 35.6540583)</td>\n",
              "    </tr>\n",
              "    <tr>\n",
              "      <th>...</th>\n",
              "      <td>...</td>\n",
              "      <td>...</td>\n",
              "      <td>...</td>\n",
              "      <td>...</td>\n",
              "      <td>...</td>\n",
              "    </tr>\n",
              "    <tr>\n",
              "      <th>16250</th>\n",
              "      <td>http://www.worldkg.org/resource/962290922</td>\n",
              "      <td>http://www.worldkg.org/schema/Museum</td>\n",
              "      <td>Historisches Museum</td>\n",
              "      <td>None</td>\n",
              "      <td>POINT(7.4802326 53.4692332)</td>\n",
              "    </tr>\n",
              "    <tr>\n",
              "      <th>16251</th>\n",
              "      <td>http://www.worldkg.org/resource/966583366</td>\n",
              "      <td>http://www.worldkg.org/schema/Town</td>\n",
              "      <td>Kabataş</td>\n",
              "      <td>None</td>\n",
              "      <td>POINT(37.4498616 40.7515493)</td>\n",
              "    </tr>\n",
              "    <tr>\n",
              "      <th>16252</th>\n",
              "      <td>http://www.worldkg.org/resource/97160788</td>\n",
              "      <td>http://www.worldkg.org/schema/Town</td>\n",
              "      <td>Lilydale</td>\n",
              "      <td>None</td>\n",
              "      <td>POINT(145.352405 -37.7576639)</td>\n",
              "    </tr>\n",
              "    <tr>\n",
              "      <th>16253</th>\n",
              "      <td>http://www.worldkg.org/resource/970564374</td>\n",
              "      <td>http://www.worldkg.org/schema/Village</td>\n",
              "      <td>Gaffarlı</td>\n",
              "      <td>None</td>\n",
              "      <td>POINT(35.9983643 37.5413165)</td>\n",
              "    </tr>\n",
              "    <tr>\n",
              "      <th>16254</th>\n",
              "      <td>http://www.worldkg.org/resource/97635852</td>\n",
              "      <td>http://www.worldkg.org/schema/Village</td>\n",
              "      <td>Hall Green</td>\n",
              "      <td>None</td>\n",
              "      <td>POINT(-1.840403 52.4285007)</td>\n",
              "    </tr>\n",
              "  </tbody>\n",
              "</table>\n",
              "<p>16255 rows × 5 columns</p>\n",
              "</div>\n",
              "      <button class=\"colab-df-convert\" onclick=\"convertToInteractive('df-ddca3993-5c57-4633-b951-4bde0c2e877a')\"\n",
              "              title=\"Convert this dataframe to an interactive table.\"\n",
              "              style=\"display:none;\">\n",
              "        \n",
              "  <svg xmlns=\"http://www.w3.org/2000/svg\" height=\"24px\"viewBox=\"0 0 24 24\"\n",
              "       width=\"24px\">\n",
              "    <path d=\"M0 0h24v24H0V0z\" fill=\"none\"/>\n",
              "    <path d=\"M18.56 5.44l.94 2.06.94-2.06 2.06-.94-2.06-.94-.94-2.06-.94 2.06-2.06.94zm-11 1L8.5 8.5l.94-2.06 2.06-.94-2.06-.94L8.5 2.5l-.94 2.06-2.06.94zm10 10l.94 2.06.94-2.06 2.06-.94-2.06-.94-.94-2.06-.94 2.06-2.06.94z\"/><path d=\"M17.41 7.96l-1.37-1.37c-.4-.4-.92-.59-1.43-.59-.52 0-1.04.2-1.43.59L10.3 9.45l-7.72 7.72c-.78.78-.78 2.05 0 2.83L4 21.41c.39.39.9.59 1.41.59.51 0 1.02-.2 1.41-.59l7.78-7.78 2.81-2.81c.8-.78.8-2.07 0-2.86zM5.41 20L4 18.59l7.72-7.72 1.47 1.35L5.41 20z\"/>\n",
              "  </svg>\n",
              "      </button>\n",
              "      \n",
              "  <style>\n",
              "    .colab-df-container {\n",
              "      display:flex;\n",
              "      flex-wrap:wrap;\n",
              "      gap: 12px;\n",
              "    }\n",
              "\n",
              "    .colab-df-convert {\n",
              "      background-color: #E8F0FE;\n",
              "      border: none;\n",
              "      border-radius: 50%;\n",
              "      cursor: pointer;\n",
              "      display: none;\n",
              "      fill: #1967D2;\n",
              "      height: 32px;\n",
              "      padding: 0 0 0 0;\n",
              "      width: 32px;\n",
              "    }\n",
              "\n",
              "    .colab-df-convert:hover {\n",
              "      background-color: #E2EBFA;\n",
              "      box-shadow: 0px 1px 2px rgba(60, 64, 67, 0.3), 0px 1px 3px 1px rgba(60, 64, 67, 0.15);\n",
              "      fill: #174EA6;\n",
              "    }\n",
              "\n",
              "    [theme=dark] .colab-df-convert {\n",
              "      background-color: #3B4455;\n",
              "      fill: #D2E3FC;\n",
              "    }\n",
              "\n",
              "    [theme=dark] .colab-df-convert:hover {\n",
              "      background-color: #434B5C;\n",
              "      box-shadow: 0px 1px 3px 1px rgba(0, 0, 0, 0.15);\n",
              "      filter: drop-shadow(0px 1px 2px rgba(0, 0, 0, 0.3));\n",
              "      fill: #FFFFFF;\n",
              "    }\n",
              "  </style>\n",
              "\n",
              "      <script>\n",
              "        const buttonEl =\n",
              "          document.querySelector('#df-ddca3993-5c57-4633-b951-4bde0c2e877a button.colab-df-convert');\n",
              "        buttonEl.style.display =\n",
              "          google.colab.kernel.accessAllowed ? 'block' : 'none';\n",
              "\n",
              "        async function convertToInteractive(key) {\n",
              "          const element = document.querySelector('#df-ddca3993-5c57-4633-b951-4bde0c2e877a');\n",
              "          const dataTable =\n",
              "            await google.colab.kernel.invokeFunction('convertToInteractive',\n",
              "                                                     [key], {});\n",
              "          if (!dataTable) return;\n",
              "\n",
              "          const docLinkHtml = 'Like what you see? Visit the ' +\n",
              "            '<a target=\"_blank\" href=https://colab.research.google.com/notebooks/data_table.ipynb>data table notebook</a>'\n",
              "            + ' to learn more about interactive tables.';\n",
              "          element.innerHTML = '';\n",
              "          dataTable['output_type'] = 'display_data';\n",
              "          await google.colab.output.renderOutput(dataTable, element);\n",
              "          const docLink = document.createElement('div');\n",
              "          docLink.innerHTML = docLinkHtml;\n",
              "          element.appendChild(docLink);\n",
              "        }\n",
              "      </script>\n",
              "    </div>\n",
              "  </div>\n",
              "  "
            ],
            "text/plain": [
              "                                       entity_uri  \\\n",
              "0      http://www.worldkg.org/resource/1048268052   \n",
              "1      http://www.worldkg.org/resource/1048638884   \n",
              "2      http://www.worldkg.org/resource/1049908636   \n",
              "3      http://www.worldkg.org/resource/1148185540   \n",
              "4      http://www.worldkg.org/resource/1013550821   \n",
              "...                                           ...   \n",
              "16250   http://www.worldkg.org/resource/962290922   \n",
              "16251   http://www.worldkg.org/resource/966583366   \n",
              "16252    http://www.worldkg.org/resource/97160788   \n",
              "16253   http://www.worldkg.org/resource/970564374   \n",
              "16254    http://www.worldkg.org/resource/97635852   \n",
              "\n",
              "                                        type                label  \\\n",
              "0      http://www.worldkg.org/schema/Village         ບ້ານ ສົມສະໄໝ   \n",
              "1      http://www.worldkg.org/schema/Village             Veunthan   \n",
              "2      http://www.worldkg.org/schema/Village            Na Phieng   \n",
              "3      http://www.worldkg.org/schema/Village               کسرینه   \n",
              "4      http://www.worldkg.org/schema/Village                سرهنگ   \n",
              "...                                      ...                  ...   \n",
              "16250   http://www.worldkg.org/schema/Museum  Historisches Museum   \n",
              "16251     http://www.worldkg.org/schema/Town              Kabataş   \n",
              "16252     http://www.worldkg.org/schema/Town             Lilydale   \n",
              "16253  http://www.worldkg.org/schema/Village             Gaffarlı   \n",
              "16254  http://www.worldkg.org/schema/Village           Hall Green   \n",
              "\n",
              "             nameEn                    coordinates  \n",
              "0      Ban Somsamay  POINT(102.8220741 18.1366351)  \n",
              "1          Veunthan  POINT(102.8087386 18.1418518)  \n",
              "2         Na Phieng  POINT(103.5042558 20.0638525)  \n",
              "3          Kasrineh   POINT(58.3997166 35.2567892)  \n",
              "4           Sarhang   POINT(59.2641824 35.6540583)  \n",
              "...             ...                            ...  \n",
              "16250          None    POINT(7.4802326 53.4692332)  \n",
              "16251          None   POINT(37.4498616 40.7515493)  \n",
              "16252          None  POINT(145.352405 -37.7576639)  \n",
              "16253          None   POINT(35.9983643 37.5413165)  \n",
              "16254          None    POINT(-1.840403 52.4285007)  \n",
              "\n",
              "[16255 rows x 5 columns]"
            ]
          },
          "execution_count": 12,
          "metadata": {},
          "output_type": "execute_result"
        }
      ],
      "source": [
        "# extract all triples for each unique entity\n",
        "batch_size = 100\n",
        "batches = math.ceil(len(unique_entities_inductive_testset)/batch_size)\n",
        "\n",
        "results_df_list = []\n",
        "for i in tqdm(range(batches)):\n",
        "  selected_entities = unique_entities_inductive_testset[i*batch_size: (i+1)*batch_size] \n",
        "  selected_entities_string = ' '.join(selected_entities)\n",
        "  query  =  \"\"\"\n",
        "  PREFIX uom: <http://www.opengis.net/def/uom/OGC/1.0/>\n",
        "  PREFIX wkgs: <http://www.worldkg.org/schema/>\n",
        "  PREFIX wkg: <http://www.worldkg.org/resource/>\n",
        "  PREFIX wd: <http://www.wikidata.org/wiki/>\n",
        "  PREFIX sf: <http://www.opengis.net/ont/sf#>\n",
        "  PREFIX rdfs: <http://www.w3.org/2000/01/rdf-schema#>\n",
        "  PREFIX geo: <http://www.opengis.net/ont/geosparql#>\n",
        "  PREFIX owl: <http://www.w3.org/2002/07/owl#>\n",
        "  PREFIX rdf: <http://www.w3.org/1999/02/22-rdf-syntax-ns#>\n",
        "  SELECT DISTINCT ?entity_uri ?type ?label ?nameEn ?coordinates WHERE {\n",
        "    VALUES ?entity_uri {%s} .\n",
        "    ?entity_uri wkgs:spatialObject ?geom.\n",
        "    ?geom geo:asWKT ?coordinates.\n",
        "    OPTIONAL { ?entity_uri rdf:type ?type .}\n",
        "    OPTIONAL { ?entity_uri rdfs:label ?label .}\n",
        "    OPTIONAL { ?entity_uri wkgs:nameEn ?nameEn .}\n",
        "  }\n",
        "  \"\"\"%(selected_entities_string)\n",
        "  print(query)\n",
        "  try:\n",
        "    results = query_sparql(query,sparqlview_wrapper)\n",
        "  except Exception as e:\n",
        "    print(sys.exc_info()[0])\n",
        "    print(e)\n",
        "\n",
        "  results_df = sparql2dataframe(results)\n",
        "  print(results_df.shape)\n",
        "  results_df_list.append(results_df)\n",
        "\n",
        "\n",
        "merged_results = pd.concat(results_df_list, ignore_index = True)\n",
        "\n",
        "merged_results"
      ]
    },
    {
      "cell_type": "code",
      "execution_count": null,
      "metadata": {
        "colab": {
          "base_uri": "https://localhost:8080/"
        },
        "id": "6mggxxwSLv_2",
        "outputId": "af497a9f-0a23-4b71-bb1b-83c310579d3e"
      },
      "outputs": [
        {
          "data": {
            "text/plain": [
              "(16190, 5)"
            ]
          },
          "execution_count": 13,
          "metadata": {},
          "output_type": "execute_result"
        }
      ],
      "source": [
        "# checking and removing duplicates\n",
        "merged_results = merged_results[~merged_results.duplicated(['entity_uri'], keep = 'first')]\n",
        "merged_results.shape"
      ]
    },
    {
      "cell_type": "code",
      "execution_count": null,
      "metadata": {
        "colab": {
          "base_uri": "https://localhost:8080/",
          "height": 434
        },
        "id": "7HA2OHRJLynN",
        "outputId": "d3969642-97e9-4328-e902-6ba0d5f2c0c5"
      },
      "outputs": [
        {
          "name": "stderr",
          "output_type": "stream",
          "text": [
            "<ipython-input-14-c492af3911cb>:5: SettingWithCopyWarning: \n",
            "A value is trying to be set on a copy of a slice from a DataFrame.\n",
            "Try using .loc[row_indexer,col_indexer] = value instead\n",
            "\n",
            "See the caveats in the documentation: https://pandas.pydata.org/pandas-docs/stable/user_guide/indexing.html#returning-a-view-versus-a-copy\n",
            "  merged_results['type'] = merged_results['type'].astype('str')\n",
            "<ipython-input-14-c492af3911cb>:6: SettingWithCopyWarning: \n",
            "A value is trying to be set on a copy of a slice from a DataFrame.\n",
            "Try using .loc[row_indexer,col_indexer] = value instead\n",
            "\n",
            "See the caveats in the documentation: https://pandas.pydata.org/pandas-docs/stable/user_guide/indexing.html#returning-a-view-versus-a-copy\n",
            "  merged_results['type'] = merged_results['type'].apply(lambda uri: re.sub(compiled_pattern, 'wkgs:', uri))\n"
          ]
        },
        {
          "data": {
            "text/html": [
              "\n",
              "  <div id=\"df-74ff7ffb-d46e-4dee-bd8c-1fc2bc13eb77\">\n",
              "    <div class=\"colab-df-container\">\n",
              "      <div>\n",
              "<style scoped>\n",
              "    .dataframe tbody tr th:only-of-type {\n",
              "        vertical-align: middle;\n",
              "    }\n",
              "\n",
              "    .dataframe tbody tr th {\n",
              "        vertical-align: top;\n",
              "    }\n",
              "\n",
              "    .dataframe thead th {\n",
              "        text-align: right;\n",
              "    }\n",
              "</style>\n",
              "<table border=\"1\" class=\"dataframe\">\n",
              "  <thead>\n",
              "    <tr style=\"text-align: right;\">\n",
              "      <th></th>\n",
              "      <th>entity_uri</th>\n",
              "      <th>type</th>\n",
              "      <th>label</th>\n",
              "      <th>nameEn</th>\n",
              "      <th>coordinates</th>\n",
              "    </tr>\n",
              "  </thead>\n",
              "  <tbody>\n",
              "    <tr>\n",
              "      <th>0</th>\n",
              "      <td>http://www.worldkg.org/resource/1048268052</td>\n",
              "      <td>wkgs:Village</td>\n",
              "      <td>ບ້ານ ສົມສະໄໝ</td>\n",
              "      <td>Ban Somsamay</td>\n",
              "      <td>POINT(102.8220741 18.1366351)</td>\n",
              "    </tr>\n",
              "    <tr>\n",
              "      <th>1</th>\n",
              "      <td>http://www.worldkg.org/resource/1048638884</td>\n",
              "      <td>wkgs:Village</td>\n",
              "      <td>Veunthan</td>\n",
              "      <td>Veunthan</td>\n",
              "      <td>POINT(102.8087386 18.1418518)</td>\n",
              "    </tr>\n",
              "    <tr>\n",
              "      <th>2</th>\n",
              "      <td>http://www.worldkg.org/resource/1049908636</td>\n",
              "      <td>wkgs:Village</td>\n",
              "      <td>Na Phieng</td>\n",
              "      <td>Na Phieng</td>\n",
              "      <td>POINT(103.5042558 20.0638525)</td>\n",
              "    </tr>\n",
              "    <tr>\n",
              "      <th>3</th>\n",
              "      <td>http://www.worldkg.org/resource/1148185540</td>\n",
              "      <td>wkgs:Village</td>\n",
              "      <td>کسرینه</td>\n",
              "      <td>Kasrineh</td>\n",
              "      <td>POINT(58.3997166 35.2567892)</td>\n",
              "    </tr>\n",
              "    <tr>\n",
              "      <th>4</th>\n",
              "      <td>http://www.worldkg.org/resource/1013550821</td>\n",
              "      <td>wkgs:Village</td>\n",
              "      <td>سرهنگ</td>\n",
              "      <td>Sarhang</td>\n",
              "      <td>POINT(59.2641824 35.6540583)</td>\n",
              "    </tr>\n",
              "  </tbody>\n",
              "</table>\n",
              "</div>\n",
              "      <button class=\"colab-df-convert\" onclick=\"convertToInteractive('df-74ff7ffb-d46e-4dee-bd8c-1fc2bc13eb77')\"\n",
              "              title=\"Convert this dataframe to an interactive table.\"\n",
              "              style=\"display:none;\">\n",
              "        \n",
              "  <svg xmlns=\"http://www.w3.org/2000/svg\" height=\"24px\"viewBox=\"0 0 24 24\"\n",
              "       width=\"24px\">\n",
              "    <path d=\"M0 0h24v24H0V0z\" fill=\"none\"/>\n",
              "    <path d=\"M18.56 5.44l.94 2.06.94-2.06 2.06-.94-2.06-.94-.94-2.06-.94 2.06-2.06.94zm-11 1L8.5 8.5l.94-2.06 2.06-.94-2.06-.94L8.5 2.5l-.94 2.06-2.06.94zm10 10l.94 2.06.94-2.06 2.06-.94-2.06-.94-.94-2.06-.94 2.06-2.06.94z\"/><path d=\"M17.41 7.96l-1.37-1.37c-.4-.4-.92-.59-1.43-.59-.52 0-1.04.2-1.43.59L10.3 9.45l-7.72 7.72c-.78.78-.78 2.05 0 2.83L4 21.41c.39.39.9.59 1.41.59.51 0 1.02-.2 1.41-.59l7.78-7.78 2.81-2.81c.8-.78.8-2.07 0-2.86zM5.41 20L4 18.59l7.72-7.72 1.47 1.35L5.41 20z\"/>\n",
              "  </svg>\n",
              "      </button>\n",
              "      \n",
              "  <style>\n",
              "    .colab-df-container {\n",
              "      display:flex;\n",
              "      flex-wrap:wrap;\n",
              "      gap: 12px;\n",
              "    }\n",
              "\n",
              "    .colab-df-convert {\n",
              "      background-color: #E8F0FE;\n",
              "      border: none;\n",
              "      border-radius: 50%;\n",
              "      cursor: pointer;\n",
              "      display: none;\n",
              "      fill: #1967D2;\n",
              "      height: 32px;\n",
              "      padding: 0 0 0 0;\n",
              "      width: 32px;\n",
              "    }\n",
              "\n",
              "    .colab-df-convert:hover {\n",
              "      background-color: #E2EBFA;\n",
              "      box-shadow: 0px 1px 2px rgba(60, 64, 67, 0.3), 0px 1px 3px 1px rgba(60, 64, 67, 0.15);\n",
              "      fill: #174EA6;\n",
              "    }\n",
              "\n",
              "    [theme=dark] .colab-df-convert {\n",
              "      background-color: #3B4455;\n",
              "      fill: #D2E3FC;\n",
              "    }\n",
              "\n",
              "    [theme=dark] .colab-df-convert:hover {\n",
              "      background-color: #434B5C;\n",
              "      box-shadow: 0px 1px 3px 1px rgba(0, 0, 0, 0.15);\n",
              "      filter: drop-shadow(0px 1px 2px rgba(0, 0, 0, 0.3));\n",
              "      fill: #FFFFFF;\n",
              "    }\n",
              "  </style>\n",
              "\n",
              "      <script>\n",
              "        const buttonEl =\n",
              "          document.querySelector('#df-74ff7ffb-d46e-4dee-bd8c-1fc2bc13eb77 button.colab-df-convert');\n",
              "        buttonEl.style.display =\n",
              "          google.colab.kernel.accessAllowed ? 'block' : 'none';\n",
              "\n",
              "        async function convertToInteractive(key) {\n",
              "          const element = document.querySelector('#df-74ff7ffb-d46e-4dee-bd8c-1fc2bc13eb77');\n",
              "          const dataTable =\n",
              "            await google.colab.kernel.invokeFunction('convertToInteractive',\n",
              "                                                     [key], {});\n",
              "          if (!dataTable) return;\n",
              "\n",
              "          const docLinkHtml = 'Like what you see? Visit the ' +\n",
              "            '<a target=\"_blank\" href=https://colab.research.google.com/notebooks/data_table.ipynb>data table notebook</a>'\n",
              "            + ' to learn more about interactive tables.';\n",
              "          element.innerHTML = '';\n",
              "          dataTable['output_type'] = 'display_data';\n",
              "          await google.colab.output.renderOutput(dataTable, element);\n",
              "          const docLink = document.createElement('div');\n",
              "          docLink.innerHTML = docLinkHtml;\n",
              "          element.appendChild(docLink);\n",
              "        }\n",
              "      </script>\n",
              "    </div>\n",
              "  </div>\n",
              "  "
            ],
            "text/plain": [
              "                                   entity_uri          type         label  \\\n",
              "0  http://www.worldkg.org/resource/1048268052  wkgs:Village  ບ້ານ ສົມສະໄໝ   \n",
              "1  http://www.worldkg.org/resource/1048638884  wkgs:Village      Veunthan   \n",
              "2  http://www.worldkg.org/resource/1049908636  wkgs:Village     Na Phieng   \n",
              "3  http://www.worldkg.org/resource/1148185540  wkgs:Village        کسرینه   \n",
              "4  http://www.worldkg.org/resource/1013550821  wkgs:Village         سرهنگ   \n",
              "\n",
              "         nameEn                    coordinates  \n",
              "0  Ban Somsamay  POINT(102.8220741 18.1366351)  \n",
              "1      Veunthan  POINT(102.8087386 18.1418518)  \n",
              "2     Na Phieng  POINT(103.5042558 20.0638525)  \n",
              "3      Kasrineh   POINT(58.3997166 35.2567892)  \n",
              "4       Sarhang   POINT(59.2641824 35.6540583)  "
            ]
          },
          "execution_count": 14,
          "metadata": {},
          "output_type": "execute_result"
        }
      ],
      "source": [
        "# clean uri\n",
        "pattern = '^http://www.worldkg.org/schema/'\n",
        "compiled_pattern = re.compile(pattern)\n",
        "\n",
        "merged_results['type'] = merged_results['type'].astype('str')\n",
        "merged_results['type'] = merged_results['type'].apply(lambda uri: re.sub(compiled_pattern, 'wkgs:', uri))\n",
        "merged_results.head()"
      ]
    },
    {
      "cell_type": "code",
      "execution_count": null,
      "metadata": {
        "colab": {
          "base_uri": "https://localhost:8080/"
        },
        "id": "Vl17wLlnMFdf",
        "outputId": "f9a057fe-3f66-4bf9-c2d9-fed7108c1af5"
      },
      "outputs": [
        {
          "name": "stderr",
          "output_type": "stream",
          "text": [
            "<ipython-input-15-a1aa6e7c9182>:2: SettingWithCopyWarning: \n",
            "A value is trying to be set on a copy of a slice from a DataFrame\n",
            "\n",
            "See the caveats in the documentation: https://pandas.pydata.org/pandas-docs/stable/user_guide/indexing.html#returning-a-view-versus-a-copy\n",
            "  merged_results.replace(to_replace=['None'], value=np.nan, inplace=True)\n"
          ]
        }
      ],
      "source": [
        "# replace string 'None'\n",
        "merged_results.replace(to_replace=['None'], value=np.nan, inplace=True)"
      ]
    },
    {
      "cell_type": "code",
      "execution_count": null,
      "metadata": {
        "id": "HyKPLpRXMI7z"
      },
      "outputs": [],
      "source": [
        "# save\n",
        "## Note: deleted this file, directly saving file with geohashes\n",
        "merged_results.to_csv('inductive_133testset_entities_data.csv', index = False)"
      ]
    },
    {
      "attachments": {},
      "cell_type": "markdown",
      "metadata": {
        "id": "pPDBy-EOZC2O"
      },
      "source": [
        "## Add geohash to above csv"
      ]
    },
    {
      "cell_type": "code",
      "execution_count": null,
      "metadata": {
        "id": "f33PzS4-XOZ0"
      },
      "outputs": [],
      "source": [
        "##\n",
        "# Utilitites code\n",
        "##\n",
        "def get_geohash(row):\n",
        "  '''\n",
        "  Calculate geohash\n",
        "  '''\n",
        "  return gh.encode(row['lat'], row['lon'], precision = 6)\n",
        "\n",
        "def clean_coordinates(df):\n",
        "  '''\n",
        "  :param df - input dataframe\n",
        "  return clean_df - dataframe with separate columns for 'lat' and 'lon'\n",
        "  '''\n",
        "  # applying regex to remove 'Point(' and ')'\n",
        "  pattern = '(POINT\\()|(\\))'\n",
        "  compiled_pattern = re.compile(pattern)\n",
        "  df['lon_lat'] = df['coordinates'].apply(lambda value: re.sub(compiled_pattern, '', value).split(' '))\n",
        "\n",
        "  # creating separate columns for lon and lat and convert lat lon columns to float\n",
        "  df[['lon', 'lat']] = pd.DataFrame(df['lon_lat'].to_list(), index = df.index)\n",
        "  df['lat'] = df['lat'].astype('float')\n",
        "  df['lon'] = df['lon'].astype('float')\n",
        "  \n",
        "  df.drop(['lon_lat'], axis = 1, inplace = True)\n",
        "\n",
        "  return df"
      ]
    },
    {
      "cell_type": "code",
      "execution_count": null,
      "metadata": {
        "colab": {
          "base_uri": "https://localhost:8080/",
          "height": 1000
        },
        "id": "1yzxjhj-W2ZF",
        "outputId": "b41d540d-b789-4e19-b348-c97f59c4e99a"
      },
      "outputs": [
        {
          "name": "stderr",
          "output_type": "stream",
          "text": [
            "<ipython-input-16-c643f433bbb7>:18: SettingWithCopyWarning: \n",
            "A value is trying to be set on a copy of a slice from a DataFrame.\n",
            "Try using .loc[row_indexer,col_indexer] = value instead\n",
            "\n",
            "See the caveats in the documentation: https://pandas.pydata.org/pandas-docs/stable/user_guide/indexing.html#returning-a-view-versus-a-copy\n",
            "  df['lon_lat'] = df['coordinates'].apply(lambda value: re.sub(compiled_pattern, '', value).split(' '))\n",
            "<ipython-input-16-c643f433bbb7>:21: SettingWithCopyWarning: \n",
            "A value is trying to be set on a copy of a slice from a DataFrame.\n",
            "Try using .loc[row_indexer,col_indexer] = value instead\n",
            "\n",
            "See the caveats in the documentation: https://pandas.pydata.org/pandas-docs/stable/user_guide/indexing.html#returning-a-view-versus-a-copy\n",
            "  df[['lon', 'lat']] = pd.DataFrame(df['lon_lat'].to_list(), index = df.index)\n",
            "<ipython-input-16-c643f433bbb7>:21: SettingWithCopyWarning: \n",
            "A value is trying to be set on a copy of a slice from a DataFrame.\n",
            "Try using .loc[row_indexer,col_indexer] = value instead\n",
            "\n",
            "See the caveats in the documentation: https://pandas.pydata.org/pandas-docs/stable/user_guide/indexing.html#returning-a-view-versus-a-copy\n",
            "  df[['lon', 'lat']] = pd.DataFrame(df['lon_lat'].to_list(), index = df.index)\n",
            "<ipython-input-16-c643f433bbb7>:22: SettingWithCopyWarning: \n",
            "A value is trying to be set on a copy of a slice from a DataFrame.\n",
            "Try using .loc[row_indexer,col_indexer] = value instead\n",
            "\n",
            "See the caveats in the documentation: https://pandas.pydata.org/pandas-docs/stable/user_guide/indexing.html#returning-a-view-versus-a-copy\n",
            "  df['lat'] = df['lat'].astype('float')\n",
            "<ipython-input-16-c643f433bbb7>:23: SettingWithCopyWarning: \n",
            "A value is trying to be set on a copy of a slice from a DataFrame.\n",
            "Try using .loc[row_indexer,col_indexer] = value instead\n",
            "\n",
            "See the caveats in the documentation: https://pandas.pydata.org/pandas-docs/stable/user_guide/indexing.html#returning-a-view-versus-a-copy\n",
            "  df['lon'] = df['lon'].astype('float')\n",
            "<ipython-input-16-c643f433bbb7>:25: SettingWithCopyWarning: \n",
            "A value is trying to be set on a copy of a slice from a DataFrame\n",
            "\n",
            "See the caveats in the documentation: https://pandas.pydata.org/pandas-docs/stable/user_guide/indexing.html#returning-a-view-versus-a-copy\n",
            "  df.drop(['lon_lat'], axis = 1, inplace = True)\n"
          ]
        },
        {
          "data": {
            "text/html": [
              "\n",
              "  <div id=\"df-2afd5d77-71cc-4960-a7e0-50b3e765a787\">\n",
              "    <div class=\"colab-df-container\">\n",
              "      <div>\n",
              "<style scoped>\n",
              "    .dataframe tbody tr th:only-of-type {\n",
              "        vertical-align: middle;\n",
              "    }\n",
              "\n",
              "    .dataframe tbody tr th {\n",
              "        vertical-align: top;\n",
              "    }\n",
              "\n",
              "    .dataframe thead th {\n",
              "        text-align: right;\n",
              "    }\n",
              "</style>\n",
              "<table border=\"1\" class=\"dataframe\">\n",
              "  <thead>\n",
              "    <tr style=\"text-align: right;\">\n",
              "      <th></th>\n",
              "      <th>entity_uri</th>\n",
              "      <th>type</th>\n",
              "      <th>label</th>\n",
              "      <th>nameEn</th>\n",
              "      <th>coordinates</th>\n",
              "      <th>lon</th>\n",
              "      <th>lat</th>\n",
              "    </tr>\n",
              "  </thead>\n",
              "  <tbody>\n",
              "    <tr>\n",
              "      <th>0</th>\n",
              "      <td>http://www.worldkg.org/resource/1048268052</td>\n",
              "      <td>wkgs:Village</td>\n",
              "      <td>ບ້ານ ສົມສະໄໝ</td>\n",
              "      <td>Ban Somsamay</td>\n",
              "      <td>POINT(102.8220741 18.1366351)</td>\n",
              "      <td>102.822074</td>\n",
              "      <td>18.136635</td>\n",
              "    </tr>\n",
              "    <tr>\n",
              "      <th>1</th>\n",
              "      <td>http://www.worldkg.org/resource/1048638884</td>\n",
              "      <td>wkgs:Village</td>\n",
              "      <td>Veunthan</td>\n",
              "      <td>Veunthan</td>\n",
              "      <td>POINT(102.8087386 18.1418518)</td>\n",
              "      <td>102.808739</td>\n",
              "      <td>18.141852</td>\n",
              "    </tr>\n",
              "    <tr>\n",
              "      <th>2</th>\n",
              "      <td>http://www.worldkg.org/resource/1049908636</td>\n",
              "      <td>wkgs:Village</td>\n",
              "      <td>Na Phieng</td>\n",
              "      <td>Na Phieng</td>\n",
              "      <td>POINT(103.5042558 20.0638525)</td>\n",
              "      <td>103.504256</td>\n",
              "      <td>20.063852</td>\n",
              "    </tr>\n",
              "    <tr>\n",
              "      <th>3</th>\n",
              "      <td>http://www.worldkg.org/resource/1148185540</td>\n",
              "      <td>wkgs:Village</td>\n",
              "      <td>کسرینه</td>\n",
              "      <td>Kasrineh</td>\n",
              "      <td>POINT(58.3997166 35.2567892)</td>\n",
              "      <td>58.399717</td>\n",
              "      <td>35.256789</td>\n",
              "    </tr>\n",
              "    <tr>\n",
              "      <th>4</th>\n",
              "      <td>http://www.worldkg.org/resource/1013550821</td>\n",
              "      <td>wkgs:Village</td>\n",
              "      <td>سرهنگ</td>\n",
              "      <td>Sarhang</td>\n",
              "      <td>POINT(59.2641824 35.6540583)</td>\n",
              "      <td>59.264182</td>\n",
              "      <td>35.654058</td>\n",
              "    </tr>\n",
              "    <tr>\n",
              "      <th>...</th>\n",
              "      <td>...</td>\n",
              "      <td>...</td>\n",
              "      <td>...</td>\n",
              "      <td>...</td>\n",
              "      <td>...</td>\n",
              "      <td>...</td>\n",
              "      <td>...</td>\n",
              "    </tr>\n",
              "    <tr>\n",
              "      <th>16250</th>\n",
              "      <td>http://www.worldkg.org/resource/962290922</td>\n",
              "      <td>wkgs:Museum</td>\n",
              "      <td>Historisches Museum</td>\n",
              "      <td>None</td>\n",
              "      <td>POINT(7.4802326 53.4692332)</td>\n",
              "      <td>7.480233</td>\n",
              "      <td>53.469233</td>\n",
              "    </tr>\n",
              "    <tr>\n",
              "      <th>16251</th>\n",
              "      <td>http://www.worldkg.org/resource/966583366</td>\n",
              "      <td>wkgs:Town</td>\n",
              "      <td>Kabataş</td>\n",
              "      <td>None</td>\n",
              "      <td>POINT(37.4498616 40.7515493)</td>\n",
              "      <td>37.449862</td>\n",
              "      <td>40.751549</td>\n",
              "    </tr>\n",
              "    <tr>\n",
              "      <th>16252</th>\n",
              "      <td>http://www.worldkg.org/resource/97160788</td>\n",
              "      <td>wkgs:Town</td>\n",
              "      <td>Lilydale</td>\n",
              "      <td>None</td>\n",
              "      <td>POINT(145.352405 -37.7576639)</td>\n",
              "      <td>145.352405</td>\n",
              "      <td>-37.757664</td>\n",
              "    </tr>\n",
              "    <tr>\n",
              "      <th>16253</th>\n",
              "      <td>http://www.worldkg.org/resource/970564374</td>\n",
              "      <td>wkgs:Village</td>\n",
              "      <td>Gaffarlı</td>\n",
              "      <td>None</td>\n",
              "      <td>POINT(35.9983643 37.5413165)</td>\n",
              "      <td>35.998364</td>\n",
              "      <td>37.541317</td>\n",
              "    </tr>\n",
              "    <tr>\n",
              "      <th>16254</th>\n",
              "      <td>http://www.worldkg.org/resource/97635852</td>\n",
              "      <td>wkgs:Village</td>\n",
              "      <td>Hall Green</td>\n",
              "      <td>None</td>\n",
              "      <td>POINT(-1.840403 52.4285007)</td>\n",
              "      <td>-1.840403</td>\n",
              "      <td>52.428501</td>\n",
              "    </tr>\n",
              "  </tbody>\n",
              "</table>\n",
              "<p>16190 rows × 7 columns</p>\n",
              "</div>\n",
              "      <button class=\"colab-df-convert\" onclick=\"convertToInteractive('df-2afd5d77-71cc-4960-a7e0-50b3e765a787')\"\n",
              "              title=\"Convert this dataframe to an interactive table.\"\n",
              "              style=\"display:none;\">\n",
              "        \n",
              "  <svg xmlns=\"http://www.w3.org/2000/svg\" height=\"24px\"viewBox=\"0 0 24 24\"\n",
              "       width=\"24px\">\n",
              "    <path d=\"M0 0h24v24H0V0z\" fill=\"none\"/>\n",
              "    <path d=\"M18.56 5.44l.94 2.06.94-2.06 2.06-.94-2.06-.94-.94-2.06-.94 2.06-2.06.94zm-11 1L8.5 8.5l.94-2.06 2.06-.94-2.06-.94L8.5 2.5l-.94 2.06-2.06.94zm10 10l.94 2.06.94-2.06 2.06-.94-2.06-.94-.94-2.06-.94 2.06-2.06.94z\"/><path d=\"M17.41 7.96l-1.37-1.37c-.4-.4-.92-.59-1.43-.59-.52 0-1.04.2-1.43.59L10.3 9.45l-7.72 7.72c-.78.78-.78 2.05 0 2.83L4 21.41c.39.39.9.59 1.41.59.51 0 1.02-.2 1.41-.59l7.78-7.78 2.81-2.81c.8-.78.8-2.07 0-2.86zM5.41 20L4 18.59l7.72-7.72 1.47 1.35L5.41 20z\"/>\n",
              "  </svg>\n",
              "      </button>\n",
              "      \n",
              "  <style>\n",
              "    .colab-df-container {\n",
              "      display:flex;\n",
              "      flex-wrap:wrap;\n",
              "      gap: 12px;\n",
              "    }\n",
              "\n",
              "    .colab-df-convert {\n",
              "      background-color: #E8F0FE;\n",
              "      border: none;\n",
              "      border-radius: 50%;\n",
              "      cursor: pointer;\n",
              "      display: none;\n",
              "      fill: #1967D2;\n",
              "      height: 32px;\n",
              "      padding: 0 0 0 0;\n",
              "      width: 32px;\n",
              "    }\n",
              "\n",
              "    .colab-df-convert:hover {\n",
              "      background-color: #E2EBFA;\n",
              "      box-shadow: 0px 1px 2px rgba(60, 64, 67, 0.3), 0px 1px 3px 1px rgba(60, 64, 67, 0.15);\n",
              "      fill: #174EA6;\n",
              "    }\n",
              "\n",
              "    [theme=dark] .colab-df-convert {\n",
              "      background-color: #3B4455;\n",
              "      fill: #D2E3FC;\n",
              "    }\n",
              "\n",
              "    [theme=dark] .colab-df-convert:hover {\n",
              "      background-color: #434B5C;\n",
              "      box-shadow: 0px 1px 3px 1px rgba(0, 0, 0, 0.15);\n",
              "      filter: drop-shadow(0px 1px 2px rgba(0, 0, 0, 0.3));\n",
              "      fill: #FFFFFF;\n",
              "    }\n",
              "  </style>\n",
              "\n",
              "      <script>\n",
              "        const buttonEl =\n",
              "          document.querySelector('#df-2afd5d77-71cc-4960-a7e0-50b3e765a787 button.colab-df-convert');\n",
              "        buttonEl.style.display =\n",
              "          google.colab.kernel.accessAllowed ? 'block' : 'none';\n",
              "\n",
              "        async function convertToInteractive(key) {\n",
              "          const element = document.querySelector('#df-2afd5d77-71cc-4960-a7e0-50b3e765a787');\n",
              "          const dataTable =\n",
              "            await google.colab.kernel.invokeFunction('convertToInteractive',\n",
              "                                                     [key], {});\n",
              "          if (!dataTable) return;\n",
              "\n",
              "          const docLinkHtml = 'Like what you see? Visit the ' +\n",
              "            '<a target=\"_blank\" href=https://colab.research.google.com/notebooks/data_table.ipynb>data table notebook</a>'\n",
              "            + ' to learn more about interactive tables.';\n",
              "          element.innerHTML = '';\n",
              "          dataTable['output_type'] = 'display_data';\n",
              "          await google.colab.output.renderOutput(dataTable, element);\n",
              "          const docLink = document.createElement('div');\n",
              "          docLink.innerHTML = docLinkHtml;\n",
              "          element.appendChild(docLink);\n",
              "        }\n",
              "      </script>\n",
              "    </div>\n",
              "  </div>\n",
              "  "
            ],
            "text/plain": [
              "                                       entity_uri          type  \\\n",
              "0      http://www.worldkg.org/resource/1048268052  wkgs:Village   \n",
              "1      http://www.worldkg.org/resource/1048638884  wkgs:Village   \n",
              "2      http://www.worldkg.org/resource/1049908636  wkgs:Village   \n",
              "3      http://www.worldkg.org/resource/1148185540  wkgs:Village   \n",
              "4      http://www.worldkg.org/resource/1013550821  wkgs:Village   \n",
              "...                                           ...           ...   \n",
              "16250   http://www.worldkg.org/resource/962290922   wkgs:Museum   \n",
              "16251   http://www.worldkg.org/resource/966583366     wkgs:Town   \n",
              "16252    http://www.worldkg.org/resource/97160788     wkgs:Town   \n",
              "16253   http://www.worldkg.org/resource/970564374  wkgs:Village   \n",
              "16254    http://www.worldkg.org/resource/97635852  wkgs:Village   \n",
              "\n",
              "                     label        nameEn                    coordinates  \\\n",
              "0             ບ້ານ ສົມສະໄໝ  Ban Somsamay  POINT(102.8220741 18.1366351)   \n",
              "1                 Veunthan      Veunthan  POINT(102.8087386 18.1418518)   \n",
              "2                Na Phieng     Na Phieng  POINT(103.5042558 20.0638525)   \n",
              "3                   کسرینه      Kasrineh   POINT(58.3997166 35.2567892)   \n",
              "4                    سرهنگ       Sarhang   POINT(59.2641824 35.6540583)   \n",
              "...                    ...           ...                            ...   \n",
              "16250  Historisches Museum          None    POINT(7.4802326 53.4692332)   \n",
              "16251              Kabataş          None   POINT(37.4498616 40.7515493)   \n",
              "16252             Lilydale          None  POINT(145.352405 -37.7576639)   \n",
              "16253             Gaffarlı          None   POINT(35.9983643 37.5413165)   \n",
              "16254           Hall Green          None    POINT(-1.840403 52.4285007)   \n",
              "\n",
              "              lon        lat  \n",
              "0      102.822074  18.136635  \n",
              "1      102.808739  18.141852  \n",
              "2      103.504256  20.063852  \n",
              "3       58.399717  35.256789  \n",
              "4       59.264182  35.654058  \n",
              "...           ...        ...  \n",
              "16250    7.480233  53.469233  \n",
              "16251   37.449862  40.751549  \n",
              "16252  145.352405 -37.757664  \n",
              "16253   35.998364  37.541317  \n",
              "16254   -1.840403  52.428501  \n",
              "\n",
              "[16190 rows x 7 columns]"
            ]
          },
          "execution_count": 17,
          "metadata": {},
          "output_type": "execute_result"
        }
      ],
      "source": [
        "# parse coordinates into lat lon column\n",
        "entities_data_with_geohash = clean_coordinates(merged_results)\n",
        "entities_data_with_geohash"
      ]
    },
    {
      "cell_type": "code",
      "execution_count": null,
      "metadata": {
        "colab": {
          "base_uri": "https://localhost:8080/",
          "height": 783
        },
        "id": "5XnC0CGMZ7gh",
        "outputId": "d85bddcc-f6a0-484e-b3ca-1edf14a239ae"
      },
      "outputs": [
        {
          "name": "stderr",
          "output_type": "stream",
          "text": [
            "100%|██████████| 16190/16190 [00:00<00:00, 39117.14it/s]\n",
            "<ipython-input-18-fc21bd0199d3>:2: SettingWithCopyWarning: \n",
            "A value is trying to be set on a copy of a slice from a DataFrame.\n",
            "Try using .loc[row_indexer,col_indexer] = value instead\n",
            "\n",
            "See the caveats in the documentation: https://pandas.pydata.org/pandas-docs/stable/user_guide/indexing.html#returning-a-view-versus-a-copy\n",
            "  entities_data_with_geohash['geohash'] = entities_data_with_geohash.progress_apply(get_geohash, axis = 1)\n"
          ]
        },
        {
          "data": {
            "text/html": [
              "\n",
              "  <div id=\"df-67f3cac8-686b-45f5-8aff-6b7b90642869\">\n",
              "    <div class=\"colab-df-container\">\n",
              "      <div>\n",
              "<style scoped>\n",
              "    .dataframe tbody tr th:only-of-type {\n",
              "        vertical-align: middle;\n",
              "    }\n",
              "\n",
              "    .dataframe tbody tr th {\n",
              "        vertical-align: top;\n",
              "    }\n",
              "\n",
              "    .dataframe thead th {\n",
              "        text-align: right;\n",
              "    }\n",
              "</style>\n",
              "<table border=\"1\" class=\"dataframe\">\n",
              "  <thead>\n",
              "    <tr style=\"text-align: right;\">\n",
              "      <th></th>\n",
              "      <th>entity_uri</th>\n",
              "      <th>type</th>\n",
              "      <th>label</th>\n",
              "      <th>nameEn</th>\n",
              "      <th>coordinates</th>\n",
              "      <th>lon</th>\n",
              "      <th>lat</th>\n",
              "      <th>geohash</th>\n",
              "    </tr>\n",
              "  </thead>\n",
              "  <tbody>\n",
              "    <tr>\n",
              "      <th>0</th>\n",
              "      <td>http://www.worldkg.org/resource/1048268052</td>\n",
              "      <td>wkgs:Village</td>\n",
              "      <td>ບ້ານ ສົມສະໄໝ</td>\n",
              "      <td>Ban Somsamay</td>\n",
              "      <td>POINT(102.8220741 18.1366351)</td>\n",
              "      <td>102.822074</td>\n",
              "      <td>18.136635</td>\n",
              "      <td>w71p5v</td>\n",
              "    </tr>\n",
              "    <tr>\n",
              "      <th>1</th>\n",
              "      <td>http://www.worldkg.org/resource/1048638884</td>\n",
              "      <td>wkgs:Village</td>\n",
              "      <td>Veunthan</td>\n",
              "      <td>Veunthan</td>\n",
              "      <td>POINT(102.8087386 18.1418518)</td>\n",
              "      <td>102.808739</td>\n",
              "      <td>18.141852</td>\n",
              "      <td>w71p5q</td>\n",
              "    </tr>\n",
              "    <tr>\n",
              "      <th>2</th>\n",
              "      <td>http://www.worldkg.org/resource/1049908636</td>\n",
              "      <td>wkgs:Village</td>\n",
              "      <td>Na Phieng</td>\n",
              "      <td>Na Phieng</td>\n",
              "      <td>POINT(103.5042558 20.0638525)</td>\n",
              "      <td>103.504256</td>\n",
              "      <td>20.063852</td>\n",
              "      <td>w79d5k</td>\n",
              "    </tr>\n",
              "    <tr>\n",
              "      <th>3</th>\n",
              "      <td>http://www.worldkg.org/resource/1148185540</td>\n",
              "      <td>wkgs:Village</td>\n",
              "      <td>کسرینه</td>\n",
              "      <td>Kasrineh</td>\n",
              "      <td>POINT(58.3997166 35.2567892)</td>\n",
              "      <td>58.399717</td>\n",
              "      <td>35.256789</td>\n",
              "      <td>tq388f</td>\n",
              "    </tr>\n",
              "    <tr>\n",
              "      <th>4</th>\n",
              "      <td>http://www.worldkg.org/resource/1013550821</td>\n",
              "      <td>wkgs:Village</td>\n",
              "      <td>سرهنگ</td>\n",
              "      <td>Sarhang</td>\n",
              "      <td>POINT(59.2641824 35.6540583)</td>\n",
              "      <td>59.264182</td>\n",
              "      <td>35.654058</td>\n",
              "      <td>tq64ud</td>\n",
              "    </tr>\n",
              "    <tr>\n",
              "      <th>...</th>\n",
              "      <td>...</td>\n",
              "      <td>...</td>\n",
              "      <td>...</td>\n",
              "      <td>...</td>\n",
              "      <td>...</td>\n",
              "      <td>...</td>\n",
              "      <td>...</td>\n",
              "      <td>...</td>\n",
              "    </tr>\n",
              "    <tr>\n",
              "      <th>16250</th>\n",
              "      <td>http://www.worldkg.org/resource/962290922</td>\n",
              "      <td>wkgs:Museum</td>\n",
              "      <td>Historisches Museum</td>\n",
              "      <td>None</td>\n",
              "      <td>POINT(7.4802326 53.4692332)</td>\n",
              "      <td>7.480233</td>\n",
              "      <td>53.469233</td>\n",
              "      <td>u1t24j</td>\n",
              "    </tr>\n",
              "    <tr>\n",
              "      <th>16251</th>\n",
              "      <td>http://www.worldkg.org/resource/966583366</td>\n",
              "      <td>wkgs:Town</td>\n",
              "      <td>Kabataş</td>\n",
              "      <td>None</td>\n",
              "      <td>POINT(37.4498616 40.7515493)</td>\n",
              "      <td>37.449862</td>\n",
              "      <td>40.751549</td>\n",
              "      <td>sz4xu4</td>\n",
              "    </tr>\n",
              "    <tr>\n",
              "      <th>16252</th>\n",
              "      <td>http://www.worldkg.org/resource/97160788</td>\n",
              "      <td>wkgs:Town</td>\n",
              "      <td>Lilydale</td>\n",
              "      <td>None</td>\n",
              "      <td>POINT(145.352405 -37.7576639)</td>\n",
              "      <td>145.352405</td>\n",
              "      <td>-37.757664</td>\n",
              "      <td>r1r35w</td>\n",
              "    </tr>\n",
              "    <tr>\n",
              "      <th>16253</th>\n",
              "      <td>http://www.worldkg.org/resource/970564374</td>\n",
              "      <td>wkgs:Village</td>\n",
              "      <td>Gaffarlı</td>\n",
              "      <td>None</td>\n",
              "      <td>POINT(35.9983643 37.5413165)</td>\n",
              "      <td>35.998364</td>\n",
              "      <td>37.541317</td>\n",
              "      <td>sy9te4</td>\n",
              "    </tr>\n",
              "    <tr>\n",
              "      <th>16254</th>\n",
              "      <td>http://www.worldkg.org/resource/97635852</td>\n",
              "      <td>wkgs:Village</td>\n",
              "      <td>Hall Green</td>\n",
              "      <td>None</td>\n",
              "      <td>POINT(-1.840403 52.4285007)</td>\n",
              "      <td>-1.840403</td>\n",
              "      <td>52.428501</td>\n",
              "      <td>gcqdq0</td>\n",
              "    </tr>\n",
              "  </tbody>\n",
              "</table>\n",
              "<p>16190 rows × 8 columns</p>\n",
              "</div>\n",
              "      <button class=\"colab-df-convert\" onclick=\"convertToInteractive('df-67f3cac8-686b-45f5-8aff-6b7b90642869')\"\n",
              "              title=\"Convert this dataframe to an interactive table.\"\n",
              "              style=\"display:none;\">\n",
              "        \n",
              "  <svg xmlns=\"http://www.w3.org/2000/svg\" height=\"24px\"viewBox=\"0 0 24 24\"\n",
              "       width=\"24px\">\n",
              "    <path d=\"M0 0h24v24H0V0z\" fill=\"none\"/>\n",
              "    <path d=\"M18.56 5.44l.94 2.06.94-2.06 2.06-.94-2.06-.94-.94-2.06-.94 2.06-2.06.94zm-11 1L8.5 8.5l.94-2.06 2.06-.94-2.06-.94L8.5 2.5l-.94 2.06-2.06.94zm10 10l.94 2.06.94-2.06 2.06-.94-2.06-.94-.94-2.06-.94 2.06-2.06.94z\"/><path d=\"M17.41 7.96l-1.37-1.37c-.4-.4-.92-.59-1.43-.59-.52 0-1.04.2-1.43.59L10.3 9.45l-7.72 7.72c-.78.78-.78 2.05 0 2.83L4 21.41c.39.39.9.59 1.41.59.51 0 1.02-.2 1.41-.59l7.78-7.78 2.81-2.81c.8-.78.8-2.07 0-2.86zM5.41 20L4 18.59l7.72-7.72 1.47 1.35L5.41 20z\"/>\n",
              "  </svg>\n",
              "      </button>\n",
              "      \n",
              "  <style>\n",
              "    .colab-df-container {\n",
              "      display:flex;\n",
              "      flex-wrap:wrap;\n",
              "      gap: 12px;\n",
              "    }\n",
              "\n",
              "    .colab-df-convert {\n",
              "      background-color: #E8F0FE;\n",
              "      border: none;\n",
              "      border-radius: 50%;\n",
              "      cursor: pointer;\n",
              "      display: none;\n",
              "      fill: #1967D2;\n",
              "      height: 32px;\n",
              "      padding: 0 0 0 0;\n",
              "      width: 32px;\n",
              "    }\n",
              "\n",
              "    .colab-df-convert:hover {\n",
              "      background-color: #E2EBFA;\n",
              "      box-shadow: 0px 1px 2px rgba(60, 64, 67, 0.3), 0px 1px 3px 1px rgba(60, 64, 67, 0.15);\n",
              "      fill: #174EA6;\n",
              "    }\n",
              "\n",
              "    [theme=dark] .colab-df-convert {\n",
              "      background-color: #3B4455;\n",
              "      fill: #D2E3FC;\n",
              "    }\n",
              "\n",
              "    [theme=dark] .colab-df-convert:hover {\n",
              "      background-color: #434B5C;\n",
              "      box-shadow: 0px 1px 3px 1px rgba(0, 0, 0, 0.15);\n",
              "      filter: drop-shadow(0px 1px 2px rgba(0, 0, 0, 0.3));\n",
              "      fill: #FFFFFF;\n",
              "    }\n",
              "  </style>\n",
              "\n",
              "      <script>\n",
              "        const buttonEl =\n",
              "          document.querySelector('#df-67f3cac8-686b-45f5-8aff-6b7b90642869 button.colab-df-convert');\n",
              "        buttonEl.style.display =\n",
              "          google.colab.kernel.accessAllowed ? 'block' : 'none';\n",
              "\n",
              "        async function convertToInteractive(key) {\n",
              "          const element = document.querySelector('#df-67f3cac8-686b-45f5-8aff-6b7b90642869');\n",
              "          const dataTable =\n",
              "            await google.colab.kernel.invokeFunction('convertToInteractive',\n",
              "                                                     [key], {});\n",
              "          if (!dataTable) return;\n",
              "\n",
              "          const docLinkHtml = 'Like what you see? Visit the ' +\n",
              "            '<a target=\"_blank\" href=https://colab.research.google.com/notebooks/data_table.ipynb>data table notebook</a>'\n",
              "            + ' to learn more about interactive tables.';\n",
              "          element.innerHTML = '';\n",
              "          dataTable['output_type'] = 'display_data';\n",
              "          await google.colab.output.renderOutput(dataTable, element);\n",
              "          const docLink = document.createElement('div');\n",
              "          docLink.innerHTML = docLinkHtml;\n",
              "          element.appendChild(docLink);\n",
              "        }\n",
              "      </script>\n",
              "    </div>\n",
              "  </div>\n",
              "  "
            ],
            "text/plain": [
              "                                       entity_uri          type  \\\n",
              "0      http://www.worldkg.org/resource/1048268052  wkgs:Village   \n",
              "1      http://www.worldkg.org/resource/1048638884  wkgs:Village   \n",
              "2      http://www.worldkg.org/resource/1049908636  wkgs:Village   \n",
              "3      http://www.worldkg.org/resource/1148185540  wkgs:Village   \n",
              "4      http://www.worldkg.org/resource/1013550821  wkgs:Village   \n",
              "...                                           ...           ...   \n",
              "16250   http://www.worldkg.org/resource/962290922   wkgs:Museum   \n",
              "16251   http://www.worldkg.org/resource/966583366     wkgs:Town   \n",
              "16252    http://www.worldkg.org/resource/97160788     wkgs:Town   \n",
              "16253   http://www.worldkg.org/resource/970564374  wkgs:Village   \n",
              "16254    http://www.worldkg.org/resource/97635852  wkgs:Village   \n",
              "\n",
              "                     label        nameEn                    coordinates  \\\n",
              "0             ບ້ານ ສົມສະໄໝ  Ban Somsamay  POINT(102.8220741 18.1366351)   \n",
              "1                 Veunthan      Veunthan  POINT(102.8087386 18.1418518)   \n",
              "2                Na Phieng     Na Phieng  POINT(103.5042558 20.0638525)   \n",
              "3                   کسرینه      Kasrineh   POINT(58.3997166 35.2567892)   \n",
              "4                    سرهنگ       Sarhang   POINT(59.2641824 35.6540583)   \n",
              "...                    ...           ...                            ...   \n",
              "16250  Historisches Museum          None    POINT(7.4802326 53.4692332)   \n",
              "16251              Kabataş          None   POINT(37.4498616 40.7515493)   \n",
              "16252             Lilydale          None  POINT(145.352405 -37.7576639)   \n",
              "16253             Gaffarlı          None   POINT(35.9983643 37.5413165)   \n",
              "16254           Hall Green          None    POINT(-1.840403 52.4285007)   \n",
              "\n",
              "              lon        lat geohash  \n",
              "0      102.822074  18.136635  w71p5v  \n",
              "1      102.808739  18.141852  w71p5q  \n",
              "2      103.504256  20.063852  w79d5k  \n",
              "3       58.399717  35.256789  tq388f  \n",
              "4       59.264182  35.654058  tq64ud  \n",
              "...           ...        ...     ...  \n",
              "16250    7.480233  53.469233  u1t24j  \n",
              "16251   37.449862  40.751549  sz4xu4  \n",
              "16252  145.352405 -37.757664  r1r35w  \n",
              "16253   35.998364  37.541317  sy9te4  \n",
              "16254   -1.840403  52.428501  gcqdq0  \n",
              "\n",
              "[16190 rows x 8 columns]"
            ]
          },
          "execution_count": 18,
          "metadata": {},
          "output_type": "execute_result"
        }
      ],
      "source": [
        "tqdm.pandas()\n",
        "entities_data_with_geohash['geohash'] = entities_data_with_geohash.progress_apply(get_geohash, axis = 1)\n",
        "entities_data_with_geohash"
      ]
    },
    {
      "cell_type": "code",
      "execution_count": null,
      "metadata": {
        "colab": {
          "base_uri": "https://localhost:8080/",
          "height": 974
        },
        "id": "6xzOyT5Ga4fz",
        "outputId": "c108c371-7933-4be1-dbbe-9ccae706a961"
      },
      "outputs": [
        {
          "name": "stderr",
          "output_type": "stream",
          "text": [
            "<ipython-input-19-369369fad540>:2: SettingWithCopyWarning: \n",
            "A value is trying to be set on a copy of a slice from a DataFrame.\n",
            "Try using .loc[row_indexer,col_indexer] = value instead\n",
            "\n",
            "See the caveats in the documentation: https://pandas.pydata.org/pandas-docs/stable/user_guide/indexing.html#returning-a-view-versus-a-copy\n",
            "  entities_data_with_geohash['1_precision_cluster_center'] = entities_data_with_geohash['geohash'].apply(lambda x: x[0])\n",
            "<ipython-input-19-369369fad540>:3: SettingWithCopyWarning: \n",
            "A value is trying to be set on a copy of a slice from a DataFrame.\n",
            "Try using .loc[row_indexer,col_indexer] = value instead\n",
            "\n",
            "See the caveats in the documentation: https://pandas.pydata.org/pandas-docs/stable/user_guide/indexing.html#returning-a-view-versus-a-copy\n",
            "  entities_data_with_geohash['3_precision_cluster_center'] = entities_data_with_geohash['geohash'].apply(lambda x: x[:3])\n",
            "<ipython-input-19-369369fad540>:4: SettingWithCopyWarning: \n",
            "A value is trying to be set on a copy of a slice from a DataFrame.\n",
            "Try using .loc[row_indexer,col_indexer] = value instead\n",
            "\n",
            "See the caveats in the documentation: https://pandas.pydata.org/pandas-docs/stable/user_guide/indexing.html#returning-a-view-versus-a-copy\n",
            "  entities_data_with_geohash['4_precision_cluster_center'] = entities_data_with_geohash['geohash'].apply(lambda x: x[:4])\n"
          ]
        },
        {
          "data": {
            "text/html": [
              "\n",
              "  <div id=\"df-933ebfd8-b4d9-49b6-9bbe-332b829da5a0\">\n",
              "    <div class=\"colab-df-container\">\n",
              "      <div>\n",
              "<style scoped>\n",
              "    .dataframe tbody tr th:only-of-type {\n",
              "        vertical-align: middle;\n",
              "    }\n",
              "\n",
              "    .dataframe tbody tr th {\n",
              "        vertical-align: top;\n",
              "    }\n",
              "\n",
              "    .dataframe thead th {\n",
              "        text-align: right;\n",
              "    }\n",
              "</style>\n",
              "<table border=\"1\" class=\"dataframe\">\n",
              "  <thead>\n",
              "    <tr style=\"text-align: right;\">\n",
              "      <th></th>\n",
              "      <th>entity_uri</th>\n",
              "      <th>type</th>\n",
              "      <th>label</th>\n",
              "      <th>nameEn</th>\n",
              "      <th>coordinates</th>\n",
              "      <th>lon</th>\n",
              "      <th>lat</th>\n",
              "      <th>geohash</th>\n",
              "      <th>1_precision_cluster_center</th>\n",
              "      <th>3_precision_cluster_center</th>\n",
              "      <th>4_precision_cluster_center</th>\n",
              "    </tr>\n",
              "  </thead>\n",
              "  <tbody>\n",
              "    <tr>\n",
              "      <th>0</th>\n",
              "      <td>http://www.worldkg.org/resource/1048268052</td>\n",
              "      <td>wkgs:Village</td>\n",
              "      <td>ບ້ານ ສົມສະໄໝ</td>\n",
              "      <td>Ban Somsamay</td>\n",
              "      <td>POINT(102.8220741 18.1366351)</td>\n",
              "      <td>102.822074</td>\n",
              "      <td>18.136635</td>\n",
              "      <td>w71p5v</td>\n",
              "      <td>w</td>\n",
              "      <td>w71</td>\n",
              "      <td>w71p</td>\n",
              "    </tr>\n",
              "    <tr>\n",
              "      <th>1</th>\n",
              "      <td>http://www.worldkg.org/resource/1048638884</td>\n",
              "      <td>wkgs:Village</td>\n",
              "      <td>Veunthan</td>\n",
              "      <td>Veunthan</td>\n",
              "      <td>POINT(102.8087386 18.1418518)</td>\n",
              "      <td>102.808739</td>\n",
              "      <td>18.141852</td>\n",
              "      <td>w71p5q</td>\n",
              "      <td>w</td>\n",
              "      <td>w71</td>\n",
              "      <td>w71p</td>\n",
              "    </tr>\n",
              "    <tr>\n",
              "      <th>2</th>\n",
              "      <td>http://www.worldkg.org/resource/1049908636</td>\n",
              "      <td>wkgs:Village</td>\n",
              "      <td>Na Phieng</td>\n",
              "      <td>Na Phieng</td>\n",
              "      <td>POINT(103.5042558 20.0638525)</td>\n",
              "      <td>103.504256</td>\n",
              "      <td>20.063852</td>\n",
              "      <td>w79d5k</td>\n",
              "      <td>w</td>\n",
              "      <td>w79</td>\n",
              "      <td>w79d</td>\n",
              "    </tr>\n",
              "    <tr>\n",
              "      <th>3</th>\n",
              "      <td>http://www.worldkg.org/resource/1148185540</td>\n",
              "      <td>wkgs:Village</td>\n",
              "      <td>کسرینه</td>\n",
              "      <td>Kasrineh</td>\n",
              "      <td>POINT(58.3997166 35.2567892)</td>\n",
              "      <td>58.399717</td>\n",
              "      <td>35.256789</td>\n",
              "      <td>tq388f</td>\n",
              "      <td>t</td>\n",
              "      <td>tq3</td>\n",
              "      <td>tq38</td>\n",
              "    </tr>\n",
              "    <tr>\n",
              "      <th>4</th>\n",
              "      <td>http://www.worldkg.org/resource/1013550821</td>\n",
              "      <td>wkgs:Village</td>\n",
              "      <td>سرهنگ</td>\n",
              "      <td>Sarhang</td>\n",
              "      <td>POINT(59.2641824 35.6540583)</td>\n",
              "      <td>59.264182</td>\n",
              "      <td>35.654058</td>\n",
              "      <td>tq64ud</td>\n",
              "      <td>t</td>\n",
              "      <td>tq6</td>\n",
              "      <td>tq64</td>\n",
              "    </tr>\n",
              "    <tr>\n",
              "      <th>...</th>\n",
              "      <td>...</td>\n",
              "      <td>...</td>\n",
              "      <td>...</td>\n",
              "      <td>...</td>\n",
              "      <td>...</td>\n",
              "      <td>...</td>\n",
              "      <td>...</td>\n",
              "      <td>...</td>\n",
              "      <td>...</td>\n",
              "      <td>...</td>\n",
              "      <td>...</td>\n",
              "    </tr>\n",
              "    <tr>\n",
              "      <th>16250</th>\n",
              "      <td>http://www.worldkg.org/resource/962290922</td>\n",
              "      <td>wkgs:Museum</td>\n",
              "      <td>Historisches Museum</td>\n",
              "      <td>None</td>\n",
              "      <td>POINT(7.4802326 53.4692332)</td>\n",
              "      <td>7.480233</td>\n",
              "      <td>53.469233</td>\n",
              "      <td>u1t24j</td>\n",
              "      <td>u</td>\n",
              "      <td>u1t</td>\n",
              "      <td>u1t2</td>\n",
              "    </tr>\n",
              "    <tr>\n",
              "      <th>16251</th>\n",
              "      <td>http://www.worldkg.org/resource/966583366</td>\n",
              "      <td>wkgs:Town</td>\n",
              "      <td>Kabataş</td>\n",
              "      <td>None</td>\n",
              "      <td>POINT(37.4498616 40.7515493)</td>\n",
              "      <td>37.449862</td>\n",
              "      <td>40.751549</td>\n",
              "      <td>sz4xu4</td>\n",
              "      <td>s</td>\n",
              "      <td>sz4</td>\n",
              "      <td>sz4x</td>\n",
              "    </tr>\n",
              "    <tr>\n",
              "      <th>16252</th>\n",
              "      <td>http://www.worldkg.org/resource/97160788</td>\n",
              "      <td>wkgs:Town</td>\n",
              "      <td>Lilydale</td>\n",
              "      <td>None</td>\n",
              "      <td>POINT(145.352405 -37.7576639)</td>\n",
              "      <td>145.352405</td>\n",
              "      <td>-37.757664</td>\n",
              "      <td>r1r35w</td>\n",
              "      <td>r</td>\n",
              "      <td>r1r</td>\n",
              "      <td>r1r3</td>\n",
              "    </tr>\n",
              "    <tr>\n",
              "      <th>16253</th>\n",
              "      <td>http://www.worldkg.org/resource/970564374</td>\n",
              "      <td>wkgs:Village</td>\n",
              "      <td>Gaffarlı</td>\n",
              "      <td>None</td>\n",
              "      <td>POINT(35.9983643 37.5413165)</td>\n",
              "      <td>35.998364</td>\n",
              "      <td>37.541317</td>\n",
              "      <td>sy9te4</td>\n",
              "      <td>s</td>\n",
              "      <td>sy9</td>\n",
              "      <td>sy9t</td>\n",
              "    </tr>\n",
              "    <tr>\n",
              "      <th>16254</th>\n",
              "      <td>http://www.worldkg.org/resource/97635852</td>\n",
              "      <td>wkgs:Village</td>\n",
              "      <td>Hall Green</td>\n",
              "      <td>None</td>\n",
              "      <td>POINT(-1.840403 52.4285007)</td>\n",
              "      <td>-1.840403</td>\n",
              "      <td>52.428501</td>\n",
              "      <td>gcqdq0</td>\n",
              "      <td>g</td>\n",
              "      <td>gcq</td>\n",
              "      <td>gcqd</td>\n",
              "    </tr>\n",
              "  </tbody>\n",
              "</table>\n",
              "<p>16190 rows × 11 columns</p>\n",
              "</div>\n",
              "      <button class=\"colab-df-convert\" onclick=\"convertToInteractive('df-933ebfd8-b4d9-49b6-9bbe-332b829da5a0')\"\n",
              "              title=\"Convert this dataframe to an interactive table.\"\n",
              "              style=\"display:none;\">\n",
              "        \n",
              "  <svg xmlns=\"http://www.w3.org/2000/svg\" height=\"24px\"viewBox=\"0 0 24 24\"\n",
              "       width=\"24px\">\n",
              "    <path d=\"M0 0h24v24H0V0z\" fill=\"none\"/>\n",
              "    <path d=\"M18.56 5.44l.94 2.06.94-2.06 2.06-.94-2.06-.94-.94-2.06-.94 2.06-2.06.94zm-11 1L8.5 8.5l.94-2.06 2.06-.94-2.06-.94L8.5 2.5l-.94 2.06-2.06.94zm10 10l.94 2.06.94-2.06 2.06-.94-2.06-.94-.94-2.06-.94 2.06-2.06.94z\"/><path d=\"M17.41 7.96l-1.37-1.37c-.4-.4-.92-.59-1.43-.59-.52 0-1.04.2-1.43.59L10.3 9.45l-7.72 7.72c-.78.78-.78 2.05 0 2.83L4 21.41c.39.39.9.59 1.41.59.51 0 1.02-.2 1.41-.59l7.78-7.78 2.81-2.81c.8-.78.8-2.07 0-2.86zM5.41 20L4 18.59l7.72-7.72 1.47 1.35L5.41 20z\"/>\n",
              "  </svg>\n",
              "      </button>\n",
              "      \n",
              "  <style>\n",
              "    .colab-df-container {\n",
              "      display:flex;\n",
              "      flex-wrap:wrap;\n",
              "      gap: 12px;\n",
              "    }\n",
              "\n",
              "    .colab-df-convert {\n",
              "      background-color: #E8F0FE;\n",
              "      border: none;\n",
              "      border-radius: 50%;\n",
              "      cursor: pointer;\n",
              "      display: none;\n",
              "      fill: #1967D2;\n",
              "      height: 32px;\n",
              "      padding: 0 0 0 0;\n",
              "      width: 32px;\n",
              "    }\n",
              "\n",
              "    .colab-df-convert:hover {\n",
              "      background-color: #E2EBFA;\n",
              "      box-shadow: 0px 1px 2px rgba(60, 64, 67, 0.3), 0px 1px 3px 1px rgba(60, 64, 67, 0.15);\n",
              "      fill: #174EA6;\n",
              "    }\n",
              "\n",
              "    [theme=dark] .colab-df-convert {\n",
              "      background-color: #3B4455;\n",
              "      fill: #D2E3FC;\n",
              "    }\n",
              "\n",
              "    [theme=dark] .colab-df-convert:hover {\n",
              "      background-color: #434B5C;\n",
              "      box-shadow: 0px 1px 3px 1px rgba(0, 0, 0, 0.15);\n",
              "      filter: drop-shadow(0px 1px 2px rgba(0, 0, 0, 0.3));\n",
              "      fill: #FFFFFF;\n",
              "    }\n",
              "  </style>\n",
              "\n",
              "      <script>\n",
              "        const buttonEl =\n",
              "          document.querySelector('#df-933ebfd8-b4d9-49b6-9bbe-332b829da5a0 button.colab-df-convert');\n",
              "        buttonEl.style.display =\n",
              "          google.colab.kernel.accessAllowed ? 'block' : 'none';\n",
              "\n",
              "        async function convertToInteractive(key) {\n",
              "          const element = document.querySelector('#df-933ebfd8-b4d9-49b6-9bbe-332b829da5a0');\n",
              "          const dataTable =\n",
              "            await google.colab.kernel.invokeFunction('convertToInteractive',\n",
              "                                                     [key], {});\n",
              "          if (!dataTable) return;\n",
              "\n",
              "          const docLinkHtml = 'Like what you see? Visit the ' +\n",
              "            '<a target=\"_blank\" href=https://colab.research.google.com/notebooks/data_table.ipynb>data table notebook</a>'\n",
              "            + ' to learn more about interactive tables.';\n",
              "          element.innerHTML = '';\n",
              "          dataTable['output_type'] = 'display_data';\n",
              "          await google.colab.output.renderOutput(dataTable, element);\n",
              "          const docLink = document.createElement('div');\n",
              "          docLink.innerHTML = docLinkHtml;\n",
              "          element.appendChild(docLink);\n",
              "        }\n",
              "      </script>\n",
              "    </div>\n",
              "  </div>\n",
              "  "
            ],
            "text/plain": [
              "                                       entity_uri          type  \\\n",
              "0      http://www.worldkg.org/resource/1048268052  wkgs:Village   \n",
              "1      http://www.worldkg.org/resource/1048638884  wkgs:Village   \n",
              "2      http://www.worldkg.org/resource/1049908636  wkgs:Village   \n",
              "3      http://www.worldkg.org/resource/1148185540  wkgs:Village   \n",
              "4      http://www.worldkg.org/resource/1013550821  wkgs:Village   \n",
              "...                                           ...           ...   \n",
              "16250   http://www.worldkg.org/resource/962290922   wkgs:Museum   \n",
              "16251   http://www.worldkg.org/resource/966583366     wkgs:Town   \n",
              "16252    http://www.worldkg.org/resource/97160788     wkgs:Town   \n",
              "16253   http://www.worldkg.org/resource/970564374  wkgs:Village   \n",
              "16254    http://www.worldkg.org/resource/97635852  wkgs:Village   \n",
              "\n",
              "                     label        nameEn                    coordinates  \\\n",
              "0             ບ້ານ ສົມສະໄໝ  Ban Somsamay  POINT(102.8220741 18.1366351)   \n",
              "1                 Veunthan      Veunthan  POINT(102.8087386 18.1418518)   \n",
              "2                Na Phieng     Na Phieng  POINT(103.5042558 20.0638525)   \n",
              "3                   کسرینه      Kasrineh   POINT(58.3997166 35.2567892)   \n",
              "4                    سرهنگ       Sarhang   POINT(59.2641824 35.6540583)   \n",
              "...                    ...           ...                            ...   \n",
              "16250  Historisches Museum          None    POINT(7.4802326 53.4692332)   \n",
              "16251              Kabataş          None   POINT(37.4498616 40.7515493)   \n",
              "16252             Lilydale          None  POINT(145.352405 -37.7576639)   \n",
              "16253             Gaffarlı          None   POINT(35.9983643 37.5413165)   \n",
              "16254           Hall Green          None    POINT(-1.840403 52.4285007)   \n",
              "\n",
              "              lon        lat geohash 1_precision_cluster_center  \\\n",
              "0      102.822074  18.136635  w71p5v                          w   \n",
              "1      102.808739  18.141852  w71p5q                          w   \n",
              "2      103.504256  20.063852  w79d5k                          w   \n",
              "3       58.399717  35.256789  tq388f                          t   \n",
              "4       59.264182  35.654058  tq64ud                          t   \n",
              "...           ...        ...     ...                        ...   \n",
              "16250    7.480233  53.469233  u1t24j                          u   \n",
              "16251   37.449862  40.751549  sz4xu4                          s   \n",
              "16252  145.352405 -37.757664  r1r35w                          r   \n",
              "16253   35.998364  37.541317  sy9te4                          s   \n",
              "16254   -1.840403  52.428501  gcqdq0                          g   \n",
              "\n",
              "      3_precision_cluster_center 4_precision_cluster_center  \n",
              "0                            w71                       w71p  \n",
              "1                            w71                       w71p  \n",
              "2                            w79                       w79d  \n",
              "3                            tq3                       tq38  \n",
              "4                            tq6                       tq64  \n",
              "...                          ...                        ...  \n",
              "16250                        u1t                       u1t2  \n",
              "16251                        sz4                       sz4x  \n",
              "16252                        r1r                       r1r3  \n",
              "16253                        sy9                       sy9t  \n",
              "16254                        gcq                       gcqd  \n",
              "\n",
              "[16190 rows x 11 columns]"
            ]
          },
          "execution_count": 19,
          "metadata": {},
          "output_type": "execute_result"
        }
      ],
      "source": [
        "# create a column to indicate cluster assignment for each precision\n",
        "entities_data_with_geohash['1_precision_cluster_center'] = entities_data_with_geohash['geohash'].apply(lambda x: x[0])\n",
        "entities_data_with_geohash['3_precision_cluster_center'] = entities_data_with_geohash['geohash'].apply(lambda x: x[:3])\n",
        "entities_data_with_geohash['4_precision_cluster_center'] = entities_data_with_geohash['geohash'].apply(lambda x: x[:4])\n",
        "entities_data_with_geohash"
      ]
    },
    {
      "cell_type": "code",
      "execution_count": null,
      "metadata": {
        "id": "N0PH5yfj8GAL"
      },
      "outputs": [],
      "source": [
        "# entities_data_with_geohash.to_csv('inductive_133testset_entities_data_with_geohash_cluster_assignment.csv', index = False)\n",
        "entities_data_with_geohash.to_csv('split2testset_entities_data_with_geohash_cluster_assignment.csv', index = False)"
      ]
    },
    {
      "cell_type": "code",
      "execution_count": null,
      "metadata": {
        "id": "WFhbey5h_QIU"
      },
      "outputs": [],
      "source": [
        "def pairwise_similarity_from_distance_matrix(distance_matrix):\n",
        "  '''\n",
        "  :param distance_matrix: distance_matrix of cluster centers\n",
        "  :return pairwise similarity matrix based on distance matrix with values in [0, 1]\n",
        "  '''\n",
        "  \n",
        "  # convert matrix of distances to values between 0-1 and change distance to similarity\n",
        "  # i.r d/d_max and the 1 - d/d_max\n",
        "  # pairwise_similarity_matrix = distance_matrix / np.broadcast_to(distance_matrix.max(axis = 0), distance_matrix.shape)\n",
        "  # pairwise_similarity_matrix = 1 - pairwise_similarity_matrix\n",
        "  \n",
        "  # return pairwise_similarity_matrix\n",
        "  return 1 - (distance_matrix / np.broadcast_to(distance_matrix.max(axis = 0), distance_matrix.shape))"
      ]
    },
    {
      "cell_type": "code",
      "execution_count": null,
      "metadata": {
        "id": "ojQEEJEwbDrh"
      },
      "outputs": [],
      "source": [
        "precision1_cluster_center_geohashes = np.unique(entities_data_with_geohash['1_precision_cluster_center'])\n",
        "precision1_cluster_lat_lon_list = [(gh.decode(hash)[0],  gh.decode(hash)[1]) for hash in precision1_cluster_center_geohashes]\n",
        "precision1_cluster_distance_matrix = haversine_vector(\n",
        "    precision1_cluster_lat_lon_list,\n",
        "    precision1_cluster_lat_lon_list,\n",
        "    Unit.KILOMETERS,\n",
        "    comb=True\n",
        ")\n",
        "\n",
        "\n",
        "precision3_cluster_center_geohashes = np.unique(entities_data_with_geohash['3_precision_cluster_center'])\n",
        "precision3_cluster_lat_lon_list = [(gh.decode(hash)[0],  gh.decode(hash)[1]) for hash in precision3_cluster_center_geohashes]\n",
        "precision3_cluster_distance_matrix = haversine_vector(\n",
        "    precision3_cluster_lat_lon_list,\n",
        "    precision3_cluster_lat_lon_list,\n",
        "    Unit.KILOMETERS,\n",
        "    comb=True\n",
        ")\n"
      ]
    },
    {
      "cell_type": "code",
      "execution_count": null,
      "metadata": {
        "id": "cCsHOhaDdHrz"
      },
      "outputs": [],
      "source": [
        "precision1_similarity_matrix = pairwise_similarity_from_distance_matrix(precision1_cluster_distance_matrix)\n",
        "precision3_similarity_matrix = pairwise_similarity_from_distance_matrix(precision3_cluster_distance_matrix)\n",
        "# save embedding array\n",
        "with h5py.File('precision1_similarity_matrix_file.h5', 'w') as hf:\n",
        "  hf.create_dataset('precision1_similarity_matrix',  data = precision1_similarity_matrix, compression = 'gzip')\n",
        "\n",
        "with h5py.File('precision3_similarity_matrix_file.h5', 'w') as hf:\n",
        "  hf.create_dataset('precision3_similarity_matrix',  data = precision3_similarity_matrix, compression = 'gzip')"
      ]
    },
    {
      "cell_type": "code",
      "execution_count": null,
      "metadata": {
        "id": "mmpb7a0AdIoi"
      },
      "outputs": [],
      "source": [
        "precision4_cluster_center_geohashes = np.unique(entities_data_with_geohash['4_precision_cluster_center'])\n",
        "precision4_cluster_lat_lon_list = [(gh.decode(hash)[0],  gh.decode(hash)[1]) for hash in precision4_cluster_center_geohashes]\n",
        "precision4_cluster_distance_matrix = haversine_vector(\n",
        "    precision4_cluster_lat_lon_list,\n",
        "    precision4_cluster_lat_lon_list,\n",
        "    Unit.KILOMETERS,\n",
        "    comb=True\n",
        ")\n",
        "precision4_cluster_distance_matrix = precision4_cluster_distance_matrix.astype(\n",
        "    dtype = np.float16,\n",
        "    copy = False\n",
        "    )\n",
        "precision4_similarity_matrix = pairwise_similarity_from_distance_matrix(precision4_cluster_distance_matrix)\n",
        "with h5py.File('precision4_similarity_matrix_file.h5', 'w') as hf:\n",
        "  hf.create_dataset('precision4_similarity_matrix',  data = precision4_similarity_matrix, compression = 'gzip')"
      ]
    },
    {
      "attachments": {},
      "cell_type": "markdown",
      "metadata": {
        "id": "NZmeTL6Ymqvf"
      },
      "source": [
        "## FT mean label_nameEn embeddings"
      ]
    },
    {
      "cell_type": "code",
      "execution_count": null,
      "metadata": {
        "colab": {
          "base_uri": "https://localhost:8080/"
        },
        "id": "IhaOuA1duUo8",
        "outputId": "cebf6050-326d-458b-eb39-d0a4f52561fd"
      },
      "outputs": [
        {
          "name": "stdout",
          "output_type": "stream",
          "text": [
            "Downloading https://dl.fbaipublicfiles.com/fasttext/vectors-crawl/cc.en.300.bin.gz\n",
            "\n"
          ]
        },
        {
          "name": "stderr",
          "output_type": "stream",
          "text": [
            "Warning : `load_model` does not return WordVectorModel or SupervisedModel any more, but a `FastText` object which is very similar.\n"
          ]
        }
      ],
      "source": [
        "# load fastText model\n",
        "fasttext.util.download_model('en', if_exists = 'ignore')  # English\n",
        "model = fasttext.load_model('cc.en.300.bin')"
      ]
    },
    {
      "cell_type": "code",
      "execution_count": null,
      "metadata": {
        "id": "oaZP4JZFOiKR"
      },
      "outputs": [],
      "source": [
        "'''\n",
        "Utility to return fastText embedding of word x\n",
        "using fastText and for <UNK> token return zero vector\n",
        "'''\n",
        "def get_ft_embedding(x, model):\n",
        "  if x == '<UNK>':\n",
        "    return np.zeros(300)\n",
        "  else:\n",
        "    return model.get_word_vector(str(x).lower())"
      ]
    },
    {
      "cell_type": "code",
      "execution_count": null,
      "metadata": {
        "colab": {
          "base_uri": "https://localhost:8080/"
        },
        "id": "snH-EpNoOnio",
        "outputId": "fb390eb2-6779-4dea-da8c-5c0595a902f9"
      },
      "outputs": [
        {
          "name": "stderr",
          "output_type": "stream",
          "text": [
            "16190it [00:00, 16493.73it/s]\n"
          ]
        },
        {
          "data": {
            "text/plain": [
              "(16190, 300)"
            ]
          },
          "execution_count": 27,
          "metadata": {},
          "output_type": "execute_result"
        }
      ],
      "source": [
        "mean_ft_embedding = np.zeros((entities_data_with_geohash.shape[0], 300), dtype = np.float32)\n",
        "\n",
        "for i, label, nameEn in tqdm(zip(range(entities_data_with_geohash.shape[0]),entities_data_with_geohash['label'], entities_data_with_geohash['nameEn'])):\n",
        "\n",
        "  mean_ft_embedding[i] = np.mean(np.concatenate((\n",
        "      get_ft_embedding(label, model).reshape(1, -1),\n",
        "      get_ft_embedding(nameEn, model).reshape(1, -1)\n",
        "  )), axis = 0)\n",
        "\n",
        "mean_ft_embedding.shape"
      ]
    },
    {
      "cell_type": "code",
      "execution_count": null,
      "metadata": {
        "id": "e4m247nmT6CQ"
      },
      "outputs": [],
      "source": [
        "# save embedding\n",
        "with h5py.File('split2_mean_label_nameEn_embeddings_file.h5', 'w') as hf:\n",
        "  hf.create_dataset('mean_label_nameEn_embeddings',  data = mean_ft_embedding, compression = 'gzip')"
      ]
    },
    {
      "cell_type": "code",
      "execution_count": null,
      "metadata": {
        "id": "5MSHhxBAVCBi"
      },
      "outputs": [],
      "source": [
        "# label entity_idx dict\n",
        "entity_uris = entities_data_with_geohash['entity_uri'].values\n",
        "entity_idx = dict()\n",
        "for i, uri in zip(range(len(entity_uris)), entity_uris):\n",
        "  entity_idx[uri] = i\n",
        "  \n",
        "with open('label_entity_idx.pickle', 'wb') as handle:\n",
        "  pickle.dump(entity_idx, handle, protocol=pickle.HIGHEST_PROTOCOL)"
      ]
    },
    {
      "attachments": {},
      "cell_type": "markdown",
      "metadata": {
        "id": "omLehM6yiHyU"
      },
      "source": [
        "## Type and relation embeddings"
      ]
    },
    {
      "cell_type": "code",
      "execution_count": null,
      "metadata": {
        "colab": {
          "base_uri": "https://localhost:8080/",
          "height": 661
        },
        "id": "ulMOU7dYiKGe",
        "outputId": "e1c8ceb1-7daf-4126-acff-5c9a54df4066"
      },
      "outputs": [
        {
          "data": {
            "text/html": [
              "\n",
              "  <div id=\"df-434ab7f8-bc11-40f2-9c8b-059c9af8f9bf\">\n",
              "    <div class=\"colab-df-container\">\n",
              "      <div>\n",
              "<style scoped>\n",
              "    .dataframe tbody tr th:only-of-type {\n",
              "        vertical-align: middle;\n",
              "    }\n",
              "\n",
              "    .dataframe tbody tr th {\n",
              "        vertical-align: top;\n",
              "    }\n",
              "\n",
              "    .dataframe thead th {\n",
              "        text-align: right;\n",
              "    }\n",
              "</style>\n",
              "<table border=\"1\" class=\"dataframe\">\n",
              "  <thead>\n",
              "    <tr style=\"text-align: right;\">\n",
              "      <th></th>\n",
              "      <th>entity_uri</th>\n",
              "      <th>type</th>\n",
              "      <th>label</th>\n",
              "      <th>nameEn</th>\n",
              "      <th>coordinates</th>\n",
              "      <th>lon</th>\n",
              "      <th>lat</th>\n",
              "      <th>geohash</th>\n",
              "      <th>1_precision_cluster_center</th>\n",
              "      <th>3_precision_cluster_center</th>\n",
              "      <th>4_precision_cluster_center</th>\n",
              "    </tr>\n",
              "  </thead>\n",
              "  <tbody>\n",
              "    <tr>\n",
              "      <th>0</th>\n",
              "      <td>http://www.worldkg.org/resource/1048268052</td>\n",
              "      <td>wkgs:Village</td>\n",
              "      <td>ບ້ານ ສົມສະໄໝ</td>\n",
              "      <td>Ban Somsamay</td>\n",
              "      <td>POINT(102.8220741 18.1366351)</td>\n",
              "      <td>102.822074</td>\n",
              "      <td>18.136635</td>\n",
              "      <td>w71p5v</td>\n",
              "      <td>w</td>\n",
              "      <td>w71</td>\n",
              "      <td>w71p</td>\n",
              "    </tr>\n",
              "    <tr>\n",
              "      <th>1</th>\n",
              "      <td>http://www.worldkg.org/resource/1048638884</td>\n",
              "      <td>wkgs:Village</td>\n",
              "      <td>Veunthan</td>\n",
              "      <td>Veunthan</td>\n",
              "      <td>POINT(102.8087386 18.1418518)</td>\n",
              "      <td>102.808739</td>\n",
              "      <td>18.141852</td>\n",
              "      <td>w71p5q</td>\n",
              "      <td>w</td>\n",
              "      <td>w71</td>\n",
              "      <td>w71p</td>\n",
              "    </tr>\n",
              "    <tr>\n",
              "      <th>2</th>\n",
              "      <td>http://www.worldkg.org/resource/1049908636</td>\n",
              "      <td>wkgs:Village</td>\n",
              "      <td>Na Phieng</td>\n",
              "      <td>Na Phieng</td>\n",
              "      <td>POINT(103.5042558 20.0638525)</td>\n",
              "      <td>103.504256</td>\n",
              "      <td>20.063852</td>\n",
              "      <td>w79d5k</td>\n",
              "      <td>w</td>\n",
              "      <td>w79</td>\n",
              "      <td>w79d</td>\n",
              "    </tr>\n",
              "    <tr>\n",
              "      <th>3</th>\n",
              "      <td>http://www.worldkg.org/resource/1148185540</td>\n",
              "      <td>wkgs:Village</td>\n",
              "      <td>کسرینه</td>\n",
              "      <td>Kasrineh</td>\n",
              "      <td>POINT(58.3997166 35.2567892)</td>\n",
              "      <td>58.399717</td>\n",
              "      <td>35.256789</td>\n",
              "      <td>tq388f</td>\n",
              "      <td>t</td>\n",
              "      <td>tq3</td>\n",
              "      <td>tq38</td>\n",
              "    </tr>\n",
              "    <tr>\n",
              "      <th>4</th>\n",
              "      <td>http://www.worldkg.org/resource/1013550821</td>\n",
              "      <td>wkgs:Village</td>\n",
              "      <td>سرهنگ</td>\n",
              "      <td>Sarhang</td>\n",
              "      <td>POINT(59.2641824 35.6540583)</td>\n",
              "      <td>59.264182</td>\n",
              "      <td>35.654058</td>\n",
              "      <td>tq64ud</td>\n",
              "      <td>t</td>\n",
              "      <td>tq6</td>\n",
              "      <td>tq64</td>\n",
              "    </tr>\n",
              "    <tr>\n",
              "      <th>...</th>\n",
              "      <td>...</td>\n",
              "      <td>...</td>\n",
              "      <td>...</td>\n",
              "      <td>...</td>\n",
              "      <td>...</td>\n",
              "      <td>...</td>\n",
              "      <td>...</td>\n",
              "      <td>...</td>\n",
              "      <td>...</td>\n",
              "      <td>...</td>\n",
              "      <td>...</td>\n",
              "    </tr>\n",
              "    <tr>\n",
              "      <th>16185</th>\n",
              "      <td>http://www.worldkg.org/resource/962290922</td>\n",
              "      <td>wkgs:Museum</td>\n",
              "      <td>Historisches Museum</td>\n",
              "      <td>NaN</td>\n",
              "      <td>POINT(7.4802326 53.4692332)</td>\n",
              "      <td>7.480233</td>\n",
              "      <td>53.469233</td>\n",
              "      <td>u1t24j</td>\n",
              "      <td>u</td>\n",
              "      <td>u1t</td>\n",
              "      <td>u1t2</td>\n",
              "    </tr>\n",
              "    <tr>\n",
              "      <th>16186</th>\n",
              "      <td>http://www.worldkg.org/resource/966583366</td>\n",
              "      <td>wkgs:Town</td>\n",
              "      <td>Kabataş</td>\n",
              "      <td>NaN</td>\n",
              "      <td>POINT(37.4498616 40.7515493)</td>\n",
              "      <td>37.449862</td>\n",
              "      <td>40.751549</td>\n",
              "      <td>sz4xu4</td>\n",
              "      <td>s</td>\n",
              "      <td>sz4</td>\n",
              "      <td>sz4x</td>\n",
              "    </tr>\n",
              "    <tr>\n",
              "      <th>16187</th>\n",
              "      <td>http://www.worldkg.org/resource/97160788</td>\n",
              "      <td>wkgs:Town</td>\n",
              "      <td>Lilydale</td>\n",
              "      <td>NaN</td>\n",
              "      <td>POINT(145.352405 -37.7576639)</td>\n",
              "      <td>145.352405</td>\n",
              "      <td>-37.757664</td>\n",
              "      <td>r1r35w</td>\n",
              "      <td>r</td>\n",
              "      <td>r1r</td>\n",
              "      <td>r1r3</td>\n",
              "    </tr>\n",
              "    <tr>\n",
              "      <th>16188</th>\n",
              "      <td>http://www.worldkg.org/resource/970564374</td>\n",
              "      <td>wkgs:Village</td>\n",
              "      <td>Gaffarlı</td>\n",
              "      <td>NaN</td>\n",
              "      <td>POINT(35.9983643 37.5413165)</td>\n",
              "      <td>35.998364</td>\n",
              "      <td>37.541317</td>\n",
              "      <td>sy9te4</td>\n",
              "      <td>s</td>\n",
              "      <td>sy9</td>\n",
              "      <td>sy9t</td>\n",
              "    </tr>\n",
              "    <tr>\n",
              "      <th>16189</th>\n",
              "      <td>http://www.worldkg.org/resource/97635852</td>\n",
              "      <td>wkgs:Village</td>\n",
              "      <td>Hall Green</td>\n",
              "      <td>NaN</td>\n",
              "      <td>POINT(-1.840403 52.4285007)</td>\n",
              "      <td>-1.840403</td>\n",
              "      <td>52.428501</td>\n",
              "      <td>gcqdq0</td>\n",
              "      <td>g</td>\n",
              "      <td>gcq</td>\n",
              "      <td>gcqd</td>\n",
              "    </tr>\n",
              "  </tbody>\n",
              "</table>\n",
              "<p>16190 rows × 11 columns</p>\n",
              "</div>\n",
              "      <button class=\"colab-df-convert\" onclick=\"convertToInteractive('df-434ab7f8-bc11-40f2-9c8b-059c9af8f9bf')\"\n",
              "              title=\"Convert this dataframe to an interactive table.\"\n",
              "              style=\"display:none;\">\n",
              "        \n",
              "  <svg xmlns=\"http://www.w3.org/2000/svg\" height=\"24px\"viewBox=\"0 0 24 24\"\n",
              "       width=\"24px\">\n",
              "    <path d=\"M0 0h24v24H0V0z\" fill=\"none\"/>\n",
              "    <path d=\"M18.56 5.44l.94 2.06.94-2.06 2.06-.94-2.06-.94-.94-2.06-.94 2.06-2.06.94zm-11 1L8.5 8.5l.94-2.06 2.06-.94-2.06-.94L8.5 2.5l-.94 2.06-2.06.94zm10 10l.94 2.06.94-2.06 2.06-.94-2.06-.94-.94-2.06-.94 2.06-2.06.94z\"/><path d=\"M17.41 7.96l-1.37-1.37c-.4-.4-.92-.59-1.43-.59-.52 0-1.04.2-1.43.59L10.3 9.45l-7.72 7.72c-.78.78-.78 2.05 0 2.83L4 21.41c.39.39.9.59 1.41.59.51 0 1.02-.2 1.41-.59l7.78-7.78 2.81-2.81c.8-.78.8-2.07 0-2.86zM5.41 20L4 18.59l7.72-7.72 1.47 1.35L5.41 20z\"/>\n",
              "  </svg>\n",
              "      </button>\n",
              "      \n",
              "  <style>\n",
              "    .colab-df-container {\n",
              "      display:flex;\n",
              "      flex-wrap:wrap;\n",
              "      gap: 12px;\n",
              "    }\n",
              "\n",
              "    .colab-df-convert {\n",
              "      background-color: #E8F0FE;\n",
              "      border: none;\n",
              "      border-radius: 50%;\n",
              "      cursor: pointer;\n",
              "      display: none;\n",
              "      fill: #1967D2;\n",
              "      height: 32px;\n",
              "      padding: 0 0 0 0;\n",
              "      width: 32px;\n",
              "    }\n",
              "\n",
              "    .colab-df-convert:hover {\n",
              "      background-color: #E2EBFA;\n",
              "      box-shadow: 0px 1px 2px rgba(60, 64, 67, 0.3), 0px 1px 3px 1px rgba(60, 64, 67, 0.15);\n",
              "      fill: #174EA6;\n",
              "    }\n",
              "\n",
              "    [theme=dark] .colab-df-convert {\n",
              "      background-color: #3B4455;\n",
              "      fill: #D2E3FC;\n",
              "    }\n",
              "\n",
              "    [theme=dark] .colab-df-convert:hover {\n",
              "      background-color: #434B5C;\n",
              "      box-shadow: 0px 1px 3px 1px rgba(0, 0, 0, 0.15);\n",
              "      filter: drop-shadow(0px 1px 2px rgba(0, 0, 0, 0.3));\n",
              "      fill: #FFFFFF;\n",
              "    }\n",
              "  </style>\n",
              "\n",
              "      <script>\n",
              "        const buttonEl =\n",
              "          document.querySelector('#df-434ab7f8-bc11-40f2-9c8b-059c9af8f9bf button.colab-df-convert');\n",
              "        buttonEl.style.display =\n",
              "          google.colab.kernel.accessAllowed ? 'block' : 'none';\n",
              "\n",
              "        async function convertToInteractive(key) {\n",
              "          const element = document.querySelector('#df-434ab7f8-bc11-40f2-9c8b-059c9af8f9bf');\n",
              "          const dataTable =\n",
              "            await google.colab.kernel.invokeFunction('convertToInteractive',\n",
              "                                                     [key], {});\n",
              "          if (!dataTable) return;\n",
              "\n",
              "          const docLinkHtml = 'Like what you see? Visit the ' +\n",
              "            '<a target=\"_blank\" href=https://colab.research.google.com/notebooks/data_table.ipynb>data table notebook</a>'\n",
              "            + ' to learn more about interactive tables.';\n",
              "          element.innerHTML = '';\n",
              "          dataTable['output_type'] = 'display_data';\n",
              "          await google.colab.output.renderOutput(dataTable, element);\n",
              "          const docLink = document.createElement('div');\n",
              "          docLink.innerHTML = docLinkHtml;\n",
              "          element.appendChild(docLink);\n",
              "        }\n",
              "      </script>\n",
              "    </div>\n",
              "  </div>\n",
              "  "
            ],
            "text/plain": [
              "                                       entity_uri          type  \\\n",
              "0      http://www.worldkg.org/resource/1048268052  wkgs:Village   \n",
              "1      http://www.worldkg.org/resource/1048638884  wkgs:Village   \n",
              "2      http://www.worldkg.org/resource/1049908636  wkgs:Village   \n",
              "3      http://www.worldkg.org/resource/1148185540  wkgs:Village   \n",
              "4      http://www.worldkg.org/resource/1013550821  wkgs:Village   \n",
              "...                                           ...           ...   \n",
              "16185   http://www.worldkg.org/resource/962290922   wkgs:Museum   \n",
              "16186   http://www.worldkg.org/resource/966583366     wkgs:Town   \n",
              "16187    http://www.worldkg.org/resource/97160788     wkgs:Town   \n",
              "16188   http://www.worldkg.org/resource/970564374  wkgs:Village   \n",
              "16189    http://www.worldkg.org/resource/97635852  wkgs:Village   \n",
              "\n",
              "                     label        nameEn                    coordinates  \\\n",
              "0             ບ້ານ ສົມສະໄໝ  Ban Somsamay  POINT(102.8220741 18.1366351)   \n",
              "1                 Veunthan      Veunthan  POINT(102.8087386 18.1418518)   \n",
              "2                Na Phieng     Na Phieng  POINT(103.5042558 20.0638525)   \n",
              "3                   کسرینه      Kasrineh   POINT(58.3997166 35.2567892)   \n",
              "4                    سرهنگ       Sarhang   POINT(59.2641824 35.6540583)   \n",
              "...                    ...           ...                            ...   \n",
              "16185  Historisches Museum           NaN    POINT(7.4802326 53.4692332)   \n",
              "16186              Kabataş           NaN   POINT(37.4498616 40.7515493)   \n",
              "16187             Lilydale           NaN  POINT(145.352405 -37.7576639)   \n",
              "16188             Gaffarlı           NaN   POINT(35.9983643 37.5413165)   \n",
              "16189           Hall Green           NaN    POINT(-1.840403 52.4285007)   \n",
              "\n",
              "              lon        lat geohash 1_precision_cluster_center  \\\n",
              "0      102.822074  18.136635  w71p5v                          w   \n",
              "1      102.808739  18.141852  w71p5q                          w   \n",
              "2      103.504256  20.063852  w79d5k                          w   \n",
              "3       58.399717  35.256789  tq388f                          t   \n",
              "4       59.264182  35.654058  tq64ud                          t   \n",
              "...           ...        ...     ...                        ...   \n",
              "16185    7.480233  53.469233  u1t24j                          u   \n",
              "16186   37.449862  40.751549  sz4xu4                          s   \n",
              "16187  145.352405 -37.757664  r1r35w                          r   \n",
              "16188   35.998364  37.541317  sy9te4                          s   \n",
              "16189   -1.840403  52.428501  gcqdq0                          g   \n",
              "\n",
              "      3_precision_cluster_center 4_precision_cluster_center  \n",
              "0                            w71                       w71p  \n",
              "1                            w71                       w71p  \n",
              "2                            w79                       w79d  \n",
              "3                            tq3                       tq38  \n",
              "4                            tq6                       tq64  \n",
              "...                          ...                        ...  \n",
              "16185                        u1t                       u1t2  \n",
              "16186                        sz4                       sz4x  \n",
              "16187                        r1r                       r1r3  \n",
              "16188                        sy9                       sy9t  \n",
              "16189                        gcq                       gcqd  \n",
              "\n",
              "[16190 rows x 11 columns]"
            ]
          },
          "execution_count": 31,
          "metadata": {},
          "output_type": "execute_result"
        }
      ],
      "source": [
        "# entities_data_with_geohash = pd.read_csv(\n",
        "#     'inductive_133testset_entities_data_with_geohash_cluster_assignment.csv'\n",
        "#     )\n",
        "entities_data_with_geohash = pd.read_csv(\n",
        "    'split2testset_entities_data_with_geohash_cluster_assignment.csv'\n",
        ")\n",
        "entities_data_with_geohash"
      ]
    },
    {
      "cell_type": "code",
      "execution_count": null,
      "metadata": {
        "id": "yA6ZKwKGkHHW"
      },
      "outputs": [],
      "source": [
        "# fill unknown type with <UNK>\n",
        "entities_data_with_geohash['type'].fillna('<UNK>', inplace = True)"
      ]
    },
    {
      "cell_type": "code",
      "execution_count": null,
      "metadata": {
        "colab": {
          "base_uri": "https://localhost:8080/"
        },
        "id": "xwc3rGpDS7_L",
        "outputId": "3d6d33a3-a714-470f-af6f-4ddfae100549"
      },
      "outputs": [
        {
          "data": {
            "text/plain": [
              "{'<UNK>': 0,\n",
              " 'wkgs:Administrative': 1,\n",
              " 'wkgs:AerialwayStation': 2,\n",
              " 'wkgs:Aerodrome': 3,\n",
              " 'wkgs:Alcohol': 4,\n",
              " 'wkgs:AlpineHut': 5,\n",
              " 'wkgs:AmenityCollege': 6,\n",
              " 'wkgs:AmenityFuel': 7,\n",
              " 'wkgs:AmenityHospital': 8,\n",
              " 'wkgs:AmenityIceCream': 9,\n",
              " 'wkgs:AmenitySchool': 10,\n",
              " 'wkgs:AmenityUniversity': 11,\n",
              " 'wkgs:Aquarium': 12,\n",
              " 'wkgs:ArchaeologicalSite': 13,\n",
              " 'wkgs:Archipelago': 14,\n",
              " 'wkgs:Art': 15,\n",
              " 'wkgs:ArtsCentre': 16,\n",
              " 'wkgs:Association': 17,\n",
              " 'wkgs:Atm': 18,\n",
              " 'wkgs:Attraction': 19,\n",
              " 'wkgs:Bank': 20,\n",
              " 'wkgs:Bar': 21,\n",
              " 'wkgs:BloodDonation': 22,\n",
              " 'wkgs:Books': 23,\n",
              " 'wkgs:Brewery': 24,\n",
              " 'wkgs:Building': 25,\n",
              " 'wkgs:BuildingBunker': 26,\n",
              " 'wkgs:BuildingChurch': 27,\n",
              " 'wkgs:BuildingCommercial': 28,\n",
              " 'wkgs:BuildingResidential': 29,\n",
              " 'wkgs:BuildingSchool': 30,\n",
              " 'wkgs:Cafe': 31,\n",
              " 'wkgs:Car': 32,\n",
              " 'wkgs:Carpenter': 33,\n",
              " 'wkgs:Casino': 34,\n",
              " 'wkgs:Castle': 35,\n",
              " 'wkgs:Chapel': 36,\n",
              " 'wkgs:ChargingStation': 37,\n",
              " 'wkgs:Cinema': 38,\n",
              " 'wkgs:City': 39,\n",
              " 'wkgs:CityGate': 40,\n",
              " 'wkgs:Cliff': 41,\n",
              " 'wkgs:Climbing': 42,\n",
              " 'wkgs:Clinic': 43,\n",
              " 'wkgs:Clothes': 44,\n",
              " 'wkgs:Company': 45,\n",
              " 'wkgs:Continent': 46,\n",
              " 'wkgs:Country': 47,\n",
              " 'wkgs:County': 48,\n",
              " 'wkgs:Courthouse': 49,\n",
              " 'wkgs:Deli': 50,\n",
              " 'wkgs:Diplomatic': 51,\n",
              " 'wkgs:District': 52,\n",
              " 'wkgs:EducationalInstitution': 53,\n",
              " 'wkgs:Electronics': 54,\n",
              " 'wkgs:FastFood': 55,\n",
              " 'wkgs:FieldHockey': 56,\n",
              " 'wkgs:Flagpole': 57,\n",
              " 'wkgs:Foundation': 58,\n",
              " 'wkgs:Fountain': 59,\n",
              " 'wkgs:Gallery': 60,\n",
              " 'wkgs:GuestHouse': 61,\n",
              " 'wkgs:Hackerspace': 62,\n",
              " 'wkgs:Halt': 63,\n",
              " 'wkgs:Hamlet': 64,\n",
              " 'wkgs:HistoricMilestone': 65,\n",
              " 'wkgs:HistoricMonastery': 66,\n",
              " 'wkgs:Hostel': 67,\n",
              " 'wkgs:InteriorDecoration': 68,\n",
              " 'wkgs:Island': 69,\n",
              " 'wkgs:IsolatedDwelling': 70,\n",
              " 'wkgs:Library': 71,\n",
              " 'wkgs:Lighthouse': 72,\n",
              " 'wkgs:Locality': 73,\n",
              " 'wkgs:Logistics': 74,\n",
              " 'wkgs:Mall': 75,\n",
              " 'wkgs:ManMadeTower': 76,\n",
              " 'wkgs:ManMadeWaterTower': 77,\n",
              " 'wkgs:Manor': 78,\n",
              " 'wkgs:Memorial': 79,\n",
              " 'wkgs:Monument': 80,\n",
              " 'wkgs:Municipality': 81,\n",
              " 'wkgs:Museum': 82,\n",
              " 'wkgs:Neighbourhood': 83,\n",
              " 'wkgs:Ngo': 84,\n",
              " 'wkgs:Nightclub': 85,\n",
              " 'wkgs:OccupationalTherapist': 86,\n",
              " 'wkgs:OfficeGovernment': 87,\n",
              " 'wkgs:ParkingEntrance': 88,\n",
              " 'wkgs:Peak': 89,\n",
              " 'wkgs:Pharmacy': 90,\n",
              " 'wkgs:PlaceFarm': 91,\n",
              " 'wkgs:PlaceOfWorship': 92,\n",
              " 'wkgs:Plot': 93,\n",
              " 'wkgs:Police': 94,\n",
              " 'wkgs:PoliticalParty': 95,\n",
              " 'wkgs:PostOffice': 96,\n",
              " 'wkgs:Prison': 97,\n",
              " 'wkgs:Province': 98,\n",
              " 'wkgs:Pub': 99,\n",
              " 'wkgs:Public': 100,\n",
              " 'wkgs:PublicTransportStation': 101,\n",
              " 'wkgs:Quango': 102,\n",
              " 'wkgs:Quarter': 103,\n",
              " 'wkgs:RailwayStation': 104,\n",
              " 'wkgs:Region': 105,\n",
              " 'wkgs:Research': 106,\n",
              " 'wkgs:Restaurant': 107,\n",
              " 'wkgs:ShopBakery': 108,\n",
              " 'wkgs:ShopSupermarket': 109,\n",
              " 'wkgs:Shrine': 110,\n",
              " 'wkgs:SocialFacility': 111,\n",
              " 'wkgs:SportsHall': 112,\n",
              " 'wkgs:Spring': 113,\n",
              " 'wkgs:State': 114,\n",
              " 'wkgs:Stone': 115,\n",
              " 'wkgs:Studio': 116,\n",
              " 'wkgs:Suburb': 117,\n",
              " 'wkgs:Surveillance': 118,\n",
              " 'wkgs:Theatre': 119,\n",
              " 'wkgs:TourismHotel': 120,\n",
              " 'wkgs:Town': 121,\n",
              " 'wkgs:Townhall': 122,\n",
              " 'wkgs:Viewpoint': 123,\n",
              " 'wkgs:Village': 124,\n",
              " 'wkgs:Volcano': 125,\n",
              " 'wkgs:Waterfall': 126,\n",
              " 'wkgs:Windmill': 127,\n",
              " 'wkgs:Works': 128,\n",
              " 'wkgs:Zoo': 129}"
            ]
          },
          "execution_count": 33,
          "metadata": {},
          "output_type": "execute_result"
        }
      ],
      "source": [
        "##\n",
        "# !NOTE create dictionary with prefixes wkgs:\n",
        "##\n",
        "# list of unique types\n",
        "unique_types, type_counts = np.unique(entities_data_with_geohash[['type']].values.flatten(), return_counts = True)\n",
        "\n",
        "\n",
        "# create unique_types to idx dictionary\n",
        "type_to_idx_dict = dict()\n",
        "for i in range(len(unique_types)):\n",
        "  type_to_idx_dict[unique_types[i]] = i\n",
        "type_to_idx_dict"
      ]
    },
    {
      "cell_type": "code",
      "execution_count": null,
      "metadata": {
        "colab": {
          "base_uri": "https://localhost:8080/",
          "height": 113
        },
        "id": "rzpDpT-MuuDg",
        "outputId": "39dc20f4-0513-4d38-b92a-433968d673dc"
      },
      "outputs": [
        {
          "data": {
            "text/html": [
              "\n",
              "  <div id=\"df-b49aebcd-7b5b-4041-a877-6caad797ff9f\">\n",
              "    <div class=\"colab-df-container\">\n",
              "      <div>\n",
              "<style scoped>\n",
              "    .dataframe tbody tr th:only-of-type {\n",
              "        vertical-align: middle;\n",
              "    }\n",
              "\n",
              "    .dataframe tbody tr th {\n",
              "        vertical-align: top;\n",
              "    }\n",
              "\n",
              "    .dataframe thead th {\n",
              "        text-align: right;\n",
              "    }\n",
              "</style>\n",
              "<table border=\"1\" class=\"dataframe\">\n",
              "  <thead>\n",
              "    <tr style=\"text-align: right;\">\n",
              "      <th></th>\n",
              "      <th>entity_uri</th>\n",
              "      <th>type</th>\n",
              "      <th>label</th>\n",
              "      <th>nameEn</th>\n",
              "      <th>coordinates</th>\n",
              "      <th>lon</th>\n",
              "      <th>lat</th>\n",
              "      <th>geohash</th>\n",
              "      <th>1_precision_cluster_center</th>\n",
              "      <th>3_precision_cluster_center</th>\n",
              "      <th>4_precision_cluster_center</th>\n",
              "    </tr>\n",
              "  </thead>\n",
              "  <tbody>\n",
              "  </tbody>\n",
              "</table>\n",
              "</div>\n",
              "      <button class=\"colab-df-convert\" onclick=\"convertToInteractive('df-b49aebcd-7b5b-4041-a877-6caad797ff9f')\"\n",
              "              title=\"Convert this dataframe to an interactive table.\"\n",
              "              style=\"display:none;\">\n",
              "        \n",
              "  <svg xmlns=\"http://www.w3.org/2000/svg\" height=\"24px\"viewBox=\"0 0 24 24\"\n",
              "       width=\"24px\">\n",
              "    <path d=\"M0 0h24v24H0V0z\" fill=\"none\"/>\n",
              "    <path d=\"M18.56 5.44l.94 2.06.94-2.06 2.06-.94-2.06-.94-.94-2.06-.94 2.06-2.06.94zm-11 1L8.5 8.5l.94-2.06 2.06-.94-2.06-.94L8.5 2.5l-.94 2.06-2.06.94zm10 10l.94 2.06.94-2.06 2.06-.94-2.06-.94-.94-2.06-.94 2.06-2.06.94z\"/><path d=\"M17.41 7.96l-1.37-1.37c-.4-.4-.92-.59-1.43-.59-.52 0-1.04.2-1.43.59L10.3 9.45l-7.72 7.72c-.78.78-.78 2.05 0 2.83L4 21.41c.39.39.9.59 1.41.59.51 0 1.02-.2 1.41-.59l7.78-7.78 2.81-2.81c.8-.78.8-2.07 0-2.86zM5.41 20L4 18.59l7.72-7.72 1.47 1.35L5.41 20z\"/>\n",
              "  </svg>\n",
              "      </button>\n",
              "      \n",
              "  <style>\n",
              "    .colab-df-container {\n",
              "      display:flex;\n",
              "      flex-wrap:wrap;\n",
              "      gap: 12px;\n",
              "    }\n",
              "\n",
              "    .colab-df-convert {\n",
              "      background-color: #E8F0FE;\n",
              "      border: none;\n",
              "      border-radius: 50%;\n",
              "      cursor: pointer;\n",
              "      display: none;\n",
              "      fill: #1967D2;\n",
              "      height: 32px;\n",
              "      padding: 0 0 0 0;\n",
              "      width: 32px;\n",
              "    }\n",
              "\n",
              "    .colab-df-convert:hover {\n",
              "      background-color: #E2EBFA;\n",
              "      box-shadow: 0px 1px 2px rgba(60, 64, 67, 0.3), 0px 1px 3px 1px rgba(60, 64, 67, 0.15);\n",
              "      fill: #174EA6;\n",
              "    }\n",
              "\n",
              "    [theme=dark] .colab-df-convert {\n",
              "      background-color: #3B4455;\n",
              "      fill: #D2E3FC;\n",
              "    }\n",
              "\n",
              "    [theme=dark] .colab-df-convert:hover {\n",
              "      background-color: #434B5C;\n",
              "      box-shadow: 0px 1px 3px 1px rgba(0, 0, 0, 0.15);\n",
              "      filter: drop-shadow(0px 1px 2px rgba(0, 0, 0, 0.3));\n",
              "      fill: #FFFFFF;\n",
              "    }\n",
              "  </style>\n",
              "\n",
              "      <script>\n",
              "        const buttonEl =\n",
              "          document.querySelector('#df-b49aebcd-7b5b-4041-a877-6caad797ff9f button.colab-df-convert');\n",
              "        buttonEl.style.display =\n",
              "          google.colab.kernel.accessAllowed ? 'block' : 'none';\n",
              "\n",
              "        async function convertToInteractive(key) {\n",
              "          const element = document.querySelector('#df-b49aebcd-7b5b-4041-a877-6caad797ff9f');\n",
              "          const dataTable =\n",
              "            await google.colab.kernel.invokeFunction('convertToInteractive',\n",
              "                                                     [key], {});\n",
              "          if (!dataTable) return;\n",
              "\n",
              "          const docLinkHtml = 'Like what you see? Visit the ' +\n",
              "            '<a target=\"_blank\" href=https://colab.research.google.com/notebooks/data_table.ipynb>data table notebook</a>'\n",
              "            + ' to learn more about interactive tables.';\n",
              "          element.innerHTML = '';\n",
              "          dataTable['output_type'] = 'display_data';\n",
              "          await google.colab.output.renderOutput(dataTable, element);\n",
              "          const docLink = document.createElement('div');\n",
              "          docLink.innerHTML = docLinkHtml;\n",
              "          element.appendChild(docLink);\n",
              "        }\n",
              "      </script>\n",
              "    </div>\n",
              "  </div>\n",
              "  "
            ],
            "text/plain": [
              "Empty DataFrame\n",
              "Columns: [entity_uri, type, label, nameEn, coordinates, lon, lat, geohash, 1_precision_cluster_center, 3_precision_cluster_center, 4_precision_cluster_center]\n",
              "Index: []"
            ]
          },
          "execution_count": 34,
          "metadata": {},
          "output_type": "execute_result"
        }
      ],
      "source": [
        "entities_data_with_geohash[entities_data_with_geohash['type'] == 'http://www.worldkg.org/schema/Butcher']"
      ]
    },
    {
      "cell_type": "code",
      "execution_count": null,
      "metadata": {
        "colab": {
          "base_uri": "https://localhost:8080/",
          "height": 357
        },
        "id": "Rj_lo2vZS5ek",
        "outputId": "aa8661a3-9534-4f3b-8e67-75526ad90c10"
      },
      "outputs": [
        {
          "data": {
            "text/html": [
              "\n",
              "  <div id=\"df-f338a29b-7a0b-4885-8840-d67e0925242c\">\n",
              "    <div class=\"colab-df-container\">\n",
              "      <div>\n",
              "<style scoped>\n",
              "    .dataframe tbody tr th:only-of-type {\n",
              "        vertical-align: middle;\n",
              "    }\n",
              "\n",
              "    .dataframe tbody tr th {\n",
              "        vertical-align: top;\n",
              "    }\n",
              "\n",
              "    .dataframe thead th {\n",
              "        text-align: right;\n",
              "    }\n",
              "</style>\n",
              "<table border=\"1\" class=\"dataframe\">\n",
              "  <thead>\n",
              "    <tr style=\"text-align: right;\">\n",
              "      <th></th>\n",
              "      <th>entity_uri</th>\n",
              "      <th>type</th>\n",
              "      <th>label</th>\n",
              "      <th>nameEn</th>\n",
              "      <th>coordinates</th>\n",
              "      <th>lon</th>\n",
              "      <th>lat</th>\n",
              "      <th>geohash</th>\n",
              "      <th>1_precision_cluster_center</th>\n",
              "      <th>3_precision_cluster_center</th>\n",
              "      <th>4_precision_cluster_center</th>\n",
              "    </tr>\n",
              "  </thead>\n",
              "  <tbody>\n",
              "    <tr>\n",
              "      <th>0</th>\n",
              "      <td>http://www.worldkg.org/resource/1048268052</td>\n",
              "      <td>Village</td>\n",
              "      <td>ບ້ານ ສົມສະໄໝ</td>\n",
              "      <td>Ban Somsamay</td>\n",
              "      <td>POINT(102.8220741 18.1366351)</td>\n",
              "      <td>102.822074</td>\n",
              "      <td>18.136635</td>\n",
              "      <td>w71p5v</td>\n",
              "      <td>w</td>\n",
              "      <td>w71</td>\n",
              "      <td>w71p</td>\n",
              "    </tr>\n",
              "    <tr>\n",
              "      <th>1</th>\n",
              "      <td>http://www.worldkg.org/resource/1048638884</td>\n",
              "      <td>Village</td>\n",
              "      <td>Veunthan</td>\n",
              "      <td>Veunthan</td>\n",
              "      <td>POINT(102.8087386 18.1418518)</td>\n",
              "      <td>102.808739</td>\n",
              "      <td>18.141852</td>\n",
              "      <td>w71p5q</td>\n",
              "      <td>w</td>\n",
              "      <td>w71</td>\n",
              "      <td>w71p</td>\n",
              "    </tr>\n",
              "    <tr>\n",
              "      <th>2</th>\n",
              "      <td>http://www.worldkg.org/resource/1049908636</td>\n",
              "      <td>Village</td>\n",
              "      <td>Na Phieng</td>\n",
              "      <td>Na Phieng</td>\n",
              "      <td>POINT(103.5042558 20.0638525)</td>\n",
              "      <td>103.504256</td>\n",
              "      <td>20.063852</td>\n",
              "      <td>w79d5k</td>\n",
              "      <td>w</td>\n",
              "      <td>w79</td>\n",
              "      <td>w79d</td>\n",
              "    </tr>\n",
              "    <tr>\n",
              "      <th>3</th>\n",
              "      <td>http://www.worldkg.org/resource/1148185540</td>\n",
              "      <td>Village</td>\n",
              "      <td>کسرینه</td>\n",
              "      <td>Kasrineh</td>\n",
              "      <td>POINT(58.3997166 35.2567892)</td>\n",
              "      <td>58.399717</td>\n",
              "      <td>35.256789</td>\n",
              "      <td>tq388f</td>\n",
              "      <td>t</td>\n",
              "      <td>tq3</td>\n",
              "      <td>tq38</td>\n",
              "    </tr>\n",
              "    <tr>\n",
              "      <th>4</th>\n",
              "      <td>http://www.worldkg.org/resource/1013550821</td>\n",
              "      <td>Village</td>\n",
              "      <td>سرهنگ</td>\n",
              "      <td>Sarhang</td>\n",
              "      <td>POINT(59.2641824 35.6540583)</td>\n",
              "      <td>59.264182</td>\n",
              "      <td>35.654058</td>\n",
              "      <td>tq64ud</td>\n",
              "      <td>t</td>\n",
              "      <td>tq6</td>\n",
              "      <td>tq64</td>\n",
              "    </tr>\n",
              "  </tbody>\n",
              "</table>\n",
              "</div>\n",
              "      <button class=\"colab-df-convert\" onclick=\"convertToInteractive('df-f338a29b-7a0b-4885-8840-d67e0925242c')\"\n",
              "              title=\"Convert this dataframe to an interactive table.\"\n",
              "              style=\"display:none;\">\n",
              "        \n",
              "  <svg xmlns=\"http://www.w3.org/2000/svg\" height=\"24px\"viewBox=\"0 0 24 24\"\n",
              "       width=\"24px\">\n",
              "    <path d=\"M0 0h24v24H0V0z\" fill=\"none\"/>\n",
              "    <path d=\"M18.56 5.44l.94 2.06.94-2.06 2.06-.94-2.06-.94-.94-2.06-.94 2.06-2.06.94zm-11 1L8.5 8.5l.94-2.06 2.06-.94-2.06-.94L8.5 2.5l-.94 2.06-2.06.94zm10 10l.94 2.06.94-2.06 2.06-.94-2.06-.94-.94-2.06-.94 2.06-2.06.94z\"/><path d=\"M17.41 7.96l-1.37-1.37c-.4-.4-.92-.59-1.43-.59-.52 0-1.04.2-1.43.59L10.3 9.45l-7.72 7.72c-.78.78-.78 2.05 0 2.83L4 21.41c.39.39.9.59 1.41.59.51 0 1.02-.2 1.41-.59l7.78-7.78 2.81-2.81c.8-.78.8-2.07 0-2.86zM5.41 20L4 18.59l7.72-7.72 1.47 1.35L5.41 20z\"/>\n",
              "  </svg>\n",
              "      </button>\n",
              "      \n",
              "  <style>\n",
              "    .colab-df-container {\n",
              "      display:flex;\n",
              "      flex-wrap:wrap;\n",
              "      gap: 12px;\n",
              "    }\n",
              "\n",
              "    .colab-df-convert {\n",
              "      background-color: #E8F0FE;\n",
              "      border: none;\n",
              "      border-radius: 50%;\n",
              "      cursor: pointer;\n",
              "      display: none;\n",
              "      fill: #1967D2;\n",
              "      height: 32px;\n",
              "      padding: 0 0 0 0;\n",
              "      width: 32px;\n",
              "    }\n",
              "\n",
              "    .colab-df-convert:hover {\n",
              "      background-color: #E2EBFA;\n",
              "      box-shadow: 0px 1px 2px rgba(60, 64, 67, 0.3), 0px 1px 3px 1px rgba(60, 64, 67, 0.15);\n",
              "      fill: #174EA6;\n",
              "    }\n",
              "\n",
              "    [theme=dark] .colab-df-convert {\n",
              "      background-color: #3B4455;\n",
              "      fill: #D2E3FC;\n",
              "    }\n",
              "\n",
              "    [theme=dark] .colab-df-convert:hover {\n",
              "      background-color: #434B5C;\n",
              "      box-shadow: 0px 1px 3px 1px rgba(0, 0, 0, 0.15);\n",
              "      filter: drop-shadow(0px 1px 2px rgba(0, 0, 0, 0.3));\n",
              "      fill: #FFFFFF;\n",
              "    }\n",
              "  </style>\n",
              "\n",
              "      <script>\n",
              "        const buttonEl =\n",
              "          document.querySelector('#df-f338a29b-7a0b-4885-8840-d67e0925242c button.colab-df-convert');\n",
              "        buttonEl.style.display =\n",
              "          google.colab.kernel.accessAllowed ? 'block' : 'none';\n",
              "\n",
              "        async function convertToInteractive(key) {\n",
              "          const element = document.querySelector('#df-f338a29b-7a0b-4885-8840-d67e0925242c');\n",
              "          const dataTable =\n",
              "            await google.colab.kernel.invokeFunction('convertToInteractive',\n",
              "                                                     [key], {});\n",
              "          if (!dataTable) return;\n",
              "\n",
              "          const docLinkHtml = 'Like what you see? Visit the ' +\n",
              "            '<a target=\"_blank\" href=https://colab.research.google.com/notebooks/data_table.ipynb>data table notebook</a>'\n",
              "            + ' to learn more about interactive tables.';\n",
              "          element.innerHTML = '';\n",
              "          dataTable['output_type'] = 'display_data';\n",
              "          await google.colab.output.renderOutput(dataTable, element);\n",
              "          const docLink = document.createElement('div');\n",
              "          docLink.innerHTML = docLinkHtml;\n",
              "          element.appendChild(docLink);\n",
              "        }\n",
              "      </script>\n",
              "    </div>\n",
              "  </div>\n",
              "  "
            ],
            "text/plain": [
              "                                   entity_uri     type         label  \\\n",
              "0  http://www.worldkg.org/resource/1048268052  Village  ບ້ານ ສົມສະໄໝ   \n",
              "1  http://www.worldkg.org/resource/1048638884  Village      Veunthan   \n",
              "2  http://www.worldkg.org/resource/1049908636  Village     Na Phieng   \n",
              "3  http://www.worldkg.org/resource/1148185540  Village        کسرینه   \n",
              "4  http://www.worldkg.org/resource/1013550821  Village         سرهنگ   \n",
              "\n",
              "         nameEn                    coordinates         lon        lat geohash  \\\n",
              "0  Ban Somsamay  POINT(102.8220741 18.1366351)  102.822074  18.136635  w71p5v   \n",
              "1      Veunthan  POINT(102.8087386 18.1418518)  102.808739  18.141852  w71p5q   \n",
              "2     Na Phieng  POINT(103.5042558 20.0638525)  103.504256  20.063852  w79d5k   \n",
              "3      Kasrineh   POINT(58.3997166 35.2567892)   58.399717  35.256789  tq388f   \n",
              "4       Sarhang   POINT(59.2641824 35.6540583)   59.264182  35.654058  tq64ud   \n",
              "\n",
              "  1_precision_cluster_center 3_precision_cluster_center  \\\n",
              "0                          w                        w71   \n",
              "1                          w                        w71   \n",
              "2                          w                        w79   \n",
              "3                          t                        tq3   \n",
              "4                          t                        tq6   \n",
              "\n",
              "  4_precision_cluster_center  \n",
              "0                       w71p  \n",
              "1                       w71p  \n",
              "2                       w79d  \n",
              "3                       tq38  \n",
              "4                       tq64  "
            ]
          },
          "execution_count": 35,
          "metadata": {},
          "output_type": "execute_result"
        }
      ],
      "source": [
        "# remove 'wkgs:' prefix from type\n",
        "pattern = '^wkgs:'\n",
        "compiled_pattern = re.compile(pattern)\n",
        "\n",
        "# merged_results['type'] = merged_results['type'].astype('str')\n",
        "entities_data_with_geohash['type'] = entities_data_with_geohash['type'].apply(lambda uri: re.sub(compiled_pattern, '', uri))\n",
        "entities_data_with_geohash.head()"
      ]
    },
    {
      "cell_type": "code",
      "execution_count": null,
      "metadata": {
        "id": "TMlW9pHZX0nl"
      },
      "outputs": [],
      "source": [
        "unique_types, type_counts = np.unique(entities_data_with_geohash[['type']].values.flatten(), return_counts = True)"
      ]
    },
    {
      "cell_type": "code",
      "execution_count": null,
      "metadata": {
        "id": "NXMw9Sh691me"
      },
      "outputs": [],
      "source": [
        "# merging relation names with types to embed both in same space,\n",
        "# but we are maintaining a separate dictionary for relation indices\n",
        "relation_name_idx_dict = {\n",
        "    'wkgs:isIn': 0,\n",
        "    'wkgs:addrPlace': 1,\n",
        "    'wkgs:isInContinent': 2,\n",
        "    'wkgs:country': 3,\n",
        "    'wkgs:isInCountry': 4,\n",
        "    'wkgs:addrCountry': 5,\n",
        "    'wkgs:capitalCity': 6,\n",
        "    'wkgs:addrState': 7,\n",
        "    'wkgs:addrDistrict': 8,\n",
        "    'wkgs:addrProvince': 9,\n",
        "    'wkgs:isInCounty': 10,\n",
        "    'wkgs:addrSubdistrict': 11,\n",
        "    'wkgs:addrSuburb': 12,\n",
        "    'wkgs:addrHamlet': 13\n",
        "}\n",
        "\n",
        "# update indices as continuation from rdf:type indices\n",
        "index_start = len(unique_types)\n",
        "relation_names = []\n",
        "for key, val in relation_name_idx_dict.items():\n",
        "  relation_name_idx_dict[key] = val + index_start\n",
        "  relation_names.append(key)"
      ]
    },
    {
      "cell_type": "code",
      "execution_count": null,
      "metadata": {
        "colab": {
          "base_uri": "https://localhost:8080/"
        },
        "id": "DPYHo9c3XBcp",
        "outputId": "913c942d-afd4-4bfa-e919-85a943149115"
      },
      "outputs": [
        {
          "data": {
            "text/plain": [
              "{'wkgs:isIn': 130,\n",
              " 'wkgs:addrPlace': 131,\n",
              " 'wkgs:isInContinent': 132,\n",
              " 'wkgs:country': 133,\n",
              " 'wkgs:isInCountry': 134,\n",
              " 'wkgs:addrCountry': 135,\n",
              " 'wkgs:capitalCity': 136,\n",
              " 'wkgs:addrState': 137,\n",
              " 'wkgs:addrDistrict': 138,\n",
              " 'wkgs:addrProvince': 139,\n",
              " 'wkgs:isInCounty': 140,\n",
              " 'wkgs:addrSubdistrict': 141,\n",
              " 'wkgs:addrSuburb': 142,\n",
              " 'wkgs:addrHamlet': 143}"
            ]
          },
          "execution_count": 38,
          "metadata": {},
          "output_type": "execute_result"
        }
      ],
      "source": [
        "relation_name_idx_dict"
      ]
    },
    {
      "cell_type": "code",
      "execution_count": null,
      "metadata": {
        "id": "9a3xDnzJnehM"
      },
      "outputs": [],
      "source": [
        "# remove 'wkgs:' prefix from relation name\n",
        "pattern = '^wkgs:'\n",
        "compiled_pattern = re.compile(pattern)\n",
        "\n",
        "# merged_results['type'] = merged_results['type'].astype('str')\n",
        "relation_names = [re.sub(compiled_pattern, '', uri) for uri in relation_names]"
      ]
    },
    {
      "cell_type": "code",
      "execution_count": null,
      "metadata": {
        "colab": {
          "base_uri": "https://localhost:8080/"
        },
        "id": "xs0BQhILYFuq",
        "outputId": "c6c52678-ba22-4a26-c196-eed8c7aa8876"
      },
      "outputs": [
        {
          "data": {
            "text/plain": [
              "array(['<UNK>', 'Administrative', 'AerialwayStation', 'Aerodrome',\n",
              "       'Alcohol', 'AlpineHut', 'AmenityCollege', 'AmenityFuel',\n",
              "       'AmenityHospital', 'AmenityIceCream', 'AmenitySchool',\n",
              "       'AmenityUniversity', 'Aquarium', 'ArchaeologicalSite',\n",
              "       'Archipelago', 'Art', 'ArtsCentre', 'Association', 'Atm',\n",
              "       'Attraction', 'Bank', 'Bar', 'BloodDonation', 'Books', 'Brewery',\n",
              "       'Building', 'BuildingBunker', 'BuildingChurch',\n",
              "       'BuildingCommercial', 'BuildingResidential', 'BuildingSchool',\n",
              "       'Cafe', 'Car', 'Carpenter', 'Casino', 'Castle', 'Chapel',\n",
              "       'ChargingStation', 'Cinema', 'City', 'CityGate', 'Cliff',\n",
              "       'Climbing', 'Clinic', 'Clothes', 'Company', 'Continent', 'Country',\n",
              "       'County', 'Courthouse', 'Deli', 'Diplomatic', 'District',\n",
              "       'EducationalInstitution', 'Electronics', 'FastFood', 'FieldHockey',\n",
              "       'Flagpole', 'Foundation', 'Fountain', 'Gallery', 'GuestHouse',\n",
              "       'Hackerspace', 'Halt', 'Hamlet', 'HistoricMilestone',\n",
              "       'HistoricMonastery', 'Hostel', 'InteriorDecoration', 'Island',\n",
              "       'IsolatedDwelling', 'Library', 'Lighthouse', 'Locality',\n",
              "       'Logistics', 'Mall', 'ManMadeTower', 'ManMadeWaterTower', 'Manor',\n",
              "       'Memorial', 'Monument', 'Municipality', 'Museum', 'Neighbourhood',\n",
              "       'Ngo', 'Nightclub', 'OccupationalTherapist', 'OfficeGovernment',\n",
              "       'ParkingEntrance', 'Peak', 'Pharmacy', 'PlaceFarm',\n",
              "       'PlaceOfWorship', 'Plot', 'Police', 'PoliticalParty', 'PostOffice',\n",
              "       'Prison', 'Province', 'Pub', 'Public', 'PublicTransportStation',\n",
              "       'Quango', 'Quarter', 'RailwayStation', 'Region', 'Research',\n",
              "       'Restaurant', 'ShopBakery', 'ShopSupermarket', 'Shrine',\n",
              "       'SocialFacility', 'SportsHall', 'Spring', 'State', 'Stone',\n",
              "       'Studio', 'Suburb', 'Surveillance', 'Theatre', 'TourismHotel',\n",
              "       'Town', 'Townhall', 'Viewpoint', 'Village', 'Volcano', 'Waterfall',\n",
              "       'Windmill', 'Works', 'Zoo'], dtype=object)"
            ]
          },
          "execution_count": 40,
          "metadata": {},
          "output_type": "execute_result"
        }
      ],
      "source": [
        "unique_types"
      ]
    },
    {
      "cell_type": "code",
      "execution_count": null,
      "metadata": {
        "id": "frAkZD08XLqZ"
      },
      "outputs": [],
      "source": [
        "# merge relation names with type\n",
        "types_and_relation_names = np.concatenate((unique_types, np.array(relation_names)))\n",
        "types_and_relation_names.shape\n",
        "\n",
        "# generate embeddings stored at corresponding idx\n",
        "embeddings = np.array([get_ft_embedding(x, model) for x in types_and_relation_names], dtype = np.float64)"
      ]
    },
    {
      "cell_type": "code",
      "execution_count": null,
      "metadata": {
        "id": "YL0Ft8glYKj2"
      },
      "outputs": [],
      "source": [
        "# save as h5py\n",
        "with h5py.File('type_and_relation_embeddings_file.h5', 'w') as hf:\n",
        "  hf.create_dataset('type_embeddings',  data = embeddings, compression = 'gzip')"
      ]
    },
    {
      "cell_type": "code",
      "execution_count": null,
      "metadata": {
        "id": "PCXksQlvYWlp"
      },
      "outputs": [],
      "source": [
        "# save type index as .dict file\n",
        "with open('type_to_idx_dict.dict', 'wb') as handle:\n",
        "    pickle.dump(type_to_idx_dict, handle, protocol=pickle.HIGHEST_PROTOCOL)"
      ]
    },
    {
      "cell_type": "code",
      "execution_count": null,
      "metadata": {
        "id": "EZrZzrm3Yzzy"
      },
      "outputs": [],
      "source": [
        "# save relation_name index as .dict file\n",
        "with open('relation_name_idx_dict.dict', 'wb') as handle:\n",
        "    pickle.dump(relation_name_idx_dict, handle, protocol=pickle.HIGHEST_PROTOCOL)"
      ]
    },
    {
      "attachments": {},
      "cell_type": "markdown",
      "metadata": {
        "id": "AgiZOXHmUbff"
      },
      "source": [
        "## FT literal value embeddings"
      ]
    },
    {
      "cell_type": "code",
      "execution_count": null,
      "metadata": {
        "colab": {
          "base_uri": "https://localhost:8080/",
          "height": 424
        },
        "id": "JpT3wjX3h8S9",
        "outputId": "f058be29-0182-45ab-82ab-9a22cf6cc7e6"
      },
      "outputs": [
        {
          "data": {
            "text/html": [
              "\n",
              "  <div id=\"df-16ea2ec2-913f-467f-b913-4905575e6567\">\n",
              "    <div class=\"colab-df-container\">\n",
              "      <div>\n",
              "<style scoped>\n",
              "    .dataframe tbody tr th:only-of-type {\n",
              "        vertical-align: middle;\n",
              "    }\n",
              "\n",
              "    .dataframe tbody tr th {\n",
              "        vertical-align: top;\n",
              "    }\n",
              "\n",
              "    .dataframe thead th {\n",
              "        text-align: right;\n",
              "    }\n",
              "</style>\n",
              "<table border=\"1\" class=\"dataframe\">\n",
              "  <thead>\n",
              "    <tr style=\"text-align: right;\">\n",
              "      <th></th>\n",
              "      <th>subject</th>\n",
              "      <th>predicate</th>\n",
              "      <th>object</th>\n",
              "    </tr>\n",
              "  </thead>\n",
              "  <tbody>\n",
              "    <tr>\n",
              "      <th>0</th>\n",
              "      <td>wkg:4426850370</td>\n",
              "      <td>wkgs:isInCountry</td>\n",
              "      <td>wkg:424298311</td>\n",
              "    </tr>\n",
              "    <tr>\n",
              "      <th>1</th>\n",
              "      <td>wkg:3068656670</td>\n",
              "      <td>wkgs:isInCountry</td>\n",
              "      <td>wkg:424313730</td>\n",
              "    </tr>\n",
              "    <tr>\n",
              "      <th>2</th>\n",
              "      <td>wkg:630639045</td>\n",
              "      <td>wkgs:isInContinent</td>\n",
              "      <td>wkg:36966065</td>\n",
              "    </tr>\n",
              "    <tr>\n",
              "      <th>3</th>\n",
              "      <td>wkg:4426852196</td>\n",
              "      <td>wkgs:isInContinent</td>\n",
              "      <td>wkg:36966065</td>\n",
              "    </tr>\n",
              "    <tr>\n",
              "      <th>4</th>\n",
              "      <td>wkg:2000003612</td>\n",
              "      <td>wkgs:isInCountry</td>\n",
              "      <td>wkg:424298311</td>\n",
              "    </tr>\n",
              "    <tr>\n",
              "      <th>...</th>\n",
              "      <td>...</td>\n",
              "      <td>...</td>\n",
              "      <td>...</td>\n",
              "    </tr>\n",
              "    <tr>\n",
              "      <th>15926</th>\n",
              "      <td>wkg:274372610</td>\n",
              "      <td>wkgs:addrCountry</td>\n",
              "      <td>wkg:1683325355</td>\n",
              "    </tr>\n",
              "    <tr>\n",
              "      <th>15927</th>\n",
              "      <td>wkg:1254881907</td>\n",
              "      <td>wkgs:addrCountry</td>\n",
              "      <td>wkg:424314830</td>\n",
              "    </tr>\n",
              "    <tr>\n",
              "      <th>15928</th>\n",
              "      <td>wkg:1261054393</td>\n",
              "      <td>wkgs:addrCountry</td>\n",
              "      <td>wkg:424314830</td>\n",
              "    </tr>\n",
              "    <tr>\n",
              "      <th>15929</th>\n",
              "      <td>wkg:279000168</td>\n",
              "      <td>wkgs:addrCountry</td>\n",
              "      <td>wkg:6907263340</td>\n",
              "    </tr>\n",
              "    <tr>\n",
              "      <th>15930</th>\n",
              "      <td>wkg:2717412823</td>\n",
              "      <td>wkgs:addrCountry</td>\n",
              "      <td>wkg:6907263340</td>\n",
              "    </tr>\n",
              "  </tbody>\n",
              "</table>\n",
              "<p>15931 rows × 3 columns</p>\n",
              "</div>\n",
              "      <button class=\"colab-df-convert\" onclick=\"convertToInteractive('df-16ea2ec2-913f-467f-b913-4905575e6567')\"\n",
              "              title=\"Convert this dataframe to an interactive table.\"\n",
              "              style=\"display:none;\">\n",
              "        \n",
              "  <svg xmlns=\"http://www.w3.org/2000/svg\" height=\"24px\"viewBox=\"0 0 24 24\"\n",
              "       width=\"24px\">\n",
              "    <path d=\"M0 0h24v24H0V0z\" fill=\"none\"/>\n",
              "    <path d=\"M18.56 5.44l.94 2.06.94-2.06 2.06-.94-2.06-.94-.94-2.06-.94 2.06-2.06.94zm-11 1L8.5 8.5l.94-2.06 2.06-.94-2.06-.94L8.5 2.5l-.94 2.06-2.06.94zm10 10l.94 2.06.94-2.06 2.06-.94-2.06-.94-.94-2.06-.94 2.06-2.06.94z\"/><path d=\"M17.41 7.96l-1.37-1.37c-.4-.4-.92-.59-1.43-.59-.52 0-1.04.2-1.43.59L10.3 9.45l-7.72 7.72c-.78.78-.78 2.05 0 2.83L4 21.41c.39.39.9.59 1.41.59.51 0 1.02-.2 1.41-.59l7.78-7.78 2.81-2.81c.8-.78.8-2.07 0-2.86zM5.41 20L4 18.59l7.72-7.72 1.47 1.35L5.41 20z\"/>\n",
              "  </svg>\n",
              "      </button>\n",
              "      \n",
              "  <style>\n",
              "    .colab-df-container {\n",
              "      display:flex;\n",
              "      flex-wrap:wrap;\n",
              "      gap: 12px;\n",
              "    }\n",
              "\n",
              "    .colab-df-convert {\n",
              "      background-color: #E8F0FE;\n",
              "      border: none;\n",
              "      border-radius: 50%;\n",
              "      cursor: pointer;\n",
              "      display: none;\n",
              "      fill: #1967D2;\n",
              "      height: 32px;\n",
              "      padding: 0 0 0 0;\n",
              "      width: 32px;\n",
              "    }\n",
              "\n",
              "    .colab-df-convert:hover {\n",
              "      background-color: #E2EBFA;\n",
              "      box-shadow: 0px 1px 2px rgba(60, 64, 67, 0.3), 0px 1px 3px 1px rgba(60, 64, 67, 0.15);\n",
              "      fill: #174EA6;\n",
              "    }\n",
              "\n",
              "    [theme=dark] .colab-df-convert {\n",
              "      background-color: #3B4455;\n",
              "      fill: #D2E3FC;\n",
              "    }\n",
              "\n",
              "    [theme=dark] .colab-df-convert:hover {\n",
              "      background-color: #434B5C;\n",
              "      box-shadow: 0px 1px 3px 1px rgba(0, 0, 0, 0.15);\n",
              "      filter: drop-shadow(0px 1px 2px rgba(0, 0, 0, 0.3));\n",
              "      fill: #FFFFFF;\n",
              "    }\n",
              "  </style>\n",
              "\n",
              "      <script>\n",
              "        const buttonEl =\n",
              "          document.querySelector('#df-16ea2ec2-913f-467f-b913-4905575e6567 button.colab-df-convert');\n",
              "        buttonEl.style.display =\n",
              "          google.colab.kernel.accessAllowed ? 'block' : 'none';\n",
              "\n",
              "        async function convertToInteractive(key) {\n",
              "          const element = document.querySelector('#df-16ea2ec2-913f-467f-b913-4905575e6567');\n",
              "          const dataTable =\n",
              "            await google.colab.kernel.invokeFunction('convertToInteractive',\n",
              "                                                     [key], {});\n",
              "          if (!dataTable) return;\n",
              "\n",
              "          const docLinkHtml = 'Like what you see? Visit the ' +\n",
              "            '<a target=\"_blank\" href=https://colab.research.google.com/notebooks/data_table.ipynb>data table notebook</a>'\n",
              "            + ' to learn more about interactive tables.';\n",
              "          element.innerHTML = '';\n",
              "          dataTable['output_type'] = 'display_data';\n",
              "          await google.colab.output.renderOutput(dataTable, element);\n",
              "          const docLink = document.createElement('div');\n",
              "          docLink.innerHTML = docLinkHtml;\n",
              "          element.appendChild(docLink);\n",
              "        }\n",
              "      </script>\n",
              "    </div>\n",
              "  </div>\n",
              "  "
            ],
            "text/plain": [
              "              subject           predicate          object\n",
              "0      wkg:4426850370    wkgs:isInCountry   wkg:424298311\n",
              "1      wkg:3068656670    wkgs:isInCountry   wkg:424313730\n",
              "2       wkg:630639045  wkgs:isInContinent    wkg:36966065\n",
              "3      wkg:4426852196  wkgs:isInContinent    wkg:36966065\n",
              "4      wkg:2000003612    wkgs:isInCountry   wkg:424298311\n",
              "...               ...                 ...             ...\n",
              "15926   wkg:274372610    wkgs:addrCountry  wkg:1683325355\n",
              "15927  wkg:1254881907    wkgs:addrCountry   wkg:424314830\n",
              "15928  wkg:1261054393    wkgs:addrCountry   wkg:424314830\n",
              "15929   wkg:279000168    wkgs:addrCountry  wkg:6907263340\n",
              "15930  wkg:2717412823    wkgs:addrCountry  wkg:6907263340\n",
              "\n",
              "[15931 rows x 3 columns]"
            ]
          },
          "execution_count": 45,
          "metadata": {},
          "output_type": "execute_result"
        }
      ],
      "source": [
        "# test_inductive = pd.read_csv('test_inductive_133triples.txt', sep = '\\t', names = ['subject', 'predicate', 'object'])\n",
        "# test_inductive\n",
        "test_inductive = pd.read_csv('test_filtered_triples_deduplicated.txt', sep = '\\t', names = ['subject', 'predicate', 'object'])\n",
        "test_inductive"
      ]
    },
    {
      "cell_type": "code",
      "execution_count": null,
      "metadata": {
        "colab": {
          "base_uri": "https://localhost:8080/",
          "height": 424
        },
        "id": "R52z0BUxbEto",
        "outputId": "29026a9c-06ee-43b3-f17c-d960a6ce76c3"
      },
      "outputs": [
        {
          "data": {
            "text/html": [
              "\n",
              "  <div id=\"df-82eb1d65-4021-4ca7-b5da-62dd8a88b7a9\">\n",
              "    <div class=\"colab-df-container\">\n",
              "      <div>\n",
              "<style scoped>\n",
              "    .dataframe tbody tr th:only-of-type {\n",
              "        vertical-align: middle;\n",
              "    }\n",
              "\n",
              "    .dataframe tbody tr th {\n",
              "        vertical-align: top;\n",
              "    }\n",
              "\n",
              "    .dataframe thead th {\n",
              "        text-align: right;\n",
              "    }\n",
              "</style>\n",
              "<table border=\"1\" class=\"dataframe\">\n",
              "  <thead>\n",
              "    <tr style=\"text-align: right;\">\n",
              "      <th></th>\n",
              "      <th>subject</th>\n",
              "      <th>predicate</th>\n",
              "      <th>object</th>\n",
              "      <th>literal_object</th>\n",
              "    </tr>\n",
              "  </thead>\n",
              "  <tbody>\n",
              "    <tr>\n",
              "      <th>0</th>\n",
              "      <td>wkg:4426850370</td>\n",
              "      <td>wkgs:isInCountry</td>\n",
              "      <td>wkg:424298311</td>\n",
              "      <td>Iran</td>\n",
              "    </tr>\n",
              "    <tr>\n",
              "      <th>1</th>\n",
              "      <td>wkg:1923575883</td>\n",
              "      <td>wkgs:isInContinent</td>\n",
              "      <td>wkg:36966065</td>\n",
              "      <td>Asia</td>\n",
              "    </tr>\n",
              "    <tr>\n",
              "      <th>2</th>\n",
              "      <td>wkg:1308683858</td>\n",
              "      <td>wkgs:isInCountry</td>\n",
              "      <td>wkg:6677037562</td>\n",
              "      <td>Indonesia</td>\n",
              "    </tr>\n",
              "    <tr>\n",
              "      <th>3</th>\n",
              "      <td>wkg:1308609726</td>\n",
              "      <td>wkgs:isInCountry</td>\n",
              "      <td>wkg:6677037562</td>\n",
              "      <td>Indonesia</td>\n",
              "    </tr>\n",
              "    <tr>\n",
              "      <th>4</th>\n",
              "      <td>wkg:3068656670</td>\n",
              "      <td>wkgs:isInCountry</td>\n",
              "      <td>wkg:424313730</td>\n",
              "      <td>Bolivia</td>\n",
              "    </tr>\n",
              "    <tr>\n",
              "      <th>...</th>\n",
              "      <td>...</td>\n",
              "      <td>...</td>\n",
              "      <td>...</td>\n",
              "      <td>...</td>\n",
              "    </tr>\n",
              "    <tr>\n",
              "      <th>159991</th>\n",
              "      <td>wkg:1135414237</td>\n",
              "      <td>wkgs:addrCountry</td>\n",
              "      <td>wkg:424314830</td>\n",
              "      <td>RU</td>\n",
              "    </tr>\n",
              "    <tr>\n",
              "      <th>159992</th>\n",
              "      <td>wkg:1197106724</td>\n",
              "      <td>wkgs:addrCountry</td>\n",
              "      <td>wkg:424314830</td>\n",
              "      <td>RU</td>\n",
              "    </tr>\n",
              "    <tr>\n",
              "      <th>159993</th>\n",
              "      <td>wkg:945163900</td>\n",
              "      <td>wkgs:addrCountry</td>\n",
              "      <td>wkg:424314830</td>\n",
              "      <td>RU</td>\n",
              "    </tr>\n",
              "    <tr>\n",
              "      <th>159994</th>\n",
              "      <td>wkg:961947169</td>\n",
              "      <td>wkgs:addrCountry</td>\n",
              "      <td>wkg:424314830</td>\n",
              "      <td>RU</td>\n",
              "    </tr>\n",
              "    <tr>\n",
              "      <th>159995</th>\n",
              "      <td>wkg:243014737</td>\n",
              "      <td>wkgs:addrCountry</td>\n",
              "      <td>wkg:249399300</td>\n",
              "      <td>BY</td>\n",
              "    </tr>\n",
              "  </tbody>\n",
              "</table>\n",
              "<p>159996 rows × 4 columns</p>\n",
              "</div>\n",
              "      <button class=\"colab-df-convert\" onclick=\"convertToInteractive('df-82eb1d65-4021-4ca7-b5da-62dd8a88b7a9')\"\n",
              "              title=\"Convert this dataframe to an interactive table.\"\n",
              "              style=\"display:none;\">\n",
              "        \n",
              "  <svg xmlns=\"http://www.w3.org/2000/svg\" height=\"24px\"viewBox=\"0 0 24 24\"\n",
              "       width=\"24px\">\n",
              "    <path d=\"M0 0h24v24H0V0z\" fill=\"none\"/>\n",
              "    <path d=\"M18.56 5.44l.94 2.06.94-2.06 2.06-.94-2.06-.94-.94-2.06-.94 2.06-2.06.94zm-11 1L8.5 8.5l.94-2.06 2.06-.94-2.06-.94L8.5 2.5l-.94 2.06-2.06.94zm10 10l.94 2.06.94-2.06 2.06-.94-2.06-.94-.94-2.06-.94 2.06-2.06.94z\"/><path d=\"M17.41 7.96l-1.37-1.37c-.4-.4-.92-.59-1.43-.59-.52 0-1.04.2-1.43.59L10.3 9.45l-7.72 7.72c-.78.78-.78 2.05 0 2.83L4 21.41c.39.39.9.59 1.41.59.51 0 1.02-.2 1.41-.59l7.78-7.78 2.81-2.81c.8-.78.8-2.07 0-2.86zM5.41 20L4 18.59l7.72-7.72 1.47 1.35L5.41 20z\"/>\n",
              "  </svg>\n",
              "      </button>\n",
              "      \n",
              "  <style>\n",
              "    .colab-df-container {\n",
              "      display:flex;\n",
              "      flex-wrap:wrap;\n",
              "      gap: 12px;\n",
              "    }\n",
              "\n",
              "    .colab-df-convert {\n",
              "      background-color: #E8F0FE;\n",
              "      border: none;\n",
              "      border-radius: 50%;\n",
              "      cursor: pointer;\n",
              "      display: none;\n",
              "      fill: #1967D2;\n",
              "      height: 32px;\n",
              "      padding: 0 0 0 0;\n",
              "      width: 32px;\n",
              "    }\n",
              "\n",
              "    .colab-df-convert:hover {\n",
              "      background-color: #E2EBFA;\n",
              "      box-shadow: 0px 1px 2px rgba(60, 64, 67, 0.3), 0px 1px 3px 1px rgba(60, 64, 67, 0.15);\n",
              "      fill: #174EA6;\n",
              "    }\n",
              "\n",
              "    [theme=dark] .colab-df-convert {\n",
              "      background-color: #3B4455;\n",
              "      fill: #D2E3FC;\n",
              "    }\n",
              "\n",
              "    [theme=dark] .colab-df-convert:hover {\n",
              "      background-color: #434B5C;\n",
              "      box-shadow: 0px 1px 3px 1px rgba(0, 0, 0, 0.15);\n",
              "      filter: drop-shadow(0px 1px 2px rgba(0, 0, 0, 0.3));\n",
              "      fill: #FFFFFF;\n",
              "    }\n",
              "  </style>\n",
              "\n",
              "      <script>\n",
              "        const buttonEl =\n",
              "          document.querySelector('#df-82eb1d65-4021-4ca7-b5da-62dd8a88b7a9 button.colab-df-convert');\n",
              "        buttonEl.style.display =\n",
              "          google.colab.kernel.accessAllowed ? 'block' : 'none';\n",
              "\n",
              "        async function convertToInteractive(key) {\n",
              "          const element = document.querySelector('#df-82eb1d65-4021-4ca7-b5da-62dd8a88b7a9');\n",
              "          const dataTable =\n",
              "            await google.colab.kernel.invokeFunction('convertToInteractive',\n",
              "                                                     [key], {});\n",
              "          if (!dataTable) return;\n",
              "\n",
              "          const docLinkHtml = 'Like what you see? Visit the ' +\n",
              "            '<a target=\"_blank\" href=https://colab.research.google.com/notebooks/data_table.ipynb>data table notebook</a>'\n",
              "            + ' to learn more about interactive tables.';\n",
              "          element.innerHTML = '';\n",
              "          dataTable['output_type'] = 'display_data';\n",
              "          await google.colab.output.renderOutput(dataTable, element);\n",
              "          const docLink = document.createElement('div');\n",
              "          docLink.innerHTML = docLinkHtml;\n",
              "          element.appendChild(docLink);\n",
              "        }\n",
              "      </script>\n",
              "    </div>\n",
              "  </div>\n",
              "  "
            ],
            "text/plain": [
              "               subject           predicate          object literal_object\n",
              "0       wkg:4426850370    wkgs:isInCountry   wkg:424298311           Iran\n",
              "1       wkg:1923575883  wkgs:isInContinent    wkg:36966065           Asia\n",
              "2       wkg:1308683858    wkgs:isInCountry  wkg:6677037562      Indonesia\n",
              "3       wkg:1308609726    wkgs:isInCountry  wkg:6677037562      Indonesia\n",
              "4       wkg:3068656670    wkgs:isInCountry   wkg:424313730        Bolivia\n",
              "...                ...                 ...             ...            ...\n",
              "159991  wkg:1135414237    wkgs:addrCountry   wkg:424314830             RU\n",
              "159992  wkg:1197106724    wkgs:addrCountry   wkg:424314830             RU\n",
              "159993   wkg:945163900    wkgs:addrCountry   wkg:424314830             RU\n",
              "159994   wkg:961947169    wkgs:addrCountry   wkg:424314830             RU\n",
              "159995   wkg:243014737    wkgs:addrCountry   wkg:249399300             BY\n",
              "\n",
              "[159996 rows x 4 columns]"
            ]
          },
          "execution_count": 118,
          "metadata": {},
          "output_type": "execute_result"
        }
      ],
      "source": [
        "spo_literal_value_df = pd.read_csv(\n",
        "    'inductive_spo_plus_literal.csv',\n",
        "    names = ['subject', 'predicate', 'object', 'literal_object']\n",
        "    )\n",
        "spo_literal_value_df"
      ]
    },
    {
      "cell_type": "code",
      "execution_count": null,
      "metadata": {
        "colab": {
          "base_uri": "https://localhost:8080/",
          "height": 424
        },
        "id": "0RxCnC4Rfv0K",
        "outputId": "13b5a7dc-6290-43ff-ec9c-16dffee7369c"
      },
      "outputs": [
        {
          "data": {
            "text/html": [
              "\n",
              "  <div id=\"df-441c056a-d416-48ab-a734-cfb98fe31c5c\">\n",
              "    <div class=\"colab-df-container\">\n",
              "      <div>\n",
              "<style scoped>\n",
              "    .dataframe tbody tr th:only-of-type {\n",
              "        vertical-align: middle;\n",
              "    }\n",
              "\n",
              "    .dataframe tbody tr th {\n",
              "        vertical-align: top;\n",
              "    }\n",
              "\n",
              "    .dataframe thead th {\n",
              "        text-align: right;\n",
              "    }\n",
              "</style>\n",
              "<table border=\"1\" class=\"dataframe\">\n",
              "  <thead>\n",
              "    <tr style=\"text-align: right;\">\n",
              "      <th></th>\n",
              "      <th>subject</th>\n",
              "      <th>predicate</th>\n",
              "      <th>object</th>\n",
              "      <th>literal_object</th>\n",
              "    </tr>\n",
              "  </thead>\n",
              "  <tbody>\n",
              "    <tr>\n",
              "      <th>0</th>\n",
              "      <td>wkg:4437682914</td>\n",
              "      <td>wkgs:addrDistrict</td>\n",
              "      <td>wkg:4310758164</td>\n",
              "      <td>城关区</td>\n",
              "    </tr>\n",
              "    <tr>\n",
              "      <th>1</th>\n",
              "      <td>wkg:7800531449</td>\n",
              "      <td>wkgs:addrDistrict</td>\n",
              "      <td>wkg:316417378</td>\n",
              "      <td>Prakasam</td>\n",
              "    </tr>\n",
              "    <tr>\n",
              "      <th>2</th>\n",
              "      <td>wkg:4165125720</td>\n",
              "      <td>wkgs:addrDistrict</td>\n",
              "      <td>wkg:4310758164</td>\n",
              "      <td>城关区</td>\n",
              "    </tr>\n",
              "    <tr>\n",
              "      <th>3</th>\n",
              "      <td>wkg:5683455875</td>\n",
              "      <td>wkgs:addrHamlet</td>\n",
              "      <td>wkg:338530778</td>\n",
              "      <td>Moeraki</td>\n",
              "    </tr>\n",
              "    <tr>\n",
              "      <th>4</th>\n",
              "      <td>wkg:1600794872</td>\n",
              "      <td>wkgs:addrSubdistrict</td>\n",
              "      <td>wkg:634183692</td>\n",
              "      <td>เขาสวนกวาง</td>\n",
              "    </tr>\n",
              "    <tr>\n",
              "      <th>...</th>\n",
              "      <td>...</td>\n",
              "      <td>...</td>\n",
              "      <td>...</td>\n",
              "      <td>...</td>\n",
              "    </tr>\n",
              "    <tr>\n",
              "      <th>128</th>\n",
              "      <td>wkg:8505872425</td>\n",
              "      <td>wkgs:isInCounty</td>\n",
              "      <td>wkg:6715794617</td>\n",
              "      <td>平陆县</td>\n",
              "    </tr>\n",
              "    <tr>\n",
              "      <th>129</th>\n",
              "      <td>wkg:26984576</td>\n",
              "      <td>wkgs:isInCounty</td>\n",
              "      <td>wkg:302323945</td>\n",
              "      <td>Derbyshire</td>\n",
              "    </tr>\n",
              "    <tr>\n",
              "      <th>130</th>\n",
              "      <td>wkg:871196365</td>\n",
              "      <td>wkgs:isInCounty</td>\n",
              "      <td>wkg:316944811</td>\n",
              "      <td>Los Angeles</td>\n",
              "    </tr>\n",
              "    <tr>\n",
              "      <th>131</th>\n",
              "      <td>wkg:7831296688</td>\n",
              "      <td>wkgs:isInCounty</td>\n",
              "      <td>wkg:6618706932</td>\n",
              "      <td>雄县</td>\n",
              "    </tr>\n",
              "    <tr>\n",
              "      <th>132</th>\n",
              "      <td>wkg:7841952618</td>\n",
              "      <td>wkgs:isInCounty</td>\n",
              "      <td>wkg:6613977417</td>\n",
              "      <td>霸州市</td>\n",
              "    </tr>\n",
              "  </tbody>\n",
              "</table>\n",
              "<p>133 rows × 4 columns</p>\n",
              "</div>\n",
              "      <button class=\"colab-df-convert\" onclick=\"convertToInteractive('df-441c056a-d416-48ab-a734-cfb98fe31c5c')\"\n",
              "              title=\"Convert this dataframe to an interactive table.\"\n",
              "              style=\"display:none;\">\n",
              "        \n",
              "  <svg xmlns=\"http://www.w3.org/2000/svg\" height=\"24px\"viewBox=\"0 0 24 24\"\n",
              "       width=\"24px\">\n",
              "    <path d=\"M0 0h24v24H0V0z\" fill=\"none\"/>\n",
              "    <path d=\"M18.56 5.44l.94 2.06.94-2.06 2.06-.94-2.06-.94-.94-2.06-.94 2.06-2.06.94zm-11 1L8.5 8.5l.94-2.06 2.06-.94-2.06-.94L8.5 2.5l-.94 2.06-2.06.94zm10 10l.94 2.06.94-2.06 2.06-.94-2.06-.94-.94-2.06-.94 2.06-2.06.94z\"/><path d=\"M17.41 7.96l-1.37-1.37c-.4-.4-.92-.59-1.43-.59-.52 0-1.04.2-1.43.59L10.3 9.45l-7.72 7.72c-.78.78-.78 2.05 0 2.83L4 21.41c.39.39.9.59 1.41.59.51 0 1.02-.2 1.41-.59l7.78-7.78 2.81-2.81c.8-.78.8-2.07 0-2.86zM5.41 20L4 18.59l7.72-7.72 1.47 1.35L5.41 20z\"/>\n",
              "  </svg>\n",
              "      </button>\n",
              "      \n",
              "  <style>\n",
              "    .colab-df-container {\n",
              "      display:flex;\n",
              "      flex-wrap:wrap;\n",
              "      gap: 12px;\n",
              "    }\n",
              "\n",
              "    .colab-df-convert {\n",
              "      background-color: #E8F0FE;\n",
              "      border: none;\n",
              "      border-radius: 50%;\n",
              "      cursor: pointer;\n",
              "      display: none;\n",
              "      fill: #1967D2;\n",
              "      height: 32px;\n",
              "      padding: 0 0 0 0;\n",
              "      width: 32px;\n",
              "    }\n",
              "\n",
              "    .colab-df-convert:hover {\n",
              "      background-color: #E2EBFA;\n",
              "      box-shadow: 0px 1px 2px rgba(60, 64, 67, 0.3), 0px 1px 3px 1px rgba(60, 64, 67, 0.15);\n",
              "      fill: #174EA6;\n",
              "    }\n",
              "\n",
              "    [theme=dark] .colab-df-convert {\n",
              "      background-color: #3B4455;\n",
              "      fill: #D2E3FC;\n",
              "    }\n",
              "\n",
              "    [theme=dark] .colab-df-convert:hover {\n",
              "      background-color: #434B5C;\n",
              "      box-shadow: 0px 1px 3px 1px rgba(0, 0, 0, 0.15);\n",
              "      filter: drop-shadow(0px 1px 2px rgba(0, 0, 0, 0.3));\n",
              "      fill: #FFFFFF;\n",
              "    }\n",
              "  </style>\n",
              "\n",
              "      <script>\n",
              "        const buttonEl =\n",
              "          document.querySelector('#df-441c056a-d416-48ab-a734-cfb98fe31c5c button.colab-df-convert');\n",
              "        buttonEl.style.display =\n",
              "          google.colab.kernel.accessAllowed ? 'block' : 'none';\n",
              "\n",
              "        async function convertToInteractive(key) {\n",
              "          const element = document.querySelector('#df-441c056a-d416-48ab-a734-cfb98fe31c5c');\n",
              "          const dataTable =\n",
              "            await google.colab.kernel.invokeFunction('convertToInteractive',\n",
              "                                                     [key], {});\n",
              "          if (!dataTable) return;\n",
              "\n",
              "          const docLinkHtml = 'Like what you see? Visit the ' +\n",
              "            '<a target=\"_blank\" href=https://colab.research.google.com/notebooks/data_table.ipynb>data table notebook</a>'\n",
              "            + ' to learn more about interactive tables.';\n",
              "          element.innerHTML = '';\n",
              "          dataTable['output_type'] = 'display_data';\n",
              "          await google.colab.output.renderOutput(dataTable, element);\n",
              "          const docLink = document.createElement('div');\n",
              "          docLink.innerHTML = docLinkHtml;\n",
              "          element.appendChild(docLink);\n",
              "        }\n",
              "      </script>\n",
              "    </div>\n",
              "  </div>\n",
              "  "
            ],
            "text/plain": [
              "            subject             predicate          object literal_object\n",
              "0    wkg:4437682914     wkgs:addrDistrict  wkg:4310758164            城关区\n",
              "1    wkg:7800531449     wkgs:addrDistrict   wkg:316417378       Prakasam\n",
              "2    wkg:4165125720     wkgs:addrDistrict  wkg:4310758164            城关区\n",
              "3    wkg:5683455875       wkgs:addrHamlet   wkg:338530778        Moeraki\n",
              "4    wkg:1600794872  wkgs:addrSubdistrict   wkg:634183692     เขาสวนกวาง\n",
              "..              ...                   ...             ...            ...\n",
              "128  wkg:8505872425       wkgs:isInCounty  wkg:6715794617            平陆县\n",
              "129    wkg:26984576       wkgs:isInCounty   wkg:302323945     Derbyshire\n",
              "130   wkg:871196365       wkgs:isInCounty   wkg:316944811    Los Angeles\n",
              "131  wkg:7831296688       wkgs:isInCounty  wkg:6618706932             雄县\n",
              "132  wkg:7841952618       wkgs:isInCounty  wkg:6613977417            霸州市\n",
              "\n",
              "[133 rows x 4 columns]"
            ]
          },
          "execution_count": 119,
          "metadata": {},
          "output_type": "execute_result"
        }
      ],
      "source": [
        "# merge test_inductive with spo_literal_value_df\n",
        "test_inductive_with_literals = test_inductive.merge(\n",
        "    spo_literal_value_df,\n",
        "    on = ['subject', 'predicate', 'object'],\n",
        "    how = 'left'\n",
        ").drop_duplicates().reset_index(drop = True)\n",
        "\n",
        "test_inductive_with_literals"
      ]
    },
    {
      "cell_type": "code",
      "execution_count": null,
      "metadata": {
        "colab": {
          "base_uri": "https://localhost:8080/",
          "height": 81
        },
        "id": "fmERrb0cjikD",
        "outputId": "a1918e0e-ff4a-478d-9588-edb8400747cd"
      },
      "outputs": [
        {
          "data": {
            "text/html": [
              "\n",
              "  <div id=\"df-493b4164-bbab-4325-bd0b-8e4dea955b83\">\n",
              "    <div class=\"colab-df-container\">\n",
              "      <div>\n",
              "<style scoped>\n",
              "    .dataframe tbody tr th:only-of-type {\n",
              "        vertical-align: middle;\n",
              "    }\n",
              "\n",
              "    .dataframe tbody tr th {\n",
              "        vertical-align: top;\n",
              "    }\n",
              "\n",
              "    .dataframe thead th {\n",
              "        text-align: right;\n",
              "    }\n",
              "</style>\n",
              "<table border=\"1\" class=\"dataframe\">\n",
              "  <thead>\n",
              "    <tr style=\"text-align: right;\">\n",
              "      <th></th>\n",
              "      <th>subject</th>\n",
              "      <th>predicate</th>\n",
              "      <th>object</th>\n",
              "      <th>literal_object</th>\n",
              "    </tr>\n",
              "  </thead>\n",
              "  <tbody>\n",
              "    <tr>\n",
              "      <th>26</th>\n",
              "      <td>wkg:862872811</td>\n",
              "      <td>wkgs:addrCountry</td>\n",
              "      <td>wkg:424314830</td>\n",
              "      <td>NaN</td>\n",
              "    </tr>\n",
              "  </tbody>\n",
              "</table>\n",
              "</div>\n",
              "      <button class=\"colab-df-convert\" onclick=\"convertToInteractive('df-493b4164-bbab-4325-bd0b-8e4dea955b83')\"\n",
              "              title=\"Convert this dataframe to an interactive table.\"\n",
              "              style=\"display:none;\">\n",
              "        \n",
              "  <svg xmlns=\"http://www.w3.org/2000/svg\" height=\"24px\"viewBox=\"0 0 24 24\"\n",
              "       width=\"24px\">\n",
              "    <path d=\"M0 0h24v24H0V0z\" fill=\"none\"/>\n",
              "    <path d=\"M18.56 5.44l.94 2.06.94-2.06 2.06-.94-2.06-.94-.94-2.06-.94 2.06-2.06.94zm-11 1L8.5 8.5l.94-2.06 2.06-.94-2.06-.94L8.5 2.5l-.94 2.06-2.06.94zm10 10l.94 2.06.94-2.06 2.06-.94-2.06-.94-.94-2.06-.94 2.06-2.06.94z\"/><path d=\"M17.41 7.96l-1.37-1.37c-.4-.4-.92-.59-1.43-.59-.52 0-1.04.2-1.43.59L10.3 9.45l-7.72 7.72c-.78.78-.78 2.05 0 2.83L4 21.41c.39.39.9.59 1.41.59.51 0 1.02-.2 1.41-.59l7.78-7.78 2.81-2.81c.8-.78.8-2.07 0-2.86zM5.41 20L4 18.59l7.72-7.72 1.47 1.35L5.41 20z\"/>\n",
              "  </svg>\n",
              "      </button>\n",
              "      \n",
              "  <style>\n",
              "    .colab-df-container {\n",
              "      display:flex;\n",
              "      flex-wrap:wrap;\n",
              "      gap: 12px;\n",
              "    }\n",
              "\n",
              "    .colab-df-convert {\n",
              "      background-color: #E8F0FE;\n",
              "      border: none;\n",
              "      border-radius: 50%;\n",
              "      cursor: pointer;\n",
              "      display: none;\n",
              "      fill: #1967D2;\n",
              "      height: 32px;\n",
              "      padding: 0 0 0 0;\n",
              "      width: 32px;\n",
              "    }\n",
              "\n",
              "    .colab-df-convert:hover {\n",
              "      background-color: #E2EBFA;\n",
              "      box-shadow: 0px 1px 2px rgba(60, 64, 67, 0.3), 0px 1px 3px 1px rgba(60, 64, 67, 0.15);\n",
              "      fill: #174EA6;\n",
              "    }\n",
              "\n",
              "    [theme=dark] .colab-df-convert {\n",
              "      background-color: #3B4455;\n",
              "      fill: #D2E3FC;\n",
              "    }\n",
              "\n",
              "    [theme=dark] .colab-df-convert:hover {\n",
              "      background-color: #434B5C;\n",
              "      box-shadow: 0px 1px 3px 1px rgba(0, 0, 0, 0.15);\n",
              "      filter: drop-shadow(0px 1px 2px rgba(0, 0, 0, 0.3));\n",
              "      fill: #FFFFFF;\n",
              "    }\n",
              "  </style>\n",
              "\n",
              "      <script>\n",
              "        const buttonEl =\n",
              "          document.querySelector('#df-493b4164-bbab-4325-bd0b-8e4dea955b83 button.colab-df-convert');\n",
              "        buttonEl.style.display =\n",
              "          google.colab.kernel.accessAllowed ? 'block' : 'none';\n",
              "\n",
              "        async function convertToInteractive(key) {\n",
              "          const element = document.querySelector('#df-493b4164-bbab-4325-bd0b-8e4dea955b83');\n",
              "          const dataTable =\n",
              "            await google.colab.kernel.invokeFunction('convertToInteractive',\n",
              "                                                     [key], {});\n",
              "          if (!dataTable) return;\n",
              "\n",
              "          const docLinkHtml = 'Like what you see? Visit the ' +\n",
              "            '<a target=\"_blank\" href=https://colab.research.google.com/notebooks/data_table.ipynb>data table notebook</a>'\n",
              "            + ' to learn more about interactive tables.';\n",
              "          element.innerHTML = '';\n",
              "          dataTable['output_type'] = 'display_data';\n",
              "          await google.colab.output.renderOutput(dataTable, element);\n",
              "          const docLink = document.createElement('div');\n",
              "          docLink.innerHTML = docLinkHtml;\n",
              "          element.appendChild(docLink);\n",
              "        }\n",
              "      </script>\n",
              "    </div>\n",
              "  </div>\n",
              "  "
            ],
            "text/plain": [
              "          subject         predicate         object literal_object\n",
              "26  wkg:862872811  wkgs:addrCountry  wkg:424314830            NaN"
            ]
          },
          "execution_count": 120,
          "metadata": {},
          "output_type": "execute_result"
        }
      ],
      "source": [
        "test_inductive_with_literals[pd.isna(test_inductive_with_literals['literal_object'])]"
      ]
    },
    {
      "cell_type": "code",
      "execution_count": null,
      "metadata": {
        "colab": {
          "base_uri": "https://localhost:8080/"
        },
        "id": "mYVjdz-IkUcQ",
        "outputId": "434421df-61d2-4837-f2cd-a4002d5ad6a1"
      },
      "outputs": [
        {
          "data": {
            "text/plain": [
              "True"
            ]
          },
          "execution_count": 121,
          "metadata": {},
          "output_type": "execute_result"
        }
      ],
      "source": [
        "list(test_inductive_with_literals['subject'].values) == list(test_inductive['subject'].values)"
      ]
    },
    {
      "cell_type": "code",
      "execution_count": null,
      "metadata": {
        "colab": {
          "base_uri": "https://localhost:8080/"
        },
        "id": "qILQ23S9n7lG",
        "outputId": "776e9307-615f-4d1c-9083-d69386b0996f"
      },
      "outputs": [
        {
          "data": {
            "text/html": [
              "\n",
              "  <div id=\"df-44e40dac-ee58-41f9-bd89-20932b9b3cd1\">\n",
              "    <div class=\"colab-df-container\">\n",
              "      <div>\n",
              "<style scoped>\n",
              "    .dataframe tbody tr th:only-of-type {\n",
              "        vertical-align: middle;\n",
              "    }\n",
              "\n",
              "    .dataframe tbody tr th {\n",
              "        vertical-align: top;\n",
              "    }\n",
              "\n",
              "    .dataframe thead th {\n",
              "        text-align: right;\n",
              "    }\n",
              "</style>\n",
              "<table border=\"1\" class=\"dataframe\">\n",
              "  <thead>\n",
              "    <tr style=\"text-align: right;\">\n",
              "      <th></th>\n",
              "      <th>subject</th>\n",
              "      <th>predicate</th>\n",
              "      <th>object</th>\n",
              "      <th>literal_object</th>\n",
              "    </tr>\n",
              "  </thead>\n",
              "  <tbody>\n",
              "    <tr>\n",
              "      <th>0</th>\n",
              "      <td>wkg:4426850370</td>\n",
              "      <td>wkgs:isInCountry</td>\n",
              "      <td>wkg:424298311</td>\n",
              "      <td>Iran</td>\n",
              "    </tr>\n",
              "    <tr>\n",
              "      <th>1</th>\n",
              "      <td>wkg:3068656670</td>\n",
              "      <td>wkgs:isInCountry</td>\n",
              "      <td>wkg:424313730</td>\n",
              "      <td>Bolivia</td>\n",
              "    </tr>\n",
              "    <tr>\n",
              "      <th>2</th>\n",
              "      <td>wkg:630639045</td>\n",
              "      <td>wkgs:isInContinent</td>\n",
              "      <td>wkg:36966065</td>\n",
              "      <td>Asia</td>\n",
              "    </tr>\n",
              "    <tr>\n",
              "      <th>3</th>\n",
              "      <td>wkg:4426852196</td>\n",
              "      <td>wkgs:isInContinent</td>\n",
              "      <td>wkg:36966065</td>\n",
              "      <td>Asia</td>\n",
              "    </tr>\n",
              "    <tr>\n",
              "      <th>4</th>\n",
              "      <td>wkg:2000003612</td>\n",
              "      <td>wkgs:isInCountry</td>\n",
              "      <td>wkg:424298311</td>\n",
              "      <td>Iran</td>\n",
              "    </tr>\n",
              "    <tr>\n",
              "      <th>...</th>\n",
              "      <td>...</td>\n",
              "      <td>...</td>\n",
              "      <td>...</td>\n",
              "      <td>...</td>\n",
              "    </tr>\n",
              "    <tr>\n",
              "      <th>15926</th>\n",
              "      <td>wkg:274372610</td>\n",
              "      <td>wkgs:addrCountry</td>\n",
              "      <td>wkg:1683325355</td>\n",
              "      <td>DE</td>\n",
              "    </tr>\n",
              "    <tr>\n",
              "      <th>15927</th>\n",
              "      <td>wkg:1254881907</td>\n",
              "      <td>wkgs:addrCountry</td>\n",
              "      <td>wkg:424314830</td>\n",
              "      <td>RU</td>\n",
              "    </tr>\n",
              "    <tr>\n",
              "      <th>15928</th>\n",
              "      <td>wkg:1261054393</td>\n",
              "      <td>wkgs:addrCountry</td>\n",
              "      <td>wkg:424314830</td>\n",
              "      <td>RU</td>\n",
              "    </tr>\n",
              "    <tr>\n",
              "      <th>15929</th>\n",
              "      <td>wkg:279000168</td>\n",
              "      <td>wkgs:addrCountry</td>\n",
              "      <td>wkg:6907263340</td>\n",
              "      <td>DE</td>\n",
              "    </tr>\n",
              "    <tr>\n",
              "      <th>15930</th>\n",
              "      <td>wkg:2717412823</td>\n",
              "      <td>wkgs:addrCountry</td>\n",
              "      <td>wkg:6907263340</td>\n",
              "      <td>DE</td>\n",
              "    </tr>\n",
              "  </tbody>\n",
              "</table>\n",
              "<p>15931 rows × 4 columns</p>\n",
              "</div>\n",
              "      <button class=\"colab-df-convert\" onclick=\"convertToInteractive('df-44e40dac-ee58-41f9-bd89-20932b9b3cd1')\"\n",
              "              title=\"Convert this dataframe to an interactive table.\"\n",
              "              style=\"display:none;\">\n",
              "        \n",
              "  <svg xmlns=\"http://www.w3.org/2000/svg\" height=\"24px\"viewBox=\"0 0 24 24\"\n",
              "       width=\"24px\">\n",
              "    <path d=\"M0 0h24v24H0V0z\" fill=\"none\"/>\n",
              "    <path d=\"M18.56 5.44l.94 2.06.94-2.06 2.06-.94-2.06-.94-.94-2.06-.94 2.06-2.06.94zm-11 1L8.5 8.5l.94-2.06 2.06-.94-2.06-.94L8.5 2.5l-.94 2.06-2.06.94zm10 10l.94 2.06.94-2.06 2.06-.94-2.06-.94-.94-2.06-.94 2.06-2.06.94z\"/><path d=\"M17.41 7.96l-1.37-1.37c-.4-.4-.92-.59-1.43-.59-.52 0-1.04.2-1.43.59L10.3 9.45l-7.72 7.72c-.78.78-.78 2.05 0 2.83L4 21.41c.39.39.9.59 1.41.59.51 0 1.02-.2 1.41-.59l7.78-7.78 2.81-2.81c.8-.78.8-2.07 0-2.86zM5.41 20L4 18.59l7.72-7.72 1.47 1.35L5.41 20z\"/>\n",
              "  </svg>\n",
              "      </button>\n",
              "      \n",
              "  <style>\n",
              "    .colab-df-container {\n",
              "      display:flex;\n",
              "      flex-wrap:wrap;\n",
              "      gap: 12px;\n",
              "    }\n",
              "\n",
              "    .colab-df-convert {\n",
              "      background-color: #E8F0FE;\n",
              "      border: none;\n",
              "      border-radius: 50%;\n",
              "      cursor: pointer;\n",
              "      display: none;\n",
              "      fill: #1967D2;\n",
              "      height: 32px;\n",
              "      padding: 0 0 0 0;\n",
              "      width: 32px;\n",
              "    }\n",
              "\n",
              "    .colab-df-convert:hover {\n",
              "      background-color: #E2EBFA;\n",
              "      box-shadow: 0px 1px 2px rgba(60, 64, 67, 0.3), 0px 1px 3px 1px rgba(60, 64, 67, 0.15);\n",
              "      fill: #174EA6;\n",
              "    }\n",
              "\n",
              "    [theme=dark] .colab-df-convert {\n",
              "      background-color: #3B4455;\n",
              "      fill: #D2E3FC;\n",
              "    }\n",
              "\n",
              "    [theme=dark] .colab-df-convert:hover {\n",
              "      background-color: #434B5C;\n",
              "      box-shadow: 0px 1px 3px 1px rgba(0, 0, 0, 0.15);\n",
              "      filter: drop-shadow(0px 1px 2px rgba(0, 0, 0, 0.3));\n",
              "      fill: #FFFFFF;\n",
              "    }\n",
              "  </style>\n",
              "\n",
              "      <script>\n",
              "        const buttonEl =\n",
              "          document.querySelector('#df-44e40dac-ee58-41f9-bd89-20932b9b3cd1 button.colab-df-convert');\n",
              "        buttonEl.style.display =\n",
              "          google.colab.kernel.accessAllowed ? 'block' : 'none';\n",
              "\n",
              "        async function convertToInteractive(key) {\n",
              "          const element = document.querySelector('#df-44e40dac-ee58-41f9-bd89-20932b9b3cd1');\n",
              "          const dataTable =\n",
              "            await google.colab.kernel.invokeFunction('convertToInteractive',\n",
              "                                                     [key], {});\n",
              "          if (!dataTable) return;\n",
              "\n",
              "          const docLinkHtml = 'Like what you see? Visit the ' +\n",
              "            '<a target=\"_blank\" href=https://colab.research.google.com/notebooks/data_table.ipynb>data table notebook</a>'\n",
              "            + ' to learn more about interactive tables.';\n",
              "          element.innerHTML = '';\n",
              "          dataTable['output_type'] = 'display_data';\n",
              "          await google.colab.output.renderOutput(dataTable, element);\n",
              "          const docLink = document.createElement('div');\n",
              "          docLink.innerHTML = docLinkHtml;\n",
              "          element.appendChild(docLink);\n",
              "        }\n",
              "      </script>\n",
              "    </div>\n",
              "  </div>\n",
              "  "
            ],
            "text/plain": [
              "              subject           predicate          object literal_object\n",
              "0      wkg:4426850370    wkgs:isInCountry   wkg:424298311           Iran\n",
              "1      wkg:3068656670    wkgs:isInCountry   wkg:424313730        Bolivia\n",
              "2       wkg:630639045  wkgs:isInContinent    wkg:36966065           Asia\n",
              "3      wkg:4426852196  wkgs:isInContinent    wkg:36966065           Asia\n",
              "4      wkg:2000003612    wkgs:isInCountry   wkg:424298311           Iran\n",
              "...               ...                 ...             ...            ...\n",
              "15926   wkg:274372610    wkgs:addrCountry  wkg:1683325355             DE\n",
              "15927  wkg:1254881907    wkgs:addrCountry   wkg:424314830             RU\n",
              "15928  wkg:1261054393    wkgs:addrCountry   wkg:424314830             RU\n",
              "15929   wkg:279000168    wkgs:addrCountry  wkg:6907263340             DE\n",
              "15930  wkg:2717412823    wkgs:addrCountry  wkg:6907263340             DE\n",
              "\n",
              "[15931 rows x 4 columns]"
            ]
          },
          "execution_count": 8,
          "metadata": {},
          "output_type": "execute_result"
        }
      ],
      "source": [
        "##\n",
        "# Change for split 2 - performed literal value merge in another csv\n",
        "##\n",
        "test_inductive_with_literals = pd.read_csv('test_filtered_triples_deduplicated_with_literal_object.csv')\n",
        "test_inductive_with_literals"
      ]
    },
    {
      "cell_type": "code",
      "execution_count": null,
      "metadata": {
        "colab": {
          "base_uri": "https://localhost:8080/"
        },
        "id": "EY4ds0FqUeS3",
        "outputId": "222b7dd0-ac49-4bb7-8d5b-3227d77f03fd"
      },
      "outputs": [
        {
          "data": {
            "text/plain": [
              "(15931, 300)"
            ]
          },
          "execution_count": 9,
          "metadata": {},
          "output_type": "execute_result"
        }
      ],
      "source": [
        "###\n",
        "# EMBEDDING STEP\n",
        "###\n",
        "# triple idx corresponds to literal embedding idx\n",
        "# FT embedding of literal values\n",
        "_property_name = 'literal_object'\n",
        "property_numpy = test_inductive_with_literals[_property_name].to_numpy(copy = True)\n",
        "literal_value_embeddings = np.array([get_ft_embedding(x, model) for x in property_numpy], dtype = np.float64)\n",
        "literal_value_embeddings.shape"
      ]
    },
    {
      "cell_type": "code",
      "execution_count": null,
      "metadata": {
        "id": "jAlC21f1a2CW"
      },
      "outputs": [],
      "source": [
        "# save as h5py\n",
        "with h5py.File('split2test_set_literal_value_embeddings_file.h5', 'w') as hf:\n",
        "    hf.create_dataset('test_set_literal_value_embeddings',  data = literal_value_embeddings, compression = 'gzip')"
      ]
    },
    {
      "attachments": {},
      "cell_type": "markdown",
      "metadata": {
        "id": "afteE-Zn-aJ7"
      },
      "source": [
        "## Mean label, nameEn embedding"
      ]
    },
    {
      "cell_type": "code",
      "execution_count": null,
      "metadata": {
        "colab": {
          "base_uri": "https://localhost:8080/",
          "height": 113
        },
        "id": "_4iAJdk_-61G",
        "outputId": "6850159f-0c32-41b4-8c39-8e68829c67fe"
      },
      "outputs": [
        {
          "data": {
            "text/html": [
              "\n",
              "  <div id=\"df-01aaa600-2ce3-4870-ac70-3b2250c4def1\">\n",
              "    <div class=\"colab-df-container\">\n",
              "      <div>\n",
              "<style scoped>\n",
              "    .dataframe tbody tr th:only-of-type {\n",
              "        vertical-align: middle;\n",
              "    }\n",
              "\n",
              "    .dataframe tbody tr th {\n",
              "        vertical-align: top;\n",
              "    }\n",
              "\n",
              "    .dataframe thead th {\n",
              "        text-align: right;\n",
              "    }\n",
              "</style>\n",
              "<table border=\"1\" class=\"dataframe\">\n",
              "  <thead>\n",
              "    <tr style=\"text-align: right;\">\n",
              "      <th></th>\n",
              "      <th>entity_uri</th>\n",
              "      <th>type</th>\n",
              "      <th>label</th>\n",
              "      <th>nameEn</th>\n",
              "      <th>coordinates</th>\n",
              "      <th>lon</th>\n",
              "      <th>lat</th>\n",
              "      <th>geohash</th>\n",
              "      <th>1_precision_cluster_center</th>\n",
              "      <th>3_precision_cluster_center</th>\n",
              "      <th>4_precision_cluster_center</th>\n",
              "    </tr>\n",
              "  </thead>\n",
              "  <tbody>\n",
              "  </tbody>\n",
              "</table>\n",
              "</div>\n",
              "      <button class=\"colab-df-convert\" onclick=\"convertToInteractive('df-01aaa600-2ce3-4870-ac70-3b2250c4def1')\"\n",
              "              title=\"Convert this dataframe to an interactive table.\"\n",
              "              style=\"display:none;\">\n",
              "        \n",
              "  <svg xmlns=\"http://www.w3.org/2000/svg\" height=\"24px\"viewBox=\"0 0 24 24\"\n",
              "       width=\"24px\">\n",
              "    <path d=\"M0 0h24v24H0V0z\" fill=\"none\"/>\n",
              "    <path d=\"M18.56 5.44l.94 2.06.94-2.06 2.06-.94-2.06-.94-.94-2.06-.94 2.06-2.06.94zm-11 1L8.5 8.5l.94-2.06 2.06-.94-2.06-.94L8.5 2.5l-.94 2.06-2.06.94zm10 10l.94 2.06.94-2.06 2.06-.94-2.06-.94-.94-2.06-.94 2.06-2.06.94z\"/><path d=\"M17.41 7.96l-1.37-1.37c-.4-.4-.92-.59-1.43-.59-.52 0-1.04.2-1.43.59L10.3 9.45l-7.72 7.72c-.78.78-.78 2.05 0 2.83L4 21.41c.39.39.9.59 1.41.59.51 0 1.02-.2 1.41-.59l7.78-7.78 2.81-2.81c.8-.78.8-2.07 0-2.86zM5.41 20L4 18.59l7.72-7.72 1.47 1.35L5.41 20z\"/>\n",
              "  </svg>\n",
              "      </button>\n",
              "      \n",
              "  <style>\n",
              "    .colab-df-container {\n",
              "      display:flex;\n",
              "      flex-wrap:wrap;\n",
              "      gap: 12px;\n",
              "    }\n",
              "\n",
              "    .colab-df-convert {\n",
              "      background-color: #E8F0FE;\n",
              "      border: none;\n",
              "      border-radius: 50%;\n",
              "      cursor: pointer;\n",
              "      display: none;\n",
              "      fill: #1967D2;\n",
              "      height: 32px;\n",
              "      padding: 0 0 0 0;\n",
              "      width: 32px;\n",
              "    }\n",
              "\n",
              "    .colab-df-convert:hover {\n",
              "      background-color: #E2EBFA;\n",
              "      box-shadow: 0px 1px 2px rgba(60, 64, 67, 0.3), 0px 1px 3px 1px rgba(60, 64, 67, 0.15);\n",
              "      fill: #174EA6;\n",
              "    }\n",
              "\n",
              "    [theme=dark] .colab-df-convert {\n",
              "      background-color: #3B4455;\n",
              "      fill: #D2E3FC;\n",
              "    }\n",
              "\n",
              "    [theme=dark] .colab-df-convert:hover {\n",
              "      background-color: #434B5C;\n",
              "      box-shadow: 0px 1px 3px 1px rgba(0, 0, 0, 0.15);\n",
              "      filter: drop-shadow(0px 1px 2px rgba(0, 0, 0, 0.3));\n",
              "      fill: #FFFFFF;\n",
              "    }\n",
              "  </style>\n",
              "\n",
              "      <script>\n",
              "        const buttonEl =\n",
              "          document.querySelector('#df-01aaa600-2ce3-4870-ac70-3b2250c4def1 button.colab-df-convert');\n",
              "        buttonEl.style.display =\n",
              "          google.colab.kernel.accessAllowed ? 'block' : 'none';\n",
              "\n",
              "        async function convertToInteractive(key) {\n",
              "          const element = document.querySelector('#df-01aaa600-2ce3-4870-ac70-3b2250c4def1');\n",
              "          const dataTable =\n",
              "            await google.colab.kernel.invokeFunction('convertToInteractive',\n",
              "                                                     [key], {});\n",
              "          if (!dataTable) return;\n",
              "\n",
              "          const docLinkHtml = 'Like what you see? Visit the ' +\n",
              "            '<a target=\"_blank\" href=https://colab.research.google.com/notebooks/data_table.ipynb>data table notebook</a>'\n",
              "            + ' to learn more about interactive tables.';\n",
              "          element.innerHTML = '';\n",
              "          dataTable['output_type'] = 'display_data';\n",
              "          await google.colab.output.renderOutput(dataTable, element);\n",
              "          const docLink = document.createElement('div');\n",
              "          docLink.innerHTML = docLinkHtml;\n",
              "          element.appendChild(docLink);\n",
              "        }\n",
              "      </script>\n",
              "    </div>\n",
              "  </div>\n",
              "  "
            ],
            "text/plain": [
              "Empty DataFrame\n",
              "Columns: [entity_uri, type, label, nameEn, coordinates, lon, lat, geohash, 1_precision_cluster_center, 3_precision_cluster_center, 4_precision_cluster_center]\n",
              "Index: []"
            ]
          },
          "execution_count": 124,
          "metadata": {},
          "output_type": "execute_result"
        }
      ],
      "source": [
        "_property_name = 'label' #nameEn\n",
        "entities_data_with_geohash[_property_name].fillna('<UNK>', inplace = True)\n",
        "entities_data_with_geohash[pd.isna(entities_data_with_geohash[_property_name])]"
      ]
    },
    {
      "cell_type": "code",
      "execution_count": null,
      "metadata": {
        "id": "axFpknyP-_hg"
      },
      "outputs": [],
      "source": [
        "property_numpy = entities_data_with_geohash[_property_name].to_numpy(copy = True)\n",
        "\n",
        "nameEn_embeddings = np.array([get_ft_embedding(x, model) for x in property_numpy], dtype = np.float64)"
      ]
    },
    {
      "cell_type": "code",
      "execution_count": null,
      "metadata": {
        "id": "Mczg6dyS_Az-"
      },
      "outputs": [],
      "source": [
        "property_numpy = entities_data_with_geohash[_property_name].to_numpy(copy = True)\n",
        "\n",
        "label_embeddings = np.array([get_ft_embedding(x, model) for x in property_numpy], dtype = np.float64)"
      ]
    },
    {
      "cell_type": "code",
      "execution_count": null,
      "metadata": {
        "colab": {
          "base_uri": "https://localhost:8080/"
        },
        "id": "HkgksQm2AFgr",
        "outputId": "562fbdca-aeff-42dd-d6fc-e268fee24169"
      },
      "outputs": [
        {
          "data": {
            "text/plain": [
              "(231, 300)"
            ]
          },
          "execution_count": 127,
          "metadata": {},
          "output_type": "execute_result"
        }
      ],
      "source": [
        "nameEn_embeddings.shape"
      ]
    },
    {
      "cell_type": "code",
      "execution_count": null,
      "metadata": {
        "colab": {
          "base_uri": "https://localhost:8080/"
        },
        "id": "SIhIaIFPAHuG",
        "outputId": "7ff9f264-81b1-44cd-c3c1-cab0d5b79508"
      },
      "outputs": [
        {
          "data": {
            "text/plain": [
              "(231, 300)"
            ]
          },
          "execution_count": 128,
          "metadata": {},
          "output_type": "execute_result"
        }
      ],
      "source": [
        "label_embeddings.shape"
      ]
    },
    {
      "cell_type": "code",
      "execution_count": null,
      "metadata": {
        "colab": {
          "base_uri": "https://localhost:8080/"
        },
        "id": "RMh2htgOAYFw",
        "outputId": "ca7dcacc-bd52-497b-818d-97e68e780eeb"
      },
      "outputs": [
        {
          "data": {
            "text/plain": [
              "(231, 300)"
            ]
          },
          "execution_count": 130,
          "metadata": {},
          "output_type": "execute_result"
        }
      ],
      "source": [
        "(np.add(nameEn_embeddings, label_embeddings) / 2.0).shape"
      ]
    },
    {
      "cell_type": "code",
      "execution_count": null,
      "metadata": {
        "colab": {
          "base_uri": "https://localhost:8080/"
        },
        "id": "1UqyXd0SBmEm",
        "outputId": "a2d7f1f3-db2f-49f3-e5d9-347658107600"
      },
      "outputs": [
        {
          "data": {
            "text/plain": [
              "(231, 300)"
            ]
          },
          "execution_count": 135,
          "metadata": {},
          "output_type": "execute_result"
        }
      ],
      "source": [
        "mean_label_nameEn_embeddings.shape"
      ]
    },
    {
      "cell_type": "code",
      "execution_count": null,
      "metadata": {
        "id": "0ts07hXC_DOu"
      },
      "outputs": [],
      "source": [
        "# save as h5py\n",
        "with h5py.File('mean_label_nameEn_embeddings_file.h5', 'w') as hf:\n",
        "    hf.create_dataset('mean_label_nameEn_embeddings',  data = mean_label_nameEn_embeddings, compression = 'gzip')"
      ]
    }
  ],
  "metadata": {
    "colab": {
      "collapsed_sections": [
        "DKnDDH4UPYu-"
      ],
      "provenance": []
    },
    "kernelspec": {
      "display_name": "Python 3",
      "name": "python3"
    },
    "language_info": {
      "name": "python"
    }
  },
  "nbformat": 4,
  "nbformat_minor": 0
}
