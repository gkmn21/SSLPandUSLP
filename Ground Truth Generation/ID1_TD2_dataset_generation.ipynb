{
  "cells": [
    {
      "cell_type": "code",
      "execution_count": null,
      "metadata": {
        "id": "WlF7gEUSQE9U"
      },
      "outputs": [],
      "source": [
        "import pandas as pd\n",
        "import numpy as np\n",
        "import re\n",
        "from sklearn.model_selection import train_test_split\n"
      ]
    },
    {
      "attachments": {},
      "cell_type": "markdown",
      "metadata": {
        "id": "tyUPdH39P9LX"
      },
      "source": [
        "## Generate ID1 and TD2 datasets"
      ]
    },
    {
      "cell_type": "code",
      "execution_count": null,
      "metadata": {
        "colab": {
          "base_uri": "https://localhost:8080/"
        },
        "id": "o3SAHL2SK2n-",
        "outputId": "ae759a32-dcd6-4b49-f71b-7f10d721786f"
      },
      "outputs": [
        {
          "name": "stdout",
          "output_type": "stream",
          "text": [
            "Archive:  spo_triples_iter1.zip\n",
            "  inflating: spo_triples_iter1.csv   \n"
          ]
        }
      ],
      "source": [
        "!unzip spo_triples_iter1.zip"
      ]
    },
    {
      "cell_type": "code",
      "execution_count": null,
      "metadata": {
        "colab": {
          "base_uri": "https://localhost:8080/",
          "height": 206
        },
        "id": "_3v-algyVMFv",
        "outputId": "c2a27761-6274-493c-dcbc-c395df6180f5"
      },
      "outputs": [
        {
          "data": {
            "text/html": [
              "\n",
              "  <div id=\"df-709642d0-9a70-460a-9903-09387fbcda51\">\n",
              "    <div class=\"colab-df-container\">\n",
              "      <div>\n",
              "<style scoped>\n",
              "    .dataframe tbody tr th:only-of-type {\n",
              "        vertical-align: middle;\n",
              "    }\n",
              "\n",
              "    .dataframe tbody tr th {\n",
              "        vertical-align: top;\n",
              "    }\n",
              "\n",
              "    .dataframe thead th {\n",
              "        text-align: right;\n",
              "    }\n",
              "</style>\n",
              "<table border=\"1\" class=\"dataframe\">\n",
              "  <thead>\n",
              "    <tr style=\"text-align: right;\">\n",
              "      <th></th>\n",
              "      <th>subject</th>\n",
              "      <th>predicate</th>\n",
              "      <th>object</th>\n",
              "    </tr>\n",
              "  </thead>\n",
              "  <tbody>\n",
              "    <tr>\n",
              "      <th>0</th>\n",
              "      <td>wkg:656260805</td>\n",
              "      <td>wkgs:addrPlace</td>\n",
              "      <td>wkg:1586413209</td>\n",
              "    </tr>\n",
              "    <tr>\n",
              "      <th>1</th>\n",
              "      <td>wkg:8423662676</td>\n",
              "      <td>wkgs:addrPlace</td>\n",
              "      <td>wkg:362658024</td>\n",
              "    </tr>\n",
              "    <tr>\n",
              "      <th>2</th>\n",
              "      <td>wkg:3722193229</td>\n",
              "      <td>wkgs:addrPlace</td>\n",
              "      <td>wkg:3009719004</td>\n",
              "    </tr>\n",
              "    <tr>\n",
              "      <th>3</th>\n",
              "      <td>wkg:2995637431</td>\n",
              "      <td>wkgs:addrPlace</td>\n",
              "      <td>wkg:3009701150</td>\n",
              "    </tr>\n",
              "    <tr>\n",
              "      <th>4</th>\n",
              "      <td>wkg:4063046696</td>\n",
              "      <td>wkgs:addrPlace</td>\n",
              "      <td>wkg:31345707</td>\n",
              "    </tr>\n",
              "  </tbody>\n",
              "</table>\n",
              "</div>\n",
              "      <button class=\"colab-df-convert\" onclick=\"convertToInteractive('df-709642d0-9a70-460a-9903-09387fbcda51')\"\n",
              "              title=\"Convert this dataframe to an interactive table.\"\n",
              "              style=\"display:none;\">\n",
              "        \n",
              "  <svg xmlns=\"http://www.w3.org/2000/svg\" height=\"24px\"viewBox=\"0 0 24 24\"\n",
              "       width=\"24px\">\n",
              "    <path d=\"M0 0h24v24H0V0z\" fill=\"none\"/>\n",
              "    <path d=\"M18.56 5.44l.94 2.06.94-2.06 2.06-.94-2.06-.94-.94-2.06-.94 2.06-2.06.94zm-11 1L8.5 8.5l.94-2.06 2.06-.94-2.06-.94L8.5 2.5l-.94 2.06-2.06.94zm10 10l.94 2.06.94-2.06 2.06-.94-2.06-.94-.94-2.06-.94 2.06-2.06.94z\"/><path d=\"M17.41 7.96l-1.37-1.37c-.4-.4-.92-.59-1.43-.59-.52 0-1.04.2-1.43.59L10.3 9.45l-7.72 7.72c-.78.78-.78 2.05 0 2.83L4 21.41c.39.39.9.59 1.41.59.51 0 1.02-.2 1.41-.59l7.78-7.78 2.81-2.81c.8-.78.8-2.07 0-2.86zM5.41 20L4 18.59l7.72-7.72 1.47 1.35L5.41 20z\"/>\n",
              "  </svg>\n",
              "      </button>\n",
              "      \n",
              "  <style>\n",
              "    .colab-df-container {\n",
              "      display:flex;\n",
              "      flex-wrap:wrap;\n",
              "      gap: 12px;\n",
              "    }\n",
              "\n",
              "    .colab-df-convert {\n",
              "      background-color: #E8F0FE;\n",
              "      border: none;\n",
              "      border-radius: 50%;\n",
              "      cursor: pointer;\n",
              "      display: none;\n",
              "      fill: #1967D2;\n",
              "      height: 32px;\n",
              "      padding: 0 0 0 0;\n",
              "      width: 32px;\n",
              "    }\n",
              "\n",
              "    .colab-df-convert:hover {\n",
              "      background-color: #E2EBFA;\n",
              "      box-shadow: 0px 1px 2px rgba(60, 64, 67, 0.3), 0px 1px 3px 1px rgba(60, 64, 67, 0.15);\n",
              "      fill: #174EA6;\n",
              "    }\n",
              "\n",
              "    [theme=dark] .colab-df-convert {\n",
              "      background-color: #3B4455;\n",
              "      fill: #D2E3FC;\n",
              "    }\n",
              "\n",
              "    [theme=dark] .colab-df-convert:hover {\n",
              "      background-color: #434B5C;\n",
              "      box-shadow: 0px 1px 3px 1px rgba(0, 0, 0, 0.15);\n",
              "      filter: drop-shadow(0px 1px 2px rgba(0, 0, 0, 0.3));\n",
              "      fill: #FFFFFF;\n",
              "    }\n",
              "  </style>\n",
              "\n",
              "      <script>\n",
              "        const buttonEl =\n",
              "          document.querySelector('#df-709642d0-9a70-460a-9903-09387fbcda51 button.colab-df-convert');\n",
              "        buttonEl.style.display =\n",
              "          google.colab.kernel.accessAllowed ? 'block' : 'none';\n",
              "\n",
              "        async function convertToInteractive(key) {\n",
              "          const element = document.querySelector('#df-709642d0-9a70-460a-9903-09387fbcda51');\n",
              "          const dataTable =\n",
              "            await google.colab.kernel.invokeFunction('convertToInteractive',\n",
              "                                                     [key], {});\n",
              "          if (!dataTable) return;\n",
              "\n",
              "          const docLinkHtml = 'Like what you see? Visit the ' +\n",
              "            '<a target=\"_blank\" href=https://colab.research.google.com/notebooks/data_table.ipynb>data table notebook</a>'\n",
              "            + ' to learn more about interactive tables.';\n",
              "          element.innerHTML = '';\n",
              "          dataTable['output_type'] = 'display_data';\n",
              "          await google.colab.output.renderOutput(dataTable, element);\n",
              "          const docLink = document.createElement('div');\n",
              "          docLink.innerHTML = docLinkHtml;\n",
              "          element.appendChild(docLink);\n",
              "        }\n",
              "      </script>\n",
              "    </div>\n",
              "  </div>\n",
              "  "
            ],
            "text/plain": [
              "          subject       predicate          object\n",
              "0   wkg:656260805  wkgs:addrPlace  wkg:1586413209\n",
              "1  wkg:8423662676  wkgs:addrPlace   wkg:362658024\n",
              "2  wkg:3722193229  wkgs:addrPlace  wkg:3009719004\n",
              "3  wkg:2995637431  wkgs:addrPlace  wkg:3009701150\n",
              "4  wkg:4063046696  wkgs:addrPlace    wkg:31345707"
            ]
          },
          "execution_count": 3,
          "metadata": {},
          "output_type": "execute_result"
        }
      ],
      "source": [
        "# load all matched s-p-o triples\n",
        "data = pd.read_csv('spo_triples_iter1.zip')\n",
        "data.head()"
      ]
    },
    {
      "cell_type": "code",
      "execution_count": null,
      "metadata": {
        "colab": {
          "base_uri": "https://localhost:8080/"
        },
        "id": "YRUHznEQWkse",
        "outputId": "66fdc9cf-da04-41c9-ddd9-8fb3d788f350"
      },
      "outputs": [
        {
          "data": {
            "text/plain": [
              "(392730, 3)"
            ]
          },
          "execution_count": 6,
          "metadata": {},
          "output_type": "execute_result"
        }
      ],
      "source": [
        "data.shape"
      ]
    },
    {
      "cell_type": "code",
      "execution_count": null,
      "metadata": {
        "colab": {
          "base_uri": "https://localhost:8080/"
        },
        "id": "5K70RgezWe7j",
        "outputId": "5f76f3d7-0e96-4d98-b5ea-4558dde874dc"
      },
      "outputs": [
        {
          "data": {
            "text/plain": [
              "wkgs:isInCountry        247521\n",
              "wkgs:isInContinent       73965\n",
              "wkgs:isIn                31935\n",
              "wkgs:addrPlace           22186\n",
              "wkgs:country              7460\n",
              "wkgs:addrState            3104\n",
              "wkgs:isInCounty           3066\n",
              "wkgs:addrSuburb           2284\n",
              "wkgs:addrProvince          797\n",
              "wkgs:capitalCity           166\n",
              "wkgs:addrSubdistrict       104\n",
              "wkgs:addrCountry            52\n",
              "wkgs:addrDistrict           48\n",
              "wkgs:addrHamlet             38\n",
              "Name: predicate, dtype: int64"
            ]
          },
          "execution_count": 18,
          "metadata": {},
          "output_type": "execute_result"
        }
      ],
      "source": [
        "data['predicate'].value_counts()"
      ]
    },
    {
      "cell_type": "code",
      "execution_count": null,
      "metadata": {
        "colab": {
          "base_uri": "https://localhost:8080/"
        },
        "id": "PN85kbX0XNW-",
        "outputId": "53e4cd70-8c24-4dc8-da8f-2e90214afec2"
      },
      "outputs": [
        {
          "data": {
            "text/plain": [
              "wkg:36966065     46397\n",
              "wkg:36966057     17592\n",
              "wkg:36966069      9641\n",
              "wkg:36966063       296\n",
              "wkg:36966060        22\n",
              "wkg:249399679       17\n",
              "Name: object, dtype: int64"
            ]
          },
          "execution_count": 83,
          "metadata": {},
          "output_type": "execute_result"
        }
      ],
      "source": [
        "# check each predicate value_counts\n",
        "data[data['predicate'] == 'wkgs:isInContinent']['object'].value_counts()"
      ]
    },
    {
      "attachments": {},
      "cell_type": "markdown",
      "metadata": {
        "id": "RmnXoBphV8Ny"
      },
      "source": [
        "## WikiData matched triples"
      ]
    },
    {
      "cell_type": "code",
      "execution_count": null,
      "metadata": {
        "colab": {
          "base_uri": "https://localhost:8080/"
        },
        "id": "FmFuxK_-VpxB",
        "outputId": "e86322fe-c565-4c3f-dc6e-0cbe19254ae3"
      },
      "outputs": [
        {
          "data": {
            "text/plain": [
              "(172394, 3)"
            ]
          },
          "execution_count": 2,
          "metadata": {},
          "output_type": "execute_result"
        }
      ],
      "source": [
        "wd_data = pd.read_csv('wikidata_matched_triples.zip')\n",
        "wd_data.shape"
      ]
    },
    {
      "cell_type": "code",
      "execution_count": null,
      "metadata": {
        "colab": {
          "base_uri": "https://localhost:8080/",
          "height": 424
        },
        "id": "WrXKKT8RWA25",
        "outputId": "0c2675a4-d5fd-4510-9b72-5522ef05961b"
      },
      "outputs": [
        {
          "data": {
            "text/html": [
              "\n",
              "  <div id=\"df-1a06b6c6-c641-4576-9a46-2a6b85a7851b\">\n",
              "    <div class=\"colab-df-container\">\n",
              "      <div>\n",
              "<style scoped>\n",
              "    .dataframe tbody tr th:only-of-type {\n",
              "        vertical-align: middle;\n",
              "    }\n",
              "\n",
              "    .dataframe tbody tr th {\n",
              "        vertical-align: top;\n",
              "    }\n",
              "\n",
              "    .dataframe thead th {\n",
              "        text-align: right;\n",
              "    }\n",
              "</style>\n",
              "<table border=\"1\" class=\"dataframe\">\n",
              "  <thead>\n",
              "    <tr style=\"text-align: right;\">\n",
              "      <th></th>\n",
              "      <th>subject</th>\n",
              "      <th>predicate</th>\n",
              "      <th>object</th>\n",
              "    </tr>\n",
              "  </thead>\n",
              "  <tbody>\n",
              "    <tr>\n",
              "      <th>0</th>\n",
              "      <td>wkg:6595803911</td>\n",
              "      <td>wkgs:addrCountry</td>\n",
              "      <td>wkg:424317935</td>\n",
              "    </tr>\n",
              "    <tr>\n",
              "      <th>1</th>\n",
              "      <td>wkg:663103163</td>\n",
              "      <td>wkgs:addrCountry</td>\n",
              "      <td>wkg:424317935</td>\n",
              "    </tr>\n",
              "    <tr>\n",
              "      <th>2</th>\n",
              "      <td>wkg:1438239658</td>\n",
              "      <td>wkgs:addrCountry</td>\n",
              "      <td>wkg:424314830</td>\n",
              "    </tr>\n",
              "    <tr>\n",
              "      <th>3</th>\n",
              "      <td>wkg:1438239675</td>\n",
              "      <td>wkgs:addrCountry</td>\n",
              "      <td>wkg:424314830</td>\n",
              "    </tr>\n",
              "    <tr>\n",
              "      <th>4</th>\n",
              "      <td>wkg:1438239686</td>\n",
              "      <td>wkgs:addrCountry</td>\n",
              "      <td>wkg:424314830</td>\n",
              "    </tr>\n",
              "    <tr>\n",
              "      <th>...</th>\n",
              "      <td>...</td>\n",
              "      <td>...</td>\n",
              "      <td>...</td>\n",
              "    </tr>\n",
              "    <tr>\n",
              "      <th>172389</th>\n",
              "      <td>wkg:594445489</td>\n",
              "      <td>wkgs:isIn</td>\n",
              "      <td>wkg:304951006</td>\n",
              "    </tr>\n",
              "    <tr>\n",
              "      <th>172390</th>\n",
              "      <td>wkg:594664488</td>\n",
              "      <td>wkgs:isIn</td>\n",
              "      <td>wkg:304951006</td>\n",
              "    </tr>\n",
              "    <tr>\n",
              "      <th>172391</th>\n",
              "      <td>wkg:59628055</td>\n",
              "      <td>wkgs:isIn</td>\n",
              "      <td>wkg:304951009</td>\n",
              "    </tr>\n",
              "    <tr>\n",
              "      <th>172392</th>\n",
              "      <td>wkg:59633024</td>\n",
              "      <td>wkgs:isIn</td>\n",
              "      <td>wkg:304951009</td>\n",
              "    </tr>\n",
              "    <tr>\n",
              "      <th>172393</th>\n",
              "      <td>wkg:692950786</td>\n",
              "      <td>wkgs:isIn</td>\n",
              "      <td>wkg:304951009</td>\n",
              "    </tr>\n",
              "  </tbody>\n",
              "</table>\n",
              "<p>172394 rows × 3 columns</p>\n",
              "</div>\n",
              "      <button class=\"colab-df-convert\" onclick=\"convertToInteractive('df-1a06b6c6-c641-4576-9a46-2a6b85a7851b')\"\n",
              "              title=\"Convert this dataframe to an interactive table.\"\n",
              "              style=\"display:none;\">\n",
              "        \n",
              "  <svg xmlns=\"http://www.w3.org/2000/svg\" height=\"24px\"viewBox=\"0 0 24 24\"\n",
              "       width=\"24px\">\n",
              "    <path d=\"M0 0h24v24H0V0z\" fill=\"none\"/>\n",
              "    <path d=\"M18.56 5.44l.94 2.06.94-2.06 2.06-.94-2.06-.94-.94-2.06-.94 2.06-2.06.94zm-11 1L8.5 8.5l.94-2.06 2.06-.94-2.06-.94L8.5 2.5l-.94 2.06-2.06.94zm10 10l.94 2.06.94-2.06 2.06-.94-2.06-.94-.94-2.06-.94 2.06-2.06.94z\"/><path d=\"M17.41 7.96l-1.37-1.37c-.4-.4-.92-.59-1.43-.59-.52 0-1.04.2-1.43.59L10.3 9.45l-7.72 7.72c-.78.78-.78 2.05 0 2.83L4 21.41c.39.39.9.59 1.41.59.51 0 1.02-.2 1.41-.59l7.78-7.78 2.81-2.81c.8-.78.8-2.07 0-2.86zM5.41 20L4 18.59l7.72-7.72 1.47 1.35L5.41 20z\"/>\n",
              "  </svg>\n",
              "      </button>\n",
              "      \n",
              "  <style>\n",
              "    .colab-df-container {\n",
              "      display:flex;\n",
              "      flex-wrap:wrap;\n",
              "      gap: 12px;\n",
              "    }\n",
              "\n",
              "    .colab-df-convert {\n",
              "      background-color: #E8F0FE;\n",
              "      border: none;\n",
              "      border-radius: 50%;\n",
              "      cursor: pointer;\n",
              "      display: none;\n",
              "      fill: #1967D2;\n",
              "      height: 32px;\n",
              "      padding: 0 0 0 0;\n",
              "      width: 32px;\n",
              "    }\n",
              "\n",
              "    .colab-df-convert:hover {\n",
              "      background-color: #E2EBFA;\n",
              "      box-shadow: 0px 1px 2px rgba(60, 64, 67, 0.3), 0px 1px 3px 1px rgba(60, 64, 67, 0.15);\n",
              "      fill: #174EA6;\n",
              "    }\n",
              "\n",
              "    [theme=dark] .colab-df-convert {\n",
              "      background-color: #3B4455;\n",
              "      fill: #D2E3FC;\n",
              "    }\n",
              "\n",
              "    [theme=dark] .colab-df-convert:hover {\n",
              "      background-color: #434B5C;\n",
              "      box-shadow: 0px 1px 3px 1px rgba(0, 0, 0, 0.15);\n",
              "      filter: drop-shadow(0px 1px 2px rgba(0, 0, 0, 0.3));\n",
              "      fill: #FFFFFF;\n",
              "    }\n",
              "  </style>\n",
              "\n",
              "      <script>\n",
              "        const buttonEl =\n",
              "          document.querySelector('#df-1a06b6c6-c641-4576-9a46-2a6b85a7851b button.colab-df-convert');\n",
              "        buttonEl.style.display =\n",
              "          google.colab.kernel.accessAllowed ? 'block' : 'none';\n",
              "\n",
              "        async function convertToInteractive(key) {\n",
              "          const element = document.querySelector('#df-1a06b6c6-c641-4576-9a46-2a6b85a7851b');\n",
              "          const dataTable =\n",
              "            await google.colab.kernel.invokeFunction('convertToInteractive',\n",
              "                                                     [key], {});\n",
              "          if (!dataTable) return;\n",
              "\n",
              "          const docLinkHtml = 'Like what you see? Visit the ' +\n",
              "            '<a target=\"_blank\" href=https://colab.research.google.com/notebooks/data_table.ipynb>data table notebook</a>'\n",
              "            + ' to learn more about interactive tables.';\n",
              "          element.innerHTML = '';\n",
              "          dataTable['output_type'] = 'display_data';\n",
              "          await google.colab.output.renderOutput(dataTable, element);\n",
              "          const docLink = document.createElement('div');\n",
              "          docLink.innerHTML = docLinkHtml;\n",
              "          element.appendChild(docLink);\n",
              "        }\n",
              "      </script>\n",
              "    </div>\n",
              "  </div>\n",
              "  "
            ],
            "text/plain": [
              "               subject         predicate         object\n",
              "0       wkg:6595803911  wkgs:addrCountry  wkg:424317935\n",
              "1        wkg:663103163  wkgs:addrCountry  wkg:424317935\n",
              "2       wkg:1438239658  wkgs:addrCountry  wkg:424314830\n",
              "3       wkg:1438239675  wkgs:addrCountry  wkg:424314830\n",
              "4       wkg:1438239686  wkgs:addrCountry  wkg:424314830\n",
              "...                ...               ...            ...\n",
              "172389   wkg:594445489         wkgs:isIn  wkg:304951006\n",
              "172390   wkg:594664488         wkgs:isIn  wkg:304951006\n",
              "172391    wkg:59628055         wkgs:isIn  wkg:304951009\n",
              "172392    wkg:59633024         wkgs:isIn  wkg:304951009\n",
              "172393   wkg:692950786         wkgs:isIn  wkg:304951009\n",
              "\n",
              "[172394 rows x 3 columns]"
            ]
          },
          "execution_count": 3,
          "metadata": {},
          "output_type": "execute_result"
        }
      ],
      "source": [
        "wd_data"
      ]
    },
    {
      "cell_type": "code",
      "execution_count": null,
      "metadata": {
        "colab": {
          "base_uri": "https://localhost:8080/"
        },
        "id": "A3GdBQ2PWdRj",
        "outputId": "267fee05-d194-4bb2-8a16-e6d24d628f89"
      },
      "outputs": [
        {
          "data": {
            "text/plain": [
              "wkgs:addrCountry      101171\n",
              "wkgs:isInCountry       47312\n",
              "wkgs:isIn              20101\n",
              "wkgs:country            2877\n",
              "wkgs:addrPlace           449\n",
              "wkgs:isInContinent       261\n",
              "wkgs:capitalCity         223\n",
              "Name: predicate, dtype: int64"
            ]
          },
          "execution_count": 4,
          "metadata": {},
          "output_type": "execute_result"
        }
      ],
      "source": [
        "wd_data['predicate'].value_counts()"
      ]
    },
    {
      "attachments": {},
      "cell_type": "markdown",
      "metadata": {
        "id": "mbQ0h5He5FYj"
      },
      "source": [
        "## Merging WKG and Wikidata to create stratified split"
      ]
    },
    {
      "cell_type": "code",
      "execution_count": null,
      "metadata": {
        "colab": {
          "base_uri": "https://localhost:8080/"
        },
        "id": "AUdDNp745VOu",
        "outputId": "41adde37-7d94-499c-cfcb-9169a9633737"
      },
      "outputs": [
        {
          "data": {
            "text/plain": [
              "(392726, 3)"
            ]
          },
          "execution_count": 92,
          "metadata": {},
          "output_type": "execute_result"
        }
      ],
      "source": [
        "wkg_data = pd.read_csv('spo_triples_iter1_cleaned.zip')\n",
        "wkg_data.shape"
      ]
    },
    {
      "cell_type": "code",
      "execution_count": null,
      "metadata": {
        "colab": {
          "base_uri": "https://localhost:8080/"
        },
        "id": "ZSPHi4fr7Ksa",
        "outputId": "c5179a0c-b95b-4b74-e4ed-b22bfb276ed9"
      },
      "outputs": [
        {
          "data": {
            "text/plain": [
              "wkgs:isInCountry        247521\n",
              "wkgs:isInContinent       73965\n",
              "wkgs:isIn                31935\n",
              "wkgs:addrPlace           22186\n",
              "wkgs:country              7460\n",
              "wkgs:addrState            3104\n",
              "wkgs:isInCounty           3066\n",
              "wkgs:addrSuburb           2284\n",
              "wkgs:addrProvince          797\n",
              "wkgs:capitalCity           166\n",
              "wkgs:addrSubdistrict       104\n",
              "wkgs:addrCountry            52\n",
              "wkgs:addrDistrict           48\n",
              "wkgs:addrHamlet             38\n",
              "Name: predicate, dtype: int64"
            ]
          },
          "execution_count": 93,
          "metadata": {},
          "output_type": "execute_result"
        }
      ],
      "source": [
        "wkg_data['predicate'].value_counts()"
      ]
    },
    {
      "cell_type": "code",
      "execution_count": null,
      "metadata": {
        "colab": {
          "base_uri": "https://localhost:8080/"
        },
        "id": "KMVqbkjn6xmL",
        "outputId": "638d1c68-9286-4abb-9042-84dc1dfee30b"
      },
      "outputs": [
        {
          "data": {
            "text/plain": [
              "(172394, 3)"
            ]
          },
          "execution_count": 94,
          "metadata": {},
          "output_type": "execute_result"
        }
      ],
      "source": [
        "wd_data = pd.read_csv('wikidata_matched_triples.zip')\n",
        "wd_data.shape"
      ]
    },
    {
      "cell_type": "code",
      "execution_count": null,
      "metadata": {
        "colab": {
          "base_uri": "https://localhost:8080/"
        },
        "id": "hZG368Sg7Dq3",
        "outputId": "b37a8da8-84e8-4fe9-b70a-db094859f8a5"
      },
      "outputs": [
        {
          "data": {
            "text/plain": [
              "wkgs:addrCountry      101171\n",
              "wkgs:isInCountry       47312\n",
              "wkgs:isIn              20101\n",
              "wkgs:country            2877\n",
              "wkgs:addrPlace           449\n",
              "wkgs:isInContinent       261\n",
              "wkgs:capitalCity         223\n",
              "Name: predicate, dtype: int64"
            ]
          },
          "execution_count": 95,
          "metadata": {},
          "output_type": "execute_result"
        }
      ],
      "source": [
        "wd_data['predicate'].value_counts()"
      ]
    },
    {
      "cell_type": "code",
      "execution_count": null,
      "metadata": {
        "colab": {
          "base_uri": "https://localhost:8080/"
        },
        "id": "VKHmupRSzkzQ",
        "outputId": "98daf9a9-a0f3-44f3-d66f-d62ea4247ba9"
      },
      "outputs": [
        {
          "data": {
            "text/plain": [
              "0.24927360034255477"
            ]
          },
          "execution_count": 96,
          "metadata": {},
          "output_type": "execute_result"
        }
      ],
      "source": [
        "130402/(392726 + 130402)"
      ]
    },
    {
      "cell_type": "code",
      "execution_count": null,
      "metadata": {
        "id": "ZWmucY6PQrdg"
      },
      "outputs": [],
      "source": [
        "# wikidata matched which are not present in worldkg matches\n",
        "wd_left_join_result = wd_data.merge(wkg_data.drop_duplicates(), on = ['subject', 'predicate', 'object'], \n",
        "                   how = 'left', indicator = True)"
      ]
    },
    {
      "cell_type": "code",
      "execution_count": null,
      "metadata": {
        "colab": {
          "base_uri": "https://localhost:8080/"
        },
        "id": "zfG-wimYROO2",
        "outputId": "67c5fb09-1707-4cf6-be07-5efc8e2dd699"
      },
      "outputs": [
        {
          "data": {
            "text/plain": [
              "(130402, 3)"
            ]
          },
          "execution_count": 98,
          "metadata": {},
          "output_type": "execute_result"
        }
      ],
      "source": [
        "# triples in wikidata match which are not present in worldkg\n",
        "unique_wd_data = wd_data[wd_left_join_result['_merge'] == 'left_only']\n",
        "unique_wd_data.shape"
      ]
    },
    {
      "cell_type": "code",
      "execution_count": null,
      "metadata": {
        "colab": {
          "base_uri": "https://localhost:8080/"
        },
        "id": "w4rzE-EoRwUI",
        "outputId": "0d45ac27-60b9-4cd1-ead6-1fc1a9103eec"
      },
      "outputs": [
        {
          "data": {
            "text/plain": [
              "wkgs:addrCountry      101171\n",
              "wkgs:isIn              20068\n",
              "wkgs:isInCountry        5750\n",
              "wkgs:country            2843\n",
              "wkgs:addrPlace           448\n",
              "wkgs:capitalCity          84\n",
              "wkgs:isInContinent        38\n",
              "Name: predicate, dtype: int64"
            ]
          },
          "execution_count": 99,
          "metadata": {},
          "output_type": "execute_result"
        }
      ],
      "source": [
        "unique_wd_data['predicate'].value_counts()"
      ]
    },
    {
      "cell_type": "code",
      "execution_count": null,
      "metadata": {
        "id": "7kxrqB7eR0kJ"
      },
      "outputs": [],
      "source": [
        "# extract 10% entries from wd_data for predicate addrCountry to put in training/val data\n",
        "wd_addrCountry_rows = unique_wd_data[unique_wd_data['predicate'] == 'wkgs:addrCountry']\n",
        "\n",
        "wd_remaining_addrCountry, wd_addrCountry_wkg_merge = train_test_split(wd_addrCountry_rows, test_size = 0.1, random_state = 0)"
      ]
    },
    {
      "cell_type": "code",
      "execution_count": null,
      "metadata": {
        "colab": {
          "base_uri": "https://localhost:8080/",
          "height": 424
        },
        "id": "WqMdsqQcUdxd",
        "outputId": "59f4e29b-e0e8-4223-884a-9a3d0415b932"
      },
      "outputs": [
        {
          "data": {
            "text/html": [
              "\n",
              "  <div id=\"df-d0da5abb-be12-45ec-a1aa-dea37a174b2b\">\n",
              "    <div class=\"colab-df-container\">\n",
              "      <div>\n",
              "<style scoped>\n",
              "    .dataframe tbody tr th:only-of-type {\n",
              "        vertical-align: middle;\n",
              "    }\n",
              "\n",
              "    .dataframe tbody tr th {\n",
              "        vertical-align: top;\n",
              "    }\n",
              "\n",
              "    .dataframe thead th {\n",
              "        text-align: right;\n",
              "    }\n",
              "</style>\n",
              "<table border=\"1\" class=\"dataframe\">\n",
              "  <thead>\n",
              "    <tr style=\"text-align: right;\">\n",
              "      <th></th>\n",
              "      <th>subject</th>\n",
              "      <th>predicate</th>\n",
              "      <th>object</th>\n",
              "    </tr>\n",
              "  </thead>\n",
              "  <tbody>\n",
              "    <tr>\n",
              "      <th>0</th>\n",
              "      <td>wkg:8727785383</td>\n",
              "      <td>wkgs:country</td>\n",
              "      <td>wkg:424317935</td>\n",
              "    </tr>\n",
              "    <tr>\n",
              "      <th>1</th>\n",
              "      <td>wkg:8728315675</td>\n",
              "      <td>wkgs:country</td>\n",
              "      <td>wkg:424317935</td>\n",
              "    </tr>\n",
              "    <tr>\n",
              "      <th>2</th>\n",
              "      <td>wkg:8728472554</td>\n",
              "      <td>wkgs:country</td>\n",
              "      <td>wkg:424317935</td>\n",
              "    </tr>\n",
              "    <tr>\n",
              "      <th>3</th>\n",
              "      <td>wkg:8728472555</td>\n",
              "      <td>wkgs:country</td>\n",
              "      <td>wkg:424317935</td>\n",
              "    </tr>\n",
              "    <tr>\n",
              "      <th>4</th>\n",
              "      <td>wkg:8728700807</td>\n",
              "      <td>wkgs:country</td>\n",
              "      <td>wkg:424313760</td>\n",
              "    </tr>\n",
              "    <tr>\n",
              "      <th>...</th>\n",
              "      <td>...</td>\n",
              "      <td>...</td>\n",
              "      <td>...</td>\n",
              "    </tr>\n",
              "    <tr>\n",
              "      <th>120279</th>\n",
              "      <td>wkg:1135414237</td>\n",
              "      <td>wkgs:addrCountry</td>\n",
              "      <td>wkg:424314830</td>\n",
              "    </tr>\n",
              "    <tr>\n",
              "      <th>120280</th>\n",
              "      <td>wkg:1197106724</td>\n",
              "      <td>wkgs:addrCountry</td>\n",
              "      <td>wkg:424314830</td>\n",
              "    </tr>\n",
              "    <tr>\n",
              "      <th>120281</th>\n",
              "      <td>wkg:945163900</td>\n",
              "      <td>wkgs:addrCountry</td>\n",
              "      <td>wkg:424314830</td>\n",
              "    </tr>\n",
              "    <tr>\n",
              "      <th>120282</th>\n",
              "      <td>wkg:961947169</td>\n",
              "      <td>wkgs:addrCountry</td>\n",
              "      <td>wkg:424314830</td>\n",
              "    </tr>\n",
              "    <tr>\n",
              "      <th>120283</th>\n",
              "      <td>wkg:243014737</td>\n",
              "      <td>wkgs:addrCountry</td>\n",
              "      <td>wkg:249399300</td>\n",
              "    </tr>\n",
              "  </tbody>\n",
              "</table>\n",
              "<p>120284 rows × 3 columns</p>\n",
              "</div>\n",
              "      <button class=\"colab-df-convert\" onclick=\"convertToInteractive('df-d0da5abb-be12-45ec-a1aa-dea37a174b2b')\"\n",
              "              title=\"Convert this dataframe to an interactive table.\"\n",
              "              style=\"display:none;\">\n",
              "        \n",
              "  <svg xmlns=\"http://www.w3.org/2000/svg\" height=\"24px\"viewBox=\"0 0 24 24\"\n",
              "       width=\"24px\">\n",
              "    <path d=\"M0 0h24v24H0V0z\" fill=\"none\"/>\n",
              "    <path d=\"M18.56 5.44l.94 2.06.94-2.06 2.06-.94-2.06-.94-.94-2.06-.94 2.06-2.06.94zm-11 1L8.5 8.5l.94-2.06 2.06-.94-2.06-.94L8.5 2.5l-.94 2.06-2.06.94zm10 10l.94 2.06.94-2.06 2.06-.94-2.06-.94-.94-2.06-.94 2.06-2.06.94z\"/><path d=\"M17.41 7.96l-1.37-1.37c-.4-.4-.92-.59-1.43-.59-.52 0-1.04.2-1.43.59L10.3 9.45l-7.72 7.72c-.78.78-.78 2.05 0 2.83L4 21.41c.39.39.9.59 1.41.59.51 0 1.02-.2 1.41-.59l7.78-7.78 2.81-2.81c.8-.78.8-2.07 0-2.86zM5.41 20L4 18.59l7.72-7.72 1.47 1.35L5.41 20z\"/>\n",
              "  </svg>\n",
              "      </button>\n",
              "      \n",
              "  <style>\n",
              "    .colab-df-container {\n",
              "      display:flex;\n",
              "      flex-wrap:wrap;\n",
              "      gap: 12px;\n",
              "    }\n",
              "\n",
              "    .colab-df-convert {\n",
              "      background-color: #E8F0FE;\n",
              "      border: none;\n",
              "      border-radius: 50%;\n",
              "      cursor: pointer;\n",
              "      display: none;\n",
              "      fill: #1967D2;\n",
              "      height: 32px;\n",
              "      padding: 0 0 0 0;\n",
              "      width: 32px;\n",
              "    }\n",
              "\n",
              "    .colab-df-convert:hover {\n",
              "      background-color: #E2EBFA;\n",
              "      box-shadow: 0px 1px 2px rgba(60, 64, 67, 0.3), 0px 1px 3px 1px rgba(60, 64, 67, 0.15);\n",
              "      fill: #174EA6;\n",
              "    }\n",
              "\n",
              "    [theme=dark] .colab-df-convert {\n",
              "      background-color: #3B4455;\n",
              "      fill: #D2E3FC;\n",
              "    }\n",
              "\n",
              "    [theme=dark] .colab-df-convert:hover {\n",
              "      background-color: #434B5C;\n",
              "      box-shadow: 0px 1px 3px 1px rgba(0, 0, 0, 0.15);\n",
              "      filter: drop-shadow(0px 1px 2px rgba(0, 0, 0, 0.3));\n",
              "      fill: #FFFFFF;\n",
              "    }\n",
              "  </style>\n",
              "\n",
              "      <script>\n",
              "        const buttonEl =\n",
              "          document.querySelector('#df-d0da5abb-be12-45ec-a1aa-dea37a174b2b button.colab-df-convert');\n",
              "        buttonEl.style.display =\n",
              "          google.colab.kernel.accessAllowed ? 'block' : 'none';\n",
              "\n",
              "        async function convertToInteractive(key) {\n",
              "          const element = document.querySelector('#df-d0da5abb-be12-45ec-a1aa-dea37a174b2b');\n",
              "          const dataTable =\n",
              "            await google.colab.kernel.invokeFunction('convertToInteractive',\n",
              "                                                     [key], {});\n",
              "          if (!dataTable) return;\n",
              "\n",
              "          const docLinkHtml = 'Like what you see? Visit the ' +\n",
              "            '<a target=\"_blank\" href=https://colab.research.google.com/notebooks/data_table.ipynb>data table notebook</a>'\n",
              "            + ' to learn more about interactive tables.';\n",
              "          element.innerHTML = '';\n",
              "          dataTable['output_type'] = 'display_data';\n",
              "          await google.colab.output.renderOutput(dataTable, element);\n",
              "          const docLink = document.createElement('div');\n",
              "          docLink.innerHTML = docLinkHtml;\n",
              "          element.appendChild(docLink);\n",
              "        }\n",
              "      </script>\n",
              "    </div>\n",
              "  </div>\n",
              "  "
            ],
            "text/plain": [
              "               subject         predicate         object\n",
              "0       wkg:8727785383      wkgs:country  wkg:424317935\n",
              "1       wkg:8728315675      wkgs:country  wkg:424317935\n",
              "2       wkg:8728472554      wkgs:country  wkg:424317935\n",
              "3       wkg:8728472555      wkgs:country  wkg:424317935\n",
              "4       wkg:8728700807      wkgs:country  wkg:424313760\n",
              "...                ...               ...            ...\n",
              "120279  wkg:1135414237  wkgs:addrCountry  wkg:424314830\n",
              "120280  wkg:1197106724  wkgs:addrCountry  wkg:424314830\n",
              "120281   wkg:945163900  wkgs:addrCountry  wkg:424314830\n",
              "120282   wkg:961947169  wkgs:addrCountry  wkg:424314830\n",
              "120283   wkg:243014737  wkgs:addrCountry  wkg:249399300\n",
              "\n",
              "[120284 rows x 3 columns]"
            ]
          },
          "execution_count": 101,
          "metadata": {},
          "output_type": "execute_result"
        }
      ],
      "source": [
        "not_wd_addrCountry_rows = unique_wd_data[unique_wd_data['predicate'] != 'wkgs:addrCountry']\n",
        "\n",
        "unique_wd_data_2 = pd.concat([not_wd_addrCountry_rows, wd_remaining_addrCountry], ignore_index = True)\n",
        "unique_wd_data_2.reset_index(drop = True)"
      ]
    },
    {
      "cell_type": "code",
      "execution_count": null,
      "metadata": {
        "colab": {
          "base_uri": "https://localhost:8080/"
        },
        "id": "CxdnXdf0Wrf5",
        "outputId": "8c796ebb-a2bd-42d7-bd38-ebef2d4ae013"
      },
      "outputs": [
        {
          "data": {
            "text/plain": [
              "(120284, 3)"
            ]
          },
          "execution_count": 102,
          "metadata": {},
          "output_type": "execute_result"
        }
      ],
      "source": [
        "unique_wd_data_2.shape"
      ]
    },
    {
      "cell_type": "code",
      "execution_count": null,
      "metadata": {
        "colab": {
          "base_uri": "https://localhost:8080/"
        },
        "id": "sxJnLFQeWtEa",
        "outputId": "d58b1445-00cb-47ed-db70-534b7567f636"
      },
      "outputs": [
        {
          "data": {
            "text/plain": [
              "wkgs:addrCountry      91053\n",
              "wkgs:isIn             20068\n",
              "wkgs:isInCountry       5750\n",
              "wkgs:country           2843\n",
              "wkgs:addrPlace          448\n",
              "wkgs:capitalCity         84\n",
              "wkgs:isInContinent       38\n",
              "Name: predicate, dtype: int64"
            ]
          },
          "execution_count": 103,
          "metadata": {},
          "output_type": "execute_result"
        }
      ],
      "source": [
        "unique_wd_data_2['predicate'].value_counts()"
      ]
    },
    {
      "cell_type": "code",
      "execution_count": null,
      "metadata": {
        "colab": {
          "base_uri": "https://localhost:8080/"
        },
        "id": "8YU5NbNgW8vZ",
        "outputId": "202e9cec-e4c1-4dc5-d113-3aedc7d847a4"
      },
      "outputs": [
        {
          "data": {
            "text/plain": [
              "(10118, 3)"
            ]
          },
          "execution_count": 104,
          "metadata": {},
          "output_type": "execute_result"
        }
      ],
      "source": [
        "wd_addrCountry_wkg_merge.shape"
      ]
    },
    {
      "cell_type": "code",
      "execution_count": null,
      "metadata": {
        "colab": {
          "base_uri": "https://localhost:8080/"
        },
        "id": "WkiiW-ScXLAa",
        "outputId": "18d01a79-6edc-49ff-a5bc-e39c4f24b336"
      },
      "outputs": [
        {
          "data": {
            "text/plain": [
              "(392726, 3)"
            ]
          },
          "execution_count": 105,
          "metadata": {},
          "output_type": "execute_result"
        }
      ],
      "source": [
        "wkg_data.shape"
      ]
    },
    {
      "cell_type": "code",
      "execution_count": null,
      "metadata": {
        "id": "5BM2iMWjXPzn"
      },
      "outputs": [],
      "source": [
        "wkg_data_new_predicates = wkg_data[~wkg_data['predicate'].isin(['wkgs:addrCountry', 'wkgs:isIn', 'wkgs:country', 'wkgs:addrPlace',\n",
        "                                      'wkgs:capitalCity'])]\n",
        "\n",
        "wkg_remaining_predicates, wd_merge_predicates = train_test_split(wkg_data_new_predicates, stratify = wkg_data_new_predicates['predicate'], test_size = 0.12, random_state = 0)"
      ]
    },
    {
      "cell_type": "code",
      "execution_count": null,
      "metadata": {
        "id": "hpocmVvTce91"
      },
      "outputs": [],
      "source": [
        "wkg_data_old_predicates = wkg_data[wkg_data['predicate'].isin(['wkgs:addrCountry', 'wkgs:isIn', 'wkgs:country', 'wkgs:addrPlace',\n",
        "                                      'wkgs:capitalCity'])]"
      ]
    },
    {
      "cell_type": "code",
      "execution_count": null,
      "metadata": {
        "colab": {
          "base_uri": "https://localhost:8080/"
        },
        "id": "NbsU1t5FbKY-",
        "outputId": "fd454ebe-8d84-42d2-9a4b-cabef8c0abfc"
      },
      "outputs": [
        {
          "data": {
            "text/plain": [
              "wkgs:isInCountry        217818\n",
              "wkgs:isInContinent       65089\n",
              "wkgs:addrState            2732\n",
              "wkgs:isInCounty           2698\n",
              "wkgs:addrSuburb           2010\n",
              "wkgs:addrProvince          701\n",
              "wkgs:addrSubdistrict        92\n",
              "wkgs:addrDistrict           42\n",
              "wkgs:addrHamlet             33\n",
              "Name: predicate, dtype: int64"
            ]
          },
          "execution_count": 109,
          "metadata": {},
          "output_type": "execute_result"
        }
      ],
      "source": [
        "wkg_remaining_predicates['predicate'].value_counts()"
      ]
    },
    {
      "cell_type": "code",
      "execution_count": null,
      "metadata": {
        "colab": {
          "base_uri": "https://localhost:8080/",
          "height": 424
        },
        "id": "jkuoy112cCdz",
        "outputId": "b6048d28-22b9-4818-a95f-14c0d2274d62"
      },
      "outputs": [
        {
          "data": {
            "text/html": [
              "\n",
              "  <div id=\"df-f14a39a4-857a-440d-8947-7461c655a2b6\">\n",
              "    <div class=\"colab-df-container\">\n",
              "      <div>\n",
              "<style scoped>\n",
              "    .dataframe tbody tr th:only-of-type {\n",
              "        vertical-align: middle;\n",
              "    }\n",
              "\n",
              "    .dataframe tbody tr th {\n",
              "        vertical-align: top;\n",
              "    }\n",
              "\n",
              "    .dataframe thead th {\n",
              "        text-align: right;\n",
              "    }\n",
              "</style>\n",
              "<table border=\"1\" class=\"dataframe\">\n",
              "  <thead>\n",
              "    <tr style=\"text-align: right;\">\n",
              "      <th></th>\n",
              "      <th>subject</th>\n",
              "      <th>predicate</th>\n",
              "      <th>object</th>\n",
              "    </tr>\n",
              "  </thead>\n",
              "  <tbody>\n",
              "    <tr>\n",
              "      <th>0</th>\n",
              "      <td>wkg:4426850370</td>\n",
              "      <td>wkgs:isInCountry</td>\n",
              "      <td>wkg:424298311</td>\n",
              "    </tr>\n",
              "    <tr>\n",
              "      <th>1</th>\n",
              "      <td>wkg:1923575883</td>\n",
              "      <td>wkgs:isInContinent</td>\n",
              "      <td>wkg:36966065</td>\n",
              "    </tr>\n",
              "    <tr>\n",
              "      <th>2</th>\n",
              "      <td>wkg:1308683858</td>\n",
              "      <td>wkgs:isInCountry</td>\n",
              "      <td>wkg:6677037562</td>\n",
              "    </tr>\n",
              "    <tr>\n",
              "      <th>3</th>\n",
              "      <td>wkg:1308609726</td>\n",
              "      <td>wkgs:isInCountry</td>\n",
              "      <td>wkg:6677037562</td>\n",
              "    </tr>\n",
              "    <tr>\n",
              "      <th>4</th>\n",
              "      <td>wkg:3068656670</td>\n",
              "      <td>wkgs:isInCountry</td>\n",
              "      <td>wkg:424313730</td>\n",
              "    </tr>\n",
              "    <tr>\n",
              "      <th>...</th>\n",
              "      <td>...</td>\n",
              "      <td>...</td>\n",
              "      <td>...</td>\n",
              "    </tr>\n",
              "    <tr>\n",
              "      <th>159991</th>\n",
              "      <td>wkg:1135414237</td>\n",
              "      <td>wkgs:addrCountry</td>\n",
              "      <td>wkg:424314830</td>\n",
              "    </tr>\n",
              "    <tr>\n",
              "      <th>159992</th>\n",
              "      <td>wkg:1197106724</td>\n",
              "      <td>wkgs:addrCountry</td>\n",
              "      <td>wkg:424314830</td>\n",
              "    </tr>\n",
              "    <tr>\n",
              "      <th>159993</th>\n",
              "      <td>wkg:945163900</td>\n",
              "      <td>wkgs:addrCountry</td>\n",
              "      <td>wkg:424314830</td>\n",
              "    </tr>\n",
              "    <tr>\n",
              "      <th>159994</th>\n",
              "      <td>wkg:961947169</td>\n",
              "      <td>wkgs:addrCountry</td>\n",
              "      <td>wkg:424314830</td>\n",
              "    </tr>\n",
              "    <tr>\n",
              "      <th>159995</th>\n",
              "      <td>wkg:243014737</td>\n",
              "      <td>wkgs:addrCountry</td>\n",
              "      <td>wkg:249399300</td>\n",
              "    </tr>\n",
              "  </tbody>\n",
              "</table>\n",
              "<p>159996 rows × 3 columns</p>\n",
              "</div>\n",
              "      <button class=\"colab-df-convert\" onclick=\"convertToInteractive('df-f14a39a4-857a-440d-8947-7461c655a2b6')\"\n",
              "              title=\"Convert this dataframe to an interactive table.\"\n",
              "              style=\"display:none;\">\n",
              "        \n",
              "  <svg xmlns=\"http://www.w3.org/2000/svg\" height=\"24px\"viewBox=\"0 0 24 24\"\n",
              "       width=\"24px\">\n",
              "    <path d=\"M0 0h24v24H0V0z\" fill=\"none\"/>\n",
              "    <path d=\"M18.56 5.44l.94 2.06.94-2.06 2.06-.94-2.06-.94-.94-2.06-.94 2.06-2.06.94zm-11 1L8.5 8.5l.94-2.06 2.06-.94-2.06-.94L8.5 2.5l-.94 2.06-2.06.94zm10 10l.94 2.06.94-2.06 2.06-.94-2.06-.94-.94-2.06-.94 2.06-2.06.94z\"/><path d=\"M17.41 7.96l-1.37-1.37c-.4-.4-.92-.59-1.43-.59-.52 0-1.04.2-1.43.59L10.3 9.45l-7.72 7.72c-.78.78-.78 2.05 0 2.83L4 21.41c.39.39.9.59 1.41.59.51 0 1.02-.2 1.41-.59l7.78-7.78 2.81-2.81c.8-.78.8-2.07 0-2.86zM5.41 20L4 18.59l7.72-7.72 1.47 1.35L5.41 20z\"/>\n",
              "  </svg>\n",
              "      </button>\n",
              "      \n",
              "  <style>\n",
              "    .colab-df-container {\n",
              "      display:flex;\n",
              "      flex-wrap:wrap;\n",
              "      gap: 12px;\n",
              "    }\n",
              "\n",
              "    .colab-df-convert {\n",
              "      background-color: #E8F0FE;\n",
              "      border: none;\n",
              "      border-radius: 50%;\n",
              "      cursor: pointer;\n",
              "      display: none;\n",
              "      fill: #1967D2;\n",
              "      height: 32px;\n",
              "      padding: 0 0 0 0;\n",
              "      width: 32px;\n",
              "    }\n",
              "\n",
              "    .colab-df-convert:hover {\n",
              "      background-color: #E2EBFA;\n",
              "      box-shadow: 0px 1px 2px rgba(60, 64, 67, 0.3), 0px 1px 3px 1px rgba(60, 64, 67, 0.15);\n",
              "      fill: #174EA6;\n",
              "    }\n",
              "\n",
              "    [theme=dark] .colab-df-convert {\n",
              "      background-color: #3B4455;\n",
              "      fill: #D2E3FC;\n",
              "    }\n",
              "\n",
              "    [theme=dark] .colab-df-convert:hover {\n",
              "      background-color: #434B5C;\n",
              "      box-shadow: 0px 1px 3px 1px rgba(0, 0, 0, 0.15);\n",
              "      filter: drop-shadow(0px 1px 2px rgba(0, 0, 0, 0.3));\n",
              "      fill: #FFFFFF;\n",
              "    }\n",
              "  </style>\n",
              "\n",
              "      <script>\n",
              "        const buttonEl =\n",
              "          document.querySelector('#df-f14a39a4-857a-440d-8947-7461c655a2b6 button.colab-df-convert');\n",
              "        buttonEl.style.display =\n",
              "          google.colab.kernel.accessAllowed ? 'block' : 'none';\n",
              "\n",
              "        async function convertToInteractive(key) {\n",
              "          const element = document.querySelector('#df-f14a39a4-857a-440d-8947-7461c655a2b6');\n",
              "          const dataTable =\n",
              "            await google.colab.kernel.invokeFunction('convertToInteractive',\n",
              "                                                     [key], {});\n",
              "          if (!dataTable) return;\n",
              "\n",
              "          const docLinkHtml = 'Like what you see? Visit the ' +\n",
              "            '<a target=\"_blank\" href=https://colab.research.google.com/notebooks/data_table.ipynb>data table notebook</a>'\n",
              "            + ' to learn more about interactive tables.';\n",
              "          element.innerHTML = '';\n",
              "          dataTable['output_type'] = 'display_data';\n",
              "          await google.colab.output.renderOutput(dataTable, element);\n",
              "          const docLink = document.createElement('div');\n",
              "          docLink.innerHTML = docLinkHtml;\n",
              "          element.appendChild(docLink);\n",
              "        }\n",
              "      </script>\n",
              "    </div>\n",
              "  </div>\n",
              "  "
            ],
            "text/plain": [
              "               subject           predicate          object\n",
              "0       wkg:4426850370    wkgs:isInCountry   wkg:424298311\n",
              "1       wkg:1923575883  wkgs:isInContinent    wkg:36966065\n",
              "2       wkg:1308683858    wkgs:isInCountry  wkg:6677037562\n",
              "3       wkg:1308609726    wkgs:isInCountry  wkg:6677037562\n",
              "4       wkg:3068656670    wkgs:isInCountry   wkg:424313730\n",
              "...                ...                 ...             ...\n",
              "159991  wkg:1135414237    wkgs:addrCountry   wkg:424314830\n",
              "159992  wkg:1197106724    wkgs:addrCountry   wkg:424314830\n",
              "159993   wkg:945163900    wkgs:addrCountry   wkg:424314830\n",
              "159994   wkg:961947169    wkgs:addrCountry   wkg:424314830\n",
              "159995   wkg:243014737    wkgs:addrCountry   wkg:249399300\n",
              "\n",
              "[159996 rows x 3 columns]"
            ]
          },
          "execution_count": 110,
          "metadata": {},
          "output_type": "execute_result"
        }
      ],
      "source": [
        "# Final merging of recepctive predicates in wikidata and wkg\n",
        "wkg_final_data = pd.concat([wkg_remaining_predicates, wkg_data_old_predicates, wd_addrCountry_wkg_merge], ignore_index = True)\n",
        "wkg_final_data.reset_index(drop = True)\n",
        "\n",
        "wd_final_data = pd.concat([wd_merge_predicates, unique_wd_data_2], ignore_index = True)\n",
        "wd_final_data.reset_index(drop = True)"
      ]
    },
    {
      "cell_type": "code",
      "execution_count": null,
      "metadata": {
        "colab": {
          "base_uri": "https://localhost:8080/"
        },
        "id": "IyVknrczdHIG",
        "outputId": "0ec37eb8-88ba-4bbf-8b27-b7e7c83514f5"
      },
      "outputs": [
        {
          "data": {
            "text/plain": [
              "(363132, 3)"
            ]
          },
          "execution_count": 111,
          "metadata": {},
          "output_type": "execute_result"
        }
      ],
      "source": [
        "wkg_final_data.shape"
      ]
    },
    {
      "cell_type": "code",
      "execution_count": null,
      "metadata": {
        "colab": {
          "base_uri": "https://localhost:8080/"
        },
        "id": "AbQqw_EidJiy",
        "outputId": "312a8223-520e-4fe9-deff-22dacb7a27d2"
      },
      "outputs": [
        {
          "data": {
            "text/plain": [
              "(159996, 3)"
            ]
          },
          "execution_count": 112,
          "metadata": {},
          "output_type": "execute_result"
        }
      ],
      "source": [
        "wd_final_data.shape"
      ]
    },
    {
      "cell_type": "code",
      "execution_count": null,
      "metadata": {
        "colab": {
          "base_uri": "https://localhost:8080/"
        },
        "id": "gMnJ6M3Mk3l-",
        "outputId": "4ca0d196-c0cb-433d-825c-a985727c67fd"
      },
      "outputs": [
        {
          "data": {
            "text/plain": [
              "wkgs:addrCountry        91053\n",
              "wkgs:isInCountry        35453\n",
              "wkgs:isIn               20068\n",
              "wkgs:isInContinent       8914\n",
              "wkgs:country             2843\n",
              "wkgs:addrPlace            448\n",
              "wkgs:addrState            372\n",
              "wkgs:isInCounty           368\n",
              "wkgs:addrSuburb           274\n",
              "wkgs:addrProvince          96\n",
              "wkgs:capitalCity           84\n",
              "wkgs:addrSubdistrict       12\n",
              "wkgs:addrDistrict           6\n",
              "wkgs:addrHamlet             5\n",
              "Name: predicate, dtype: int64"
            ]
          },
          "execution_count": 119,
          "metadata": {},
          "output_type": "execute_result"
        }
      ],
      "source": [
        "wd_final_data['predicate'].value_counts()"
      ]
    },
    {
      "cell_type": "code",
      "execution_count": null,
      "metadata": {
        "colab": {
          "base_uri": "https://localhost:8080/"
        },
        "id": "M4aFVQwck5sF",
        "outputId": "f9d10ba6-0aa6-4ef4-c685-ca9164efc483"
      },
      "outputs": [
        {
          "data": {
            "text/plain": [
              "wkgs:isInCountry        217818\n",
              "wkgs:isInContinent       65089\n",
              "wkgs:isIn                31935\n",
              "wkgs:addrPlace           22186\n",
              "wkgs:addrCountry         10170\n",
              "wkgs:country              7460\n",
              "wkgs:addrState            2732\n",
              "wkgs:isInCounty           2698\n",
              "wkgs:addrSuburb           2010\n",
              "wkgs:addrProvince          701\n",
              "wkgs:capitalCity           166\n",
              "wkgs:addrSubdistrict        92\n",
              "wkgs:addrDistrict           42\n",
              "wkgs:addrHamlet             33\n",
              "Name: predicate, dtype: int64"
            ]
          },
          "execution_count": 120,
          "metadata": {},
          "output_type": "execute_result"
        }
      ],
      "source": [
        "wkg_final_data['predicate'].value_counts()"
      ]
    },
    {
      "cell_type": "code",
      "execution_count": null,
      "metadata": {
        "colab": {
          "base_uri": "https://localhost:8080/"
        },
        "id": "9EVjvP8bk70F",
        "outputId": "9e289747-70d9-4232-9250-6f68e3614096"
      },
      "outputs": [
        {
          "data": {
            "text/plain": [
              "wkg:1656941148    7\n",
              "wkg:332919393     5\n",
              "wkg:332919807     4\n",
              "wkg:338530778     4\n",
              "wkg:2250235979    2\n",
              "wkg:5647390271    2\n",
              "wkg:1988949569    1\n",
              "wkg:2813257804    1\n",
              "wkg:278747172     1\n",
              "wkg:1727107318    1\n",
              "wkg:3478883571    1\n",
              "wkg:845838237     1\n",
              "wkg:598328860     1\n",
              "wkg:3424289501    1\n",
              "wkg:6113866143    1\n",
              "Name: object, dtype: int64"
            ]
          },
          "execution_count": 146,
          "metadata": {},
          "output_type": "execute_result"
        }
      ],
      "source": [
        "wkg_final_data[wkg_final_data['predicate'] == 'wkgs:addrHamlet']['object'].value_counts()"
      ]
    },
    {
      "cell_type": "code",
      "execution_count": null,
      "metadata": {
        "colab": {
          "base_uri": "https://localhost:8080/"
        },
        "id": "5eBmFUyAqY-Q",
        "outputId": "2d93a6d6-6aa1-42ec-d850-d5b64cf5f673"
      },
      "outputs": [
        {
          "data": {
            "text/plain": [
              "wkg:338530778     1\n",
              "wkg:1656941148    1\n",
              "wkg:1727107318    1\n",
              "wkg:5647390271    1\n",
              "wkg:3255267706    1\n",
              "Name: object, dtype: int64"
            ]
          },
          "execution_count": 147,
          "metadata": {},
          "output_type": "execute_result"
        }
      ],
      "source": [
        "wd_final_data[wd_final_data['predicate'] == 'wkgs:addrHamlet']['object'].value_counts()"
      ]
    },
    {
      "cell_type": "code",
      "execution_count": null,
      "metadata": {
        "id": "bx5AfQfOsHgw"
      },
      "outputs": [],
      "source": [
        "# split training set into train and validation\n",
        "stratify_values = wkg_final_data['predicate']\n",
        "train_triples, validation_triples = train_test_split(wkg_final_data, stratify = stratify_values, test_size = 0.11, random_state = 0)"
      ]
    },
    {
      "cell_type": "code",
      "execution_count": null,
      "metadata": {
        "colab": {
          "base_uri": "https://localhost:8080/",
          "height": 424
        },
        "id": "OtAbnUBwsoXk",
        "outputId": "249a265f-9118-4c87-adab-3b9baac9dea0"
      },
      "outputs": [
        {
          "data": {
            "text/html": [
              "\n",
              "  <div id=\"df-32e6fa23-9d1f-4dab-b004-414fbe1ec4ef\">\n",
              "    <div class=\"colab-df-container\">\n",
              "      <div>\n",
              "<style scoped>\n",
              "    .dataframe tbody tr th:only-of-type {\n",
              "        vertical-align: middle;\n",
              "    }\n",
              "\n",
              "    .dataframe tbody tr th {\n",
              "        vertical-align: top;\n",
              "    }\n",
              "\n",
              "    .dataframe thead th {\n",
              "        text-align: right;\n",
              "    }\n",
              "</style>\n",
              "<table border=\"1\" class=\"dataframe\">\n",
              "  <thead>\n",
              "    <tr style=\"text-align: right;\">\n",
              "      <th></th>\n",
              "      <th>subject</th>\n",
              "      <th>predicate</th>\n",
              "      <th>object</th>\n",
              "    </tr>\n",
              "  </thead>\n",
              "  <tbody>\n",
              "    <tr>\n",
              "      <th>0</th>\n",
              "      <td>wkg:501484122</td>\n",
              "      <td>wkgs:isInCountry</td>\n",
              "      <td>wkg:424316663</td>\n",
              "    </tr>\n",
              "    <tr>\n",
              "      <th>1</th>\n",
              "      <td>wkg:1308600217</td>\n",
              "      <td>wkgs:isInCountry</td>\n",
              "      <td>wkg:6677037562</td>\n",
              "    </tr>\n",
              "    <tr>\n",
              "      <th>2</th>\n",
              "      <td>wkg:2016097408</td>\n",
              "      <td>wkgs:isInCountry</td>\n",
              "      <td>wkg:248120384</td>\n",
              "    </tr>\n",
              "    <tr>\n",
              "      <th>3</th>\n",
              "      <td>wkg:1070163307</td>\n",
              "      <td>wkgs:isInCountry</td>\n",
              "      <td>wkg:6677037562</td>\n",
              "    </tr>\n",
              "    <tr>\n",
              "      <th>4</th>\n",
              "      <td>wkg:309872497</td>\n",
              "      <td>wkgs:isIn</td>\n",
              "      <td>wkg:424298326</td>\n",
              "    </tr>\n",
              "    <tr>\n",
              "      <th>...</th>\n",
              "      <td>...</td>\n",
              "      <td>...</td>\n",
              "      <td>...</td>\n",
              "    </tr>\n",
              "    <tr>\n",
              "      <th>323182</th>\n",
              "      <td>wkg:1070187198</td>\n",
              "      <td>wkgs:isInCountry</td>\n",
              "      <td>wkg:6677037562</td>\n",
              "    </tr>\n",
              "    <tr>\n",
              "      <th>323183</th>\n",
              "      <td>wkg:501520502</td>\n",
              "      <td>wkgs:isInCountry</td>\n",
              "      <td>wkg:424316663</td>\n",
              "    </tr>\n",
              "    <tr>\n",
              "      <th>323184</th>\n",
              "      <td>wkg:1308321070</td>\n",
              "      <td>wkgs:isInCountry</td>\n",
              "      <td>wkg:6677037562</td>\n",
              "    </tr>\n",
              "    <tr>\n",
              "      <th>323185</th>\n",
              "      <td>wkg:1070158119</td>\n",
              "      <td>wkgs:isInCountry</td>\n",
              "      <td>wkg:6677037562</td>\n",
              "    </tr>\n",
              "    <tr>\n",
              "      <th>323186</th>\n",
              "      <td>wkg:501286883</td>\n",
              "      <td>wkgs:isInCountry</td>\n",
              "      <td>wkg:424316663</td>\n",
              "    </tr>\n",
              "  </tbody>\n",
              "</table>\n",
              "<p>323187 rows × 3 columns</p>\n",
              "</div>\n",
              "      <button class=\"colab-df-convert\" onclick=\"convertToInteractive('df-32e6fa23-9d1f-4dab-b004-414fbe1ec4ef')\"\n",
              "              title=\"Convert this dataframe to an interactive table.\"\n",
              "              style=\"display:none;\">\n",
              "        \n",
              "  <svg xmlns=\"http://www.w3.org/2000/svg\" height=\"24px\"viewBox=\"0 0 24 24\"\n",
              "       width=\"24px\">\n",
              "    <path d=\"M0 0h24v24H0V0z\" fill=\"none\"/>\n",
              "    <path d=\"M18.56 5.44l.94 2.06.94-2.06 2.06-.94-2.06-.94-.94-2.06-.94 2.06-2.06.94zm-11 1L8.5 8.5l.94-2.06 2.06-.94-2.06-.94L8.5 2.5l-.94 2.06-2.06.94zm10 10l.94 2.06.94-2.06 2.06-.94-2.06-.94-.94-2.06-.94 2.06-2.06.94z\"/><path d=\"M17.41 7.96l-1.37-1.37c-.4-.4-.92-.59-1.43-.59-.52 0-1.04.2-1.43.59L10.3 9.45l-7.72 7.72c-.78.78-.78 2.05 0 2.83L4 21.41c.39.39.9.59 1.41.59.51 0 1.02-.2 1.41-.59l7.78-7.78 2.81-2.81c.8-.78.8-2.07 0-2.86zM5.41 20L4 18.59l7.72-7.72 1.47 1.35L5.41 20z\"/>\n",
              "  </svg>\n",
              "      </button>\n",
              "      \n",
              "  <style>\n",
              "    .colab-df-container {\n",
              "      display:flex;\n",
              "      flex-wrap:wrap;\n",
              "      gap: 12px;\n",
              "    }\n",
              "\n",
              "    .colab-df-convert {\n",
              "      background-color: #E8F0FE;\n",
              "      border: none;\n",
              "      border-radius: 50%;\n",
              "      cursor: pointer;\n",
              "      display: none;\n",
              "      fill: #1967D2;\n",
              "      height: 32px;\n",
              "      padding: 0 0 0 0;\n",
              "      width: 32px;\n",
              "    }\n",
              "\n",
              "    .colab-df-convert:hover {\n",
              "      background-color: #E2EBFA;\n",
              "      box-shadow: 0px 1px 2px rgba(60, 64, 67, 0.3), 0px 1px 3px 1px rgba(60, 64, 67, 0.15);\n",
              "      fill: #174EA6;\n",
              "    }\n",
              "\n",
              "    [theme=dark] .colab-df-convert {\n",
              "      background-color: #3B4455;\n",
              "      fill: #D2E3FC;\n",
              "    }\n",
              "\n",
              "    [theme=dark] .colab-df-convert:hover {\n",
              "      background-color: #434B5C;\n",
              "      box-shadow: 0px 1px 3px 1px rgba(0, 0, 0, 0.15);\n",
              "      filter: drop-shadow(0px 1px 2px rgba(0, 0, 0, 0.3));\n",
              "      fill: #FFFFFF;\n",
              "    }\n",
              "  </style>\n",
              "\n",
              "      <script>\n",
              "        const buttonEl =\n",
              "          document.querySelector('#df-32e6fa23-9d1f-4dab-b004-414fbe1ec4ef button.colab-df-convert');\n",
              "        buttonEl.style.display =\n",
              "          google.colab.kernel.accessAllowed ? 'block' : 'none';\n",
              "\n",
              "        async function convertToInteractive(key) {\n",
              "          const element = document.querySelector('#df-32e6fa23-9d1f-4dab-b004-414fbe1ec4ef');\n",
              "          const dataTable =\n",
              "            await google.colab.kernel.invokeFunction('convertToInteractive',\n",
              "                                                     [key], {});\n",
              "          if (!dataTable) return;\n",
              "\n",
              "          const docLinkHtml = 'Like what you see? Visit the ' +\n",
              "            '<a target=\"_blank\" href=https://colab.research.google.com/notebooks/data_table.ipynb>data table notebook</a>'\n",
              "            + ' to learn more about interactive tables.';\n",
              "          element.innerHTML = '';\n",
              "          dataTable['output_type'] = 'display_data';\n",
              "          await google.colab.output.renderOutput(dataTable, element);\n",
              "          const docLink = document.createElement('div');\n",
              "          docLink.innerHTML = docLinkHtml;\n",
              "          element.appendChild(docLink);\n",
              "        }\n",
              "      </script>\n",
              "    </div>\n",
              "  </div>\n",
              "  "
            ],
            "text/plain": [
              "               subject         predicate          object\n",
              "0        wkg:501484122  wkgs:isInCountry   wkg:424316663\n",
              "1       wkg:1308600217  wkgs:isInCountry  wkg:6677037562\n",
              "2       wkg:2016097408  wkgs:isInCountry   wkg:248120384\n",
              "3       wkg:1070163307  wkgs:isInCountry  wkg:6677037562\n",
              "4        wkg:309872497         wkgs:isIn   wkg:424298326\n",
              "...                ...               ...             ...\n",
              "323182  wkg:1070187198  wkgs:isInCountry  wkg:6677037562\n",
              "323183   wkg:501520502  wkgs:isInCountry   wkg:424316663\n",
              "323184  wkg:1308321070  wkgs:isInCountry  wkg:6677037562\n",
              "323185  wkg:1070158119  wkgs:isInCountry  wkg:6677037562\n",
              "323186   wkg:501286883  wkgs:isInCountry   wkg:424316663\n",
              "\n",
              "[323187 rows x 3 columns]"
            ]
          },
          "execution_count": 180,
          "metadata": {},
          "output_type": "execute_result"
        }
      ],
      "source": [
        "train_triples.reset_index(drop = True)"
      ]
    },
    {
      "cell_type": "code",
      "execution_count": null,
      "metadata": {
        "colab": {
          "base_uri": "https://localhost:8080/",
          "height": 424
        },
        "id": "7QmhJQkhsrhD",
        "outputId": "617673e0-d7ed-4db1-9ee4-1c207340961d"
      },
      "outputs": [
        {
          "data": {
            "text/html": [
              "\n",
              "  <div id=\"df-7f54aeb1-e937-4104-a8c5-97687ad99d0f\">\n",
              "    <div class=\"colab-df-container\">\n",
              "      <div>\n",
              "<style scoped>\n",
              "    .dataframe tbody tr th:only-of-type {\n",
              "        vertical-align: middle;\n",
              "    }\n",
              "\n",
              "    .dataframe tbody tr th {\n",
              "        vertical-align: top;\n",
              "    }\n",
              "\n",
              "    .dataframe thead th {\n",
              "        text-align: right;\n",
              "    }\n",
              "</style>\n",
              "<table border=\"1\" class=\"dataframe\">\n",
              "  <thead>\n",
              "    <tr style=\"text-align: right;\">\n",
              "      <th></th>\n",
              "      <th>subject</th>\n",
              "      <th>predicate</th>\n",
              "      <th>object</th>\n",
              "    </tr>\n",
              "  </thead>\n",
              "  <tbody>\n",
              "    <tr>\n",
              "      <th>0</th>\n",
              "      <td>wkg:275386081</td>\n",
              "      <td>wkgs:addrCountry</td>\n",
              "      <td>wkg:249399300</td>\n",
              "    </tr>\n",
              "    <tr>\n",
              "      <th>1</th>\n",
              "      <td>wkg:588051169</td>\n",
              "      <td>wkgs:isInCountry</td>\n",
              "      <td>wkg:432425064</td>\n",
              "    </tr>\n",
              "    <tr>\n",
              "      <th>2</th>\n",
              "      <td>wkg:1260516834</td>\n",
              "      <td>wkgs:isIn</td>\n",
              "      <td>wkg:424298326</td>\n",
              "    </tr>\n",
              "    <tr>\n",
              "      <th>3</th>\n",
              "      <td>wkg:3220274002</td>\n",
              "      <td>wkgs:isInCountry</td>\n",
              "      <td>wkg:424313730</td>\n",
              "    </tr>\n",
              "    <tr>\n",
              "      <th>4</th>\n",
              "      <td>wkg:243042169</td>\n",
              "      <td>wkgs:addrCountry</td>\n",
              "      <td>wkg:249399300</td>\n",
              "    </tr>\n",
              "    <tr>\n",
              "      <th>...</th>\n",
              "      <td>...</td>\n",
              "      <td>...</td>\n",
              "      <td>...</td>\n",
              "    </tr>\n",
              "    <tr>\n",
              "      <th>39940</th>\n",
              "      <td>wkg:931541074</td>\n",
              "      <td>wkgs:isInCountry</td>\n",
              "      <td>wkg:6677037562</td>\n",
              "    </tr>\n",
              "    <tr>\n",
              "      <th>39941</th>\n",
              "      <td>wkg:29621202</td>\n",
              "      <td>wkgs:isInCountry</td>\n",
              "      <td>wkg:1683325355</td>\n",
              "    </tr>\n",
              "    <tr>\n",
              "      <th>39942</th>\n",
              "      <td>wkg:501484841</td>\n",
              "      <td>wkgs:isInCountry</td>\n",
              "      <td>wkg:424316663</td>\n",
              "    </tr>\n",
              "    <tr>\n",
              "      <th>39943</th>\n",
              "      <td>wkg:501529793</td>\n",
              "      <td>wkgs:isInCountry</td>\n",
              "      <td>wkg:424316663</td>\n",
              "    </tr>\n",
              "    <tr>\n",
              "      <th>39944</th>\n",
              "      <td>wkg:8753114312</td>\n",
              "      <td>wkgs:addrState</td>\n",
              "      <td>wkg:655420663</td>\n",
              "    </tr>\n",
              "  </tbody>\n",
              "</table>\n",
              "<p>39945 rows × 3 columns</p>\n",
              "</div>\n",
              "      <button class=\"colab-df-convert\" onclick=\"convertToInteractive('df-7f54aeb1-e937-4104-a8c5-97687ad99d0f')\"\n",
              "              title=\"Convert this dataframe to an interactive table.\"\n",
              "              style=\"display:none;\">\n",
              "        \n",
              "  <svg xmlns=\"http://www.w3.org/2000/svg\" height=\"24px\"viewBox=\"0 0 24 24\"\n",
              "       width=\"24px\">\n",
              "    <path d=\"M0 0h24v24H0V0z\" fill=\"none\"/>\n",
              "    <path d=\"M18.56 5.44l.94 2.06.94-2.06 2.06-.94-2.06-.94-.94-2.06-.94 2.06-2.06.94zm-11 1L8.5 8.5l.94-2.06 2.06-.94-2.06-.94L8.5 2.5l-.94 2.06-2.06.94zm10 10l.94 2.06.94-2.06 2.06-.94-2.06-.94-.94-2.06-.94 2.06-2.06.94z\"/><path d=\"M17.41 7.96l-1.37-1.37c-.4-.4-.92-.59-1.43-.59-.52 0-1.04.2-1.43.59L10.3 9.45l-7.72 7.72c-.78.78-.78 2.05 0 2.83L4 21.41c.39.39.9.59 1.41.59.51 0 1.02-.2 1.41-.59l7.78-7.78 2.81-2.81c.8-.78.8-2.07 0-2.86zM5.41 20L4 18.59l7.72-7.72 1.47 1.35L5.41 20z\"/>\n",
              "  </svg>\n",
              "      </button>\n",
              "      \n",
              "  <style>\n",
              "    .colab-df-container {\n",
              "      display:flex;\n",
              "      flex-wrap:wrap;\n",
              "      gap: 12px;\n",
              "    }\n",
              "\n",
              "    .colab-df-convert {\n",
              "      background-color: #E8F0FE;\n",
              "      border: none;\n",
              "      border-radius: 50%;\n",
              "      cursor: pointer;\n",
              "      display: none;\n",
              "      fill: #1967D2;\n",
              "      height: 32px;\n",
              "      padding: 0 0 0 0;\n",
              "      width: 32px;\n",
              "    }\n",
              "\n",
              "    .colab-df-convert:hover {\n",
              "      background-color: #E2EBFA;\n",
              "      box-shadow: 0px 1px 2px rgba(60, 64, 67, 0.3), 0px 1px 3px 1px rgba(60, 64, 67, 0.15);\n",
              "      fill: #174EA6;\n",
              "    }\n",
              "\n",
              "    [theme=dark] .colab-df-convert {\n",
              "      background-color: #3B4455;\n",
              "      fill: #D2E3FC;\n",
              "    }\n",
              "\n",
              "    [theme=dark] .colab-df-convert:hover {\n",
              "      background-color: #434B5C;\n",
              "      box-shadow: 0px 1px 3px 1px rgba(0, 0, 0, 0.15);\n",
              "      filter: drop-shadow(0px 1px 2px rgba(0, 0, 0, 0.3));\n",
              "      fill: #FFFFFF;\n",
              "    }\n",
              "  </style>\n",
              "\n",
              "      <script>\n",
              "        const buttonEl =\n",
              "          document.querySelector('#df-7f54aeb1-e937-4104-a8c5-97687ad99d0f button.colab-df-convert');\n",
              "        buttonEl.style.display =\n",
              "          google.colab.kernel.accessAllowed ? 'block' : 'none';\n",
              "\n",
              "        async function convertToInteractive(key) {\n",
              "          const element = document.querySelector('#df-7f54aeb1-e937-4104-a8c5-97687ad99d0f');\n",
              "          const dataTable =\n",
              "            await google.colab.kernel.invokeFunction('convertToInteractive',\n",
              "                                                     [key], {});\n",
              "          if (!dataTable) return;\n",
              "\n",
              "          const docLinkHtml = 'Like what you see? Visit the ' +\n",
              "            '<a target=\"_blank\" href=https://colab.research.google.com/notebooks/data_table.ipynb>data table notebook</a>'\n",
              "            + ' to learn more about interactive tables.';\n",
              "          element.innerHTML = '';\n",
              "          dataTable['output_type'] = 'display_data';\n",
              "          await google.colab.output.renderOutput(dataTable, element);\n",
              "          const docLink = document.createElement('div');\n",
              "          docLink.innerHTML = docLinkHtml;\n",
              "          element.appendChild(docLink);\n",
              "        }\n",
              "      </script>\n",
              "    </div>\n",
              "  </div>\n",
              "  "
            ],
            "text/plain": [
              "              subject         predicate          object\n",
              "0       wkg:275386081  wkgs:addrCountry   wkg:249399300\n",
              "1       wkg:588051169  wkgs:isInCountry   wkg:432425064\n",
              "2      wkg:1260516834         wkgs:isIn   wkg:424298326\n",
              "3      wkg:3220274002  wkgs:isInCountry   wkg:424313730\n",
              "4       wkg:243042169  wkgs:addrCountry   wkg:249399300\n",
              "...               ...               ...             ...\n",
              "39940   wkg:931541074  wkgs:isInCountry  wkg:6677037562\n",
              "39941    wkg:29621202  wkgs:isInCountry  wkg:1683325355\n",
              "39942   wkg:501484841  wkgs:isInCountry   wkg:424316663\n",
              "39943   wkg:501529793  wkgs:isInCountry   wkg:424316663\n",
              "39944  wkg:8753114312    wkgs:addrState   wkg:655420663\n",
              "\n",
              "[39945 rows x 3 columns]"
            ]
          },
          "execution_count": 181,
          "metadata": {},
          "output_type": "execute_result"
        }
      ],
      "source": [
        "validation_triples.reset_index(drop = True)"
      ]
    },
    {
      "cell_type": "code",
      "execution_count": null,
      "metadata": {
        "colab": {
          "base_uri": "https://localhost:8080/",
          "height": 424
        },
        "id": "SmTb2VqYstyv",
        "outputId": "fdfad942-a627-44bf-fd26-5a36170f4d6f"
      },
      "outputs": [
        {
          "data": {
            "text/html": [
              "\n",
              "  <div id=\"df-dc89c49c-6a1e-449e-8b64-6def4c641a6b\">\n",
              "    <div class=\"colab-df-container\">\n",
              "      <div>\n",
              "<style scoped>\n",
              "    .dataframe tbody tr th:only-of-type {\n",
              "        vertical-align: middle;\n",
              "    }\n",
              "\n",
              "    .dataframe tbody tr th {\n",
              "        vertical-align: top;\n",
              "    }\n",
              "\n",
              "    .dataframe thead th {\n",
              "        text-align: right;\n",
              "    }\n",
              "</style>\n",
              "<table border=\"1\" class=\"dataframe\">\n",
              "  <thead>\n",
              "    <tr style=\"text-align: right;\">\n",
              "      <th></th>\n",
              "      <th>subject</th>\n",
              "      <th>predicate</th>\n",
              "      <th>object</th>\n",
              "    </tr>\n",
              "  </thead>\n",
              "  <tbody>\n",
              "    <tr>\n",
              "      <th>0</th>\n",
              "      <td>wkg:4426850370</td>\n",
              "      <td>wkgs:isInCountry</td>\n",
              "      <td>wkg:424298311</td>\n",
              "    </tr>\n",
              "    <tr>\n",
              "      <th>1</th>\n",
              "      <td>wkg:1923575883</td>\n",
              "      <td>wkgs:isInContinent</td>\n",
              "      <td>wkg:36966065</td>\n",
              "    </tr>\n",
              "    <tr>\n",
              "      <th>2</th>\n",
              "      <td>wkg:1308683858</td>\n",
              "      <td>wkgs:isInCountry</td>\n",
              "      <td>wkg:6677037562</td>\n",
              "    </tr>\n",
              "    <tr>\n",
              "      <th>3</th>\n",
              "      <td>wkg:1308609726</td>\n",
              "      <td>wkgs:isInCountry</td>\n",
              "      <td>wkg:6677037562</td>\n",
              "    </tr>\n",
              "    <tr>\n",
              "      <th>4</th>\n",
              "      <td>wkg:3068656670</td>\n",
              "      <td>wkgs:isInCountry</td>\n",
              "      <td>wkg:424313730</td>\n",
              "    </tr>\n",
              "    <tr>\n",
              "      <th>...</th>\n",
              "      <td>...</td>\n",
              "      <td>...</td>\n",
              "      <td>...</td>\n",
              "    </tr>\n",
              "    <tr>\n",
              "      <th>159991</th>\n",
              "      <td>wkg:1135414237</td>\n",
              "      <td>wkgs:addrCountry</td>\n",
              "      <td>wkg:424314830</td>\n",
              "    </tr>\n",
              "    <tr>\n",
              "      <th>159992</th>\n",
              "      <td>wkg:1197106724</td>\n",
              "      <td>wkgs:addrCountry</td>\n",
              "      <td>wkg:424314830</td>\n",
              "    </tr>\n",
              "    <tr>\n",
              "      <th>159993</th>\n",
              "      <td>wkg:945163900</td>\n",
              "      <td>wkgs:addrCountry</td>\n",
              "      <td>wkg:424314830</td>\n",
              "    </tr>\n",
              "    <tr>\n",
              "      <th>159994</th>\n",
              "      <td>wkg:961947169</td>\n",
              "      <td>wkgs:addrCountry</td>\n",
              "      <td>wkg:424314830</td>\n",
              "    </tr>\n",
              "    <tr>\n",
              "      <th>159995</th>\n",
              "      <td>wkg:243014737</td>\n",
              "      <td>wkgs:addrCountry</td>\n",
              "      <td>wkg:249399300</td>\n",
              "    </tr>\n",
              "  </tbody>\n",
              "</table>\n",
              "<p>159996 rows × 3 columns</p>\n",
              "</div>\n",
              "      <button class=\"colab-df-convert\" onclick=\"convertToInteractive('df-dc89c49c-6a1e-449e-8b64-6def4c641a6b')\"\n",
              "              title=\"Convert this dataframe to an interactive table.\"\n",
              "              style=\"display:none;\">\n",
              "        \n",
              "  <svg xmlns=\"http://www.w3.org/2000/svg\" height=\"24px\"viewBox=\"0 0 24 24\"\n",
              "       width=\"24px\">\n",
              "    <path d=\"M0 0h24v24H0V0z\" fill=\"none\"/>\n",
              "    <path d=\"M18.56 5.44l.94 2.06.94-2.06 2.06-.94-2.06-.94-.94-2.06-.94 2.06-2.06.94zm-11 1L8.5 8.5l.94-2.06 2.06-.94-2.06-.94L8.5 2.5l-.94 2.06-2.06.94zm10 10l.94 2.06.94-2.06 2.06-.94-2.06-.94-.94-2.06-.94 2.06-2.06.94z\"/><path d=\"M17.41 7.96l-1.37-1.37c-.4-.4-.92-.59-1.43-.59-.52 0-1.04.2-1.43.59L10.3 9.45l-7.72 7.72c-.78.78-.78 2.05 0 2.83L4 21.41c.39.39.9.59 1.41.59.51 0 1.02-.2 1.41-.59l7.78-7.78 2.81-2.81c.8-.78.8-2.07 0-2.86zM5.41 20L4 18.59l7.72-7.72 1.47 1.35L5.41 20z\"/>\n",
              "  </svg>\n",
              "      </button>\n",
              "      \n",
              "  <style>\n",
              "    .colab-df-container {\n",
              "      display:flex;\n",
              "      flex-wrap:wrap;\n",
              "      gap: 12px;\n",
              "    }\n",
              "\n",
              "    .colab-df-convert {\n",
              "      background-color: #E8F0FE;\n",
              "      border: none;\n",
              "      border-radius: 50%;\n",
              "      cursor: pointer;\n",
              "      display: none;\n",
              "      fill: #1967D2;\n",
              "      height: 32px;\n",
              "      padding: 0 0 0 0;\n",
              "      width: 32px;\n",
              "    }\n",
              "\n",
              "    .colab-df-convert:hover {\n",
              "      background-color: #E2EBFA;\n",
              "      box-shadow: 0px 1px 2px rgba(60, 64, 67, 0.3), 0px 1px 3px 1px rgba(60, 64, 67, 0.15);\n",
              "      fill: #174EA6;\n",
              "    }\n",
              "\n",
              "    [theme=dark] .colab-df-convert {\n",
              "      background-color: #3B4455;\n",
              "      fill: #D2E3FC;\n",
              "    }\n",
              "\n",
              "    [theme=dark] .colab-df-convert:hover {\n",
              "      background-color: #434B5C;\n",
              "      box-shadow: 0px 1px 3px 1px rgba(0, 0, 0, 0.15);\n",
              "      filter: drop-shadow(0px 1px 2px rgba(0, 0, 0, 0.3));\n",
              "      fill: #FFFFFF;\n",
              "    }\n",
              "  </style>\n",
              "\n",
              "      <script>\n",
              "        const buttonEl =\n",
              "          document.querySelector('#df-dc89c49c-6a1e-449e-8b64-6def4c641a6b button.colab-df-convert');\n",
              "        buttonEl.style.display =\n",
              "          google.colab.kernel.accessAllowed ? 'block' : 'none';\n",
              "\n",
              "        async function convertToInteractive(key) {\n",
              "          const element = document.querySelector('#df-dc89c49c-6a1e-449e-8b64-6def4c641a6b');\n",
              "          const dataTable =\n",
              "            await google.colab.kernel.invokeFunction('convertToInteractive',\n",
              "                                                     [key], {});\n",
              "          if (!dataTable) return;\n",
              "\n",
              "          const docLinkHtml = 'Like what you see? Visit the ' +\n",
              "            '<a target=\"_blank\" href=https://colab.research.google.com/notebooks/data_table.ipynb>data table notebook</a>'\n",
              "            + ' to learn more about interactive tables.';\n",
              "          element.innerHTML = '';\n",
              "          dataTable['output_type'] = 'display_data';\n",
              "          await google.colab.output.renderOutput(dataTable, element);\n",
              "          const docLink = document.createElement('div');\n",
              "          docLink.innerHTML = docLinkHtml;\n",
              "          element.appendChild(docLink);\n",
              "        }\n",
              "      </script>\n",
              "    </div>\n",
              "  </div>\n",
              "  "
            ],
            "text/plain": [
              "               subject           predicate          object\n",
              "0       wkg:4426850370    wkgs:isInCountry   wkg:424298311\n",
              "1       wkg:1923575883  wkgs:isInContinent    wkg:36966065\n",
              "2       wkg:1308683858    wkgs:isInCountry  wkg:6677037562\n",
              "3       wkg:1308609726    wkgs:isInCountry  wkg:6677037562\n",
              "4       wkg:3068656670    wkgs:isInCountry   wkg:424313730\n",
              "...                ...                 ...             ...\n",
              "159991  wkg:1135414237    wkgs:addrCountry   wkg:424314830\n",
              "159992  wkg:1197106724    wkgs:addrCountry   wkg:424314830\n",
              "159993   wkg:945163900    wkgs:addrCountry   wkg:424314830\n",
              "159994   wkg:961947169    wkgs:addrCountry   wkg:424314830\n",
              "159995   wkg:243014737    wkgs:addrCountry   wkg:249399300\n",
              "\n",
              "[159996 rows x 3 columns]"
            ]
          },
          "execution_count": 182,
          "metadata": {},
          "output_type": "execute_result"
        }
      ],
      "source": [
        "test_triples = wd_final_data\n",
        "test_triples.reset_index(drop = True)"
      ]
    },
    {
      "cell_type": "code",
      "execution_count": null,
      "metadata": {
        "colab": {
          "base_uri": "https://localhost:8080/",
          "height": 49
        },
        "id": "xi0pOxOqs-jY",
        "outputId": "fd7f7266-4fd2-4cf6-9523-ff7d3bebb565"
      },
      "outputs": [
        {
          "data": {
            "text/html": [
              "\n",
              "  <div id=\"df-388757bb-f0c0-4935-be04-feb1ba404a77\">\n",
              "    <div class=\"colab-df-container\">\n",
              "      <div>\n",
              "<style scoped>\n",
              "    .dataframe tbody tr th:only-of-type {\n",
              "        vertical-align: middle;\n",
              "    }\n",
              "\n",
              "    .dataframe tbody tr th {\n",
              "        vertical-align: top;\n",
              "    }\n",
              "\n",
              "    .dataframe thead th {\n",
              "        text-align: right;\n",
              "    }\n",
              "</style>\n",
              "<table border=\"1\" class=\"dataframe\">\n",
              "  <thead>\n",
              "    <tr style=\"text-align: right;\">\n",
              "      <th></th>\n",
              "      <th>subject</th>\n",
              "      <th>predicate</th>\n",
              "      <th>object</th>\n",
              "    </tr>\n",
              "  </thead>\n",
              "  <tbody>\n",
              "  </tbody>\n",
              "</table>\n",
              "</div>\n",
              "      <button class=\"colab-df-convert\" onclick=\"convertToInteractive('df-388757bb-f0c0-4935-be04-feb1ba404a77')\"\n",
              "              title=\"Convert this dataframe to an interactive table.\"\n",
              "              style=\"display:none;\">\n",
              "        \n",
              "  <svg xmlns=\"http://www.w3.org/2000/svg\" height=\"24px\"viewBox=\"0 0 24 24\"\n",
              "       width=\"24px\">\n",
              "    <path d=\"M0 0h24v24H0V0z\" fill=\"none\"/>\n",
              "    <path d=\"M18.56 5.44l.94 2.06.94-2.06 2.06-.94-2.06-.94-.94-2.06-.94 2.06-2.06.94zm-11 1L8.5 8.5l.94-2.06 2.06-.94-2.06-.94L8.5 2.5l-.94 2.06-2.06.94zm10 10l.94 2.06.94-2.06 2.06-.94-2.06-.94-.94-2.06-.94 2.06-2.06.94z\"/><path d=\"M17.41 7.96l-1.37-1.37c-.4-.4-.92-.59-1.43-.59-.52 0-1.04.2-1.43.59L10.3 9.45l-7.72 7.72c-.78.78-.78 2.05 0 2.83L4 21.41c.39.39.9.59 1.41.59.51 0 1.02-.2 1.41-.59l7.78-7.78 2.81-2.81c.8-.78.8-2.07 0-2.86zM5.41 20L4 18.59l7.72-7.72 1.47 1.35L5.41 20z\"/>\n",
              "  </svg>\n",
              "      </button>\n",
              "      \n",
              "  <style>\n",
              "    .colab-df-container {\n",
              "      display:flex;\n",
              "      flex-wrap:wrap;\n",
              "      gap: 12px;\n",
              "    }\n",
              "\n",
              "    .colab-df-convert {\n",
              "      background-color: #E8F0FE;\n",
              "      border: none;\n",
              "      border-radius: 50%;\n",
              "      cursor: pointer;\n",
              "      display: none;\n",
              "      fill: #1967D2;\n",
              "      height: 32px;\n",
              "      padding: 0 0 0 0;\n",
              "      width: 32px;\n",
              "    }\n",
              "\n",
              "    .colab-df-convert:hover {\n",
              "      background-color: #E2EBFA;\n",
              "      box-shadow: 0px 1px 2px rgba(60, 64, 67, 0.3), 0px 1px 3px 1px rgba(60, 64, 67, 0.15);\n",
              "      fill: #174EA6;\n",
              "    }\n",
              "\n",
              "    [theme=dark] .colab-df-convert {\n",
              "      background-color: #3B4455;\n",
              "      fill: #D2E3FC;\n",
              "    }\n",
              "\n",
              "    [theme=dark] .colab-df-convert:hover {\n",
              "      background-color: #434B5C;\n",
              "      box-shadow: 0px 1px 3px 1px rgba(0, 0, 0, 0.15);\n",
              "      filter: drop-shadow(0px 1px 2px rgba(0, 0, 0, 0.3));\n",
              "      fill: #FFFFFF;\n",
              "    }\n",
              "  </style>\n",
              "\n",
              "      <script>\n",
              "        const buttonEl =\n",
              "          document.querySelector('#df-388757bb-f0c0-4935-be04-feb1ba404a77 button.colab-df-convert');\n",
              "        buttonEl.style.display =\n",
              "          google.colab.kernel.accessAllowed ? 'block' : 'none';\n",
              "\n",
              "        async function convertToInteractive(key) {\n",
              "          const element = document.querySelector('#df-388757bb-f0c0-4935-be04-feb1ba404a77');\n",
              "          const dataTable =\n",
              "            await google.colab.kernel.invokeFunction('convertToInteractive',\n",
              "                                                     [key], {});\n",
              "          if (!dataTable) return;\n",
              "\n",
              "          const docLinkHtml = 'Like what you see? Visit the ' +\n",
              "            '<a target=\"_blank\" href=https://colab.research.google.com/notebooks/data_table.ipynb>data table notebook</a>'\n",
              "            + ' to learn more about interactive tables.';\n",
              "          element.innerHTML = '';\n",
              "          dataTable['output_type'] = 'display_data';\n",
              "          await google.colab.output.renderOutput(dataTable, element);\n",
              "          const docLink = document.createElement('div');\n",
              "          docLink.innerHTML = docLinkHtml;\n",
              "          element.appendChild(docLink);\n",
              "        }\n",
              "      </script>\n",
              "    </div>\n",
              "  </div>\n",
              "  "
            ],
            "text/plain": [
              "Empty DataFrame\n",
              "Columns: [subject, predicate, object]\n",
              "Index: []"
            ]
          },
          "execution_count": 166,
          "metadata": {},
          "output_type": "execute_result"
        }
      ],
      "source": [
        "# checking whether train and test splits are disjoint\n",
        "left_join_result = test_triples.merge(train_triples.drop_duplicates(), on = ['subject', 'predicate', 'object'], \n",
        "                   how = 'left', indicator = True)\n",
        "\n",
        "test_triples[left_join_result['_merge'] == 'both']"
      ]
    },
    {
      "cell_type": "code",
      "execution_count": null,
      "metadata": {
        "colab": {
          "base_uri": "https://localhost:8080/",
          "height": 49
        },
        "id": "1cHAvhu9tlx_",
        "outputId": "cb1c376a-f93a-4937-861c-a140e96be9b2"
      },
      "outputs": [
        {
          "data": {
            "text/html": [
              "\n",
              "  <div id=\"df-df5dc781-1c33-48a3-8915-daccfd14ca60\">\n",
              "    <div class=\"colab-df-container\">\n",
              "      <div>\n",
              "<style scoped>\n",
              "    .dataframe tbody tr th:only-of-type {\n",
              "        vertical-align: middle;\n",
              "    }\n",
              "\n",
              "    .dataframe tbody tr th {\n",
              "        vertical-align: top;\n",
              "    }\n",
              "\n",
              "    .dataframe thead th {\n",
              "        text-align: right;\n",
              "    }\n",
              "</style>\n",
              "<table border=\"1\" class=\"dataframe\">\n",
              "  <thead>\n",
              "    <tr style=\"text-align: right;\">\n",
              "      <th></th>\n",
              "      <th>subject</th>\n",
              "      <th>predicate</th>\n",
              "      <th>object</th>\n",
              "    </tr>\n",
              "  </thead>\n",
              "  <tbody>\n",
              "  </tbody>\n",
              "</table>\n",
              "</div>\n",
              "      <button class=\"colab-df-convert\" onclick=\"convertToInteractive('df-df5dc781-1c33-48a3-8915-daccfd14ca60')\"\n",
              "              title=\"Convert this dataframe to an interactive table.\"\n",
              "              style=\"display:none;\">\n",
              "        \n",
              "  <svg xmlns=\"http://www.w3.org/2000/svg\" height=\"24px\"viewBox=\"0 0 24 24\"\n",
              "       width=\"24px\">\n",
              "    <path d=\"M0 0h24v24H0V0z\" fill=\"none\"/>\n",
              "    <path d=\"M18.56 5.44l.94 2.06.94-2.06 2.06-.94-2.06-.94-.94-2.06-.94 2.06-2.06.94zm-11 1L8.5 8.5l.94-2.06 2.06-.94-2.06-.94L8.5 2.5l-.94 2.06-2.06.94zm10 10l.94 2.06.94-2.06 2.06-.94-2.06-.94-.94-2.06-.94 2.06-2.06.94z\"/><path d=\"M17.41 7.96l-1.37-1.37c-.4-.4-.92-.59-1.43-.59-.52 0-1.04.2-1.43.59L10.3 9.45l-7.72 7.72c-.78.78-.78 2.05 0 2.83L4 21.41c.39.39.9.59 1.41.59.51 0 1.02-.2 1.41-.59l7.78-7.78 2.81-2.81c.8-.78.8-2.07 0-2.86zM5.41 20L4 18.59l7.72-7.72 1.47 1.35L5.41 20z\"/>\n",
              "  </svg>\n",
              "      </button>\n",
              "      \n",
              "  <style>\n",
              "    .colab-df-container {\n",
              "      display:flex;\n",
              "      flex-wrap:wrap;\n",
              "      gap: 12px;\n",
              "    }\n",
              "\n",
              "    .colab-df-convert {\n",
              "      background-color: #E8F0FE;\n",
              "      border: none;\n",
              "      border-radius: 50%;\n",
              "      cursor: pointer;\n",
              "      display: none;\n",
              "      fill: #1967D2;\n",
              "      height: 32px;\n",
              "      padding: 0 0 0 0;\n",
              "      width: 32px;\n",
              "    }\n",
              "\n",
              "    .colab-df-convert:hover {\n",
              "      background-color: #E2EBFA;\n",
              "      box-shadow: 0px 1px 2px rgba(60, 64, 67, 0.3), 0px 1px 3px 1px rgba(60, 64, 67, 0.15);\n",
              "      fill: #174EA6;\n",
              "    }\n",
              "\n",
              "    [theme=dark] .colab-df-convert {\n",
              "      background-color: #3B4455;\n",
              "      fill: #D2E3FC;\n",
              "    }\n",
              "\n",
              "    [theme=dark] .colab-df-convert:hover {\n",
              "      background-color: #434B5C;\n",
              "      box-shadow: 0px 1px 3px 1px rgba(0, 0, 0, 0.15);\n",
              "      filter: drop-shadow(0px 1px 2px rgba(0, 0, 0, 0.3));\n",
              "      fill: #FFFFFF;\n",
              "    }\n",
              "  </style>\n",
              "\n",
              "      <script>\n",
              "        const buttonEl =\n",
              "          document.querySelector('#df-df5dc781-1c33-48a3-8915-daccfd14ca60 button.colab-df-convert');\n",
              "        buttonEl.style.display =\n",
              "          google.colab.kernel.accessAllowed ? 'block' : 'none';\n",
              "\n",
              "        async function convertToInteractive(key) {\n",
              "          const element = document.querySelector('#df-df5dc781-1c33-48a3-8915-daccfd14ca60');\n",
              "          const dataTable =\n",
              "            await google.colab.kernel.invokeFunction('convertToInteractive',\n",
              "                                                     [key], {});\n",
              "          if (!dataTable) return;\n",
              "\n",
              "          const docLinkHtml = 'Like what you see? Visit the ' +\n",
              "            '<a target=\"_blank\" href=https://colab.research.google.com/notebooks/data_table.ipynb>data table notebook</a>'\n",
              "            + ' to learn more about interactive tables.';\n",
              "          element.innerHTML = '';\n",
              "          dataTable['output_type'] = 'display_data';\n",
              "          await google.colab.output.renderOutput(dataTable, element);\n",
              "          const docLink = document.createElement('div');\n",
              "          docLink.innerHTML = docLinkHtml;\n",
              "          element.appendChild(docLink);\n",
              "        }\n",
              "      </script>\n",
              "    </div>\n",
              "  </div>\n",
              "  "
            ],
            "text/plain": [
              "Empty DataFrame\n",
              "Columns: [subject, predicate, object]\n",
              "Index: []"
            ]
          },
          "execution_count": 167,
          "metadata": {},
          "output_type": "execute_result"
        }
      ],
      "source": [
        "# checking whether val and test splits are disjoint\n",
        "left_join_result = test_triples.merge(validation_triples.drop_duplicates(), on = ['subject', 'predicate', 'object'], \n",
        "                   how = 'left', indicator = True)\n",
        "\n",
        "test_triples[left_join_result['_merge'] == 'both']"
      ]
    },
    {
      "cell_type": "code",
      "execution_count": null,
      "metadata": {
        "id": "pEvLeoxQvxgu"
      },
      "outputs": [],
      "source": [
        "# save final triples\n",
        "train_triples.to_csv('train_.txt', sep = '\\t', index=False, header = False)\n",
        "test_triples.to_csv('test.txt', sep = '\\t', index = False, header = False)\n",
        "validation_triples.to_csv('valid.txt', sep = '\\t', index = False, header = False)"
      ]
    },
    {
      "attachments": {},
      "cell_type": "markdown",
      "metadata": {
        "id": "PpCozDSqyDkr"
      },
      "source": [
        "## Generate TD2 dataset"
      ]
    },
    {
      "cell_type": "code",
      "execution_count": null,
      "metadata": {
        "id": "Q1_Kyo4Bx5X5"
      },
      "outputs": [],
      "source": [
        "# unique training entities\n",
        "training_entities, train_entities_counts = np.unique(train_triples[['subject', 'object']].values.flatten(), return_counts = True)"
      ]
    },
    {
      "cell_type": "code",
      "execution_count": null,
      "metadata": {
        "colab": {
          "base_uri": "https://localhost:8080/"
        },
        "id": "LLY2u90Fyxw-",
        "outputId": "ff7cb868-c22a-49af-f512-149ee984a7b0"
      },
      "outputs": [
        {
          "data": {
            "text/plain": [
              "(284355,)"
            ]
          },
          "execution_count": 188,
          "metadata": {},
          "output_type": "execute_result"
        }
      ],
      "source": [
        "training_entities.shape"
      ]
    },
    {
      "cell_type": "code",
      "execution_count": null,
      "metadata": {
        "colab": {
          "base_uri": "https://localhost:8080/"
        },
        "id": "tCwECeK8yl7R",
        "outputId": "6bd0d368-ab79-4213-e0ba-1f635950a5e9"
      },
      "outputs": [
        {
          "data": {
            "text/plain": [
              "(16489, 3)"
            ]
          },
          "execution_count": 189,
          "metadata": {},
          "output_type": "execute_result"
        }
      ],
      "source": [
        "# test filtered triples\n",
        "test_filtered_triples = test_triples[test_triples['subject'].isin(training_entities) & test_triples['object'].isin(training_entities)]\n",
        "test_filtered_triples.reset_index(drop=True, inplace=True)\n",
        "test_filtered_triples.shape"
      ]
    },
    {
      "cell_type": "code",
      "execution_count": null,
      "metadata": {
        "colab": {
          "base_uri": "https://localhost:8080/"
        },
        "id": "lBL8A7bzyn5f",
        "outputId": "7800034e-4028-419a-a6d0-45198d34c599"
      },
      "outputs": [
        {
          "data": {
            "text/plain": [
              "(10497, 3)"
            ]
          },
          "execution_count": 190,
          "metadata": {},
          "output_type": "execute_result"
        }
      ],
      "source": [
        "# val filtered triples\n",
        "validation_filtered_triples = validation_triples[validation_triples['subject'].isin(training_entities) & validation_triples['object'].isin(training_entities)]\n",
        "validation_filtered_triples.reset_index(drop=True, inplace=True)\n",
        "validation_filtered_triples.shape"
      ]
    },
    {
      "cell_type": "code",
      "execution_count": null,
      "metadata": {
        "id": "69IEs3Yk0zgq"
      },
      "outputs": [],
      "source": [
        "validation_filtered_triples.to_csv('TD2_valid_triples.txt', sep = '\\t', index = False, header = False)\n",
        "test_filtered_triples.to_csv('TD2_test_triples.txt', sep = '\\t', index = False, header = False)"
      ]
    }
  ],
  "metadata": {
    "colab": {
      "provenance": []
    },
    "kernelspec": {
      "display_name": "Python 3",
      "name": "python3"
    },
    "language_info": {
      "name": "python"
    }
  },
  "nbformat": 4,
  "nbformat_minor": 0
}
